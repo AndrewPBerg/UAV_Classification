{
 "cells": [
  {
   "cell_type": "markdown",
   "metadata": {},
   "source": [
    "# DESCRIPTION\n",
    "Experiment with MIT's AST (Audio Spectrogram Transformer) for UAV Classification. "
   ]
  },
  {
   "cell_type": "markdown",
   "metadata": {},
   "source": [
    "# NOTES\n",
    "- add inference metric to sweep loop\n",
    "- change schedular\n",
    "- more idk"
   ]
  },
  {
   "cell_type": "code",
   "execution_count": 2,
   "metadata": {},
   "outputs": [
    {
     "data": {
      "text/plain": [
       "'cuda'"
      ]
     },
     "metadata": {},
     "output_type": "display_data"
    }
   ],
   "source": [
    "from AST_helper.util import AudioDataset, train_test_split_custom, save_model\n",
    "from AST_helper.engine import sweep_train, inference_loop\n",
    "from AST_helper.model import auto_extractor, custom_AST\n",
    "from AST_helper.util import save_model # noqa: F401\n",
    "\n",
    "import torch\n",
    "from torch.utils.data import DataLoader\n",
    "import torch.optim as optim\n",
    "import torch.nn as nn\n",
    "from torchinfo import summary\n",
    "\n",
    "import wandb\n",
    "\n",
    "device = \"cuda\" if torch.cuda.is_available() else \"cpu\"\n",
    "display(device)"
   ]
  },
  {
   "cell_type": "code",
   "execution_count": 3,
   "metadata": {},
   "outputs": [],
   "source": [
    "data_path = \"C:/Users/Sidewinders/Research_notebooks/Drone_classification/Research/UAV_Dataset_9\"\n",
    "model_name = \"MIT/ast-finetuned-audioset-10-10-0.4593\"\n",
    "BATCH_SIZE = 16\n",
    "SEED = 42\n",
    "NUM_CUDA_WORKERS = 0\n",
    "NUM_CLASSES =  9 \n",
    "EPOCHS = 7\n",
    "PINNED_MEMORY = True\n",
    "SHUFFLED = True\n",
    "ACCUMULATION_STEPS = 3 # multiplies by batch size for large batch size effect.\n",
    "SAVE_MODEL = False\n",
    "PROJECT_NAME = \"AST_Sweeps\"\n",
    "\n",
    "torch.cuda.empty_cache()\n",
    "torch.manual_seed(SEED)\n",
    "torch.cuda.manual_seed(SEED)"
   ]
  },
  {
   "cell_type": "code",
   "execution_count": 4,
   "metadata": {},
   "outputs": [
    {
     "name": "stderr",
     "output_type": "stream",
     "text": [
      "wandb: Using wandb-core as the SDK backend. Please refer to https://wandb.me/wandb-core for more information.\n"
     ]
    },
    {
     "name": "stdout",
     "output_type": "stream",
     "text": [
      "Create sweep with ID: ange3go8\n",
      "Sweep URL: https://wandb.ai/andberg9-self/AST_Sweeps/sweeps/ange3go8\n"
     ]
    }
   ],
   "source": [
    "sweep_config = {\n",
    "    \"name\": \"Schedular\",\n",
    "    \"method\": \"random\",\n",
    "    \"metric\": {\"goal\": \"maximize\", \"name\": \"test_acc\"},\n",
    "    \"parameters\": {\n",
    "        \"learning_rate\": {\"distribution\":\"uniform\",\"min\": 0.0001, \"max\": 0.001},\n",
    "        \"batch_size\": {\"values\": [4,8,16,32]},\n",
    "        \"epochs\" : {\"values\" : [7]},\n",
    "        \"optimizer\" : {\"values\" : [\"adamW\"]},\n",
    "        \"scheduler\" : {\"values\" : [\"PolynomialLR\"]}\n",
    "\n",
    "        }    \n",
    "}\n",
    "sweep_id = wandb.sweep(sweep_config, project=PROJECT_NAME)\n",
    "sweep_count = 100\n"
   ]
  },
  {
   "cell_type": "code",
   "execution_count": 5,
   "metadata": {},
   "outputs": [],
   "source": [
    "def make(config):\n",
    "    # Make the data\n",
    "    feature_extractor = auto_extractor(model_name)\n",
    "\n",
    "    dataset = AudioDataset(data_path, feature_extractor)\n",
    "    train_subset, test_subset = train_test_split_custom(dataset, test_size=0.2)  # type: ignore\n",
    "\n",
    "\n",
    "    train_loader = DataLoader(dataset=train_subset, \n",
    "                                         batch_size=config.batch_size,\n",
    "                                         num_workers=NUM_CUDA_WORKERS,\n",
    "                                         pin_memory=PINNED_MEMORY,\n",
    "                                         shuffle=SHUFFLED)\n",
    "    \n",
    "    test_loader = DataLoader(dataset=test_subset,\n",
    "                                        batch_size=config.batch_size, \n",
    "                                        num_workers=NUM_CUDA_WORKERS,\n",
    "                                        pin_memory=PINNED_MEMORY,\n",
    "                                        shuffle=SHUFFLED)\n",
    "    \n",
    "    # if inference_subset: # may not be defined\n",
    "    #     inference_dataloader_custom = DataLoader(dataset=inference_subset,\n",
    "    #                                     batch_size=config.batch_size, \n",
    "    #                                     num_workers=NUM_CUDA_WORKERS,\n",
    "    #                                     pin_memory=PINNED_MEMORY,\n",
    "    #                                     shuffle=SHUFFLED) \n",
    "\n",
    "    # Make the model\n",
    "    model = custom_AST(model_name, NUM_CLASSES, device)\n",
    "\n",
    "    # Make the loss and optimizer\n",
    "    criterion = nn.CrossEntropyLoss()\n",
    "    optimizer = optim.AdamW(model.parameters(),\n",
    "                              lr=config.learning_rate)\n",
    "    \n",
    "    \n",
    "    scheduler = optim.lr_scheduler.PolynomialLR(optimizer) \n",
    "\n",
    "    return model, train_loader, test_loader, criterion, optimizer, scheduler"
   ]
  },
  {
   "cell_type": "code",
   "execution_count": 6,
   "metadata": {},
   "outputs": [],
   "source": [
    "def model_pipeline(config=None):\n",
    "\n",
    "    # tell wandb to get started\n",
    "    with wandb.init(config):\n",
    "      # access all HPs through wandb.config, so logging matches execution!\n",
    "      config = wandb.config\n",
    "      # make the model, data, and optimization problem\n",
    "      model, train_loader, test_loader, criterion, optimizer, scheduler = make(config)\n",
    "      print(model)\n",
    "\n",
    "      results = sweep_train(model,\n",
    "                      train_dataloader=train_loader,\n",
    "                      test_dataloader=test_loader,\n",
    "                      optimizer=optimizer,\n",
    "                      scheduler=scheduler,\n",
    "                      loss_fn=criterion,\n",
    "                      epochs=config.epochs, # type: ignore\n",
    "                      device=device,\n",
    "                      num_classes=NUM_CLASSES\n",
    "                      # patience=TRAIN_PATIENCE)\n",
    "                      )\n",
    "      \n",
    "      inference_loop(model=model,\n",
    "               device=device,\n",
    "               loss_fn=criterion,\n",
    "               inference_loader= train_loader)\n",
    "\n",
    "    return model, results"
   ]
  },
  {
   "cell_type": "code",
   "execution_count": 7,
   "metadata": {},
   "outputs": [
    {
     "name": "stderr",
     "output_type": "stream",
     "text": [
      "wandb: Agent Starting Run: x8ajx6v4 with config:\n",
      "wandb: \tbatch_size: 32\n",
      "wandb: \tepochs: 7\n",
      "wandb: \tlearning_rate: 0.0009319810259145844\n",
      "wandb: \toptimizer: adamW\n",
      "wandb: \tscheduler: PolynomialLR\n",
      "wandb: Currently logged in as: andberg9 (andberg9-self). Use `wandb login --relogin` to force relogin\n"
     ]
    },
    {
     "data": {
      "text/html": [
       "Tracking run with wandb version 0.18.1"
      ],
      "text/plain": [
       "<IPython.core.display.HTML object>"
      ]
     },
     "metadata": {},
     "output_type": "display_data"
    },
    {
     "data": {
      "text/html": [
       "Run data is saved locally in <code>c:\\Users\\Sidewinders\\Research_notebooks\\Drone_classification\\Research\\notebooks\\wandb\\run-20240925_104805-x8ajx6v4</code>"
      ],
      "text/plain": [
       "<IPython.core.display.HTML object>"
      ]
     },
     "metadata": {},
     "output_type": "display_data"
    },
    {
     "data": {
      "text/html": [
       "Syncing run <strong><a href='https://wandb.ai/andberg9-self/AST_Sweeps/runs/x8ajx6v4' target=\"_blank\">charmed-sweep-1</a></strong> to <a href='https://wandb.ai/andberg9-self/AST_Sweeps' target=\"_blank\">Weights & Biases</a> (<a href='https://wandb.me/run' target=\"_blank\">docs</a>)<br/>Sweep page: <a href='https://wandb.ai/andberg9-self/AST_Sweeps/sweeps/ange3go8' target=\"_blank\">https://wandb.ai/andberg9-self/AST_Sweeps/sweeps/ange3go8</a>"
      ],
      "text/plain": [
       "<IPython.core.display.HTML object>"
      ]
     },
     "metadata": {},
     "output_type": "display_data"
    },
    {
     "data": {
      "text/html": [
       " View project at <a href='https://wandb.ai/andberg9-self/AST_Sweeps' target=\"_blank\">https://wandb.ai/andberg9-self/AST_Sweeps</a>"
      ],
      "text/plain": [
       "<IPython.core.display.HTML object>"
      ]
     },
     "metadata": {},
     "output_type": "display_data"
    },
    {
     "data": {
      "text/html": [
       " View sweep at <a href='https://wandb.ai/andberg9-self/AST_Sweeps/sweeps/ange3go8' target=\"_blank\">https://wandb.ai/andberg9-self/AST_Sweeps/sweeps/ange3go8</a>"
      ],
      "text/plain": [
       "<IPython.core.display.HTML object>"
      ]
     },
     "metadata": {},
     "output_type": "display_data"
    },
    {
     "data": {
      "text/html": [
       " View run at <a href='https://wandb.ai/andberg9-self/AST_Sweeps/runs/x8ajx6v4' target=\"_blank\">https://wandb.ai/andberg9-self/AST_Sweeps/runs/x8ajx6v4</a>"
      ],
      "text/plain": [
       "<IPython.core.display.HTML object>"
      ]
     },
     "metadata": {},
     "output_type": "display_data"
    },
    {
     "name": "stdout",
     "output_type": "stream",
     "text": [
      "ASTForAudioClassification(\n",
      "  (audio_spectrogram_transformer): ASTModel(\n",
      "    (embeddings): ASTEmbeddings(\n",
      "      (patch_embeddings): ASTPatchEmbeddings(\n",
      "        (projection): Conv2d(1, 768, kernel_size=(16, 16), stride=(10, 10))\n",
      "      )\n",
      "      (dropout): Dropout(p=0.0, inplace=False)\n",
      "    )\n",
      "    (encoder): ASTEncoder(\n",
      "      (layer): ModuleList(\n",
      "        (0-11): 12 x ASTLayer(\n",
      "          (attention): ASTSdpaAttention(\n",
      "            (attention): ASTSdpaSelfAttention(\n",
      "              (query): Linear(in_features=768, out_features=768, bias=True)\n",
      "              (key): Linear(in_features=768, out_features=768, bias=True)\n",
      "              (value): Linear(in_features=768, out_features=768, bias=True)\n",
      "              (dropout): Dropout(p=0.0, inplace=False)\n",
      "            )\n",
      "            (output): ASTSelfOutput(\n",
      "              (dense): Linear(in_features=768, out_features=768, bias=True)\n",
      "              (dropout): Dropout(p=0.0, inplace=False)\n",
      "            )\n",
      "          )\n",
      "          (intermediate): ASTIntermediate(\n",
      "            (dense): Linear(in_features=768, out_features=3072, bias=True)\n",
      "            (intermediate_act_fn): GELUActivation()\n",
      "          )\n",
      "          (output): ASTOutput(\n",
      "            (dense): Linear(in_features=3072, out_features=768, bias=True)\n",
      "            (dropout): Dropout(p=0.0, inplace=False)\n",
      "          )\n",
      "          (layernorm_before): LayerNorm((768,), eps=1e-12, elementwise_affine=True)\n",
      "          (layernorm_after): LayerNorm((768,), eps=1e-12, elementwise_affine=True)\n",
      "        )\n",
      "      )\n",
      "    )\n",
      "    (layernorm): LayerNorm((768,), eps=1e-12, elementwise_affine=True)\n",
      "  )\n",
      "  (classifier): ASTMLPHead(\n",
      "    (layernorm): LayerNorm((768,), eps=1e-12, elementwise_affine=True)\n",
      "    (dense): Linear(in_features=768, out_features=9, bias=True)\n",
      "  )\n",
      ")\n"
     ]
    },
    {
     "data": {
      "application/vnd.jupyter.widget-view+json": {
       "model_id": "32a68e7eb3264afeb0b24b1589537ae2",
       "version_major": 2,
       "version_minor": 0
      },
      "text/plain": [
       "  0%|          | 0/7 [00:00<?, ?it/s]"
      ]
     },
     "metadata": {},
     "output_type": "display_data"
    },
    {
     "name": "stderr",
     "output_type": "stream",
     "text": [
      "c:\\Users\\Sidewinders\\anaconda3\\envs\\Research\\Lib\\site-packages\\transformers\\models\\audio_spectrogram_transformer\\modeling_audio_spectrogram_transformer.py:187: UserWarning: 1Torch was not compiled with flash attention. (Triggered internally at C:\\actions-runner\\_work\\pytorch\\pytorch\\builder\\windows\\pytorch\\aten\\src\\ATen\\native\\transformers\\cuda\\sdp_utils.cpp:555.)\n",
      "  context_layer = torch.nn.functional.scaled_dot_product_attention(\n"
     ]
    },
    {
     "name": "stdout",
     "output_type": "stream",
     "text": [
      "Epoch 1/7 | Train Loss: 1.9678 | Train Acc: 0.3302 | Train F1: 0.3231 | Test Loss: 1.5025 | Test Acc: 0.6573 | Test F1: 0.6406\n",
      "Epoch 2/7 | Train Loss: 1.2797 | Train Acc: 0.7541 | Train F1: 0.7407 | Test Loss: 1.0364 | Test Acc: 0.8656 | Test F1: 0.8624\n",
      "Epoch 3/7 | Train Loss: 0.9422 | Train Acc: 0.8356 | Train F1: 0.8370 | Test Loss: 0.8319 | Test Acc: 0.8823 | Test F1: 0.8801\n",
      "Epoch 4/7 | Train Loss: 0.7778 | Train Acc: 0.8546 | Train F1: 0.8556 | Test Loss: 0.7199 | Test Acc: 0.9052 | Test F1: 0.9056\n",
      "Epoch 5/7 | Train Loss: 0.6997 | Train Acc: 0.8750 | Train F1: 0.8719 | Test Loss: 0.6742 | Test Acc: 0.8948 | Test F1: 0.8949\n",
      "Epoch 6/7 | Train Loss: 0.6797 | Train Acc: 0.8736 | Train F1: 0.8760 | Test Loss: 0.6760 | Test Acc: 0.9010 | Test F1: 0.8949\n",
      "Epoch 7/7 | Train Loss: 0.6735 | Train Acc: 0.8791 | Train F1: 0.8760 | Test Loss: 0.6724 | Test Acc: 0.8979 | Test F1: 0.8949\n",
      "Train time on cuda: 341.9821492000003\n"
     ]
    },
    {
     "name": "stderr",
     "output_type": "stream",
     "text": [
      "c:\\Users\\Sidewinders\\Research_notebooks\\Drone_classification\\Research\\notebooks\\AST_helper\\engine.py:263: FutureWarning: `torch.cuda.amp.autocast(args...)` is deprecated. Please use `torch.amp.autocast('cuda', args...)` instead.\n",
      "  with torch.cuda.amp.autocast():\n"
     ]
    },
    {
     "name": "stdout",
     "output_type": "stream",
     "text": [
      "Inference Loss: 0.6798, Accuracy: 87.64%\n"
     ]
    },
    {
     "data": {
      "application/vnd.jupyter.widget-view+json": {
       "model_id": "cc470ec1ce46431b9c465da8b61edf6b",
       "version_major": 2,
       "version_minor": 0
      },
      "text/plain": [
       "VBox(children=(Label(value='0.009 MB of 0.009 MB uploaded\\r'), FloatProgress(value=1.0, max=1.0)))"
      ]
     },
     "metadata": {},
     "output_type": "display_data"
    },
    {
     "data": {
      "text/html": [
       "<style>\n",
       "    table.wandb td:nth-child(1) { padding: 0 10px; text-align: left ; width: auto;} td:nth-child(2) {text-align: left ; width: 100%}\n",
       "    .wandb-row { display: flex; flex-direction: row; flex-wrap: wrap; justify-content: flex-start; width: 100% }\n",
       "    .wandb-col { display: flex; flex-direction: column; flex-basis: 100%; flex: 1; padding: 10px; }\n",
       "    </style>\n",
       "<div class=\"wandb-row\"><div class=\"wandb-col\"><h3>Run history:</h3><br/><table class=\"wandb\"><tr><td>epoch</td><td>▁▂▃▅▆▇█</td></tr><tr><td>inference_accuracy</td><td>▁</td></tr><tr><td>inference_loss</td><td>▁</td></tr><tr><td>test_acc</td><td>▁▇▇████</td></tr><tr><td>test_f1</td><td>▁▇▇████</td></tr><tr><td>test_loss</td><td>█▄▂▁▁▁▁</td></tr><tr><td>test_precision</td><td>▁▇▇█▇▇▇</td></tr><tr><td>test_recall</td><td>▁▇▇████</td></tr><tr><td>train_acc</td><td>▁▆▇████</td></tr><tr><td>train_f1</td><td>▁▆█████</td></tr><tr><td>train_loss</td><td>█▄▂▂▁▁▁</td></tr><tr><td>train_precision</td><td>▁▆█████</td></tr><tr><td>train_recall</td><td>▁▆▇████</td></tr></table><br/></div><div class=\"wandb-col\"><h3>Run summary:</h3><br/><table class=\"wandb\"><tr><td>epoch</td><td>7</td></tr><tr><td>inference_accuracy</td><td>0.87639</td></tr><tr><td>inference_loss</td><td>0.67983</td></tr><tr><td>test_acc</td><td>0.89792</td></tr><tr><td>test_f1</td><td>0.89487</td></tr><tr><td>test_loss</td><td>0.67239</td></tr><tr><td>test_precision</td><td>0.90103</td></tr><tr><td>test_recall</td><td>0.89444</td></tr><tr><td>train_acc</td><td>0.87908</td></tr><tr><td>train_f1</td><td>0.87599</td></tr><tr><td>train_loss</td><td>0.6735</td></tr><tr><td>train_precision</td><td>0.87761</td></tr><tr><td>train_recall</td><td>0.87639</td></tr><tr><td>train_time</td><td>00:05:41</td></tr></table><br/></div></div>"
      ],
      "text/plain": [
       "<IPython.core.display.HTML object>"
      ]
     },
     "metadata": {},
     "output_type": "display_data"
    },
    {
     "data": {
      "text/html": [
       " View run <strong style=\"color:#cdcd00\">charmed-sweep-1</strong> at: <a href='https://wandb.ai/andberg9-self/AST_Sweeps/runs/x8ajx6v4' target=\"_blank\">https://wandb.ai/andberg9-self/AST_Sweeps/runs/x8ajx6v4</a><br/> View project at: <a href='https://wandb.ai/andberg9-self/AST_Sweeps' target=\"_blank\">https://wandb.ai/andberg9-self/AST_Sweeps</a><br/>Synced 5 W&B file(s), 0 media file(s), 0 artifact file(s) and 0 other file(s)"
      ],
      "text/plain": [
       "<IPython.core.display.HTML object>"
      ]
     },
     "metadata": {},
     "output_type": "display_data"
    },
    {
     "data": {
      "text/html": [
       "Find logs at: <code>.\\wandb\\run-20240925_104805-x8ajx6v4\\logs</code>"
      ],
      "text/plain": [
       "<IPython.core.display.HTML object>"
      ]
     },
     "metadata": {},
     "output_type": "display_data"
    },
    {
     "name": "stderr",
     "output_type": "stream",
     "text": [
      "wandb: Agent Starting Run: 3cu641k7 with config:\n",
      "wandb: \tbatch_size: 16\n",
      "wandb: \tepochs: 7\n",
      "wandb: \tlearning_rate: 0.00039584770002913807\n",
      "wandb: \toptimizer: adamW\n",
      "wandb: \tscheduler: PolynomialLR\n"
     ]
    },
    {
     "data": {
      "text/html": [
       "Tracking run with wandb version 0.18.1"
      ],
      "text/plain": [
       "<IPython.core.display.HTML object>"
      ]
     },
     "metadata": {},
     "output_type": "display_data"
    },
    {
     "data": {
      "text/html": [
       "Run data is saved locally in <code>c:\\Users\\Sidewinders\\Research_notebooks\\Drone_classification\\Research\\notebooks\\wandb\\run-20240925_105413-3cu641k7</code>"
      ],
      "text/plain": [
       "<IPython.core.display.HTML object>"
      ]
     },
     "metadata": {},
     "output_type": "display_data"
    },
    {
     "data": {
      "text/html": [
       "Syncing run <strong><a href='https://wandb.ai/andberg9-self/AST_Sweeps/runs/3cu641k7' target=\"_blank\">fluent-sweep-2</a></strong> to <a href='https://wandb.ai/andberg9-self/AST_Sweeps' target=\"_blank\">Weights & Biases</a> (<a href='https://wandb.me/run' target=\"_blank\">docs</a>)<br/>Sweep page: <a href='https://wandb.ai/andberg9-self/AST_Sweeps/sweeps/ange3go8' target=\"_blank\">https://wandb.ai/andberg9-self/AST_Sweeps/sweeps/ange3go8</a>"
      ],
      "text/plain": [
       "<IPython.core.display.HTML object>"
      ]
     },
     "metadata": {},
     "output_type": "display_data"
    },
    {
     "data": {
      "text/html": [
       " View project at <a href='https://wandb.ai/andberg9-self/AST_Sweeps' target=\"_blank\">https://wandb.ai/andberg9-self/AST_Sweeps</a>"
      ],
      "text/plain": [
       "<IPython.core.display.HTML object>"
      ]
     },
     "metadata": {},
     "output_type": "display_data"
    },
    {
     "data": {
      "text/html": [
       " View sweep at <a href='https://wandb.ai/andberg9-self/AST_Sweeps/sweeps/ange3go8' target=\"_blank\">https://wandb.ai/andberg9-self/AST_Sweeps/sweeps/ange3go8</a>"
      ],
      "text/plain": [
       "<IPython.core.display.HTML object>"
      ]
     },
     "metadata": {},
     "output_type": "display_data"
    },
    {
     "data": {
      "text/html": [
       " View run at <a href='https://wandb.ai/andberg9-self/AST_Sweeps/runs/3cu641k7' target=\"_blank\">https://wandb.ai/andberg9-self/AST_Sweeps/runs/3cu641k7</a>"
      ],
      "text/plain": [
       "<IPython.core.display.HTML object>"
      ]
     },
     "metadata": {},
     "output_type": "display_data"
    },
    {
     "name": "stdout",
     "output_type": "stream",
     "text": [
      "ASTForAudioClassification(\n",
      "  (audio_spectrogram_transformer): ASTModel(\n",
      "    (embeddings): ASTEmbeddings(\n",
      "      (patch_embeddings): ASTPatchEmbeddings(\n",
      "        (projection): Conv2d(1, 768, kernel_size=(16, 16), stride=(10, 10))\n",
      "      )\n",
      "      (dropout): Dropout(p=0.0, inplace=False)\n",
      "    )\n",
      "    (encoder): ASTEncoder(\n",
      "      (layer): ModuleList(\n",
      "        (0-11): 12 x ASTLayer(\n",
      "          (attention): ASTSdpaAttention(\n",
      "            (attention): ASTSdpaSelfAttention(\n",
      "              (query): Linear(in_features=768, out_features=768, bias=True)\n",
      "              (key): Linear(in_features=768, out_features=768, bias=True)\n",
      "              (value): Linear(in_features=768, out_features=768, bias=True)\n",
      "              (dropout): Dropout(p=0.0, inplace=False)\n",
      "            )\n",
      "            (output): ASTSelfOutput(\n",
      "              (dense): Linear(in_features=768, out_features=768, bias=True)\n",
      "              (dropout): Dropout(p=0.0, inplace=False)\n",
      "            )\n",
      "          )\n",
      "          (intermediate): ASTIntermediate(\n",
      "            (dense): Linear(in_features=768, out_features=3072, bias=True)\n",
      "            (intermediate_act_fn): GELUActivation()\n",
      "          )\n",
      "          (output): ASTOutput(\n",
      "            (dense): Linear(in_features=3072, out_features=768, bias=True)\n",
      "            (dropout): Dropout(p=0.0, inplace=False)\n",
      "          )\n",
      "          (layernorm_before): LayerNorm((768,), eps=1e-12, elementwise_affine=True)\n",
      "          (layernorm_after): LayerNorm((768,), eps=1e-12, elementwise_affine=True)\n",
      "        )\n",
      "      )\n",
      "    )\n",
      "    (layernorm): LayerNorm((768,), eps=1e-12, elementwise_affine=True)\n",
      "  )\n",
      "  (classifier): ASTMLPHead(\n",
      "    (layernorm): LayerNorm((768,), eps=1e-12, elementwise_affine=True)\n",
      "    (dense): Linear(in_features=768, out_features=9, bias=True)\n",
      "  )\n",
      ")\n"
     ]
    },
    {
     "data": {
      "application/vnd.jupyter.widget-view+json": {
       "model_id": "38a2910f10c546be9cdead19d19c1eb5",
       "version_major": 2,
       "version_minor": 0
      },
      "text/plain": [
       "  0%|          | 0/7 [00:00<?, ?it/s]"
      ]
     },
     "metadata": {},
     "output_type": "display_data"
    },
    {
     "name": "stdout",
     "output_type": "stream",
     "text": [
      "Epoch 1/7 | Train Loss: 2.0258 | Train Acc: 0.2764 | Train F1: 0.2572 | Test Loss: 1.7099 | Test Acc: 0.4635 | Test F1: 0.4353\n",
      "Epoch 2/7 | Train Loss: 1.4173 | Train Acc: 0.6722 | Train F1: 0.6587 | Test Loss: 1.2443 | Test Acc: 0.8073 | Test F1: 0.7835\n",
      "Epoch 3/7 | Train Loss: 1.0886 | Train Acc: 0.8208 | Train F1: 0.8169 | Test Loss: 1.0320 | Test Acc: 0.8542 | Test F1: 0.8404\n",
      "Epoch 4/7 | Train Loss: 0.9254 | Train Acc: 0.8625 | Train F1: 0.8612 | Test Loss: 0.9177 | Test Acc: 0.8698 | Test F1: 0.8586\n",
      "Epoch 5/7 | Train Loss: 0.8471 | Train Acc: 0.8764 | Train F1: 0.8754 | Test Loss: 0.8619 | Test Acc: 0.8750 | Test F1: 0.8641\n",
      "Epoch 6/7 | Train Loss: 0.8230 | Train Acc: 0.8806 | Train F1: 0.8796 | Test Loss: 0.8730 | Test Acc: 0.8750 | Test F1: 0.8641\n",
      "Epoch 7/7 | Train Loss: 0.8230 | Train Acc: 0.8806 | Train F1: 0.8796 | Test Loss: 0.8630 | Test Acc: 0.8750 | Test F1: 0.8641\n",
      "Train time on cuda: 333.5204988999999\n",
      "Inference Loss: 0.8230, Accuracy: 87.92%\n"
     ]
    },
    {
     "data": {
      "application/vnd.jupyter.widget-view+json": {
       "model_id": "d3a0b0b6d90548beb94c1822ec6ab0fa",
       "version_major": 2,
       "version_minor": 0
      },
      "text/plain": [
       "VBox(children=(Label(value='0.008 MB of 0.008 MB uploaded\\r'), FloatProgress(value=1.0, max=1.0)))"
      ]
     },
     "metadata": {},
     "output_type": "display_data"
    },
    {
     "data": {
      "text/html": [
       "<style>\n",
       "    table.wandb td:nth-child(1) { padding: 0 10px; text-align: left ; width: auto;} td:nth-child(2) {text-align: left ; width: 100%}\n",
       "    .wandb-row { display: flex; flex-direction: row; flex-wrap: wrap; justify-content: flex-start; width: 100% }\n",
       "    .wandb-col { display: flex; flex-direction: column; flex-basis: 100%; flex: 1; padding: 10px; }\n",
       "    </style>\n",
       "<div class=\"wandb-row\"><div class=\"wandb-col\"><h3>Run history:</h3><br/><table class=\"wandb\"><tr><td>epoch</td><td>▁▂▃▅▆▇█</td></tr><tr><td>inference_accuracy</td><td>▁</td></tr><tr><td>inference_loss</td><td>▁</td></tr><tr><td>test_acc</td><td>▁▇█████</td></tr><tr><td>test_f1</td><td>▁▇█████</td></tr><tr><td>test_loss</td><td>█▄▂▁▁▁▁</td></tr><tr><td>test_precision</td><td>▁▆█████</td></tr><tr><td>test_recall</td><td>▁▇█████</td></tr><tr><td>train_acc</td><td>▁▆▇████</td></tr><tr><td>train_f1</td><td>▁▆▇████</td></tr><tr><td>train_loss</td><td>█▄▃▂▁▁▁</td></tr><tr><td>train_precision</td><td>▁▆▇████</td></tr><tr><td>train_recall</td><td>▁▆▇████</td></tr></table><br/></div><div class=\"wandb-col\"><h3>Run summary:</h3><br/><table class=\"wandb\"><tr><td>epoch</td><td>7</td></tr><tr><td>inference_accuracy</td><td>0.87917</td></tr><tr><td>inference_loss</td><td>0.82297</td></tr><tr><td>test_acc</td><td>0.875</td></tr><tr><td>test_f1</td><td>0.86415</td></tr><tr><td>test_loss</td><td>0.86305</td></tr><tr><td>test_precision</td><td>0.87679</td></tr><tr><td>test_recall</td><td>0.86667</td></tr><tr><td>train_acc</td><td>0.88056</td></tr><tr><td>train_f1</td><td>0.87961</td></tr><tr><td>train_loss</td><td>0.82297</td></tr><tr><td>train_precision</td><td>0.8827</td></tr><tr><td>train_recall</td><td>0.88056</td></tr><tr><td>train_time</td><td>00:05:33</td></tr></table><br/></div></div>"
      ],
      "text/plain": [
       "<IPython.core.display.HTML object>"
      ]
     },
     "metadata": {},
     "output_type": "display_data"
    },
    {
     "data": {
      "text/html": [
       " View run <strong style=\"color:#cdcd00\">fluent-sweep-2</strong> at: <a href='https://wandb.ai/andberg9-self/AST_Sweeps/runs/3cu641k7' target=\"_blank\">https://wandb.ai/andberg9-self/AST_Sweeps/runs/3cu641k7</a><br/> View project at: <a href='https://wandb.ai/andberg9-self/AST_Sweeps' target=\"_blank\">https://wandb.ai/andberg9-self/AST_Sweeps</a><br/>Synced 5 W&B file(s), 0 media file(s), 0 artifact file(s) and 0 other file(s)"
      ],
      "text/plain": [
       "<IPython.core.display.HTML object>"
      ]
     },
     "metadata": {},
     "output_type": "display_data"
    },
    {
     "data": {
      "text/html": [
       "Find logs at: <code>.\\wandb\\run-20240925_105413-3cu641k7\\logs</code>"
      ],
      "text/plain": [
       "<IPython.core.display.HTML object>"
      ]
     },
     "metadata": {},
     "output_type": "display_data"
    },
    {
     "name": "stderr",
     "output_type": "stream",
     "text": [
      "wandb: Agent Starting Run: 2msge95t with config:\n",
      "wandb: \tbatch_size: 32\n",
      "wandb: \tepochs: 7\n",
      "wandb: \tlearning_rate: 0.0007529002329143164\n",
      "wandb: \toptimizer: adamW\n",
      "wandb: \tscheduler: PolynomialLR\n"
     ]
    },
    {
     "data": {
      "text/html": [
       "Tracking run with wandb version 0.18.1"
      ],
      "text/plain": [
       "<IPython.core.display.HTML object>"
      ]
     },
     "metadata": {},
     "output_type": "display_data"
    },
    {
     "data": {
      "text/html": [
       "Run data is saved locally in <code>c:\\Users\\Sidewinders\\Research_notebooks\\Drone_classification\\Research\\notebooks\\wandb\\run-20240925_110010-2msge95t</code>"
      ],
      "text/plain": [
       "<IPython.core.display.HTML object>"
      ]
     },
     "metadata": {},
     "output_type": "display_data"
    },
    {
     "data": {
      "text/html": [
       "Syncing run <strong><a href='https://wandb.ai/andberg9-self/AST_Sweeps/runs/2msge95t' target=\"_blank\">pious-sweep-3</a></strong> to <a href='https://wandb.ai/andberg9-self/AST_Sweeps' target=\"_blank\">Weights & Biases</a> (<a href='https://wandb.me/run' target=\"_blank\">docs</a>)<br/>Sweep page: <a href='https://wandb.ai/andberg9-self/AST_Sweeps/sweeps/ange3go8' target=\"_blank\">https://wandb.ai/andberg9-self/AST_Sweeps/sweeps/ange3go8</a>"
      ],
      "text/plain": [
       "<IPython.core.display.HTML object>"
      ]
     },
     "metadata": {},
     "output_type": "display_data"
    },
    {
     "data": {
      "text/html": [
       " View project at <a href='https://wandb.ai/andberg9-self/AST_Sweeps' target=\"_blank\">https://wandb.ai/andberg9-self/AST_Sweeps</a>"
      ],
      "text/plain": [
       "<IPython.core.display.HTML object>"
      ]
     },
     "metadata": {},
     "output_type": "display_data"
    },
    {
     "data": {
      "text/html": [
       " View sweep at <a href='https://wandb.ai/andberg9-self/AST_Sweeps/sweeps/ange3go8' target=\"_blank\">https://wandb.ai/andberg9-self/AST_Sweeps/sweeps/ange3go8</a>"
      ],
      "text/plain": [
       "<IPython.core.display.HTML object>"
      ]
     },
     "metadata": {},
     "output_type": "display_data"
    },
    {
     "data": {
      "text/html": [
       " View run at <a href='https://wandb.ai/andberg9-self/AST_Sweeps/runs/2msge95t' target=\"_blank\">https://wandb.ai/andberg9-self/AST_Sweeps/runs/2msge95t</a>"
      ],
      "text/plain": [
       "<IPython.core.display.HTML object>"
      ]
     },
     "metadata": {},
     "output_type": "display_data"
    },
    {
     "name": "stdout",
     "output_type": "stream",
     "text": [
      "ASTForAudioClassification(\n",
      "  (audio_spectrogram_transformer): ASTModel(\n",
      "    (embeddings): ASTEmbeddings(\n",
      "      (patch_embeddings): ASTPatchEmbeddings(\n",
      "        (projection): Conv2d(1, 768, kernel_size=(16, 16), stride=(10, 10))\n",
      "      )\n",
      "      (dropout): Dropout(p=0.0, inplace=False)\n",
      "    )\n",
      "    (encoder): ASTEncoder(\n",
      "      (layer): ModuleList(\n",
      "        (0-11): 12 x ASTLayer(\n",
      "          (attention): ASTSdpaAttention(\n",
      "            (attention): ASTSdpaSelfAttention(\n",
      "              (query): Linear(in_features=768, out_features=768, bias=True)\n",
      "              (key): Linear(in_features=768, out_features=768, bias=True)\n",
      "              (value): Linear(in_features=768, out_features=768, bias=True)\n",
      "              (dropout): Dropout(p=0.0, inplace=False)\n",
      "            )\n",
      "            (output): ASTSelfOutput(\n",
      "              (dense): Linear(in_features=768, out_features=768, bias=True)\n",
      "              (dropout): Dropout(p=0.0, inplace=False)\n",
      "            )\n",
      "          )\n",
      "          (intermediate): ASTIntermediate(\n",
      "            (dense): Linear(in_features=768, out_features=3072, bias=True)\n",
      "            (intermediate_act_fn): GELUActivation()\n",
      "          )\n",
      "          (output): ASTOutput(\n",
      "            (dense): Linear(in_features=3072, out_features=768, bias=True)\n",
      "            (dropout): Dropout(p=0.0, inplace=False)\n",
      "          )\n",
      "          (layernorm_before): LayerNorm((768,), eps=1e-12, elementwise_affine=True)\n",
      "          (layernorm_after): LayerNorm((768,), eps=1e-12, elementwise_affine=True)\n",
      "        )\n",
      "      )\n",
      "    )\n",
      "    (layernorm): LayerNorm((768,), eps=1e-12, elementwise_affine=True)\n",
      "  )\n",
      "  (classifier): ASTMLPHead(\n",
      "    (layernorm): LayerNorm((768,), eps=1e-12, elementwise_affine=True)\n",
      "    (dense): Linear(in_features=768, out_features=9, bias=True)\n",
      "  )\n",
      ")\n"
     ]
    },
    {
     "data": {
      "application/vnd.jupyter.widget-view+json": {
       "model_id": "2a5f0f2285834fdfbc07399ab29b537a",
       "version_major": 2,
       "version_minor": 0
      },
      "text/plain": [
       "  0%|          | 0/7 [00:00<?, ?it/s]"
      ]
     },
     "metadata": {},
     "output_type": "display_data"
    },
    {
     "name": "stdout",
     "output_type": "stream",
     "text": [
      "Epoch 1/7 | Train Loss: 1.8008 | Train Acc: 0.4497 | Train F1: 0.4118 | Test Loss: 1.5052 | Test Acc: 0.6115 | Test F1: 0.5540\n",
      "Epoch 2/7 | Train Loss: 1.2801 | Train Acc: 0.7201 | Train F1: 0.7003 | Test Loss: 1.1303 | Test Acc: 0.7500 | Test F1: 0.7239\n",
      "Epoch 3/7 | Train Loss: 0.9906 | Train Acc: 0.8179 | Train F1: 0.8129 | Test Loss: 0.9448 | Test Acc: 0.8125 | Test F1: 0.8082\n",
      "Epoch 4/7 | Train Loss: 0.8514 | Train Acc: 0.8492 | Train F1: 0.8435 | Test Loss: 0.8470 | Test Acc: 0.8302 | Test F1: 0.8363\n",
      "Epoch 5/7 | Train Loss: 0.7826 | Train Acc: 0.8668 | Train F1: 0.8645 | Test Loss: 0.8014 | Test Acc: 0.8500 | Test F1: 0.8479\n",
      "Epoch 6/7 | Train Loss: 0.7598 | Train Acc: 0.8682 | Train F1: 0.8659 | Test Loss: 0.8030 | Test Acc: 0.8531 | Test F1: 0.8479\n",
      "Epoch 7/7 | Train Loss: 0.7607 | Train Acc: 0.8668 | Train F1: 0.8659 | Test Loss: 0.7994 | Test Acc: 0.8563 | Test F1: 0.8479\n",
      "Train time on cuda: 334.6163984\n",
      "Inference Loss: 0.7569, Accuracy: 86.67%\n"
     ]
    },
    {
     "data": {
      "application/vnd.jupyter.widget-view+json": {
       "model_id": "d3493dba013e45a4897badce2d5809cf",
       "version_major": 2,
       "version_minor": 0
      },
      "text/plain": [
       "VBox(children=(Label(value='0.008 MB of 0.008 MB uploaded\\r'), FloatProgress(value=1.0, max=1.0)))"
      ]
     },
     "metadata": {},
     "output_type": "display_data"
    },
    {
     "data": {
      "text/html": [
       "<style>\n",
       "    table.wandb td:nth-child(1) { padding: 0 10px; text-align: left ; width: auto;} td:nth-child(2) {text-align: left ; width: 100%}\n",
       "    .wandb-row { display: flex; flex-direction: row; flex-wrap: wrap; justify-content: flex-start; width: 100% }\n",
       "    .wandb-col { display: flex; flex-direction: column; flex-basis: 100%; flex: 1; padding: 10px; }\n",
       "    </style>\n",
       "<div class=\"wandb-row\"><div class=\"wandb-col\"><h3>Run history:</h3><br/><table class=\"wandb\"><tr><td>epoch</td><td>▁▂▃▅▆▇█</td></tr><tr><td>inference_accuracy</td><td>▁</td></tr><tr><td>inference_loss</td><td>▁</td></tr><tr><td>test_acc</td><td>▁▅▇▇███</td></tr><tr><td>test_f1</td><td>▁▅▇████</td></tr><tr><td>test_loss</td><td>█▄▂▁▁▁▁</td></tr><tr><td>test_precision</td><td>▁▅▇████</td></tr><tr><td>test_recall</td><td>▁▅▇████</td></tr><tr><td>train_acc</td><td>▁▆▇████</td></tr><tr><td>train_f1</td><td>▁▅▇████</td></tr><tr><td>train_loss</td><td>█▄▃▂▁▁▁</td></tr><tr><td>train_precision</td><td>▁▆▇████</td></tr><tr><td>train_recall</td><td>▁▆▇████</td></tr></table><br/></div><div class=\"wandb-col\"><h3>Run summary:</h3><br/><table class=\"wandb\"><tr><td>epoch</td><td>7</td></tr><tr><td>inference_accuracy</td><td>0.86667</td></tr><tr><td>inference_loss</td><td>0.75685</td></tr><tr><td>test_acc</td><td>0.85625</td></tr><tr><td>test_f1</td><td>0.84792</td></tr><tr><td>test_loss</td><td>0.7994</td></tr><tr><td>test_precision</td><td>0.86136</td></tr><tr><td>test_recall</td><td>0.85</td></tr><tr><td>train_acc</td><td>0.86685</td></tr><tr><td>train_f1</td><td>0.86595</td></tr><tr><td>train_loss</td><td>0.76073</td></tr><tr><td>train_precision</td><td>0.86851</td></tr><tr><td>train_recall</td><td>0.86667</td></tr><tr><td>train_time</td><td>00:05:34</td></tr></table><br/></div></div>"
      ],
      "text/plain": [
       "<IPython.core.display.HTML object>"
      ]
     },
     "metadata": {},
     "output_type": "display_data"
    },
    {
     "data": {
      "text/html": [
       " View run <strong style=\"color:#cdcd00\">pious-sweep-3</strong> at: <a href='https://wandb.ai/andberg9-self/AST_Sweeps/runs/2msge95t' target=\"_blank\">https://wandb.ai/andberg9-self/AST_Sweeps/runs/2msge95t</a><br/> View project at: <a href='https://wandb.ai/andberg9-self/AST_Sweeps' target=\"_blank\">https://wandb.ai/andberg9-self/AST_Sweeps</a><br/>Synced 5 W&B file(s), 0 media file(s), 0 artifact file(s) and 0 other file(s)"
      ],
      "text/plain": [
       "<IPython.core.display.HTML object>"
      ]
     },
     "metadata": {},
     "output_type": "display_data"
    },
    {
     "data": {
      "text/html": [
       "Find logs at: <code>.\\wandb\\run-20240925_110010-2msge95t\\logs</code>"
      ],
      "text/plain": [
       "<IPython.core.display.HTML object>"
      ]
     },
     "metadata": {},
     "output_type": "display_data"
    },
    {
     "name": "stderr",
     "output_type": "stream",
     "text": [
      "wandb: Agent Starting Run: 24n7egxo with config:\n",
      "wandb: \tbatch_size: 32\n",
      "wandb: \tepochs: 7\n",
      "wandb: \tlearning_rate: 0.0007039213252775477\n",
      "wandb: \toptimizer: adamW\n",
      "wandb: \tscheduler: PolynomialLR\n"
     ]
    },
    {
     "data": {
      "text/html": [
       "Tracking run with wandb version 0.18.1"
      ],
      "text/plain": [
       "<IPython.core.display.HTML object>"
      ]
     },
     "metadata": {},
     "output_type": "display_data"
    },
    {
     "data": {
      "text/html": [
       "Run data is saved locally in <code>c:\\Users\\Sidewinders\\Research_notebooks\\Drone_classification\\Research\\notebooks\\wandb\\run-20240925_110607-24n7egxo</code>"
      ],
      "text/plain": [
       "<IPython.core.display.HTML object>"
      ]
     },
     "metadata": {},
     "output_type": "display_data"
    },
    {
     "data": {
      "text/html": [
       "Syncing run <strong><a href='https://wandb.ai/andberg9-self/AST_Sweeps/runs/24n7egxo' target=\"_blank\">warm-sweep-4</a></strong> to <a href='https://wandb.ai/andberg9-self/AST_Sweeps' target=\"_blank\">Weights & Biases</a> (<a href='https://wandb.me/run' target=\"_blank\">docs</a>)<br/>Sweep page: <a href='https://wandb.ai/andberg9-self/AST_Sweeps/sweeps/ange3go8' target=\"_blank\">https://wandb.ai/andberg9-self/AST_Sweeps/sweeps/ange3go8</a>"
      ],
      "text/plain": [
       "<IPython.core.display.HTML object>"
      ]
     },
     "metadata": {},
     "output_type": "display_data"
    },
    {
     "data": {
      "text/html": [
       " View project at <a href='https://wandb.ai/andberg9-self/AST_Sweeps' target=\"_blank\">https://wandb.ai/andberg9-self/AST_Sweeps</a>"
      ],
      "text/plain": [
       "<IPython.core.display.HTML object>"
      ]
     },
     "metadata": {},
     "output_type": "display_data"
    },
    {
     "data": {
      "text/html": [
       " View sweep at <a href='https://wandb.ai/andberg9-self/AST_Sweeps/sweeps/ange3go8' target=\"_blank\">https://wandb.ai/andberg9-self/AST_Sweeps/sweeps/ange3go8</a>"
      ],
      "text/plain": [
       "<IPython.core.display.HTML object>"
      ]
     },
     "metadata": {},
     "output_type": "display_data"
    },
    {
     "data": {
      "text/html": [
       " View run at <a href='https://wandb.ai/andberg9-self/AST_Sweeps/runs/24n7egxo' target=\"_blank\">https://wandb.ai/andberg9-self/AST_Sweeps/runs/24n7egxo</a>"
      ],
      "text/plain": [
       "<IPython.core.display.HTML object>"
      ]
     },
     "metadata": {},
     "output_type": "display_data"
    },
    {
     "name": "stdout",
     "output_type": "stream",
     "text": [
      "ASTForAudioClassification(\n",
      "  (audio_spectrogram_transformer): ASTModel(\n",
      "    (embeddings): ASTEmbeddings(\n",
      "      (patch_embeddings): ASTPatchEmbeddings(\n",
      "        (projection): Conv2d(1, 768, kernel_size=(16, 16), stride=(10, 10))\n",
      "      )\n",
      "      (dropout): Dropout(p=0.0, inplace=False)\n",
      "    )\n",
      "    (encoder): ASTEncoder(\n",
      "      (layer): ModuleList(\n",
      "        (0-11): 12 x ASTLayer(\n",
      "          (attention): ASTSdpaAttention(\n",
      "            (attention): ASTSdpaSelfAttention(\n",
      "              (query): Linear(in_features=768, out_features=768, bias=True)\n",
      "              (key): Linear(in_features=768, out_features=768, bias=True)\n",
      "              (value): Linear(in_features=768, out_features=768, bias=True)\n",
      "              (dropout): Dropout(p=0.0, inplace=False)\n",
      "            )\n",
      "            (output): ASTSelfOutput(\n",
      "              (dense): Linear(in_features=768, out_features=768, bias=True)\n",
      "              (dropout): Dropout(p=0.0, inplace=False)\n",
      "            )\n",
      "          )\n",
      "          (intermediate): ASTIntermediate(\n",
      "            (dense): Linear(in_features=768, out_features=3072, bias=True)\n",
      "            (intermediate_act_fn): GELUActivation()\n",
      "          )\n",
      "          (output): ASTOutput(\n",
      "            (dense): Linear(in_features=3072, out_features=768, bias=True)\n",
      "            (dropout): Dropout(p=0.0, inplace=False)\n",
      "          )\n",
      "          (layernorm_before): LayerNorm((768,), eps=1e-12, elementwise_affine=True)\n",
      "          (layernorm_after): LayerNorm((768,), eps=1e-12, elementwise_affine=True)\n",
      "        )\n",
      "      )\n",
      "    )\n",
      "    (layernorm): LayerNorm((768,), eps=1e-12, elementwise_affine=True)\n",
      "  )\n",
      "  (classifier): ASTMLPHead(\n",
      "    (layernorm): LayerNorm((768,), eps=1e-12, elementwise_affine=True)\n",
      "    (dense): Linear(in_features=768, out_features=9, bias=True)\n",
      "  )\n",
      ")\n"
     ]
    },
    {
     "data": {
      "application/vnd.jupyter.widget-view+json": {
       "model_id": "0f94e80f29884e6ca83b81278923365c",
       "version_major": 2,
       "version_minor": 0
      },
      "text/plain": [
       "  0%|          | 0/7 [00:00<?, ?it/s]"
      ]
     },
     "metadata": {},
     "output_type": "display_data"
    },
    {
     "name": "stdout",
     "output_type": "stream",
     "text": [
      "Epoch 1/7 | Train Loss: 1.8895 | Train Acc: 0.3736 | Train F1: 0.3714 | Test Loss: 1.5035 | Test Acc: 0.6802 | Test F1: 0.6723\n",
      "Epoch 2/7 | Train Loss: 1.3608 | Train Acc: 0.7364 | Train F1: 0.7321 | Test Loss: 1.1796 | Test Acc: 0.8042 | Test F1: 0.7748\n",
      "Epoch 3/7 | Train Loss: 1.0601 | Train Acc: 0.8111 | Train F1: 0.8026 | Test Loss: 0.9864 | Test Acc: 0.8417 | Test F1: 0.8253\n",
      "Epoch 4/7 | Train Loss: 0.9016 | Train Acc: 0.8383 | Train F1: 0.8343 | Test Loss: 0.8727 | Test Acc: 0.8729 | Test F1: 0.8688\n",
      "Epoch 5/7 | Train Loss: 0.8309 | Train Acc: 0.8573 | Train F1: 0.8583 | Test Loss: 0.8126 | Test Acc: 0.8875 | Test F1: 0.8762\n",
      "Epoch 6/7 | Train Loss: 0.7996 | Train Acc: 0.8668 | Train F1: 0.8645 | Test Loss: 0.8343 | Test Acc: 0.8812 | Test F1: 0.8762\n",
      "Epoch 7/7 | Train Loss: 0.8042 | Train Acc: 0.8641 | Train F1: 0.8645 | Test Loss: 0.8218 | Test Acc: 0.8812 | Test F1: 0.8762\n",
      "Train time on cuda: 334.65038060000006\n",
      "Inference Loss: 0.8055, Accuracy: 86.53%\n"
     ]
    },
    {
     "data": {
      "application/vnd.jupyter.widget-view+json": {
       "model_id": "80ce78016b384fc49c18ab799acdb4ff",
       "version_major": 2,
       "version_minor": 0
      },
      "text/plain": [
       "VBox(children=(Label(value='0.008 MB of 0.008 MB uploaded\\r'), FloatProgress(value=1.0, max=1.0)))"
      ]
     },
     "metadata": {},
     "output_type": "display_data"
    },
    {
     "data": {
      "text/html": [
       "<style>\n",
       "    table.wandb td:nth-child(1) { padding: 0 10px; text-align: left ; width: auto;} td:nth-child(2) {text-align: left ; width: 100%}\n",
       "    .wandb-row { display: flex; flex-direction: row; flex-wrap: wrap; justify-content: flex-start; width: 100% }\n",
       "    .wandb-col { display: flex; flex-direction: column; flex-basis: 100%; flex: 1; padding: 10px; }\n",
       "    </style>\n",
       "<div class=\"wandb-row\"><div class=\"wandb-col\"><h3>Run history:</h3><br/><table class=\"wandb\"><tr><td>epoch</td><td>▁▂▃▅▆▇█</td></tr><tr><td>inference_accuracy</td><td>▁</td></tr><tr><td>inference_loss</td><td>▁</td></tr><tr><td>test_acc</td><td>▁▅▆████</td></tr><tr><td>test_f1</td><td>▁▅▆████</td></tr><tr><td>test_loss</td><td>█▅▃▂▁▁▁</td></tr><tr><td>test_precision</td><td>▁▇█████</td></tr><tr><td>test_recall</td><td>▁▅▇████</td></tr><tr><td>train_acc</td><td>▁▆▇████</td></tr><tr><td>train_f1</td><td>▁▆▇████</td></tr><tr><td>train_loss</td><td>█▅▃▂▁▁▁</td></tr><tr><td>train_precision</td><td>▁▆▇████</td></tr><tr><td>train_recall</td><td>▁▆▇████</td></tr></table><br/></div><div class=\"wandb-col\"><h3>Run summary:</h3><br/><table class=\"wandb\"><tr><td>epoch</td><td>7</td></tr><tr><td>inference_accuracy</td><td>0.86528</td></tr><tr><td>inference_loss</td><td>0.80546</td></tr><tr><td>test_acc</td><td>0.88125</td></tr><tr><td>test_f1</td><td>0.87619</td></tr><tr><td>test_loss</td><td>0.82184</td></tr><tr><td>test_precision</td><td>0.89539</td></tr><tr><td>test_recall</td><td>0.88333</td></tr><tr><td>train_acc</td><td>0.86413</td></tr><tr><td>train_f1</td><td>0.86449</td></tr><tr><td>train_loss</td><td>0.80425</td></tr><tr><td>train_precision</td><td>0.86986</td></tr><tr><td>train_recall</td><td>0.86528</td></tr><tr><td>train_time</td><td>00:05:34</td></tr></table><br/></div></div>"
      ],
      "text/plain": [
       "<IPython.core.display.HTML object>"
      ]
     },
     "metadata": {},
     "output_type": "display_data"
    },
    {
     "data": {
      "text/html": [
       " View run <strong style=\"color:#cdcd00\">warm-sweep-4</strong> at: <a href='https://wandb.ai/andberg9-self/AST_Sweeps/runs/24n7egxo' target=\"_blank\">https://wandb.ai/andberg9-self/AST_Sweeps/runs/24n7egxo</a><br/> View project at: <a href='https://wandb.ai/andberg9-self/AST_Sweeps' target=\"_blank\">https://wandb.ai/andberg9-self/AST_Sweeps</a><br/>Synced 5 W&B file(s), 0 media file(s), 0 artifact file(s) and 0 other file(s)"
      ],
      "text/plain": [
       "<IPython.core.display.HTML object>"
      ]
     },
     "metadata": {},
     "output_type": "display_data"
    },
    {
     "data": {
      "text/html": [
       "Find logs at: <code>.\\wandb\\run-20240925_110607-24n7egxo\\logs</code>"
      ],
      "text/plain": [
       "<IPython.core.display.HTML object>"
      ]
     },
     "metadata": {},
     "output_type": "display_data"
    },
    {
     "name": "stderr",
     "output_type": "stream",
     "text": [
      "wandb: Agent Starting Run: ovvq9qei with config:\n",
      "wandb: \tbatch_size: 32\n",
      "wandb: \tepochs: 7\n",
      "wandb: \tlearning_rate: 0.0004722094404645134\n",
      "wandb: \toptimizer: adamW\n",
      "wandb: \tscheduler: PolynomialLR\n"
     ]
    },
    {
     "data": {
      "text/html": [
       "Tracking run with wandb version 0.18.1"
      ],
      "text/plain": [
       "<IPython.core.display.HTML object>"
      ]
     },
     "metadata": {},
     "output_type": "display_data"
    },
    {
     "data": {
      "text/html": [
       "Run data is saved locally in <code>c:\\Users\\Sidewinders\\Research_notebooks\\Drone_classification\\Research\\notebooks\\wandb\\run-20240925_111203-ovvq9qei</code>"
      ],
      "text/plain": [
       "<IPython.core.display.HTML object>"
      ]
     },
     "metadata": {},
     "output_type": "display_data"
    },
    {
     "data": {
      "text/html": [
       "Syncing run <strong><a href='https://wandb.ai/andberg9-self/AST_Sweeps/runs/ovvq9qei' target=\"_blank\">noble-sweep-5</a></strong> to <a href='https://wandb.ai/andberg9-self/AST_Sweeps' target=\"_blank\">Weights & Biases</a> (<a href='https://wandb.me/run' target=\"_blank\">docs</a>)<br/>Sweep page: <a href='https://wandb.ai/andberg9-self/AST_Sweeps/sweeps/ange3go8' target=\"_blank\">https://wandb.ai/andberg9-self/AST_Sweeps/sweeps/ange3go8</a>"
      ],
      "text/plain": [
       "<IPython.core.display.HTML object>"
      ]
     },
     "metadata": {},
     "output_type": "display_data"
    },
    {
     "data": {
      "text/html": [
       " View project at <a href='https://wandb.ai/andberg9-self/AST_Sweeps' target=\"_blank\">https://wandb.ai/andberg9-self/AST_Sweeps</a>"
      ],
      "text/plain": [
       "<IPython.core.display.HTML object>"
      ]
     },
     "metadata": {},
     "output_type": "display_data"
    },
    {
     "data": {
      "text/html": [
       " View sweep at <a href='https://wandb.ai/andberg9-self/AST_Sweeps/sweeps/ange3go8' target=\"_blank\">https://wandb.ai/andberg9-self/AST_Sweeps/sweeps/ange3go8</a>"
      ],
      "text/plain": [
       "<IPython.core.display.HTML object>"
      ]
     },
     "metadata": {},
     "output_type": "display_data"
    },
    {
     "data": {
      "text/html": [
       " View run at <a href='https://wandb.ai/andberg9-self/AST_Sweeps/runs/ovvq9qei' target=\"_blank\">https://wandb.ai/andberg9-self/AST_Sweeps/runs/ovvq9qei</a>"
      ],
      "text/plain": [
       "<IPython.core.display.HTML object>"
      ]
     },
     "metadata": {},
     "output_type": "display_data"
    },
    {
     "name": "stdout",
     "output_type": "stream",
     "text": [
      "ASTForAudioClassification(\n",
      "  (audio_spectrogram_transformer): ASTModel(\n",
      "    (embeddings): ASTEmbeddings(\n",
      "      (patch_embeddings): ASTPatchEmbeddings(\n",
      "        (projection): Conv2d(1, 768, kernel_size=(16, 16), stride=(10, 10))\n",
      "      )\n",
      "      (dropout): Dropout(p=0.0, inplace=False)\n",
      "    )\n",
      "    (encoder): ASTEncoder(\n",
      "      (layer): ModuleList(\n",
      "        (0-11): 12 x ASTLayer(\n",
      "          (attention): ASTSdpaAttention(\n",
      "            (attention): ASTSdpaSelfAttention(\n",
      "              (query): Linear(in_features=768, out_features=768, bias=True)\n",
      "              (key): Linear(in_features=768, out_features=768, bias=True)\n",
      "              (value): Linear(in_features=768, out_features=768, bias=True)\n",
      "              (dropout): Dropout(p=0.0, inplace=False)\n",
      "            )\n",
      "            (output): ASTSelfOutput(\n",
      "              (dense): Linear(in_features=768, out_features=768, bias=True)\n",
      "              (dropout): Dropout(p=0.0, inplace=False)\n",
      "            )\n",
      "          )\n",
      "          (intermediate): ASTIntermediate(\n",
      "            (dense): Linear(in_features=768, out_features=3072, bias=True)\n",
      "            (intermediate_act_fn): GELUActivation()\n",
      "          )\n",
      "          (output): ASTOutput(\n",
      "            (dense): Linear(in_features=3072, out_features=768, bias=True)\n",
      "            (dropout): Dropout(p=0.0, inplace=False)\n",
      "          )\n",
      "          (layernorm_before): LayerNorm((768,), eps=1e-12, elementwise_affine=True)\n",
      "          (layernorm_after): LayerNorm((768,), eps=1e-12, elementwise_affine=True)\n",
      "        )\n",
      "      )\n",
      "    )\n",
      "    (layernorm): LayerNorm((768,), eps=1e-12, elementwise_affine=True)\n",
      "  )\n",
      "  (classifier): ASTMLPHead(\n",
      "    (layernorm): LayerNorm((768,), eps=1e-12, elementwise_affine=True)\n",
      "    (dense): Linear(in_features=768, out_features=9, bias=True)\n",
      "  )\n",
      ")\n"
     ]
    },
    {
     "data": {
      "application/vnd.jupyter.widget-view+json": {
       "model_id": "2974e6ad84cb478ea1229fda9a2e1a0f",
       "version_major": 2,
       "version_minor": 0
      },
      "text/plain": [
       "  0%|          | 0/7 [00:00<?, ?it/s]"
      ]
     },
     "metadata": {},
     "output_type": "display_data"
    },
    {
     "name": "stdout",
     "output_type": "stream",
     "text": [
      "Epoch 1/7 | Train Loss: 2.1101 | Train Acc: 0.1834 | Train F1: 0.1770 | Test Loss: 1.8567 | Test Acc: 0.4052 | Test F1: 0.3860\n",
      "Epoch 2/7 | Train Loss: 1.6954 | Train Acc: 0.5163 | Train F1: 0.4952 | Test Loss: 1.5568 | Test Acc: 0.6208 | Test F1: 0.6070\n",
      "Epoch 3/7 | Train Loss: 1.4308 | Train Acc: 0.7133 | Train F1: 0.7006 | Test Loss: 1.3433 | Test Acc: 0.7583 | Test F1: 0.7325\n",
      "Epoch 4/7 | Train Loss: 1.2765 | Train Acc: 0.7690 | Train F1: 0.7570 | Test Loss: 1.2251 | Test Acc: 0.7958 | Test F1: 0.7677\n",
      "Epoch 5/7 | Train Loss: 1.1890 | Train Acc: 0.7894 | Train F1: 0.7782 | Test Loss: 1.1728 | Test Acc: 0.8177 | Test F1: 0.7903\n",
      "Epoch 6/7 | Train Loss: 1.1627 | Train Acc: 0.7962 | Train F1: 0.7901 | Test Loss: 1.1774 | Test Acc: 0.8052 | Test F1: 0.7903\n",
      "Epoch 7/7 | Train Loss: 1.1626 | Train Acc: 0.7976 | Train F1: 0.7901 | Test Loss: 1.1800 | Test Acc: 0.8083 | Test F1: 0.7903\n",
      "Train time on cuda: 334.0690211000001\n",
      "Inference Loss: 1.1603, Accuracy: 80.00%\n"
     ]
    },
    {
     "data": {
      "application/vnd.jupyter.widget-view+json": {
       "model_id": "8f99a0ecb2f94febbb625ebee2026211",
       "version_major": 2,
       "version_minor": 0
      },
      "text/plain": [
       "VBox(children=(Label(value='0.008 MB of 0.008 MB uploaded\\r'), FloatProgress(value=1.0, max=1.0)))"
      ]
     },
     "metadata": {},
     "output_type": "display_data"
    },
    {
     "data": {
      "text/html": [
       "<style>\n",
       "    table.wandb td:nth-child(1) { padding: 0 10px; text-align: left ; width: auto;} td:nth-child(2) {text-align: left ; width: 100%}\n",
       "    .wandb-row { display: flex; flex-direction: row; flex-wrap: wrap; justify-content: flex-start; width: 100% }\n",
       "    .wandb-col { display: flex; flex-direction: column; flex-basis: 100%; flex: 1; padding: 10px; }\n",
       "    </style>\n",
       "<div class=\"wandb-row\"><div class=\"wandb-col\"><h3>Run history:</h3><br/><table class=\"wandb\"><tr><td>epoch</td><td>▁▂▃▅▆▇█</td></tr><tr><td>inference_accuracy</td><td>▁</td></tr><tr><td>inference_loss</td><td>▁</td></tr><tr><td>test_acc</td><td>▁▅▇████</td></tr><tr><td>test_f1</td><td>▁▅▇████</td></tr><tr><td>test_loss</td><td>█▅▃▂▁▁▁</td></tr><tr><td>test_precision</td><td>▁▅▇████</td></tr><tr><td>test_recall</td><td>▁▅▇████</td></tr><tr><td>train_acc</td><td>▁▅▇████</td></tr><tr><td>train_f1</td><td>▁▅▇████</td></tr><tr><td>train_loss</td><td>█▅▃▂▁▁▁</td></tr><tr><td>train_precision</td><td>▁▅▇████</td></tr><tr><td>train_recall</td><td>▁▅▇████</td></tr></table><br/></div><div class=\"wandb-col\"><h3>Run summary:</h3><br/><table class=\"wandb\"><tr><td>epoch</td><td>7</td></tr><tr><td>inference_accuracy</td><td>0.8</td></tr><tr><td>inference_loss</td><td>1.16028</td></tr><tr><td>test_acc</td><td>0.80833</td></tr><tr><td>test_f1</td><td>0.79031</td></tr><tr><td>test_loss</td><td>1.18001</td></tr><tr><td>test_precision</td><td>0.81443</td></tr><tr><td>test_recall</td><td>0.80556</td></tr><tr><td>train_acc</td><td>0.79755</td></tr><tr><td>train_f1</td><td>0.79014</td></tr><tr><td>train_loss</td><td>1.16263</td></tr><tr><td>train_precision</td><td>0.80318</td></tr><tr><td>train_recall</td><td>0.8</td></tr><tr><td>train_time</td><td>00:05:34</td></tr></table><br/></div></div>"
      ],
      "text/plain": [
       "<IPython.core.display.HTML object>"
      ]
     },
     "metadata": {},
     "output_type": "display_data"
    },
    {
     "data": {
      "text/html": [
       " View run <strong style=\"color:#cdcd00\">noble-sweep-5</strong> at: <a href='https://wandb.ai/andberg9-self/AST_Sweeps/runs/ovvq9qei' target=\"_blank\">https://wandb.ai/andberg9-self/AST_Sweeps/runs/ovvq9qei</a><br/> View project at: <a href='https://wandb.ai/andberg9-self/AST_Sweeps' target=\"_blank\">https://wandb.ai/andberg9-self/AST_Sweeps</a><br/>Synced 5 W&B file(s), 0 media file(s), 0 artifact file(s) and 0 other file(s)"
      ],
      "text/plain": [
       "<IPython.core.display.HTML object>"
      ]
     },
     "metadata": {},
     "output_type": "display_data"
    },
    {
     "data": {
      "text/html": [
       "Find logs at: <code>.\\wandb\\run-20240925_111203-ovvq9qei\\logs</code>"
      ],
      "text/plain": [
       "<IPython.core.display.HTML object>"
      ]
     },
     "metadata": {},
     "output_type": "display_data"
    },
    {
     "name": "stderr",
     "output_type": "stream",
     "text": [
      "wandb: Agent Starting Run: a69soro5 with config:\n",
      "wandb: \tbatch_size: 32\n",
      "wandb: \tepochs: 7\n",
      "wandb: \tlearning_rate: 0.0008871236696519004\n",
      "wandb: \toptimizer: adamW\n",
      "wandb: \tscheduler: PolynomialLR\n"
     ]
    },
    {
     "data": {
      "text/html": [
       "Tracking run with wandb version 0.18.1"
      ],
      "text/plain": [
       "<IPython.core.display.HTML object>"
      ]
     },
     "metadata": {},
     "output_type": "display_data"
    },
    {
     "data": {
      "text/html": [
       "Run data is saved locally in <code>c:\\Users\\Sidewinders\\Research_notebooks\\Drone_classification\\Research\\notebooks\\wandb\\run-20240925_111815-a69soro5</code>"
      ],
      "text/plain": [
       "<IPython.core.display.HTML object>"
      ]
     },
     "metadata": {},
     "output_type": "display_data"
    },
    {
     "data": {
      "text/html": [
       "Syncing run <strong><a href='https://wandb.ai/andberg9-self/AST_Sweeps/runs/a69soro5' target=\"_blank\">stellar-sweep-6</a></strong> to <a href='https://wandb.ai/andberg9-self/AST_Sweeps' target=\"_blank\">Weights & Biases</a> (<a href='https://wandb.me/run' target=\"_blank\">docs</a>)<br/>Sweep page: <a href='https://wandb.ai/andberg9-self/AST_Sweeps/sweeps/ange3go8' target=\"_blank\">https://wandb.ai/andberg9-self/AST_Sweeps/sweeps/ange3go8</a>"
      ],
      "text/plain": [
       "<IPython.core.display.HTML object>"
      ]
     },
     "metadata": {},
     "output_type": "display_data"
    },
    {
     "data": {
      "text/html": [
       " View project at <a href='https://wandb.ai/andberg9-self/AST_Sweeps' target=\"_blank\">https://wandb.ai/andberg9-self/AST_Sweeps</a>"
      ],
      "text/plain": [
       "<IPython.core.display.HTML object>"
      ]
     },
     "metadata": {},
     "output_type": "display_data"
    },
    {
     "data": {
      "text/html": [
       " View sweep at <a href='https://wandb.ai/andberg9-self/AST_Sweeps/sweeps/ange3go8' target=\"_blank\">https://wandb.ai/andberg9-self/AST_Sweeps/sweeps/ange3go8</a>"
      ],
      "text/plain": [
       "<IPython.core.display.HTML object>"
      ]
     },
     "metadata": {},
     "output_type": "display_data"
    },
    {
     "data": {
      "text/html": [
       " View run at <a href='https://wandb.ai/andberg9-self/AST_Sweeps/runs/a69soro5' target=\"_blank\">https://wandb.ai/andberg9-self/AST_Sweeps/runs/a69soro5</a>"
      ],
      "text/plain": [
       "<IPython.core.display.HTML object>"
      ]
     },
     "metadata": {},
     "output_type": "display_data"
    },
    {
     "name": "stdout",
     "output_type": "stream",
     "text": [
      "ASTForAudioClassification(\n",
      "  (audio_spectrogram_transformer): ASTModel(\n",
      "    (embeddings): ASTEmbeddings(\n",
      "      (patch_embeddings): ASTPatchEmbeddings(\n",
      "        (projection): Conv2d(1, 768, kernel_size=(16, 16), stride=(10, 10))\n",
      "      )\n",
      "      (dropout): Dropout(p=0.0, inplace=False)\n",
      "    )\n",
      "    (encoder): ASTEncoder(\n",
      "      (layer): ModuleList(\n",
      "        (0-11): 12 x ASTLayer(\n",
      "          (attention): ASTSdpaAttention(\n",
      "            (attention): ASTSdpaSelfAttention(\n",
      "              (query): Linear(in_features=768, out_features=768, bias=True)\n",
      "              (key): Linear(in_features=768, out_features=768, bias=True)\n",
      "              (value): Linear(in_features=768, out_features=768, bias=True)\n",
      "              (dropout): Dropout(p=0.0, inplace=False)\n",
      "            )\n",
      "            (output): ASTSelfOutput(\n",
      "              (dense): Linear(in_features=768, out_features=768, bias=True)\n",
      "              (dropout): Dropout(p=0.0, inplace=False)\n",
      "            )\n",
      "          )\n",
      "          (intermediate): ASTIntermediate(\n",
      "            (dense): Linear(in_features=768, out_features=3072, bias=True)\n",
      "            (intermediate_act_fn): GELUActivation()\n",
      "          )\n",
      "          (output): ASTOutput(\n",
      "            (dense): Linear(in_features=3072, out_features=768, bias=True)\n",
      "            (dropout): Dropout(p=0.0, inplace=False)\n",
      "          )\n",
      "          (layernorm_before): LayerNorm((768,), eps=1e-12, elementwise_affine=True)\n",
      "          (layernorm_after): LayerNorm((768,), eps=1e-12, elementwise_affine=True)\n",
      "        )\n",
      "      )\n",
      "    )\n",
      "    (layernorm): LayerNorm((768,), eps=1e-12, elementwise_affine=True)\n",
      "  )\n",
      "  (classifier): ASTMLPHead(\n",
      "    (layernorm): LayerNorm((768,), eps=1e-12, elementwise_affine=True)\n",
      "    (dense): Linear(in_features=768, out_features=9, bias=True)\n",
      "  )\n",
      ")\n"
     ]
    },
    {
     "data": {
      "application/vnd.jupyter.widget-view+json": {
       "model_id": "af00ac0b1aaf44fdadb63f4389a8afb2",
       "version_major": 2,
       "version_minor": 0
      },
      "text/plain": [
       "  0%|          | 0/7 [00:00<?, ?it/s]"
      ]
     },
     "metadata": {},
     "output_type": "display_data"
    },
    {
     "name": "stdout",
     "output_type": "stream",
     "text": [
      "Epoch 1/7 | Train Loss: 1.9959 | Train Acc: 0.2826 | Train F1: 0.2921 | Test Loss: 1.5807 | Test Acc: 0.5698 | Test F1: 0.4751\n",
      "Epoch 2/7 | Train Loss: 1.3614 | Train Acc: 0.6467 | Train F1: 0.6132 | Test Loss: 1.1215 | Test Acc: 0.7427 | Test F1: 0.7024\n",
      "Epoch 3/7 | Train Loss: 1.0171 | Train Acc: 0.7799 | Train F1: 0.7701 | Test Loss: 0.9241 | Test Acc: 0.7906 | Test F1: 0.7524\n",
      "Epoch 4/7 | Train Loss: 0.8447 | Train Acc: 0.8247 | Train F1: 0.8171 | Test Loss: 0.8016 | Test Acc: 0.8594 | Test F1: 0.8467\n",
      "Epoch 5/7 | Train Loss: 0.7755 | Train Acc: 0.8424 | Train F1: 0.8448 | Test Loss: 0.7678 | Test Acc: 0.8604 | Test F1: 0.8565\n",
      "Epoch 6/7 | Train Loss: 0.7471 | Train Acc: 0.8573 | Train F1: 0.8546 | Test Loss: 0.7555 | Test Acc: 0.8667 | Test F1: 0.8565\n",
      "Epoch 7/7 | Train Loss: 0.7446 | Train Acc: 0.8546 | Train F1: 0.8546 | Test Loss: 0.7727 | Test Acc: 0.8635 | Test F1: 0.8565\n",
      "Train time on cuda: 334.50497829999995\n",
      "Inference Loss: 0.7453, Accuracy: 85.42%\n"
     ]
    },
    {
     "data": {
      "application/vnd.jupyter.widget-view+json": {
       "model_id": "4a061313e08b417c9e5fb0c5afc088e2",
       "version_major": 2,
       "version_minor": 0
      },
      "text/plain": [
       "VBox(children=(Label(value='0.008 MB of 0.008 MB uploaded\\r'), FloatProgress(value=1.0, max=1.0)))"
      ]
     },
     "metadata": {},
     "output_type": "display_data"
    },
    {
     "data": {
      "text/html": [
       "<style>\n",
       "    table.wandb td:nth-child(1) { padding: 0 10px; text-align: left ; width: auto;} td:nth-child(2) {text-align: left ; width: 100%}\n",
       "    .wandb-row { display: flex; flex-direction: row; flex-wrap: wrap; justify-content: flex-start; width: 100% }\n",
       "    .wandb-col { display: flex; flex-direction: column; flex-basis: 100%; flex: 1; padding: 10px; }\n",
       "    </style>\n",
       "<div class=\"wandb-row\"><div class=\"wandb-col\"><h3>Run history:</h3><br/><table class=\"wandb\"><tr><td>epoch</td><td>▁▂▃▅▆▇█</td></tr><tr><td>inference_accuracy</td><td>▁</td></tr><tr><td>inference_loss</td><td>▁</td></tr><tr><td>test_acc</td><td>▁▅▆████</td></tr><tr><td>test_f1</td><td>▁▅▆████</td></tr><tr><td>test_loss</td><td>█▄▂▁▁▁▁</td></tr><tr><td>test_precision</td><td>▁▅▆████</td></tr><tr><td>test_recall</td><td>▁▅▆████</td></tr><tr><td>train_acc</td><td>▁▅▇████</td></tr><tr><td>train_f1</td><td>▁▅▇████</td></tr><tr><td>train_loss</td><td>█▄▃▂▁▁▁</td></tr><tr><td>train_precision</td><td>▁▆▇████</td></tr><tr><td>train_recall</td><td>▁▅▇████</td></tr></table><br/></div><div class=\"wandb-col\"><h3>Run summary:</h3><br/><table class=\"wandb\"><tr><td>epoch</td><td>7</td></tr><tr><td>inference_accuracy</td><td>0.85417</td></tr><tr><td>inference_loss</td><td>0.74532</td></tr><tr><td>test_acc</td><td>0.86354</td></tr><tr><td>test_f1</td><td>0.85652</td></tr><tr><td>test_loss</td><td>0.77267</td></tr><tr><td>test_precision</td><td>0.86679</td></tr><tr><td>test_recall</td><td>0.86111</td></tr><tr><td>train_acc</td><td>0.85462</td></tr><tr><td>train_f1</td><td>0.85464</td></tr><tr><td>train_loss</td><td>0.74462</td></tr><tr><td>train_precision</td><td>0.85701</td></tr><tr><td>train_recall</td><td>0.85556</td></tr><tr><td>train_time</td><td>00:05:34</td></tr></table><br/></div></div>"
      ],
      "text/plain": [
       "<IPython.core.display.HTML object>"
      ]
     },
     "metadata": {},
     "output_type": "display_data"
    },
    {
     "data": {
      "text/html": [
       " View run <strong style=\"color:#cdcd00\">stellar-sweep-6</strong> at: <a href='https://wandb.ai/andberg9-self/AST_Sweeps/runs/a69soro5' target=\"_blank\">https://wandb.ai/andberg9-self/AST_Sweeps/runs/a69soro5</a><br/> View project at: <a href='https://wandb.ai/andberg9-self/AST_Sweeps' target=\"_blank\">https://wandb.ai/andberg9-self/AST_Sweeps</a><br/>Synced 5 W&B file(s), 0 media file(s), 0 artifact file(s) and 0 other file(s)"
      ],
      "text/plain": [
       "<IPython.core.display.HTML object>"
      ]
     },
     "metadata": {},
     "output_type": "display_data"
    },
    {
     "data": {
      "text/html": [
       "Find logs at: <code>.\\wandb\\run-20240925_111815-a69soro5\\logs</code>"
      ],
      "text/plain": [
       "<IPython.core.display.HTML object>"
      ]
     },
     "metadata": {},
     "output_type": "display_data"
    },
    {
     "name": "stderr",
     "output_type": "stream",
     "text": [
      "wandb: Agent Starting Run: t6j5t9y7 with config:\n",
      "wandb: \tbatch_size: 8\n",
      "wandb: \tepochs: 7\n",
      "wandb: \tlearning_rate: 0.0005462197046176492\n",
      "wandb: \toptimizer: adamW\n",
      "wandb: \tscheduler: PolynomialLR\n"
     ]
    },
    {
     "data": {
      "text/html": [
       "Tracking run with wandb version 0.18.1"
      ],
      "text/plain": [
       "<IPython.core.display.HTML object>"
      ]
     },
     "metadata": {},
     "output_type": "display_data"
    },
    {
     "data": {
      "text/html": [
       "Run data is saved locally in <code>c:\\Users\\Sidewinders\\Research_notebooks\\Drone_classification\\Research\\notebooks\\wandb\\run-20240925_112416-t6j5t9y7</code>"
      ],
      "text/plain": [
       "<IPython.core.display.HTML object>"
      ]
     },
     "metadata": {},
     "output_type": "display_data"
    },
    {
     "data": {
      "text/html": [
       "Syncing run <strong><a href='https://wandb.ai/andberg9-self/AST_Sweeps/runs/t6j5t9y7' target=\"_blank\">fanciful-sweep-7</a></strong> to <a href='https://wandb.ai/andberg9-self/AST_Sweeps' target=\"_blank\">Weights & Biases</a> (<a href='https://wandb.me/run' target=\"_blank\">docs</a>)<br/>Sweep page: <a href='https://wandb.ai/andberg9-self/AST_Sweeps/sweeps/ange3go8' target=\"_blank\">https://wandb.ai/andberg9-self/AST_Sweeps/sweeps/ange3go8</a>"
      ],
      "text/plain": [
       "<IPython.core.display.HTML object>"
      ]
     },
     "metadata": {},
     "output_type": "display_data"
    },
    {
     "data": {
      "text/html": [
       " View project at <a href='https://wandb.ai/andberg9-self/AST_Sweeps' target=\"_blank\">https://wandb.ai/andberg9-self/AST_Sweeps</a>"
      ],
      "text/plain": [
       "<IPython.core.display.HTML object>"
      ]
     },
     "metadata": {},
     "output_type": "display_data"
    },
    {
     "data": {
      "text/html": [
       " View sweep at <a href='https://wandb.ai/andberg9-self/AST_Sweeps/sweeps/ange3go8' target=\"_blank\">https://wandb.ai/andberg9-self/AST_Sweeps/sweeps/ange3go8</a>"
      ],
      "text/plain": [
       "<IPython.core.display.HTML object>"
      ]
     },
     "metadata": {},
     "output_type": "display_data"
    },
    {
     "data": {
      "text/html": [
       " View run at <a href='https://wandb.ai/andberg9-self/AST_Sweeps/runs/t6j5t9y7' target=\"_blank\">https://wandb.ai/andberg9-self/AST_Sweeps/runs/t6j5t9y7</a>"
      ],
      "text/plain": [
       "<IPython.core.display.HTML object>"
      ]
     },
     "metadata": {},
     "output_type": "display_data"
    },
    {
     "name": "stdout",
     "output_type": "stream",
     "text": [
      "ASTForAudioClassification(\n",
      "  (audio_spectrogram_transformer): ASTModel(\n",
      "    (embeddings): ASTEmbeddings(\n",
      "      (patch_embeddings): ASTPatchEmbeddings(\n",
      "        (projection): Conv2d(1, 768, kernel_size=(16, 16), stride=(10, 10))\n",
      "      )\n",
      "      (dropout): Dropout(p=0.0, inplace=False)\n",
      "    )\n",
      "    (encoder): ASTEncoder(\n",
      "      (layer): ModuleList(\n",
      "        (0-11): 12 x ASTLayer(\n",
      "          (attention): ASTSdpaAttention(\n",
      "            (attention): ASTSdpaSelfAttention(\n",
      "              (query): Linear(in_features=768, out_features=768, bias=True)\n",
      "              (key): Linear(in_features=768, out_features=768, bias=True)\n",
      "              (value): Linear(in_features=768, out_features=768, bias=True)\n",
      "              (dropout): Dropout(p=0.0, inplace=False)\n",
      "            )\n",
      "            (output): ASTSelfOutput(\n",
      "              (dense): Linear(in_features=768, out_features=768, bias=True)\n",
      "              (dropout): Dropout(p=0.0, inplace=False)\n",
      "            )\n",
      "          )\n",
      "          (intermediate): ASTIntermediate(\n",
      "            (dense): Linear(in_features=768, out_features=3072, bias=True)\n",
      "            (intermediate_act_fn): GELUActivation()\n",
      "          )\n",
      "          (output): ASTOutput(\n",
      "            (dense): Linear(in_features=3072, out_features=768, bias=True)\n",
      "            (dropout): Dropout(p=0.0, inplace=False)\n",
      "          )\n",
      "          (layernorm_before): LayerNorm((768,), eps=1e-12, elementwise_affine=True)\n",
      "          (layernorm_after): LayerNorm((768,), eps=1e-12, elementwise_affine=True)\n",
      "        )\n",
      "      )\n",
      "    )\n",
      "    (layernorm): LayerNorm((768,), eps=1e-12, elementwise_affine=True)\n",
      "  )\n",
      "  (classifier): ASTMLPHead(\n",
      "    (layernorm): LayerNorm((768,), eps=1e-12, elementwise_affine=True)\n",
      "    (dense): Linear(in_features=768, out_features=9, bias=True)\n",
      "  )\n",
      ")\n"
     ]
    },
    {
     "data": {
      "application/vnd.jupyter.widget-view+json": {
       "model_id": "c6550086e42e4385bc59434955f41812",
       "version_major": 2,
       "version_minor": 0
      },
      "text/plain": [
       "  0%|          | 0/7 [00:00<?, ?it/s]"
      ]
     },
     "metadata": {},
     "output_type": "display_data"
    },
    {
     "name": "stdout",
     "output_type": "stream",
     "text": [
      "Epoch 1/7 | Train Loss: 1.6112 | Train Acc: 0.5056 | Train F1: 0.4916 | Test Loss: 0.9928 | Test Acc: 0.7989 | Test F1: 0.7798\n",
      "Epoch 2/7 | Train Loss: 0.7875 | Train Acc: 0.8542 | Train F1: 0.8514 | Test Loss: 0.6394 | Test Acc: 0.8750 | Test F1: 0.8770\n",
      "Epoch 3/7 | Train Loss: 0.5720 | Train Acc: 0.8806 | Train F1: 0.8806 | Test Loss: 0.5179 | Test Acc: 0.8913 | Test F1: 0.8862\n",
      "Epoch 4/7 | Train Loss: 0.4868 | Train Acc: 0.9014 | Train F1: 0.9014 | Test Loss: 0.4541 | Test Acc: 0.9239 | Test F1: 0.9237\n",
      "Epoch 5/7 | Train Loss: 0.4482 | Train Acc: 0.9069 | Train F1: 0.9074 | Test Loss: 0.4381 | Test Acc: 0.9239 | Test F1: 0.9237\n",
      "Epoch 6/7 | Train Loss: 0.4346 | Train Acc: 0.9111 | Train F1: 0.9114 | Test Loss: 0.4342 | Test Acc: 0.9239 | Test F1: 0.9237\n",
      "Epoch 7/7 | Train Loss: 0.4346 | Train Acc: 0.9111 | Train F1: 0.9114 | Test Loss: 0.4345 | Test Acc: 0.9239 | Test F1: 0.9237\n",
      "Train time on cuda: 331.9141902000001\n",
      "Inference Loss: 0.4346, Accuracy: 91.11%\n"
     ]
    },
    {
     "data": {
      "application/vnd.jupyter.widget-view+json": {
       "model_id": "f406e5cc1b8442af853c26cf5e281619",
       "version_major": 2,
       "version_minor": 0
      },
      "text/plain": [
       "VBox(children=(Label(value='0.008 MB of 0.008 MB uploaded\\r'), FloatProgress(value=1.0, max=1.0)))"
      ]
     },
     "metadata": {},
     "output_type": "display_data"
    },
    {
     "data": {
      "text/html": [
       "<style>\n",
       "    table.wandb td:nth-child(1) { padding: 0 10px; text-align: left ; width: auto;} td:nth-child(2) {text-align: left ; width: 100%}\n",
       "    .wandb-row { display: flex; flex-direction: row; flex-wrap: wrap; justify-content: flex-start; width: 100% }\n",
       "    .wandb-col { display: flex; flex-direction: column; flex-basis: 100%; flex: 1; padding: 10px; }\n",
       "    </style>\n",
       "<div class=\"wandb-row\"><div class=\"wandb-col\"><h3>Run history:</h3><br/><table class=\"wandb\"><tr><td>epoch</td><td>▁▂▃▅▆▇█</td></tr><tr><td>inference_accuracy</td><td>▁</td></tr><tr><td>inference_loss</td><td>▁</td></tr><tr><td>test_acc</td><td>▁▅▆████</td></tr><tr><td>test_f1</td><td>▁▆▆████</td></tr><tr><td>test_loss</td><td>█▄▂▁▁▁▁</td></tr><tr><td>test_precision</td><td>▁▅▆████</td></tr><tr><td>test_recall</td><td>▁▆▆████</td></tr><tr><td>train_acc</td><td>▁▇▇████</td></tr><tr><td>train_f1</td><td>▁▇▇████</td></tr><tr><td>train_loss</td><td>█▃▂▁▁▁▁</td></tr><tr><td>train_precision</td><td>▁▇▇████</td></tr><tr><td>train_recall</td><td>▁▇▇████</td></tr></table><br/></div><div class=\"wandb-col\"><h3>Run summary:</h3><br/><table class=\"wandb\"><tr><td>epoch</td><td>7</td></tr><tr><td>inference_accuracy</td><td>0.91111</td></tr><tr><td>inference_loss</td><td>0.43457</td></tr><tr><td>test_acc</td><td>0.92391</td></tr><tr><td>test_f1</td><td>0.92371</td></tr><tr><td>test_loss</td><td>0.43448</td></tr><tr><td>test_precision</td><td>0.9292</td></tr><tr><td>test_recall</td><td>0.92222</td></tr><tr><td>train_acc</td><td>0.91111</td></tr><tr><td>train_f1</td><td>0.91136</td></tr><tr><td>train_loss</td><td>0.43461</td></tr><tr><td>train_precision</td><td>0.91194</td></tr><tr><td>train_recall</td><td>0.91111</td></tr><tr><td>train_time</td><td>00:05:31</td></tr></table><br/></div></div>"
      ],
      "text/plain": [
       "<IPython.core.display.HTML object>"
      ]
     },
     "metadata": {},
     "output_type": "display_data"
    },
    {
     "data": {
      "text/html": [
       " View run <strong style=\"color:#cdcd00\">fanciful-sweep-7</strong> at: <a href='https://wandb.ai/andberg9-self/AST_Sweeps/runs/t6j5t9y7' target=\"_blank\">https://wandb.ai/andberg9-self/AST_Sweeps/runs/t6j5t9y7</a><br/> View project at: <a href='https://wandb.ai/andberg9-self/AST_Sweeps' target=\"_blank\">https://wandb.ai/andberg9-self/AST_Sweeps</a><br/>Synced 5 W&B file(s), 0 media file(s), 0 artifact file(s) and 0 other file(s)"
      ],
      "text/plain": [
       "<IPython.core.display.HTML object>"
      ]
     },
     "metadata": {},
     "output_type": "display_data"
    },
    {
     "data": {
      "text/html": [
       "Find logs at: <code>.\\wandb\\run-20240925_112416-t6j5t9y7\\logs</code>"
      ],
      "text/plain": [
       "<IPython.core.display.HTML object>"
      ]
     },
     "metadata": {},
     "output_type": "display_data"
    },
    {
     "name": "stderr",
     "output_type": "stream",
     "text": [
      "wandb: Agent Starting Run: 66ddjneg with config:\n",
      "wandb: \tbatch_size: 16\n",
      "wandb: \tepochs: 7\n",
      "wandb: \tlearning_rate: 0.0006499051553144666\n",
      "wandb: \toptimizer: adamW\n",
      "wandb: \tscheduler: PolynomialLR\n"
     ]
    },
    {
     "data": {
      "text/html": [
       "Tracking run with wandb version 0.18.1"
      ],
      "text/plain": [
       "<IPython.core.display.HTML object>"
      ]
     },
     "metadata": {},
     "output_type": "display_data"
    },
    {
     "data": {
      "text/html": [
       "Run data is saved locally in <code>c:\\Users\\Sidewinders\\Research_notebooks\\Drone_classification\\Research\\notebooks\\wandb\\run-20240925_113012-66ddjneg</code>"
      ],
      "text/plain": [
       "<IPython.core.display.HTML object>"
      ]
     },
     "metadata": {},
     "output_type": "display_data"
    },
    {
     "data": {
      "text/html": [
       "Syncing run <strong><a href='https://wandb.ai/andberg9-self/AST_Sweeps/runs/66ddjneg' target=\"_blank\">lemon-sweep-8</a></strong> to <a href='https://wandb.ai/andberg9-self/AST_Sweeps' target=\"_blank\">Weights & Biases</a> (<a href='https://wandb.me/run' target=\"_blank\">docs</a>)<br/>Sweep page: <a href='https://wandb.ai/andberg9-self/AST_Sweeps/sweeps/ange3go8' target=\"_blank\">https://wandb.ai/andberg9-self/AST_Sweeps/sweeps/ange3go8</a>"
      ],
      "text/plain": [
       "<IPython.core.display.HTML object>"
      ]
     },
     "metadata": {},
     "output_type": "display_data"
    },
    {
     "data": {
      "text/html": [
       " View project at <a href='https://wandb.ai/andberg9-self/AST_Sweeps' target=\"_blank\">https://wandb.ai/andberg9-self/AST_Sweeps</a>"
      ],
      "text/plain": [
       "<IPython.core.display.HTML object>"
      ]
     },
     "metadata": {},
     "output_type": "display_data"
    },
    {
     "data": {
      "text/html": [
       " View sweep at <a href='https://wandb.ai/andberg9-self/AST_Sweeps/sweeps/ange3go8' target=\"_blank\">https://wandb.ai/andberg9-self/AST_Sweeps/sweeps/ange3go8</a>"
      ],
      "text/plain": [
       "<IPython.core.display.HTML object>"
      ]
     },
     "metadata": {},
     "output_type": "display_data"
    },
    {
     "data": {
      "text/html": [
       " View run at <a href='https://wandb.ai/andberg9-self/AST_Sweeps/runs/66ddjneg' target=\"_blank\">https://wandb.ai/andberg9-self/AST_Sweeps/runs/66ddjneg</a>"
      ],
      "text/plain": [
       "<IPython.core.display.HTML object>"
      ]
     },
     "metadata": {},
     "output_type": "display_data"
    },
    {
     "name": "stdout",
     "output_type": "stream",
     "text": [
      "ASTForAudioClassification(\n",
      "  (audio_spectrogram_transformer): ASTModel(\n",
      "    (embeddings): ASTEmbeddings(\n",
      "      (patch_embeddings): ASTPatchEmbeddings(\n",
      "        (projection): Conv2d(1, 768, kernel_size=(16, 16), stride=(10, 10))\n",
      "      )\n",
      "      (dropout): Dropout(p=0.0, inplace=False)\n",
      "    )\n",
      "    (encoder): ASTEncoder(\n",
      "      (layer): ModuleList(\n",
      "        (0-11): 12 x ASTLayer(\n",
      "          (attention): ASTSdpaAttention(\n",
      "            (attention): ASTSdpaSelfAttention(\n",
      "              (query): Linear(in_features=768, out_features=768, bias=True)\n",
      "              (key): Linear(in_features=768, out_features=768, bias=True)\n",
      "              (value): Linear(in_features=768, out_features=768, bias=True)\n",
      "              (dropout): Dropout(p=0.0, inplace=False)\n",
      "            )\n",
      "            (output): ASTSelfOutput(\n",
      "              (dense): Linear(in_features=768, out_features=768, bias=True)\n",
      "              (dropout): Dropout(p=0.0, inplace=False)\n",
      "            )\n",
      "          )\n",
      "          (intermediate): ASTIntermediate(\n",
      "            (dense): Linear(in_features=768, out_features=3072, bias=True)\n",
      "            (intermediate_act_fn): GELUActivation()\n",
      "          )\n",
      "          (output): ASTOutput(\n",
      "            (dense): Linear(in_features=3072, out_features=768, bias=True)\n",
      "            (dropout): Dropout(p=0.0, inplace=False)\n",
      "          )\n",
      "          (layernorm_before): LayerNorm((768,), eps=1e-12, elementwise_affine=True)\n",
      "          (layernorm_after): LayerNorm((768,), eps=1e-12, elementwise_affine=True)\n",
      "        )\n",
      "      )\n",
      "    )\n",
      "    (layernorm): LayerNorm((768,), eps=1e-12, elementwise_affine=True)\n",
      "  )\n",
      "  (classifier): ASTMLPHead(\n",
      "    (layernorm): LayerNorm((768,), eps=1e-12, elementwise_affine=True)\n",
      "    (dense): Linear(in_features=768, out_features=9, bias=True)\n",
      "  )\n",
      ")\n"
     ]
    },
    {
     "data": {
      "application/vnd.jupyter.widget-view+json": {
       "model_id": "f4bf63aa178e4bcca2ccfb2dc5e82ff1",
       "version_major": 2,
       "version_minor": 0
      },
      "text/plain": [
       "  0%|          | 0/7 [00:00<?, ?it/s]"
      ]
     },
     "metadata": {},
     "output_type": "display_data"
    },
    {
     "name": "stdout",
     "output_type": "stream",
     "text": [
      "Epoch 1/7 | Train Loss: 1.7070 | Train Acc: 0.4792 | Train F1: 0.4759 | Test Loss: 1.2071 | Test Acc: 0.7500 | Test F1: 0.7397\n",
      "Epoch 2/7 | Train Loss: 0.9691 | Train Acc: 0.8236 | Train F1: 0.8220 | Test Loss: 0.7577 | Test Acc: 0.8594 | Test F1: 0.8506\n",
      "Epoch 3/7 | Train Loss: 0.7027 | Train Acc: 0.8778 | Train F1: 0.8773 | Test Loss: 0.6496 | Test Acc: 0.8542 | Test F1: 0.8612\n",
      "Epoch 4/7 | Train Loss: 0.5880 | Train Acc: 0.8917 | Train F1: 0.8920 | Test Loss: 0.5598 | Test Acc: 0.9010 | Test F1: 0.8965\n",
      "Epoch 5/7 | Train Loss: 0.5423 | Train Acc: 0.9014 | Train F1: 0.9016 | Test Loss: 0.5354 | Test Acc: 0.8906 | Test F1: 0.9028\n",
      "Epoch 6/7 | Train Loss: 0.5266 | Train Acc: 0.9056 | Train F1: 0.9059 | Test Loss: 0.5423 | Test Acc: 0.9062 | Test F1: 0.9028\n",
      "Epoch 7/7 | Train Loss: 0.5266 | Train Acc: 0.9056 | Train F1: 0.9059 | Test Loss: 0.5339 | Test Acc: 0.9062 | Test F1: 0.9028\n",
      "Train time on cuda: 333.73586650000016\n",
      "Inference Loss: 0.5266, Accuracy: 90.56%\n"
     ]
    },
    {
     "data": {
      "application/vnd.jupyter.widget-view+json": {
       "model_id": "cbd0637503734da5bf5973c6f471a5f8",
       "version_major": 2,
       "version_minor": 0
      },
      "text/plain": [
       "VBox(children=(Label(value='0.008 MB of 0.008 MB uploaded\\r'), FloatProgress(value=1.0, max=1.0)))"
      ]
     },
     "metadata": {},
     "output_type": "display_data"
    },
    {
     "data": {
      "text/html": [
       "<style>\n",
       "    table.wandb td:nth-child(1) { padding: 0 10px; text-align: left ; width: auto;} td:nth-child(2) {text-align: left ; width: 100%}\n",
       "    .wandb-row { display: flex; flex-direction: row; flex-wrap: wrap; justify-content: flex-start; width: 100% }\n",
       "    .wandb-col { display: flex; flex-direction: column; flex-basis: 100%; flex: 1; padding: 10px; }\n",
       "    </style>\n",
       "<div class=\"wandb-row\"><div class=\"wandb-col\"><h3>Run history:</h3><br/><table class=\"wandb\"><tr><td>epoch</td><td>▁▂▃▅▆▇█</td></tr><tr><td>inference_accuracy</td><td>▁</td></tr><tr><td>inference_loss</td><td>▁</td></tr><tr><td>test_acc</td><td>▁▆▆█▇██</td></tr><tr><td>test_f1</td><td>▁▆▆████</td></tr><tr><td>test_loss</td><td>█▃▂▁▁▁▁</td></tr><tr><td>test_precision</td><td>▁▅▆████</td></tr><tr><td>test_recall</td><td>▁▆▆████</td></tr><tr><td>train_acc</td><td>▁▇█████</td></tr><tr><td>train_f1</td><td>▁▇█████</td></tr><tr><td>train_loss</td><td>█▄▂▁▁▁▁</td></tr><tr><td>train_precision</td><td>▁▇█████</td></tr><tr><td>train_recall</td><td>▁▇█████</td></tr></table><br/></div><div class=\"wandb-col\"><h3>Run summary:</h3><br/><table class=\"wandb\"><tr><td>epoch</td><td>7</td></tr><tr><td>inference_accuracy</td><td>0.90556</td></tr><tr><td>inference_loss</td><td>0.52659</td></tr><tr><td>test_acc</td><td>0.90625</td></tr><tr><td>test_f1</td><td>0.9028</td></tr><tr><td>test_loss</td><td>0.53387</td></tr><tr><td>test_precision</td><td>0.91311</td></tr><tr><td>test_recall</td><td>0.9</td></tr><tr><td>train_acc</td><td>0.90556</td></tr><tr><td>train_f1</td><td>0.90587</td></tr><tr><td>train_loss</td><td>0.52656</td></tr><tr><td>train_precision</td><td>0.9076</td></tr><tr><td>train_recall</td><td>0.90556</td></tr><tr><td>train_time</td><td>00:05:33</td></tr></table><br/></div></div>"
      ],
      "text/plain": [
       "<IPython.core.display.HTML object>"
      ]
     },
     "metadata": {},
     "output_type": "display_data"
    },
    {
     "data": {
      "text/html": [
       " View run <strong style=\"color:#cdcd00\">lemon-sweep-8</strong> at: <a href='https://wandb.ai/andberg9-self/AST_Sweeps/runs/66ddjneg' target=\"_blank\">https://wandb.ai/andberg9-self/AST_Sweeps/runs/66ddjneg</a><br/> View project at: <a href='https://wandb.ai/andberg9-self/AST_Sweeps' target=\"_blank\">https://wandb.ai/andberg9-self/AST_Sweeps</a><br/>Synced 5 W&B file(s), 0 media file(s), 0 artifact file(s) and 0 other file(s)"
      ],
      "text/plain": [
       "<IPython.core.display.HTML object>"
      ]
     },
     "metadata": {},
     "output_type": "display_data"
    },
    {
     "data": {
      "text/html": [
       "Find logs at: <code>.\\wandb\\run-20240925_113012-66ddjneg\\logs</code>"
      ],
      "text/plain": [
       "<IPython.core.display.HTML object>"
      ]
     },
     "metadata": {},
     "output_type": "display_data"
    },
    {
     "name": "stderr",
     "output_type": "stream",
     "text": [
      "wandb: Agent Starting Run: de56rejo with config:\n",
      "wandb: \tbatch_size: 16\n",
      "wandb: \tepochs: 7\n",
      "wandb: \tlearning_rate: 0.0009869224205048266\n",
      "wandb: \toptimizer: adamW\n",
      "wandb: \tscheduler: PolynomialLR\n"
     ]
    },
    {
     "data": {
      "text/html": [
       "Tracking run with wandb version 0.18.1"
      ],
      "text/plain": [
       "<IPython.core.display.HTML object>"
      ]
     },
     "metadata": {},
     "output_type": "display_data"
    },
    {
     "data": {
      "text/html": [
       "Run data is saved locally in <code>c:\\Users\\Sidewinders\\Research_notebooks\\Drone_classification\\Research\\notebooks\\wandb\\run-20240925_113607-de56rejo</code>"
      ],
      "text/plain": [
       "<IPython.core.display.HTML object>"
      ]
     },
     "metadata": {},
     "output_type": "display_data"
    },
    {
     "data": {
      "text/html": [
       "Syncing run <strong><a href='https://wandb.ai/andberg9-self/AST_Sweeps/runs/de56rejo' target=\"_blank\">revived-sweep-9</a></strong> to <a href='https://wandb.ai/andberg9-self/AST_Sweeps' target=\"_blank\">Weights & Biases</a> (<a href='https://wandb.me/run' target=\"_blank\">docs</a>)<br/>Sweep page: <a href='https://wandb.ai/andberg9-self/AST_Sweeps/sweeps/ange3go8' target=\"_blank\">https://wandb.ai/andberg9-self/AST_Sweeps/sweeps/ange3go8</a>"
      ],
      "text/plain": [
       "<IPython.core.display.HTML object>"
      ]
     },
     "metadata": {},
     "output_type": "display_data"
    },
    {
     "data": {
      "text/html": [
       " View project at <a href='https://wandb.ai/andberg9-self/AST_Sweeps' target=\"_blank\">https://wandb.ai/andberg9-self/AST_Sweeps</a>"
      ],
      "text/plain": [
       "<IPython.core.display.HTML object>"
      ]
     },
     "metadata": {},
     "output_type": "display_data"
    },
    {
     "data": {
      "text/html": [
       " View sweep at <a href='https://wandb.ai/andberg9-self/AST_Sweeps/sweeps/ange3go8' target=\"_blank\">https://wandb.ai/andberg9-self/AST_Sweeps/sweeps/ange3go8</a>"
      ],
      "text/plain": [
       "<IPython.core.display.HTML object>"
      ]
     },
     "metadata": {},
     "output_type": "display_data"
    },
    {
     "data": {
      "text/html": [
       " View run at <a href='https://wandb.ai/andberg9-self/AST_Sweeps/runs/de56rejo' target=\"_blank\">https://wandb.ai/andberg9-self/AST_Sweeps/runs/de56rejo</a>"
      ],
      "text/plain": [
       "<IPython.core.display.HTML object>"
      ]
     },
     "metadata": {},
     "output_type": "display_data"
    },
    {
     "name": "stdout",
     "output_type": "stream",
     "text": [
      "ASTForAudioClassification(\n",
      "  (audio_spectrogram_transformer): ASTModel(\n",
      "    (embeddings): ASTEmbeddings(\n",
      "      (patch_embeddings): ASTPatchEmbeddings(\n",
      "        (projection): Conv2d(1, 768, kernel_size=(16, 16), stride=(10, 10))\n",
      "      )\n",
      "      (dropout): Dropout(p=0.0, inplace=False)\n",
      "    )\n",
      "    (encoder): ASTEncoder(\n",
      "      (layer): ModuleList(\n",
      "        (0-11): 12 x ASTLayer(\n",
      "          (attention): ASTSdpaAttention(\n",
      "            (attention): ASTSdpaSelfAttention(\n",
      "              (query): Linear(in_features=768, out_features=768, bias=True)\n",
      "              (key): Linear(in_features=768, out_features=768, bias=True)\n",
      "              (value): Linear(in_features=768, out_features=768, bias=True)\n",
      "              (dropout): Dropout(p=0.0, inplace=False)\n",
      "            )\n",
      "            (output): ASTSelfOutput(\n",
      "              (dense): Linear(in_features=768, out_features=768, bias=True)\n",
      "              (dropout): Dropout(p=0.0, inplace=False)\n",
      "            )\n",
      "          )\n",
      "          (intermediate): ASTIntermediate(\n",
      "            (dense): Linear(in_features=768, out_features=3072, bias=True)\n",
      "            (intermediate_act_fn): GELUActivation()\n",
      "          )\n",
      "          (output): ASTOutput(\n",
      "            (dense): Linear(in_features=3072, out_features=768, bias=True)\n",
      "            (dropout): Dropout(p=0.0, inplace=False)\n",
      "          )\n",
      "          (layernorm_before): LayerNorm((768,), eps=1e-12, elementwise_affine=True)\n",
      "          (layernorm_after): LayerNorm((768,), eps=1e-12, elementwise_affine=True)\n",
      "        )\n",
      "      )\n",
      "    )\n",
      "    (layernorm): LayerNorm((768,), eps=1e-12, elementwise_affine=True)\n",
      "  )\n",
      "  (classifier): ASTMLPHead(\n",
      "    (layernorm): LayerNorm((768,), eps=1e-12, elementwise_affine=True)\n",
      "    (dense): Linear(in_features=768, out_features=9, bias=True)\n",
      "  )\n",
      ")\n"
     ]
    },
    {
     "data": {
      "application/vnd.jupyter.widget-view+json": {
       "model_id": "4c0ff2fc543e4fe593c92aacc2e45792",
       "version_major": 2,
       "version_minor": 0
      },
      "text/plain": [
       "  0%|          | 0/7 [00:00<?, ?it/s]"
      ]
     },
     "metadata": {},
     "output_type": "display_data"
    },
    {
     "name": "stdout",
     "output_type": "stream",
     "text": [
      "Epoch 1/7 | Train Loss: 1.7232 | Train Acc: 0.4181 | Train F1: 0.4100 | Test Loss: 1.0630 | Test Acc: 0.6771 | Test F1: 0.6328\n",
      "Epoch 2/7 | Train Loss: 0.7988 | Train Acc: 0.8236 | Train F1: 0.8206 | Test Loss: 0.6160 | Test Acc: 0.9167 | Test F1: 0.9091\n",
      "Epoch 3/7 | Train Loss: 0.5525 | Train Acc: 0.8903 | Train F1: 0.8898 | Test Loss: 0.4884 | Test Acc: 0.9271 | Test F1: 0.9224\n",
      "Epoch 4/7 | Train Loss: 0.4535 | Train Acc: 0.9056 | Train F1: 0.9050 | Test Loss: 0.4195 | Test Acc: 0.9427 | Test F1: 0.9399\n",
      "Epoch 5/7 | Train Loss: 0.4139 | Train Acc: 0.9250 | Train F1: 0.9254 | Test Loss: 0.4102 | Test Acc: 0.9479 | Test F1: 0.9454\n",
      "Epoch 6/7 | Train Loss: 0.4005 | Train Acc: 0.9306 | Train F1: 0.9310 | Test Loss: 0.4214 | Test Acc: 0.9479 | Test F1: 0.9454\n",
      "Epoch 7/7 | Train Loss: 0.4005 | Train Acc: 0.9306 | Train F1: 0.9310 | Test Loss: 0.3971 | Test Acc: 0.9479 | Test F1: 0.9454\n",
      "Train time on cuda: 333.4818471999997\n",
      "Inference Loss: 0.4005, Accuracy: 93.06%\n"
     ]
    },
    {
     "data": {
      "application/vnd.jupyter.widget-view+json": {
       "model_id": "a33fcb9f2fd44f378b1b0f74c937dd12",
       "version_major": 2,
       "version_minor": 0
      },
      "text/plain": [
       "VBox(children=(Label(value='0.008 MB of 0.008 MB uploaded\\r'), FloatProgress(value=1.0, max=1.0)))"
      ]
     },
     "metadata": {},
     "output_type": "display_data"
    },
    {
     "data": {
      "text/html": [
       "<style>\n",
       "    table.wandb td:nth-child(1) { padding: 0 10px; text-align: left ; width: auto;} td:nth-child(2) {text-align: left ; width: 100%}\n",
       "    .wandb-row { display: flex; flex-direction: row; flex-wrap: wrap; justify-content: flex-start; width: 100% }\n",
       "    .wandb-col { display: flex; flex-direction: column; flex-basis: 100%; flex: 1; padding: 10px; }\n",
       "    </style>\n",
       "<div class=\"wandb-row\"><div class=\"wandb-col\"><h3>Run history:</h3><br/><table class=\"wandb\"><tr><td>epoch</td><td>▁▂▃▅▆▇█</td></tr><tr><td>inference_accuracy</td><td>▁</td></tr><tr><td>inference_loss</td><td>▁</td></tr><tr><td>test_acc</td><td>▁▇▇████</td></tr><tr><td>test_f1</td><td>▁▇▇████</td></tr><tr><td>test_loss</td><td>█▃▂▁▁▁▁</td></tr><tr><td>test_precision</td><td>▁▆▇████</td></tr><tr><td>test_recall</td><td>▁▇▇████</td></tr><tr><td>train_acc</td><td>▁▇▇████</td></tr><tr><td>train_f1</td><td>▁▇▇████</td></tr><tr><td>train_loss</td><td>█▃▂▁▁▁▁</td></tr><tr><td>train_precision</td><td>▁▇▇████</td></tr><tr><td>train_recall</td><td>▁▇▇████</td></tr></table><br/></div><div class=\"wandb-col\"><h3>Run summary:</h3><br/><table class=\"wandb\"><tr><td>epoch</td><td>7</td></tr><tr><td>inference_accuracy</td><td>0.93056</td></tr><tr><td>inference_loss</td><td>0.40052</td></tr><tr><td>test_acc</td><td>0.94792</td></tr><tr><td>test_f1</td><td>0.94544</td></tr><tr><td>test_loss</td><td>0.3971</td></tr><tr><td>test_precision</td><td>0.95271</td></tr><tr><td>test_recall</td><td>0.94444</td></tr><tr><td>train_acc</td><td>0.93056</td></tr><tr><td>train_f1</td><td>0.93102</td></tr><tr><td>train_loss</td><td>0.40049</td></tr><tr><td>train_precision</td><td>0.93199</td></tr><tr><td>train_recall</td><td>0.93056</td></tr><tr><td>train_time</td><td>00:05:33</td></tr></table><br/></div></div>"
      ],
      "text/plain": [
       "<IPython.core.display.HTML object>"
      ]
     },
     "metadata": {},
     "output_type": "display_data"
    },
    {
     "data": {
      "text/html": [
       " View run <strong style=\"color:#cdcd00\">revived-sweep-9</strong> at: <a href='https://wandb.ai/andberg9-self/AST_Sweeps/runs/de56rejo' target=\"_blank\">https://wandb.ai/andberg9-self/AST_Sweeps/runs/de56rejo</a><br/> View project at: <a href='https://wandb.ai/andberg9-self/AST_Sweeps' target=\"_blank\">https://wandb.ai/andberg9-self/AST_Sweeps</a><br/>Synced 5 W&B file(s), 0 media file(s), 0 artifact file(s) and 0 other file(s)"
      ],
      "text/plain": [
       "<IPython.core.display.HTML object>"
      ]
     },
     "metadata": {},
     "output_type": "display_data"
    },
    {
     "data": {
      "text/html": [
       "Find logs at: <code>.\\wandb\\run-20240925_113607-de56rejo\\logs</code>"
      ],
      "text/plain": [
       "<IPython.core.display.HTML object>"
      ]
     },
     "metadata": {},
     "output_type": "display_data"
    },
    {
     "name": "stderr",
     "output_type": "stream",
     "text": [
      "wandb: Agent Starting Run: mn118stu with config:\n",
      "wandb: \tbatch_size: 8\n",
      "wandb: \tepochs: 7\n",
      "wandb: \tlearning_rate: 0.0008607643859221361\n",
      "wandb: \toptimizer: adamW\n",
      "wandb: \tscheduler: PolynomialLR\n"
     ]
    },
    {
     "data": {
      "text/html": [
       "Tracking run with wandb version 0.18.1"
      ],
      "text/plain": [
       "<IPython.core.display.HTML object>"
      ]
     },
     "metadata": {},
     "output_type": "display_data"
    },
    {
     "data": {
      "text/html": [
       "Run data is saved locally in <code>c:\\Users\\Sidewinders\\Research_notebooks\\Drone_classification\\Research\\notebooks\\wandb\\run-20240925_114202-mn118stu</code>"
      ],
      "text/plain": [
       "<IPython.core.display.HTML object>"
      ]
     },
     "metadata": {},
     "output_type": "display_data"
    },
    {
     "data": {
      "text/html": [
       "Syncing run <strong><a href='https://wandb.ai/andberg9-self/AST_Sweeps/runs/mn118stu' target=\"_blank\">winter-sweep-10</a></strong> to <a href='https://wandb.ai/andberg9-self/AST_Sweeps' target=\"_blank\">Weights & Biases</a> (<a href='https://wandb.me/run' target=\"_blank\">docs</a>)<br/>Sweep page: <a href='https://wandb.ai/andberg9-self/AST_Sweeps/sweeps/ange3go8' target=\"_blank\">https://wandb.ai/andberg9-self/AST_Sweeps/sweeps/ange3go8</a>"
      ],
      "text/plain": [
       "<IPython.core.display.HTML object>"
      ]
     },
     "metadata": {},
     "output_type": "display_data"
    },
    {
     "data": {
      "text/html": [
       " View project at <a href='https://wandb.ai/andberg9-self/AST_Sweeps' target=\"_blank\">https://wandb.ai/andberg9-self/AST_Sweeps</a>"
      ],
      "text/plain": [
       "<IPython.core.display.HTML object>"
      ]
     },
     "metadata": {},
     "output_type": "display_data"
    },
    {
     "data": {
      "text/html": [
       " View sweep at <a href='https://wandb.ai/andberg9-self/AST_Sweeps/sweeps/ange3go8' target=\"_blank\">https://wandb.ai/andberg9-self/AST_Sweeps/sweeps/ange3go8</a>"
      ],
      "text/plain": [
       "<IPython.core.display.HTML object>"
      ]
     },
     "metadata": {},
     "output_type": "display_data"
    },
    {
     "data": {
      "text/html": [
       " View run at <a href='https://wandb.ai/andberg9-self/AST_Sweeps/runs/mn118stu' target=\"_blank\">https://wandb.ai/andberg9-self/AST_Sweeps/runs/mn118stu</a>"
      ],
      "text/plain": [
       "<IPython.core.display.HTML object>"
      ]
     },
     "metadata": {},
     "output_type": "display_data"
    },
    {
     "name": "stdout",
     "output_type": "stream",
     "text": [
      "ASTForAudioClassification(\n",
      "  (audio_spectrogram_transformer): ASTModel(\n",
      "    (embeddings): ASTEmbeddings(\n",
      "      (patch_embeddings): ASTPatchEmbeddings(\n",
      "        (projection): Conv2d(1, 768, kernel_size=(16, 16), stride=(10, 10))\n",
      "      )\n",
      "      (dropout): Dropout(p=0.0, inplace=False)\n",
      "    )\n",
      "    (encoder): ASTEncoder(\n",
      "      (layer): ModuleList(\n",
      "        (0-11): 12 x ASTLayer(\n",
      "          (attention): ASTSdpaAttention(\n",
      "            (attention): ASTSdpaSelfAttention(\n",
      "              (query): Linear(in_features=768, out_features=768, bias=True)\n",
      "              (key): Linear(in_features=768, out_features=768, bias=True)\n",
      "              (value): Linear(in_features=768, out_features=768, bias=True)\n",
      "              (dropout): Dropout(p=0.0, inplace=False)\n",
      "            )\n",
      "            (output): ASTSelfOutput(\n",
      "              (dense): Linear(in_features=768, out_features=768, bias=True)\n",
      "              (dropout): Dropout(p=0.0, inplace=False)\n",
      "            )\n",
      "          )\n",
      "          (intermediate): ASTIntermediate(\n",
      "            (dense): Linear(in_features=768, out_features=3072, bias=True)\n",
      "            (intermediate_act_fn): GELUActivation()\n",
      "          )\n",
      "          (output): ASTOutput(\n",
      "            (dense): Linear(in_features=3072, out_features=768, bias=True)\n",
      "            (dropout): Dropout(p=0.0, inplace=False)\n",
      "          )\n",
      "          (layernorm_before): LayerNorm((768,), eps=1e-12, elementwise_affine=True)\n",
      "          (layernorm_after): LayerNorm((768,), eps=1e-12, elementwise_affine=True)\n",
      "        )\n",
      "      )\n",
      "    )\n",
      "    (layernorm): LayerNorm((768,), eps=1e-12, elementwise_affine=True)\n",
      "  )\n",
      "  (classifier): ASTMLPHead(\n",
      "    (layernorm): LayerNorm((768,), eps=1e-12, elementwise_affine=True)\n",
      "    (dense): Linear(in_features=768, out_features=9, bias=True)\n",
      "  )\n",
      ")\n"
     ]
    },
    {
     "data": {
      "application/vnd.jupyter.widget-view+json": {
       "model_id": "aa0ada3068e24b33a8bb5bae2eb71cd5",
       "version_major": 2,
       "version_minor": 0
      },
      "text/plain": [
       "  0%|          | 0/7 [00:00<?, ?it/s]"
      ]
     },
     "metadata": {},
     "output_type": "display_data"
    },
    {
     "name": "stdout",
     "output_type": "stream",
     "text": [
      "Epoch 1/7 | Train Loss: 1.3918 | Train Acc: 0.5653 | Train F1: 0.5631 | Test Loss: 0.7493 | Test Acc: 0.8424 | Test F1: 0.8374\n",
      "Epoch 2/7 | Train Loss: 0.5521 | Train Acc: 0.8847 | Train F1: 0.8842 | Test Loss: 0.4589 | Test Acc: 0.9185 | Test F1: 0.9171\n",
      "Epoch 3/7 | Train Loss: 0.4024 | Train Acc: 0.9083 | Train F1: 0.9088 | Test Loss: 0.3992 | Test Acc: 0.9076 | Test F1: 0.9123\n",
      "Epoch 4/7 | Train Loss: 0.3477 | Train Acc: 0.9111 | Train F1: 0.9109 | Test Loss: 0.3352 | Test Acc: 0.9457 | Test F1: 0.9453\n",
      "Epoch 5/7 | Train Loss: 0.3133 | Train Acc: 0.9278 | Train F1: 0.9281 | Test Loss: 0.3346 | Test Acc: 0.9402 | Test F1: 0.9457\n",
      "Epoch 6/7 | Train Loss: 0.3015 | Train Acc: 0.9319 | Train F1: 0.9324 | Test Loss: 0.3235 | Test Acc: 0.9457 | Test F1: 0.9457\n",
      "Epoch 7/7 | Train Loss: 0.3015 | Train Acc: 0.9319 | Train F1: 0.9324 | Test Loss: 0.3248 | Test Acc: 0.9457 | Test F1: 0.9457\n",
      "Train time on cuda: 332.1569161999996\n",
      "Inference Loss: 0.3015, Accuracy: 93.19%\n"
     ]
    },
    {
     "data": {
      "application/vnd.jupyter.widget-view+json": {
       "model_id": "1af4fac1f52543a0ba549837196e3c57",
       "version_major": 2,
       "version_minor": 0
      },
      "text/plain": [
       "VBox(children=(Label(value='0.008 MB of 0.008 MB uploaded\\r'), FloatProgress(value=1.0, max=1.0)))"
      ]
     },
     "metadata": {},
     "output_type": "display_data"
    },
    {
     "data": {
      "text/html": [
       "<style>\n",
       "    table.wandb td:nth-child(1) { padding: 0 10px; text-align: left ; width: auto;} td:nth-child(2) {text-align: left ; width: 100%}\n",
       "    .wandb-row { display: flex; flex-direction: row; flex-wrap: wrap; justify-content: flex-start; width: 100% }\n",
       "    .wandb-col { display: flex; flex-direction: column; flex-basis: 100%; flex: 1; padding: 10px; }\n",
       "    </style>\n",
       "<div class=\"wandb-row\"><div class=\"wandb-col\"><h3>Run history:</h3><br/><table class=\"wandb\"><tr><td>epoch</td><td>▁▂▃▅▆▇█</td></tr><tr><td>inference_accuracy</td><td>▁</td></tr><tr><td>inference_loss</td><td>▁</td></tr><tr><td>test_acc</td><td>▁▆▅████</td></tr><tr><td>test_f1</td><td>▁▆▆████</td></tr><tr><td>test_loss</td><td>█▃▂▁▁▁▁</td></tr><tr><td>test_precision</td><td>▁▆▆████</td></tr><tr><td>test_recall</td><td>▁▆▆████</td></tr><tr><td>train_acc</td><td>▁▇█████</td></tr><tr><td>train_f1</td><td>▁▇█████</td></tr><tr><td>train_loss</td><td>█▃▂▁▁▁▁</td></tr><tr><td>train_precision</td><td>▁▇█████</td></tr><tr><td>train_recall</td><td>▁▇█████</td></tr></table><br/></div><div class=\"wandb-col\"><h3>Run summary:</h3><br/><table class=\"wandb\"><tr><td>epoch</td><td>7</td></tr><tr><td>inference_accuracy</td><td>0.93194</td></tr><tr><td>inference_loss</td><td>0.30154</td></tr><tr><td>test_acc</td><td>0.94565</td></tr><tr><td>test_f1</td><td>0.94569</td></tr><tr><td>test_loss</td><td>0.32484</td></tr><tr><td>test_precision</td><td>0.95204</td></tr><tr><td>test_recall</td><td>0.94444</td></tr><tr><td>train_acc</td><td>0.93194</td></tr><tr><td>train_f1</td><td>0.93238</td></tr><tr><td>train_loss</td><td>0.3015</td></tr><tr><td>train_precision</td><td>0.93346</td></tr><tr><td>train_recall</td><td>0.93194</td></tr><tr><td>train_time</td><td>00:05:32</td></tr></table><br/></div></div>"
      ],
      "text/plain": [
       "<IPython.core.display.HTML object>"
      ]
     },
     "metadata": {},
     "output_type": "display_data"
    },
    {
     "data": {
      "text/html": [
       " View run <strong style=\"color:#cdcd00\">winter-sweep-10</strong> at: <a href='https://wandb.ai/andberg9-self/AST_Sweeps/runs/mn118stu' target=\"_blank\">https://wandb.ai/andberg9-self/AST_Sweeps/runs/mn118stu</a><br/> View project at: <a href='https://wandb.ai/andberg9-self/AST_Sweeps' target=\"_blank\">https://wandb.ai/andberg9-self/AST_Sweeps</a><br/>Synced 5 W&B file(s), 0 media file(s), 0 artifact file(s) and 0 other file(s)"
      ],
      "text/plain": [
       "<IPython.core.display.HTML object>"
      ]
     },
     "metadata": {},
     "output_type": "display_data"
    },
    {
     "data": {
      "text/html": [
       "Find logs at: <code>.\\wandb\\run-20240925_114202-mn118stu\\logs</code>"
      ],
      "text/plain": [
       "<IPython.core.display.HTML object>"
      ]
     },
     "metadata": {},
     "output_type": "display_data"
    },
    {
     "name": "stderr",
     "output_type": "stream",
     "text": [
      "wandb: Agent Starting Run: vz5v5xr7 with config:\n",
      "wandb: \tbatch_size: 32\n",
      "wandb: \tepochs: 7\n",
      "wandb: \tlearning_rate: 0.0005186112793542219\n",
      "wandb: \toptimizer: adamW\n",
      "wandb: \tscheduler: PolynomialLR\n"
     ]
    },
    {
     "data": {
      "text/html": [
       "Tracking run with wandb version 0.18.1"
      ],
      "text/plain": [
       "<IPython.core.display.HTML object>"
      ]
     },
     "metadata": {},
     "output_type": "display_data"
    },
    {
     "data": {
      "text/html": [
       "Run data is saved locally in <code>c:\\Users\\Sidewinders\\Research_notebooks\\Drone_classification\\Research\\notebooks\\wandb\\run-20240925_114758-vz5v5xr7</code>"
      ],
      "text/plain": [
       "<IPython.core.display.HTML object>"
      ]
     },
     "metadata": {},
     "output_type": "display_data"
    },
    {
     "data": {
      "text/html": [
       "Syncing run <strong><a href='https://wandb.ai/andberg9-self/AST_Sweeps/runs/vz5v5xr7' target=\"_blank\">rich-sweep-11</a></strong> to <a href='https://wandb.ai/andberg9-self/AST_Sweeps' target=\"_blank\">Weights & Biases</a> (<a href='https://wandb.me/run' target=\"_blank\">docs</a>)<br/>Sweep page: <a href='https://wandb.ai/andberg9-self/AST_Sweeps/sweeps/ange3go8' target=\"_blank\">https://wandb.ai/andberg9-self/AST_Sweeps/sweeps/ange3go8</a>"
      ],
      "text/plain": [
       "<IPython.core.display.HTML object>"
      ]
     },
     "metadata": {},
     "output_type": "display_data"
    },
    {
     "data": {
      "text/html": [
       " View project at <a href='https://wandb.ai/andberg9-self/AST_Sweeps' target=\"_blank\">https://wandb.ai/andberg9-self/AST_Sweeps</a>"
      ],
      "text/plain": [
       "<IPython.core.display.HTML object>"
      ]
     },
     "metadata": {},
     "output_type": "display_data"
    },
    {
     "data": {
      "text/html": [
       " View sweep at <a href='https://wandb.ai/andberg9-self/AST_Sweeps/sweeps/ange3go8' target=\"_blank\">https://wandb.ai/andberg9-self/AST_Sweeps/sweeps/ange3go8</a>"
      ],
      "text/plain": [
       "<IPython.core.display.HTML object>"
      ]
     },
     "metadata": {},
     "output_type": "display_data"
    },
    {
     "data": {
      "text/html": [
       " View run at <a href='https://wandb.ai/andberg9-self/AST_Sweeps/runs/vz5v5xr7' target=\"_blank\">https://wandb.ai/andberg9-self/AST_Sweeps/runs/vz5v5xr7</a>"
      ],
      "text/plain": [
       "<IPython.core.display.HTML object>"
      ]
     },
     "metadata": {},
     "output_type": "display_data"
    },
    {
     "name": "stdout",
     "output_type": "stream",
     "text": [
      "ASTForAudioClassification(\n",
      "  (audio_spectrogram_transformer): ASTModel(\n",
      "    (embeddings): ASTEmbeddings(\n",
      "      (patch_embeddings): ASTPatchEmbeddings(\n",
      "        (projection): Conv2d(1, 768, kernel_size=(16, 16), stride=(10, 10))\n",
      "      )\n",
      "      (dropout): Dropout(p=0.0, inplace=False)\n",
      "    )\n",
      "    (encoder): ASTEncoder(\n",
      "      (layer): ModuleList(\n",
      "        (0-11): 12 x ASTLayer(\n",
      "          (attention): ASTSdpaAttention(\n",
      "            (attention): ASTSdpaSelfAttention(\n",
      "              (query): Linear(in_features=768, out_features=768, bias=True)\n",
      "              (key): Linear(in_features=768, out_features=768, bias=True)\n",
      "              (value): Linear(in_features=768, out_features=768, bias=True)\n",
      "              (dropout): Dropout(p=0.0, inplace=False)\n",
      "            )\n",
      "            (output): ASTSelfOutput(\n",
      "              (dense): Linear(in_features=768, out_features=768, bias=True)\n",
      "              (dropout): Dropout(p=0.0, inplace=False)\n",
      "            )\n",
      "          )\n",
      "          (intermediate): ASTIntermediate(\n",
      "            (dense): Linear(in_features=768, out_features=3072, bias=True)\n",
      "            (intermediate_act_fn): GELUActivation()\n",
      "          )\n",
      "          (output): ASTOutput(\n",
      "            (dense): Linear(in_features=3072, out_features=768, bias=True)\n",
      "            (dropout): Dropout(p=0.0, inplace=False)\n",
      "          )\n",
      "          (layernorm_before): LayerNorm((768,), eps=1e-12, elementwise_affine=True)\n",
      "          (layernorm_after): LayerNorm((768,), eps=1e-12, elementwise_affine=True)\n",
      "        )\n",
      "      )\n",
      "    )\n",
      "    (layernorm): LayerNorm((768,), eps=1e-12, elementwise_affine=True)\n",
      "  )\n",
      "  (classifier): ASTMLPHead(\n",
      "    (layernorm): LayerNorm((768,), eps=1e-12, elementwise_affine=True)\n",
      "    (dense): Linear(in_features=768, out_features=9, bias=True)\n",
      "  )\n",
      ")\n"
     ]
    },
    {
     "data": {
      "application/vnd.jupyter.widget-view+json": {
       "model_id": "7c1caf20172f488eb203e7ed690bf280",
       "version_major": 2,
       "version_minor": 0
      },
      "text/plain": [
       "  0%|          | 0/7 [00:00<?, ?it/s]"
      ]
     },
     "metadata": {},
     "output_type": "display_data"
    },
    {
     "name": "stdout",
     "output_type": "stream",
     "text": [
      "Epoch 1/7 | Train Loss: 2.2055 | Train Acc: 0.2038 | Train F1: 0.1754 | Test Loss: 1.9665 | Test Acc: 0.3271 | Test F1: 0.2912\n",
      "Epoch 2/7 | Train Loss: 1.7244 | Train Acc: 0.5027 | Train F1: 0.4709 | Test Loss: 1.6382 | Test Acc: 0.5615 | Test F1: 0.5627\n",
      "Epoch 3/7 | Train Loss: 1.4413 | Train Acc: 0.6671 | Train F1: 0.6494 | Test Loss: 1.3928 | Test Acc: 0.7042 | Test F1: 0.6743\n",
      "Epoch 4/7 | Train Loss: 1.2563 | Train Acc: 0.7636 | Train F1: 0.7498 | Test Loss: 1.2635 | Test Acc: 0.7500 | Test F1: 0.7284\n",
      "Epoch 5/7 | Train Loss: 1.1681 | Train Acc: 0.7826 | Train F1: 0.7721 | Test Loss: 1.2050 | Test Acc: 0.7583 | Test F1: 0.7322\n",
      "Epoch 6/7 | Train Loss: 1.1342 | Train Acc: 0.7908 | Train F1: 0.7753 | Test Loss: 1.2049 | Test Acc: 0.7552 | Test F1: 0.7322\n",
      "Epoch 7/7 | Train Loss: 1.1415 | Train Acc: 0.7853 | Train F1: 0.7753 | Test Loss: 1.2031 | Test Acc: 0.7646 | Test F1: 0.7322\n",
      "Train time on cuda: 334.4828544000002\n",
      "Inference Loss: 1.1380, Accuracy: 78.61%\n"
     ]
    },
    {
     "data": {
      "application/vnd.jupyter.widget-view+json": {
       "model_id": "03c8c262795d4e9c96e0941e7e231673",
       "version_major": 2,
       "version_minor": 0
      },
      "text/plain": [
       "VBox(children=(Label(value='0.008 MB of 0.008 MB uploaded\\r'), FloatProgress(value=1.0, max=1.0)))"
      ]
     },
     "metadata": {},
     "output_type": "display_data"
    },
    {
     "data": {
      "text/html": [
       "<style>\n",
       "    table.wandb td:nth-child(1) { padding: 0 10px; text-align: left ; width: auto;} td:nth-child(2) {text-align: left ; width: 100%}\n",
       "    .wandb-row { display: flex; flex-direction: row; flex-wrap: wrap; justify-content: flex-start; width: 100% }\n",
       "    .wandb-col { display: flex; flex-direction: column; flex-basis: 100%; flex: 1; padding: 10px; }\n",
       "    </style>\n",
       "<div class=\"wandb-row\"><div class=\"wandb-col\"><h3>Run history:</h3><br/><table class=\"wandb\"><tr><td>epoch</td><td>▁▂▃▅▆▇█</td></tr><tr><td>inference_accuracy</td><td>▁</td></tr><tr><td>inference_loss</td><td>▁</td></tr><tr><td>test_acc</td><td>▁▅▇████</td></tr><tr><td>test_f1</td><td>▁▅▇████</td></tr><tr><td>test_loss</td><td>█▅▃▂▁▁▁</td></tr><tr><td>test_precision</td><td>▁▆▇████</td></tr><tr><td>test_recall</td><td>▁▅▇████</td></tr><tr><td>train_acc</td><td>▁▅▇████</td></tr><tr><td>train_f1</td><td>▁▄▇████</td></tr><tr><td>train_loss</td><td>█▅▃▂▁▁▁</td></tr><tr><td>train_precision</td><td>▁▅▇████</td></tr><tr><td>train_recall</td><td>▁▅▇████</td></tr></table><br/></div><div class=\"wandb-col\"><h3>Run summary:</h3><br/><table class=\"wandb\"><tr><td>epoch</td><td>7</td></tr><tr><td>inference_accuracy</td><td>0.78611</td></tr><tr><td>inference_loss</td><td>1.13799</td></tr><tr><td>test_acc</td><td>0.76458</td></tr><tr><td>test_f1</td><td>0.73217</td></tr><tr><td>test_loss</td><td>1.20312</td></tr><tr><td>test_precision</td><td>0.73652</td></tr><tr><td>test_recall</td><td>0.75556</td></tr><tr><td>train_acc</td><td>0.78533</td></tr><tr><td>train_f1</td><td>0.77532</td></tr><tr><td>train_loss</td><td>1.14155</td></tr><tr><td>train_precision</td><td>0.77999</td></tr><tr><td>train_recall</td><td>0.78611</td></tr><tr><td>train_time</td><td>00:05:34</td></tr></table><br/></div></div>"
      ],
      "text/plain": [
       "<IPython.core.display.HTML object>"
      ]
     },
     "metadata": {},
     "output_type": "display_data"
    },
    {
     "data": {
      "text/html": [
       " View run <strong style=\"color:#cdcd00\">rich-sweep-11</strong> at: <a href='https://wandb.ai/andberg9-self/AST_Sweeps/runs/vz5v5xr7' target=\"_blank\">https://wandb.ai/andberg9-self/AST_Sweeps/runs/vz5v5xr7</a><br/> View project at: <a href='https://wandb.ai/andberg9-self/AST_Sweeps' target=\"_blank\">https://wandb.ai/andberg9-self/AST_Sweeps</a><br/>Synced 5 W&B file(s), 0 media file(s), 0 artifact file(s) and 0 other file(s)"
      ],
      "text/plain": [
       "<IPython.core.display.HTML object>"
      ]
     },
     "metadata": {},
     "output_type": "display_data"
    },
    {
     "data": {
      "text/html": [
       "Find logs at: <code>.\\wandb\\run-20240925_114758-vz5v5xr7\\logs</code>"
      ],
      "text/plain": [
       "<IPython.core.display.HTML object>"
      ]
     },
     "metadata": {},
     "output_type": "display_data"
    },
    {
     "name": "stderr",
     "output_type": "stream",
     "text": [
      "wandb: Agent Starting Run: pfxywlkw with config:\n",
      "wandb: \tbatch_size: 32\n",
      "wandb: \tepochs: 7\n",
      "wandb: \tlearning_rate: 0.0004192340308168372\n",
      "wandb: \toptimizer: adamW\n",
      "wandb: \tscheduler: PolynomialLR\n"
     ]
    },
    {
     "data": {
      "text/html": [
       "Tracking run with wandb version 0.18.1"
      ],
      "text/plain": [
       "<IPython.core.display.HTML object>"
      ]
     },
     "metadata": {},
     "output_type": "display_data"
    },
    {
     "data": {
      "text/html": [
       "Run data is saved locally in <code>c:\\Users\\Sidewinders\\Research_notebooks\\Drone_classification\\Research\\notebooks\\wandb\\run-20240925_115356-pfxywlkw</code>"
      ],
      "text/plain": [
       "<IPython.core.display.HTML object>"
      ]
     },
     "metadata": {},
     "output_type": "display_data"
    },
    {
     "data": {
      "text/html": [
       "Syncing run <strong><a href='https://wandb.ai/andberg9-self/AST_Sweeps/runs/pfxywlkw' target=\"_blank\">winter-sweep-12</a></strong> to <a href='https://wandb.ai/andberg9-self/AST_Sweeps' target=\"_blank\">Weights & Biases</a> (<a href='https://wandb.me/run' target=\"_blank\">docs</a>)<br/>Sweep page: <a href='https://wandb.ai/andberg9-self/AST_Sweeps/sweeps/ange3go8' target=\"_blank\">https://wandb.ai/andberg9-self/AST_Sweeps/sweeps/ange3go8</a>"
      ],
      "text/plain": [
       "<IPython.core.display.HTML object>"
      ]
     },
     "metadata": {},
     "output_type": "display_data"
    },
    {
     "data": {
      "text/html": [
       " View project at <a href='https://wandb.ai/andberg9-self/AST_Sweeps' target=\"_blank\">https://wandb.ai/andberg9-self/AST_Sweeps</a>"
      ],
      "text/plain": [
       "<IPython.core.display.HTML object>"
      ]
     },
     "metadata": {},
     "output_type": "display_data"
    },
    {
     "data": {
      "text/html": [
       " View sweep at <a href='https://wandb.ai/andberg9-self/AST_Sweeps/sweeps/ange3go8' target=\"_blank\">https://wandb.ai/andberg9-self/AST_Sweeps/sweeps/ange3go8</a>"
      ],
      "text/plain": [
       "<IPython.core.display.HTML object>"
      ]
     },
     "metadata": {},
     "output_type": "display_data"
    },
    {
     "data": {
      "text/html": [
       " View run at <a href='https://wandb.ai/andberg9-self/AST_Sweeps/runs/pfxywlkw' target=\"_blank\">https://wandb.ai/andberg9-self/AST_Sweeps/runs/pfxywlkw</a>"
      ],
      "text/plain": [
       "<IPython.core.display.HTML object>"
      ]
     },
     "metadata": {},
     "output_type": "display_data"
    },
    {
     "name": "stdout",
     "output_type": "stream",
     "text": [
      "ASTForAudioClassification(\n",
      "  (audio_spectrogram_transformer): ASTModel(\n",
      "    (embeddings): ASTEmbeddings(\n",
      "      (patch_embeddings): ASTPatchEmbeddings(\n",
      "        (projection): Conv2d(1, 768, kernel_size=(16, 16), stride=(10, 10))\n",
      "      )\n",
      "      (dropout): Dropout(p=0.0, inplace=False)\n",
      "    )\n",
      "    (encoder): ASTEncoder(\n",
      "      (layer): ModuleList(\n",
      "        (0-11): 12 x ASTLayer(\n",
      "          (attention): ASTSdpaAttention(\n",
      "            (attention): ASTSdpaSelfAttention(\n",
      "              (query): Linear(in_features=768, out_features=768, bias=True)\n",
      "              (key): Linear(in_features=768, out_features=768, bias=True)\n",
      "              (value): Linear(in_features=768, out_features=768, bias=True)\n",
      "              (dropout): Dropout(p=0.0, inplace=False)\n",
      "            )\n",
      "            (output): ASTSelfOutput(\n",
      "              (dense): Linear(in_features=768, out_features=768, bias=True)\n",
      "              (dropout): Dropout(p=0.0, inplace=False)\n",
      "            )\n",
      "          )\n",
      "          (intermediate): ASTIntermediate(\n",
      "            (dense): Linear(in_features=768, out_features=3072, bias=True)\n",
      "            (intermediate_act_fn): GELUActivation()\n",
      "          )\n",
      "          (output): ASTOutput(\n",
      "            (dense): Linear(in_features=3072, out_features=768, bias=True)\n",
      "            (dropout): Dropout(p=0.0, inplace=False)\n",
      "          )\n",
      "          (layernorm_before): LayerNorm((768,), eps=1e-12, elementwise_affine=True)\n",
      "          (layernorm_after): LayerNorm((768,), eps=1e-12, elementwise_affine=True)\n",
      "        )\n",
      "      )\n",
      "    )\n",
      "    (layernorm): LayerNorm((768,), eps=1e-12, elementwise_affine=True)\n",
      "  )\n",
      "  (classifier): ASTMLPHead(\n",
      "    (layernorm): LayerNorm((768,), eps=1e-12, elementwise_affine=True)\n",
      "    (dense): Linear(in_features=768, out_features=9, bias=True)\n",
      "  )\n",
      ")\n"
     ]
    },
    {
     "data": {
      "application/vnd.jupyter.widget-view+json": {
       "model_id": "53de4f9607334b04bc418de2a7e16ee0",
       "version_major": 2,
       "version_minor": 0
      },
      "text/plain": [
       "  0%|          | 0/7 [00:00<?, ?it/s]"
      ]
     },
     "metadata": {},
     "output_type": "display_data"
    },
    {
     "name": "stdout",
     "output_type": "stream",
     "text": [
      "Epoch 1/7 | Train Loss: 2.1289 | Train Acc: 0.2011 | Train F1: 0.1798 | Test Loss: 1.9250 | Test Acc: 0.3604 | Test F1: 0.3351\n",
      "Epoch 2/7 | Train Loss: 1.7551 | Train Acc: 0.5068 | Train F1: 0.4991 | Test Loss: 1.6455 | Test Acc: 0.5698 | Test F1: 0.5696\n",
      "Epoch 3/7 | Train Loss: 1.5054 | Train Acc: 0.6929 | Train F1: 0.6797 | Test Loss: 1.4519 | Test Acc: 0.7260 | Test F1: 0.7288\n",
      "Epoch 4/7 | Train Loss: 1.3539 | Train Acc: 0.7677 | Train F1: 0.7596 | Test Loss: 1.3288 | Test Acc: 0.7854 | Test F1: 0.7745\n",
      "Epoch 5/7 | Train Loss: 1.2731 | Train Acc: 0.7880 | Train F1: 0.7855 | Test Loss: 1.2858 | Test Acc: 0.8146 | Test F1: 0.8018\n",
      "Epoch 6/7 | Train Loss: 1.2435 | Train Acc: 0.7921 | Train F1: 0.7864 | Test Loss: 1.2941 | Test Acc: 0.8021 | Test F1: 0.8018\n",
      "Epoch 7/7 | Train Loss: 1.2471 | Train Acc: 0.7908 | Train F1: 0.7864 | Test Loss: 1.2809 | Test Acc: 0.8052 | Test F1: 0.8018\n",
      "Train time on cuda: 334.2382447\n",
      "Inference Loss: 1.2400, Accuracy: 79.17%\n"
     ]
    },
    {
     "data": {
      "application/vnd.jupyter.widget-view+json": {
       "model_id": "9d16455102ef4098b58b504bd5153640",
       "version_major": 2,
       "version_minor": 0
      },
      "text/plain": [
       "VBox(children=(Label(value='0.008 MB of 0.008 MB uploaded\\r'), FloatProgress(value=1.0, max=1.0)))"
      ]
     },
     "metadata": {},
     "output_type": "display_data"
    },
    {
     "data": {
      "text/html": [
       "<style>\n",
       "    table.wandb td:nth-child(1) { padding: 0 10px; text-align: left ; width: auto;} td:nth-child(2) {text-align: left ; width: 100%}\n",
       "    .wandb-row { display: flex; flex-direction: row; flex-wrap: wrap; justify-content: flex-start; width: 100% }\n",
       "    .wandb-col { display: flex; flex-direction: column; flex-basis: 100%; flex: 1; padding: 10px; }\n",
       "    </style>\n",
       "<div class=\"wandb-row\"><div class=\"wandb-col\"><h3>Run history:</h3><br/><table class=\"wandb\"><tr><td>epoch</td><td>▁▂▃▅▆▇█</td></tr><tr><td>inference_accuracy</td><td>▁</td></tr><tr><td>inference_loss</td><td>▁</td></tr><tr><td>test_acc</td><td>▁▄▇████</td></tr><tr><td>test_f1</td><td>▁▅▇████</td></tr><tr><td>test_loss</td><td>█▅▃▂▁▁▁</td></tr><tr><td>test_precision</td><td>▁▄▇▇███</td></tr><tr><td>test_recall</td><td>▁▄▇████</td></tr><tr><td>train_acc</td><td>▁▅▇████</td></tr><tr><td>train_f1</td><td>▁▅▇████</td></tr><tr><td>train_loss</td><td>█▅▃▂▁▁▁</td></tr><tr><td>train_precision</td><td>▁▄▇████</td></tr><tr><td>train_recall</td><td>▁▅▇████</td></tr></table><br/></div><div class=\"wandb-col\"><h3>Run summary:</h3><br/><table class=\"wandb\"><tr><td>epoch</td><td>7</td></tr><tr><td>inference_accuracy</td><td>0.79167</td></tr><tr><td>inference_loss</td><td>1.24001</td></tr><tr><td>test_acc</td><td>0.80521</td></tr><tr><td>test_f1</td><td>0.80176</td></tr><tr><td>test_loss</td><td>1.28087</td></tr><tr><td>test_precision</td><td>0.8163</td></tr><tr><td>test_recall</td><td>0.80556</td></tr><tr><td>train_acc</td><td>0.79076</td></tr><tr><td>train_f1</td><td>0.7864</td></tr><tr><td>train_loss</td><td>1.24714</td></tr><tr><td>train_precision</td><td>0.78934</td></tr><tr><td>train_recall</td><td>0.79167</td></tr><tr><td>train_time</td><td>00:05:34</td></tr></table><br/></div></div>"
      ],
      "text/plain": [
       "<IPython.core.display.HTML object>"
      ]
     },
     "metadata": {},
     "output_type": "display_data"
    },
    {
     "data": {
      "text/html": [
       " View run <strong style=\"color:#cdcd00\">winter-sweep-12</strong> at: <a href='https://wandb.ai/andberg9-self/AST_Sweeps/runs/pfxywlkw' target=\"_blank\">https://wandb.ai/andberg9-self/AST_Sweeps/runs/pfxywlkw</a><br/> View project at: <a href='https://wandb.ai/andberg9-self/AST_Sweeps' target=\"_blank\">https://wandb.ai/andberg9-self/AST_Sweeps</a><br/>Synced 5 W&B file(s), 0 media file(s), 0 artifact file(s) and 0 other file(s)"
      ],
      "text/plain": [
       "<IPython.core.display.HTML object>"
      ]
     },
     "metadata": {},
     "output_type": "display_data"
    },
    {
     "data": {
      "text/html": [
       "Find logs at: <code>.\\wandb\\run-20240925_115356-pfxywlkw\\logs</code>"
      ],
      "text/plain": [
       "<IPython.core.display.HTML object>"
      ]
     },
     "metadata": {},
     "output_type": "display_data"
    },
    {
     "name": "stderr",
     "output_type": "stream",
     "text": [
      "wandb: Agent Starting Run: bq184797 with config:\n",
      "wandb: \tbatch_size: 16\n",
      "wandb: \tepochs: 7\n",
      "wandb: \tlearning_rate: 0.000463395587945426\n",
      "wandb: \toptimizer: adamW\n",
      "wandb: \tscheduler: PolynomialLR\n"
     ]
    },
    {
     "data": {
      "text/html": [
       "Tracking run with wandb version 0.18.1"
      ],
      "text/plain": [
       "<IPython.core.display.HTML object>"
      ]
     },
     "metadata": {},
     "output_type": "display_data"
    },
    {
     "data": {
      "text/html": [
       "Run data is saved locally in <code>c:\\Users\\Sidewinders\\Research_notebooks\\Drone_classification\\Research\\notebooks\\wandb\\run-20240925_115953-bq184797</code>"
      ],
      "text/plain": [
       "<IPython.core.display.HTML object>"
      ]
     },
     "metadata": {},
     "output_type": "display_data"
    },
    {
     "data": {
      "text/html": [
       "Syncing run <strong><a href='https://wandb.ai/andberg9-self/AST_Sweeps/runs/bq184797' target=\"_blank\">colorful-sweep-13</a></strong> to <a href='https://wandb.ai/andberg9-self/AST_Sweeps' target=\"_blank\">Weights & Biases</a> (<a href='https://wandb.me/run' target=\"_blank\">docs</a>)<br/>Sweep page: <a href='https://wandb.ai/andberg9-self/AST_Sweeps/sweeps/ange3go8' target=\"_blank\">https://wandb.ai/andberg9-self/AST_Sweeps/sweeps/ange3go8</a>"
      ],
      "text/plain": [
       "<IPython.core.display.HTML object>"
      ]
     },
     "metadata": {},
     "output_type": "display_data"
    },
    {
     "data": {
      "text/html": [
       " View project at <a href='https://wandb.ai/andberg9-self/AST_Sweeps' target=\"_blank\">https://wandb.ai/andberg9-self/AST_Sweeps</a>"
      ],
      "text/plain": [
       "<IPython.core.display.HTML object>"
      ]
     },
     "metadata": {},
     "output_type": "display_data"
    },
    {
     "data": {
      "text/html": [
       " View sweep at <a href='https://wandb.ai/andberg9-self/AST_Sweeps/sweeps/ange3go8' target=\"_blank\">https://wandb.ai/andberg9-self/AST_Sweeps/sweeps/ange3go8</a>"
      ],
      "text/plain": [
       "<IPython.core.display.HTML object>"
      ]
     },
     "metadata": {},
     "output_type": "display_data"
    },
    {
     "data": {
      "text/html": [
       " View run at <a href='https://wandb.ai/andberg9-self/AST_Sweeps/runs/bq184797' target=\"_blank\">https://wandb.ai/andberg9-self/AST_Sweeps/runs/bq184797</a>"
      ],
      "text/plain": [
       "<IPython.core.display.HTML object>"
      ]
     },
     "metadata": {},
     "output_type": "display_data"
    },
    {
     "name": "stdout",
     "output_type": "stream",
     "text": [
      "ASTForAudioClassification(\n",
      "  (audio_spectrogram_transformer): ASTModel(\n",
      "    (embeddings): ASTEmbeddings(\n",
      "      (patch_embeddings): ASTPatchEmbeddings(\n",
      "        (projection): Conv2d(1, 768, kernel_size=(16, 16), stride=(10, 10))\n",
      "      )\n",
      "      (dropout): Dropout(p=0.0, inplace=False)\n",
      "    )\n",
      "    (encoder): ASTEncoder(\n",
      "      (layer): ModuleList(\n",
      "        (0-11): 12 x ASTLayer(\n",
      "          (attention): ASTSdpaAttention(\n",
      "            (attention): ASTSdpaSelfAttention(\n",
      "              (query): Linear(in_features=768, out_features=768, bias=True)\n",
      "              (key): Linear(in_features=768, out_features=768, bias=True)\n",
      "              (value): Linear(in_features=768, out_features=768, bias=True)\n",
      "              (dropout): Dropout(p=0.0, inplace=False)\n",
      "            )\n",
      "            (output): ASTSelfOutput(\n",
      "              (dense): Linear(in_features=768, out_features=768, bias=True)\n",
      "              (dropout): Dropout(p=0.0, inplace=False)\n",
      "            )\n",
      "          )\n",
      "          (intermediate): ASTIntermediate(\n",
      "            (dense): Linear(in_features=768, out_features=3072, bias=True)\n",
      "            (intermediate_act_fn): GELUActivation()\n",
      "          )\n",
      "          (output): ASTOutput(\n",
      "            (dense): Linear(in_features=3072, out_features=768, bias=True)\n",
      "            (dropout): Dropout(p=0.0, inplace=False)\n",
      "          )\n",
      "          (layernorm_before): LayerNorm((768,), eps=1e-12, elementwise_affine=True)\n",
      "          (layernorm_after): LayerNorm((768,), eps=1e-12, elementwise_affine=True)\n",
      "        )\n",
      "      )\n",
      "    )\n",
      "    (layernorm): LayerNorm((768,), eps=1e-12, elementwise_affine=True)\n",
      "  )\n",
      "  (classifier): ASTMLPHead(\n",
      "    (layernorm): LayerNorm((768,), eps=1e-12, elementwise_affine=True)\n",
      "    (dense): Linear(in_features=768, out_features=9, bias=True)\n",
      "  )\n",
      ")\n"
     ]
    },
    {
     "data": {
      "application/vnd.jupyter.widget-view+json": {
       "model_id": "4cf4bcc7420949df85b067f76777278f",
       "version_major": 2,
       "version_minor": 0
      },
      "text/plain": [
       "  0%|          | 0/7 [00:00<?, ?it/s]"
      ]
     },
     "metadata": {},
     "output_type": "display_data"
    },
    {
     "name": "stdout",
     "output_type": "stream",
     "text": [
      "Epoch 1/7 | Train Loss: 2.0517 | Train Acc: 0.2806 | Train F1: 0.2937 | Test Loss: 1.6034 | Test Acc: 0.6198 | Test F1: 0.6155\n",
      "Epoch 2/7 | Train Loss: 1.3499 | Train Acc: 0.7236 | Train F1: 0.7171 | Test Loss: 1.1127 | Test Acc: 0.8177 | Test F1: 0.8183\n",
      "Epoch 3/7 | Train Loss: 1.0039 | Train Acc: 0.8167 | Train F1: 0.8142 | Test Loss: 0.8958 | Test Acc: 0.8490 | Test F1: 0.8540\n",
      "Epoch 4/7 | Train Loss: 0.8419 | Train Acc: 0.8500 | Train F1: 0.8498 | Test Loss: 0.8240 | Test Acc: 0.8438 | Test F1: 0.8654\n",
      "Epoch 5/7 | Train Loss: 0.7711 | Train Acc: 0.8569 | Train F1: 0.8570 | Test Loss: 0.7300 | Test Acc: 0.8854 | Test F1: 0.8759\n",
      "Epoch 6/7 | Train Loss: 0.7481 | Train Acc: 0.8667 | Train F1: 0.8666 | Test Loss: 0.7766 | Test Acc: 0.8698 | Test F1: 0.8759\n",
      "Epoch 7/7 | Train Loss: 0.7481 | Train Acc: 0.8667 | Train F1: 0.8666 | Test Loss: 0.7565 | Test Acc: 0.8854 | Test F1: 0.8759\n",
      "Train time on cuda: 334.20366809999996\n",
      "Inference Loss: 0.7481, Accuracy: 86.67%\n"
     ]
    },
    {
     "data": {
      "application/vnd.jupyter.widget-view+json": {
       "model_id": "09b3684753f044cb9a4db7cdf9cb4806",
       "version_major": 2,
       "version_minor": 0
      },
      "text/plain": [
       "VBox(children=(Label(value='0.008 MB of 0.008 MB uploaded\\r'), FloatProgress(value=1.0, max=1.0)))"
      ]
     },
     "metadata": {},
     "output_type": "display_data"
    },
    {
     "data": {
      "text/html": [
       "<style>\n",
       "    table.wandb td:nth-child(1) { padding: 0 10px; text-align: left ; width: auto;} td:nth-child(2) {text-align: left ; width: 100%}\n",
       "    .wandb-row { display: flex; flex-direction: row; flex-wrap: wrap; justify-content: flex-start; width: 100% }\n",
       "    .wandb-col { display: flex; flex-direction: column; flex-basis: 100%; flex: 1; padding: 10px; }\n",
       "    </style>\n",
       "<div class=\"wandb-row\"><div class=\"wandb-col\"><h3>Run history:</h3><br/><table class=\"wandb\"><tr><td>epoch</td><td>▁▂▃▅▆▇█</td></tr><tr><td>inference_accuracy</td><td>▁</td></tr><tr><td>inference_loss</td><td>▁</td></tr><tr><td>test_acc</td><td>▁▆▇▇███</td></tr><tr><td>test_f1</td><td>▁▆▇████</td></tr><tr><td>test_loss</td><td>█▄▂▂▁▁▁</td></tr><tr><td>test_precision</td><td>▁▆▇████</td></tr><tr><td>test_recall</td><td>▁▆▇████</td></tr><tr><td>train_acc</td><td>▁▆▇████</td></tr><tr><td>train_f1</td><td>▁▆▇████</td></tr><tr><td>train_loss</td><td>█▄▂▂▁▁▁</td></tr><tr><td>train_precision</td><td>▁▆▇████</td></tr><tr><td>train_recall</td><td>▁▆▇████</td></tr></table><br/></div><div class=\"wandb-col\"><h3>Run summary:</h3><br/><table class=\"wandb\"><tr><td>epoch</td><td>7</td></tr><tr><td>inference_accuracy</td><td>0.86667</td></tr><tr><td>inference_loss</td><td>0.74807</td></tr><tr><td>test_acc</td><td>0.88542</td></tr><tr><td>test_f1</td><td>0.8759</td></tr><tr><td>test_loss</td><td>0.75648</td></tr><tr><td>test_precision</td><td>0.89381</td></tr><tr><td>test_recall</td><td>0.87778</td></tr><tr><td>train_acc</td><td>0.86667</td></tr><tr><td>train_f1</td><td>0.8666</td></tr><tr><td>train_loss</td><td>0.74809</td></tr><tr><td>train_precision</td><td>0.87106</td></tr><tr><td>train_recall</td><td>0.86667</td></tr><tr><td>train_time</td><td>00:05:34</td></tr></table><br/></div></div>"
      ],
      "text/plain": [
       "<IPython.core.display.HTML object>"
      ]
     },
     "metadata": {},
     "output_type": "display_data"
    },
    {
     "data": {
      "text/html": [
       " View run <strong style=\"color:#cdcd00\">colorful-sweep-13</strong> at: <a href='https://wandb.ai/andberg9-self/AST_Sweeps/runs/bq184797' target=\"_blank\">https://wandb.ai/andberg9-self/AST_Sweeps/runs/bq184797</a><br/> View project at: <a href='https://wandb.ai/andberg9-self/AST_Sweeps' target=\"_blank\">https://wandb.ai/andberg9-self/AST_Sweeps</a><br/>Synced 5 W&B file(s), 0 media file(s), 0 artifact file(s) and 0 other file(s)"
      ],
      "text/plain": [
       "<IPython.core.display.HTML object>"
      ]
     },
     "metadata": {},
     "output_type": "display_data"
    },
    {
     "data": {
      "text/html": [
       "Find logs at: <code>.\\wandb\\run-20240925_115953-bq184797\\logs</code>"
      ],
      "text/plain": [
       "<IPython.core.display.HTML object>"
      ]
     },
     "metadata": {},
     "output_type": "display_data"
    },
    {
     "name": "stderr",
     "output_type": "stream",
     "text": [
      "wandb: Agent Starting Run: kfqk41wm with config:\n",
      "wandb: \tbatch_size: 16\n",
      "wandb: \tepochs: 7\n",
      "wandb: \tlearning_rate: 0.0002723654054511924\n",
      "wandb: \toptimizer: adamW\n",
      "wandb: \tscheduler: PolynomialLR\n"
     ]
    },
    {
     "data": {
      "text/html": [
       "Tracking run with wandb version 0.18.1"
      ],
      "text/plain": [
       "<IPython.core.display.HTML object>"
      ]
     },
     "metadata": {},
     "output_type": "display_data"
    },
    {
     "data": {
      "text/html": [
       "Run data is saved locally in <code>c:\\Users\\Sidewinders\\Research_notebooks\\Drone_classification\\Research\\notebooks\\wandb\\run-20240925_120655-kfqk41wm</code>"
      ],
      "text/plain": [
       "<IPython.core.display.HTML object>"
      ]
     },
     "metadata": {},
     "output_type": "display_data"
    },
    {
     "data": {
      "text/html": [
       "Syncing run <strong><a href='https://wandb.ai/andberg9-self/AST_Sweeps/runs/kfqk41wm' target=\"_blank\">lunar-sweep-14</a></strong> to <a href='https://wandb.ai/andberg9-self/AST_Sweeps' target=\"_blank\">Weights & Biases</a> (<a href='https://wandb.me/run' target=\"_blank\">docs</a>)<br/>Sweep page: <a href='https://wandb.ai/andberg9-self/AST_Sweeps/sweeps/ange3go8' target=\"_blank\">https://wandb.ai/andberg9-self/AST_Sweeps/sweeps/ange3go8</a>"
      ],
      "text/plain": [
       "<IPython.core.display.HTML object>"
      ]
     },
     "metadata": {},
     "output_type": "display_data"
    },
    {
     "data": {
      "text/html": [
       " View project at <a href='https://wandb.ai/andberg9-self/AST_Sweeps' target=\"_blank\">https://wandb.ai/andberg9-self/AST_Sweeps</a>"
      ],
      "text/plain": [
       "<IPython.core.display.HTML object>"
      ]
     },
     "metadata": {},
     "output_type": "display_data"
    },
    {
     "data": {
      "text/html": [
       " View sweep at <a href='https://wandb.ai/andberg9-self/AST_Sweeps/sweeps/ange3go8' target=\"_blank\">https://wandb.ai/andberg9-self/AST_Sweeps/sweeps/ange3go8</a>"
      ],
      "text/plain": [
       "<IPython.core.display.HTML object>"
      ]
     },
     "metadata": {},
     "output_type": "display_data"
    },
    {
     "data": {
      "text/html": [
       " View run at <a href='https://wandb.ai/andberg9-self/AST_Sweeps/runs/kfqk41wm' target=\"_blank\">https://wandb.ai/andberg9-self/AST_Sweeps/runs/kfqk41wm</a>"
      ],
      "text/plain": [
       "<IPython.core.display.HTML object>"
      ]
     },
     "metadata": {},
     "output_type": "display_data"
    },
    {
     "name": "stdout",
     "output_type": "stream",
     "text": [
      "ASTForAudioClassification(\n",
      "  (audio_spectrogram_transformer): ASTModel(\n",
      "    (embeddings): ASTEmbeddings(\n",
      "      (patch_embeddings): ASTPatchEmbeddings(\n",
      "        (projection): Conv2d(1, 768, kernel_size=(16, 16), stride=(10, 10))\n",
      "      )\n",
      "      (dropout): Dropout(p=0.0, inplace=False)\n",
      "    )\n",
      "    (encoder): ASTEncoder(\n",
      "      (layer): ModuleList(\n",
      "        (0-11): 12 x ASTLayer(\n",
      "          (attention): ASTSdpaAttention(\n",
      "            (attention): ASTSdpaSelfAttention(\n",
      "              (query): Linear(in_features=768, out_features=768, bias=True)\n",
      "              (key): Linear(in_features=768, out_features=768, bias=True)\n",
      "              (value): Linear(in_features=768, out_features=768, bias=True)\n",
      "              (dropout): Dropout(p=0.0, inplace=False)\n",
      "            )\n",
      "            (output): ASTSelfOutput(\n",
      "              (dense): Linear(in_features=768, out_features=768, bias=True)\n",
      "              (dropout): Dropout(p=0.0, inplace=False)\n",
      "            )\n",
      "          )\n",
      "          (intermediate): ASTIntermediate(\n",
      "            (dense): Linear(in_features=768, out_features=3072, bias=True)\n",
      "            (intermediate_act_fn): GELUActivation()\n",
      "          )\n",
      "          (output): ASTOutput(\n",
      "            (dense): Linear(in_features=3072, out_features=768, bias=True)\n",
      "            (dropout): Dropout(p=0.0, inplace=False)\n",
      "          )\n",
      "          (layernorm_before): LayerNorm((768,), eps=1e-12, elementwise_affine=True)\n",
      "          (layernorm_after): LayerNorm((768,), eps=1e-12, elementwise_affine=True)\n",
      "        )\n",
      "      )\n",
      "    )\n",
      "    (layernorm): LayerNorm((768,), eps=1e-12, elementwise_affine=True)\n",
      "  )\n",
      "  (classifier): ASTMLPHead(\n",
      "    (layernorm): LayerNorm((768,), eps=1e-12, elementwise_affine=True)\n",
      "    (dense): Linear(in_features=768, out_features=9, bias=True)\n",
      "  )\n",
      ")\n"
     ]
    },
    {
     "data": {
      "application/vnd.jupyter.widget-view+json": {
       "model_id": "379dfa5f2b054e708bab26ee32115d60",
       "version_major": 2,
       "version_minor": 0
      },
      "text/plain": [
       "  0%|          | 0/7 [00:00<?, ?it/s]"
      ]
     },
     "metadata": {},
     "output_type": "display_data"
    },
    {
     "name": "stdout",
     "output_type": "stream",
     "text": [
      "Epoch 1/7 | Train Loss: 1.9753 | Train Acc: 0.3500 | Train F1: 0.3466 | Test Loss: 1.7415 | Test Acc: 0.5000 | Test F1: 0.5045\n",
      "Epoch 2/7 | Train Loss: 1.5320 | Train Acc: 0.6111 | Train F1: 0.5841 | Test Loss: 1.4012 | Test Acc: 0.6510 | Test F1: 0.6181\n",
      "Epoch 3/7 | Train Loss: 1.2721 | Train Acc: 0.7167 | Train F1: 0.7048 | Test Loss: 1.2121 | Test Acc: 0.7240 | Test F1: 0.7066\n",
      "Epoch 4/7 | Train Loss: 1.1277 | Train Acc: 0.7597 | Train F1: 0.7524 | Test Loss: 1.0973 | Test Acc: 0.7760 | Test F1: 0.7531\n",
      "Epoch 5/7 | Train Loss: 1.0538 | Train Acc: 0.7833 | Train F1: 0.7777 | Test Loss: 1.0637 | Test Acc: 0.7917 | Test F1: 0.7650\n",
      "Epoch 6/7 | Train Loss: 1.0287 | Train Acc: 0.7889 | Train F1: 0.7830 | Test Loss: 1.0813 | Test Acc: 0.7604 | Test F1: 0.7650\n",
      "Epoch 7/7 | Train Loss: 1.0287 | Train Acc: 0.7889 | Train F1: 0.7830 | Test Loss: 1.0870 | Test Acc: 0.7604 | Test F1: 0.7650\n",
      "Train time on cuda: 332.8580155999998\n",
      "Inference Loss: 1.0287, Accuracy: 78.89%\n"
     ]
    },
    {
     "data": {
      "application/vnd.jupyter.widget-view+json": {
       "model_id": "8dc8d965560649d3a7a7960791e961a5",
       "version_major": 2,
       "version_minor": 0
      },
      "text/plain": [
       "VBox(children=(Label(value='0.008 MB of 0.008 MB uploaded\\r'), FloatProgress(value=1.0, max=1.0)))"
      ]
     },
     "metadata": {},
     "output_type": "display_data"
    },
    {
     "data": {
      "text/html": [
       "<style>\n",
       "    table.wandb td:nth-child(1) { padding: 0 10px; text-align: left ; width: auto;} td:nth-child(2) {text-align: left ; width: 100%}\n",
       "    .wandb-row { display: flex; flex-direction: row; flex-wrap: wrap; justify-content: flex-start; width: 100% }\n",
       "    .wandb-col { display: flex; flex-direction: column; flex-basis: 100%; flex: 1; padding: 10px; }\n",
       "    </style>\n",
       "<div class=\"wandb-row\"><div class=\"wandb-col\"><h3>Run history:</h3><br/><table class=\"wandb\"><tr><td>epoch</td><td>▁▂▃▅▆▇█</td></tr><tr><td>inference_accuracy</td><td>▁</td></tr><tr><td>inference_loss</td><td>▁</td></tr><tr><td>test_acc</td><td>▁▅▆██▇▇</td></tr><tr><td>test_f1</td><td>▁▄▆████</td></tr><tr><td>test_loss</td><td>█▄▃▁▁▁▁</td></tr><tr><td>test_precision</td><td>▁▄▆████</td></tr><tr><td>test_recall</td><td>▁▄▇████</td></tr><tr><td>train_acc</td><td>▁▅▇████</td></tr><tr><td>train_f1</td><td>▁▅▇████</td></tr><tr><td>train_loss</td><td>█▅▃▂▁▁▁</td></tr><tr><td>train_precision</td><td>▁▄▆▇███</td></tr><tr><td>train_recall</td><td>▁▅▇████</td></tr></table><br/></div><div class=\"wandb-col\"><h3>Run summary:</h3><br/><table class=\"wandb\"><tr><td>epoch</td><td>7</td></tr><tr><td>inference_accuracy</td><td>0.78889</td></tr><tr><td>inference_loss</td><td>1.02872</td></tr><tr><td>test_acc</td><td>0.76042</td></tr><tr><td>test_f1</td><td>0.76503</td></tr><tr><td>test_loss</td><td>1.08701</td></tr><tr><td>test_precision</td><td>0.77314</td></tr><tr><td>test_recall</td><td>0.77778</td></tr><tr><td>train_acc</td><td>0.78889</td></tr><tr><td>train_f1</td><td>0.78301</td></tr><tr><td>train_loss</td><td>1.02867</td></tr><tr><td>train_precision</td><td>0.78676</td></tr><tr><td>train_recall</td><td>0.78889</td></tr><tr><td>train_time</td><td>00:05:32</td></tr></table><br/></div></div>"
      ],
      "text/plain": [
       "<IPython.core.display.HTML object>"
      ]
     },
     "metadata": {},
     "output_type": "display_data"
    },
    {
     "data": {
      "text/html": [
       " View run <strong style=\"color:#cdcd00\">lunar-sweep-14</strong> at: <a href='https://wandb.ai/andberg9-self/AST_Sweeps/runs/kfqk41wm' target=\"_blank\">https://wandb.ai/andberg9-self/AST_Sweeps/runs/kfqk41wm</a><br/> View project at: <a href='https://wandb.ai/andberg9-self/AST_Sweeps' target=\"_blank\">https://wandb.ai/andberg9-self/AST_Sweeps</a><br/>Synced 5 W&B file(s), 0 media file(s), 0 artifact file(s) and 0 other file(s)"
      ],
      "text/plain": [
       "<IPython.core.display.HTML object>"
      ]
     },
     "metadata": {},
     "output_type": "display_data"
    },
    {
     "data": {
      "text/html": [
       "Find logs at: <code>.\\wandb\\run-20240925_120655-kfqk41wm\\logs</code>"
      ],
      "text/plain": [
       "<IPython.core.display.HTML object>"
      ]
     },
     "metadata": {},
     "output_type": "display_data"
    },
    {
     "name": "stderr",
     "output_type": "stream",
     "text": [
      "wandb: Agent Starting Run: kmy5ytwk with config:\n",
      "wandb: \tbatch_size: 16\n",
      "wandb: \tepochs: 7\n",
      "wandb: \tlearning_rate: 0.000860637604213834\n",
      "wandb: \toptimizer: adamW\n",
      "wandb: \tscheduler: PolynomialLR\n"
     ]
    },
    {
     "data": {
      "text/html": [
       "Tracking run with wandb version 0.18.1"
      ],
      "text/plain": [
       "<IPython.core.display.HTML object>"
      ]
     },
     "metadata": {},
     "output_type": "display_data"
    },
    {
     "data": {
      "text/html": [
       "Run data is saved locally in <code>c:\\Users\\Sidewinders\\Research_notebooks\\Drone_classification\\Research\\notebooks\\wandb\\run-20240925_121252-kmy5ytwk</code>"
      ],
      "text/plain": [
       "<IPython.core.display.HTML object>"
      ]
     },
     "metadata": {},
     "output_type": "display_data"
    },
    {
     "data": {
      "text/html": [
       "Syncing run <strong><a href='https://wandb.ai/andberg9-self/AST_Sweeps/runs/kmy5ytwk' target=\"_blank\">ruby-sweep-15</a></strong> to <a href='https://wandb.ai/andberg9-self/AST_Sweeps' target=\"_blank\">Weights & Biases</a> (<a href='https://wandb.me/run' target=\"_blank\">docs</a>)<br/>Sweep page: <a href='https://wandb.ai/andberg9-self/AST_Sweeps/sweeps/ange3go8' target=\"_blank\">https://wandb.ai/andberg9-self/AST_Sweeps/sweeps/ange3go8</a>"
      ],
      "text/plain": [
       "<IPython.core.display.HTML object>"
      ]
     },
     "metadata": {},
     "output_type": "display_data"
    },
    {
     "data": {
      "text/html": [
       " View project at <a href='https://wandb.ai/andberg9-self/AST_Sweeps' target=\"_blank\">https://wandb.ai/andberg9-self/AST_Sweeps</a>"
      ],
      "text/plain": [
       "<IPython.core.display.HTML object>"
      ]
     },
     "metadata": {},
     "output_type": "display_data"
    },
    {
     "data": {
      "text/html": [
       " View sweep at <a href='https://wandb.ai/andberg9-self/AST_Sweeps/sweeps/ange3go8' target=\"_blank\">https://wandb.ai/andberg9-self/AST_Sweeps/sweeps/ange3go8</a>"
      ],
      "text/plain": [
       "<IPython.core.display.HTML object>"
      ]
     },
     "metadata": {},
     "output_type": "display_data"
    },
    {
     "data": {
      "text/html": [
       " View run at <a href='https://wandb.ai/andberg9-self/AST_Sweeps/runs/kmy5ytwk' target=\"_blank\">https://wandb.ai/andberg9-self/AST_Sweeps/runs/kmy5ytwk</a>"
      ],
      "text/plain": [
       "<IPython.core.display.HTML object>"
      ]
     },
     "metadata": {},
     "output_type": "display_data"
    },
    {
     "name": "stdout",
     "output_type": "stream",
     "text": [
      "ASTForAudioClassification(\n",
      "  (audio_spectrogram_transformer): ASTModel(\n",
      "    (embeddings): ASTEmbeddings(\n",
      "      (patch_embeddings): ASTPatchEmbeddings(\n",
      "        (projection): Conv2d(1, 768, kernel_size=(16, 16), stride=(10, 10))\n",
      "      )\n",
      "      (dropout): Dropout(p=0.0, inplace=False)\n",
      "    )\n",
      "    (encoder): ASTEncoder(\n",
      "      (layer): ModuleList(\n",
      "        (0-11): 12 x ASTLayer(\n",
      "          (attention): ASTSdpaAttention(\n",
      "            (attention): ASTSdpaSelfAttention(\n",
      "              (query): Linear(in_features=768, out_features=768, bias=True)\n",
      "              (key): Linear(in_features=768, out_features=768, bias=True)\n",
      "              (value): Linear(in_features=768, out_features=768, bias=True)\n",
      "              (dropout): Dropout(p=0.0, inplace=False)\n",
      "            )\n",
      "            (output): ASTSelfOutput(\n",
      "              (dense): Linear(in_features=768, out_features=768, bias=True)\n",
      "              (dropout): Dropout(p=0.0, inplace=False)\n",
      "            )\n",
      "          )\n",
      "          (intermediate): ASTIntermediate(\n",
      "            (dense): Linear(in_features=768, out_features=3072, bias=True)\n",
      "            (intermediate_act_fn): GELUActivation()\n",
      "          )\n",
      "          (output): ASTOutput(\n",
      "            (dense): Linear(in_features=3072, out_features=768, bias=True)\n",
      "            (dropout): Dropout(p=0.0, inplace=False)\n",
      "          )\n",
      "          (layernorm_before): LayerNorm((768,), eps=1e-12, elementwise_affine=True)\n",
      "          (layernorm_after): LayerNorm((768,), eps=1e-12, elementwise_affine=True)\n",
      "        )\n",
      "      )\n",
      "    )\n",
      "    (layernorm): LayerNorm((768,), eps=1e-12, elementwise_affine=True)\n",
      "  )\n",
      "  (classifier): ASTMLPHead(\n",
      "    (layernorm): LayerNorm((768,), eps=1e-12, elementwise_affine=True)\n",
      "    (dense): Linear(in_features=768, out_features=9, bias=True)\n",
      "  )\n",
      ")\n"
     ]
    },
    {
     "data": {
      "application/vnd.jupyter.widget-view+json": {
       "model_id": "a590a93ea46046628a878558f589b5b9",
       "version_major": 2,
       "version_minor": 0
      },
      "text/plain": [
       "  0%|          | 0/7 [00:00<?, ?it/s]"
      ]
     },
     "metadata": {},
     "output_type": "display_data"
    },
    {
     "name": "stdout",
     "output_type": "stream",
     "text": [
      "Epoch 1/7 | Train Loss: 1.6542 | Train Acc: 0.5083 | Train F1: 0.4992 | Test Loss: 1.0099 | Test Acc: 0.8177 | Test F1: 0.8344\n",
      "Epoch 2/7 | Train Loss: 0.8169 | Train Acc: 0.8222 | Train F1: 0.8209 | Test Loss: 0.6400 | Test Acc: 0.8854 | Test F1: 0.8861\n",
      "Epoch 3/7 | Train Loss: 0.5692 | Train Acc: 0.8708 | Train F1: 0.8700 | Test Loss: 0.4801 | Test Acc: 0.9375 | Test F1: 0.9327\n",
      "Epoch 4/7 | Train Loss: 0.4701 | Train Acc: 0.9000 | Train F1: 0.9006 | Test Loss: 0.4654 | Test Acc: 0.9375 | Test F1: 0.9499\n",
      "Epoch 5/7 | Train Loss: 0.4311 | Train Acc: 0.9069 | Train F1: 0.9078 | Test Loss: 0.4297 | Test Acc: 0.9167 | Test F1: 0.9281\n",
      "Epoch 6/7 | Train Loss: 0.4174 | Train Acc: 0.9056 | Train F1: 0.9062 | Test Loss: 0.4117 | Test Acc: 0.9323 | Test F1: 0.9281\n",
      "Epoch 7/7 | Train Loss: 0.4174 | Train Acc: 0.9056 | Train F1: 0.9062 | Test Loss: 0.4215 | Test Acc: 0.9323 | Test F1: 0.9281\n",
      "Train time on cuda: 332.951188\n",
      "Inference Loss: 0.4175, Accuracy: 90.56%\n"
     ]
    },
    {
     "data": {
      "application/vnd.jupyter.widget-view+json": {
       "model_id": "549891bd66ac4f2691aaaa2cf8946b88",
       "version_major": 2,
       "version_minor": 0
      },
      "text/plain": [
       "VBox(children=(Label(value='0.008 MB of 0.008 MB uploaded\\r'), FloatProgress(value=1.0, max=1.0)))"
      ]
     },
     "metadata": {},
     "output_type": "display_data"
    },
    {
     "data": {
      "text/html": [
       "<style>\n",
       "    table.wandb td:nth-child(1) { padding: 0 10px; text-align: left ; width: auto;} td:nth-child(2) {text-align: left ; width: 100%}\n",
       "    .wandb-row { display: flex; flex-direction: row; flex-wrap: wrap; justify-content: flex-start; width: 100% }\n",
       "    .wandb-col { display: flex; flex-direction: column; flex-basis: 100%; flex: 1; padding: 10px; }\n",
       "    </style>\n",
       "<div class=\"wandb-row\"><div class=\"wandb-col\"><h3>Run history:</h3><br/><table class=\"wandb\"><tr><td>epoch</td><td>▁▂▃▅▆▇█</td></tr><tr><td>inference_accuracy</td><td>▁</td></tr><tr><td>inference_loss</td><td>▁</td></tr><tr><td>test_acc</td><td>▁▅██▇██</td></tr><tr><td>test_f1</td><td>▁▄▇█▇▇▇</td></tr><tr><td>test_loss</td><td>█▄▂▂▁▁▁</td></tr><tr><td>test_precision</td><td>▁▅▇█▇▇▇</td></tr><tr><td>test_recall</td><td>▁▄▇█▇▇▇</td></tr><tr><td>train_acc</td><td>▁▇▇████</td></tr><tr><td>train_f1</td><td>▁▇▇████</td></tr><tr><td>train_loss</td><td>█▃▂▁▁▁▁</td></tr><tr><td>train_precision</td><td>▁▇▇████</td></tr><tr><td>train_recall</td><td>▁▇▇████</td></tr></table><br/></div><div class=\"wandb-col\"><h3>Run summary:</h3><br/><table class=\"wandb\"><tr><td>epoch</td><td>7</td></tr><tr><td>inference_accuracy</td><td>0.90556</td></tr><tr><td>inference_loss</td><td>0.41751</td></tr><tr><td>test_acc</td><td>0.93229</td></tr><tr><td>test_f1</td><td>0.92809</td></tr><tr><td>test_loss</td><td>0.42148</td></tr><tr><td>test_precision</td><td>0.93425</td></tr><tr><td>test_recall</td><td>0.92778</td></tr><tr><td>train_acc</td><td>0.90556</td></tr><tr><td>train_f1</td><td>0.90619</td></tr><tr><td>train_loss</td><td>0.41744</td></tr><tr><td>train_precision</td><td>0.90838</td></tr><tr><td>train_recall</td><td>0.90556</td></tr><tr><td>train_time</td><td>00:05:32</td></tr></table><br/></div></div>"
      ],
      "text/plain": [
       "<IPython.core.display.HTML object>"
      ]
     },
     "metadata": {},
     "output_type": "display_data"
    },
    {
     "data": {
      "text/html": [
       " View run <strong style=\"color:#cdcd00\">ruby-sweep-15</strong> at: <a href='https://wandb.ai/andberg9-self/AST_Sweeps/runs/kmy5ytwk' target=\"_blank\">https://wandb.ai/andberg9-self/AST_Sweeps/runs/kmy5ytwk</a><br/> View project at: <a href='https://wandb.ai/andberg9-self/AST_Sweeps' target=\"_blank\">https://wandb.ai/andberg9-self/AST_Sweeps</a><br/>Synced 5 W&B file(s), 0 media file(s), 0 artifact file(s) and 0 other file(s)"
      ],
      "text/plain": [
       "<IPython.core.display.HTML object>"
      ]
     },
     "metadata": {},
     "output_type": "display_data"
    },
    {
     "data": {
      "text/html": [
       "Find logs at: <code>.\\wandb\\run-20240925_121252-kmy5ytwk\\logs</code>"
      ],
      "text/plain": [
       "<IPython.core.display.HTML object>"
      ]
     },
     "metadata": {},
     "output_type": "display_data"
    },
    {
     "name": "stderr",
     "output_type": "stream",
     "text": [
      "wandb: Agent Starting Run: 5n1z67cv with config:\n",
      "wandb: \tbatch_size: 16\n",
      "wandb: \tepochs: 7\n",
      "wandb: \tlearning_rate: 0.0006465163116572036\n",
      "wandb: \toptimizer: adamW\n",
      "wandb: \tscheduler: PolynomialLR\n"
     ]
    },
    {
     "data": {
      "text/html": [
       "Tracking run with wandb version 0.18.1"
      ],
      "text/plain": [
       "<IPython.core.display.HTML object>"
      ]
     },
     "metadata": {},
     "output_type": "display_data"
    },
    {
     "data": {
      "text/html": [
       "Run data is saved locally in <code>c:\\Users\\Sidewinders\\Research_notebooks\\Drone_classification\\Research\\notebooks\\wandb\\run-20240925_121849-5n1z67cv</code>"
      ],
      "text/plain": [
       "<IPython.core.display.HTML object>"
      ]
     },
     "metadata": {},
     "output_type": "display_data"
    },
    {
     "data": {
      "text/html": [
       "Syncing run <strong><a href='https://wandb.ai/andberg9-self/AST_Sweeps/runs/5n1z67cv' target=\"_blank\">elated-sweep-16</a></strong> to <a href='https://wandb.ai/andberg9-self/AST_Sweeps' target=\"_blank\">Weights & Biases</a> (<a href='https://wandb.me/run' target=\"_blank\">docs</a>)<br/>Sweep page: <a href='https://wandb.ai/andberg9-self/AST_Sweeps/sweeps/ange3go8' target=\"_blank\">https://wandb.ai/andberg9-self/AST_Sweeps/sweeps/ange3go8</a>"
      ],
      "text/plain": [
       "<IPython.core.display.HTML object>"
      ]
     },
     "metadata": {},
     "output_type": "display_data"
    },
    {
     "data": {
      "text/html": [
       " View project at <a href='https://wandb.ai/andberg9-self/AST_Sweeps' target=\"_blank\">https://wandb.ai/andberg9-self/AST_Sweeps</a>"
      ],
      "text/plain": [
       "<IPython.core.display.HTML object>"
      ]
     },
     "metadata": {},
     "output_type": "display_data"
    },
    {
     "data": {
      "text/html": [
       " View sweep at <a href='https://wandb.ai/andberg9-self/AST_Sweeps/sweeps/ange3go8' target=\"_blank\">https://wandb.ai/andberg9-self/AST_Sweeps/sweeps/ange3go8</a>"
      ],
      "text/plain": [
       "<IPython.core.display.HTML object>"
      ]
     },
     "metadata": {},
     "output_type": "display_data"
    },
    {
     "data": {
      "text/html": [
       " View run at <a href='https://wandb.ai/andberg9-self/AST_Sweeps/runs/5n1z67cv' target=\"_blank\">https://wandb.ai/andberg9-self/AST_Sweeps/runs/5n1z67cv</a>"
      ],
      "text/plain": [
       "<IPython.core.display.HTML object>"
      ]
     },
     "metadata": {},
     "output_type": "display_data"
    },
    {
     "name": "stdout",
     "output_type": "stream",
     "text": [
      "ASTForAudioClassification(\n",
      "  (audio_spectrogram_transformer): ASTModel(\n",
      "    (embeddings): ASTEmbeddings(\n",
      "      (patch_embeddings): ASTPatchEmbeddings(\n",
      "        (projection): Conv2d(1, 768, kernel_size=(16, 16), stride=(10, 10))\n",
      "      )\n",
      "      (dropout): Dropout(p=0.0, inplace=False)\n",
      "    )\n",
      "    (encoder): ASTEncoder(\n",
      "      (layer): ModuleList(\n",
      "        (0-11): 12 x ASTLayer(\n",
      "          (attention): ASTSdpaAttention(\n",
      "            (attention): ASTSdpaSelfAttention(\n",
      "              (query): Linear(in_features=768, out_features=768, bias=True)\n",
      "              (key): Linear(in_features=768, out_features=768, bias=True)\n",
      "              (value): Linear(in_features=768, out_features=768, bias=True)\n",
      "              (dropout): Dropout(p=0.0, inplace=False)\n",
      "            )\n",
      "            (output): ASTSelfOutput(\n",
      "              (dense): Linear(in_features=768, out_features=768, bias=True)\n",
      "              (dropout): Dropout(p=0.0, inplace=False)\n",
      "            )\n",
      "          )\n",
      "          (intermediate): ASTIntermediate(\n",
      "            (dense): Linear(in_features=768, out_features=3072, bias=True)\n",
      "            (intermediate_act_fn): GELUActivation()\n",
      "          )\n",
      "          (output): ASTOutput(\n",
      "            (dense): Linear(in_features=3072, out_features=768, bias=True)\n",
      "            (dropout): Dropout(p=0.0, inplace=False)\n",
      "          )\n",
      "          (layernorm_before): LayerNorm((768,), eps=1e-12, elementwise_affine=True)\n",
      "          (layernorm_after): LayerNorm((768,), eps=1e-12, elementwise_affine=True)\n",
      "        )\n",
      "      )\n",
      "    )\n",
      "    (layernorm): LayerNorm((768,), eps=1e-12, elementwise_affine=True)\n",
      "  )\n",
      "  (classifier): ASTMLPHead(\n",
      "    (layernorm): LayerNorm((768,), eps=1e-12, elementwise_affine=True)\n",
      "    (dense): Linear(in_features=768, out_features=9, bias=True)\n",
      "  )\n",
      ")\n"
     ]
    },
    {
     "data": {
      "application/vnd.jupyter.widget-view+json": {
       "model_id": "976a085d075e4ccdb3d7d81f86c72790",
       "version_major": 2,
       "version_minor": 0
      },
      "text/plain": [
       "  0%|          | 0/7 [00:00<?, ?it/s]"
      ]
     },
     "metadata": {},
     "output_type": "display_data"
    },
    {
     "name": "stdout",
     "output_type": "stream",
     "text": [
      "Epoch 1/7 | Train Loss: 1.7699 | Train Acc: 0.4069 | Train F1: 0.3890 | Test Loss: 1.2833 | Test Acc: 0.7396 | Test F1: 0.7516\n",
      "Epoch 2/7 | Train Loss: 1.0298 | Train Acc: 0.7889 | Train F1: 0.7864 | Test Loss: 0.8480 | Test Acc: 0.8594 | Test F1: 0.8486\n",
      "Epoch 3/7 | Train Loss: 0.7505 | Train Acc: 0.8403 | Train F1: 0.8384 | Test Loss: 0.6653 | Test Acc: 0.9010 | Test F1: 0.8955\n",
      "Epoch 4/7 | Train Loss: 0.6282 | Train Acc: 0.8736 | Train F1: 0.8727 | Test Loss: 0.5791 | Test Acc: 0.9062 | Test F1: 0.9031\n",
      "Epoch 5/7 | Train Loss: 0.5774 | Train Acc: 0.8833 | Train F1: 0.8829 | Test Loss: 0.5855 | Test Acc: 0.9167 | Test F1: 0.9134\n",
      "Epoch 6/7 | Train Loss: 0.5606 | Train Acc: 0.8861 | Train F1: 0.8860 | Test Loss: 0.5916 | Test Acc: 0.8854 | Test F1: 0.9134\n",
      "Epoch 7/7 | Train Loss: 0.5606 | Train Acc: 0.8861 | Train F1: 0.8860 | Test Loss: 0.5599 | Test Acc: 0.9167 | Test F1: 0.9134\n",
      "Train time on cuda: 333.2773465\n",
      "Inference Loss: 0.5607, Accuracy: 88.75%\n"
     ]
    },
    {
     "data": {
      "application/vnd.jupyter.widget-view+json": {
       "model_id": "c4df05ffd87b4c3ba8b29f219d923c79",
       "version_major": 2,
       "version_minor": 0
      },
      "text/plain": [
       "VBox(children=(Label(value='0.008 MB of 0.008 MB uploaded\\r'), FloatProgress(value=1.0, max=1.0)))"
      ]
     },
     "metadata": {},
     "output_type": "display_data"
    },
    {
     "data": {
      "text/html": [
       "<style>\n",
       "    table.wandb td:nth-child(1) { padding: 0 10px; text-align: left ; width: auto;} td:nth-child(2) {text-align: left ; width: 100%}\n",
       "    .wandb-row { display: flex; flex-direction: row; flex-wrap: wrap; justify-content: flex-start; width: 100% }\n",
       "    .wandb-col { display: flex; flex-direction: column; flex-basis: 100%; flex: 1; padding: 10px; }\n",
       "    </style>\n",
       "<div class=\"wandb-row\"><div class=\"wandb-col\"><h3>Run history:</h3><br/><table class=\"wandb\"><tr><td>epoch</td><td>▁▂▃▅▆▇█</td></tr><tr><td>inference_accuracy</td><td>▁</td></tr><tr><td>inference_loss</td><td>▁</td></tr><tr><td>test_acc</td><td>▁▆▇██▇█</td></tr><tr><td>test_f1</td><td>▁▅▇████</td></tr><tr><td>test_loss</td><td>█▄▂▁▁▁▁</td></tr><tr><td>test_precision</td><td>▁▅▇████</td></tr><tr><td>test_recall</td><td>▁▅▇████</td></tr><tr><td>train_acc</td><td>▁▇▇████</td></tr><tr><td>train_f1</td><td>▁▇▇████</td></tr><tr><td>train_loss</td><td>█▄▂▁▁▁▁</td></tr><tr><td>train_precision</td><td>▁▇▇████</td></tr><tr><td>train_recall</td><td>▁▇▇████</td></tr></table><br/></div><div class=\"wandb-col\"><h3>Run summary:</h3><br/><table class=\"wandb\"><tr><td>epoch</td><td>7</td></tr><tr><td>inference_accuracy</td><td>0.8875</td></tr><tr><td>inference_loss</td><td>0.56074</td></tr><tr><td>test_acc</td><td>0.91667</td></tr><tr><td>test_f1</td><td>0.91344</td></tr><tr><td>test_loss</td><td>0.55995</td></tr><tr><td>test_precision</td><td>0.92553</td></tr><tr><td>test_recall</td><td>0.91111</td></tr><tr><td>train_acc</td><td>0.88611</td></tr><tr><td>train_f1</td><td>0.88602</td></tr><tr><td>train_loss</td><td>0.56064</td></tr><tr><td>train_precision</td><td>0.88745</td></tr><tr><td>train_recall</td><td>0.88611</td></tr><tr><td>train_time</td><td>00:05:33</td></tr></table><br/></div></div>"
      ],
      "text/plain": [
       "<IPython.core.display.HTML object>"
      ]
     },
     "metadata": {},
     "output_type": "display_data"
    },
    {
     "data": {
      "text/html": [
       " View run <strong style=\"color:#cdcd00\">elated-sweep-16</strong> at: <a href='https://wandb.ai/andberg9-self/AST_Sweeps/runs/5n1z67cv' target=\"_blank\">https://wandb.ai/andberg9-self/AST_Sweeps/runs/5n1z67cv</a><br/> View project at: <a href='https://wandb.ai/andberg9-self/AST_Sweeps' target=\"_blank\">https://wandb.ai/andberg9-self/AST_Sweeps</a><br/>Synced 5 W&B file(s), 0 media file(s), 0 artifact file(s) and 0 other file(s)"
      ],
      "text/plain": [
       "<IPython.core.display.HTML object>"
      ]
     },
     "metadata": {},
     "output_type": "display_data"
    },
    {
     "data": {
      "text/html": [
       "Find logs at: <code>.\\wandb\\run-20240925_121849-5n1z67cv\\logs</code>"
      ],
      "text/plain": [
       "<IPython.core.display.HTML object>"
      ]
     },
     "metadata": {},
     "output_type": "display_data"
    },
    {
     "name": "stderr",
     "output_type": "stream",
     "text": [
      "wandb: Agent Starting Run: e1p4b3xn with config:\n",
      "wandb: \tbatch_size: 32\n",
      "wandb: \tepochs: 7\n",
      "wandb: \tlearning_rate: 0.000293863317961713\n",
      "wandb: \toptimizer: adamW\n",
      "wandb: \tscheduler: PolynomialLR\n"
     ]
    },
    {
     "data": {
      "text/html": [
       "Tracking run with wandb version 0.18.1"
      ],
      "text/plain": [
       "<IPython.core.display.HTML object>"
      ]
     },
     "metadata": {},
     "output_type": "display_data"
    },
    {
     "data": {
      "text/html": [
       "Run data is saved locally in <code>c:\\Users\\Sidewinders\\Research_notebooks\\Drone_classification\\Research\\notebooks\\wandb\\run-20240925_122445-e1p4b3xn</code>"
      ],
      "text/plain": [
       "<IPython.core.display.HTML object>"
      ]
     },
     "metadata": {},
     "output_type": "display_data"
    },
    {
     "data": {
      "text/html": [
       "Syncing run <strong><a href='https://wandb.ai/andberg9-self/AST_Sweeps/runs/e1p4b3xn' target=\"_blank\">revived-sweep-17</a></strong> to <a href='https://wandb.ai/andberg9-self/AST_Sweeps' target=\"_blank\">Weights & Biases</a> (<a href='https://wandb.me/run' target=\"_blank\">docs</a>)<br/>Sweep page: <a href='https://wandb.ai/andberg9-self/AST_Sweeps/sweeps/ange3go8' target=\"_blank\">https://wandb.ai/andberg9-self/AST_Sweeps/sweeps/ange3go8</a>"
      ],
      "text/plain": [
       "<IPython.core.display.HTML object>"
      ]
     },
     "metadata": {},
     "output_type": "display_data"
    },
    {
     "data": {
      "text/html": [
       " View project at <a href='https://wandb.ai/andberg9-self/AST_Sweeps' target=\"_blank\">https://wandb.ai/andberg9-self/AST_Sweeps</a>"
      ],
      "text/plain": [
       "<IPython.core.display.HTML object>"
      ]
     },
     "metadata": {},
     "output_type": "display_data"
    },
    {
     "data": {
      "text/html": [
       " View sweep at <a href='https://wandb.ai/andberg9-self/AST_Sweeps/sweeps/ange3go8' target=\"_blank\">https://wandb.ai/andberg9-self/AST_Sweeps/sweeps/ange3go8</a>"
      ],
      "text/plain": [
       "<IPython.core.display.HTML object>"
      ]
     },
     "metadata": {},
     "output_type": "display_data"
    },
    {
     "data": {
      "text/html": [
       " View run at <a href='https://wandb.ai/andberg9-self/AST_Sweeps/runs/e1p4b3xn' target=\"_blank\">https://wandb.ai/andberg9-self/AST_Sweeps/runs/e1p4b3xn</a>"
      ],
      "text/plain": [
       "<IPython.core.display.HTML object>"
      ]
     },
     "metadata": {},
     "output_type": "display_data"
    },
    {
     "name": "stdout",
     "output_type": "stream",
     "text": [
      "ASTForAudioClassification(\n",
      "  (audio_spectrogram_transformer): ASTModel(\n",
      "    (embeddings): ASTEmbeddings(\n",
      "      (patch_embeddings): ASTPatchEmbeddings(\n",
      "        (projection): Conv2d(1, 768, kernel_size=(16, 16), stride=(10, 10))\n",
      "      )\n",
      "      (dropout): Dropout(p=0.0, inplace=False)\n",
      "    )\n",
      "    (encoder): ASTEncoder(\n",
      "      (layer): ModuleList(\n",
      "        (0-11): 12 x ASTLayer(\n",
      "          (attention): ASTSdpaAttention(\n",
      "            (attention): ASTSdpaSelfAttention(\n",
      "              (query): Linear(in_features=768, out_features=768, bias=True)\n",
      "              (key): Linear(in_features=768, out_features=768, bias=True)\n",
      "              (value): Linear(in_features=768, out_features=768, bias=True)\n",
      "              (dropout): Dropout(p=0.0, inplace=False)\n",
      "            )\n",
      "            (output): ASTSelfOutput(\n",
      "              (dense): Linear(in_features=768, out_features=768, bias=True)\n",
      "              (dropout): Dropout(p=0.0, inplace=False)\n",
      "            )\n",
      "          )\n",
      "          (intermediate): ASTIntermediate(\n",
      "            (dense): Linear(in_features=768, out_features=3072, bias=True)\n",
      "            (intermediate_act_fn): GELUActivation()\n",
      "          )\n",
      "          (output): ASTOutput(\n",
      "            (dense): Linear(in_features=3072, out_features=768, bias=True)\n",
      "            (dropout): Dropout(p=0.0, inplace=False)\n",
      "          )\n",
      "          (layernorm_before): LayerNorm((768,), eps=1e-12, elementwise_affine=True)\n",
      "          (layernorm_after): LayerNorm((768,), eps=1e-12, elementwise_affine=True)\n",
      "        )\n",
      "      )\n",
      "    )\n",
      "    (layernorm): LayerNorm((768,), eps=1e-12, elementwise_affine=True)\n",
      "  )\n",
      "  (classifier): ASTMLPHead(\n",
      "    (layernorm): LayerNorm((768,), eps=1e-12, elementwise_affine=True)\n",
      "    (dense): Linear(in_features=768, out_features=9, bias=True)\n",
      "  )\n",
      ")\n"
     ]
    },
    {
     "data": {
      "application/vnd.jupyter.widget-view+json": {
       "model_id": "ab91ce01ed494949aef9790176687d53",
       "version_major": 2,
       "version_minor": 0
      },
      "text/plain": [
       "  0%|          | 0/7 [00:00<?, ?it/s]"
      ]
     },
     "metadata": {},
     "output_type": "display_data"
    },
    {
     "name": "stdout",
     "output_type": "stream",
     "text": [
      "Epoch 1/7 | Train Loss: 2.3364 | Train Acc: 0.0679 | Train F1: 0.0583 | Test Loss: 2.1390 | Test Acc: 0.1188 | Test F1: 0.1115\n",
      "Epoch 2/7 | Train Loss: 2.0235 | Train Acc: 0.2310 | Train F1: 0.2274 | Test Loss: 1.8947 | Test Acc: 0.3521 | Test F1: 0.3289\n",
      "Epoch 3/7 | Train Loss: 1.8324 | Train Acc: 0.4524 | Train F1: 0.4427 | Test Loss: 1.7388 | Test Acc: 0.5312 | Test F1: 0.5264\n",
      "Epoch 4/7 | Train Loss: 1.6982 | Train Acc: 0.5734 | Train F1: 0.5675 | Test Loss: 1.6393 | Test Acc: 0.6260 | Test F1: 0.6246\n",
      "Epoch 5/7 | Train Loss: 1.6243 | Train Acc: 0.6277 | Train F1: 0.6201 | Test Loss: 1.5878 | Test Acc: 0.6677 | Test F1: 0.6517\n",
      "Epoch 6/7 | Train Loss: 1.5975 | Train Acc: 0.6413 | Train F1: 0.6353 | Test Loss: 1.5927 | Test Acc: 0.6552 | Test F1: 0.6517\n",
      "Epoch 7/7 | Train Loss: 1.5998 | Train Acc: 0.6413 | Train F1: 0.6353 | Test Loss: 1.5971 | Test Acc: 0.6552 | Test F1: 0.6517\n",
      "Train time on cuda: 334.3302457\n",
      "Inference Loss: 1.5960, Accuracy: 64.44%\n"
     ]
    },
    {
     "data": {
      "application/vnd.jupyter.widget-view+json": {
       "model_id": "53187aca85f545098749436744e3f207",
       "version_major": 2,
       "version_minor": 0
      },
      "text/plain": [
       "VBox(children=(Label(value='0.008 MB of 0.008 MB uploaded\\r'), FloatProgress(value=1.0, max=1.0)))"
      ]
     },
     "metadata": {},
     "output_type": "display_data"
    },
    {
     "data": {
      "text/html": [
       "<style>\n",
       "    table.wandb td:nth-child(1) { padding: 0 10px; text-align: left ; width: auto;} td:nth-child(2) {text-align: left ; width: 100%}\n",
       "    .wandb-row { display: flex; flex-direction: row; flex-wrap: wrap; justify-content: flex-start; width: 100% }\n",
       "    .wandb-col { display: flex; flex-direction: column; flex-basis: 100%; flex: 1; padding: 10px; }\n",
       "    </style>\n",
       "<div class=\"wandb-row\"><div class=\"wandb-col\"><h3>Run history:</h3><br/><table class=\"wandb\"><tr><td>epoch</td><td>▁▂▃▅▆▇█</td></tr><tr><td>inference_accuracy</td><td>▁</td></tr><tr><td>inference_loss</td><td>▁</td></tr><tr><td>test_acc</td><td>▁▄▆▇███</td></tr><tr><td>test_f1</td><td>▁▄▆████</td></tr><tr><td>test_loss</td><td>█▅▃▂▁▁▁</td></tr><tr><td>test_precision</td><td>▁▄▇████</td></tr><tr><td>test_recall</td><td>▁▄▆████</td></tr><tr><td>train_acc</td><td>▁▃▆▇███</td></tr><tr><td>train_f1</td><td>▁▃▆▇███</td></tr><tr><td>train_loss</td><td>█▅▃▂▁▁▁</td></tr><tr><td>train_precision</td><td>▁▃▆▇███</td></tr><tr><td>train_recall</td><td>▁▃▆▇███</td></tr></table><br/></div><div class=\"wandb-col\"><h3>Run summary:</h3><br/><table class=\"wandb\"><tr><td>epoch</td><td>7</td></tr><tr><td>inference_accuracy</td><td>0.64444</td></tr><tr><td>inference_loss</td><td>1.59601</td></tr><tr><td>test_acc</td><td>0.65521</td></tr><tr><td>test_f1</td><td>0.6517</td></tr><tr><td>test_loss</td><td>1.59715</td></tr><tr><td>test_precision</td><td>0.68855</td></tr><tr><td>test_recall</td><td>0.65556</td></tr><tr><td>train_acc</td><td>0.6413</td></tr><tr><td>train_f1</td><td>0.63531</td></tr><tr><td>train_loss</td><td>1.59981</td></tr><tr><td>train_precision</td><td>0.64288</td></tr><tr><td>train_recall</td><td>0.64306</td></tr><tr><td>train_time</td><td>00:05:34</td></tr></table><br/></div></div>"
      ],
      "text/plain": [
       "<IPython.core.display.HTML object>"
      ]
     },
     "metadata": {},
     "output_type": "display_data"
    },
    {
     "data": {
      "text/html": [
       " View run <strong style=\"color:#cdcd00\">revived-sweep-17</strong> at: <a href='https://wandb.ai/andberg9-self/AST_Sweeps/runs/e1p4b3xn' target=\"_blank\">https://wandb.ai/andberg9-self/AST_Sweeps/runs/e1p4b3xn</a><br/> View project at: <a href='https://wandb.ai/andberg9-self/AST_Sweeps' target=\"_blank\">https://wandb.ai/andberg9-self/AST_Sweeps</a><br/>Synced 5 W&B file(s), 0 media file(s), 0 artifact file(s) and 0 other file(s)"
      ],
      "text/plain": [
       "<IPython.core.display.HTML object>"
      ]
     },
     "metadata": {},
     "output_type": "display_data"
    },
    {
     "data": {
      "text/html": [
       "Find logs at: <code>.\\wandb\\run-20240925_122445-e1p4b3xn\\logs</code>"
      ],
      "text/plain": [
       "<IPython.core.display.HTML object>"
      ]
     },
     "metadata": {},
     "output_type": "display_data"
    },
    {
     "name": "stderr",
     "output_type": "stream",
     "text": [
      "wandb: Agent Starting Run: 52opl40e with config:\n",
      "wandb: \tbatch_size: 4\n",
      "wandb: \tepochs: 7\n",
      "wandb: \tlearning_rate: 0.00039266726209585335\n",
      "wandb: \toptimizer: adamW\n",
      "wandb: \tscheduler: PolynomialLR\n"
     ]
    },
    {
     "data": {
      "text/html": [
       "Tracking run with wandb version 0.18.1"
      ],
      "text/plain": [
       "<IPython.core.display.HTML object>"
      ]
     },
     "metadata": {},
     "output_type": "display_data"
    },
    {
     "data": {
      "text/html": [
       "Run data is saved locally in <code>c:\\Users\\Sidewinders\\Research_notebooks\\Drone_classification\\Research\\notebooks\\wandb\\run-20240925_123042-52opl40e</code>"
      ],
      "text/plain": [
       "<IPython.core.display.HTML object>"
      ]
     },
     "metadata": {},
     "output_type": "display_data"
    },
    {
     "data": {
      "text/html": [
       "Syncing run <strong><a href='https://wandb.ai/andberg9-self/AST_Sweeps/runs/52opl40e' target=\"_blank\">feasible-sweep-18</a></strong> to <a href='https://wandb.ai/andberg9-self/AST_Sweeps' target=\"_blank\">Weights & Biases</a> (<a href='https://wandb.me/run' target=\"_blank\">docs</a>)<br/>Sweep page: <a href='https://wandb.ai/andberg9-self/AST_Sweeps/sweeps/ange3go8' target=\"_blank\">https://wandb.ai/andberg9-self/AST_Sweeps/sweeps/ange3go8</a>"
      ],
      "text/plain": [
       "<IPython.core.display.HTML object>"
      ]
     },
     "metadata": {},
     "output_type": "display_data"
    },
    {
     "data": {
      "text/html": [
       " View project at <a href='https://wandb.ai/andberg9-self/AST_Sweeps' target=\"_blank\">https://wandb.ai/andberg9-self/AST_Sweeps</a>"
      ],
      "text/plain": [
       "<IPython.core.display.HTML object>"
      ]
     },
     "metadata": {},
     "output_type": "display_data"
    },
    {
     "data": {
      "text/html": [
       " View sweep at <a href='https://wandb.ai/andberg9-self/AST_Sweeps/sweeps/ange3go8' target=\"_blank\">https://wandb.ai/andberg9-self/AST_Sweeps/sweeps/ange3go8</a>"
      ],
      "text/plain": [
       "<IPython.core.display.HTML object>"
      ]
     },
     "metadata": {},
     "output_type": "display_data"
    },
    {
     "data": {
      "text/html": [
       " View run at <a href='https://wandb.ai/andberg9-self/AST_Sweeps/runs/52opl40e' target=\"_blank\">https://wandb.ai/andberg9-self/AST_Sweeps/runs/52opl40e</a>"
      ],
      "text/plain": [
       "<IPython.core.display.HTML object>"
      ]
     },
     "metadata": {},
     "output_type": "display_data"
    },
    {
     "name": "stdout",
     "output_type": "stream",
     "text": [
      "ASTForAudioClassification(\n",
      "  (audio_spectrogram_transformer): ASTModel(\n",
      "    (embeddings): ASTEmbeddings(\n",
      "      (patch_embeddings): ASTPatchEmbeddings(\n",
      "        (projection): Conv2d(1, 768, kernel_size=(16, 16), stride=(10, 10))\n",
      "      )\n",
      "      (dropout): Dropout(p=0.0, inplace=False)\n",
      "    )\n",
      "    (encoder): ASTEncoder(\n",
      "      (layer): ModuleList(\n",
      "        (0-11): 12 x ASTLayer(\n",
      "          (attention): ASTSdpaAttention(\n",
      "            (attention): ASTSdpaSelfAttention(\n",
      "              (query): Linear(in_features=768, out_features=768, bias=True)\n",
      "              (key): Linear(in_features=768, out_features=768, bias=True)\n",
      "              (value): Linear(in_features=768, out_features=768, bias=True)\n",
      "              (dropout): Dropout(p=0.0, inplace=False)\n",
      "            )\n",
      "            (output): ASTSelfOutput(\n",
      "              (dense): Linear(in_features=768, out_features=768, bias=True)\n",
      "              (dropout): Dropout(p=0.0, inplace=False)\n",
      "            )\n",
      "          )\n",
      "          (intermediate): ASTIntermediate(\n",
      "            (dense): Linear(in_features=768, out_features=3072, bias=True)\n",
      "            (intermediate_act_fn): GELUActivation()\n",
      "          )\n",
      "          (output): ASTOutput(\n",
      "            (dense): Linear(in_features=3072, out_features=768, bias=True)\n",
      "            (dropout): Dropout(p=0.0, inplace=False)\n",
      "          )\n",
      "          (layernorm_before): LayerNorm((768,), eps=1e-12, elementwise_affine=True)\n",
      "          (layernorm_after): LayerNorm((768,), eps=1e-12, elementwise_affine=True)\n",
      "        )\n",
      "      )\n",
      "    )\n",
      "    (layernorm): LayerNorm((768,), eps=1e-12, elementwise_affine=True)\n",
      "  )\n",
      "  (classifier): ASTMLPHead(\n",
      "    (layernorm): LayerNorm((768,), eps=1e-12, elementwise_affine=True)\n",
      "    (dense): Linear(in_features=768, out_features=9, bias=True)\n",
      "  )\n",
      ")\n"
     ]
    },
    {
     "data": {
      "application/vnd.jupyter.widget-view+json": {
       "model_id": "80742d5a24334914bf2391cb6dcc6fb7",
       "version_major": 2,
       "version_minor": 0
      },
      "text/plain": [
       "  0%|          | 0/7 [00:00<?, ?it/s]"
      ]
     },
     "metadata": {},
     "output_type": "display_data"
    },
    {
     "name": "stdout",
     "output_type": "stream",
     "text": [
      "Epoch 1/7 | Train Loss: 1.4063 | Train Acc: 0.6083 | Train F1: 0.6112 | Test Loss: 0.8230 | Test Acc: 0.8167 | Test F1: 0.8038\n",
      "Epoch 2/7 | Train Loss: 0.6658 | Train Acc: 0.8431 | Train F1: 0.8377 | Test Loss: 0.5556 | Test Acc: 0.8889 | Test F1: 0.8914\n",
      "Epoch 3/7 | Train Loss: 0.4980 | Train Acc: 0.8931 | Train F1: 0.8936 | Test Loss: 0.4494 | Test Acc: 0.9444 | Test F1: 0.9456\n",
      "Epoch 4/7 | Train Loss: 0.4254 | Train Acc: 0.9111 | Train F1: 0.9114 | Test Loss: 0.4021 | Test Acc: 0.9444 | Test F1: 0.9444\n",
      "Epoch 5/7 | Train Loss: 0.3893 | Train Acc: 0.9222 | Train F1: 0.9226 | Test Loss: 0.3852 | Test Acc: 0.9556 | Test F1: 0.9560\n",
      "Epoch 6/7 | Train Loss: 0.3755 | Train Acc: 0.9208 | Train F1: 0.9213 | Test Loss: 0.3852 | Test Acc: 0.9556 | Test F1: 0.9560\n",
      "Epoch 7/7 | Train Loss: 0.3755 | Train Acc: 0.9208 | Train F1: 0.9213 | Test Loss: 0.3852 | Test Acc: 0.9556 | Test F1: 0.9560\n",
      "Train time on cuda: 329.214856399999\n",
      "Inference Loss: 0.3755, Accuracy: 92.08%\n"
     ]
    },
    {
     "data": {
      "application/vnd.jupyter.widget-view+json": {
       "model_id": "64f39d4099274c559db4486b529624f9",
       "version_major": 2,
       "version_minor": 0
      },
      "text/plain": [
       "VBox(children=(Label(value='0.008 MB of 0.008 MB uploaded\\r'), FloatProgress(value=1.0, max=1.0)))"
      ]
     },
     "metadata": {},
     "output_type": "display_data"
    },
    {
     "data": {
      "text/html": [
       "<style>\n",
       "    table.wandb td:nth-child(1) { padding: 0 10px; text-align: left ; width: auto;} td:nth-child(2) {text-align: left ; width: 100%}\n",
       "    .wandb-row { display: flex; flex-direction: row; flex-wrap: wrap; justify-content: flex-start; width: 100% }\n",
       "    .wandb-col { display: flex; flex-direction: column; flex-basis: 100%; flex: 1; padding: 10px; }\n",
       "    </style>\n",
       "<div class=\"wandb-row\"><div class=\"wandb-col\"><h3>Run history:</h3><br/><table class=\"wandb\"><tr><td>epoch</td><td>▁▂▃▅▆▇█</td></tr><tr><td>inference_accuracy</td><td>▁</td></tr><tr><td>inference_loss</td><td>▁</td></tr><tr><td>test_acc</td><td>▁▅▇▇███</td></tr><tr><td>test_f1</td><td>▁▅█▇███</td></tr><tr><td>test_loss</td><td>█▄▂▁▁▁▁</td></tr><tr><td>test_precision</td><td>▁▅▇▇███</td></tr><tr><td>test_recall</td><td>▁▅▇▇███</td></tr><tr><td>train_acc</td><td>▁▆▇████</td></tr><tr><td>train_f1</td><td>▁▆▇████</td></tr><tr><td>train_loss</td><td>█▃▂▁▁▁▁</td></tr><tr><td>train_precision</td><td>▁▆▇████</td></tr><tr><td>train_recall</td><td>▁▆▇████</td></tr></table><br/></div><div class=\"wandb-col\"><h3>Run summary:</h3><br/><table class=\"wandb\"><tr><td>epoch</td><td>7</td></tr><tr><td>inference_accuracy</td><td>0.92083</td></tr><tr><td>inference_loss</td><td>0.37554</td></tr><tr><td>test_acc</td><td>0.95556</td></tr><tr><td>test_f1</td><td>0.95601</td></tr><tr><td>test_loss</td><td>0.38524</td></tr><tr><td>test_precision</td><td>0.96557</td></tr><tr><td>test_recall</td><td>0.95556</td></tr><tr><td>train_acc</td><td>0.92083</td></tr><tr><td>train_f1</td><td>0.9213</td></tr><tr><td>train_loss</td><td>0.37548</td></tr><tr><td>train_precision</td><td>0.92269</td></tr><tr><td>train_recall</td><td>0.92083</td></tr><tr><td>train_time</td><td>00:05:29</td></tr></table><br/></div></div>"
      ],
      "text/plain": [
       "<IPython.core.display.HTML object>"
      ]
     },
     "metadata": {},
     "output_type": "display_data"
    },
    {
     "data": {
      "text/html": [
       " View run <strong style=\"color:#cdcd00\">feasible-sweep-18</strong> at: <a href='https://wandb.ai/andberg9-self/AST_Sweeps/runs/52opl40e' target=\"_blank\">https://wandb.ai/andberg9-self/AST_Sweeps/runs/52opl40e</a><br/> View project at: <a href='https://wandb.ai/andberg9-self/AST_Sweeps' target=\"_blank\">https://wandb.ai/andberg9-self/AST_Sweeps</a><br/>Synced 5 W&B file(s), 0 media file(s), 0 artifact file(s) and 0 other file(s)"
      ],
      "text/plain": [
       "<IPython.core.display.HTML object>"
      ]
     },
     "metadata": {},
     "output_type": "display_data"
    },
    {
     "data": {
      "text/html": [
       "Find logs at: <code>.\\wandb\\run-20240925_123042-52opl40e\\logs</code>"
      ],
      "text/plain": [
       "<IPython.core.display.HTML object>"
      ]
     },
     "metadata": {},
     "output_type": "display_data"
    },
    {
     "name": "stderr",
     "output_type": "stream",
     "text": [
      "wandb: Agent Starting Run: 5tl91tz5 with config:\n",
      "wandb: \tbatch_size: 16\n",
      "wandb: \tepochs: 7\n",
      "wandb: \tlearning_rate: 0.0003673758755760435\n",
      "wandb: \toptimizer: adamW\n",
      "wandb: \tscheduler: PolynomialLR\n"
     ]
    },
    {
     "data": {
      "text/html": [
       "Tracking run with wandb version 0.18.1"
      ],
      "text/plain": [
       "<IPython.core.display.HTML object>"
      ]
     },
     "metadata": {},
     "output_type": "display_data"
    },
    {
     "data": {
      "text/html": [
       "Run data is saved locally in <code>c:\\Users\\Sidewinders\\Research_notebooks\\Drone_classification\\Research\\notebooks\\wandb\\run-20240925_123632-5tl91tz5</code>"
      ],
      "text/plain": [
       "<IPython.core.display.HTML object>"
      ]
     },
     "metadata": {},
     "output_type": "display_data"
    },
    {
     "data": {
      "text/html": [
       "Syncing run <strong><a href='https://wandb.ai/andberg9-self/AST_Sweeps/runs/5tl91tz5' target=\"_blank\">swift-sweep-19</a></strong> to <a href='https://wandb.ai/andberg9-self/AST_Sweeps' target=\"_blank\">Weights & Biases</a> (<a href='https://wandb.me/run' target=\"_blank\">docs</a>)<br/>Sweep page: <a href='https://wandb.ai/andberg9-self/AST_Sweeps/sweeps/ange3go8' target=\"_blank\">https://wandb.ai/andberg9-self/AST_Sweeps/sweeps/ange3go8</a>"
      ],
      "text/plain": [
       "<IPython.core.display.HTML object>"
      ]
     },
     "metadata": {},
     "output_type": "display_data"
    },
    {
     "data": {
      "text/html": [
       " View project at <a href='https://wandb.ai/andberg9-self/AST_Sweeps' target=\"_blank\">https://wandb.ai/andberg9-self/AST_Sweeps</a>"
      ],
      "text/plain": [
       "<IPython.core.display.HTML object>"
      ]
     },
     "metadata": {},
     "output_type": "display_data"
    },
    {
     "data": {
      "text/html": [
       " View sweep at <a href='https://wandb.ai/andberg9-self/AST_Sweeps/sweeps/ange3go8' target=\"_blank\">https://wandb.ai/andberg9-self/AST_Sweeps/sweeps/ange3go8</a>"
      ],
      "text/plain": [
       "<IPython.core.display.HTML object>"
      ]
     },
     "metadata": {},
     "output_type": "display_data"
    },
    {
     "data": {
      "text/html": [
       " View run at <a href='https://wandb.ai/andberg9-self/AST_Sweeps/runs/5tl91tz5' target=\"_blank\">https://wandb.ai/andberg9-self/AST_Sweeps/runs/5tl91tz5</a>"
      ],
      "text/plain": [
       "<IPython.core.display.HTML object>"
      ]
     },
     "metadata": {},
     "output_type": "display_data"
    },
    {
     "name": "stdout",
     "output_type": "stream",
     "text": [
      "ASTForAudioClassification(\n",
      "  (audio_spectrogram_transformer): ASTModel(\n",
      "    (embeddings): ASTEmbeddings(\n",
      "      (patch_embeddings): ASTPatchEmbeddings(\n",
      "        (projection): Conv2d(1, 768, kernel_size=(16, 16), stride=(10, 10))\n",
      "      )\n",
      "      (dropout): Dropout(p=0.0, inplace=False)\n",
      "    )\n",
      "    (encoder): ASTEncoder(\n",
      "      (layer): ModuleList(\n",
      "        (0-11): 12 x ASTLayer(\n",
      "          (attention): ASTSdpaAttention(\n",
      "            (attention): ASTSdpaSelfAttention(\n",
      "              (query): Linear(in_features=768, out_features=768, bias=True)\n",
      "              (key): Linear(in_features=768, out_features=768, bias=True)\n",
      "              (value): Linear(in_features=768, out_features=768, bias=True)\n",
      "              (dropout): Dropout(p=0.0, inplace=False)\n",
      "            )\n",
      "            (output): ASTSelfOutput(\n",
      "              (dense): Linear(in_features=768, out_features=768, bias=True)\n",
      "              (dropout): Dropout(p=0.0, inplace=False)\n",
      "            )\n",
      "          )\n",
      "          (intermediate): ASTIntermediate(\n",
      "            (dense): Linear(in_features=768, out_features=3072, bias=True)\n",
      "            (intermediate_act_fn): GELUActivation()\n",
      "          )\n",
      "          (output): ASTOutput(\n",
      "            (dense): Linear(in_features=3072, out_features=768, bias=True)\n",
      "            (dropout): Dropout(p=0.0, inplace=False)\n",
      "          )\n",
      "          (layernorm_before): LayerNorm((768,), eps=1e-12, elementwise_affine=True)\n",
      "          (layernorm_after): LayerNorm((768,), eps=1e-12, elementwise_affine=True)\n",
      "        )\n",
      "      )\n",
      "    )\n",
      "    (layernorm): LayerNorm((768,), eps=1e-12, elementwise_affine=True)\n",
      "  )\n",
      "  (classifier): ASTMLPHead(\n",
      "    (layernorm): LayerNorm((768,), eps=1e-12, elementwise_affine=True)\n",
      "    (dense): Linear(in_features=768, out_features=9, bias=True)\n",
      "  )\n",
      ")\n"
     ]
    },
    {
     "data": {
      "application/vnd.jupyter.widget-view+json": {
       "model_id": "d2846ea86ea041b6aa375cfcd7ad59c9",
       "version_major": 2,
       "version_minor": 0
      },
      "text/plain": [
       "  0%|          | 0/7 [00:00<?, ?it/s]"
      ]
     },
     "metadata": {},
     "output_type": "display_data"
    },
    {
     "name": "stdout",
     "output_type": "stream",
     "text": [
      "Epoch 1/7 | Train Loss: 2.0032 | Train Acc: 0.2583 | Train F1: 0.2828 | Test Loss: 1.6136 | Test Acc: 0.5677 | Test F1: 0.5035\n",
      "Epoch 2/7 | Train Loss: 1.4381 | Train Acc: 0.6319 | Train F1: 0.6084 | Test Loss: 1.2520 | Test Acc: 0.7344 | Test F1: 0.7260\n",
      "Epoch 3/7 | Train Loss: 1.1307 | Train Acc: 0.7667 | Train F1: 0.7641 | Test Loss: 1.0319 | Test Acc: 0.8333 | Test F1: 0.8390\n",
      "Epoch 4/7 | Train Loss: 0.9764 | Train Acc: 0.8097 | Train F1: 0.8092 | Test Loss: 0.9310 | Test Acc: 0.8385 | Test F1: 0.8445\n",
      "Epoch 5/7 | Train Loss: 0.9010 | Train Acc: 0.8153 | Train F1: 0.8134 | Test Loss: 0.8991 | Test Acc: 0.8594 | Test F1: 0.8666\n",
      "Epoch 6/7 | Train Loss: 0.8772 | Train Acc: 0.8208 | Train F1: 0.8188 | Test Loss: 0.8857 | Test Acc: 0.8594 | Test F1: 0.8666\n",
      "Epoch 7/7 | Train Loss: 0.8772 | Train Acc: 0.8208 | Train F1: 0.8188 | Test Loss: 0.8588 | Test Acc: 0.8750 | Test F1: 0.8666\n",
      "Train time on cuda: 333.7405703000004\n",
      "Inference Loss: 0.8772, Accuracy: 81.94%\n"
     ]
    },
    {
     "data": {
      "application/vnd.jupyter.widget-view+json": {
       "model_id": "06bce60f883e48768aa76eca44a41480",
       "version_major": 2,
       "version_minor": 0
      },
      "text/plain": [
       "VBox(children=(Label(value='0.008 MB of 0.008 MB uploaded\\r'), FloatProgress(value=1.0, max=1.0)))"
      ]
     },
     "metadata": {},
     "output_type": "display_data"
    },
    {
     "data": {
      "text/html": [
       "<style>\n",
       "    table.wandb td:nth-child(1) { padding: 0 10px; text-align: left ; width: auto;} td:nth-child(2) {text-align: left ; width: 100%}\n",
       "    .wandb-row { display: flex; flex-direction: row; flex-wrap: wrap; justify-content: flex-start; width: 100% }\n",
       "    .wandb-col { display: flex; flex-direction: column; flex-basis: 100%; flex: 1; padding: 10px; }\n",
       "    </style>\n",
       "<div class=\"wandb-row\"><div class=\"wandb-col\"><h3>Run history:</h3><br/><table class=\"wandb\"><tr><td>epoch</td><td>▁▂▃▅▆▇█</td></tr><tr><td>inference_accuracy</td><td>▁</td></tr><tr><td>inference_loss</td><td>▁</td></tr><tr><td>test_acc</td><td>▁▅▇▇███</td></tr><tr><td>test_f1</td><td>▁▅▇████</td></tr><tr><td>test_loss</td><td>█▅▃▂▁▁▁</td></tr><tr><td>test_precision</td><td>▁▆█████</td></tr><tr><td>test_recall</td><td>▁▅▇████</td></tr><tr><td>train_acc</td><td>▁▆▇████</td></tr><tr><td>train_f1</td><td>▁▅▇████</td></tr><tr><td>train_loss</td><td>█▄▃▂▁▁▁</td></tr><tr><td>train_precision</td><td>▁▅▇████</td></tr><tr><td>train_recall</td><td>▁▆▇████</td></tr></table><br/></div><div class=\"wandb-col\"><h3>Run summary:</h3><br/><table class=\"wandb\"><tr><td>epoch</td><td>7</td></tr><tr><td>inference_accuracy</td><td>0.81944</td></tr><tr><td>inference_loss</td><td>0.87721</td></tr><tr><td>test_acc</td><td>0.875</td></tr><tr><td>test_f1</td><td>0.86665</td></tr><tr><td>test_loss</td><td>0.85881</td></tr><tr><td>test_precision</td><td>0.87242</td></tr><tr><td>test_recall</td><td>0.86667</td></tr><tr><td>train_acc</td><td>0.82083</td></tr><tr><td>train_f1</td><td>0.81882</td></tr><tr><td>train_loss</td><td>0.87716</td></tr><tr><td>train_precision</td><td>0.82098</td></tr><tr><td>train_recall</td><td>0.82083</td></tr><tr><td>train_time</td><td>00:05:33</td></tr></table><br/></div></div>"
      ],
      "text/plain": [
       "<IPython.core.display.HTML object>"
      ]
     },
     "metadata": {},
     "output_type": "display_data"
    },
    {
     "data": {
      "text/html": [
       " View run <strong style=\"color:#cdcd00\">swift-sweep-19</strong> at: <a href='https://wandb.ai/andberg9-self/AST_Sweeps/runs/5tl91tz5' target=\"_blank\">https://wandb.ai/andberg9-self/AST_Sweeps/runs/5tl91tz5</a><br/> View project at: <a href='https://wandb.ai/andberg9-self/AST_Sweeps' target=\"_blank\">https://wandb.ai/andberg9-self/AST_Sweeps</a><br/>Synced 5 W&B file(s), 0 media file(s), 0 artifact file(s) and 0 other file(s)"
      ],
      "text/plain": [
       "<IPython.core.display.HTML object>"
      ]
     },
     "metadata": {},
     "output_type": "display_data"
    },
    {
     "data": {
      "text/html": [
       "Find logs at: <code>.\\wandb\\run-20240925_123632-5tl91tz5\\logs</code>"
      ],
      "text/plain": [
       "<IPython.core.display.HTML object>"
      ]
     },
     "metadata": {},
     "output_type": "display_data"
    },
    {
     "name": "stderr",
     "output_type": "stream",
     "text": [
      "wandb: Agent Starting Run: opu7rbbc with config:\n",
      "wandb: \tbatch_size: 32\n",
      "wandb: \tepochs: 7\n",
      "wandb: \tlearning_rate: 0.0001058760830805093\n",
      "wandb: \toptimizer: adamW\n",
      "wandb: \tscheduler: PolynomialLR\n"
     ]
    },
    {
     "data": {
      "text/html": [
       "Tracking run with wandb version 0.18.1"
      ],
      "text/plain": [
       "<IPython.core.display.HTML object>"
      ]
     },
     "metadata": {},
     "output_type": "display_data"
    },
    {
     "data": {
      "text/html": [
       "Run data is saved locally in <code>c:\\Users\\Sidewinders\\Research_notebooks\\Drone_classification\\Research\\notebooks\\wandb\\run-20240925_124229-opu7rbbc</code>"
      ],
      "text/plain": [
       "<IPython.core.display.HTML object>"
      ]
     },
     "metadata": {},
     "output_type": "display_data"
    },
    {
     "data": {
      "text/html": [
       "Syncing run <strong><a href='https://wandb.ai/andberg9-self/AST_Sweeps/runs/opu7rbbc' target=\"_blank\">earthy-sweep-20</a></strong> to <a href='https://wandb.ai/andberg9-self/AST_Sweeps' target=\"_blank\">Weights & Biases</a> (<a href='https://wandb.me/run' target=\"_blank\">docs</a>)<br/>Sweep page: <a href='https://wandb.ai/andberg9-self/AST_Sweeps/sweeps/ange3go8' target=\"_blank\">https://wandb.ai/andberg9-self/AST_Sweeps/sweeps/ange3go8</a>"
      ],
      "text/plain": [
       "<IPython.core.display.HTML object>"
      ]
     },
     "metadata": {},
     "output_type": "display_data"
    },
    {
     "data": {
      "text/html": [
       " View project at <a href='https://wandb.ai/andberg9-self/AST_Sweeps' target=\"_blank\">https://wandb.ai/andberg9-self/AST_Sweeps</a>"
      ],
      "text/plain": [
       "<IPython.core.display.HTML object>"
      ]
     },
     "metadata": {},
     "output_type": "display_data"
    },
    {
     "data": {
      "text/html": [
       " View sweep at <a href='https://wandb.ai/andberg9-self/AST_Sweeps/sweeps/ange3go8' target=\"_blank\">https://wandb.ai/andberg9-self/AST_Sweeps/sweeps/ange3go8</a>"
      ],
      "text/plain": [
       "<IPython.core.display.HTML object>"
      ]
     },
     "metadata": {},
     "output_type": "display_data"
    },
    {
     "data": {
      "text/html": [
       " View run at <a href='https://wandb.ai/andberg9-self/AST_Sweeps/runs/opu7rbbc' target=\"_blank\">https://wandb.ai/andberg9-self/AST_Sweeps/runs/opu7rbbc</a>"
      ],
      "text/plain": [
       "<IPython.core.display.HTML object>"
      ]
     },
     "metadata": {},
     "output_type": "display_data"
    },
    {
     "name": "stdout",
     "output_type": "stream",
     "text": [
      "ASTForAudioClassification(\n",
      "  (audio_spectrogram_transformer): ASTModel(\n",
      "    (embeddings): ASTEmbeddings(\n",
      "      (patch_embeddings): ASTPatchEmbeddings(\n",
      "        (projection): Conv2d(1, 768, kernel_size=(16, 16), stride=(10, 10))\n",
      "      )\n",
      "      (dropout): Dropout(p=0.0, inplace=False)\n",
      "    )\n",
      "    (encoder): ASTEncoder(\n",
      "      (layer): ModuleList(\n",
      "        (0-11): 12 x ASTLayer(\n",
      "          (attention): ASTSdpaAttention(\n",
      "            (attention): ASTSdpaSelfAttention(\n",
      "              (query): Linear(in_features=768, out_features=768, bias=True)\n",
      "              (key): Linear(in_features=768, out_features=768, bias=True)\n",
      "              (value): Linear(in_features=768, out_features=768, bias=True)\n",
      "              (dropout): Dropout(p=0.0, inplace=False)\n",
      "            )\n",
      "            (output): ASTSelfOutput(\n",
      "              (dense): Linear(in_features=768, out_features=768, bias=True)\n",
      "              (dropout): Dropout(p=0.0, inplace=False)\n",
      "            )\n",
      "          )\n",
      "          (intermediate): ASTIntermediate(\n",
      "            (dense): Linear(in_features=768, out_features=3072, bias=True)\n",
      "            (intermediate_act_fn): GELUActivation()\n",
      "          )\n",
      "          (output): ASTOutput(\n",
      "            (dense): Linear(in_features=3072, out_features=768, bias=True)\n",
      "            (dropout): Dropout(p=0.0, inplace=False)\n",
      "          )\n",
      "          (layernorm_before): LayerNorm((768,), eps=1e-12, elementwise_affine=True)\n",
      "          (layernorm_after): LayerNorm((768,), eps=1e-12, elementwise_affine=True)\n",
      "        )\n",
      "      )\n",
      "    )\n",
      "    (layernorm): LayerNorm((768,), eps=1e-12, elementwise_affine=True)\n",
      "  )\n",
      "  (classifier): ASTMLPHead(\n",
      "    (layernorm): LayerNorm((768,), eps=1e-12, elementwise_affine=True)\n",
      "    (dense): Linear(in_features=768, out_features=9, bias=True)\n",
      "  )\n",
      ")\n"
     ]
    },
    {
     "data": {
      "application/vnd.jupyter.widget-view+json": {
       "model_id": "0c4f85ad080c4d6ba82049db673f651f",
       "version_major": 2,
       "version_minor": 0
      },
      "text/plain": [
       "  0%|          | 0/7 [00:00<?, ?it/s]"
      ]
     },
     "metadata": {},
     "output_type": "display_data"
    },
    {
     "name": "stdout",
     "output_type": "stream",
     "text": [
      "Epoch 1/7 | Train Loss: 2.4890 | Train Acc: 0.1087 | Train F1: 0.0587 | Test Loss: 2.3436 | Test Acc: 0.2021 | Test F1: 0.1367\n",
      "Epoch 2/7 | Train Loss: 2.3533 | Train Acc: 0.1291 | Train F1: 0.0794 | Test Loss: 2.2549 | Test Acc: 0.2208 | Test F1: 0.1562\n",
      "Epoch 3/7 | Train Loss: 2.2624 | Train Acc: 0.1617 | Train F1: 0.1208 | Test Loss: 2.1752 | Test Acc: 0.2323 | Test F1: 0.1755\n",
      "Epoch 4/7 | Train Loss: 2.1985 | Train Acc: 0.1766 | Train F1: 0.1392 | Test Loss: 2.1345 | Test Acc: 0.2531 | Test F1: 0.2014\n",
      "Epoch 5/7 | Train Loss: 2.1620 | Train Acc: 0.1821 | Train F1: 0.1461 | Test Loss: 2.1091 | Test Acc: 0.2687 | Test F1: 0.2258\n",
      "Epoch 6/7 | Train Loss: 2.1531 | Train Acc: 0.1875 | Train F1: 0.1537 | Test Loss: 2.1168 | Test Acc: 0.2687 | Test F1: 0.2258\n",
      "Epoch 7/7 | Train Loss: 2.1554 | Train Acc: 0.1848 | Train F1: 0.1537 | Test Loss: 2.1130 | Test Acc: 0.2656 | Test F1: 0.2258\n",
      "Train time on cuda: 334.4073435999999\n",
      "Inference Loss: 2.1542, Accuracy: 18.75%\n"
     ]
    },
    {
     "data": {
      "application/vnd.jupyter.widget-view+json": {
       "model_id": "3b6aefe1f746461689a19b0e2c4db2ac",
       "version_major": 2,
       "version_minor": 0
      },
      "text/plain": [
       "VBox(children=(Label(value='0.008 MB of 0.008 MB uploaded\\r'), FloatProgress(value=1.0, max=1.0)))"
      ]
     },
     "metadata": {},
     "output_type": "display_data"
    },
    {
     "data": {
      "text/html": [
       "<style>\n",
       "    table.wandb td:nth-child(1) { padding: 0 10px; text-align: left ; width: auto;} td:nth-child(2) {text-align: left ; width: 100%}\n",
       "    .wandb-row { display: flex; flex-direction: row; flex-wrap: wrap; justify-content: flex-start; width: 100% }\n",
       "    .wandb-col { display: flex; flex-direction: column; flex-basis: 100%; flex: 1; padding: 10px; }\n",
       "    </style>\n",
       "<div class=\"wandb-row\"><div class=\"wandb-col\"><h3>Run history:</h3><br/><table class=\"wandb\"><tr><td>epoch</td><td>▁▂▃▅▆▇█</td></tr><tr><td>inference_accuracy</td><td>▁</td></tr><tr><td>inference_loss</td><td>▁</td></tr><tr><td>test_acc</td><td>▁▃▄▆███</td></tr><tr><td>test_f1</td><td>▁▃▄▆███</td></tr><tr><td>test_loss</td><td>█▅▃▂▁▁▁</td></tr><tr><td>test_precision</td><td>▁▂▃▅███</td></tr><tr><td>test_recall</td><td>▁▃▄▆███</td></tr><tr><td>train_acc</td><td>▁▃▆▇███</td></tr><tr><td>train_f1</td><td>▁▃▆▇▇██</td></tr><tr><td>train_loss</td><td>█▅▃▂▁▁▁</td></tr><tr><td>train_precision</td><td>▁▂▅▇▇██</td></tr><tr><td>train_recall</td><td>▁▃▆▇▇██</td></tr></table><br/></div><div class=\"wandb-col\"><h3>Run summary:</h3><br/><table class=\"wandb\"><tr><td>epoch</td><td>7</td></tr><tr><td>inference_accuracy</td><td>0.1875</td></tr><tr><td>inference_loss</td><td>2.15419</td></tr><tr><td>test_acc</td><td>0.26562</td></tr><tr><td>test_f1</td><td>0.22576</td></tr><tr><td>test_loss</td><td>2.11303</td></tr><tr><td>test_precision</td><td>0.21622</td></tr><tr><td>test_recall</td><td>0.26667</td></tr><tr><td>train_acc</td><td>0.18478</td></tr><tr><td>train_f1</td><td>0.15371</td></tr><tr><td>train_loss</td><td>2.15544</td></tr><tr><td>train_precision</td><td>0.14065</td></tr><tr><td>train_recall</td><td>0.1875</td></tr><tr><td>train_time</td><td>00:05:34</td></tr></table><br/></div></div>"
      ],
      "text/plain": [
       "<IPython.core.display.HTML object>"
      ]
     },
     "metadata": {},
     "output_type": "display_data"
    },
    {
     "data": {
      "text/html": [
       " View run <strong style=\"color:#cdcd00\">earthy-sweep-20</strong> at: <a href='https://wandb.ai/andberg9-self/AST_Sweeps/runs/opu7rbbc' target=\"_blank\">https://wandb.ai/andberg9-self/AST_Sweeps/runs/opu7rbbc</a><br/> View project at: <a href='https://wandb.ai/andberg9-self/AST_Sweeps' target=\"_blank\">https://wandb.ai/andberg9-self/AST_Sweeps</a><br/>Synced 5 W&B file(s), 0 media file(s), 0 artifact file(s) and 0 other file(s)"
      ],
      "text/plain": [
       "<IPython.core.display.HTML object>"
      ]
     },
     "metadata": {},
     "output_type": "display_data"
    },
    {
     "data": {
      "text/html": [
       "Find logs at: <code>.\\wandb\\run-20240925_124229-opu7rbbc\\logs</code>"
      ],
      "text/plain": [
       "<IPython.core.display.HTML object>"
      ]
     },
     "metadata": {},
     "output_type": "display_data"
    },
    {
     "name": "stderr",
     "output_type": "stream",
     "text": [
      "wandb: Agent Starting Run: t2jdoq8y with config:\n",
      "wandb: \tbatch_size: 32\n",
      "wandb: \tepochs: 7\n",
      "wandb: \tlearning_rate: 0.0002937728186888008\n",
      "wandb: \toptimizer: adamW\n",
      "wandb: \tscheduler: PolynomialLR\n"
     ]
    },
    {
     "data": {
      "text/html": [
       "Tracking run with wandb version 0.18.1"
      ],
      "text/plain": [
       "<IPython.core.display.HTML object>"
      ]
     },
     "metadata": {},
     "output_type": "display_data"
    },
    {
     "data": {
      "text/html": [
       "Run data is saved locally in <code>c:\\Users\\Sidewinders\\Research_notebooks\\Drone_classification\\Research\\notebooks\\wandb\\run-20240925_124826-t2jdoq8y</code>"
      ],
      "text/plain": [
       "<IPython.core.display.HTML object>"
      ]
     },
     "metadata": {},
     "output_type": "display_data"
    },
    {
     "data": {
      "text/html": [
       "Syncing run <strong><a href='https://wandb.ai/andberg9-self/AST_Sweeps/runs/t2jdoq8y' target=\"_blank\">faithful-sweep-21</a></strong> to <a href='https://wandb.ai/andberg9-self/AST_Sweeps' target=\"_blank\">Weights & Biases</a> (<a href='https://wandb.me/run' target=\"_blank\">docs</a>)<br/>Sweep page: <a href='https://wandb.ai/andberg9-self/AST_Sweeps/sweeps/ange3go8' target=\"_blank\">https://wandb.ai/andberg9-self/AST_Sweeps/sweeps/ange3go8</a>"
      ],
      "text/plain": [
       "<IPython.core.display.HTML object>"
      ]
     },
     "metadata": {},
     "output_type": "display_data"
    },
    {
     "data": {
      "text/html": [
       " View project at <a href='https://wandb.ai/andberg9-self/AST_Sweeps' target=\"_blank\">https://wandb.ai/andberg9-self/AST_Sweeps</a>"
      ],
      "text/plain": [
       "<IPython.core.display.HTML object>"
      ]
     },
     "metadata": {},
     "output_type": "display_data"
    },
    {
     "data": {
      "text/html": [
       " View sweep at <a href='https://wandb.ai/andberg9-self/AST_Sweeps/sweeps/ange3go8' target=\"_blank\">https://wandb.ai/andberg9-self/AST_Sweeps/sweeps/ange3go8</a>"
      ],
      "text/plain": [
       "<IPython.core.display.HTML object>"
      ]
     },
     "metadata": {},
     "output_type": "display_data"
    },
    {
     "data": {
      "text/html": [
       " View run at <a href='https://wandb.ai/andberg9-self/AST_Sweeps/runs/t2jdoq8y' target=\"_blank\">https://wandb.ai/andberg9-self/AST_Sweeps/runs/t2jdoq8y</a>"
      ],
      "text/plain": [
       "<IPython.core.display.HTML object>"
      ]
     },
     "metadata": {},
     "output_type": "display_data"
    },
    {
     "name": "stdout",
     "output_type": "stream",
     "text": [
      "ASTForAudioClassification(\n",
      "  (audio_spectrogram_transformer): ASTModel(\n",
      "    (embeddings): ASTEmbeddings(\n",
      "      (patch_embeddings): ASTPatchEmbeddings(\n",
      "        (projection): Conv2d(1, 768, kernel_size=(16, 16), stride=(10, 10))\n",
      "      )\n",
      "      (dropout): Dropout(p=0.0, inplace=False)\n",
      "    )\n",
      "    (encoder): ASTEncoder(\n",
      "      (layer): ModuleList(\n",
      "        (0-11): 12 x ASTLayer(\n",
      "          (attention): ASTSdpaAttention(\n",
      "            (attention): ASTSdpaSelfAttention(\n",
      "              (query): Linear(in_features=768, out_features=768, bias=True)\n",
      "              (key): Linear(in_features=768, out_features=768, bias=True)\n",
      "              (value): Linear(in_features=768, out_features=768, bias=True)\n",
      "              (dropout): Dropout(p=0.0, inplace=False)\n",
      "            )\n",
      "            (output): ASTSelfOutput(\n",
      "              (dense): Linear(in_features=768, out_features=768, bias=True)\n",
      "              (dropout): Dropout(p=0.0, inplace=False)\n",
      "            )\n",
      "          )\n",
      "          (intermediate): ASTIntermediate(\n",
      "            (dense): Linear(in_features=768, out_features=3072, bias=True)\n",
      "            (intermediate_act_fn): GELUActivation()\n",
      "          )\n",
      "          (output): ASTOutput(\n",
      "            (dense): Linear(in_features=3072, out_features=768, bias=True)\n",
      "            (dropout): Dropout(p=0.0, inplace=False)\n",
      "          )\n",
      "          (layernorm_before): LayerNorm((768,), eps=1e-12, elementwise_affine=True)\n",
      "          (layernorm_after): LayerNorm((768,), eps=1e-12, elementwise_affine=True)\n",
      "        )\n",
      "      )\n",
      "    )\n",
      "    (layernorm): LayerNorm((768,), eps=1e-12, elementwise_affine=True)\n",
      "  )\n",
      "  (classifier): ASTMLPHead(\n",
      "    (layernorm): LayerNorm((768,), eps=1e-12, elementwise_affine=True)\n",
      "    (dense): Linear(in_features=768, out_features=9, bias=True)\n",
      "  )\n",
      ")\n"
     ]
    },
    {
     "data": {
      "application/vnd.jupyter.widget-view+json": {
       "model_id": "9888685fd19c4f3fbb3de2312b5a5207",
       "version_major": 2,
       "version_minor": 0
      },
      "text/plain": [
       "  0%|          | 0/7 [00:00<?, ?it/s]"
      ]
     },
     "metadata": {},
     "output_type": "display_data"
    },
    {
     "name": "stdout",
     "output_type": "stream",
     "text": [
      "Epoch 1/7 | Train Loss: 2.1386 | Train Acc: 0.1793 | Train F1: 0.1765 | Test Loss: 1.9908 | Test Acc: 0.3281 | Test F1: 0.2811\n",
      "Epoch 2/7 | Train Loss: 1.8658 | Train Acc: 0.3886 | Train F1: 0.3600 | Test Loss: 1.7830 | Test Acc: 0.4469 | Test F1: 0.4172\n",
      "Epoch 3/7 | Train Loss: 1.6817 | Train Acc: 0.5285 | Train F1: 0.5037 | Test Loss: 1.6457 | Test Acc: 0.5229 | Test F1: 0.5010\n",
      "Epoch 4/7 | Train Loss: 1.5644 | Train Acc: 0.6019 | Train F1: 0.5867 | Test Loss: 1.5506 | Test Acc: 0.6031 | Test F1: 0.5737\n",
      "Epoch 5/7 | Train Loss: 1.4946 | Train Acc: 0.6576 | Train F1: 0.6405 | Test Loss: 1.5120 | Test Acc: 0.6146 | Test F1: 0.5999\n",
      "Epoch 6/7 | Train Loss: 1.4714 | Train Acc: 0.6644 | Train F1: 0.6502 | Test Loss: 1.5132 | Test Acc: 0.6177 | Test F1: 0.5999\n",
      "Epoch 7/7 | Train Loss: 1.4722 | Train Acc: 0.6671 | Train F1: 0.6502 | Test Loss: 1.5031 | Test Acc: 0.6177 | Test F1: 0.5999\n",
      "Train time on cuda: 334.0968699999994\n",
      "Inference Loss: 1.4735, Accuracy: 66.67%\n"
     ]
    },
    {
     "data": {
      "application/vnd.jupyter.widget-view+json": {
       "model_id": "b085d2de238b4f8cac7bf503713f4a3d",
       "version_major": 2,
       "version_minor": 0
      },
      "text/plain": [
       "VBox(children=(Label(value='0.008 MB of 0.008 MB uploaded\\r'), FloatProgress(value=1.0, max=1.0)))"
      ]
     },
     "metadata": {},
     "output_type": "display_data"
    },
    {
     "data": {
      "text/html": [
       "<style>\n",
       "    table.wandb td:nth-child(1) { padding: 0 10px; text-align: left ; width: auto;} td:nth-child(2) {text-align: left ; width: 100%}\n",
       "    .wandb-row { display: flex; flex-direction: row; flex-wrap: wrap; justify-content: flex-start; width: 100% }\n",
       "    .wandb-col { display: flex; flex-direction: column; flex-basis: 100%; flex: 1; padding: 10px; }\n",
       "    </style>\n",
       "<div class=\"wandb-row\"><div class=\"wandb-col\"><h3>Run history:</h3><br/><table class=\"wandb\"><tr><td>epoch</td><td>▁▂▃▅▆▇█</td></tr><tr><td>inference_accuracy</td><td>▁</td></tr><tr><td>inference_loss</td><td>▁</td></tr><tr><td>test_acc</td><td>▁▄▆████</td></tr><tr><td>test_f1</td><td>▁▄▆▇███</td></tr><tr><td>test_loss</td><td>█▅▃▂▁▁▁</td></tr><tr><td>test_precision</td><td>▁▅▆████</td></tr><tr><td>test_recall</td><td>▁▄▆▇███</td></tr><tr><td>train_acc</td><td>▁▄▆▇███</td></tr><tr><td>train_f1</td><td>▁▄▆▇███</td></tr><tr><td>train_loss</td><td>█▅▃▂▁▁▁</td></tr><tr><td>train_precision</td><td>▁▄▆▇███</td></tr><tr><td>train_recall</td><td>▁▄▆▇███</td></tr></table><br/></div><div class=\"wandb-col\"><h3>Run summary:</h3><br/><table class=\"wandb\"><tr><td>epoch</td><td>7</td></tr><tr><td>inference_accuracy</td><td>0.66667</td></tr><tr><td>inference_loss</td><td>1.47348</td></tr><tr><td>test_acc</td><td>0.61771</td></tr><tr><td>test_f1</td><td>0.59991</td></tr><tr><td>test_loss</td><td>1.5031</td></tr><tr><td>test_precision</td><td>0.63451</td></tr><tr><td>test_recall</td><td>0.62222</td></tr><tr><td>train_acc</td><td>0.66712</td></tr><tr><td>train_f1</td><td>0.65017</td></tr><tr><td>train_loss</td><td>1.47219</td></tr><tr><td>train_precision</td><td>0.65806</td></tr><tr><td>train_recall</td><td>0.66528</td></tr><tr><td>train_time</td><td>00:05:34</td></tr></table><br/></div></div>"
      ],
      "text/plain": [
       "<IPython.core.display.HTML object>"
      ]
     },
     "metadata": {},
     "output_type": "display_data"
    },
    {
     "data": {
      "text/html": [
       " View run <strong style=\"color:#cdcd00\">faithful-sweep-21</strong> at: <a href='https://wandb.ai/andberg9-self/AST_Sweeps/runs/t2jdoq8y' target=\"_blank\">https://wandb.ai/andberg9-self/AST_Sweeps/runs/t2jdoq8y</a><br/> View project at: <a href='https://wandb.ai/andberg9-self/AST_Sweeps' target=\"_blank\">https://wandb.ai/andberg9-self/AST_Sweeps</a><br/>Synced 5 W&B file(s), 0 media file(s), 0 artifact file(s) and 0 other file(s)"
      ],
      "text/plain": [
       "<IPython.core.display.HTML object>"
      ]
     },
     "metadata": {},
     "output_type": "display_data"
    },
    {
     "data": {
      "text/html": [
       "Find logs at: <code>.\\wandb\\run-20240925_124826-t2jdoq8y\\logs</code>"
      ],
      "text/plain": [
       "<IPython.core.display.HTML object>"
      ]
     },
     "metadata": {},
     "output_type": "display_data"
    },
    {
     "name": "stderr",
     "output_type": "stream",
     "text": [
      "wandb: Agent Starting Run: 3a8xakjo with config:\n",
      "wandb: \tbatch_size: 8\n",
      "wandb: \tepochs: 7\n",
      "wandb: \tlearning_rate: 0.0005977232235372235\n",
      "wandb: \toptimizer: adamW\n",
      "wandb: \tscheduler: PolynomialLR\n"
     ]
    },
    {
     "data": {
      "text/html": [
       "Tracking run with wandb version 0.18.1"
      ],
      "text/plain": [
       "<IPython.core.display.HTML object>"
      ]
     },
     "metadata": {},
     "output_type": "display_data"
    },
    {
     "data": {
      "text/html": [
       "Run data is saved locally in <code>c:\\Users\\Sidewinders\\Research_notebooks\\Drone_classification\\Research\\notebooks\\wandb\\run-20240925_125422-3a8xakjo</code>"
      ],
      "text/plain": [
       "<IPython.core.display.HTML object>"
      ]
     },
     "metadata": {},
     "output_type": "display_data"
    },
    {
     "data": {
      "text/html": [
       "Syncing run <strong><a href='https://wandb.ai/andberg9-self/AST_Sweeps/runs/3a8xakjo' target=\"_blank\">comfy-sweep-22</a></strong> to <a href='https://wandb.ai/andberg9-self/AST_Sweeps' target=\"_blank\">Weights & Biases</a> (<a href='https://wandb.me/run' target=\"_blank\">docs</a>)<br/>Sweep page: <a href='https://wandb.ai/andberg9-self/AST_Sweeps/sweeps/ange3go8' target=\"_blank\">https://wandb.ai/andberg9-self/AST_Sweeps/sweeps/ange3go8</a>"
      ],
      "text/plain": [
       "<IPython.core.display.HTML object>"
      ]
     },
     "metadata": {},
     "output_type": "display_data"
    },
    {
     "data": {
      "text/html": [
       " View project at <a href='https://wandb.ai/andberg9-self/AST_Sweeps' target=\"_blank\">https://wandb.ai/andberg9-self/AST_Sweeps</a>"
      ],
      "text/plain": [
       "<IPython.core.display.HTML object>"
      ]
     },
     "metadata": {},
     "output_type": "display_data"
    },
    {
     "data": {
      "text/html": [
       " View sweep at <a href='https://wandb.ai/andberg9-self/AST_Sweeps/sweeps/ange3go8' target=\"_blank\">https://wandb.ai/andberg9-self/AST_Sweeps/sweeps/ange3go8</a>"
      ],
      "text/plain": [
       "<IPython.core.display.HTML object>"
      ]
     },
     "metadata": {},
     "output_type": "display_data"
    },
    {
     "data": {
      "text/html": [
       " View run at <a href='https://wandb.ai/andberg9-self/AST_Sweeps/runs/3a8xakjo' target=\"_blank\">https://wandb.ai/andberg9-self/AST_Sweeps/runs/3a8xakjo</a>"
      ],
      "text/plain": [
       "<IPython.core.display.HTML object>"
      ]
     },
     "metadata": {},
     "output_type": "display_data"
    },
    {
     "name": "stdout",
     "output_type": "stream",
     "text": [
      "ASTForAudioClassification(\n",
      "  (audio_spectrogram_transformer): ASTModel(\n",
      "    (embeddings): ASTEmbeddings(\n",
      "      (patch_embeddings): ASTPatchEmbeddings(\n",
      "        (projection): Conv2d(1, 768, kernel_size=(16, 16), stride=(10, 10))\n",
      "      )\n",
      "      (dropout): Dropout(p=0.0, inplace=False)\n",
      "    )\n",
      "    (encoder): ASTEncoder(\n",
      "      (layer): ModuleList(\n",
      "        (0-11): 12 x ASTLayer(\n",
      "          (attention): ASTSdpaAttention(\n",
      "            (attention): ASTSdpaSelfAttention(\n",
      "              (query): Linear(in_features=768, out_features=768, bias=True)\n",
      "              (key): Linear(in_features=768, out_features=768, bias=True)\n",
      "              (value): Linear(in_features=768, out_features=768, bias=True)\n",
      "              (dropout): Dropout(p=0.0, inplace=False)\n",
      "            )\n",
      "            (output): ASTSelfOutput(\n",
      "              (dense): Linear(in_features=768, out_features=768, bias=True)\n",
      "              (dropout): Dropout(p=0.0, inplace=False)\n",
      "            )\n",
      "          )\n",
      "          (intermediate): ASTIntermediate(\n",
      "            (dense): Linear(in_features=768, out_features=3072, bias=True)\n",
      "            (intermediate_act_fn): GELUActivation()\n",
      "          )\n",
      "          (output): ASTOutput(\n",
      "            (dense): Linear(in_features=3072, out_features=768, bias=True)\n",
      "            (dropout): Dropout(p=0.0, inplace=False)\n",
      "          )\n",
      "          (layernorm_before): LayerNorm((768,), eps=1e-12, elementwise_affine=True)\n",
      "          (layernorm_after): LayerNorm((768,), eps=1e-12, elementwise_affine=True)\n",
      "        )\n",
      "      )\n",
      "    )\n",
      "    (layernorm): LayerNorm((768,), eps=1e-12, elementwise_affine=True)\n",
      "  )\n",
      "  (classifier): ASTMLPHead(\n",
      "    (layernorm): LayerNorm((768,), eps=1e-12, elementwise_affine=True)\n",
      "    (dense): Linear(in_features=768, out_features=9, bias=True)\n",
      "  )\n",
      ")\n"
     ]
    },
    {
     "data": {
      "application/vnd.jupyter.widget-view+json": {
       "model_id": "395ec915a0f647bba332fc284969144a",
       "version_major": 2,
       "version_minor": 0
      },
      "text/plain": [
       "  0%|          | 0/7 [00:00<?, ?it/s]"
      ]
     },
     "metadata": {},
     "output_type": "display_data"
    },
    {
     "name": "stdout",
     "output_type": "stream",
     "text": [
      "Epoch 1/7 | Train Loss: 1.4415 | Train Acc: 0.6028 | Train F1: 0.5842 | Test Loss: 0.9034 | Test Acc: 0.8261 | Test F1: 0.8174\n",
      "Epoch 2/7 | Train Loss: 0.6975 | Train Acc: 0.8347 | Train F1: 0.8334 | Test Loss: 0.5863 | Test Acc: 0.8804 | Test F1: 0.8898\n",
      "Epoch 3/7 | Train Loss: 0.5051 | Train Acc: 0.8944 | Train F1: 0.8951 | Test Loss: 0.4746 | Test Acc: 0.9022 | Test F1: 0.8995\n",
      "Epoch 4/7 | Train Loss: 0.4342 | Train Acc: 0.9083 | Train F1: 0.9085 | Test Loss: 0.4295 | Test Acc: 0.9185 | Test F1: 0.9189\n",
      "Epoch 5/7 | Train Loss: 0.3995 | Train Acc: 0.9181 | Train F1: 0.9185 | Test Loss: 0.4172 | Test Acc: 0.9130 | Test F1: 0.9178\n",
      "Epoch 6/7 | Train Loss: 0.3877 | Train Acc: 0.9250 | Train F1: 0.9255 | Test Loss: 0.4138 | Test Acc: 0.9185 | Test F1: 0.9178\n",
      "Epoch 7/7 | Train Loss: 0.3877 | Train Acc: 0.9250 | Train F1: 0.9255 | Test Loss: 0.4142 | Test Acc: 0.9185 | Test F1: 0.9178\n",
      "Train time on cuda: 331.66616760000034\n",
      "Inference Loss: 0.3877, Accuracy: 92.50%\n"
     ]
    },
    {
     "data": {
      "application/vnd.jupyter.widget-view+json": {
       "model_id": "2379d74b1c934c1284e93df7bddfb2ea",
       "version_major": 2,
       "version_minor": 0
      },
      "text/plain": [
       "VBox(children=(Label(value='0.008 MB of 0.008 MB uploaded\\r'), FloatProgress(value=1.0, max=1.0)))"
      ]
     },
     "metadata": {},
     "output_type": "display_data"
    },
    {
     "data": {
      "text/html": [
       "<style>\n",
       "    table.wandb td:nth-child(1) { padding: 0 10px; text-align: left ; width: auto;} td:nth-child(2) {text-align: left ; width: 100%}\n",
       "    .wandb-row { display: flex; flex-direction: row; flex-wrap: wrap; justify-content: flex-start; width: 100% }\n",
       "    .wandb-col { display: flex; flex-direction: column; flex-basis: 100%; flex: 1; padding: 10px; }\n",
       "    </style>\n",
       "<div class=\"wandb-row\"><div class=\"wandb-col\"><h3>Run history:</h3><br/><table class=\"wandb\"><tr><td>epoch</td><td>▁▂▃▅▆▇█</td></tr><tr><td>inference_accuracy</td><td>▁</td></tr><tr><td>inference_loss</td><td>▁</td></tr><tr><td>test_acc</td><td>▁▅▇████</td></tr><tr><td>test_f1</td><td>▁▆▇████</td></tr><tr><td>test_loss</td><td>█▃▂▁▁▁▁</td></tr><tr><td>test_precision</td><td>▁▅▆████</td></tr><tr><td>test_recall</td><td>▁▆▇████</td></tr><tr><td>train_acc</td><td>▁▆▇████</td></tr><tr><td>train_f1</td><td>▁▆▇████</td></tr><tr><td>train_loss</td><td>█▃▂▁▁▁▁</td></tr><tr><td>train_precision</td><td>▁▆▇████</td></tr><tr><td>train_recall</td><td>▁▆▇████</td></tr></table><br/></div><div class=\"wandb-col\"><h3>Run summary:</h3><br/><table class=\"wandb\"><tr><td>epoch</td><td>7</td></tr><tr><td>inference_accuracy</td><td>0.925</td></tr><tr><td>inference_loss</td><td>0.38774</td></tr><tr><td>test_acc</td><td>0.91848</td></tr><tr><td>test_f1</td><td>0.91779</td></tr><tr><td>test_loss</td><td>0.41416</td></tr><tr><td>test_precision</td><td>0.92811</td></tr><tr><td>test_recall</td><td>0.91667</td></tr><tr><td>train_acc</td><td>0.925</td></tr><tr><td>train_f1</td><td>0.92545</td></tr><tr><td>train_loss</td><td>0.38771</td></tr><tr><td>train_precision</td><td>0.92673</td></tr><tr><td>train_recall</td><td>0.925</td></tr><tr><td>train_time</td><td>00:05:31</td></tr></table><br/></div></div>"
      ],
      "text/plain": [
       "<IPython.core.display.HTML object>"
      ]
     },
     "metadata": {},
     "output_type": "display_data"
    },
    {
     "data": {
      "text/html": [
       " View run <strong style=\"color:#cdcd00\">comfy-sweep-22</strong> at: <a href='https://wandb.ai/andberg9-self/AST_Sweeps/runs/3a8xakjo' target=\"_blank\">https://wandb.ai/andberg9-self/AST_Sweeps/runs/3a8xakjo</a><br/> View project at: <a href='https://wandb.ai/andberg9-self/AST_Sweeps' target=\"_blank\">https://wandb.ai/andberg9-self/AST_Sweeps</a><br/>Synced 5 W&B file(s), 0 media file(s), 0 artifact file(s) and 0 other file(s)"
      ],
      "text/plain": [
       "<IPython.core.display.HTML object>"
      ]
     },
     "metadata": {},
     "output_type": "display_data"
    },
    {
     "data": {
      "text/html": [
       "Find logs at: <code>.\\wandb\\run-20240925_125422-3a8xakjo\\logs</code>"
      ],
      "text/plain": [
       "<IPython.core.display.HTML object>"
      ]
     },
     "metadata": {},
     "output_type": "display_data"
    },
    {
     "name": "stderr",
     "output_type": "stream",
     "text": [
      "wandb: Agent Starting Run: i0k2vwbu with config:\n",
      "wandb: \tbatch_size: 8\n",
      "wandb: \tepochs: 7\n",
      "wandb: \tlearning_rate: 0.0001912647047760462\n",
      "wandb: \toptimizer: adamW\n",
      "wandb: \tscheduler: PolynomialLR\n"
     ]
    },
    {
     "data": {
      "text/html": [
       "Tracking run with wandb version 0.18.1"
      ],
      "text/plain": [
       "<IPython.core.display.HTML object>"
      ]
     },
     "metadata": {},
     "output_type": "display_data"
    },
    {
     "data": {
      "text/html": [
       "Run data is saved locally in <code>c:\\Users\\Sidewinders\\Research_notebooks\\Drone_classification\\Research\\notebooks\\wandb\\run-20240925_130018-i0k2vwbu</code>"
      ],
      "text/plain": [
       "<IPython.core.display.HTML object>"
      ]
     },
     "metadata": {},
     "output_type": "display_data"
    },
    {
     "data": {
      "text/html": [
       "Syncing run <strong><a href='https://wandb.ai/andberg9-self/AST_Sweeps/runs/i0k2vwbu' target=\"_blank\">vital-sweep-23</a></strong> to <a href='https://wandb.ai/andberg9-self/AST_Sweeps' target=\"_blank\">Weights & Biases</a> (<a href='https://wandb.me/run' target=\"_blank\">docs</a>)<br/>Sweep page: <a href='https://wandb.ai/andberg9-self/AST_Sweeps/sweeps/ange3go8' target=\"_blank\">https://wandb.ai/andberg9-self/AST_Sweeps/sweeps/ange3go8</a>"
      ],
      "text/plain": [
       "<IPython.core.display.HTML object>"
      ]
     },
     "metadata": {},
     "output_type": "display_data"
    },
    {
     "data": {
      "text/html": [
       " View project at <a href='https://wandb.ai/andberg9-self/AST_Sweeps' target=\"_blank\">https://wandb.ai/andberg9-self/AST_Sweeps</a>"
      ],
      "text/plain": [
       "<IPython.core.display.HTML object>"
      ]
     },
     "metadata": {},
     "output_type": "display_data"
    },
    {
     "data": {
      "text/html": [
       " View sweep at <a href='https://wandb.ai/andberg9-self/AST_Sweeps/sweeps/ange3go8' target=\"_blank\">https://wandb.ai/andberg9-self/AST_Sweeps/sweeps/ange3go8</a>"
      ],
      "text/plain": [
       "<IPython.core.display.HTML object>"
      ]
     },
     "metadata": {},
     "output_type": "display_data"
    },
    {
     "data": {
      "text/html": [
       " View run at <a href='https://wandb.ai/andberg9-self/AST_Sweeps/runs/i0k2vwbu' target=\"_blank\">https://wandb.ai/andberg9-self/AST_Sweeps/runs/i0k2vwbu</a>"
      ],
      "text/plain": [
       "<IPython.core.display.HTML object>"
      ]
     },
     "metadata": {},
     "output_type": "display_data"
    },
    {
     "name": "stdout",
     "output_type": "stream",
     "text": [
      "ASTForAudioClassification(\n",
      "  (audio_spectrogram_transformer): ASTModel(\n",
      "    (embeddings): ASTEmbeddings(\n",
      "      (patch_embeddings): ASTPatchEmbeddings(\n",
      "        (projection): Conv2d(1, 768, kernel_size=(16, 16), stride=(10, 10))\n",
      "      )\n",
      "      (dropout): Dropout(p=0.0, inplace=False)\n",
      "    )\n",
      "    (encoder): ASTEncoder(\n",
      "      (layer): ModuleList(\n",
      "        (0-11): 12 x ASTLayer(\n",
      "          (attention): ASTSdpaAttention(\n",
      "            (attention): ASTSdpaSelfAttention(\n",
      "              (query): Linear(in_features=768, out_features=768, bias=True)\n",
      "              (key): Linear(in_features=768, out_features=768, bias=True)\n",
      "              (value): Linear(in_features=768, out_features=768, bias=True)\n",
      "              (dropout): Dropout(p=0.0, inplace=False)\n",
      "            )\n",
      "            (output): ASTSelfOutput(\n",
      "              (dense): Linear(in_features=768, out_features=768, bias=True)\n",
      "              (dropout): Dropout(p=0.0, inplace=False)\n",
      "            )\n",
      "          )\n",
      "          (intermediate): ASTIntermediate(\n",
      "            (dense): Linear(in_features=768, out_features=3072, bias=True)\n",
      "            (intermediate_act_fn): GELUActivation()\n",
      "          )\n",
      "          (output): ASTOutput(\n",
      "            (dense): Linear(in_features=3072, out_features=768, bias=True)\n",
      "            (dropout): Dropout(p=0.0, inplace=False)\n",
      "          )\n",
      "          (layernorm_before): LayerNorm((768,), eps=1e-12, elementwise_affine=True)\n",
      "          (layernorm_after): LayerNorm((768,), eps=1e-12, elementwise_affine=True)\n",
      "        )\n",
      "      )\n",
      "    )\n",
      "    (layernorm): LayerNorm((768,), eps=1e-12, elementwise_affine=True)\n",
      "  )\n",
      "  (classifier): ASTMLPHead(\n",
      "    (layernorm): LayerNorm((768,), eps=1e-12, elementwise_affine=True)\n",
      "    (dense): Linear(in_features=768, out_features=9, bias=True)\n",
      "  )\n",
      ")\n"
     ]
    },
    {
     "data": {
      "application/vnd.jupyter.widget-view+json": {
       "model_id": "a01ba6cefaf74ee18ba54bf9724f38fd",
       "version_major": 2,
       "version_minor": 0
      },
      "text/plain": [
       "  0%|          | 0/7 [00:00<?, ?it/s]"
      ]
     },
     "metadata": {},
     "output_type": "display_data"
    },
    {
     "name": "stdout",
     "output_type": "stream",
     "text": [
      "Epoch 1/7 | Train Loss: 2.1274 | Train Acc: 0.2278 | Train F1: 0.2267 | Test Loss: 1.8281 | Test Acc: 0.4837 | Test F1: 0.4652\n",
      "Epoch 2/7 | Train Loss: 1.5574 | Train Acc: 0.6486 | Train F1: 0.6389 | Test Loss: 1.3944 | Test Acc: 0.7554 | Test F1: 0.7387\n",
      "Epoch 3/7 | Train Loss: 1.2428 | Train Acc: 0.7833 | Train F1: 0.7783 | Test Loss: 1.1782 | Test Acc: 0.8043 | Test F1: 0.8059\n",
      "Epoch 4/7 | Train Loss: 1.0806 | Train Acc: 0.8264 | Train F1: 0.8252 | Test Loss: 1.0605 | Test Acc: 0.8315 | Test F1: 0.8331\n",
      "Epoch 5/7 | Train Loss: 1.0004 | Train Acc: 0.8347 | Train F1: 0.8348 | Test Loss: 1.0115 | Test Acc: 0.8533 | Test F1: 0.8510\n",
      "Epoch 6/7 | Train Loss: 0.9749 | Train Acc: 0.8389 | Train F1: 0.8388 | Test Loss: 1.0117 | Test Acc: 0.8533 | Test F1: 0.8510\n",
      "Epoch 7/7 | Train Loss: 0.9749 | Train Acc: 0.8389 | Train F1: 0.8388 | Test Loss: 1.0100 | Test Acc: 0.8533 | Test F1: 0.8510\n",
      "Train time on cuda: 331.59511589999966\n",
      "Inference Loss: 0.9749, Accuracy: 83.75%\n"
     ]
    },
    {
     "data": {
      "application/vnd.jupyter.widget-view+json": {
       "model_id": "d51f6b701e0844d790756037eff45629",
       "version_major": 2,
       "version_minor": 0
      },
      "text/plain": [
       "VBox(children=(Label(value='0.008 MB of 0.008 MB uploaded\\r'), FloatProgress(value=1.0, max=1.0)))"
      ]
     },
     "metadata": {},
     "output_type": "display_data"
    },
    {
     "data": {
      "text/html": [
       "<style>\n",
       "    table.wandb td:nth-child(1) { padding: 0 10px; text-align: left ; width: auto;} td:nth-child(2) {text-align: left ; width: 100%}\n",
       "    .wandb-row { display: flex; flex-direction: row; flex-wrap: wrap; justify-content: flex-start; width: 100% }\n",
       "    .wandb-col { display: flex; flex-direction: column; flex-basis: 100%; flex: 1; padding: 10px; }\n",
       "    </style>\n",
       "<div class=\"wandb-row\"><div class=\"wandb-col\"><h3>Run history:</h3><br/><table class=\"wandb\"><tr><td>epoch</td><td>▁▂▃▅▆▇█</td></tr><tr><td>inference_accuracy</td><td>▁</td></tr><tr><td>inference_loss</td><td>▁</td></tr><tr><td>test_acc</td><td>▁▆▇████</td></tr><tr><td>test_f1</td><td>▁▆▇████</td></tr><tr><td>test_loss</td><td>█▄▂▁▁▁▁</td></tr><tr><td>test_precision</td><td>▁▆▇████</td></tr><tr><td>test_recall</td><td>▁▆▇████</td></tr><tr><td>train_acc</td><td>▁▆▇████</td></tr><tr><td>train_f1</td><td>▁▆▇████</td></tr><tr><td>train_loss</td><td>█▅▃▂▁▁▁</td></tr><tr><td>train_precision</td><td>▁▆▇████</td></tr><tr><td>train_recall</td><td>▁▆▇████</td></tr></table><br/></div><div class=\"wandb-col\"><h3>Run summary:</h3><br/><table class=\"wandb\"><tr><td>epoch</td><td>7</td></tr><tr><td>inference_accuracy</td><td>0.8375</td></tr><tr><td>inference_loss</td><td>0.97494</td></tr><tr><td>test_acc</td><td>0.85326</td></tr><tr><td>test_f1</td><td>0.85105</td></tr><tr><td>test_loss</td><td>1.01</td></tr><tr><td>test_precision</td><td>0.86818</td></tr><tr><td>test_recall</td><td>0.85</td></tr><tr><td>train_acc</td><td>0.83889</td></tr><tr><td>train_f1</td><td>0.83876</td></tr><tr><td>train_loss</td><td>0.97487</td></tr><tr><td>train_precision</td><td>0.84614</td></tr><tr><td>train_recall</td><td>0.83889</td></tr><tr><td>train_time</td><td>00:05:31</td></tr></table><br/></div></div>"
      ],
      "text/plain": [
       "<IPython.core.display.HTML object>"
      ]
     },
     "metadata": {},
     "output_type": "display_data"
    },
    {
     "data": {
      "text/html": [
       " View run <strong style=\"color:#cdcd00\">vital-sweep-23</strong> at: <a href='https://wandb.ai/andberg9-self/AST_Sweeps/runs/i0k2vwbu' target=\"_blank\">https://wandb.ai/andberg9-self/AST_Sweeps/runs/i0k2vwbu</a><br/> View project at: <a href='https://wandb.ai/andberg9-self/AST_Sweeps' target=\"_blank\">https://wandb.ai/andberg9-self/AST_Sweeps</a><br/>Synced 5 W&B file(s), 0 media file(s), 0 artifact file(s) and 0 other file(s)"
      ],
      "text/plain": [
       "<IPython.core.display.HTML object>"
      ]
     },
     "metadata": {},
     "output_type": "display_data"
    },
    {
     "data": {
      "text/html": [
       "Find logs at: <code>.\\wandb\\run-20240925_130018-i0k2vwbu\\logs</code>"
      ],
      "text/plain": [
       "<IPython.core.display.HTML object>"
      ]
     },
     "metadata": {},
     "output_type": "display_data"
    },
    {
     "name": "stderr",
     "output_type": "stream",
     "text": [
      "wandb: Agent Starting Run: m0rfsqg9 with config:\n",
      "wandb: \tbatch_size: 8\n",
      "wandb: \tepochs: 7\n",
      "wandb: \tlearning_rate: 0.0008930973904464679\n",
      "wandb: \toptimizer: adamW\n",
      "wandb: \tscheduler: PolynomialLR\n"
     ]
    },
    {
     "data": {
      "text/html": [
       "Tracking run with wandb version 0.18.1"
      ],
      "text/plain": [
       "<IPython.core.display.HTML object>"
      ]
     },
     "metadata": {},
     "output_type": "display_data"
    },
    {
     "data": {
      "text/html": [
       "Run data is saved locally in <code>c:\\Users\\Sidewinders\\Research_notebooks\\Drone_classification\\Research\\notebooks\\wandb\\run-20240925_130614-m0rfsqg9</code>"
      ],
      "text/plain": [
       "<IPython.core.display.HTML object>"
      ]
     },
     "metadata": {},
     "output_type": "display_data"
    },
    {
     "data": {
      "text/html": [
       "Syncing run <strong><a href='https://wandb.ai/andberg9-self/AST_Sweeps/runs/m0rfsqg9' target=\"_blank\">curious-sweep-24</a></strong> to <a href='https://wandb.ai/andberg9-self/AST_Sweeps' target=\"_blank\">Weights & Biases</a> (<a href='https://wandb.me/run' target=\"_blank\">docs</a>)<br/>Sweep page: <a href='https://wandb.ai/andberg9-self/AST_Sweeps/sweeps/ange3go8' target=\"_blank\">https://wandb.ai/andberg9-self/AST_Sweeps/sweeps/ange3go8</a>"
      ],
      "text/plain": [
       "<IPython.core.display.HTML object>"
      ]
     },
     "metadata": {},
     "output_type": "display_data"
    },
    {
     "data": {
      "text/html": [
       " View project at <a href='https://wandb.ai/andberg9-self/AST_Sweeps' target=\"_blank\">https://wandb.ai/andberg9-self/AST_Sweeps</a>"
      ],
      "text/plain": [
       "<IPython.core.display.HTML object>"
      ]
     },
     "metadata": {},
     "output_type": "display_data"
    },
    {
     "data": {
      "text/html": [
       " View sweep at <a href='https://wandb.ai/andberg9-self/AST_Sweeps/sweeps/ange3go8' target=\"_blank\">https://wandb.ai/andberg9-self/AST_Sweeps/sweeps/ange3go8</a>"
      ],
      "text/plain": [
       "<IPython.core.display.HTML object>"
      ]
     },
     "metadata": {},
     "output_type": "display_data"
    },
    {
     "data": {
      "text/html": [
       " View run at <a href='https://wandb.ai/andberg9-self/AST_Sweeps/runs/m0rfsqg9' target=\"_blank\">https://wandb.ai/andberg9-self/AST_Sweeps/runs/m0rfsqg9</a>"
      ],
      "text/plain": [
       "<IPython.core.display.HTML object>"
      ]
     },
     "metadata": {},
     "output_type": "display_data"
    },
    {
     "name": "stdout",
     "output_type": "stream",
     "text": [
      "ASTForAudioClassification(\n",
      "  (audio_spectrogram_transformer): ASTModel(\n",
      "    (embeddings): ASTEmbeddings(\n",
      "      (patch_embeddings): ASTPatchEmbeddings(\n",
      "        (projection): Conv2d(1, 768, kernel_size=(16, 16), stride=(10, 10))\n",
      "      )\n",
      "      (dropout): Dropout(p=0.0, inplace=False)\n",
      "    )\n",
      "    (encoder): ASTEncoder(\n",
      "      (layer): ModuleList(\n",
      "        (0-11): 12 x ASTLayer(\n",
      "          (attention): ASTSdpaAttention(\n",
      "            (attention): ASTSdpaSelfAttention(\n",
      "              (query): Linear(in_features=768, out_features=768, bias=True)\n",
      "              (key): Linear(in_features=768, out_features=768, bias=True)\n",
      "              (value): Linear(in_features=768, out_features=768, bias=True)\n",
      "              (dropout): Dropout(p=0.0, inplace=False)\n",
      "            )\n",
      "            (output): ASTSelfOutput(\n",
      "              (dense): Linear(in_features=768, out_features=768, bias=True)\n",
      "              (dropout): Dropout(p=0.0, inplace=False)\n",
      "            )\n",
      "          )\n",
      "          (intermediate): ASTIntermediate(\n",
      "            (dense): Linear(in_features=768, out_features=3072, bias=True)\n",
      "            (intermediate_act_fn): GELUActivation()\n",
      "          )\n",
      "          (output): ASTOutput(\n",
      "            (dense): Linear(in_features=3072, out_features=768, bias=True)\n",
      "            (dropout): Dropout(p=0.0, inplace=False)\n",
      "          )\n",
      "          (layernorm_before): LayerNorm((768,), eps=1e-12, elementwise_affine=True)\n",
      "          (layernorm_after): LayerNorm((768,), eps=1e-12, elementwise_affine=True)\n",
      "        )\n",
      "      )\n",
      "    )\n",
      "    (layernorm): LayerNorm((768,), eps=1e-12, elementwise_affine=True)\n",
      "  )\n",
      "  (classifier): ASTMLPHead(\n",
      "    (layernorm): LayerNorm((768,), eps=1e-12, elementwise_affine=True)\n",
      "    (dense): Linear(in_features=768, out_features=9, bias=True)\n",
      "  )\n",
      ")\n"
     ]
    },
    {
     "data": {
      "application/vnd.jupyter.widget-view+json": {
       "model_id": "9f2ed8ef8fd94f11bd5ab6d79698258b",
       "version_major": 2,
       "version_minor": 0
      },
      "text/plain": [
       "  0%|          | 0/7 [00:00<?, ?it/s]"
      ]
     },
     "metadata": {},
     "output_type": "display_data"
    },
    {
     "name": "stdout",
     "output_type": "stream",
     "text": [
      "Epoch 1/7 | Train Loss: 1.3216 | Train Acc: 0.6042 | Train F1: 0.5966 | Test Loss: 0.6968 | Test Acc: 0.8533 | Test F1: 0.8361\n",
      "Epoch 2/7 | Train Loss: 0.5199 | Train Acc: 0.8764 | Train F1: 0.8760 | Test Loss: 0.4115 | Test Acc: 0.9185 | Test F1: 0.9163\n",
      "Epoch 3/7 | Train Loss: 0.3792 | Train Acc: 0.9083 | Train F1: 0.9088 | Test Loss: 0.3418 | Test Acc: 0.9239 | Test F1: 0.9246\n",
      "Epoch 4/7 | Train Loss: 0.3269 | Train Acc: 0.9292 | Train F1: 0.9297 | Test Loss: 0.3118 | Test Acc: 0.9511 | Test F1: 0.9506\n",
      "Epoch 5/7 | Train Loss: 0.2977 | Train Acc: 0.9389 | Train F1: 0.9391 | Test Loss: 0.2904 | Test Acc: 0.9674 | Test F1: 0.9675\n",
      "Epoch 6/7 | Train Loss: 0.2844 | Train Acc: 0.9458 | Train F1: 0.9461 | Test Loss: 0.2918 | Test Acc: 0.9674 | Test F1: 0.9675\n",
      "Epoch 7/7 | Train Loss: 0.2844 | Train Acc: 0.9458 | Train F1: 0.9461 | Test Loss: 0.2963 | Test Acc: 0.9674 | Test F1: 0.9675\n",
      "Train time on cuda: 331.78493960000014\n",
      "Inference Loss: 0.2844, Accuracy: 94.58%\n"
     ]
    },
    {
     "data": {
      "application/vnd.jupyter.widget-view+json": {
       "model_id": "d221639113a146059ecbd19be5eeb8d2",
       "version_major": 2,
       "version_minor": 0
      },
      "text/plain": [
       "VBox(children=(Label(value='0.008 MB of 0.008 MB uploaded\\r'), FloatProgress(value=1.0, max=1.0)))"
      ]
     },
     "metadata": {},
     "output_type": "display_data"
    },
    {
     "data": {
      "text/html": [
       "<style>\n",
       "    table.wandb td:nth-child(1) { padding: 0 10px; text-align: left ; width: auto;} td:nth-child(2) {text-align: left ; width: 100%}\n",
       "    .wandb-row { display: flex; flex-direction: row; flex-wrap: wrap; justify-content: flex-start; width: 100% }\n",
       "    .wandb-col { display: flex; flex-direction: column; flex-basis: 100%; flex: 1; padding: 10px; }\n",
       "    </style>\n",
       "<div class=\"wandb-row\"><div class=\"wandb-col\"><h3>Run history:</h3><br/><table class=\"wandb\"><tr><td>epoch</td><td>▁▂▃▅▆▇█</td></tr><tr><td>inference_accuracy</td><td>▁</td></tr><tr><td>inference_loss</td><td>▁</td></tr><tr><td>test_acc</td><td>▁▅▅▇███</td></tr><tr><td>test_f1</td><td>▁▅▆▇███</td></tr><tr><td>test_loss</td><td>█▃▂▁▁▁▁</td></tr><tr><td>test_precision</td><td>▁▅▄▇███</td></tr><tr><td>test_recall</td><td>▁▅▅▇███</td></tr><tr><td>train_acc</td><td>▁▇▇████</td></tr><tr><td>train_f1</td><td>▁▇▇████</td></tr><tr><td>train_loss</td><td>█▃▂▁▁▁▁</td></tr><tr><td>train_precision</td><td>▁▇▇████</td></tr><tr><td>train_recall</td><td>▁▇▇████</td></tr></table><br/></div><div class=\"wandb-col\"><h3>Run summary:</h3><br/><table class=\"wandb\"><tr><td>epoch</td><td>7</td></tr><tr><td>inference_accuracy</td><td>0.94583</td></tr><tr><td>inference_loss</td><td>0.28441</td></tr><tr><td>test_acc</td><td>0.96739</td></tr><tr><td>test_f1</td><td>0.9675</td></tr><tr><td>test_loss</td><td>0.29627</td></tr><tr><td>test_precision</td><td>0.97352</td></tr><tr><td>test_recall</td><td>0.96667</td></tr><tr><td>train_acc</td><td>0.94583</td></tr><tr><td>train_f1</td><td>0.94615</td></tr><tr><td>train_loss</td><td>0.28436</td></tr><tr><td>train_precision</td><td>0.94708</td></tr><tr><td>train_recall</td><td>0.94583</td></tr><tr><td>train_time</td><td>00:05:31</td></tr></table><br/></div></div>"
      ],
      "text/plain": [
       "<IPython.core.display.HTML object>"
      ]
     },
     "metadata": {},
     "output_type": "display_data"
    },
    {
     "data": {
      "text/html": [
       " View run <strong style=\"color:#cdcd00\">curious-sweep-24</strong> at: <a href='https://wandb.ai/andberg9-self/AST_Sweeps/runs/m0rfsqg9' target=\"_blank\">https://wandb.ai/andberg9-self/AST_Sweeps/runs/m0rfsqg9</a><br/> View project at: <a href='https://wandb.ai/andberg9-self/AST_Sweeps' target=\"_blank\">https://wandb.ai/andberg9-self/AST_Sweeps</a><br/>Synced 5 W&B file(s), 0 media file(s), 0 artifact file(s) and 0 other file(s)"
      ],
      "text/plain": [
       "<IPython.core.display.HTML object>"
      ]
     },
     "metadata": {},
     "output_type": "display_data"
    },
    {
     "data": {
      "text/html": [
       "Find logs at: <code>.\\wandb\\run-20240925_130614-m0rfsqg9\\logs</code>"
      ],
      "text/plain": [
       "<IPython.core.display.HTML object>"
      ]
     },
     "metadata": {},
     "output_type": "display_data"
    },
    {
     "name": "stderr",
     "output_type": "stream",
     "text": [
      "wandb: Sweep Agent: Waiting for job.\n",
      "wandb: Job received.\n",
      "wandb: Agent Starting Run: 3bqtjjul with config:\n",
      "wandb: \tbatch_size: 16\n",
      "wandb: \tepochs: 7\n",
      "wandb: \tlearning_rate: 0.0004132240774410699\n",
      "wandb: \toptimizer: adamW\n",
      "wandb: \tscheduler: PolynomialLR\n"
     ]
    },
    {
     "data": {
      "text/html": [
       "Tracking run with wandb version 0.18.1"
      ],
      "text/plain": [
       "<IPython.core.display.HTML object>"
      ]
     },
     "metadata": {},
     "output_type": "display_data"
    },
    {
     "data": {
      "text/html": [
       "Run data is saved locally in <code>c:\\Users\\Sidewinders\\Research_notebooks\\Drone_classification\\Research\\notebooks\\wandb\\run-20240925_131217-3bqtjjul</code>"
      ],
      "text/plain": [
       "<IPython.core.display.HTML object>"
      ]
     },
     "metadata": {},
     "output_type": "display_data"
    },
    {
     "data": {
      "text/html": [
       "Syncing run <strong><a href='https://wandb.ai/andberg9-self/AST_Sweeps/runs/3bqtjjul' target=\"_blank\">morning-sweep-25</a></strong> to <a href='https://wandb.ai/andberg9-self/AST_Sweeps' target=\"_blank\">Weights & Biases</a> (<a href='https://wandb.me/run' target=\"_blank\">docs</a>)<br/>Sweep page: <a href='https://wandb.ai/andberg9-self/AST_Sweeps/sweeps/ange3go8' target=\"_blank\">https://wandb.ai/andberg9-self/AST_Sweeps/sweeps/ange3go8</a>"
      ],
      "text/plain": [
       "<IPython.core.display.HTML object>"
      ]
     },
     "metadata": {},
     "output_type": "display_data"
    },
    {
     "data": {
      "text/html": [
       " View project at <a href='https://wandb.ai/andberg9-self/AST_Sweeps' target=\"_blank\">https://wandb.ai/andberg9-self/AST_Sweeps</a>"
      ],
      "text/plain": [
       "<IPython.core.display.HTML object>"
      ]
     },
     "metadata": {},
     "output_type": "display_data"
    },
    {
     "data": {
      "text/html": [
       " View sweep at <a href='https://wandb.ai/andberg9-self/AST_Sweeps/sweeps/ange3go8' target=\"_blank\">https://wandb.ai/andberg9-self/AST_Sweeps/sweeps/ange3go8</a>"
      ],
      "text/plain": [
       "<IPython.core.display.HTML object>"
      ]
     },
     "metadata": {},
     "output_type": "display_data"
    },
    {
     "data": {
      "text/html": [
       " View run at <a href='https://wandb.ai/andberg9-self/AST_Sweeps/runs/3bqtjjul' target=\"_blank\">https://wandb.ai/andberg9-self/AST_Sweeps/runs/3bqtjjul</a>"
      ],
      "text/plain": [
       "<IPython.core.display.HTML object>"
      ]
     },
     "metadata": {},
     "output_type": "display_data"
    },
    {
     "name": "stdout",
     "output_type": "stream",
     "text": [
      "ASTForAudioClassification(\n",
      "  (audio_spectrogram_transformer): ASTModel(\n",
      "    (embeddings): ASTEmbeddings(\n",
      "      (patch_embeddings): ASTPatchEmbeddings(\n",
      "        (projection): Conv2d(1, 768, kernel_size=(16, 16), stride=(10, 10))\n",
      "      )\n",
      "      (dropout): Dropout(p=0.0, inplace=False)\n",
      "    )\n",
      "    (encoder): ASTEncoder(\n",
      "      (layer): ModuleList(\n",
      "        (0-11): 12 x ASTLayer(\n",
      "          (attention): ASTSdpaAttention(\n",
      "            (attention): ASTSdpaSelfAttention(\n",
      "              (query): Linear(in_features=768, out_features=768, bias=True)\n",
      "              (key): Linear(in_features=768, out_features=768, bias=True)\n",
      "              (value): Linear(in_features=768, out_features=768, bias=True)\n",
      "              (dropout): Dropout(p=0.0, inplace=False)\n",
      "            )\n",
      "            (output): ASTSelfOutput(\n",
      "              (dense): Linear(in_features=768, out_features=768, bias=True)\n",
      "              (dropout): Dropout(p=0.0, inplace=False)\n",
      "            )\n",
      "          )\n",
      "          (intermediate): ASTIntermediate(\n",
      "            (dense): Linear(in_features=768, out_features=3072, bias=True)\n",
      "            (intermediate_act_fn): GELUActivation()\n",
      "          )\n",
      "          (output): ASTOutput(\n",
      "            (dense): Linear(in_features=3072, out_features=768, bias=True)\n",
      "            (dropout): Dropout(p=0.0, inplace=False)\n",
      "          )\n",
      "          (layernorm_before): LayerNorm((768,), eps=1e-12, elementwise_affine=True)\n",
      "          (layernorm_after): LayerNorm((768,), eps=1e-12, elementwise_affine=True)\n",
      "        )\n",
      "      )\n",
      "    )\n",
      "    (layernorm): LayerNorm((768,), eps=1e-12, elementwise_affine=True)\n",
      "  )\n",
      "  (classifier): ASTMLPHead(\n",
      "    (layernorm): LayerNorm((768,), eps=1e-12, elementwise_affine=True)\n",
      "    (dense): Linear(in_features=768, out_features=9, bias=True)\n",
      "  )\n",
      ")\n"
     ]
    },
    {
     "data": {
      "application/vnd.jupyter.widget-view+json": {
       "model_id": "3f19a140797b479091654010c7538530",
       "version_major": 2,
       "version_minor": 0
      },
      "text/plain": [
       "  0%|          | 0/7 [00:00<?, ?it/s]"
      ]
     },
     "metadata": {},
     "output_type": "display_data"
    },
    {
     "name": "stdout",
     "output_type": "stream",
     "text": [
      "Epoch 1/7 | Train Loss: 1.8655 | Train Acc: 0.3875 | Train F1: 0.4041 | Test Loss: 1.4541 | Test Acc: 0.6667 | Test F1: 0.6215\n",
      "Epoch 2/7 | Train Loss: 1.2947 | Train Acc: 0.7139 | Train F1: 0.6672 | Test Loss: 1.1313 | Test Acc: 0.7552 | Test F1: 0.7363\n",
      "Epoch 3/7 | Train Loss: 0.9983 | Train Acc: 0.7958 | Train F1: 0.7781 | Test Loss: 0.9328 | Test Acc: 0.8385 | Test F1: 0.8161\n",
      "Epoch 4/7 | Train Loss: 0.8604 | Train Acc: 0.8347 | Train F1: 0.8261 | Test Loss: 0.8488 | Test Acc: 0.8438 | Test F1: 0.8411\n",
      "Epoch 5/7 | Train Loss: 0.7941 | Train Acc: 0.8417 | Train F1: 0.8360 | Test Loss: 0.7987 | Test Acc: 0.8646 | Test F1: 0.8486\n",
      "Epoch 6/7 | Train Loss: 0.7729 | Train Acc: 0.8500 | Train F1: 0.8454 | Test Loss: 0.7698 | Test Acc: 0.8646 | Test F1: 0.8486\n",
      "Epoch 7/7 | Train Loss: 0.7729 | Train Acc: 0.8500 | Train F1: 0.8454 | Test Loss: 0.7885 | Test Acc: 0.8646 | Test F1: 0.8486\n",
      "Train time on cuda: 332.86271189999934\n",
      "Inference Loss: 0.7729, Accuracy: 85.00%\n"
     ]
    },
    {
     "data": {
      "application/vnd.jupyter.widget-view+json": {
       "model_id": "f7c7da1e5dad474b89b007c973f9a0d4",
       "version_major": 2,
       "version_minor": 0
      },
      "text/plain": [
       "VBox(children=(Label(value='0.008 MB of 0.008 MB uploaded\\r'), FloatProgress(value=1.0, max=1.0)))"
      ]
     },
     "metadata": {},
     "output_type": "display_data"
    },
    {
     "data": {
      "text/html": [
       "<style>\n",
       "    table.wandb td:nth-child(1) { padding: 0 10px; text-align: left ; width: auto;} td:nth-child(2) {text-align: left ; width: 100%}\n",
       "    .wandb-row { display: flex; flex-direction: row; flex-wrap: wrap; justify-content: flex-start; width: 100% }\n",
       "    .wandb-col { display: flex; flex-direction: column; flex-basis: 100%; flex: 1; padding: 10px; }\n",
       "    </style>\n",
       "<div class=\"wandb-row\"><div class=\"wandb-col\"><h3>Run history:</h3><br/><table class=\"wandb\"><tr><td>epoch</td><td>▁▂▃▅▆▇█</td></tr><tr><td>inference_accuracy</td><td>▁</td></tr><tr><td>inference_loss</td><td>▁</td></tr><tr><td>test_acc</td><td>▁▄▇▇███</td></tr><tr><td>test_f1</td><td>▁▅▇████</td></tr><tr><td>test_loss</td><td>█▅▃▂▁▁▁</td></tr><tr><td>test_precision</td><td>▁▅▇████</td></tr><tr><td>test_recall</td><td>▁▄▇████</td></tr><tr><td>train_acc</td><td>▁▆▇████</td></tr><tr><td>train_f1</td><td>▁▅▇████</td></tr><tr><td>train_loss</td><td>█▄▂▂▁▁▁</td></tr><tr><td>train_precision</td><td>▁▅▇████</td></tr><tr><td>train_recall</td><td>▁▆▇████</td></tr></table><br/></div><div class=\"wandb-col\"><h3>Run summary:</h3><br/><table class=\"wandb\"><tr><td>epoch</td><td>7</td></tr><tr><td>inference_accuracy</td><td>0.85</td></tr><tr><td>inference_loss</td><td>0.7729</td></tr><tr><td>test_acc</td><td>0.86458</td></tr><tr><td>test_f1</td><td>0.84863</td></tr><tr><td>test_loss</td><td>0.78847</td></tr><tr><td>test_precision</td><td>0.85579</td></tr><tr><td>test_recall</td><td>0.85556</td></tr><tr><td>train_acc</td><td>0.85</td></tr><tr><td>train_f1</td><td>0.84544</td></tr><tr><td>train_loss</td><td>0.77287</td></tr><tr><td>train_precision</td><td>0.84973</td></tr><tr><td>train_recall</td><td>0.85</td></tr><tr><td>train_time</td><td>00:05:32</td></tr></table><br/></div></div>"
      ],
      "text/plain": [
       "<IPython.core.display.HTML object>"
      ]
     },
     "metadata": {},
     "output_type": "display_data"
    },
    {
     "data": {
      "text/html": [
       " View run <strong style=\"color:#cdcd00\">morning-sweep-25</strong> at: <a href='https://wandb.ai/andberg9-self/AST_Sweeps/runs/3bqtjjul' target=\"_blank\">https://wandb.ai/andberg9-self/AST_Sweeps/runs/3bqtjjul</a><br/> View project at: <a href='https://wandb.ai/andberg9-self/AST_Sweeps' target=\"_blank\">https://wandb.ai/andberg9-self/AST_Sweeps</a><br/>Synced 5 W&B file(s), 0 media file(s), 0 artifact file(s) and 0 other file(s)"
      ],
      "text/plain": [
       "<IPython.core.display.HTML object>"
      ]
     },
     "metadata": {},
     "output_type": "display_data"
    },
    {
     "data": {
      "text/html": [
       "Find logs at: <code>.\\wandb\\run-20240925_131217-3bqtjjul\\logs</code>"
      ],
      "text/plain": [
       "<IPython.core.display.HTML object>"
      ]
     },
     "metadata": {},
     "output_type": "display_data"
    },
    {
     "name": "stderr",
     "output_type": "stream",
     "text": [
      "wandb: Agent Starting Run: djpvn9qr with config:\n",
      "wandb: \tbatch_size: 8\n",
      "wandb: \tepochs: 7\n",
      "wandb: \tlearning_rate: 0.0009522938475488112\n",
      "wandb: \toptimizer: adamW\n",
      "wandb: \tscheduler: PolynomialLR\n"
     ]
    },
    {
     "data": {
      "text/html": [
       "Tracking run with wandb version 0.18.1"
      ],
      "text/plain": [
       "<IPython.core.display.HTML object>"
      ]
     },
     "metadata": {},
     "output_type": "display_data"
    },
    {
     "data": {
      "text/html": [
       "Run data is saved locally in <code>c:\\Users\\Sidewinders\\Research_notebooks\\Drone_classification\\Research\\notebooks\\wandb\\run-20240925_131814-djpvn9qr</code>"
      ],
      "text/plain": [
       "<IPython.core.display.HTML object>"
      ]
     },
     "metadata": {},
     "output_type": "display_data"
    },
    {
     "data": {
      "text/html": [
       "Syncing run <strong><a href='https://wandb.ai/andberg9-self/AST_Sweeps/runs/djpvn9qr' target=\"_blank\">visionary-sweep-26</a></strong> to <a href='https://wandb.ai/andberg9-self/AST_Sweeps' target=\"_blank\">Weights & Biases</a> (<a href='https://wandb.me/run' target=\"_blank\">docs</a>)<br/>Sweep page: <a href='https://wandb.ai/andberg9-self/AST_Sweeps/sweeps/ange3go8' target=\"_blank\">https://wandb.ai/andberg9-self/AST_Sweeps/sweeps/ange3go8</a>"
      ],
      "text/plain": [
       "<IPython.core.display.HTML object>"
      ]
     },
     "metadata": {},
     "output_type": "display_data"
    },
    {
     "data": {
      "text/html": [
       " View project at <a href='https://wandb.ai/andberg9-self/AST_Sweeps' target=\"_blank\">https://wandb.ai/andberg9-self/AST_Sweeps</a>"
      ],
      "text/plain": [
       "<IPython.core.display.HTML object>"
      ]
     },
     "metadata": {},
     "output_type": "display_data"
    },
    {
     "data": {
      "text/html": [
       " View sweep at <a href='https://wandb.ai/andberg9-self/AST_Sweeps/sweeps/ange3go8' target=\"_blank\">https://wandb.ai/andberg9-self/AST_Sweeps/sweeps/ange3go8</a>"
      ],
      "text/plain": [
       "<IPython.core.display.HTML object>"
      ]
     },
     "metadata": {},
     "output_type": "display_data"
    },
    {
     "data": {
      "text/html": [
       " View run at <a href='https://wandb.ai/andberg9-self/AST_Sweeps/runs/djpvn9qr' target=\"_blank\">https://wandb.ai/andberg9-self/AST_Sweeps/runs/djpvn9qr</a>"
      ],
      "text/plain": [
       "<IPython.core.display.HTML object>"
      ]
     },
     "metadata": {},
     "output_type": "display_data"
    },
    {
     "name": "stdout",
     "output_type": "stream",
     "text": [
      "ASTForAudioClassification(\n",
      "  (audio_spectrogram_transformer): ASTModel(\n",
      "    (embeddings): ASTEmbeddings(\n",
      "      (patch_embeddings): ASTPatchEmbeddings(\n",
      "        (projection): Conv2d(1, 768, kernel_size=(16, 16), stride=(10, 10))\n",
      "      )\n",
      "      (dropout): Dropout(p=0.0, inplace=False)\n",
      "    )\n",
      "    (encoder): ASTEncoder(\n",
      "      (layer): ModuleList(\n",
      "        (0-11): 12 x ASTLayer(\n",
      "          (attention): ASTSdpaAttention(\n",
      "            (attention): ASTSdpaSelfAttention(\n",
      "              (query): Linear(in_features=768, out_features=768, bias=True)\n",
      "              (key): Linear(in_features=768, out_features=768, bias=True)\n",
      "              (value): Linear(in_features=768, out_features=768, bias=True)\n",
      "              (dropout): Dropout(p=0.0, inplace=False)\n",
      "            )\n",
      "            (output): ASTSelfOutput(\n",
      "              (dense): Linear(in_features=768, out_features=768, bias=True)\n",
      "              (dropout): Dropout(p=0.0, inplace=False)\n",
      "            )\n",
      "          )\n",
      "          (intermediate): ASTIntermediate(\n",
      "            (dense): Linear(in_features=768, out_features=3072, bias=True)\n",
      "            (intermediate_act_fn): GELUActivation()\n",
      "          )\n",
      "          (output): ASTOutput(\n",
      "            (dense): Linear(in_features=3072, out_features=768, bias=True)\n",
      "            (dropout): Dropout(p=0.0, inplace=False)\n",
      "          )\n",
      "          (layernorm_before): LayerNorm((768,), eps=1e-12, elementwise_affine=True)\n",
      "          (layernorm_after): LayerNorm((768,), eps=1e-12, elementwise_affine=True)\n",
      "        )\n",
      "      )\n",
      "    )\n",
      "    (layernorm): LayerNorm((768,), eps=1e-12, elementwise_affine=True)\n",
      "  )\n",
      "  (classifier): ASTMLPHead(\n",
      "    (layernorm): LayerNorm((768,), eps=1e-12, elementwise_affine=True)\n",
      "    (dense): Linear(in_features=768, out_features=9, bias=True)\n",
      "  )\n",
      ")\n"
     ]
    },
    {
     "data": {
      "application/vnd.jupyter.widget-view+json": {
       "model_id": "7c39f88f5caa4cc2b2b99238fe43ad4f",
       "version_major": 2,
       "version_minor": 0
      },
      "text/plain": [
       "  0%|          | 0/7 [00:00<?, ?it/s]"
      ]
     },
     "metadata": {},
     "output_type": "display_data"
    },
    {
     "name": "stdout",
     "output_type": "stream",
     "text": [
      "Epoch 1/7 | Train Loss: 1.3435 | Train Acc: 0.5847 | Train F1: 0.5848 | Test Loss: 0.6311 | Test Acc: 0.8804 | Test F1: 0.8792\n",
      "Epoch 2/7 | Train Loss: 0.5433 | Train Acc: 0.8625 | Train F1: 0.8620 | Test Loss: 0.4227 | Test Acc: 0.9130 | Test F1: 0.9131\n",
      "Epoch 3/7 | Train Loss: 0.3859 | Train Acc: 0.9139 | Train F1: 0.9148 | Test Loss: 0.3399 | Test Acc: 0.9402 | Test F1: 0.9400\n",
      "Epoch 4/7 | Train Loss: 0.3277 | Train Acc: 0.9333 | Train F1: 0.9338 | Test Loss: 0.3070 | Test Acc: 0.9565 | Test F1: 0.9564\n",
      "Epoch 5/7 | Train Loss: 0.2981 | Train Acc: 0.9389 | Train F1: 0.9391 | Test Loss: 0.2910 | Test Acc: 0.9728 | Test F1: 0.9731\n",
      "Epoch 6/7 | Train Loss: 0.2872 | Train Acc: 0.9472 | Train F1: 0.9475 | Test Loss: 0.2921 | Test Acc: 0.9728 | Test F1: 0.9731\n",
      "Epoch 7/7 | Train Loss: 0.2872 | Train Acc: 0.9472 | Train F1: 0.9475 | Test Loss: 0.2895 | Test Acc: 0.9728 | Test F1: 0.9731\n",
      "Train time on cuda: 332.16403029999856\n",
      "Inference Loss: 0.2872, Accuracy: 94.72%\n"
     ]
    },
    {
     "data": {
      "application/vnd.jupyter.widget-view+json": {
       "model_id": "d8fc5ec41a80417abdaec13a9f183dde",
       "version_major": 2,
       "version_minor": 0
      },
      "text/plain": [
       "VBox(children=(Label(value='0.008 MB of 0.008 MB uploaded\\r'), FloatProgress(value=1.0, max=1.0)))"
      ]
     },
     "metadata": {},
     "output_type": "display_data"
    },
    {
     "data": {
      "text/html": [
       "<style>\n",
       "    table.wandb td:nth-child(1) { padding: 0 10px; text-align: left ; width: auto;} td:nth-child(2) {text-align: left ; width: 100%}\n",
       "    .wandb-row { display: flex; flex-direction: row; flex-wrap: wrap; justify-content: flex-start; width: 100% }\n",
       "    .wandb-col { display: flex; flex-direction: column; flex-basis: 100%; flex: 1; padding: 10px; }\n",
       "    </style>\n",
       "<div class=\"wandb-row\"><div class=\"wandb-col\"><h3>Run history:</h3><br/><table class=\"wandb\"><tr><td>epoch</td><td>▁▂▃▅▆▇█</td></tr><tr><td>inference_accuracy</td><td>▁</td></tr><tr><td>inference_loss</td><td>▁</td></tr><tr><td>test_acc</td><td>▁▃▆▇███</td></tr><tr><td>test_f1</td><td>▁▄▆▇███</td></tr><tr><td>test_loss</td><td>█▄▂▁▁▁▁</td></tr><tr><td>test_precision</td><td>▁▄▆▇███</td></tr><tr><td>test_recall</td><td>▁▃▅▇███</td></tr><tr><td>train_acc</td><td>▁▆▇████</td></tr><tr><td>train_f1</td><td>▁▆▇████</td></tr><tr><td>train_loss</td><td>█▃▂▁▁▁▁</td></tr><tr><td>train_precision</td><td>▁▆▇████</td></tr><tr><td>train_recall</td><td>▁▆▇████</td></tr></table><br/></div><div class=\"wandb-col\"><h3>Run summary:</h3><br/><table class=\"wandb\"><tr><td>epoch</td><td>7</td></tr><tr><td>inference_accuracy</td><td>0.94722</td></tr><tr><td>inference_loss</td><td>0.28724</td></tr><tr><td>test_acc</td><td>0.97283</td></tr><tr><td>test_f1</td><td>0.97305</td></tr><tr><td>test_loss</td><td>0.28948</td></tr><tr><td>test_precision</td><td>0.97884</td></tr><tr><td>test_recall</td><td>0.97222</td></tr><tr><td>train_acc</td><td>0.94722</td></tr><tr><td>train_f1</td><td>0.94745</td></tr><tr><td>train_loss</td><td>0.28719</td></tr><tr><td>train_precision</td><td>0.94784</td></tr><tr><td>train_recall</td><td>0.94722</td></tr><tr><td>train_time</td><td>00:05:32</td></tr></table><br/></div></div>"
      ],
      "text/plain": [
       "<IPython.core.display.HTML object>"
      ]
     },
     "metadata": {},
     "output_type": "display_data"
    },
    {
     "data": {
      "text/html": [
       " View run <strong style=\"color:#cdcd00\">visionary-sweep-26</strong> at: <a href='https://wandb.ai/andberg9-self/AST_Sweeps/runs/djpvn9qr' target=\"_blank\">https://wandb.ai/andberg9-self/AST_Sweeps/runs/djpvn9qr</a><br/> View project at: <a href='https://wandb.ai/andberg9-self/AST_Sweeps' target=\"_blank\">https://wandb.ai/andberg9-self/AST_Sweeps</a><br/>Synced 5 W&B file(s), 0 media file(s), 0 artifact file(s) and 0 other file(s)"
      ],
      "text/plain": [
       "<IPython.core.display.HTML object>"
      ]
     },
     "metadata": {},
     "output_type": "display_data"
    },
    {
     "data": {
      "text/html": [
       "Find logs at: <code>.\\wandb\\run-20240925_131814-djpvn9qr\\logs</code>"
      ],
      "text/plain": [
       "<IPython.core.display.HTML object>"
      ]
     },
     "metadata": {},
     "output_type": "display_data"
    },
    {
     "name": "stderr",
     "output_type": "stream",
     "text": [
      "wandb: Agent Starting Run: 6olxqmyl with config:\n",
      "wandb: \tbatch_size: 4\n",
      "wandb: \tepochs: 7\n",
      "wandb: \tlearning_rate: 0.0004562927422830893\n",
      "wandb: \toptimizer: adamW\n",
      "wandb: \tscheduler: PolynomialLR\n"
     ]
    },
    {
     "data": {
      "text/html": [
       "Tracking run with wandb version 0.18.1"
      ],
      "text/plain": [
       "<IPython.core.display.HTML object>"
      ]
     },
     "metadata": {},
     "output_type": "display_data"
    },
    {
     "data": {
      "text/html": [
       "Run data is saved locally in <code>c:\\Users\\Sidewinders\\Research_notebooks\\Drone_classification\\Research\\notebooks\\wandb\\run-20240925_132412-6olxqmyl</code>"
      ],
      "text/plain": [
       "<IPython.core.display.HTML object>"
      ]
     },
     "metadata": {},
     "output_type": "display_data"
    },
    {
     "data": {
      "text/html": [
       "Syncing run <strong><a href='https://wandb.ai/andberg9-self/AST_Sweeps/runs/6olxqmyl' target=\"_blank\">devout-sweep-27</a></strong> to <a href='https://wandb.ai/andberg9-self/AST_Sweeps' target=\"_blank\">Weights & Biases</a> (<a href='https://wandb.me/run' target=\"_blank\">docs</a>)<br/>Sweep page: <a href='https://wandb.ai/andberg9-self/AST_Sweeps/sweeps/ange3go8' target=\"_blank\">https://wandb.ai/andberg9-self/AST_Sweeps/sweeps/ange3go8</a>"
      ],
      "text/plain": [
       "<IPython.core.display.HTML object>"
      ]
     },
     "metadata": {},
     "output_type": "display_data"
    },
    {
     "data": {
      "text/html": [
       " View project at <a href='https://wandb.ai/andberg9-self/AST_Sweeps' target=\"_blank\">https://wandb.ai/andberg9-self/AST_Sweeps</a>"
      ],
      "text/plain": [
       "<IPython.core.display.HTML object>"
      ]
     },
     "metadata": {},
     "output_type": "display_data"
    },
    {
     "data": {
      "text/html": [
       " View sweep at <a href='https://wandb.ai/andberg9-self/AST_Sweeps/sweeps/ange3go8' target=\"_blank\">https://wandb.ai/andberg9-self/AST_Sweeps/sweeps/ange3go8</a>"
      ],
      "text/plain": [
       "<IPython.core.display.HTML object>"
      ]
     },
     "metadata": {},
     "output_type": "display_data"
    },
    {
     "data": {
      "text/html": [
       " View run at <a href='https://wandb.ai/andberg9-self/AST_Sweeps/runs/6olxqmyl' target=\"_blank\">https://wandb.ai/andberg9-self/AST_Sweeps/runs/6olxqmyl</a>"
      ],
      "text/plain": [
       "<IPython.core.display.HTML object>"
      ]
     },
     "metadata": {},
     "output_type": "display_data"
    },
    {
     "name": "stdout",
     "output_type": "stream",
     "text": [
      "ASTForAudioClassification(\n",
      "  (audio_spectrogram_transformer): ASTModel(\n",
      "    (embeddings): ASTEmbeddings(\n",
      "      (patch_embeddings): ASTPatchEmbeddings(\n",
      "        (projection): Conv2d(1, 768, kernel_size=(16, 16), stride=(10, 10))\n",
      "      )\n",
      "      (dropout): Dropout(p=0.0, inplace=False)\n",
      "    )\n",
      "    (encoder): ASTEncoder(\n",
      "      (layer): ModuleList(\n",
      "        (0-11): 12 x ASTLayer(\n",
      "          (attention): ASTSdpaAttention(\n",
      "            (attention): ASTSdpaSelfAttention(\n",
      "              (query): Linear(in_features=768, out_features=768, bias=True)\n",
      "              (key): Linear(in_features=768, out_features=768, bias=True)\n",
      "              (value): Linear(in_features=768, out_features=768, bias=True)\n",
      "              (dropout): Dropout(p=0.0, inplace=False)\n",
      "            )\n",
      "            (output): ASTSelfOutput(\n",
      "              (dense): Linear(in_features=768, out_features=768, bias=True)\n",
      "              (dropout): Dropout(p=0.0, inplace=False)\n",
      "            )\n",
      "          )\n",
      "          (intermediate): ASTIntermediate(\n",
      "            (dense): Linear(in_features=768, out_features=3072, bias=True)\n",
      "            (intermediate_act_fn): GELUActivation()\n",
      "          )\n",
      "          (output): ASTOutput(\n",
      "            (dense): Linear(in_features=3072, out_features=768, bias=True)\n",
      "            (dropout): Dropout(p=0.0, inplace=False)\n",
      "          )\n",
      "          (layernorm_before): LayerNorm((768,), eps=1e-12, elementwise_affine=True)\n",
      "          (layernorm_after): LayerNorm((768,), eps=1e-12, elementwise_affine=True)\n",
      "        )\n",
      "      )\n",
      "    )\n",
      "    (layernorm): LayerNorm((768,), eps=1e-12, elementwise_affine=True)\n",
      "  )\n",
      "  (classifier): ASTMLPHead(\n",
      "    (layernorm): LayerNorm((768,), eps=1e-12, elementwise_affine=True)\n",
      "    (dense): Linear(in_features=768, out_features=9, bias=True)\n",
      "  )\n",
      ")\n"
     ]
    },
    {
     "data": {
      "application/vnd.jupyter.widget-view+json": {
       "model_id": "4f17bd137db44b5f906df013ea3611a9",
       "version_major": 2,
       "version_minor": 0
      },
      "text/plain": [
       "  0%|          | 0/7 [00:00<?, ?it/s]"
      ]
     },
     "metadata": {},
     "output_type": "display_data"
    },
    {
     "name": "stdout",
     "output_type": "stream",
     "text": [
      "Epoch 1/7 | Train Loss: 1.4298 | Train Acc: 0.5681 | Train F1: 0.5622 | Test Loss: 0.7765 | Test Acc: 0.8778 | Test F1: 0.8757\n",
      "Epoch 2/7 | Train Loss: 0.6432 | Train Acc: 0.8611 | Train F1: 0.8602 | Test Loss: 0.5046 | Test Acc: 0.9278 | Test F1: 0.9287\n",
      "Epoch 3/7 | Train Loss: 0.4683 | Train Acc: 0.8986 | Train F1: 0.8985 | Test Loss: 0.4382 | Test Acc: 0.9167 | Test F1: 0.9168\n",
      "Epoch 4/7 | Train Loss: 0.4080 | Train Acc: 0.9097 | Train F1: 0.9104 | Test Loss: 0.3763 | Test Acc: 0.9556 | Test F1: 0.9556\n",
      "Epoch 5/7 | Train Loss: 0.3658 | Train Acc: 0.9194 | Train F1: 0.9197 | Test Loss: 0.3582 | Test Acc: 0.9667 | Test F1: 0.9675\n",
      "Epoch 6/7 | Train Loss: 0.3525 | Train Acc: 0.9250 | Train F1: 0.9254 | Test Loss: 0.3582 | Test Acc: 0.9667 | Test F1: 0.9675\n",
      "Epoch 7/7 | Train Loss: 0.3525 | Train Acc: 0.9250 | Train F1: 0.9254 | Test Loss: 0.3582 | Test Acc: 0.9667 | Test F1: 0.9675\n",
      "Train time on cuda: 328.98290090000046\n",
      "Inference Loss: 0.3526, Accuracy: 92.50%\n"
     ]
    },
    {
     "data": {
      "application/vnd.jupyter.widget-view+json": {
       "model_id": "04ca8d30564f4c8685b58549c02b4782",
       "version_major": 2,
       "version_minor": 0
      },
      "text/plain": [
       "VBox(children=(Label(value='0.008 MB of 0.008 MB uploaded\\r'), FloatProgress(value=1.0, max=1.0)))"
      ]
     },
     "metadata": {},
     "output_type": "display_data"
    },
    {
     "data": {
      "text/html": [
       "<style>\n",
       "    table.wandb td:nth-child(1) { padding: 0 10px; text-align: left ; width: auto;} td:nth-child(2) {text-align: left ; width: 100%}\n",
       "    .wandb-row { display: flex; flex-direction: row; flex-wrap: wrap; justify-content: flex-start; width: 100% }\n",
       "    .wandb-col { display: flex; flex-direction: column; flex-basis: 100%; flex: 1; padding: 10px; }\n",
       "    </style>\n",
       "<div class=\"wandb-row\"><div class=\"wandb-col\"><h3>Run history:</h3><br/><table class=\"wandb\"><tr><td>epoch</td><td>▁▂▃▅▆▇█</td></tr><tr><td>inference_accuracy</td><td>▁</td></tr><tr><td>inference_loss</td><td>▁</td></tr><tr><td>test_acc</td><td>▁▅▄▇███</td></tr><tr><td>test_f1</td><td>▁▅▄▇███</td></tr><tr><td>test_loss</td><td>█▃▂▁▁▁▁</td></tr><tr><td>test_precision</td><td>▁▅▅▇███</td></tr><tr><td>test_recall</td><td>▁▅▄▇███</td></tr><tr><td>train_acc</td><td>▁▇▇████</td></tr><tr><td>train_f1</td><td>▁▇▇████</td></tr><tr><td>train_loss</td><td>█▃▂▁▁▁▁</td></tr><tr><td>train_precision</td><td>▁▇▇████</td></tr><tr><td>train_recall</td><td>▁▇▇████</td></tr></table><br/></div><div class=\"wandb-col\"><h3>Run summary:</h3><br/><table class=\"wandb\"><tr><td>epoch</td><td>7</td></tr><tr><td>inference_accuracy</td><td>0.925</td></tr><tr><td>inference_loss</td><td>0.35259</td></tr><tr><td>test_acc</td><td>0.96667</td></tr><tr><td>test_f1</td><td>0.96749</td></tr><tr><td>test_loss</td><td>0.35821</td></tr><tr><td>test_precision</td><td>0.97351</td></tr><tr><td>test_recall</td><td>0.96667</td></tr><tr><td>train_acc</td><td>0.925</td></tr><tr><td>train_f1</td><td>0.92542</td></tr><tr><td>train_loss</td><td>0.35254</td></tr><tr><td>train_precision</td><td>0.92606</td></tr><tr><td>train_recall</td><td>0.925</td></tr><tr><td>train_time</td><td>00:05:28</td></tr></table><br/></div></div>"
      ],
      "text/plain": [
       "<IPython.core.display.HTML object>"
      ]
     },
     "metadata": {},
     "output_type": "display_data"
    },
    {
     "data": {
      "text/html": [
       " View run <strong style=\"color:#cdcd00\">devout-sweep-27</strong> at: <a href='https://wandb.ai/andberg9-self/AST_Sweeps/runs/6olxqmyl' target=\"_blank\">https://wandb.ai/andberg9-self/AST_Sweeps/runs/6olxqmyl</a><br/> View project at: <a href='https://wandb.ai/andberg9-self/AST_Sweeps' target=\"_blank\">https://wandb.ai/andberg9-self/AST_Sweeps</a><br/>Synced 5 W&B file(s), 0 media file(s), 0 artifact file(s) and 0 other file(s)"
      ],
      "text/plain": [
       "<IPython.core.display.HTML object>"
      ]
     },
     "metadata": {},
     "output_type": "display_data"
    },
    {
     "data": {
      "text/html": [
       "Find logs at: <code>.\\wandb\\run-20240925_132412-6olxqmyl\\logs</code>"
      ],
      "text/plain": [
       "<IPython.core.display.HTML object>"
      ]
     },
     "metadata": {},
     "output_type": "display_data"
    },
    {
     "name": "stderr",
     "output_type": "stream",
     "text": [
      "wandb: Agent Starting Run: kxyzvrrl with config:\n",
      "wandb: \tbatch_size: 16\n",
      "wandb: \tepochs: 7\n",
      "wandb: \tlearning_rate: 0.0006313893518980624\n",
      "wandb: \toptimizer: adamW\n",
      "wandb: \tscheduler: PolynomialLR\n"
     ]
    },
    {
     "data": {
      "text/html": [
       "Tracking run with wandb version 0.18.1"
      ],
      "text/plain": [
       "<IPython.core.display.HTML object>"
      ]
     },
     "metadata": {},
     "output_type": "display_data"
    },
    {
     "data": {
      "text/html": [
       "Run data is saved locally in <code>c:\\Users\\Sidewinders\\Research_notebooks\\Drone_classification\\Research\\notebooks\\wandb\\run-20240925_133003-kxyzvrrl</code>"
      ],
      "text/plain": [
       "<IPython.core.display.HTML object>"
      ]
     },
     "metadata": {},
     "output_type": "display_data"
    },
    {
     "data": {
      "text/html": [
       "Syncing run <strong><a href='https://wandb.ai/andberg9-self/AST_Sweeps/runs/kxyzvrrl' target=\"_blank\">leafy-sweep-28</a></strong> to <a href='https://wandb.ai/andberg9-self/AST_Sweeps' target=\"_blank\">Weights & Biases</a> (<a href='https://wandb.me/run' target=\"_blank\">docs</a>)<br/>Sweep page: <a href='https://wandb.ai/andberg9-self/AST_Sweeps/sweeps/ange3go8' target=\"_blank\">https://wandb.ai/andberg9-self/AST_Sweeps/sweeps/ange3go8</a>"
      ],
      "text/plain": [
       "<IPython.core.display.HTML object>"
      ]
     },
     "metadata": {},
     "output_type": "display_data"
    },
    {
     "data": {
      "text/html": [
       " View project at <a href='https://wandb.ai/andberg9-self/AST_Sweeps' target=\"_blank\">https://wandb.ai/andberg9-self/AST_Sweeps</a>"
      ],
      "text/plain": [
       "<IPython.core.display.HTML object>"
      ]
     },
     "metadata": {},
     "output_type": "display_data"
    },
    {
     "data": {
      "text/html": [
       " View sweep at <a href='https://wandb.ai/andberg9-self/AST_Sweeps/sweeps/ange3go8' target=\"_blank\">https://wandb.ai/andberg9-self/AST_Sweeps/sweeps/ange3go8</a>"
      ],
      "text/plain": [
       "<IPython.core.display.HTML object>"
      ]
     },
     "metadata": {},
     "output_type": "display_data"
    },
    {
     "data": {
      "text/html": [
       " View run at <a href='https://wandb.ai/andberg9-self/AST_Sweeps/runs/kxyzvrrl' target=\"_blank\">https://wandb.ai/andberg9-self/AST_Sweeps/runs/kxyzvrrl</a>"
      ],
      "text/plain": [
       "<IPython.core.display.HTML object>"
      ]
     },
     "metadata": {},
     "output_type": "display_data"
    },
    {
     "name": "stdout",
     "output_type": "stream",
     "text": [
      "ASTForAudioClassification(\n",
      "  (audio_spectrogram_transformer): ASTModel(\n",
      "    (embeddings): ASTEmbeddings(\n",
      "      (patch_embeddings): ASTPatchEmbeddings(\n",
      "        (projection): Conv2d(1, 768, kernel_size=(16, 16), stride=(10, 10))\n",
      "      )\n",
      "      (dropout): Dropout(p=0.0, inplace=False)\n",
      "    )\n",
      "    (encoder): ASTEncoder(\n",
      "      (layer): ModuleList(\n",
      "        (0-11): 12 x ASTLayer(\n",
      "          (attention): ASTSdpaAttention(\n",
      "            (attention): ASTSdpaSelfAttention(\n",
      "              (query): Linear(in_features=768, out_features=768, bias=True)\n",
      "              (key): Linear(in_features=768, out_features=768, bias=True)\n",
      "              (value): Linear(in_features=768, out_features=768, bias=True)\n",
      "              (dropout): Dropout(p=0.0, inplace=False)\n",
      "            )\n",
      "            (output): ASTSelfOutput(\n",
      "              (dense): Linear(in_features=768, out_features=768, bias=True)\n",
      "              (dropout): Dropout(p=0.0, inplace=False)\n",
      "            )\n",
      "          )\n",
      "          (intermediate): ASTIntermediate(\n",
      "            (dense): Linear(in_features=768, out_features=3072, bias=True)\n",
      "            (intermediate_act_fn): GELUActivation()\n",
      "          )\n",
      "          (output): ASTOutput(\n",
      "            (dense): Linear(in_features=3072, out_features=768, bias=True)\n",
      "            (dropout): Dropout(p=0.0, inplace=False)\n",
      "          )\n",
      "          (layernorm_before): LayerNorm((768,), eps=1e-12, elementwise_affine=True)\n",
      "          (layernorm_after): LayerNorm((768,), eps=1e-12, elementwise_affine=True)\n",
      "        )\n",
      "      )\n",
      "    )\n",
      "    (layernorm): LayerNorm((768,), eps=1e-12, elementwise_affine=True)\n",
      "  )\n",
      "  (classifier): ASTMLPHead(\n",
      "    (layernorm): LayerNorm((768,), eps=1e-12, elementwise_affine=True)\n",
      "    (dense): Linear(in_features=768, out_features=9, bias=True)\n",
      "  )\n",
      ")\n"
     ]
    },
    {
     "data": {
      "application/vnd.jupyter.widget-view+json": {
       "model_id": "2a06ef6f54794813a2481c2b133696ab",
       "version_major": 2,
       "version_minor": 0
      },
      "text/plain": [
       "  0%|          | 0/7 [00:00<?, ?it/s]"
      ]
     },
     "metadata": {},
     "output_type": "display_data"
    },
    {
     "name": "stdout",
     "output_type": "stream",
     "text": [
      "Epoch 1/7 | Train Loss: 1.8283 | Train Acc: 0.4125 | Train F1: 0.4090 | Test Loss: 1.2980 | Test Acc: 0.7240 | Test F1: 0.6817\n",
      "Epoch 2/7 | Train Loss: 1.0613 | Train Acc: 0.7972 | Train F1: 0.7917 | Test Loss: 0.8508 | Test Acc: 0.8646 | Test F1: 0.8549\n",
      "Epoch 3/7 | Train Loss: 0.7612 | Train Acc: 0.8583 | Train F1: 0.8572 | Test Loss: 0.6813 | Test Acc: 0.8854 | Test F1: 0.8744\n",
      "Epoch 4/7 | Train Loss: 0.6356 | Train Acc: 0.8861 | Train F1: 0.8857 | Test Loss: 0.5893 | Test Acc: 0.9167 | Test F1: 0.9101\n",
      "Epoch 5/7 | Train Loss: 0.5824 | Train Acc: 0.8875 | Train F1: 0.8875 | Test Loss: 0.5718 | Test Acc: 0.9062 | Test F1: 0.8988\n",
      "Epoch 6/7 | Train Loss: 0.5638 | Train Acc: 0.9014 | Train F1: 0.9016 | Test Loss: 0.5773 | Test Acc: 0.9062 | Test F1: 0.8988\n",
      "Epoch 7/7 | Train Loss: 0.5638 | Train Acc: 0.9014 | Train F1: 0.9016 | Test Loss: 0.5808 | Test Acc: 0.9062 | Test F1: 0.8988\n",
      "Train time on cuda: 333.4308962999985\n",
      "Inference Loss: 0.5639, Accuracy: 90.14%\n"
     ]
    },
    {
     "data": {
      "application/vnd.jupyter.widget-view+json": {
       "model_id": "010968df0059404aaa7bac034c9efa8d",
       "version_major": 2,
       "version_minor": 0
      },
      "text/plain": [
       "VBox(children=(Label(value='0.008 MB of 0.008 MB uploaded\\r'), FloatProgress(value=1.0, max=1.0)))"
      ]
     },
     "metadata": {},
     "output_type": "display_data"
    },
    {
     "data": {
      "text/html": [
       "<style>\n",
       "    table.wandb td:nth-child(1) { padding: 0 10px; text-align: left ; width: auto;} td:nth-child(2) {text-align: left ; width: 100%}\n",
       "    .wandb-row { display: flex; flex-direction: row; flex-wrap: wrap; justify-content: flex-start; width: 100% }\n",
       "    .wandb-col { display: flex; flex-direction: column; flex-basis: 100%; flex: 1; padding: 10px; }\n",
       "    </style>\n",
       "<div class=\"wandb-row\"><div class=\"wandb-col\"><h3>Run history:</h3><br/><table class=\"wandb\"><tr><td>epoch</td><td>▁▂▃▅▆▇█</td></tr><tr><td>inference_accuracy</td><td>▁</td></tr><tr><td>inference_loss</td><td>▁</td></tr><tr><td>test_acc</td><td>▁▆▇████</td></tr><tr><td>test_f1</td><td>▁▆▇████</td></tr><tr><td>test_loss</td><td>█▄▂▁▁▁▁</td></tr><tr><td>test_precision</td><td>▁▆▇████</td></tr><tr><td>test_recall</td><td>▁▆▇████</td></tr><tr><td>train_acc</td><td>▁▇▇████</td></tr><tr><td>train_f1</td><td>▁▆▇████</td></tr><tr><td>train_loss</td><td>█▄▂▁▁▁▁</td></tr><tr><td>train_precision</td><td>▁▇▇████</td></tr><tr><td>train_recall</td><td>▁▇▇████</td></tr></table><br/></div><div class=\"wandb-col\"><h3>Run summary:</h3><br/><table class=\"wandb\"><tr><td>epoch</td><td>7</td></tr><tr><td>inference_accuracy</td><td>0.90139</td></tr><tr><td>inference_loss</td><td>0.5639</td></tr><tr><td>test_acc</td><td>0.90625</td></tr><tr><td>test_f1</td><td>0.89882</td></tr><tr><td>test_loss</td><td>0.58076</td></tr><tr><td>test_precision</td><td>0.91051</td></tr><tr><td>test_recall</td><td>0.9</td></tr><tr><td>train_acc</td><td>0.90139</td></tr><tr><td>train_f1</td><td>0.90156</td></tr><tr><td>train_loss</td><td>0.56384</td></tr><tr><td>train_precision</td><td>0.90424</td></tr><tr><td>train_recall</td><td>0.90139</td></tr><tr><td>train_time</td><td>00:05:33</td></tr></table><br/></div></div>"
      ],
      "text/plain": [
       "<IPython.core.display.HTML object>"
      ]
     },
     "metadata": {},
     "output_type": "display_data"
    },
    {
     "data": {
      "text/html": [
       " View run <strong style=\"color:#cdcd00\">leafy-sweep-28</strong> at: <a href='https://wandb.ai/andberg9-self/AST_Sweeps/runs/kxyzvrrl' target=\"_blank\">https://wandb.ai/andberg9-self/AST_Sweeps/runs/kxyzvrrl</a><br/> View project at: <a href='https://wandb.ai/andberg9-self/AST_Sweeps' target=\"_blank\">https://wandb.ai/andberg9-self/AST_Sweeps</a><br/>Synced 5 W&B file(s), 0 media file(s), 0 artifact file(s) and 0 other file(s)"
      ],
      "text/plain": [
       "<IPython.core.display.HTML object>"
      ]
     },
     "metadata": {},
     "output_type": "display_data"
    },
    {
     "data": {
      "text/html": [
       "Find logs at: <code>.\\wandb\\run-20240925_133003-kxyzvrrl\\logs</code>"
      ],
      "text/plain": [
       "<IPython.core.display.HTML object>"
      ]
     },
     "metadata": {},
     "output_type": "display_data"
    },
    {
     "name": "stderr",
     "output_type": "stream",
     "text": [
      "wandb: Agent Starting Run: g5h54o59 with config:\n",
      "wandb: \tbatch_size: 16\n",
      "wandb: \tepochs: 7\n",
      "wandb: \tlearning_rate: 0.0006183144043410278\n",
      "wandb: \toptimizer: adamW\n",
      "wandb: \tscheduler: PolynomialLR\n"
     ]
    },
    {
     "data": {
      "text/html": [
       "Tracking run with wandb version 0.18.1"
      ],
      "text/plain": [
       "<IPython.core.display.HTML object>"
      ]
     },
     "metadata": {},
     "output_type": "display_data"
    },
    {
     "data": {
      "text/html": [
       "Run data is saved locally in <code>c:\\Users\\Sidewinders\\Research_notebooks\\Drone_classification\\Research\\notebooks\\wandb\\run-20240925_133600-g5h54o59</code>"
      ],
      "text/plain": [
       "<IPython.core.display.HTML object>"
      ]
     },
     "metadata": {},
     "output_type": "display_data"
    },
    {
     "data": {
      "text/html": [
       "Syncing run <strong><a href='https://wandb.ai/andberg9-self/AST_Sweeps/runs/g5h54o59' target=\"_blank\">noble-sweep-29</a></strong> to <a href='https://wandb.ai/andberg9-self/AST_Sweeps' target=\"_blank\">Weights & Biases</a> (<a href='https://wandb.me/run' target=\"_blank\">docs</a>)<br/>Sweep page: <a href='https://wandb.ai/andberg9-self/AST_Sweeps/sweeps/ange3go8' target=\"_blank\">https://wandb.ai/andberg9-self/AST_Sweeps/sweeps/ange3go8</a>"
      ],
      "text/plain": [
       "<IPython.core.display.HTML object>"
      ]
     },
     "metadata": {},
     "output_type": "display_data"
    },
    {
     "data": {
      "text/html": [
       " View project at <a href='https://wandb.ai/andberg9-self/AST_Sweeps' target=\"_blank\">https://wandb.ai/andberg9-self/AST_Sweeps</a>"
      ],
      "text/plain": [
       "<IPython.core.display.HTML object>"
      ]
     },
     "metadata": {},
     "output_type": "display_data"
    },
    {
     "data": {
      "text/html": [
       " View sweep at <a href='https://wandb.ai/andberg9-self/AST_Sweeps/sweeps/ange3go8' target=\"_blank\">https://wandb.ai/andberg9-self/AST_Sweeps/sweeps/ange3go8</a>"
      ],
      "text/plain": [
       "<IPython.core.display.HTML object>"
      ]
     },
     "metadata": {},
     "output_type": "display_data"
    },
    {
     "data": {
      "text/html": [
       " View run at <a href='https://wandb.ai/andberg9-self/AST_Sweeps/runs/g5h54o59' target=\"_blank\">https://wandb.ai/andberg9-self/AST_Sweeps/runs/g5h54o59</a>"
      ],
      "text/plain": [
       "<IPython.core.display.HTML object>"
      ]
     },
     "metadata": {},
     "output_type": "display_data"
    },
    {
     "name": "stdout",
     "output_type": "stream",
     "text": [
      "ASTForAudioClassification(\n",
      "  (audio_spectrogram_transformer): ASTModel(\n",
      "    (embeddings): ASTEmbeddings(\n",
      "      (patch_embeddings): ASTPatchEmbeddings(\n",
      "        (projection): Conv2d(1, 768, kernel_size=(16, 16), stride=(10, 10))\n",
      "      )\n",
      "      (dropout): Dropout(p=0.0, inplace=False)\n",
      "    )\n",
      "    (encoder): ASTEncoder(\n",
      "      (layer): ModuleList(\n",
      "        (0-11): 12 x ASTLayer(\n",
      "          (attention): ASTSdpaAttention(\n",
      "            (attention): ASTSdpaSelfAttention(\n",
      "              (query): Linear(in_features=768, out_features=768, bias=True)\n",
      "              (key): Linear(in_features=768, out_features=768, bias=True)\n",
      "              (value): Linear(in_features=768, out_features=768, bias=True)\n",
      "              (dropout): Dropout(p=0.0, inplace=False)\n",
      "            )\n",
      "            (output): ASTSelfOutput(\n",
      "              (dense): Linear(in_features=768, out_features=768, bias=True)\n",
      "              (dropout): Dropout(p=0.0, inplace=False)\n",
      "            )\n",
      "          )\n",
      "          (intermediate): ASTIntermediate(\n",
      "            (dense): Linear(in_features=768, out_features=3072, bias=True)\n",
      "            (intermediate_act_fn): GELUActivation()\n",
      "          )\n",
      "          (output): ASTOutput(\n",
      "            (dense): Linear(in_features=3072, out_features=768, bias=True)\n",
      "            (dropout): Dropout(p=0.0, inplace=False)\n",
      "          )\n",
      "          (layernorm_before): LayerNorm((768,), eps=1e-12, elementwise_affine=True)\n",
      "          (layernorm_after): LayerNorm((768,), eps=1e-12, elementwise_affine=True)\n",
      "        )\n",
      "      )\n",
      "    )\n",
      "    (layernorm): LayerNorm((768,), eps=1e-12, elementwise_affine=True)\n",
      "  )\n",
      "  (classifier): ASTMLPHead(\n",
      "    (layernorm): LayerNorm((768,), eps=1e-12, elementwise_affine=True)\n",
      "    (dense): Linear(in_features=768, out_features=9, bias=True)\n",
      "  )\n",
      ")\n"
     ]
    },
    {
     "data": {
      "application/vnd.jupyter.widget-view+json": {
       "model_id": "3c40b50fca4c4e2eb8c8af9aff2bde88",
       "version_major": 2,
       "version_minor": 0
      },
      "text/plain": [
       "  0%|          | 0/7 [00:00<?, ?it/s]"
      ]
     },
     "metadata": {},
     "output_type": "display_data"
    },
    {
     "name": "stdout",
     "output_type": "stream",
     "text": [
      "Epoch 1/7 | Train Loss: 1.7395 | Train Acc: 0.4597 | Train F1: 0.4536 | Test Loss: 1.3006 | Test Acc: 0.6771 | Test F1: 0.6436\n",
      "Epoch 2/7 | Train Loss: 1.0531 | Train Acc: 0.7278 | Train F1: 0.7121 | Test Loss: 0.8711 | Test Acc: 0.8385 | Test F1: 0.8176\n",
      "Epoch 3/7 | Train Loss: 0.7622 | Train Acc: 0.8500 | Train F1: 0.8492 | Test Loss: 0.7026 | Test Acc: 0.8594 | Test F1: 0.8479\n",
      "Epoch 4/7 | Train Loss: 0.6351 | Train Acc: 0.8778 | Train F1: 0.8779 | Test Loss: 0.6352 | Test Acc: 0.8490 | Test F1: 0.8663\n",
      "Epoch 5/7 | Train Loss: 0.5832 | Train Acc: 0.8792 | Train F1: 0.8788 | Test Loss: 0.5993 | Test Acc: 0.8646 | Test F1: 0.8692\n",
      "Epoch 6/7 | Train Loss: 0.5661 | Train Acc: 0.8847 | Train F1: 0.8849 | Test Loss: 0.5995 | Test Acc: 0.8646 | Test F1: 0.8692\n",
      "Epoch 7/7 | Train Loss: 0.5661 | Train Acc: 0.8847 | Train F1: 0.8849 | Test Loss: 0.6376 | Test Acc: 0.8490 | Test F1: 0.8692\n",
      "Train time on cuda: 333.06515769999896\n",
      "Inference Loss: 0.5662, Accuracy: 88.47%\n"
     ]
    },
    {
     "data": {
      "application/vnd.jupyter.widget-view+json": {
       "model_id": "054ff48d71744378bfa7119128efdf71",
       "version_major": 2,
       "version_minor": 0
      },
      "text/plain": [
       "VBox(children=(Label(value='0.008 MB of 0.008 MB uploaded\\r'), FloatProgress(value=1.0, max=1.0)))"
      ]
     },
     "metadata": {},
     "output_type": "display_data"
    },
    {
     "data": {
      "text/html": [
       "<style>\n",
       "    table.wandb td:nth-child(1) { padding: 0 10px; text-align: left ; width: auto;} td:nth-child(2) {text-align: left ; width: 100%}\n",
       "    .wandb-row { display: flex; flex-direction: row; flex-wrap: wrap; justify-content: flex-start; width: 100% }\n",
       "    .wandb-col { display: flex; flex-direction: column; flex-basis: 100%; flex: 1; padding: 10px; }\n",
       "    </style>\n",
       "<div class=\"wandb-row\"><div class=\"wandb-col\"><h3>Run history:</h3><br/><table class=\"wandb\"><tr><td>epoch</td><td>▁▂▃▅▆▇█</td></tr><tr><td>inference_accuracy</td><td>▁</td></tr><tr><td>inference_loss</td><td>▁</td></tr><tr><td>test_acc</td><td>▁▇█▇██▇</td></tr><tr><td>test_f1</td><td>▁▆▇████</td></tr><tr><td>test_loss</td><td>█▄▂▁▁▁▁</td></tr><tr><td>test_precision</td><td>▁▆▇████</td></tr><tr><td>test_recall</td><td>▁▆▇████</td></tr><tr><td>train_acc</td><td>▁▅▇████</td></tr><tr><td>train_f1</td><td>▁▅▇████</td></tr><tr><td>train_loss</td><td>█▄▂▁▁▁▁</td></tr><tr><td>train_precision</td><td>▁▆▇████</td></tr><tr><td>train_recall</td><td>▁▅▇████</td></tr></table><br/></div><div class=\"wandb-col\"><h3>Run summary:</h3><br/><table class=\"wandb\"><tr><td>epoch</td><td>7</td></tr><tr><td>inference_accuracy</td><td>0.88472</td></tr><tr><td>inference_loss</td><td>0.56618</td></tr><tr><td>test_acc</td><td>0.84896</td></tr><tr><td>test_f1</td><td>0.86916</td></tr><tr><td>test_loss</td><td>0.63765</td></tr><tr><td>test_precision</td><td>0.87936</td></tr><tr><td>test_recall</td><td>0.87222</td></tr><tr><td>train_acc</td><td>0.88472</td></tr><tr><td>train_f1</td><td>0.88487</td></tr><tr><td>train_loss</td><td>0.56614</td></tr><tr><td>train_precision</td><td>0.88608</td></tr><tr><td>train_recall</td><td>0.88472</td></tr><tr><td>train_time</td><td>00:05:33</td></tr></table><br/></div></div>"
      ],
      "text/plain": [
       "<IPython.core.display.HTML object>"
      ]
     },
     "metadata": {},
     "output_type": "display_data"
    },
    {
     "data": {
      "text/html": [
       " View run <strong style=\"color:#cdcd00\">noble-sweep-29</strong> at: <a href='https://wandb.ai/andberg9-self/AST_Sweeps/runs/g5h54o59' target=\"_blank\">https://wandb.ai/andberg9-self/AST_Sweeps/runs/g5h54o59</a><br/> View project at: <a href='https://wandb.ai/andberg9-self/AST_Sweeps' target=\"_blank\">https://wandb.ai/andberg9-self/AST_Sweeps</a><br/>Synced 5 W&B file(s), 0 media file(s), 0 artifact file(s) and 0 other file(s)"
      ],
      "text/plain": [
       "<IPython.core.display.HTML object>"
      ]
     },
     "metadata": {},
     "output_type": "display_data"
    },
    {
     "data": {
      "text/html": [
       "Find logs at: <code>.\\wandb\\run-20240925_133600-g5h54o59\\logs</code>"
      ],
      "text/plain": [
       "<IPython.core.display.HTML object>"
      ]
     },
     "metadata": {},
     "output_type": "display_data"
    },
    {
     "name": "stderr",
     "output_type": "stream",
     "text": [
      "wandb: Agent Starting Run: lp5u0ifl with config:\n",
      "wandb: \tbatch_size: 8\n",
      "wandb: \tepochs: 7\n",
      "wandb: \tlearning_rate: 0.0002671917412030519\n",
      "wandb: \toptimizer: adamW\n",
      "wandb: \tscheduler: PolynomialLR\n"
     ]
    },
    {
     "data": {
      "text/html": [
       "Tracking run with wandb version 0.18.1"
      ],
      "text/plain": [
       "<IPython.core.display.HTML object>"
      ]
     },
     "metadata": {},
     "output_type": "display_data"
    },
    {
     "data": {
      "text/html": [
       "Run data is saved locally in <code>c:\\Users\\Sidewinders\\Research_notebooks\\Drone_classification\\Research\\notebooks\\wandb\\run-20240925_134157-lp5u0ifl</code>"
      ],
      "text/plain": [
       "<IPython.core.display.HTML object>"
      ]
     },
     "metadata": {},
     "output_type": "display_data"
    },
    {
     "data": {
      "text/html": [
       "Syncing run <strong><a href='https://wandb.ai/andberg9-self/AST_Sweeps/runs/lp5u0ifl' target=\"_blank\">lyric-sweep-30</a></strong> to <a href='https://wandb.ai/andberg9-self/AST_Sweeps' target=\"_blank\">Weights & Biases</a> (<a href='https://wandb.me/run' target=\"_blank\">docs</a>)<br/>Sweep page: <a href='https://wandb.ai/andberg9-self/AST_Sweeps/sweeps/ange3go8' target=\"_blank\">https://wandb.ai/andberg9-self/AST_Sweeps/sweeps/ange3go8</a>"
      ],
      "text/plain": [
       "<IPython.core.display.HTML object>"
      ]
     },
     "metadata": {},
     "output_type": "display_data"
    },
    {
     "data": {
      "text/html": [
       " View project at <a href='https://wandb.ai/andberg9-self/AST_Sweeps' target=\"_blank\">https://wandb.ai/andberg9-self/AST_Sweeps</a>"
      ],
      "text/plain": [
       "<IPython.core.display.HTML object>"
      ]
     },
     "metadata": {},
     "output_type": "display_data"
    },
    {
     "data": {
      "text/html": [
       " View sweep at <a href='https://wandb.ai/andberg9-self/AST_Sweeps/sweeps/ange3go8' target=\"_blank\">https://wandb.ai/andberg9-self/AST_Sweeps/sweeps/ange3go8</a>"
      ],
      "text/plain": [
       "<IPython.core.display.HTML object>"
      ]
     },
     "metadata": {},
     "output_type": "display_data"
    },
    {
     "data": {
      "text/html": [
       " View run at <a href='https://wandb.ai/andberg9-self/AST_Sweeps/runs/lp5u0ifl' target=\"_blank\">https://wandb.ai/andberg9-self/AST_Sweeps/runs/lp5u0ifl</a>"
      ],
      "text/plain": [
       "<IPython.core.display.HTML object>"
      ]
     },
     "metadata": {},
     "output_type": "display_data"
    },
    {
     "name": "stdout",
     "output_type": "stream",
     "text": [
      "ASTForAudioClassification(\n",
      "  (audio_spectrogram_transformer): ASTModel(\n",
      "    (embeddings): ASTEmbeddings(\n",
      "      (patch_embeddings): ASTPatchEmbeddings(\n",
      "        (projection): Conv2d(1, 768, kernel_size=(16, 16), stride=(10, 10))\n",
      "      )\n",
      "      (dropout): Dropout(p=0.0, inplace=False)\n",
      "    )\n",
      "    (encoder): ASTEncoder(\n",
      "      (layer): ModuleList(\n",
      "        (0-11): 12 x ASTLayer(\n",
      "          (attention): ASTSdpaAttention(\n",
      "            (attention): ASTSdpaSelfAttention(\n",
      "              (query): Linear(in_features=768, out_features=768, bias=True)\n",
      "              (key): Linear(in_features=768, out_features=768, bias=True)\n",
      "              (value): Linear(in_features=768, out_features=768, bias=True)\n",
      "              (dropout): Dropout(p=0.0, inplace=False)\n",
      "            )\n",
      "            (output): ASTSelfOutput(\n",
      "              (dense): Linear(in_features=768, out_features=768, bias=True)\n",
      "              (dropout): Dropout(p=0.0, inplace=False)\n",
      "            )\n",
      "          )\n",
      "          (intermediate): ASTIntermediate(\n",
      "            (dense): Linear(in_features=768, out_features=3072, bias=True)\n",
      "            (intermediate_act_fn): GELUActivation()\n",
      "          )\n",
      "          (output): ASTOutput(\n",
      "            (dense): Linear(in_features=3072, out_features=768, bias=True)\n",
      "            (dropout): Dropout(p=0.0, inplace=False)\n",
      "          )\n",
      "          (layernorm_before): LayerNorm((768,), eps=1e-12, elementwise_affine=True)\n",
      "          (layernorm_after): LayerNorm((768,), eps=1e-12, elementwise_affine=True)\n",
      "        )\n",
      "      )\n",
      "    )\n",
      "    (layernorm): LayerNorm((768,), eps=1e-12, elementwise_affine=True)\n",
      "  )\n",
      "  (classifier): ASTMLPHead(\n",
      "    (layernorm): LayerNorm((768,), eps=1e-12, elementwise_affine=True)\n",
      "    (dense): Linear(in_features=768, out_features=9, bias=True)\n",
      "  )\n",
      ")\n"
     ]
    },
    {
     "data": {
      "application/vnd.jupyter.widget-view+json": {
       "model_id": "5765d44fbfe347b1aac179bda5bcb275",
       "version_major": 2,
       "version_minor": 0
      },
      "text/plain": [
       "  0%|          | 0/7 [00:00<?, ?it/s]"
      ]
     },
     "metadata": {},
     "output_type": "display_data"
    },
    {
     "name": "stdout",
     "output_type": "stream",
     "text": [
      "Epoch 1/7 | Train Loss: 1.8033 | Train Acc: 0.4000 | Train F1: 0.3927 | Test Loss: 1.4248 | Test Acc: 0.6467 | Test F1: 0.6262\n",
      "Epoch 2/7 | Train Loss: 1.2104 | Train Acc: 0.7389 | Train F1: 0.7280 | Test Loss: 1.0595 | Test Acc: 0.7935 | Test F1: 0.7879\n",
      "Epoch 3/7 | Train Loss: 0.9404 | Train Acc: 0.8153 | Train F1: 0.8110 | Test Loss: 0.8864 | Test Acc: 0.8315 | Test F1: 0.8396\n",
      "Epoch 4/7 | Train Loss: 0.8082 | Train Acc: 0.8556 | Train F1: 0.8537 | Test Loss: 0.7880 | Test Acc: 0.8696 | Test F1: 0.8618\n",
      "Epoch 5/7 | Train Loss: 0.7447 | Train Acc: 0.8736 | Train F1: 0.8729 | Test Loss: 0.7624 | Test Acc: 0.8750 | Test F1: 0.8744\n",
      "Epoch 6/7 | Train Loss: 0.7251 | Train Acc: 0.8764 | Train F1: 0.8757 | Test Loss: 0.7655 | Test Acc: 0.8750 | Test F1: 0.8744\n",
      "Epoch 7/7 | Train Loss: 0.7251 | Train Acc: 0.8764 | Train F1: 0.8757 | Test Loss: 0.7544 | Test Acc: 0.8804 | Test F1: 0.8744\n",
      "Train time on cuda: 331.7432413000006\n",
      "Inference Loss: 0.7252, Accuracy: 87.64%\n"
     ]
    },
    {
     "data": {
      "application/vnd.jupyter.widget-view+json": {
       "model_id": "7db8209889ee407ead27c34745913f2e",
       "version_major": 2,
       "version_minor": 0
      },
      "text/plain": [
       "VBox(children=(Label(value='0.008 MB of 0.008 MB uploaded\\r'), FloatProgress(value=1.0, max=1.0)))"
      ]
     },
     "metadata": {},
     "output_type": "display_data"
    },
    {
     "data": {
      "text/html": [
       "<style>\n",
       "    table.wandb td:nth-child(1) { padding: 0 10px; text-align: left ; width: auto;} td:nth-child(2) {text-align: left ; width: 100%}\n",
       "    .wandb-row { display: flex; flex-direction: row; flex-wrap: wrap; justify-content: flex-start; width: 100% }\n",
       "    .wandb-col { display: flex; flex-direction: column; flex-basis: 100%; flex: 1; padding: 10px; }\n",
       "    </style>\n",
       "<div class=\"wandb-row\"><div class=\"wandb-col\"><h3>Run history:</h3><br/><table class=\"wandb\"><tr><td>epoch</td><td>▁▂▃▅▆▇█</td></tr><tr><td>inference_accuracy</td><td>▁</td></tr><tr><td>inference_loss</td><td>▁</td></tr><tr><td>test_acc</td><td>▁▅▇████</td></tr><tr><td>test_f1</td><td>▁▆▇████</td></tr><tr><td>test_loss</td><td>█▄▂▁▁▁▁</td></tr><tr><td>test_precision</td><td>▁▆▇████</td></tr><tr><td>test_recall</td><td>▁▅▇████</td></tr><tr><td>train_acc</td><td>▁▆▇████</td></tr><tr><td>train_f1</td><td>▁▆▇████</td></tr><tr><td>train_loss</td><td>█▄▂▂▁▁▁</td></tr><tr><td>train_precision</td><td>▁▆▇████</td></tr><tr><td>train_recall</td><td>▁▆▇████</td></tr></table><br/></div><div class=\"wandb-col\"><h3>Run summary:</h3><br/><table class=\"wandb\"><tr><td>epoch</td><td>7</td></tr><tr><td>inference_accuracy</td><td>0.87639</td></tr><tr><td>inference_loss</td><td>0.72516</td></tr><tr><td>test_acc</td><td>0.88043</td></tr><tr><td>test_f1</td><td>0.87437</td></tr><tr><td>test_loss</td><td>0.75442</td></tr><tr><td>test_precision</td><td>0.8856</td></tr><tr><td>test_recall</td><td>0.87778</td></tr><tr><td>train_acc</td><td>0.87639</td></tr><tr><td>train_f1</td><td>0.87571</td></tr><tr><td>train_loss</td><td>0.72511</td></tr><tr><td>train_precision</td><td>0.87758</td></tr><tr><td>train_recall</td><td>0.87639</td></tr><tr><td>train_time</td><td>00:05:31</td></tr></table><br/></div></div>"
      ],
      "text/plain": [
       "<IPython.core.display.HTML object>"
      ]
     },
     "metadata": {},
     "output_type": "display_data"
    },
    {
     "data": {
      "text/html": [
       " View run <strong style=\"color:#cdcd00\">lyric-sweep-30</strong> at: <a href='https://wandb.ai/andberg9-self/AST_Sweeps/runs/lp5u0ifl' target=\"_blank\">https://wandb.ai/andberg9-self/AST_Sweeps/runs/lp5u0ifl</a><br/> View project at: <a href='https://wandb.ai/andberg9-self/AST_Sweeps' target=\"_blank\">https://wandb.ai/andberg9-self/AST_Sweeps</a><br/>Synced 5 W&B file(s), 0 media file(s), 0 artifact file(s) and 0 other file(s)"
      ],
      "text/plain": [
       "<IPython.core.display.HTML object>"
      ]
     },
     "metadata": {},
     "output_type": "display_data"
    },
    {
     "data": {
      "text/html": [
       "Find logs at: <code>.\\wandb\\run-20240925_134157-lp5u0ifl\\logs</code>"
      ],
      "text/plain": [
       "<IPython.core.display.HTML object>"
      ]
     },
     "metadata": {},
     "output_type": "display_data"
    },
    {
     "name": "stderr",
     "output_type": "stream",
     "text": [
      "wandb: Agent Starting Run: 86bjdskb with config:\n",
      "wandb: \tbatch_size: 16\n",
      "wandb: \tepochs: 7\n",
      "wandb: \tlearning_rate: 0.0003806441092449888\n",
      "wandb: \toptimizer: adamW\n",
      "wandb: \tscheduler: PolynomialLR\n"
     ]
    },
    {
     "data": {
      "text/html": [
       "Tracking run with wandb version 0.18.1"
      ],
      "text/plain": [
       "<IPython.core.display.HTML object>"
      ]
     },
     "metadata": {},
     "output_type": "display_data"
    },
    {
     "data": {
      "text/html": [
       "Run data is saved locally in <code>c:\\Users\\Sidewinders\\Research_notebooks\\Drone_classification\\Research\\notebooks\\wandb\\run-20240925_134751-86bjdskb</code>"
      ],
      "text/plain": [
       "<IPython.core.display.HTML object>"
      ]
     },
     "metadata": {},
     "output_type": "display_data"
    },
    {
     "data": {
      "text/html": [
       "Syncing run <strong><a href='https://wandb.ai/andberg9-self/AST_Sweeps/runs/86bjdskb' target=\"_blank\">avid-sweep-31</a></strong> to <a href='https://wandb.ai/andberg9-self/AST_Sweeps' target=\"_blank\">Weights & Biases</a> (<a href='https://wandb.me/run' target=\"_blank\">docs</a>)<br/>Sweep page: <a href='https://wandb.ai/andberg9-self/AST_Sweeps/sweeps/ange3go8' target=\"_blank\">https://wandb.ai/andberg9-self/AST_Sweeps/sweeps/ange3go8</a>"
      ],
      "text/plain": [
       "<IPython.core.display.HTML object>"
      ]
     },
     "metadata": {},
     "output_type": "display_data"
    },
    {
     "data": {
      "text/html": [
       " View project at <a href='https://wandb.ai/andberg9-self/AST_Sweeps' target=\"_blank\">https://wandb.ai/andberg9-self/AST_Sweeps</a>"
      ],
      "text/plain": [
       "<IPython.core.display.HTML object>"
      ]
     },
     "metadata": {},
     "output_type": "display_data"
    },
    {
     "data": {
      "text/html": [
       " View sweep at <a href='https://wandb.ai/andberg9-self/AST_Sweeps/sweeps/ange3go8' target=\"_blank\">https://wandb.ai/andberg9-self/AST_Sweeps/sweeps/ange3go8</a>"
      ],
      "text/plain": [
       "<IPython.core.display.HTML object>"
      ]
     },
     "metadata": {},
     "output_type": "display_data"
    },
    {
     "data": {
      "text/html": [
       " View run at <a href='https://wandb.ai/andberg9-self/AST_Sweeps/runs/86bjdskb' target=\"_blank\">https://wandb.ai/andberg9-self/AST_Sweeps/runs/86bjdskb</a>"
      ],
      "text/plain": [
       "<IPython.core.display.HTML object>"
      ]
     },
     "metadata": {},
     "output_type": "display_data"
    },
    {
     "name": "stdout",
     "output_type": "stream",
     "text": [
      "ASTForAudioClassification(\n",
      "  (audio_spectrogram_transformer): ASTModel(\n",
      "    (embeddings): ASTEmbeddings(\n",
      "      (patch_embeddings): ASTPatchEmbeddings(\n",
      "        (projection): Conv2d(1, 768, kernel_size=(16, 16), stride=(10, 10))\n",
      "      )\n",
      "      (dropout): Dropout(p=0.0, inplace=False)\n",
      "    )\n",
      "    (encoder): ASTEncoder(\n",
      "      (layer): ModuleList(\n",
      "        (0-11): 12 x ASTLayer(\n",
      "          (attention): ASTSdpaAttention(\n",
      "            (attention): ASTSdpaSelfAttention(\n",
      "              (query): Linear(in_features=768, out_features=768, bias=True)\n",
      "              (key): Linear(in_features=768, out_features=768, bias=True)\n",
      "              (value): Linear(in_features=768, out_features=768, bias=True)\n",
      "              (dropout): Dropout(p=0.0, inplace=False)\n",
      "            )\n",
      "            (output): ASTSelfOutput(\n",
      "              (dense): Linear(in_features=768, out_features=768, bias=True)\n",
      "              (dropout): Dropout(p=0.0, inplace=False)\n",
      "            )\n",
      "          )\n",
      "          (intermediate): ASTIntermediate(\n",
      "            (dense): Linear(in_features=768, out_features=3072, bias=True)\n",
      "            (intermediate_act_fn): GELUActivation()\n",
      "          )\n",
      "          (output): ASTOutput(\n",
      "            (dense): Linear(in_features=3072, out_features=768, bias=True)\n",
      "            (dropout): Dropout(p=0.0, inplace=False)\n",
      "          )\n",
      "          (layernorm_before): LayerNorm((768,), eps=1e-12, elementwise_affine=True)\n",
      "          (layernorm_after): LayerNorm((768,), eps=1e-12, elementwise_affine=True)\n",
      "        )\n",
      "      )\n",
      "    )\n",
      "    (layernorm): LayerNorm((768,), eps=1e-12, elementwise_affine=True)\n",
      "  )\n",
      "  (classifier): ASTMLPHead(\n",
      "    (layernorm): LayerNorm((768,), eps=1e-12, elementwise_affine=True)\n",
      "    (dense): Linear(in_features=768, out_features=9, bias=True)\n",
      "  )\n",
      ")\n"
     ]
    },
    {
     "data": {
      "application/vnd.jupyter.widget-view+json": {
       "model_id": "778f6e1c3dd94f30910581eb3550236f",
       "version_major": 2,
       "version_minor": 0
      },
      "text/plain": [
       "  0%|          | 0/7 [00:00<?, ?it/s]"
      ]
     },
     "metadata": {},
     "output_type": "display_data"
    },
    {
     "name": "stdout",
     "output_type": "stream",
     "text": [
      "Epoch 1/7 | Train Loss: 1.8102 | Train Acc: 0.4375 | Train F1: 0.4391 | Test Loss: 1.4554 | Test Acc: 0.6927 | Test F1: 0.6651\n",
      "Epoch 2/7 | Train Loss: 1.2689 | Train Acc: 0.7806 | Train F1: 0.7783 | Test Loss: 1.1384 | Test Acc: 0.8177 | Test F1: 0.7995\n",
      "Epoch 3/7 | Train Loss: 0.9864 | Train Acc: 0.8347 | Train F1: 0.8320 | Test Loss: 0.9390 | Test Acc: 0.8802 | Test F1: 0.8687\n",
      "Epoch 4/7 | Train Loss: 0.8517 | Train Acc: 0.8514 | Train F1: 0.8492 | Test Loss: 0.8236 | Test Acc: 0.8802 | Test F1: 0.8703\n",
      "Epoch 5/7 | Train Loss: 0.7868 | Train Acc: 0.8597 | Train F1: 0.8578 | Test Loss: 0.8093 | Test Acc: 0.8906 | Test F1: 0.8818\n",
      "Epoch 6/7 | Train Loss: 0.7654 | Train Acc: 0.8653 | Train F1: 0.8635 | Test Loss: 0.8008 | Test Acc: 0.8906 | Test F1: 0.8818\n",
      "Epoch 7/7 | Train Loss: 0.7654 | Train Acc: 0.8653 | Train F1: 0.8635 | Test Loss: 0.7936 | Test Acc: 0.8906 | Test F1: 0.8818\n",
      "Train time on cuda: 333.7196452999997\n",
      "Inference Loss: 0.7656, Accuracy: 86.53%\n"
     ]
    },
    {
     "data": {
      "application/vnd.jupyter.widget-view+json": {
       "model_id": "c4cc632855b640c39a7c6b5b899ef3ae",
       "version_major": 2,
       "version_minor": 0
      },
      "text/plain": [
       "VBox(children=(Label(value='0.008 MB of 0.008 MB uploaded\\r'), FloatProgress(value=1.0, max=1.0)))"
      ]
     },
     "metadata": {},
     "output_type": "display_data"
    },
    {
     "data": {
      "text/html": [
       "<style>\n",
       "    table.wandb td:nth-child(1) { padding: 0 10px; text-align: left ; width: auto;} td:nth-child(2) {text-align: left ; width: 100%}\n",
       "    .wandb-row { display: flex; flex-direction: row; flex-wrap: wrap; justify-content: flex-start; width: 100% }\n",
       "    .wandb-col { display: flex; flex-direction: column; flex-basis: 100%; flex: 1; padding: 10px; }\n",
       "    </style>\n",
       "<div class=\"wandb-row\"><div class=\"wandb-col\"><h3>Run history:</h3><br/><table class=\"wandb\"><tr><td>epoch</td><td>▁▂▃▅▆▇█</td></tr><tr><td>inference_accuracy</td><td>▁</td></tr><tr><td>inference_loss</td><td>▁</td></tr><tr><td>test_acc</td><td>▁▅█████</td></tr><tr><td>test_f1</td><td>▁▅█████</td></tr><tr><td>test_loss</td><td>█▅▃▁▁▁▁</td></tr><tr><td>test_precision</td><td>▁▆█████</td></tr><tr><td>test_recall</td><td>▁▅█████</td></tr><tr><td>train_acc</td><td>▁▇█████</td></tr><tr><td>train_f1</td><td>▁▇▇████</td></tr><tr><td>train_loss</td><td>█▄▂▂▁▁▁</td></tr><tr><td>train_precision</td><td>▁▆▇████</td></tr><tr><td>train_recall</td><td>▁▇▇████</td></tr></table><br/></div><div class=\"wandb-col\"><h3>Run summary:</h3><br/><table class=\"wandb\"><tr><td>epoch</td><td>7</td></tr><tr><td>inference_accuracy</td><td>0.86528</td></tr><tr><td>inference_loss</td><td>0.76555</td></tr><tr><td>test_acc</td><td>0.89062</td></tr><tr><td>test_f1</td><td>0.88177</td></tr><tr><td>test_loss</td><td>0.79361</td></tr><tr><td>test_precision</td><td>0.89608</td></tr><tr><td>test_recall</td><td>0.88333</td></tr><tr><td>train_acc</td><td>0.86528</td></tr><tr><td>train_f1</td><td>0.86348</td></tr><tr><td>train_loss</td><td>0.76545</td></tr><tr><td>train_precision</td><td>0.86747</td></tr><tr><td>train_recall</td><td>0.86528</td></tr><tr><td>train_time</td><td>00:05:33</td></tr></table><br/></div></div>"
      ],
      "text/plain": [
       "<IPython.core.display.HTML object>"
      ]
     },
     "metadata": {},
     "output_type": "display_data"
    },
    {
     "data": {
      "text/html": [
       " View run <strong style=\"color:#cdcd00\">avid-sweep-31</strong> at: <a href='https://wandb.ai/andberg9-self/AST_Sweeps/runs/86bjdskb' target=\"_blank\">https://wandb.ai/andberg9-self/AST_Sweeps/runs/86bjdskb</a><br/> View project at: <a href='https://wandb.ai/andberg9-self/AST_Sweeps' target=\"_blank\">https://wandb.ai/andberg9-self/AST_Sweeps</a><br/>Synced 5 W&B file(s), 0 media file(s), 0 artifact file(s) and 0 other file(s)"
      ],
      "text/plain": [
       "<IPython.core.display.HTML object>"
      ]
     },
     "metadata": {},
     "output_type": "display_data"
    },
    {
     "data": {
      "text/html": [
       "Find logs at: <code>.\\wandb\\run-20240925_134751-86bjdskb\\logs</code>"
      ],
      "text/plain": [
       "<IPython.core.display.HTML object>"
      ]
     },
     "metadata": {},
     "output_type": "display_data"
    },
    {
     "name": "stderr",
     "output_type": "stream",
     "text": [
      "wandb: Agent Starting Run: mde64h4x with config:\n",
      "wandb: \tbatch_size: 16\n",
      "wandb: \tepochs: 7\n",
      "wandb: \tlearning_rate: 0.0007553294626151508\n",
      "wandb: \toptimizer: adamW\n",
      "wandb: \tscheduler: PolynomialLR\n"
     ]
    },
    {
     "data": {
      "text/html": [
       "Tracking run with wandb version 0.18.1"
      ],
      "text/plain": [
       "<IPython.core.display.HTML object>"
      ]
     },
     "metadata": {},
     "output_type": "display_data"
    },
    {
     "data": {
      "text/html": [
       "Run data is saved locally in <code>c:\\Users\\Sidewinders\\Research_notebooks\\Drone_classification\\Research\\notebooks\\wandb\\run-20240925_135347-mde64h4x</code>"
      ],
      "text/plain": [
       "<IPython.core.display.HTML object>"
      ]
     },
     "metadata": {},
     "output_type": "display_data"
    },
    {
     "data": {
      "text/html": [
       "Syncing run <strong><a href='https://wandb.ai/andberg9-self/AST_Sweeps/runs/mde64h4x' target=\"_blank\">different-sweep-32</a></strong> to <a href='https://wandb.ai/andberg9-self/AST_Sweeps' target=\"_blank\">Weights & Biases</a> (<a href='https://wandb.me/run' target=\"_blank\">docs</a>)<br/>Sweep page: <a href='https://wandb.ai/andberg9-self/AST_Sweeps/sweeps/ange3go8' target=\"_blank\">https://wandb.ai/andberg9-self/AST_Sweeps/sweeps/ange3go8</a>"
      ],
      "text/plain": [
       "<IPython.core.display.HTML object>"
      ]
     },
     "metadata": {},
     "output_type": "display_data"
    },
    {
     "data": {
      "text/html": [
       " View project at <a href='https://wandb.ai/andberg9-self/AST_Sweeps' target=\"_blank\">https://wandb.ai/andberg9-self/AST_Sweeps</a>"
      ],
      "text/plain": [
       "<IPython.core.display.HTML object>"
      ]
     },
     "metadata": {},
     "output_type": "display_data"
    },
    {
     "data": {
      "text/html": [
       " View sweep at <a href='https://wandb.ai/andberg9-self/AST_Sweeps/sweeps/ange3go8' target=\"_blank\">https://wandb.ai/andberg9-self/AST_Sweeps/sweeps/ange3go8</a>"
      ],
      "text/plain": [
       "<IPython.core.display.HTML object>"
      ]
     },
     "metadata": {},
     "output_type": "display_data"
    },
    {
     "data": {
      "text/html": [
       " View run at <a href='https://wandb.ai/andberg9-self/AST_Sweeps/runs/mde64h4x' target=\"_blank\">https://wandb.ai/andberg9-self/AST_Sweeps/runs/mde64h4x</a>"
      ],
      "text/plain": [
       "<IPython.core.display.HTML object>"
      ]
     },
     "metadata": {},
     "output_type": "display_data"
    },
    {
     "name": "stdout",
     "output_type": "stream",
     "text": [
      "ASTForAudioClassification(\n",
      "  (audio_spectrogram_transformer): ASTModel(\n",
      "    (embeddings): ASTEmbeddings(\n",
      "      (patch_embeddings): ASTPatchEmbeddings(\n",
      "        (projection): Conv2d(1, 768, kernel_size=(16, 16), stride=(10, 10))\n",
      "      )\n",
      "      (dropout): Dropout(p=0.0, inplace=False)\n",
      "    )\n",
      "    (encoder): ASTEncoder(\n",
      "      (layer): ModuleList(\n",
      "        (0-11): 12 x ASTLayer(\n",
      "          (attention): ASTSdpaAttention(\n",
      "            (attention): ASTSdpaSelfAttention(\n",
      "              (query): Linear(in_features=768, out_features=768, bias=True)\n",
      "              (key): Linear(in_features=768, out_features=768, bias=True)\n",
      "              (value): Linear(in_features=768, out_features=768, bias=True)\n",
      "              (dropout): Dropout(p=0.0, inplace=False)\n",
      "            )\n",
      "            (output): ASTSelfOutput(\n",
      "              (dense): Linear(in_features=768, out_features=768, bias=True)\n",
      "              (dropout): Dropout(p=0.0, inplace=False)\n",
      "            )\n",
      "          )\n",
      "          (intermediate): ASTIntermediate(\n",
      "            (dense): Linear(in_features=768, out_features=3072, bias=True)\n",
      "            (intermediate_act_fn): GELUActivation()\n",
      "          )\n",
      "          (output): ASTOutput(\n",
      "            (dense): Linear(in_features=3072, out_features=768, bias=True)\n",
      "            (dropout): Dropout(p=0.0, inplace=False)\n",
      "          )\n",
      "          (layernorm_before): LayerNorm((768,), eps=1e-12, elementwise_affine=True)\n",
      "          (layernorm_after): LayerNorm((768,), eps=1e-12, elementwise_affine=True)\n",
      "        )\n",
      "      )\n",
      "    )\n",
      "    (layernorm): LayerNorm((768,), eps=1e-12, elementwise_affine=True)\n",
      "  )\n",
      "  (classifier): ASTMLPHead(\n",
      "    (layernorm): LayerNorm((768,), eps=1e-12, elementwise_affine=True)\n",
      "    (dense): Linear(in_features=768, out_features=9, bias=True)\n",
      "  )\n",
      ")\n"
     ]
    },
    {
     "data": {
      "application/vnd.jupyter.widget-view+json": {
       "model_id": "453efd895e594b08a7ec883ac76a16f1",
       "version_major": 2,
       "version_minor": 0
      },
      "text/plain": [
       "  0%|          | 0/7 [00:00<?, ?it/s]"
      ]
     },
     "metadata": {},
     "output_type": "display_data"
    },
    {
     "name": "stdout",
     "output_type": "stream",
     "text": [
      "Epoch 1/7 | Train Loss: 1.6814 | Train Acc: 0.5139 | Train F1: 0.5077 | Test Loss: 1.1396 | Test Acc: 0.8021 | Test F1: 0.8037\n",
      "Epoch 2/7 | Train Loss: 0.8722 | Train Acc: 0.8319 | Train F1: 0.8293 | Test Loss: 0.6983 | Test Acc: 0.8698 | Test F1: 0.8611\n",
      "Epoch 3/7 | Train Loss: 0.6170 | Train Acc: 0.8875 | Train F1: 0.8880 | Test Loss: 0.5718 | Test Acc: 0.9167 | Test F1: 0.9086\n",
      "Epoch 4/7 | Train Loss: 0.5156 | Train Acc: 0.9000 | Train F1: 0.9009 | Test Loss: 0.4859 | Test Acc: 0.9375 | Test F1: 0.9337\n",
      "Epoch 5/7 | Train Loss: 0.4723 | Train Acc: 0.9069 | Train F1: 0.9075 | Test Loss: 0.4771 | Test Acc: 0.9167 | Test F1: 0.9282\n",
      "Epoch 6/7 | Train Loss: 0.4583 | Train Acc: 0.9083 | Train F1: 0.9091 | Test Loss: 0.4752 | Test Acc: 0.9167 | Test F1: 0.9282\n",
      "Epoch 7/7 | Train Loss: 0.4583 | Train Acc: 0.9083 | Train F1: 0.9091 | Test Loss: 0.4772 | Test Acc: 0.9167 | Test F1: 0.9282\n",
      "Train time on cuda: 333.2308519999988\n",
      "Inference Loss: 0.4584, Accuracy: 90.83%\n"
     ]
    },
    {
     "data": {
      "application/vnd.jupyter.widget-view+json": {
       "model_id": "48e1a48e2d3e45d4a6e85c756a502023",
       "version_major": 2,
       "version_minor": 0
      },
      "text/plain": [
       "VBox(children=(Label(value='0.008 MB of 0.008 MB uploaded\\r'), FloatProgress(value=1.0, max=1.0)))"
      ]
     },
     "metadata": {},
     "output_type": "display_data"
    },
    {
     "data": {
      "text/html": [
       "<style>\n",
       "    table.wandb td:nth-child(1) { padding: 0 10px; text-align: left ; width: auto;} td:nth-child(2) {text-align: left ; width: 100%}\n",
       "    .wandb-row { display: flex; flex-direction: row; flex-wrap: wrap; justify-content: flex-start; width: 100% }\n",
       "    .wandb-col { display: flex; flex-direction: column; flex-basis: 100%; flex: 1; padding: 10px; }\n",
       "    </style>\n",
       "<div class=\"wandb-row\"><div class=\"wandb-col\"><h3>Run history:</h3><br/><table class=\"wandb\"><tr><td>epoch</td><td>▁▂▃▅▆▇█</td></tr><tr><td>inference_accuracy</td><td>▁</td></tr><tr><td>inference_loss</td><td>▁</td></tr><tr><td>test_acc</td><td>▁▅▇█▇▇▇</td></tr><tr><td>test_f1</td><td>▁▄▇████</td></tr><tr><td>test_loss</td><td>█▃▂▁▁▁▁</td></tr><tr><td>test_precision</td><td>▁▄▇████</td></tr><tr><td>test_recall</td><td>▁▄▇████</td></tr><tr><td>train_acc</td><td>▁▇█████</td></tr><tr><td>train_f1</td><td>▁▇█████</td></tr><tr><td>train_loss</td><td>█▃▂▁▁▁▁</td></tr><tr><td>train_precision</td><td>▁▇█████</td></tr><tr><td>train_recall</td><td>▁▇█████</td></tr></table><br/></div><div class=\"wandb-col\"><h3>Run summary:</h3><br/><table class=\"wandb\"><tr><td>epoch</td><td>7</td></tr><tr><td>inference_accuracy</td><td>0.90833</td></tr><tr><td>inference_loss</td><td>0.45839</td></tr><tr><td>test_acc</td><td>0.91667</td></tr><tr><td>test_f1</td><td>0.92817</td></tr><tr><td>test_loss</td><td>0.4772</td></tr><tr><td>test_precision</td><td>0.93495</td></tr><tr><td>test_recall</td><td>0.92778</td></tr><tr><td>train_acc</td><td>0.90833</td></tr><tr><td>train_f1</td><td>0.90908</td></tr><tr><td>train_loss</td><td>0.45834</td></tr><tr><td>train_precision</td><td>0.91139</td></tr><tr><td>train_recall</td><td>0.90833</td></tr><tr><td>train_time</td><td>00:05:33</td></tr></table><br/></div></div>"
      ],
      "text/plain": [
       "<IPython.core.display.HTML object>"
      ]
     },
     "metadata": {},
     "output_type": "display_data"
    },
    {
     "data": {
      "text/html": [
       " View run <strong style=\"color:#cdcd00\">different-sweep-32</strong> at: <a href='https://wandb.ai/andberg9-self/AST_Sweeps/runs/mde64h4x' target=\"_blank\">https://wandb.ai/andberg9-self/AST_Sweeps/runs/mde64h4x</a><br/> View project at: <a href='https://wandb.ai/andberg9-self/AST_Sweeps' target=\"_blank\">https://wandb.ai/andberg9-self/AST_Sweeps</a><br/>Synced 5 W&B file(s), 0 media file(s), 0 artifact file(s) and 0 other file(s)"
      ],
      "text/plain": [
       "<IPython.core.display.HTML object>"
      ]
     },
     "metadata": {},
     "output_type": "display_data"
    },
    {
     "data": {
      "text/html": [
       "Find logs at: <code>.\\wandb\\run-20240925_135347-mde64h4x\\logs</code>"
      ],
      "text/plain": [
       "<IPython.core.display.HTML object>"
      ]
     },
     "metadata": {},
     "output_type": "display_data"
    },
    {
     "name": "stderr",
     "output_type": "stream",
     "text": [
      "wandb: Sweep Agent: Waiting for job.\n",
      "wandb: Job received.\n",
      "wandb: Agent Starting Run: 4z1gutb4 with config:\n",
      "wandb: \tbatch_size: 8\n",
      "wandb: \tepochs: 7\n",
      "wandb: \tlearning_rate: 0.0006291835205152368\n",
      "wandb: \toptimizer: adamW\n",
      "wandb: \tscheduler: PolynomialLR\n"
     ]
    },
    {
     "data": {
      "text/html": [
       "Tracking run with wandb version 0.18.1"
      ],
      "text/plain": [
       "<IPython.core.display.HTML object>"
      ]
     },
     "metadata": {},
     "output_type": "display_data"
    },
    {
     "data": {
      "text/html": [
       "Run data is saved locally in <code>c:\\Users\\Sidewinders\\Research_notebooks\\Drone_classification\\Research\\notebooks\\wandb\\run-20240925_135951-4z1gutb4</code>"
      ],
      "text/plain": [
       "<IPython.core.display.HTML object>"
      ]
     },
     "metadata": {},
     "output_type": "display_data"
    },
    {
     "data": {
      "text/html": [
       "Syncing run <strong><a href='https://wandb.ai/andberg9-self/AST_Sweeps/runs/4z1gutb4' target=\"_blank\">elated-sweep-33</a></strong> to <a href='https://wandb.ai/andberg9-self/AST_Sweeps' target=\"_blank\">Weights & Biases</a> (<a href='https://wandb.me/run' target=\"_blank\">docs</a>)<br/>Sweep page: <a href='https://wandb.ai/andberg9-self/AST_Sweeps/sweeps/ange3go8' target=\"_blank\">https://wandb.ai/andberg9-self/AST_Sweeps/sweeps/ange3go8</a>"
      ],
      "text/plain": [
       "<IPython.core.display.HTML object>"
      ]
     },
     "metadata": {},
     "output_type": "display_data"
    },
    {
     "data": {
      "text/html": [
       " View project at <a href='https://wandb.ai/andberg9-self/AST_Sweeps' target=\"_blank\">https://wandb.ai/andberg9-self/AST_Sweeps</a>"
      ],
      "text/plain": [
       "<IPython.core.display.HTML object>"
      ]
     },
     "metadata": {},
     "output_type": "display_data"
    },
    {
     "data": {
      "text/html": [
       " View sweep at <a href='https://wandb.ai/andberg9-self/AST_Sweeps/sweeps/ange3go8' target=\"_blank\">https://wandb.ai/andberg9-self/AST_Sweeps/sweeps/ange3go8</a>"
      ],
      "text/plain": [
       "<IPython.core.display.HTML object>"
      ]
     },
     "metadata": {},
     "output_type": "display_data"
    },
    {
     "data": {
      "text/html": [
       " View run at <a href='https://wandb.ai/andberg9-self/AST_Sweeps/runs/4z1gutb4' target=\"_blank\">https://wandb.ai/andberg9-self/AST_Sweeps/runs/4z1gutb4</a>"
      ],
      "text/plain": [
       "<IPython.core.display.HTML object>"
      ]
     },
     "metadata": {},
     "output_type": "display_data"
    },
    {
     "name": "stdout",
     "output_type": "stream",
     "text": [
      "ASTForAudioClassification(\n",
      "  (audio_spectrogram_transformer): ASTModel(\n",
      "    (embeddings): ASTEmbeddings(\n",
      "      (patch_embeddings): ASTPatchEmbeddings(\n",
      "        (projection): Conv2d(1, 768, kernel_size=(16, 16), stride=(10, 10))\n",
      "      )\n",
      "      (dropout): Dropout(p=0.0, inplace=False)\n",
      "    )\n",
      "    (encoder): ASTEncoder(\n",
      "      (layer): ModuleList(\n",
      "        (0-11): 12 x ASTLayer(\n",
      "          (attention): ASTSdpaAttention(\n",
      "            (attention): ASTSdpaSelfAttention(\n",
      "              (query): Linear(in_features=768, out_features=768, bias=True)\n",
      "              (key): Linear(in_features=768, out_features=768, bias=True)\n",
      "              (value): Linear(in_features=768, out_features=768, bias=True)\n",
      "              (dropout): Dropout(p=0.0, inplace=False)\n",
      "            )\n",
      "            (output): ASTSelfOutput(\n",
      "              (dense): Linear(in_features=768, out_features=768, bias=True)\n",
      "              (dropout): Dropout(p=0.0, inplace=False)\n",
      "            )\n",
      "          )\n",
      "          (intermediate): ASTIntermediate(\n",
      "            (dense): Linear(in_features=768, out_features=3072, bias=True)\n",
      "            (intermediate_act_fn): GELUActivation()\n",
      "          )\n",
      "          (output): ASTOutput(\n",
      "            (dense): Linear(in_features=3072, out_features=768, bias=True)\n",
      "            (dropout): Dropout(p=0.0, inplace=False)\n",
      "          )\n",
      "          (layernorm_before): LayerNorm((768,), eps=1e-12, elementwise_affine=True)\n",
      "          (layernorm_after): LayerNorm((768,), eps=1e-12, elementwise_affine=True)\n",
      "        )\n",
      "      )\n",
      "    )\n",
      "    (layernorm): LayerNorm((768,), eps=1e-12, elementwise_affine=True)\n",
      "  )\n",
      "  (classifier): ASTMLPHead(\n",
      "    (layernorm): LayerNorm((768,), eps=1e-12, elementwise_affine=True)\n",
      "    (dense): Linear(in_features=768, out_features=9, bias=True)\n",
      "  )\n",
      ")\n"
     ]
    },
    {
     "data": {
      "application/vnd.jupyter.widget-view+json": {
       "model_id": "5342acf0d4ef42fd9fce94d747a4543a",
       "version_major": 2,
       "version_minor": 0
      },
      "text/plain": [
       "  0%|          | 0/7 [00:00<?, ?it/s]"
      ]
     },
     "metadata": {},
     "output_type": "display_data"
    },
    {
     "name": "stdout",
     "output_type": "stream",
     "text": [
      "Epoch 1/7 | Train Loss: 1.6174 | Train Acc: 0.4889 | Train F1: 0.4847 | Test Loss: 0.9361 | Test Acc: 0.7717 | Test F1: 0.7538\n",
      "Epoch 2/7 | Train Loss: 0.7213 | Train Acc: 0.8500 | Train F1: 0.8464 | Test Loss: 0.5737 | Test Acc: 0.8804 | Test F1: 0.8759\n",
      "Epoch 3/7 | Train Loss: 0.5154 | Train Acc: 0.8764 | Train F1: 0.8744 | Test Loss: 0.4670 | Test Acc: 0.9022 | Test F1: 0.8999\n",
      "Epoch 4/7 | Train Loss: 0.4391 | Train Acc: 0.9083 | Train F1: 0.9085 | Test Loss: 0.4283 | Test Acc: 0.9076 | Test F1: 0.9017\n",
      "Epoch 5/7 | Train Loss: 0.4032 | Train Acc: 0.9222 | Train F1: 0.9229 | Test Loss: 0.4040 | Test Acc: 0.9293 | Test F1: 0.9285\n",
      "Epoch 6/7 | Train Loss: 0.3880 | Train Acc: 0.9278 | Train F1: 0.9284 | Test Loss: 0.4028 | Test Acc: 0.9239 | Test F1: 0.9285\n",
      "Epoch 7/7 | Train Loss: 0.3880 | Train Acc: 0.9278 | Train F1: 0.9284 | Test Loss: 0.4134 | Test Acc: 0.9239 | Test F1: 0.9285\n",
      "Train time on cuda: 331.3777563000003\n",
      "Inference Loss: 0.3880, Accuracy: 92.78%\n"
     ]
    },
    {
     "data": {
      "application/vnd.jupyter.widget-view+json": {
       "model_id": "5180d3d0c2bd46f88ab552e1220a26ca",
       "version_major": 2,
       "version_minor": 0
      },
      "text/plain": [
       "VBox(children=(Label(value='0.008 MB of 0.008 MB uploaded\\r'), FloatProgress(value=1.0, max=1.0)))"
      ]
     },
     "metadata": {},
     "output_type": "display_data"
    },
    {
     "data": {
      "text/html": [
       "<style>\n",
       "    table.wandb td:nth-child(1) { padding: 0 10px; text-align: left ; width: auto;} td:nth-child(2) {text-align: left ; width: 100%}\n",
       "    .wandb-row { display: flex; flex-direction: row; flex-wrap: wrap; justify-content: flex-start; width: 100% }\n",
       "    .wandb-col { display: flex; flex-direction: column; flex-basis: 100%; flex: 1; padding: 10px; }\n",
       "    </style>\n",
       "<div class=\"wandb-row\"><div class=\"wandb-col\"><h3>Run history:</h3><br/><table class=\"wandb\"><tr><td>epoch</td><td>▁▂▃▅▆▇█</td></tr><tr><td>inference_accuracy</td><td>▁</td></tr><tr><td>inference_loss</td><td>▁</td></tr><tr><td>test_acc</td><td>▁▆▇▇███</td></tr><tr><td>test_f1</td><td>▁▆▇▇███</td></tr><tr><td>test_loss</td><td>█▃▂▁▁▁▁</td></tr><tr><td>test_precision</td><td>▁▆▇▇███</td></tr><tr><td>test_recall</td><td>▁▆▇▇███</td></tr><tr><td>train_acc</td><td>▁▇▇████</td></tr><tr><td>train_f1</td><td>▁▇▇████</td></tr><tr><td>train_loss</td><td>█▃▂▁▁▁▁</td></tr><tr><td>train_precision</td><td>▁▇▇████</td></tr><tr><td>train_recall</td><td>▁▇▇████</td></tr></table><br/></div><div class=\"wandb-col\"><h3>Run summary:</h3><br/><table class=\"wandb\"><tr><td>epoch</td><td>7</td></tr><tr><td>inference_accuracy</td><td>0.92778</td></tr><tr><td>inference_loss</td><td>0.38804</td></tr><tr><td>test_acc</td><td>0.92391</td></tr><tr><td>test_f1</td><td>0.92849</td></tr><tr><td>test_loss</td><td>0.41343</td></tr><tr><td>test_precision</td><td>0.93513</td></tr><tr><td>test_recall</td><td>0.92778</td></tr><tr><td>train_acc</td><td>0.92778</td></tr><tr><td>train_f1</td><td>0.92844</td></tr><tr><td>train_loss</td><td>0.38801</td></tr><tr><td>train_precision</td><td>0.92976</td></tr><tr><td>train_recall</td><td>0.92778</td></tr><tr><td>train_time</td><td>00:05:31</td></tr></table><br/></div></div>"
      ],
      "text/plain": [
       "<IPython.core.display.HTML object>"
      ]
     },
     "metadata": {},
     "output_type": "display_data"
    },
    {
     "data": {
      "text/html": [
       " View run <strong style=\"color:#cdcd00\">elated-sweep-33</strong> at: <a href='https://wandb.ai/andberg9-self/AST_Sweeps/runs/4z1gutb4' target=\"_blank\">https://wandb.ai/andberg9-self/AST_Sweeps/runs/4z1gutb4</a><br/> View project at: <a href='https://wandb.ai/andberg9-self/AST_Sweeps' target=\"_blank\">https://wandb.ai/andberg9-self/AST_Sweeps</a><br/>Synced 5 W&B file(s), 0 media file(s), 0 artifact file(s) and 0 other file(s)"
      ],
      "text/plain": [
       "<IPython.core.display.HTML object>"
      ]
     },
     "metadata": {},
     "output_type": "display_data"
    },
    {
     "data": {
      "text/html": [
       "Find logs at: <code>.\\wandb\\run-20240925_135951-4z1gutb4\\logs</code>"
      ],
      "text/plain": [
       "<IPython.core.display.HTML object>"
      ]
     },
     "metadata": {},
     "output_type": "display_data"
    },
    {
     "name": "stderr",
     "output_type": "stream",
     "text": [
      "wandb: Sweep Agent: Waiting for job.\n",
      "wandb: Job received.\n",
      "wandb: Agent Starting Run: wikab3c1 with config:\n",
      "wandb: \tbatch_size: 32\n",
      "wandb: \tepochs: 7\n",
      "wandb: \tlearning_rate: 0.00019890562834047712\n",
      "wandb: \toptimizer: adamW\n",
      "wandb: \tscheduler: PolynomialLR\n"
     ]
    },
    {
     "data": {
      "text/html": [
       "Tracking run with wandb version 0.18.1"
      ],
      "text/plain": [
       "<IPython.core.display.HTML object>"
      ]
     },
     "metadata": {},
     "output_type": "display_data"
    },
    {
     "data": {
      "text/html": [
       "Run data is saved locally in <code>c:\\Users\\Sidewinders\\Research_notebooks\\Drone_classification\\Research\\notebooks\\wandb\\run-20240925_140553-wikab3c1</code>"
      ],
      "text/plain": [
       "<IPython.core.display.HTML object>"
      ]
     },
     "metadata": {},
     "output_type": "display_data"
    },
    {
     "data": {
      "text/html": [
       "Syncing run <strong><a href='https://wandb.ai/andberg9-self/AST_Sweeps/runs/wikab3c1' target=\"_blank\">generous-sweep-34</a></strong> to <a href='https://wandb.ai/andberg9-self/AST_Sweeps' target=\"_blank\">Weights & Biases</a> (<a href='https://wandb.me/run' target=\"_blank\">docs</a>)<br/>Sweep page: <a href='https://wandb.ai/andberg9-self/AST_Sweeps/sweeps/ange3go8' target=\"_blank\">https://wandb.ai/andberg9-self/AST_Sweeps/sweeps/ange3go8</a>"
      ],
      "text/plain": [
       "<IPython.core.display.HTML object>"
      ]
     },
     "metadata": {},
     "output_type": "display_data"
    },
    {
     "data": {
      "text/html": [
       " View project at <a href='https://wandb.ai/andberg9-self/AST_Sweeps' target=\"_blank\">https://wandb.ai/andberg9-self/AST_Sweeps</a>"
      ],
      "text/plain": [
       "<IPython.core.display.HTML object>"
      ]
     },
     "metadata": {},
     "output_type": "display_data"
    },
    {
     "data": {
      "text/html": [
       " View sweep at <a href='https://wandb.ai/andberg9-self/AST_Sweeps/sweeps/ange3go8' target=\"_blank\">https://wandb.ai/andberg9-self/AST_Sweeps/sweeps/ange3go8</a>"
      ],
      "text/plain": [
       "<IPython.core.display.HTML object>"
      ]
     },
     "metadata": {},
     "output_type": "display_data"
    },
    {
     "data": {
      "text/html": [
       " View run at <a href='https://wandb.ai/andberg9-self/AST_Sweeps/runs/wikab3c1' target=\"_blank\">https://wandb.ai/andberg9-self/AST_Sweeps/runs/wikab3c1</a>"
      ],
      "text/plain": [
       "<IPython.core.display.HTML object>"
      ]
     },
     "metadata": {},
     "output_type": "display_data"
    },
    {
     "name": "stdout",
     "output_type": "stream",
     "text": [
      "ASTForAudioClassification(\n",
      "  (audio_spectrogram_transformer): ASTModel(\n",
      "    (embeddings): ASTEmbeddings(\n",
      "      (patch_embeddings): ASTPatchEmbeddings(\n",
      "        (projection): Conv2d(1, 768, kernel_size=(16, 16), stride=(10, 10))\n",
      "      )\n",
      "      (dropout): Dropout(p=0.0, inplace=False)\n",
      "    )\n",
      "    (encoder): ASTEncoder(\n",
      "      (layer): ModuleList(\n",
      "        (0-11): 12 x ASTLayer(\n",
      "          (attention): ASTSdpaAttention(\n",
      "            (attention): ASTSdpaSelfAttention(\n",
      "              (query): Linear(in_features=768, out_features=768, bias=True)\n",
      "              (key): Linear(in_features=768, out_features=768, bias=True)\n",
      "              (value): Linear(in_features=768, out_features=768, bias=True)\n",
      "              (dropout): Dropout(p=0.0, inplace=False)\n",
      "            )\n",
      "            (output): ASTSelfOutput(\n",
      "              (dense): Linear(in_features=768, out_features=768, bias=True)\n",
      "              (dropout): Dropout(p=0.0, inplace=False)\n",
      "            )\n",
      "          )\n",
      "          (intermediate): ASTIntermediate(\n",
      "            (dense): Linear(in_features=768, out_features=3072, bias=True)\n",
      "            (intermediate_act_fn): GELUActivation()\n",
      "          )\n",
      "          (output): ASTOutput(\n",
      "            (dense): Linear(in_features=3072, out_features=768, bias=True)\n",
      "            (dropout): Dropout(p=0.0, inplace=False)\n",
      "          )\n",
      "          (layernorm_before): LayerNorm((768,), eps=1e-12, elementwise_affine=True)\n",
      "          (layernorm_after): LayerNorm((768,), eps=1e-12, elementwise_affine=True)\n",
      "        )\n",
      "      )\n",
      "    )\n",
      "    (layernorm): LayerNorm((768,), eps=1e-12, elementwise_affine=True)\n",
      "  )\n",
      "  (classifier): ASTMLPHead(\n",
      "    (layernorm): LayerNorm((768,), eps=1e-12, elementwise_affine=True)\n",
      "    (dense): Linear(in_features=768, out_features=9, bias=True)\n",
      "  )\n",
      ")\n"
     ]
    },
    {
     "data": {
      "application/vnd.jupyter.widget-view+json": {
       "model_id": "1ca413f12dbb44b8aab05b9f1699a0a8",
       "version_major": 2,
       "version_minor": 0
      },
      "text/plain": [
       "  0%|          | 0/7 [00:00<?, ?it/s]"
      ]
     },
     "metadata": {},
     "output_type": "display_data"
    },
    {
     "name": "stdout",
     "output_type": "stream",
     "text": [
      "Epoch 1/7 | Train Loss: 2.4093 | Train Acc: 0.1223 | Train F1: 0.0750 | Test Loss: 2.2626 | Test Acc: 0.1708 | Test F1: 0.1220\n",
      "Epoch 2/7 | Train Loss: 2.1302 | Train Acc: 0.1970 | Train F1: 0.1473 | Test Loss: 2.0638 | Test Acc: 0.2427 | Test F1: 0.2025\n",
      "Epoch 3/7 | Train Loss: 1.9672 | Train Acc: 0.2609 | Train F1: 0.2339 | Test Loss: 1.9557 | Test Acc: 0.2854 | Test F1: 0.2635\n",
      "Epoch 4/7 | Train Loss: 1.8717 | Train Acc: 0.3397 | Train F1: 0.3205 | Test Loss: 1.8786 | Test Acc: 0.3542 | Test F1: 0.3216\n",
      "Epoch 5/7 | Train Loss: 1.8224 | Train Acc: 0.3927 | Train F1: 0.3792 | Test Loss: 1.8470 | Test Acc: 0.3656 | Test F1: 0.3414\n",
      "Epoch 6/7 | Train Loss: 1.8030 | Train Acc: 0.4022 | Train F1: 0.3923 | Test Loss: 1.8393 | Test Acc: 0.3687 | Test F1: 0.3414\n",
      "Epoch 7/7 | Train Loss: 1.8035 | Train Acc: 0.4062 | Train F1: 0.3923 | Test Loss: 1.8518 | Test Acc: 0.3687 | Test F1: 0.3414\n",
      "Train time on cuda: 334.1234492000003\n",
      "Inference Loss: 1.8022, Accuracy: 40.56%\n"
     ]
    },
    {
     "data": {
      "application/vnd.jupyter.widget-view+json": {
       "model_id": "fa3ab50d3d80455c8bc528766521b191",
       "version_major": 2,
       "version_minor": 0
      },
      "text/plain": [
       "VBox(children=(Label(value='0.008 MB of 0.008 MB uploaded\\r'), FloatProgress(value=1.0, max=1.0)))"
      ]
     },
     "metadata": {},
     "output_type": "display_data"
    },
    {
     "data": {
      "text/html": [
       "<style>\n",
       "    table.wandb td:nth-child(1) { padding: 0 10px; text-align: left ; width: auto;} td:nth-child(2) {text-align: left ; width: 100%}\n",
       "    .wandb-row { display: flex; flex-direction: row; flex-wrap: wrap; justify-content: flex-start; width: 100% }\n",
       "    .wandb-col { display: flex; flex-direction: column; flex-basis: 100%; flex: 1; padding: 10px; }\n",
       "    </style>\n",
       "<div class=\"wandb-row\"><div class=\"wandb-col\"><h3>Run history:</h3><br/><table class=\"wandb\"><tr><td>epoch</td><td>▁▂▃▅▆▇█</td></tr><tr><td>inference_accuracy</td><td>▁</td></tr><tr><td>inference_loss</td><td>▁</td></tr><tr><td>test_acc</td><td>▁▄▅▇███</td></tr><tr><td>test_f1</td><td>▁▄▆▇███</td></tr><tr><td>test_loss</td><td>█▅▃▂▁▁▁</td></tr><tr><td>test_precision</td><td>▁▅▆▇███</td></tr><tr><td>test_recall</td><td>▁▃▅▇███</td></tr><tr><td>train_acc</td><td>▁▃▄▆███</td></tr><tr><td>train_f1</td><td>▁▃▅▆███</td></tr><tr><td>train_loss</td><td>█▅▃▂▁▁▁</td></tr><tr><td>train_precision</td><td>▁▃▅▇███</td></tr><tr><td>train_recall</td><td>▁▃▄▆███</td></tr></table><br/></div><div class=\"wandb-col\"><h3>Run summary:</h3><br/><table class=\"wandb\"><tr><td>epoch</td><td>7</td></tr><tr><td>inference_accuracy</td><td>0.40556</td></tr><tr><td>inference_loss</td><td>1.8022</td></tr><tr><td>test_acc</td><td>0.36875</td></tr><tr><td>test_f1</td><td>0.34136</td></tr><tr><td>test_loss</td><td>1.85184</td></tr><tr><td>test_precision</td><td>0.35659</td></tr><tr><td>test_recall</td><td>0.36667</td></tr><tr><td>train_acc</td><td>0.40625</td></tr><tr><td>train_f1</td><td>0.39233</td></tr><tr><td>train_loss</td><td>1.80346</td></tr><tr><td>train_precision</td><td>0.40655</td></tr><tr><td>train_recall</td><td>0.40556</td></tr><tr><td>train_time</td><td>00:05:34</td></tr></table><br/></div></div>"
      ],
      "text/plain": [
       "<IPython.core.display.HTML object>"
      ]
     },
     "metadata": {},
     "output_type": "display_data"
    },
    {
     "data": {
      "text/html": [
       " View run <strong style=\"color:#cdcd00\">generous-sweep-34</strong> at: <a href='https://wandb.ai/andberg9-self/AST_Sweeps/runs/wikab3c1' target=\"_blank\">https://wandb.ai/andberg9-self/AST_Sweeps/runs/wikab3c1</a><br/> View project at: <a href='https://wandb.ai/andberg9-self/AST_Sweeps' target=\"_blank\">https://wandb.ai/andberg9-self/AST_Sweeps</a><br/>Synced 5 W&B file(s), 0 media file(s), 0 artifact file(s) and 0 other file(s)"
      ],
      "text/plain": [
       "<IPython.core.display.HTML object>"
      ]
     },
     "metadata": {},
     "output_type": "display_data"
    },
    {
     "data": {
      "text/html": [
       "Find logs at: <code>.\\wandb\\run-20240925_140553-wikab3c1\\logs</code>"
      ],
      "text/plain": [
       "<IPython.core.display.HTML object>"
      ]
     },
     "metadata": {},
     "output_type": "display_data"
    },
    {
     "name": "stderr",
     "output_type": "stream",
     "text": [
      "wandb: Agent Starting Run: o4ol8mm3 with config:\n",
      "wandb: \tbatch_size: 16\n",
      "wandb: \tepochs: 7\n",
      "wandb: \tlearning_rate: 0.00013743330568609407\n",
      "wandb: \toptimizer: adamW\n",
      "wandb: \tscheduler: PolynomialLR\n"
     ]
    },
    {
     "data": {
      "text/html": [
       "Tracking run with wandb version 0.18.1"
      ],
      "text/plain": [
       "<IPython.core.display.HTML object>"
      ]
     },
     "metadata": {},
     "output_type": "display_data"
    },
    {
     "data": {
      "text/html": [
       "Run data is saved locally in <code>c:\\Users\\Sidewinders\\Research_notebooks\\Drone_classification\\Research\\notebooks\\wandb\\run-20240925_141148-o4ol8mm3</code>"
      ],
      "text/plain": [
       "<IPython.core.display.HTML object>"
      ]
     },
     "metadata": {},
     "output_type": "display_data"
    },
    {
     "data": {
      "text/html": [
       "Syncing run <strong><a href='https://wandb.ai/andberg9-self/AST_Sweeps/runs/o4ol8mm3' target=\"_blank\">fine-sweep-35</a></strong> to <a href='https://wandb.ai/andberg9-self/AST_Sweeps' target=\"_blank\">Weights & Biases</a> (<a href='https://wandb.me/run' target=\"_blank\">docs</a>)<br/>Sweep page: <a href='https://wandb.ai/andberg9-self/AST_Sweeps/sweeps/ange3go8' target=\"_blank\">https://wandb.ai/andberg9-self/AST_Sweeps/sweeps/ange3go8</a>"
      ],
      "text/plain": [
       "<IPython.core.display.HTML object>"
      ]
     },
     "metadata": {},
     "output_type": "display_data"
    },
    {
     "data": {
      "text/html": [
       " View project at <a href='https://wandb.ai/andberg9-self/AST_Sweeps' target=\"_blank\">https://wandb.ai/andberg9-self/AST_Sweeps</a>"
      ],
      "text/plain": [
       "<IPython.core.display.HTML object>"
      ]
     },
     "metadata": {},
     "output_type": "display_data"
    },
    {
     "data": {
      "text/html": [
       " View sweep at <a href='https://wandb.ai/andberg9-self/AST_Sweeps/sweeps/ange3go8' target=\"_blank\">https://wandb.ai/andberg9-self/AST_Sweeps/sweeps/ange3go8</a>"
      ],
      "text/plain": [
       "<IPython.core.display.HTML object>"
      ]
     },
     "metadata": {},
     "output_type": "display_data"
    },
    {
     "data": {
      "text/html": [
       " View run at <a href='https://wandb.ai/andberg9-self/AST_Sweeps/runs/o4ol8mm3' target=\"_blank\">https://wandb.ai/andberg9-self/AST_Sweeps/runs/o4ol8mm3</a>"
      ],
      "text/plain": [
       "<IPython.core.display.HTML object>"
      ]
     },
     "metadata": {},
     "output_type": "display_data"
    },
    {
     "name": "stdout",
     "output_type": "stream",
     "text": [
      "ASTForAudioClassification(\n",
      "  (audio_spectrogram_transformer): ASTModel(\n",
      "    (embeddings): ASTEmbeddings(\n",
      "      (patch_embeddings): ASTPatchEmbeddings(\n",
      "        (projection): Conv2d(1, 768, kernel_size=(16, 16), stride=(10, 10))\n",
      "      )\n",
      "      (dropout): Dropout(p=0.0, inplace=False)\n",
      "    )\n",
      "    (encoder): ASTEncoder(\n",
      "      (layer): ModuleList(\n",
      "        (0-11): 12 x ASTLayer(\n",
      "          (attention): ASTSdpaAttention(\n",
      "            (attention): ASTSdpaSelfAttention(\n",
      "              (query): Linear(in_features=768, out_features=768, bias=True)\n",
      "              (key): Linear(in_features=768, out_features=768, bias=True)\n",
      "              (value): Linear(in_features=768, out_features=768, bias=True)\n",
      "              (dropout): Dropout(p=0.0, inplace=False)\n",
      "            )\n",
      "            (output): ASTSelfOutput(\n",
      "              (dense): Linear(in_features=768, out_features=768, bias=True)\n",
      "              (dropout): Dropout(p=0.0, inplace=False)\n",
      "            )\n",
      "          )\n",
      "          (intermediate): ASTIntermediate(\n",
      "            (dense): Linear(in_features=768, out_features=3072, bias=True)\n",
      "            (intermediate_act_fn): GELUActivation()\n",
      "          )\n",
      "          (output): ASTOutput(\n",
      "            (dense): Linear(in_features=3072, out_features=768, bias=True)\n",
      "            (dropout): Dropout(p=0.0, inplace=False)\n",
      "          )\n",
      "          (layernorm_before): LayerNorm((768,), eps=1e-12, elementwise_affine=True)\n",
      "          (layernorm_after): LayerNorm((768,), eps=1e-12, elementwise_affine=True)\n",
      "        )\n",
      "      )\n",
      "    )\n",
      "    (layernorm): LayerNorm((768,), eps=1e-12, elementwise_affine=True)\n",
      "  )\n",
      "  (classifier): ASTMLPHead(\n",
      "    (layernorm): LayerNorm((768,), eps=1e-12, elementwise_affine=True)\n",
      "    (dense): Linear(in_features=768, out_features=9, bias=True)\n",
      "  )\n",
      ")\n"
     ]
    },
    {
     "data": {
      "application/vnd.jupyter.widget-view+json": {
       "model_id": "66ad9aa6ef874fa9a25c577f327050d7",
       "version_major": 2,
       "version_minor": 0
      },
      "text/plain": [
       "  0%|          | 0/7 [00:00<?, ?it/s]"
      ]
     },
     "metadata": {},
     "output_type": "display_data"
    },
    {
     "name": "stdout",
     "output_type": "stream",
     "text": [
      "Epoch 1/7 | Train Loss: 2.3559 | Train Acc: 0.1514 | Train F1: 0.0812 | Test Loss: 2.1311 | Test Acc: 0.2240 | Test F1: 0.1694\n",
      "Epoch 2/7 | Train Loss: 2.0340 | Train Acc: 0.3069 | Train F1: 0.2788 | Test Loss: 1.9530 | Test Acc: 0.3490 | Test F1: 0.3203\n",
      "Epoch 3/7 | Train Loss: 1.8541 | Train Acc: 0.4444 | Train F1: 0.4089 | Test Loss: 1.8096 | Test Acc: 0.4740 | Test F1: 0.4450\n",
      "Epoch 4/7 | Train Loss: 1.7352 | Train Acc: 0.5208 | Train F1: 0.4869 | Test Loss: 1.7103 | Test Acc: 0.5156 | Test F1: 0.4888\n",
      "Epoch 5/7 | Train Loss: 1.6680 | Train Acc: 0.5514 | Train F1: 0.5209 | Test Loss: 1.6454 | Test Acc: 0.5677 | Test F1: 0.5080\n",
      "Epoch 6/7 | Train Loss: 1.6446 | Train Acc: 0.5625 | Train F1: 0.5334 | Test Loss: 1.6927 | Test Acc: 0.5208 | Test F1: 0.5080\n",
      "Epoch 7/7 | Train Loss: 1.6446 | Train Acc: 0.5625 | Train F1: 0.5334 | Test Loss: 1.6880 | Test Acc: 0.5208 | Test F1: 0.5080\n",
      "Train time on cuda: 333.1852203000017\n",
      "Inference Loss: 1.6446, Accuracy: 56.39%\n"
     ]
    },
    {
     "data": {
      "application/vnd.jupyter.widget-view+json": {
       "model_id": "dec2c92bb83241e8bfcea135185643e9",
       "version_major": 2,
       "version_minor": 0
      },
      "text/plain": [
       "VBox(children=(Label(value='0.008 MB of 0.008 MB uploaded\\r'), FloatProgress(value=1.0, max=1.0)))"
      ]
     },
     "metadata": {},
     "output_type": "display_data"
    },
    {
     "data": {
      "text/html": [
       "<style>\n",
       "    table.wandb td:nth-child(1) { padding: 0 10px; text-align: left ; width: auto;} td:nth-child(2) {text-align: left ; width: 100%}\n",
       "    .wandb-row { display: flex; flex-direction: row; flex-wrap: wrap; justify-content: flex-start; width: 100% }\n",
       "    .wandb-col { display: flex; flex-direction: column; flex-basis: 100%; flex: 1; padding: 10px; }\n",
       "    </style>\n",
       "<div class=\"wandb-row\"><div class=\"wandb-col\"><h3>Run history:</h3><br/><table class=\"wandb\"><tr><td>epoch</td><td>▁▂▃▅▆▇█</td></tr><tr><td>inference_accuracy</td><td>▁</td></tr><tr><td>inference_loss</td><td>▁</td></tr><tr><td>test_acc</td><td>▁▄▆▇█▇▇</td></tr><tr><td>test_f1</td><td>▁▄▇████</td></tr><tr><td>test_loss</td><td>█▅▃▂▁▂▂</td></tr><tr><td>test_precision</td><td>▁▄▇████</td></tr><tr><td>test_recall</td><td>▁▄▇████</td></tr><tr><td>train_acc</td><td>▁▄▆▇███</td></tr><tr><td>train_f1</td><td>▁▄▆▇███</td></tr><tr><td>train_loss</td><td>█▅▃▂▁▁▁</td></tr><tr><td>train_precision</td><td>▁▄▆▇███</td></tr><tr><td>train_recall</td><td>▁▄▆▇███</td></tr></table><br/></div><div class=\"wandb-col\"><h3>Run summary:</h3><br/><table class=\"wandb\"><tr><td>epoch</td><td>7</td></tr><tr><td>inference_accuracy</td><td>0.56389</td></tr><tr><td>inference_loss</td><td>1.64465</td></tr><tr><td>test_acc</td><td>0.52083</td></tr><tr><td>test_f1</td><td>0.50798</td></tr><tr><td>test_loss</td><td>1.688</td></tr><tr><td>test_precision</td><td>0.54417</td></tr><tr><td>test_recall</td><td>0.53889</td></tr><tr><td>train_acc</td><td>0.5625</td></tr><tr><td>train_f1</td><td>0.5334</td></tr><tr><td>train_loss</td><td>1.64462</td></tr><tr><td>train_precision</td><td>0.53672</td></tr><tr><td>train_recall</td><td>0.5625</td></tr><tr><td>train_time</td><td>00:05:33</td></tr></table><br/></div></div>"
      ],
      "text/plain": [
       "<IPython.core.display.HTML object>"
      ]
     },
     "metadata": {},
     "output_type": "display_data"
    },
    {
     "data": {
      "text/html": [
       " View run <strong style=\"color:#cdcd00\">fine-sweep-35</strong> at: <a href='https://wandb.ai/andberg9-self/AST_Sweeps/runs/o4ol8mm3' target=\"_blank\">https://wandb.ai/andberg9-self/AST_Sweeps/runs/o4ol8mm3</a><br/> View project at: <a href='https://wandb.ai/andberg9-self/AST_Sweeps' target=\"_blank\">https://wandb.ai/andberg9-self/AST_Sweeps</a><br/>Synced 5 W&B file(s), 0 media file(s), 0 artifact file(s) and 0 other file(s)"
      ],
      "text/plain": [
       "<IPython.core.display.HTML object>"
      ]
     },
     "metadata": {},
     "output_type": "display_data"
    },
    {
     "data": {
      "text/html": [
       "Find logs at: <code>.\\wandb\\run-20240925_141148-o4ol8mm3\\logs</code>"
      ],
      "text/plain": [
       "<IPython.core.display.HTML object>"
      ]
     },
     "metadata": {},
     "output_type": "display_data"
    },
    {
     "name": "stderr",
     "output_type": "stream",
     "text": [
      "wandb: Agent Starting Run: lnkrq3dn with config:\n",
      "wandb: \tbatch_size: 4\n",
      "wandb: \tepochs: 7\n",
      "wandb: \tlearning_rate: 0.0001618562366655912\n",
      "wandb: \toptimizer: adamW\n",
      "wandb: \tscheduler: PolynomialLR\n"
     ]
    },
    {
     "data": {
      "text/html": [
       "Tracking run with wandb version 0.18.1"
      ],
      "text/plain": [
       "<IPython.core.display.HTML object>"
      ]
     },
     "metadata": {},
     "output_type": "display_data"
    },
    {
     "data": {
      "text/html": [
       "Run data is saved locally in <code>c:\\Users\\Sidewinders\\Research_notebooks\\Drone_classification\\Research\\notebooks\\wandb\\run-20240925_141745-lnkrq3dn</code>"
      ],
      "text/plain": [
       "<IPython.core.display.HTML object>"
      ]
     },
     "metadata": {},
     "output_type": "display_data"
    },
    {
     "data": {
      "text/html": [
       "Syncing run <strong><a href='https://wandb.ai/andberg9-self/AST_Sweeps/runs/lnkrq3dn' target=\"_blank\">royal-sweep-36</a></strong> to <a href='https://wandb.ai/andberg9-self/AST_Sweeps' target=\"_blank\">Weights & Biases</a> (<a href='https://wandb.me/run' target=\"_blank\">docs</a>)<br/>Sweep page: <a href='https://wandb.ai/andberg9-self/AST_Sweeps/sweeps/ange3go8' target=\"_blank\">https://wandb.ai/andberg9-self/AST_Sweeps/sweeps/ange3go8</a>"
      ],
      "text/plain": [
       "<IPython.core.display.HTML object>"
      ]
     },
     "metadata": {},
     "output_type": "display_data"
    },
    {
     "data": {
      "text/html": [
       " View project at <a href='https://wandb.ai/andberg9-self/AST_Sweeps' target=\"_blank\">https://wandb.ai/andberg9-self/AST_Sweeps</a>"
      ],
      "text/plain": [
       "<IPython.core.display.HTML object>"
      ]
     },
     "metadata": {},
     "output_type": "display_data"
    },
    {
     "data": {
      "text/html": [
       " View sweep at <a href='https://wandb.ai/andberg9-self/AST_Sweeps/sweeps/ange3go8' target=\"_blank\">https://wandb.ai/andberg9-self/AST_Sweeps/sweeps/ange3go8</a>"
      ],
      "text/plain": [
       "<IPython.core.display.HTML object>"
      ]
     },
     "metadata": {},
     "output_type": "display_data"
    },
    {
     "data": {
      "text/html": [
       " View run at <a href='https://wandb.ai/andberg9-self/AST_Sweeps/runs/lnkrq3dn' target=\"_blank\">https://wandb.ai/andberg9-self/AST_Sweeps/runs/lnkrq3dn</a>"
      ],
      "text/plain": [
       "<IPython.core.display.HTML object>"
      ]
     },
     "metadata": {},
     "output_type": "display_data"
    },
    {
     "name": "stdout",
     "output_type": "stream",
     "text": [
      "ASTForAudioClassification(\n",
      "  (audio_spectrogram_transformer): ASTModel(\n",
      "    (embeddings): ASTEmbeddings(\n",
      "      (patch_embeddings): ASTPatchEmbeddings(\n",
      "        (projection): Conv2d(1, 768, kernel_size=(16, 16), stride=(10, 10))\n",
      "      )\n",
      "      (dropout): Dropout(p=0.0, inplace=False)\n",
      "    )\n",
      "    (encoder): ASTEncoder(\n",
      "      (layer): ModuleList(\n",
      "        (0-11): 12 x ASTLayer(\n",
      "          (attention): ASTSdpaAttention(\n",
      "            (attention): ASTSdpaSelfAttention(\n",
      "              (query): Linear(in_features=768, out_features=768, bias=True)\n",
      "              (key): Linear(in_features=768, out_features=768, bias=True)\n",
      "              (value): Linear(in_features=768, out_features=768, bias=True)\n",
      "              (dropout): Dropout(p=0.0, inplace=False)\n",
      "            )\n",
      "            (output): ASTSelfOutput(\n",
      "              (dense): Linear(in_features=768, out_features=768, bias=True)\n",
      "              (dropout): Dropout(p=0.0, inplace=False)\n",
      "            )\n",
      "          )\n",
      "          (intermediate): ASTIntermediate(\n",
      "            (dense): Linear(in_features=768, out_features=3072, bias=True)\n",
      "            (intermediate_act_fn): GELUActivation()\n",
      "          )\n",
      "          (output): ASTOutput(\n",
      "            (dense): Linear(in_features=3072, out_features=768, bias=True)\n",
      "            (dropout): Dropout(p=0.0, inplace=False)\n",
      "          )\n",
      "          (layernorm_before): LayerNorm((768,), eps=1e-12, elementwise_affine=True)\n",
      "          (layernorm_after): LayerNorm((768,), eps=1e-12, elementwise_affine=True)\n",
      "        )\n",
      "      )\n",
      "    )\n",
      "    (layernorm): LayerNorm((768,), eps=1e-12, elementwise_affine=True)\n",
      "  )\n",
      "  (classifier): ASTMLPHead(\n",
      "    (layernorm): LayerNorm((768,), eps=1e-12, elementwise_affine=True)\n",
      "    (dense): Linear(in_features=768, out_features=9, bias=True)\n",
      "  )\n",
      ")\n"
     ]
    },
    {
     "data": {
      "application/vnd.jupyter.widget-view+json": {
       "model_id": "947ef1e84bd648e08fde401bac69230d",
       "version_major": 2,
       "version_minor": 0
      },
      "text/plain": [
       "  0%|          | 0/7 [00:00<?, ?it/s]"
      ]
     },
     "metadata": {},
     "output_type": "display_data"
    },
    {
     "name": "stdout",
     "output_type": "stream",
     "text": [
      "Epoch 1/7 | Train Loss: 1.9610 | Train Acc: 0.3000 | Train F1: 0.2930 | Test Loss: 1.5426 | Test Acc: 0.5667 | Test F1: 0.5374\n",
      "Epoch 2/7 | Train Loss: 1.3120 | Train Acc: 0.6972 | Train F1: 0.6800 | Test Loss: 1.1299 | Test Acc: 0.8111 | Test F1: 0.8062\n",
      "Epoch 3/7 | Train Loss: 1.0179 | Train Acc: 0.8000 | Train F1: 0.7938 | Test Loss: 0.9403 | Test Acc: 0.8500 | Test F1: 0.8454\n",
      "Epoch 4/7 | Train Loss: 0.8767 | Train Acc: 0.8417 | Train F1: 0.8389 | Test Loss: 0.8448 | Test Acc: 0.8722 | Test F1: 0.8712\n",
      "Epoch 5/7 | Train Loss: 0.8076 | Train Acc: 0.8486 | Train F1: 0.8474 | Test Loss: 0.8045 | Test Acc: 0.8722 | Test F1: 0.8712\n",
      "Epoch 6/7 | Train Loss: 0.7843 | Train Acc: 0.8708 | Train F1: 0.8706 | Test Loss: 0.8045 | Test Acc: 0.8722 | Test F1: 0.8712\n",
      "Epoch 7/7 | Train Loss: 0.7843 | Train Acc: 0.8708 | Train F1: 0.8706 | Test Loss: 0.8045 | Test Acc: 0.8722 | Test F1: 0.8712\n",
      "Train time on cuda: 329.1123411000008\n",
      "Inference Loss: 0.7844, Accuracy: 87.08%\n"
     ]
    },
    {
     "data": {
      "application/vnd.jupyter.widget-view+json": {
       "model_id": "7f77ad83d4424a6cbab8f29d7b59e844",
       "version_major": 2,
       "version_minor": 0
      },
      "text/plain": [
       "VBox(children=(Label(value='0.008 MB of 0.008 MB uploaded\\r'), FloatProgress(value=1.0, max=1.0)))"
      ]
     },
     "metadata": {},
     "output_type": "display_data"
    },
    {
     "data": {
      "text/html": [
       "<style>\n",
       "    table.wandb td:nth-child(1) { padding: 0 10px; text-align: left ; width: auto;} td:nth-child(2) {text-align: left ; width: 100%}\n",
       "    .wandb-row { display: flex; flex-direction: row; flex-wrap: wrap; justify-content: flex-start; width: 100% }\n",
       "    .wandb-col { display: flex; flex-direction: column; flex-basis: 100%; flex: 1; padding: 10px; }\n",
       "    </style>\n",
       "<div class=\"wandb-row\"><div class=\"wandb-col\"><h3>Run history:</h3><br/><table class=\"wandb\"><tr><td>epoch</td><td>▁▂▃▅▆▇█</td></tr><tr><td>inference_accuracy</td><td>▁</td></tr><tr><td>inference_loss</td><td>▁</td></tr><tr><td>test_acc</td><td>▁▇▇████</td></tr><tr><td>test_f1</td><td>▁▇▇████</td></tr><tr><td>test_loss</td><td>█▄▂▁▁▁▁</td></tr><tr><td>test_precision</td><td>▁▆▇████</td></tr><tr><td>test_recall</td><td>▁▇▇████</td></tr><tr><td>train_acc</td><td>▁▆▇████</td></tr><tr><td>train_f1</td><td>▁▆▇████</td></tr><tr><td>train_loss</td><td>█▄▂▂▁▁▁</td></tr><tr><td>train_precision</td><td>▁▆▇████</td></tr><tr><td>train_recall</td><td>▁▆▇████</td></tr></table><br/></div><div class=\"wandb-col\"><h3>Run summary:</h3><br/><table class=\"wandb\"><tr><td>epoch</td><td>7</td></tr><tr><td>inference_accuracy</td><td>0.87083</td></tr><tr><td>inference_loss</td><td>0.78439</td></tr><tr><td>test_acc</td><td>0.87222</td></tr><tr><td>test_f1</td><td>0.8712</td></tr><tr><td>test_loss</td><td>0.80445</td></tr><tr><td>test_precision</td><td>0.88153</td></tr><tr><td>test_recall</td><td>0.87222</td></tr><tr><td>train_acc</td><td>0.87083</td></tr><tr><td>train_f1</td><td>0.87057</td></tr><tr><td>train_loss</td><td>0.78427</td></tr><tr><td>train_precision</td><td>0.87328</td></tr><tr><td>train_recall</td><td>0.87083</td></tr><tr><td>train_time</td><td>00:05:29</td></tr></table><br/></div></div>"
      ],
      "text/plain": [
       "<IPython.core.display.HTML object>"
      ]
     },
     "metadata": {},
     "output_type": "display_data"
    },
    {
     "data": {
      "text/html": [
       " View run <strong style=\"color:#cdcd00\">royal-sweep-36</strong> at: <a href='https://wandb.ai/andberg9-self/AST_Sweeps/runs/lnkrq3dn' target=\"_blank\">https://wandb.ai/andberg9-self/AST_Sweeps/runs/lnkrq3dn</a><br/> View project at: <a href='https://wandb.ai/andberg9-self/AST_Sweeps' target=\"_blank\">https://wandb.ai/andberg9-self/AST_Sweeps</a><br/>Synced 5 W&B file(s), 0 media file(s), 0 artifact file(s) and 0 other file(s)"
      ],
      "text/plain": [
       "<IPython.core.display.HTML object>"
      ]
     },
     "metadata": {},
     "output_type": "display_data"
    },
    {
     "data": {
      "text/html": [
       "Find logs at: <code>.\\wandb\\run-20240925_141745-lnkrq3dn\\logs</code>"
      ],
      "text/plain": [
       "<IPython.core.display.HTML object>"
      ]
     },
     "metadata": {},
     "output_type": "display_data"
    },
    {
     "name": "stderr",
     "output_type": "stream",
     "text": [
      "wandb: Agent Starting Run: eshetp9f with config:\n",
      "wandb: \tbatch_size: 8\n",
      "wandb: \tepochs: 7\n",
      "wandb: \tlearning_rate: 0.0003062883089211161\n",
      "wandb: \toptimizer: adamW\n",
      "wandb: \tscheduler: PolynomialLR\n"
     ]
    },
    {
     "data": {
      "text/html": [
       "Tracking run with wandb version 0.18.1"
      ],
      "text/plain": [
       "<IPython.core.display.HTML object>"
      ]
     },
     "metadata": {},
     "output_type": "display_data"
    },
    {
     "data": {
      "text/html": [
       "Run data is saved locally in <code>c:\\Users\\Sidewinders\\Research_notebooks\\Drone_classification\\Research\\notebooks\\wandb\\run-20240925_142337-eshetp9f</code>"
      ],
      "text/plain": [
       "<IPython.core.display.HTML object>"
      ]
     },
     "metadata": {},
     "output_type": "display_data"
    },
    {
     "data": {
      "text/html": [
       "Syncing run <strong><a href='https://wandb.ai/andberg9-self/AST_Sweeps/runs/eshetp9f' target=\"_blank\">logical-sweep-37</a></strong> to <a href='https://wandb.ai/andberg9-self/AST_Sweeps' target=\"_blank\">Weights & Biases</a> (<a href='https://wandb.me/run' target=\"_blank\">docs</a>)<br/>Sweep page: <a href='https://wandb.ai/andberg9-self/AST_Sweeps/sweeps/ange3go8' target=\"_blank\">https://wandb.ai/andberg9-self/AST_Sweeps/sweeps/ange3go8</a>"
      ],
      "text/plain": [
       "<IPython.core.display.HTML object>"
      ]
     },
     "metadata": {},
     "output_type": "display_data"
    },
    {
     "data": {
      "text/html": [
       " View project at <a href='https://wandb.ai/andberg9-self/AST_Sweeps' target=\"_blank\">https://wandb.ai/andberg9-self/AST_Sweeps</a>"
      ],
      "text/plain": [
       "<IPython.core.display.HTML object>"
      ]
     },
     "metadata": {},
     "output_type": "display_data"
    },
    {
     "data": {
      "text/html": [
       " View sweep at <a href='https://wandb.ai/andberg9-self/AST_Sweeps/sweeps/ange3go8' target=\"_blank\">https://wandb.ai/andberg9-self/AST_Sweeps/sweeps/ange3go8</a>"
      ],
      "text/plain": [
       "<IPython.core.display.HTML object>"
      ]
     },
     "metadata": {},
     "output_type": "display_data"
    },
    {
     "data": {
      "text/html": [
       " View run at <a href='https://wandb.ai/andberg9-self/AST_Sweeps/runs/eshetp9f' target=\"_blank\">https://wandb.ai/andberg9-self/AST_Sweeps/runs/eshetp9f</a>"
      ],
      "text/plain": [
       "<IPython.core.display.HTML object>"
      ]
     },
     "metadata": {},
     "output_type": "display_data"
    },
    {
     "name": "stdout",
     "output_type": "stream",
     "text": [
      "ASTForAudioClassification(\n",
      "  (audio_spectrogram_transformer): ASTModel(\n",
      "    (embeddings): ASTEmbeddings(\n",
      "      (patch_embeddings): ASTPatchEmbeddings(\n",
      "        (projection): Conv2d(1, 768, kernel_size=(16, 16), stride=(10, 10))\n",
      "      )\n",
      "      (dropout): Dropout(p=0.0, inplace=False)\n",
      "    )\n",
      "    (encoder): ASTEncoder(\n",
      "      (layer): ModuleList(\n",
      "        (0-11): 12 x ASTLayer(\n",
      "          (attention): ASTSdpaAttention(\n",
      "            (attention): ASTSdpaSelfAttention(\n",
      "              (query): Linear(in_features=768, out_features=768, bias=True)\n",
      "              (key): Linear(in_features=768, out_features=768, bias=True)\n",
      "              (value): Linear(in_features=768, out_features=768, bias=True)\n",
      "              (dropout): Dropout(p=0.0, inplace=False)\n",
      "            )\n",
      "            (output): ASTSelfOutput(\n",
      "              (dense): Linear(in_features=768, out_features=768, bias=True)\n",
      "              (dropout): Dropout(p=0.0, inplace=False)\n",
      "            )\n",
      "          )\n",
      "          (intermediate): ASTIntermediate(\n",
      "            (dense): Linear(in_features=768, out_features=3072, bias=True)\n",
      "            (intermediate_act_fn): GELUActivation()\n",
      "          )\n",
      "          (output): ASTOutput(\n",
      "            (dense): Linear(in_features=3072, out_features=768, bias=True)\n",
      "            (dropout): Dropout(p=0.0, inplace=False)\n",
      "          )\n",
      "          (layernorm_before): LayerNorm((768,), eps=1e-12, elementwise_affine=True)\n",
      "          (layernorm_after): LayerNorm((768,), eps=1e-12, elementwise_affine=True)\n",
      "        )\n",
      "      )\n",
      "    )\n",
      "    (layernorm): LayerNorm((768,), eps=1e-12, elementwise_affine=True)\n",
      "  )\n",
      "  (classifier): ASTMLPHead(\n",
      "    (layernorm): LayerNorm((768,), eps=1e-12, elementwise_affine=True)\n",
      "    (dense): Linear(in_features=768, out_features=9, bias=True)\n",
      "  )\n",
      ")\n"
     ]
    },
    {
     "data": {
      "application/vnd.jupyter.widget-view+json": {
       "model_id": "4a030a067ad84d9fb56e5115a8c64559",
       "version_major": 2,
       "version_minor": 0
      },
      "text/plain": [
       "  0%|          | 0/7 [00:00<?, ?it/s]"
      ]
     },
     "metadata": {},
     "output_type": "display_data"
    },
    {
     "name": "stdout",
     "output_type": "stream",
     "text": [
      "Epoch 1/7 | Train Loss: 1.7294 | Train Acc: 0.4764 | Train F1: 0.4642 | Test Loss: 1.3179 | Test Acc: 0.6630 | Test F1: 0.6604\n",
      "Epoch 2/7 | Train Loss: 1.1040 | Train Acc: 0.7819 | Train F1: 0.7754 | Test Loss: 0.9307 | Test Acc: 0.8152 | Test F1: 0.8157\n",
      "Epoch 3/7 | Train Loss: 0.8386 | Train Acc: 0.8375 | Train F1: 0.8348 | Test Loss: 0.7660 | Test Acc: 0.8859 | Test F1: 0.8808\n",
      "Epoch 4/7 | Train Loss: 0.7235 | Train Acc: 0.8597 | Train F1: 0.8593 | Test Loss: 0.7007 | Test Acc: 0.8913 | Test F1: 0.8921\n",
      "Epoch 5/7 | Train Loss: 0.6664 | Train Acc: 0.8639 | Train F1: 0.8634 | Test Loss: 0.6642 | Test Acc: 0.9076 | Test F1: 0.9087\n",
      "Epoch 6/7 | Train Loss: 0.6475 | Train Acc: 0.8708 | Train F1: 0.8706 | Test Loss: 0.6625 | Test Acc: 0.9130 | Test F1: 0.9087\n",
      "Epoch 7/7 | Train Loss: 0.6475 | Train Acc: 0.8708 | Train F1: 0.8706 | Test Loss: 0.6534 | Test Acc: 0.9130 | Test F1: 0.9087\n",
      "Train time on cuda: 332.1473526000009\n",
      "Inference Loss: 0.6476, Accuracy: 87.22%\n"
     ]
    },
    {
     "data": {
      "application/vnd.jupyter.widget-view+json": {
       "model_id": "710218b2080b4ba29c83739fb143d557",
       "version_major": 2,
       "version_minor": 0
      },
      "text/plain": [
       "VBox(children=(Label(value='0.008 MB of 0.008 MB uploaded\\r'), FloatProgress(value=1.0, max=1.0)))"
      ]
     },
     "metadata": {},
     "output_type": "display_data"
    },
    {
     "data": {
      "text/html": [
       "<style>\n",
       "    table.wandb td:nth-child(1) { padding: 0 10px; text-align: left ; width: auto;} td:nth-child(2) {text-align: left ; width: 100%}\n",
       "    .wandb-row { display: flex; flex-direction: row; flex-wrap: wrap; justify-content: flex-start; width: 100% }\n",
       "    .wandb-col { display: flex; flex-direction: column; flex-basis: 100%; flex: 1; padding: 10px; }\n",
       "    </style>\n",
       "<div class=\"wandb-row\"><div class=\"wandb-col\"><h3>Run history:</h3><br/><table class=\"wandb\"><tr><td>epoch</td><td>▁▂▃▅▆▇█</td></tr><tr><td>inference_accuracy</td><td>▁</td></tr><tr><td>inference_loss</td><td>▁</td></tr><tr><td>test_acc</td><td>▁▅▇▇███</td></tr><tr><td>test_f1</td><td>▁▅▇████</td></tr><tr><td>test_loss</td><td>█▄▂▁▁▁▁</td></tr><tr><td>test_precision</td><td>▁▅▇▇███</td></tr><tr><td>test_recall</td><td>▁▆▇████</td></tr><tr><td>train_acc</td><td>▁▆▇████</td></tr><tr><td>train_f1</td><td>▁▆▇████</td></tr><tr><td>train_loss</td><td>█▄▂▁▁▁▁</td></tr><tr><td>train_precision</td><td>▁▆▇████</td></tr><tr><td>train_recall</td><td>▁▆▇████</td></tr></table><br/></div><div class=\"wandb-col\"><h3>Run summary:</h3><br/><table class=\"wandb\"><tr><td>epoch</td><td>7</td></tr><tr><td>inference_accuracy</td><td>0.87222</td></tr><tr><td>inference_loss</td><td>0.64759</td></tr><tr><td>test_acc</td><td>0.91304</td></tr><tr><td>test_f1</td><td>0.90872</td></tr><tr><td>test_loss</td><td>0.65343</td></tr><tr><td>test_precision</td><td>0.92305</td></tr><tr><td>test_recall</td><td>0.91111</td></tr><tr><td>train_acc</td><td>0.87083</td></tr><tr><td>train_f1</td><td>0.87063</td></tr><tr><td>train_loss</td><td>0.64754</td></tr><tr><td>train_precision</td><td>0.87322</td></tr><tr><td>train_recall</td><td>0.87083</td></tr><tr><td>train_time</td><td>00:05:32</td></tr></table><br/></div></div>"
      ],
      "text/plain": [
       "<IPython.core.display.HTML object>"
      ]
     },
     "metadata": {},
     "output_type": "display_data"
    },
    {
     "data": {
      "text/html": [
       " View run <strong style=\"color:#cdcd00\">logical-sweep-37</strong> at: <a href='https://wandb.ai/andberg9-self/AST_Sweeps/runs/eshetp9f' target=\"_blank\">https://wandb.ai/andberg9-self/AST_Sweeps/runs/eshetp9f</a><br/> View project at: <a href='https://wandb.ai/andberg9-self/AST_Sweeps' target=\"_blank\">https://wandb.ai/andberg9-self/AST_Sweeps</a><br/>Synced 5 W&B file(s), 0 media file(s), 0 artifact file(s) and 0 other file(s)"
      ],
      "text/plain": [
       "<IPython.core.display.HTML object>"
      ]
     },
     "metadata": {},
     "output_type": "display_data"
    },
    {
     "data": {
      "text/html": [
       "Find logs at: <code>.\\wandb\\run-20240925_142337-eshetp9f\\logs</code>"
      ],
      "text/plain": [
       "<IPython.core.display.HTML object>"
      ]
     },
     "metadata": {},
     "output_type": "display_data"
    },
    {
     "name": "stderr",
     "output_type": "stream",
     "text": [
      "wandb: Agent Starting Run: bd70bq14 with config:\n",
      "wandb: \tbatch_size: 16\n",
      "wandb: \tepochs: 7\n",
      "wandb: \tlearning_rate: 0.0006016874953397823\n",
      "wandb: \toptimizer: adamW\n",
      "wandb: \tscheduler: PolynomialLR\n"
     ]
    },
    {
     "data": {
      "text/html": [
       "Tracking run with wandb version 0.18.1"
      ],
      "text/plain": [
       "<IPython.core.display.HTML object>"
      ]
     },
     "metadata": {},
     "output_type": "display_data"
    },
    {
     "data": {
      "text/html": [
       "Run data is saved locally in <code>c:\\Users\\Sidewinders\\Research_notebooks\\Drone_classification\\Research\\notebooks\\wandb\\run-20240925_142934-bd70bq14</code>"
      ],
      "text/plain": [
       "<IPython.core.display.HTML object>"
      ]
     },
     "metadata": {},
     "output_type": "display_data"
    },
    {
     "data": {
      "text/html": [
       "Syncing run <strong><a href='https://wandb.ai/andberg9-self/AST_Sweeps/runs/bd70bq14' target=\"_blank\">charmed-sweep-38</a></strong> to <a href='https://wandb.ai/andberg9-self/AST_Sweeps' target=\"_blank\">Weights & Biases</a> (<a href='https://wandb.me/run' target=\"_blank\">docs</a>)<br/>Sweep page: <a href='https://wandb.ai/andberg9-self/AST_Sweeps/sweeps/ange3go8' target=\"_blank\">https://wandb.ai/andberg9-self/AST_Sweeps/sweeps/ange3go8</a>"
      ],
      "text/plain": [
       "<IPython.core.display.HTML object>"
      ]
     },
     "metadata": {},
     "output_type": "display_data"
    },
    {
     "data": {
      "text/html": [
       " View project at <a href='https://wandb.ai/andberg9-self/AST_Sweeps' target=\"_blank\">https://wandb.ai/andberg9-self/AST_Sweeps</a>"
      ],
      "text/plain": [
       "<IPython.core.display.HTML object>"
      ]
     },
     "metadata": {},
     "output_type": "display_data"
    },
    {
     "data": {
      "text/html": [
       " View sweep at <a href='https://wandb.ai/andberg9-self/AST_Sweeps/sweeps/ange3go8' target=\"_blank\">https://wandb.ai/andberg9-self/AST_Sweeps/sweeps/ange3go8</a>"
      ],
      "text/plain": [
       "<IPython.core.display.HTML object>"
      ]
     },
     "metadata": {},
     "output_type": "display_data"
    },
    {
     "data": {
      "text/html": [
       " View run at <a href='https://wandb.ai/andberg9-self/AST_Sweeps/runs/bd70bq14' target=\"_blank\">https://wandb.ai/andberg9-self/AST_Sweeps/runs/bd70bq14</a>"
      ],
      "text/plain": [
       "<IPython.core.display.HTML object>"
      ]
     },
     "metadata": {},
     "output_type": "display_data"
    },
    {
     "name": "stdout",
     "output_type": "stream",
     "text": [
      "ASTForAudioClassification(\n",
      "  (audio_spectrogram_transformer): ASTModel(\n",
      "    (embeddings): ASTEmbeddings(\n",
      "      (patch_embeddings): ASTPatchEmbeddings(\n",
      "        (projection): Conv2d(1, 768, kernel_size=(16, 16), stride=(10, 10))\n",
      "      )\n",
      "      (dropout): Dropout(p=0.0, inplace=False)\n",
      "    )\n",
      "    (encoder): ASTEncoder(\n",
      "      (layer): ModuleList(\n",
      "        (0-11): 12 x ASTLayer(\n",
      "          (attention): ASTSdpaAttention(\n",
      "            (attention): ASTSdpaSelfAttention(\n",
      "              (query): Linear(in_features=768, out_features=768, bias=True)\n",
      "              (key): Linear(in_features=768, out_features=768, bias=True)\n",
      "              (value): Linear(in_features=768, out_features=768, bias=True)\n",
      "              (dropout): Dropout(p=0.0, inplace=False)\n",
      "            )\n",
      "            (output): ASTSelfOutput(\n",
      "              (dense): Linear(in_features=768, out_features=768, bias=True)\n",
      "              (dropout): Dropout(p=0.0, inplace=False)\n",
      "            )\n",
      "          )\n",
      "          (intermediate): ASTIntermediate(\n",
      "            (dense): Linear(in_features=768, out_features=3072, bias=True)\n",
      "            (intermediate_act_fn): GELUActivation()\n",
      "          )\n",
      "          (output): ASTOutput(\n",
      "            (dense): Linear(in_features=3072, out_features=768, bias=True)\n",
      "            (dropout): Dropout(p=0.0, inplace=False)\n",
      "          )\n",
      "          (layernorm_before): LayerNorm((768,), eps=1e-12, elementwise_affine=True)\n",
      "          (layernorm_after): LayerNorm((768,), eps=1e-12, elementwise_affine=True)\n",
      "        )\n",
      "      )\n",
      "    )\n",
      "    (layernorm): LayerNorm((768,), eps=1e-12, elementwise_affine=True)\n",
      "  )\n",
      "  (classifier): ASTMLPHead(\n",
      "    (layernorm): LayerNorm((768,), eps=1e-12, elementwise_affine=True)\n",
      "    (dense): Linear(in_features=768, out_features=9, bias=True)\n",
      "  )\n",
      ")\n"
     ]
    },
    {
     "data": {
      "application/vnd.jupyter.widget-view+json": {
       "model_id": "01aebf1b66a64487a6f9be749fda71c4",
       "version_major": 2,
       "version_minor": 0
      },
      "text/plain": [
       "  0%|          | 0/7 [00:00<?, ?it/s]"
      ]
     },
     "metadata": {},
     "output_type": "display_data"
    },
    {
     "name": "stdout",
     "output_type": "stream",
     "text": [
      "Epoch 1/7 | Train Loss: 1.8331 | Train Acc: 0.3889 | Train F1: 0.3776 | Test Loss: 1.2814 | Test Acc: 0.7500 | Test F1: 0.7203\n",
      "Epoch 2/7 | Train Loss: 1.0772 | Train Acc: 0.7750 | Train F1: 0.7636 | Test Loss: 0.8743 | Test Acc: 0.8490 | Test F1: 0.8261\n",
      "Epoch 3/7 | Train Loss: 0.7893 | Train Acc: 0.8333 | Train F1: 0.8289 | Test Loss: 0.6917 | Test Acc: 0.8698 | Test F1: 0.8731\n",
      "Epoch 4/7 | Train Loss: 0.6622 | Train Acc: 0.8597 | Train F1: 0.8582 | Test Loss: 0.6301 | Test Acc: 0.8750 | Test F1: 0.8790\n",
      "Epoch 5/7 | Train Loss: 0.6075 | Train Acc: 0.8778 | Train F1: 0.8770 | Test Loss: 0.5848 | Test Acc: 0.9062 | Test F1: 0.8983\n",
      "Epoch 6/7 | Train Loss: 0.5897 | Train Acc: 0.8792 | Train F1: 0.8784 | Test Loss: 0.5833 | Test Acc: 0.9062 | Test F1: 0.8983\n",
      "Epoch 7/7 | Train Loss: 0.5897 | Train Acc: 0.8792 | Train F1: 0.8784 | Test Loss: 0.5760 | Test Acc: 0.9062 | Test F1: 0.8983\n",
      "Train time on cuda: 333.40544469999986\n",
      "Inference Loss: 0.5897, Accuracy: 87.92%\n"
     ]
    },
    {
     "data": {
      "application/vnd.jupyter.widget-view+json": {
       "model_id": "bc3f01de22224d75b16b4fc622d20cba",
       "version_major": 2,
       "version_minor": 0
      },
      "text/plain": [
       "VBox(children=(Label(value='0.008 MB of 0.008 MB uploaded\\r'), FloatProgress(value=1.0, max=1.0)))"
      ]
     },
     "metadata": {},
     "output_type": "display_data"
    },
    {
     "data": {
      "text/html": [
       "<style>\n",
       "    table.wandb td:nth-child(1) { padding: 0 10px; text-align: left ; width: auto;} td:nth-child(2) {text-align: left ; width: 100%}\n",
       "    .wandb-row { display: flex; flex-direction: row; flex-wrap: wrap; justify-content: flex-start; width: 100% }\n",
       "    .wandb-col { display: flex; flex-direction: column; flex-basis: 100%; flex: 1; padding: 10px; }\n",
       "    </style>\n",
       "<div class=\"wandb-row\"><div class=\"wandb-col\"><h3>Run history:</h3><br/><table class=\"wandb\"><tr><td>epoch</td><td>▁▂▃▅▆▇█</td></tr><tr><td>inference_accuracy</td><td>▁</td></tr><tr><td>inference_loss</td><td>▁</td></tr><tr><td>test_acc</td><td>▁▅▆▇███</td></tr><tr><td>test_f1</td><td>▁▅▇▇███</td></tr><tr><td>test_loss</td><td>█▄▂▂▁▁▁</td></tr><tr><td>test_precision</td><td>▁▆▇▇███</td></tr><tr><td>test_recall</td><td>▁▅▇▇███</td></tr><tr><td>train_acc</td><td>▁▇▇████</td></tr><tr><td>train_f1</td><td>▁▆▇████</td></tr><tr><td>train_loss</td><td>█▄▂▁▁▁▁</td></tr><tr><td>train_precision</td><td>▁▆▇████</td></tr><tr><td>train_recall</td><td>▁▇▇████</td></tr></table><br/></div><div class=\"wandb-col\"><h3>Run summary:</h3><br/><table class=\"wandb\"><tr><td>epoch</td><td>7</td></tr><tr><td>inference_accuracy</td><td>0.87917</td></tr><tr><td>inference_loss</td><td>0.58973</td></tr><tr><td>test_acc</td><td>0.90625</td></tr><tr><td>test_f1</td><td>0.89827</td></tr><tr><td>test_loss</td><td>0.576</td></tr><tr><td>test_precision</td><td>0.90651</td></tr><tr><td>test_recall</td><td>0.9</td></tr><tr><td>train_acc</td><td>0.87917</td></tr><tr><td>train_f1</td><td>0.87844</td></tr><tr><td>train_loss</td><td>0.58968</td></tr><tr><td>train_precision</td><td>0.8812</td></tr><tr><td>train_recall</td><td>0.87917</td></tr><tr><td>train_time</td><td>00:05:33</td></tr></table><br/></div></div>"
      ],
      "text/plain": [
       "<IPython.core.display.HTML object>"
      ]
     },
     "metadata": {},
     "output_type": "display_data"
    },
    {
     "data": {
      "text/html": [
       " View run <strong style=\"color:#cdcd00\">charmed-sweep-38</strong> at: <a href='https://wandb.ai/andberg9-self/AST_Sweeps/runs/bd70bq14' target=\"_blank\">https://wandb.ai/andberg9-self/AST_Sweeps/runs/bd70bq14</a><br/> View project at: <a href='https://wandb.ai/andberg9-self/AST_Sweeps' target=\"_blank\">https://wandb.ai/andberg9-self/AST_Sweeps</a><br/>Synced 5 W&B file(s), 0 media file(s), 0 artifact file(s) and 0 other file(s)"
      ],
      "text/plain": [
       "<IPython.core.display.HTML object>"
      ]
     },
     "metadata": {},
     "output_type": "display_data"
    },
    {
     "data": {
      "text/html": [
       "Find logs at: <code>.\\wandb\\run-20240925_142934-bd70bq14\\logs</code>"
      ],
      "text/plain": [
       "<IPython.core.display.HTML object>"
      ]
     },
     "metadata": {},
     "output_type": "display_data"
    },
    {
     "name": "stderr",
     "output_type": "stream",
     "text": [
      "wandb: Agent Starting Run: j6ia2mco with config:\n",
      "wandb: \tbatch_size: 4\n",
      "wandb: \tepochs: 7\n",
      "wandb: \tlearning_rate: 0.0002373745664238162\n",
      "wandb: \toptimizer: adamW\n",
      "wandb: \tscheduler: PolynomialLR\n"
     ]
    },
    {
     "data": {
      "text/html": [
       "Tracking run with wandb version 0.18.1"
      ],
      "text/plain": [
       "<IPython.core.display.HTML object>"
      ]
     },
     "metadata": {},
     "output_type": "display_data"
    },
    {
     "data": {
      "text/html": [
       "Run data is saved locally in <code>c:\\Users\\Sidewinders\\Research_notebooks\\Drone_classification\\Research\\notebooks\\wandb\\run-20240925_143531-j6ia2mco</code>"
      ],
      "text/plain": [
       "<IPython.core.display.HTML object>"
      ]
     },
     "metadata": {},
     "output_type": "display_data"
    },
    {
     "data": {
      "text/html": [
       "Syncing run <strong><a href='https://wandb.ai/andberg9-self/AST_Sweeps/runs/j6ia2mco' target=\"_blank\">worldly-sweep-39</a></strong> to <a href='https://wandb.ai/andberg9-self/AST_Sweeps' target=\"_blank\">Weights & Biases</a> (<a href='https://wandb.me/run' target=\"_blank\">docs</a>)<br/>Sweep page: <a href='https://wandb.ai/andberg9-self/AST_Sweeps/sweeps/ange3go8' target=\"_blank\">https://wandb.ai/andberg9-self/AST_Sweeps/sweeps/ange3go8</a>"
      ],
      "text/plain": [
       "<IPython.core.display.HTML object>"
      ]
     },
     "metadata": {},
     "output_type": "display_data"
    },
    {
     "data": {
      "text/html": [
       " View project at <a href='https://wandb.ai/andberg9-self/AST_Sweeps' target=\"_blank\">https://wandb.ai/andberg9-self/AST_Sweeps</a>"
      ],
      "text/plain": [
       "<IPython.core.display.HTML object>"
      ]
     },
     "metadata": {},
     "output_type": "display_data"
    },
    {
     "data": {
      "text/html": [
       " View sweep at <a href='https://wandb.ai/andberg9-self/AST_Sweeps/sweeps/ange3go8' target=\"_blank\">https://wandb.ai/andberg9-self/AST_Sweeps/sweeps/ange3go8</a>"
      ],
      "text/plain": [
       "<IPython.core.display.HTML object>"
      ]
     },
     "metadata": {},
     "output_type": "display_data"
    },
    {
     "data": {
      "text/html": [
       " View run at <a href='https://wandb.ai/andberg9-self/AST_Sweeps/runs/j6ia2mco' target=\"_blank\">https://wandb.ai/andberg9-self/AST_Sweeps/runs/j6ia2mco</a>"
      ],
      "text/plain": [
       "<IPython.core.display.HTML object>"
      ]
     },
     "metadata": {},
     "output_type": "display_data"
    },
    {
     "name": "stdout",
     "output_type": "stream",
     "text": [
      "ASTForAudioClassification(\n",
      "  (audio_spectrogram_transformer): ASTModel(\n",
      "    (embeddings): ASTEmbeddings(\n",
      "      (patch_embeddings): ASTPatchEmbeddings(\n",
      "        (projection): Conv2d(1, 768, kernel_size=(16, 16), stride=(10, 10))\n",
      "      )\n",
      "      (dropout): Dropout(p=0.0, inplace=False)\n",
      "    )\n",
      "    (encoder): ASTEncoder(\n",
      "      (layer): ModuleList(\n",
      "        (0-11): 12 x ASTLayer(\n",
      "          (attention): ASTSdpaAttention(\n",
      "            (attention): ASTSdpaSelfAttention(\n",
      "              (query): Linear(in_features=768, out_features=768, bias=True)\n",
      "              (key): Linear(in_features=768, out_features=768, bias=True)\n",
      "              (value): Linear(in_features=768, out_features=768, bias=True)\n",
      "              (dropout): Dropout(p=0.0, inplace=False)\n",
      "            )\n",
      "            (output): ASTSelfOutput(\n",
      "              (dense): Linear(in_features=768, out_features=768, bias=True)\n",
      "              (dropout): Dropout(p=0.0, inplace=False)\n",
      "            )\n",
      "          )\n",
      "          (intermediate): ASTIntermediate(\n",
      "            (dense): Linear(in_features=768, out_features=3072, bias=True)\n",
      "            (intermediate_act_fn): GELUActivation()\n",
      "          )\n",
      "          (output): ASTOutput(\n",
      "            (dense): Linear(in_features=3072, out_features=768, bias=True)\n",
      "            (dropout): Dropout(p=0.0, inplace=False)\n",
      "          )\n",
      "          (layernorm_before): LayerNorm((768,), eps=1e-12, elementwise_affine=True)\n",
      "          (layernorm_after): LayerNorm((768,), eps=1e-12, elementwise_affine=True)\n",
      "        )\n",
      "      )\n",
      "    )\n",
      "    (layernorm): LayerNorm((768,), eps=1e-12, elementwise_affine=True)\n",
      "  )\n",
      "  (classifier): ASTMLPHead(\n",
      "    (layernorm): LayerNorm((768,), eps=1e-12, elementwise_affine=True)\n",
      "    (dense): Linear(in_features=768, out_features=9, bias=True)\n",
      "  )\n",
      ")\n"
     ]
    },
    {
     "data": {
      "application/vnd.jupyter.widget-view+json": {
       "model_id": "874fc2780eb44548a21c2022e28e0d29",
       "version_major": 2,
       "version_minor": 0
      },
      "text/plain": [
       "  0%|          | 0/7 [00:00<?, ?it/s]"
      ]
     },
     "metadata": {},
     "output_type": "display_data"
    },
    {
     "name": "stdout",
     "output_type": "stream",
     "text": [
      "Epoch 1/7 | Train Loss: 1.7434 | Train Acc: 0.4292 | Train F1: 0.4388 | Test Loss: 1.2263 | Test Acc: 0.7389 | Test F1: 0.7032\n",
      "Epoch 2/7 | Train Loss: 1.0083 | Train Acc: 0.7986 | Train F1: 0.7892 | Test Loss: 0.8294 | Test Acc: 0.8667 | Test F1: 0.8666\n",
      "Epoch 3/7 | Train Loss: 0.7489 | Train Acc: 0.8514 | Train F1: 0.8508 | Test Loss: 0.6797 | Test Acc: 0.8889 | Test F1: 0.8872\n",
      "Epoch 4/7 | Train Loss: 0.6390 | Train Acc: 0.8750 | Train F1: 0.8744 | Test Loss: 0.6062 | Test Acc: 0.8944 | Test F1: 0.8932\n",
      "Epoch 5/7 | Train Loss: 0.5874 | Train Acc: 0.8903 | Train F1: 0.8905 | Test Loss: 0.5761 | Test Acc: 0.9000 | Test F1: 0.8993\n",
      "Epoch 6/7 | Train Loss: 0.5686 | Train Acc: 0.8958 | Train F1: 0.8960 | Test Loss: 0.5761 | Test Acc: 0.9000 | Test F1: 0.8993\n",
      "Epoch 7/7 | Train Loss: 0.5686 | Train Acc: 0.8958 | Train F1: 0.8960 | Test Loss: 0.5761 | Test Acc: 0.9000 | Test F1: 0.8993\n",
      "Train time on cuda: 329.05971070000123\n",
      "Inference Loss: 0.5686, Accuracy: 89.58%\n"
     ]
    },
    {
     "data": {
      "application/vnd.jupyter.widget-view+json": {
       "model_id": "39b82da9ab604838a6d00616e88bc252",
       "version_major": 2,
       "version_minor": 0
      },
      "text/plain": [
       "VBox(children=(Label(value='0.008 MB of 0.008 MB uploaded\\r'), FloatProgress(value=1.0, max=1.0)))"
      ]
     },
     "metadata": {},
     "output_type": "display_data"
    },
    {
     "data": {
      "text/html": [
       "<style>\n",
       "    table.wandb td:nth-child(1) { padding: 0 10px; text-align: left ; width: auto;} td:nth-child(2) {text-align: left ; width: 100%}\n",
       "    .wandb-row { display: flex; flex-direction: row; flex-wrap: wrap; justify-content: flex-start; width: 100% }\n",
       "    .wandb-col { display: flex; flex-direction: column; flex-basis: 100%; flex: 1; padding: 10px; }\n",
       "    </style>\n",
       "<div class=\"wandb-row\"><div class=\"wandb-col\"><h3>Run history:</h3><br/><table class=\"wandb\"><tr><td>epoch</td><td>▁▂▃▅▆▇█</td></tr><tr><td>inference_accuracy</td><td>▁</td></tr><tr><td>inference_loss</td><td>▁</td></tr><tr><td>test_acc</td><td>▁▇█████</td></tr><tr><td>test_f1</td><td>▁▇█████</td></tr><tr><td>test_loss</td><td>█▄▂▁▁▁▁</td></tr><tr><td>test_precision</td><td>▁▇█████</td></tr><tr><td>test_recall</td><td>▁▇█████</td></tr><tr><td>train_acc</td><td>▁▇▇████</td></tr><tr><td>train_f1</td><td>▁▆▇████</td></tr><tr><td>train_loss</td><td>█▄▂▁▁▁▁</td></tr><tr><td>train_precision</td><td>▁▆▇████</td></tr><tr><td>train_recall</td><td>▁▇▇████</td></tr></table><br/></div><div class=\"wandb-col\"><h3>Run summary:</h3><br/><table class=\"wandb\"><tr><td>epoch</td><td>7</td></tr><tr><td>inference_accuracy</td><td>0.89583</td></tr><tr><td>inference_loss</td><td>0.56859</td></tr><tr><td>test_acc</td><td>0.9</td></tr><tr><td>test_f1</td><td>0.89925</td></tr><tr><td>test_loss</td><td>0.57605</td></tr><tr><td>test_precision</td><td>0.90607</td></tr><tr><td>test_recall</td><td>0.9</td></tr><tr><td>train_acc</td><td>0.89583</td></tr><tr><td>train_f1</td><td>0.89596</td></tr><tr><td>train_loss</td><td>0.56858</td></tr><tr><td>train_precision</td><td>0.89732</td></tr><tr><td>train_recall</td><td>0.89583</td></tr><tr><td>train_time</td><td>00:05:29</td></tr></table><br/></div></div>"
      ],
      "text/plain": [
       "<IPython.core.display.HTML object>"
      ]
     },
     "metadata": {},
     "output_type": "display_data"
    },
    {
     "data": {
      "text/html": [
       " View run <strong style=\"color:#cdcd00\">worldly-sweep-39</strong> at: <a href='https://wandb.ai/andberg9-self/AST_Sweeps/runs/j6ia2mco' target=\"_blank\">https://wandb.ai/andberg9-self/AST_Sweeps/runs/j6ia2mco</a><br/> View project at: <a href='https://wandb.ai/andberg9-self/AST_Sweeps' target=\"_blank\">https://wandb.ai/andberg9-self/AST_Sweeps</a><br/>Synced 5 W&B file(s), 0 media file(s), 0 artifact file(s) and 0 other file(s)"
      ],
      "text/plain": [
       "<IPython.core.display.HTML object>"
      ]
     },
     "metadata": {},
     "output_type": "display_data"
    },
    {
     "data": {
      "text/html": [
       "Find logs at: <code>.\\wandb\\run-20240925_143531-j6ia2mco\\logs</code>"
      ],
      "text/plain": [
       "<IPython.core.display.HTML object>"
      ]
     },
     "metadata": {},
     "output_type": "display_data"
    },
    {
     "name": "stderr",
     "output_type": "stream",
     "text": [
      "wandb: Agent Starting Run: vfkcub62 with config:\n",
      "wandb: \tbatch_size: 32\n",
      "wandb: \tepochs: 7\n",
      "wandb: \tlearning_rate: 0.00040446516639148177\n",
      "wandb: \toptimizer: adamW\n",
      "wandb: \tscheduler: PolynomialLR\n"
     ]
    },
    {
     "data": {
      "text/html": [
       "Tracking run with wandb version 0.18.1"
      ],
      "text/plain": [
       "<IPython.core.display.HTML object>"
      ]
     },
     "metadata": {},
     "output_type": "display_data"
    },
    {
     "data": {
      "text/html": [
       "Run data is saved locally in <code>c:\\Users\\Sidewinders\\Research_notebooks\\Drone_classification\\Research\\notebooks\\wandb\\run-20240925_144121-vfkcub62</code>"
      ],
      "text/plain": [
       "<IPython.core.display.HTML object>"
      ]
     },
     "metadata": {},
     "output_type": "display_data"
    },
    {
     "data": {
      "text/html": [
       "Syncing run <strong><a href='https://wandb.ai/andberg9-self/AST_Sweeps/runs/vfkcub62' target=\"_blank\">sandy-sweep-40</a></strong> to <a href='https://wandb.ai/andberg9-self/AST_Sweeps' target=\"_blank\">Weights & Biases</a> (<a href='https://wandb.me/run' target=\"_blank\">docs</a>)<br/>Sweep page: <a href='https://wandb.ai/andberg9-self/AST_Sweeps/sweeps/ange3go8' target=\"_blank\">https://wandb.ai/andberg9-self/AST_Sweeps/sweeps/ange3go8</a>"
      ],
      "text/plain": [
       "<IPython.core.display.HTML object>"
      ]
     },
     "metadata": {},
     "output_type": "display_data"
    },
    {
     "data": {
      "text/html": [
       " View project at <a href='https://wandb.ai/andberg9-self/AST_Sweeps' target=\"_blank\">https://wandb.ai/andberg9-self/AST_Sweeps</a>"
      ],
      "text/plain": [
       "<IPython.core.display.HTML object>"
      ]
     },
     "metadata": {},
     "output_type": "display_data"
    },
    {
     "data": {
      "text/html": [
       " View sweep at <a href='https://wandb.ai/andberg9-self/AST_Sweeps/sweeps/ange3go8' target=\"_blank\">https://wandb.ai/andberg9-self/AST_Sweeps/sweeps/ange3go8</a>"
      ],
      "text/plain": [
       "<IPython.core.display.HTML object>"
      ]
     },
     "metadata": {},
     "output_type": "display_data"
    },
    {
     "data": {
      "text/html": [
       " View run at <a href='https://wandb.ai/andberg9-self/AST_Sweeps/runs/vfkcub62' target=\"_blank\">https://wandb.ai/andberg9-self/AST_Sweeps/runs/vfkcub62</a>"
      ],
      "text/plain": [
       "<IPython.core.display.HTML object>"
      ]
     },
     "metadata": {},
     "output_type": "display_data"
    },
    {
     "name": "stdout",
     "output_type": "stream",
     "text": [
      "ASTForAudioClassification(\n",
      "  (audio_spectrogram_transformer): ASTModel(\n",
      "    (embeddings): ASTEmbeddings(\n",
      "      (patch_embeddings): ASTPatchEmbeddings(\n",
      "        (projection): Conv2d(1, 768, kernel_size=(16, 16), stride=(10, 10))\n",
      "      )\n",
      "      (dropout): Dropout(p=0.0, inplace=False)\n",
      "    )\n",
      "    (encoder): ASTEncoder(\n",
      "      (layer): ModuleList(\n",
      "        (0-11): 12 x ASTLayer(\n",
      "          (attention): ASTSdpaAttention(\n",
      "            (attention): ASTSdpaSelfAttention(\n",
      "              (query): Linear(in_features=768, out_features=768, bias=True)\n",
      "              (key): Linear(in_features=768, out_features=768, bias=True)\n",
      "              (value): Linear(in_features=768, out_features=768, bias=True)\n",
      "              (dropout): Dropout(p=0.0, inplace=False)\n",
      "            )\n",
      "            (output): ASTSelfOutput(\n",
      "              (dense): Linear(in_features=768, out_features=768, bias=True)\n",
      "              (dropout): Dropout(p=0.0, inplace=False)\n",
      "            )\n",
      "          )\n",
      "          (intermediate): ASTIntermediate(\n",
      "            (dense): Linear(in_features=768, out_features=3072, bias=True)\n",
      "            (intermediate_act_fn): GELUActivation()\n",
      "          )\n",
      "          (output): ASTOutput(\n",
      "            (dense): Linear(in_features=3072, out_features=768, bias=True)\n",
      "            (dropout): Dropout(p=0.0, inplace=False)\n",
      "          )\n",
      "          (layernorm_before): LayerNorm((768,), eps=1e-12, elementwise_affine=True)\n",
      "          (layernorm_after): LayerNorm((768,), eps=1e-12, elementwise_affine=True)\n",
      "        )\n",
      "      )\n",
      "    )\n",
      "    (layernorm): LayerNorm((768,), eps=1e-12, elementwise_affine=True)\n",
      "  )\n",
      "  (classifier): ASTMLPHead(\n",
      "    (layernorm): LayerNorm((768,), eps=1e-12, elementwise_affine=True)\n",
      "    (dense): Linear(in_features=768, out_features=9, bias=True)\n",
      "  )\n",
      ")\n"
     ]
    },
    {
     "data": {
      "application/vnd.jupyter.widget-view+json": {
       "model_id": "c7e950dc8dea449cbeea6761c6e38295",
       "version_major": 2,
       "version_minor": 0
      },
      "text/plain": [
       "  0%|          | 0/7 [00:00<?, ?it/s]"
      ]
     },
     "metadata": {},
     "output_type": "display_data"
    },
    {
     "name": "stdout",
     "output_type": "stream",
     "text": [
      "Epoch 1/7 | Train Loss: 2.1350 | Train Acc: 0.1753 | Train F1: 0.1844 | Test Loss: 1.9185 | Test Acc: 0.3687 | Test F1: 0.3422\n",
      "Epoch 2/7 | Train Loss: 1.7593 | Train Acc: 0.4742 | Train F1: 0.4399 | Test Loss: 1.6619 | Test Acc: 0.5042 | Test F1: 0.4374\n",
      "Epoch 3/7 | Train Loss: 1.5206 | Train Acc: 0.6236 | Train F1: 0.5970 | Test Loss: 1.4831 | Test Acc: 0.5958 | Test F1: 0.5643\n",
      "Epoch 4/7 | Train Loss: 1.3718 | Train Acc: 0.7188 | Train F1: 0.7048 | Test Loss: 1.3614 | Test Acc: 0.7042 | Test F1: 0.6894\n",
      "Epoch 5/7 | Train Loss: 1.2897 | Train Acc: 0.7704 | Train F1: 0.7680 | Test Loss: 1.3028 | Test Acc: 0.7375 | Test F1: 0.7135\n",
      "Epoch 6/7 | Train Loss: 1.2598 | Train Acc: 0.7840 | Train F1: 0.7798 | Test Loss: 1.3170 | Test Acc: 0.7219 | Test F1: 0.7135\n",
      "Epoch 7/7 | Train Loss: 1.2550 | Train Acc: 0.7880 | Train F1: 0.7798 | Test Loss: 1.3140 | Test Acc: 0.7219 | Test F1: 0.7135\n",
      "Train time on cuda: 334.9865578000008\n",
      "Inference Loss: 1.2609, Accuracy: 78.61%\n"
     ]
    },
    {
     "data": {
      "application/vnd.jupyter.widget-view+json": {
       "model_id": "eec62285e46d4970bdd31c4a9044663d",
       "version_major": 2,
       "version_minor": 0
      },
      "text/plain": [
       "VBox(children=(Label(value='0.008 MB of 0.008 MB uploaded\\r'), FloatProgress(value=1.0, max=1.0)))"
      ]
     },
     "metadata": {},
     "output_type": "display_data"
    },
    {
     "data": {
      "text/html": [
       "<style>\n",
       "    table.wandb td:nth-child(1) { padding: 0 10px; text-align: left ; width: auto;} td:nth-child(2) {text-align: left ; width: 100%}\n",
       "    .wandb-row { display: flex; flex-direction: row; flex-wrap: wrap; justify-content: flex-start; width: 100% }\n",
       "    .wandb-col { display: flex; flex-direction: column; flex-basis: 100%; flex: 1; padding: 10px; }\n",
       "    </style>\n",
       "<div class=\"wandb-row\"><div class=\"wandb-col\"><h3>Run history:</h3><br/><table class=\"wandb\"><tr><td>epoch</td><td>▁▂▃▅▆▇█</td></tr><tr><td>inference_accuracy</td><td>▁</td></tr><tr><td>inference_loss</td><td>▁</td></tr><tr><td>test_acc</td><td>▁▄▅▇███</td></tr><tr><td>test_f1</td><td>▁▃▅████</td></tr><tr><td>test_loss</td><td>█▅▃▂▁▁▁</td></tr><tr><td>test_precision</td><td>▁▄▅▇███</td></tr><tr><td>test_recall</td><td>▁▃▆████</td></tr><tr><td>train_acc</td><td>▁▄▆▇███</td></tr><tr><td>train_f1</td><td>▁▄▆▇███</td></tr><tr><td>train_loss</td><td>█▅▃▂▁▁▁</td></tr><tr><td>train_precision</td><td>▁▄▆▇███</td></tr><tr><td>train_recall</td><td>▁▄▆▇███</td></tr></table><br/></div><div class=\"wandb-col\"><h3>Run summary:</h3><br/><table class=\"wandb\"><tr><td>epoch</td><td>7</td></tr><tr><td>inference_accuracy</td><td>0.78611</td></tr><tr><td>inference_loss</td><td>1.26091</td></tr><tr><td>test_acc</td><td>0.72187</td></tr><tr><td>test_f1</td><td>0.71347</td></tr><tr><td>test_loss</td><td>1.31403</td></tr><tr><td>test_precision</td><td>0.74752</td></tr><tr><td>test_recall</td><td>0.73333</td></tr><tr><td>train_acc</td><td>0.78804</td></tr><tr><td>train_f1</td><td>0.77976</td></tr><tr><td>train_loss</td><td>1.25498</td></tr><tr><td>train_precision</td><td>0.79651</td></tr><tr><td>train_recall</td><td>0.78611</td></tr><tr><td>train_time</td><td>00:05:34</td></tr></table><br/></div></div>"
      ],
      "text/plain": [
       "<IPython.core.display.HTML object>"
      ]
     },
     "metadata": {},
     "output_type": "display_data"
    },
    {
     "data": {
      "text/html": [
       " View run <strong style=\"color:#cdcd00\">sandy-sweep-40</strong> at: <a href='https://wandb.ai/andberg9-self/AST_Sweeps/runs/vfkcub62' target=\"_blank\">https://wandb.ai/andberg9-self/AST_Sweeps/runs/vfkcub62</a><br/> View project at: <a href='https://wandb.ai/andberg9-self/AST_Sweeps' target=\"_blank\">https://wandb.ai/andberg9-self/AST_Sweeps</a><br/>Synced 5 W&B file(s), 0 media file(s), 0 artifact file(s) and 0 other file(s)"
      ],
      "text/plain": [
       "<IPython.core.display.HTML object>"
      ]
     },
     "metadata": {},
     "output_type": "display_data"
    },
    {
     "data": {
      "text/html": [
       "Find logs at: <code>.\\wandb\\run-20240925_144121-vfkcub62\\logs</code>"
      ],
      "text/plain": [
       "<IPython.core.display.HTML object>"
      ]
     },
     "metadata": {},
     "output_type": "display_data"
    },
    {
     "name": "stderr",
     "output_type": "stream",
     "text": [
      "wandb: Sweep Agent: Waiting for job.\n",
      "wandb: Job received.\n",
      "wandb: Agent Starting Run: tr49u8ml with config:\n",
      "wandb: \tbatch_size: 16\n",
      "wandb: \tepochs: 7\n",
      "wandb: \tlearning_rate: 0.0008650703645446204\n",
      "wandb: \toptimizer: adamW\n",
      "wandb: \tscheduler: PolynomialLR\n"
     ]
    },
    {
     "data": {
      "text/html": [
       "Tracking run with wandb version 0.18.1"
      ],
      "text/plain": [
       "<IPython.core.display.HTML object>"
      ]
     },
     "metadata": {},
     "output_type": "display_data"
    },
    {
     "data": {
      "text/html": [
       "Run data is saved locally in <code>c:\\Users\\Sidewinders\\Research_notebooks\\Drone_classification\\Research\\notebooks\\wandb\\run-20240925_144727-tr49u8ml</code>"
      ],
      "text/plain": [
       "<IPython.core.display.HTML object>"
      ]
     },
     "metadata": {},
     "output_type": "display_data"
    },
    {
     "data": {
      "text/html": [
       "Syncing run <strong><a href='https://wandb.ai/andberg9-self/AST_Sweeps/runs/tr49u8ml' target=\"_blank\">prime-sweep-41</a></strong> to <a href='https://wandb.ai/andberg9-self/AST_Sweeps' target=\"_blank\">Weights & Biases</a> (<a href='https://wandb.me/run' target=\"_blank\">docs</a>)<br/>Sweep page: <a href='https://wandb.ai/andberg9-self/AST_Sweeps/sweeps/ange3go8' target=\"_blank\">https://wandb.ai/andberg9-self/AST_Sweeps/sweeps/ange3go8</a>"
      ],
      "text/plain": [
       "<IPython.core.display.HTML object>"
      ]
     },
     "metadata": {},
     "output_type": "display_data"
    },
    {
     "data": {
      "text/html": [
       " View project at <a href='https://wandb.ai/andberg9-self/AST_Sweeps' target=\"_blank\">https://wandb.ai/andberg9-self/AST_Sweeps</a>"
      ],
      "text/plain": [
       "<IPython.core.display.HTML object>"
      ]
     },
     "metadata": {},
     "output_type": "display_data"
    },
    {
     "data": {
      "text/html": [
       " View sweep at <a href='https://wandb.ai/andberg9-self/AST_Sweeps/sweeps/ange3go8' target=\"_blank\">https://wandb.ai/andberg9-self/AST_Sweeps/sweeps/ange3go8</a>"
      ],
      "text/plain": [
       "<IPython.core.display.HTML object>"
      ]
     },
     "metadata": {},
     "output_type": "display_data"
    },
    {
     "data": {
      "text/html": [
       " View run at <a href='https://wandb.ai/andberg9-self/AST_Sweeps/runs/tr49u8ml' target=\"_blank\">https://wandb.ai/andberg9-self/AST_Sweeps/runs/tr49u8ml</a>"
      ],
      "text/plain": [
       "<IPython.core.display.HTML object>"
      ]
     },
     "metadata": {},
     "output_type": "display_data"
    },
    {
     "name": "stdout",
     "output_type": "stream",
     "text": [
      "ASTForAudioClassification(\n",
      "  (audio_spectrogram_transformer): ASTModel(\n",
      "    (embeddings): ASTEmbeddings(\n",
      "      (patch_embeddings): ASTPatchEmbeddings(\n",
      "        (projection): Conv2d(1, 768, kernel_size=(16, 16), stride=(10, 10))\n",
      "      )\n",
      "      (dropout): Dropout(p=0.0, inplace=False)\n",
      "    )\n",
      "    (encoder): ASTEncoder(\n",
      "      (layer): ModuleList(\n",
      "        (0-11): 12 x ASTLayer(\n",
      "          (attention): ASTSdpaAttention(\n",
      "            (attention): ASTSdpaSelfAttention(\n",
      "              (query): Linear(in_features=768, out_features=768, bias=True)\n",
      "              (key): Linear(in_features=768, out_features=768, bias=True)\n",
      "              (value): Linear(in_features=768, out_features=768, bias=True)\n",
      "              (dropout): Dropout(p=0.0, inplace=False)\n",
      "            )\n",
      "            (output): ASTSelfOutput(\n",
      "              (dense): Linear(in_features=768, out_features=768, bias=True)\n",
      "              (dropout): Dropout(p=0.0, inplace=False)\n",
      "            )\n",
      "          )\n",
      "          (intermediate): ASTIntermediate(\n",
      "            (dense): Linear(in_features=768, out_features=3072, bias=True)\n",
      "            (intermediate_act_fn): GELUActivation()\n",
      "          )\n",
      "          (output): ASTOutput(\n",
      "            (dense): Linear(in_features=3072, out_features=768, bias=True)\n",
      "            (dropout): Dropout(p=0.0, inplace=False)\n",
      "          )\n",
      "          (layernorm_before): LayerNorm((768,), eps=1e-12, elementwise_affine=True)\n",
      "          (layernorm_after): LayerNorm((768,), eps=1e-12, elementwise_affine=True)\n",
      "        )\n",
      "      )\n",
      "    )\n",
      "    (layernorm): LayerNorm((768,), eps=1e-12, elementwise_affine=True)\n",
      "  )\n",
      "  (classifier): ASTMLPHead(\n",
      "    (layernorm): LayerNorm((768,), eps=1e-12, elementwise_affine=True)\n",
      "    (dense): Linear(in_features=768, out_features=9, bias=True)\n",
      "  )\n",
      ")\n"
     ]
    },
    {
     "data": {
      "application/vnd.jupyter.widget-view+json": {
       "model_id": "61bee28b842049249389eacff2173465",
       "version_major": 2,
       "version_minor": 0
      },
      "text/plain": [
       "  0%|          | 0/7 [00:00<?, ?it/s]"
      ]
     },
     "metadata": {},
     "output_type": "display_data"
    },
    {
     "name": "stdout",
     "output_type": "stream",
     "text": [
      "Epoch 1/7 | Train Loss: 1.5372 | Train Acc: 0.5750 | Train F1: 0.5749 | Test Loss: 1.0020 | Test Acc: 0.7812 | Test F1: 0.7758\n",
      "Epoch 2/7 | Train Loss: 0.7717 | Train Acc: 0.8292 | Train F1: 0.8255 | Test Loss: 0.6409 | Test Acc: 0.8542 | Test F1: 0.8537\n",
      "Epoch 3/7 | Train Loss: 0.5449 | Train Acc: 0.8833 | Train F1: 0.8839 | Test Loss: 0.5090 | Test Acc: 0.8854 | Test F1: 0.8971\n",
      "Epoch 4/7 | Train Loss: 0.4580 | Train Acc: 0.9042 | Train F1: 0.9043 | Test Loss: 0.4678 | Test Acc: 0.8854 | Test F1: 0.8948\n",
      "Epoch 5/7 | Train Loss: 0.4202 | Train Acc: 0.9111 | Train F1: 0.9112 | Test Loss: 0.4244 | Test Acc: 0.9167 | Test F1: 0.9116\n",
      "Epoch 6/7 | Train Loss: 0.4078 | Train Acc: 0.9153 | Train F1: 0.9152 | Test Loss: 0.4183 | Test Acc: 0.9167 | Test F1: 0.9116\n",
      "Epoch 7/7 | Train Loss: 0.4078 | Train Acc: 0.9153 | Train F1: 0.9152 | Test Loss: 0.4106 | Test Acc: 0.9167 | Test F1: 0.9116\n",
      "Train time on cuda: 333.0185268000005\n",
      "Inference Loss: 0.4079, Accuracy: 91.53%\n"
     ]
    },
    {
     "data": {
      "application/vnd.jupyter.widget-view+json": {
       "model_id": "f70d9a87c5444dfb91e919ef6c89f00c",
       "version_major": 2,
       "version_minor": 0
      },
      "text/plain": [
       "VBox(children=(Label(value='0.008 MB of 0.008 MB uploaded\\r'), FloatProgress(value=1.0, max=1.0)))"
      ]
     },
     "metadata": {},
     "output_type": "display_data"
    },
    {
     "data": {
      "text/html": [
       "<style>\n",
       "    table.wandb td:nth-child(1) { padding: 0 10px; text-align: left ; width: auto;} td:nth-child(2) {text-align: left ; width: 100%}\n",
       "    .wandb-row { display: flex; flex-direction: row; flex-wrap: wrap; justify-content: flex-start; width: 100% }\n",
       "    .wandb-col { display: flex; flex-direction: column; flex-basis: 100%; flex: 1; padding: 10px; }\n",
       "    </style>\n",
       "<div class=\"wandb-row\"><div class=\"wandb-col\"><h3>Run history:</h3><br/><table class=\"wandb\"><tr><td>epoch</td><td>▁▂▃▅▆▇█</td></tr><tr><td>inference_accuracy</td><td>▁</td></tr><tr><td>inference_loss</td><td>▁</td></tr><tr><td>test_acc</td><td>▁▅▆▆███</td></tr><tr><td>test_f1</td><td>▁▅▇▇███</td></tr><tr><td>test_loss</td><td>█▄▂▂▁▁▁</td></tr><tr><td>test_precision</td><td>▁▅▇▇███</td></tr><tr><td>test_recall</td><td>▁▅▇▇███</td></tr><tr><td>train_acc</td><td>▁▆▇████</td></tr><tr><td>train_f1</td><td>▁▆▇████</td></tr><tr><td>train_loss</td><td>█▃▂▁▁▁▁</td></tr><tr><td>train_precision</td><td>▁▆▇████</td></tr><tr><td>train_recall</td><td>▁▆▇████</td></tr></table><br/></div><div class=\"wandb-col\"><h3>Run summary:</h3><br/><table class=\"wandb\"><tr><td>epoch</td><td>7</td></tr><tr><td>inference_accuracy</td><td>0.91528</td></tr><tr><td>inference_loss</td><td>0.40791</td></tr><tr><td>test_acc</td><td>0.91667</td></tr><tr><td>test_f1</td><td>0.91158</td></tr><tr><td>test_loss</td><td>0.41061</td></tr><tr><td>test_precision</td><td>0.92511</td></tr><tr><td>test_recall</td><td>0.91111</td></tr><tr><td>train_acc</td><td>0.91528</td></tr><tr><td>train_f1</td><td>0.91522</td></tr><tr><td>train_loss</td><td>0.40785</td></tr><tr><td>train_precision</td><td>0.91628</td></tr><tr><td>train_recall</td><td>0.91528</td></tr><tr><td>train_time</td><td>00:05:33</td></tr></table><br/></div></div>"
      ],
      "text/plain": [
       "<IPython.core.display.HTML object>"
      ]
     },
     "metadata": {},
     "output_type": "display_data"
    },
    {
     "data": {
      "text/html": [
       " View run <strong style=\"color:#cdcd00\">prime-sweep-41</strong> at: <a href='https://wandb.ai/andberg9-self/AST_Sweeps/runs/tr49u8ml' target=\"_blank\">https://wandb.ai/andberg9-self/AST_Sweeps/runs/tr49u8ml</a><br/> View project at: <a href='https://wandb.ai/andberg9-self/AST_Sweeps' target=\"_blank\">https://wandb.ai/andberg9-self/AST_Sweeps</a><br/>Synced 5 W&B file(s), 0 media file(s), 0 artifact file(s) and 0 other file(s)"
      ],
      "text/plain": [
       "<IPython.core.display.HTML object>"
      ]
     },
     "metadata": {},
     "output_type": "display_data"
    },
    {
     "data": {
      "text/html": [
       "Find logs at: <code>.\\wandb\\run-20240925_144727-tr49u8ml\\logs</code>"
      ],
      "text/plain": [
       "<IPython.core.display.HTML object>"
      ]
     },
     "metadata": {},
     "output_type": "display_data"
    },
    {
     "name": "stderr",
     "output_type": "stream",
     "text": [
      "wandb: Agent Starting Run: fdo49k35 with config:\n",
      "wandb: \tbatch_size: 32\n",
      "wandb: \tepochs: 7\n",
      "wandb: \tlearning_rate: 0.0006454222272681722\n",
      "wandb: \toptimizer: adamW\n",
      "wandb: \tscheduler: PolynomialLR\n"
     ]
    },
    {
     "data": {
      "text/html": [
       "Tracking run with wandb version 0.18.1"
      ],
      "text/plain": [
       "<IPython.core.display.HTML object>"
      ]
     },
     "metadata": {},
     "output_type": "display_data"
    },
    {
     "data": {
      "text/html": [
       "Run data is saved locally in <code>c:\\Users\\Sidewinders\\Research_notebooks\\Drone_classification\\Research\\notebooks\\wandb\\run-20240925_145322-fdo49k35</code>"
      ],
      "text/plain": [
       "<IPython.core.display.HTML object>"
      ]
     },
     "metadata": {},
     "output_type": "display_data"
    },
    {
     "data": {
      "text/html": [
       "Syncing run <strong><a href='https://wandb.ai/andberg9-self/AST_Sweeps/runs/fdo49k35' target=\"_blank\">radiant-sweep-42</a></strong> to <a href='https://wandb.ai/andberg9-self/AST_Sweeps' target=\"_blank\">Weights & Biases</a> (<a href='https://wandb.me/run' target=\"_blank\">docs</a>)<br/>Sweep page: <a href='https://wandb.ai/andberg9-self/AST_Sweeps/sweeps/ange3go8' target=\"_blank\">https://wandb.ai/andberg9-self/AST_Sweeps/sweeps/ange3go8</a>"
      ],
      "text/plain": [
       "<IPython.core.display.HTML object>"
      ]
     },
     "metadata": {},
     "output_type": "display_data"
    },
    {
     "data": {
      "text/html": [
       " View project at <a href='https://wandb.ai/andberg9-self/AST_Sweeps' target=\"_blank\">https://wandb.ai/andberg9-self/AST_Sweeps</a>"
      ],
      "text/plain": [
       "<IPython.core.display.HTML object>"
      ]
     },
     "metadata": {},
     "output_type": "display_data"
    },
    {
     "data": {
      "text/html": [
       " View sweep at <a href='https://wandb.ai/andberg9-self/AST_Sweeps/sweeps/ange3go8' target=\"_blank\">https://wandb.ai/andberg9-self/AST_Sweeps/sweeps/ange3go8</a>"
      ],
      "text/plain": [
       "<IPython.core.display.HTML object>"
      ]
     },
     "metadata": {},
     "output_type": "display_data"
    },
    {
     "data": {
      "text/html": [
       " View run at <a href='https://wandb.ai/andberg9-self/AST_Sweeps/runs/fdo49k35' target=\"_blank\">https://wandb.ai/andberg9-self/AST_Sweeps/runs/fdo49k35</a>"
      ],
      "text/plain": [
       "<IPython.core.display.HTML object>"
      ]
     },
     "metadata": {},
     "output_type": "display_data"
    },
    {
     "name": "stdout",
     "output_type": "stream",
     "text": [
      "ASTForAudioClassification(\n",
      "  (audio_spectrogram_transformer): ASTModel(\n",
      "    (embeddings): ASTEmbeddings(\n",
      "      (patch_embeddings): ASTPatchEmbeddings(\n",
      "        (projection): Conv2d(1, 768, kernel_size=(16, 16), stride=(10, 10))\n",
      "      )\n",
      "      (dropout): Dropout(p=0.0, inplace=False)\n",
      "    )\n",
      "    (encoder): ASTEncoder(\n",
      "      (layer): ModuleList(\n",
      "        (0-11): 12 x ASTLayer(\n",
      "          (attention): ASTSdpaAttention(\n",
      "            (attention): ASTSdpaSelfAttention(\n",
      "              (query): Linear(in_features=768, out_features=768, bias=True)\n",
      "              (key): Linear(in_features=768, out_features=768, bias=True)\n",
      "              (value): Linear(in_features=768, out_features=768, bias=True)\n",
      "              (dropout): Dropout(p=0.0, inplace=False)\n",
      "            )\n",
      "            (output): ASTSelfOutput(\n",
      "              (dense): Linear(in_features=768, out_features=768, bias=True)\n",
      "              (dropout): Dropout(p=0.0, inplace=False)\n",
      "            )\n",
      "          )\n",
      "          (intermediate): ASTIntermediate(\n",
      "            (dense): Linear(in_features=768, out_features=3072, bias=True)\n",
      "            (intermediate_act_fn): GELUActivation()\n",
      "          )\n",
      "          (output): ASTOutput(\n",
      "            (dense): Linear(in_features=3072, out_features=768, bias=True)\n",
      "            (dropout): Dropout(p=0.0, inplace=False)\n",
      "          )\n",
      "          (layernorm_before): LayerNorm((768,), eps=1e-12, elementwise_affine=True)\n",
      "          (layernorm_after): LayerNorm((768,), eps=1e-12, elementwise_affine=True)\n",
      "        )\n",
      "      )\n",
      "    )\n",
      "    (layernorm): LayerNorm((768,), eps=1e-12, elementwise_affine=True)\n",
      "  )\n",
      "  (classifier): ASTMLPHead(\n",
      "    (layernorm): LayerNorm((768,), eps=1e-12, elementwise_affine=True)\n",
      "    (dense): Linear(in_features=768, out_features=9, bias=True)\n",
      "  )\n",
      ")\n"
     ]
    },
    {
     "data": {
      "application/vnd.jupyter.widget-view+json": {
       "model_id": "338bb78a85a644c0b5d317dcace586e9",
       "version_major": 2,
       "version_minor": 0
      },
      "text/plain": [
       "  0%|          | 0/7 [00:00<?, ?it/s]"
      ]
     },
     "metadata": {},
     "output_type": "display_data"
    },
    {
     "name": "stdout",
     "output_type": "stream",
     "text": [
      "Epoch 1/7 | Train Loss: 2.1602 | Train Acc: 0.2160 | Train F1: 0.2070 | Test Loss: 1.8276 | Test Acc: 0.4594 | Test F1: 0.3999\n",
      "Epoch 2/7 | Train Loss: 1.6141 | Train Acc: 0.5856 | Train F1: 0.5335 | Test Loss: 1.4446 | Test Acc: 0.6750 | Test F1: 0.6377\n",
      "Epoch 3/7 | Train Loss: 1.2807 | Train Acc: 0.7378 | Train F1: 0.7088 | Test Loss: 1.1863 | Test Acc: 0.7625 | Test F1: 0.7432\n",
      "Epoch 4/7 | Train Loss: 1.1035 | Train Acc: 0.7908 | Train F1: 0.7792 | Test Loss: 1.0526 | Test Acc: 0.8354 | Test F1: 0.8379\n",
      "Epoch 5/7 | Train Loss: 1.0104 | Train Acc: 0.8207 | Train F1: 0.8166 | Test Loss: 0.9934 | Test Acc: 0.8635 | Test F1: 0.8570\n",
      "Epoch 6/7 | Train Loss: 0.9829 | Train Acc: 0.8329 | Train F1: 0.8310 | Test Loss: 1.0041 | Test Acc: 0.8510 | Test F1: 0.8570\n",
      "Epoch 7/7 | Train Loss: 0.9889 | Train Acc: 0.8302 | Train F1: 0.8310 | Test Loss: 0.9896 | Test Acc: 0.8698 | Test F1: 0.8570\n",
      "Train time on cuda: 334.50812640000004\n",
      "Inference Loss: 0.9863, Accuracy: 83.19%\n"
     ]
    },
    {
     "data": {
      "application/vnd.jupyter.widget-view+json": {
       "model_id": "b5053d5448704f069530da6f317a5b17",
       "version_major": 2,
       "version_minor": 0
      },
      "text/plain": [
       "VBox(children=(Label(value='0.008 MB of 0.008 MB uploaded\\r'), FloatProgress(value=1.0, max=1.0)))"
      ]
     },
     "metadata": {},
     "output_type": "display_data"
    },
    {
     "data": {
      "text/html": [
       "<style>\n",
       "    table.wandb td:nth-child(1) { padding: 0 10px; text-align: left ; width: auto;} td:nth-child(2) {text-align: left ; width: 100%}\n",
       "    .wandb-row { display: flex; flex-direction: row; flex-wrap: wrap; justify-content: flex-start; width: 100% }\n",
       "    .wandb-col { display: flex; flex-direction: column; flex-basis: 100%; flex: 1; padding: 10px; }\n",
       "    </style>\n",
       "<div class=\"wandb-row\"><div class=\"wandb-col\"><h3>Run history:</h3><br/><table class=\"wandb\"><tr><td>epoch</td><td>▁▂▃▅▆▇█</td></tr><tr><td>inference_accuracy</td><td>▁</td></tr><tr><td>inference_loss</td><td>▁</td></tr><tr><td>test_acc</td><td>▁▅▆▇███</td></tr><tr><td>test_f1</td><td>▁▅▆████</td></tr><tr><td>test_loss</td><td>█▅▃▂▁▁▁</td></tr><tr><td>test_precision</td><td>▁▄▇████</td></tr><tr><td>test_recall</td><td>▁▅▆████</td></tr><tr><td>train_acc</td><td>▁▅▇████</td></tr><tr><td>train_f1</td><td>▁▅▇▇███</td></tr><tr><td>train_loss</td><td>█▅▃▂▁▁▁</td></tr><tr><td>train_precision</td><td>▁▅▇▇███</td></tr><tr><td>train_recall</td><td>▁▅▇████</td></tr></table><br/></div><div class=\"wandb-col\"><h3>Run summary:</h3><br/><table class=\"wandb\"><tr><td>epoch</td><td>7</td></tr><tr><td>inference_accuracy</td><td>0.83194</td></tr><tr><td>inference_loss</td><td>0.98632</td></tr><tr><td>test_acc</td><td>0.86979</td></tr><tr><td>test_f1</td><td>0.85699</td></tr><tr><td>test_loss</td><td>0.98962</td></tr><tr><td>test_precision</td><td>0.867</td></tr><tr><td>test_recall</td><td>0.86111</td></tr><tr><td>train_acc</td><td>0.83016</td></tr><tr><td>train_f1</td><td>0.83098</td></tr><tr><td>train_loss</td><td>0.98886</td></tr><tr><td>train_precision</td><td>0.83311</td></tr><tr><td>train_recall</td><td>0.83194</td></tr><tr><td>train_time</td><td>00:05:34</td></tr></table><br/></div></div>"
      ],
      "text/plain": [
       "<IPython.core.display.HTML object>"
      ]
     },
     "metadata": {},
     "output_type": "display_data"
    },
    {
     "data": {
      "text/html": [
       " View run <strong style=\"color:#cdcd00\">radiant-sweep-42</strong> at: <a href='https://wandb.ai/andberg9-self/AST_Sweeps/runs/fdo49k35' target=\"_blank\">https://wandb.ai/andberg9-self/AST_Sweeps/runs/fdo49k35</a><br/> View project at: <a href='https://wandb.ai/andberg9-self/AST_Sweeps' target=\"_blank\">https://wandb.ai/andberg9-self/AST_Sweeps</a><br/>Synced 5 W&B file(s), 0 media file(s), 0 artifact file(s) and 0 other file(s)"
      ],
      "text/plain": [
       "<IPython.core.display.HTML object>"
      ]
     },
     "metadata": {},
     "output_type": "display_data"
    },
    {
     "data": {
      "text/html": [
       "Find logs at: <code>.\\wandb\\run-20240925_145322-fdo49k35\\logs</code>"
      ],
      "text/plain": [
       "<IPython.core.display.HTML object>"
      ]
     },
     "metadata": {},
     "output_type": "display_data"
    },
    {
     "name": "stderr",
     "output_type": "stream",
     "text": [
      "wandb: Agent Starting Run: yxvlyxqb with config:\n",
      "wandb: \tbatch_size: 32\n",
      "wandb: \tepochs: 7\n",
      "wandb: \tlearning_rate: 0.0004058852678129564\n",
      "wandb: \toptimizer: adamW\n",
      "wandb: \tscheduler: PolynomialLR\n"
     ]
    },
    {
     "data": {
      "text/html": [
       "Tracking run with wandb version 0.18.1"
      ],
      "text/plain": [
       "<IPython.core.display.HTML object>"
      ]
     },
     "metadata": {},
     "output_type": "display_data"
    },
    {
     "data": {
      "text/html": [
       "Run data is saved locally in <code>c:\\Users\\Sidewinders\\Research_notebooks\\Drone_classification\\Research\\notebooks\\wandb\\run-20240925_145919-yxvlyxqb</code>"
      ],
      "text/plain": [
       "<IPython.core.display.HTML object>"
      ]
     },
     "metadata": {},
     "output_type": "display_data"
    },
    {
     "data": {
      "text/html": [
       "Syncing run <strong><a href='https://wandb.ai/andberg9-self/AST_Sweeps/runs/yxvlyxqb' target=\"_blank\">driven-sweep-43</a></strong> to <a href='https://wandb.ai/andberg9-self/AST_Sweeps' target=\"_blank\">Weights & Biases</a> (<a href='https://wandb.me/run' target=\"_blank\">docs</a>)<br/>Sweep page: <a href='https://wandb.ai/andberg9-self/AST_Sweeps/sweeps/ange3go8' target=\"_blank\">https://wandb.ai/andberg9-self/AST_Sweeps/sweeps/ange3go8</a>"
      ],
      "text/plain": [
       "<IPython.core.display.HTML object>"
      ]
     },
     "metadata": {},
     "output_type": "display_data"
    },
    {
     "data": {
      "text/html": [
       " View project at <a href='https://wandb.ai/andberg9-self/AST_Sweeps' target=\"_blank\">https://wandb.ai/andberg9-self/AST_Sweeps</a>"
      ],
      "text/plain": [
       "<IPython.core.display.HTML object>"
      ]
     },
     "metadata": {},
     "output_type": "display_data"
    },
    {
     "data": {
      "text/html": [
       " View sweep at <a href='https://wandb.ai/andberg9-self/AST_Sweeps/sweeps/ange3go8' target=\"_blank\">https://wandb.ai/andberg9-self/AST_Sweeps/sweeps/ange3go8</a>"
      ],
      "text/plain": [
       "<IPython.core.display.HTML object>"
      ]
     },
     "metadata": {},
     "output_type": "display_data"
    },
    {
     "data": {
      "text/html": [
       " View run at <a href='https://wandb.ai/andberg9-self/AST_Sweeps/runs/yxvlyxqb' target=\"_blank\">https://wandb.ai/andberg9-self/AST_Sweeps/runs/yxvlyxqb</a>"
      ],
      "text/plain": [
       "<IPython.core.display.HTML object>"
      ]
     },
     "metadata": {},
     "output_type": "display_data"
    },
    {
     "name": "stdout",
     "output_type": "stream",
     "text": [
      "ASTForAudioClassification(\n",
      "  (audio_spectrogram_transformer): ASTModel(\n",
      "    (embeddings): ASTEmbeddings(\n",
      "      (patch_embeddings): ASTPatchEmbeddings(\n",
      "        (projection): Conv2d(1, 768, kernel_size=(16, 16), stride=(10, 10))\n",
      "      )\n",
      "      (dropout): Dropout(p=0.0, inplace=False)\n",
      "    )\n",
      "    (encoder): ASTEncoder(\n",
      "      (layer): ModuleList(\n",
      "        (0-11): 12 x ASTLayer(\n",
      "          (attention): ASTSdpaAttention(\n",
      "            (attention): ASTSdpaSelfAttention(\n",
      "              (query): Linear(in_features=768, out_features=768, bias=True)\n",
      "              (key): Linear(in_features=768, out_features=768, bias=True)\n",
      "              (value): Linear(in_features=768, out_features=768, bias=True)\n",
      "              (dropout): Dropout(p=0.0, inplace=False)\n",
      "            )\n",
      "            (output): ASTSelfOutput(\n",
      "              (dense): Linear(in_features=768, out_features=768, bias=True)\n",
      "              (dropout): Dropout(p=0.0, inplace=False)\n",
      "            )\n",
      "          )\n",
      "          (intermediate): ASTIntermediate(\n",
      "            (dense): Linear(in_features=768, out_features=3072, bias=True)\n",
      "            (intermediate_act_fn): GELUActivation()\n",
      "          )\n",
      "          (output): ASTOutput(\n",
      "            (dense): Linear(in_features=3072, out_features=768, bias=True)\n",
      "            (dropout): Dropout(p=0.0, inplace=False)\n",
      "          )\n",
      "          (layernorm_before): LayerNorm((768,), eps=1e-12, elementwise_affine=True)\n",
      "          (layernorm_after): LayerNorm((768,), eps=1e-12, elementwise_affine=True)\n",
      "        )\n",
      "      )\n",
      "    )\n",
      "    (layernorm): LayerNorm((768,), eps=1e-12, elementwise_affine=True)\n",
      "  )\n",
      "  (classifier): ASTMLPHead(\n",
      "    (layernorm): LayerNorm((768,), eps=1e-12, elementwise_affine=True)\n",
      "    (dense): Linear(in_features=768, out_features=9, bias=True)\n",
      "  )\n",
      ")\n"
     ]
    },
    {
     "data": {
      "application/vnd.jupyter.widget-view+json": {
       "model_id": "0ad8db919bfc402a8fbcb00901b6f8a4",
       "version_major": 2,
       "version_minor": 0
      },
      "text/plain": [
       "  0%|          | 0/7 [00:00<?, ?it/s]"
      ]
     },
     "metadata": {},
     "output_type": "display_data"
    },
    {
     "name": "stdout",
     "output_type": "stream",
     "text": [
      "Epoch 1/7 | Train Loss: 2.1437 | Train Acc: 0.2527 | Train F1: 0.1942 | Test Loss: 1.9007 | Test Acc: 0.3302 | Test F1: 0.2807\n",
      "Epoch 2/7 | Train Loss: 1.7526 | Train Acc: 0.4402 | Train F1: 0.3956 | Test Loss: 1.6454 | Test Acc: 0.5052 | Test F1: 0.4681\n",
      "Epoch 3/7 | Train Loss: 1.5254 | Train Acc: 0.6019 | Train F1: 0.5770 | Test Loss: 1.4582 | Test Acc: 0.6813 | Test F1: 0.6635\n",
      "Epoch 4/7 | Train Loss: 1.3800 | Train Acc: 0.7052 | Train F1: 0.6963 | Test Loss: 1.3355 | Test Acc: 0.7615 | Test F1: 0.7463\n",
      "Epoch 5/7 | Train Loss: 1.2938 | Train Acc: 0.7582 | Train F1: 0.7514 | Test Loss: 1.2831 | Test Acc: 0.7740 | Test F1: 0.7694\n",
      "Epoch 6/7 | Train Loss: 1.2685 | Train Acc: 0.7799 | Train F1: 0.7752 | Test Loss: 1.2892 | Test Acc: 0.7740 | Test F1: 0.7694\n",
      "Epoch 7/7 | Train Loss: 1.2653 | Train Acc: 0.7785 | Train F1: 0.7752 | Test Loss: 1.2733 | Test Acc: 0.7833 | Test F1: 0.7694\n",
      "Train time on cuda: 335.7745576000016\n",
      "Inference Loss: 1.2707, Accuracy: 77.92%\n"
     ]
    },
    {
     "data": {
      "application/vnd.jupyter.widget-view+json": {
       "model_id": "5bace43cda3847b391ee9ab26c3da1ab",
       "version_major": 2,
       "version_minor": 0
      },
      "text/plain": [
       "VBox(children=(Label(value='0.008 MB of 0.008 MB uploaded\\r'), FloatProgress(value=1.0, max=1.0)))"
      ]
     },
     "metadata": {},
     "output_type": "display_data"
    },
    {
     "data": {
      "text/html": [
       "<style>\n",
       "    table.wandb td:nth-child(1) { padding: 0 10px; text-align: left ; width: auto;} td:nth-child(2) {text-align: left ; width: 100%}\n",
       "    .wandb-row { display: flex; flex-direction: row; flex-wrap: wrap; justify-content: flex-start; width: 100% }\n",
       "    .wandb-col { display: flex; flex-direction: column; flex-basis: 100%; flex: 1; padding: 10px; }\n",
       "    </style>\n",
       "<div class=\"wandb-row\"><div class=\"wandb-col\"><h3>Run history:</h3><br/><table class=\"wandb\"><tr><td>epoch</td><td>▁▂▃▅▆▇█</td></tr><tr><td>inference_accuracy</td><td>▁</td></tr><tr><td>inference_loss</td><td>▁</td></tr><tr><td>test_acc</td><td>▁▄▆████</td></tr><tr><td>test_f1</td><td>▁▄▆████</td></tr><tr><td>test_loss</td><td>█▅▃▂▁▁▁</td></tr><tr><td>test_precision</td><td>▁▄▇████</td></tr><tr><td>test_recall</td><td>▁▄▇████</td></tr><tr><td>train_acc</td><td>▁▃▆▇███</td></tr><tr><td>train_f1</td><td>▁▃▆▇███</td></tr><tr><td>train_loss</td><td>█▅▃▂▁▁▁</td></tr><tr><td>train_precision</td><td>▁▃▆▇███</td></tr><tr><td>train_recall</td><td>▁▃▆▇███</td></tr></table><br/></div><div class=\"wandb-col\"><h3>Run summary:</h3><br/><table class=\"wandb\"><tr><td>epoch</td><td>7</td></tr><tr><td>inference_accuracy</td><td>0.77917</td></tr><tr><td>inference_loss</td><td>1.27065</td></tr><tr><td>test_acc</td><td>0.78333</td></tr><tr><td>test_f1</td><td>0.76944</td></tr><tr><td>test_loss</td><td>1.27331</td></tr><tr><td>test_precision</td><td>0.80627</td></tr><tr><td>test_recall</td><td>0.77222</td></tr><tr><td>train_acc</td><td>0.77853</td></tr><tr><td>train_f1</td><td>0.77516</td></tr><tr><td>train_loss</td><td>1.26534</td></tr><tr><td>train_precision</td><td>0.79099</td></tr><tr><td>train_recall</td><td>0.77917</td></tr><tr><td>train_time</td><td>00:05:35</td></tr></table><br/></div></div>"
      ],
      "text/plain": [
       "<IPython.core.display.HTML object>"
      ]
     },
     "metadata": {},
     "output_type": "display_data"
    },
    {
     "data": {
      "text/html": [
       " View run <strong style=\"color:#cdcd00\">driven-sweep-43</strong> at: <a href='https://wandb.ai/andberg9-self/AST_Sweeps/runs/yxvlyxqb' target=\"_blank\">https://wandb.ai/andberg9-self/AST_Sweeps/runs/yxvlyxqb</a><br/> View project at: <a href='https://wandb.ai/andberg9-self/AST_Sweeps' target=\"_blank\">https://wandb.ai/andberg9-self/AST_Sweeps</a><br/>Synced 5 W&B file(s), 0 media file(s), 0 artifact file(s) and 0 other file(s)"
      ],
      "text/plain": [
       "<IPython.core.display.HTML object>"
      ]
     },
     "metadata": {},
     "output_type": "display_data"
    },
    {
     "data": {
      "text/html": [
       "Find logs at: <code>.\\wandb\\run-20240925_145919-yxvlyxqb\\logs</code>"
      ],
      "text/plain": [
       "<IPython.core.display.HTML object>"
      ]
     },
     "metadata": {},
     "output_type": "display_data"
    },
    {
     "name": "stderr",
     "output_type": "stream",
     "text": [
      "wandb: Agent Starting Run: 2d6dnwnx with config:\n",
      "wandb: \tbatch_size: 8\n",
      "wandb: \tepochs: 7\n",
      "wandb: \tlearning_rate: 0.00026733751352771377\n",
      "wandb: \toptimizer: adamW\n",
      "wandb: \tscheduler: PolynomialLR\n"
     ]
    },
    {
     "data": {
      "text/html": [
       "Tracking run with wandb version 0.18.1"
      ],
      "text/plain": [
       "<IPython.core.display.HTML object>"
      ]
     },
     "metadata": {},
     "output_type": "display_data"
    },
    {
     "data": {
      "text/html": [
       "Run data is saved locally in <code>c:\\Users\\Sidewinders\\Research_notebooks\\Drone_classification\\Research\\notebooks\\wandb\\run-20240925_150515-2d6dnwnx</code>"
      ],
      "text/plain": [
       "<IPython.core.display.HTML object>"
      ]
     },
     "metadata": {},
     "output_type": "display_data"
    },
    {
     "data": {
      "text/html": [
       "Syncing run <strong><a href='https://wandb.ai/andberg9-self/AST_Sweeps/runs/2d6dnwnx' target=\"_blank\">fresh-sweep-44</a></strong> to <a href='https://wandb.ai/andberg9-self/AST_Sweeps' target=\"_blank\">Weights & Biases</a> (<a href='https://wandb.me/run' target=\"_blank\">docs</a>)<br/>Sweep page: <a href='https://wandb.ai/andberg9-self/AST_Sweeps/sweeps/ange3go8' target=\"_blank\">https://wandb.ai/andberg9-self/AST_Sweeps/sweeps/ange3go8</a>"
      ],
      "text/plain": [
       "<IPython.core.display.HTML object>"
      ]
     },
     "metadata": {},
     "output_type": "display_data"
    },
    {
     "data": {
      "text/html": [
       " View project at <a href='https://wandb.ai/andberg9-self/AST_Sweeps' target=\"_blank\">https://wandb.ai/andberg9-self/AST_Sweeps</a>"
      ],
      "text/plain": [
       "<IPython.core.display.HTML object>"
      ]
     },
     "metadata": {},
     "output_type": "display_data"
    },
    {
     "data": {
      "text/html": [
       " View sweep at <a href='https://wandb.ai/andberg9-self/AST_Sweeps/sweeps/ange3go8' target=\"_blank\">https://wandb.ai/andberg9-self/AST_Sweeps/sweeps/ange3go8</a>"
      ],
      "text/plain": [
       "<IPython.core.display.HTML object>"
      ]
     },
     "metadata": {},
     "output_type": "display_data"
    },
    {
     "data": {
      "text/html": [
       " View run at <a href='https://wandb.ai/andberg9-self/AST_Sweeps/runs/2d6dnwnx' target=\"_blank\">https://wandb.ai/andberg9-self/AST_Sweeps/runs/2d6dnwnx</a>"
      ],
      "text/plain": [
       "<IPython.core.display.HTML object>"
      ]
     },
     "metadata": {},
     "output_type": "display_data"
    },
    {
     "name": "stdout",
     "output_type": "stream",
     "text": [
      "ASTForAudioClassification(\n",
      "  (audio_spectrogram_transformer): ASTModel(\n",
      "    (embeddings): ASTEmbeddings(\n",
      "      (patch_embeddings): ASTPatchEmbeddings(\n",
      "        (projection): Conv2d(1, 768, kernel_size=(16, 16), stride=(10, 10))\n",
      "      )\n",
      "      (dropout): Dropout(p=0.0, inplace=False)\n",
      "    )\n",
      "    (encoder): ASTEncoder(\n",
      "      (layer): ModuleList(\n",
      "        (0-11): 12 x ASTLayer(\n",
      "          (attention): ASTSdpaAttention(\n",
      "            (attention): ASTSdpaSelfAttention(\n",
      "              (query): Linear(in_features=768, out_features=768, bias=True)\n",
      "              (key): Linear(in_features=768, out_features=768, bias=True)\n",
      "              (value): Linear(in_features=768, out_features=768, bias=True)\n",
      "              (dropout): Dropout(p=0.0, inplace=False)\n",
      "            )\n",
      "            (output): ASTSelfOutput(\n",
      "              (dense): Linear(in_features=768, out_features=768, bias=True)\n",
      "              (dropout): Dropout(p=0.0, inplace=False)\n",
      "            )\n",
      "          )\n",
      "          (intermediate): ASTIntermediate(\n",
      "            (dense): Linear(in_features=768, out_features=3072, bias=True)\n",
      "            (intermediate_act_fn): GELUActivation()\n",
      "          )\n",
      "          (output): ASTOutput(\n",
      "            (dense): Linear(in_features=3072, out_features=768, bias=True)\n",
      "            (dropout): Dropout(p=0.0, inplace=False)\n",
      "          )\n",
      "          (layernorm_before): LayerNorm((768,), eps=1e-12, elementwise_affine=True)\n",
      "          (layernorm_after): LayerNorm((768,), eps=1e-12, elementwise_affine=True)\n",
      "        )\n",
      "      )\n",
      "    )\n",
      "    (layernorm): LayerNorm((768,), eps=1e-12, elementwise_affine=True)\n",
      "  )\n",
      "  (classifier): ASTMLPHead(\n",
      "    (layernorm): LayerNorm((768,), eps=1e-12, elementwise_affine=True)\n",
      "    (dense): Linear(in_features=768, out_features=9, bias=True)\n",
      "  )\n",
      ")\n"
     ]
    },
    {
     "data": {
      "application/vnd.jupyter.widget-view+json": {
       "model_id": "7c1d30c49aa24f30885dd9465b1cf84b",
       "version_major": 2,
       "version_minor": 0
      },
      "text/plain": [
       "  0%|          | 0/7 [00:00<?, ?it/s]"
      ]
     },
     "metadata": {},
     "output_type": "display_data"
    },
    {
     "name": "stdout",
     "output_type": "stream",
     "text": [
      "Epoch 1/7 | Train Loss: 1.8040 | Train Acc: 0.4458 | Train F1: 0.4201 | Test Loss: 1.4111 | Test Acc: 0.7011 | Test F1: 0.6836\n",
      "Epoch 2/7 | Train Loss: 1.2103 | Train Acc: 0.7611 | Train F1: 0.7533 | Test Loss: 1.0255 | Test Acc: 0.8370 | Test F1: 0.8355\n",
      "Epoch 3/7 | Train Loss: 0.9331 | Train Acc: 0.8181 | Train F1: 0.8135 | Test Loss: 0.8395 | Test Acc: 0.8967 | Test F1: 0.8917\n",
      "Epoch 4/7 | Train Loss: 0.8044 | Train Acc: 0.8653 | Train F1: 0.8632 | Test Loss: 0.7620 | Test Acc: 0.8913 | Test F1: 0.8926\n",
      "Epoch 5/7 | Train Loss: 0.7426 | Train Acc: 0.8861 | Train F1: 0.8845 | Test Loss: 0.7185 | Test Acc: 0.9076 | Test F1: 0.9039\n",
      "Epoch 6/7 | Train Loss: 0.7229 | Train Acc: 0.8847 | Train F1: 0.8834 | Test Loss: 0.7240 | Test Acc: 0.9076 | Test F1: 0.9039\n",
      "Epoch 7/7 | Train Loss: 0.7229 | Train Acc: 0.8847 | Train F1: 0.8834 | Test Loss: 0.7193 | Test Acc: 0.9076 | Test F1: 0.9039\n",
      "Train time on cuda: 331.48567980000007\n",
      "Inference Loss: 0.7230, Accuracy: 88.47%\n"
     ]
    },
    {
     "data": {
      "application/vnd.jupyter.widget-view+json": {
       "model_id": "327e0b95b0d045adb5ddd98a541e8ce2",
       "version_major": 2,
       "version_minor": 0
      },
      "text/plain": [
       "VBox(children=(Label(value='0.008 MB of 0.008 MB uploaded\\r'), FloatProgress(value=1.0, max=1.0)))"
      ]
     },
     "metadata": {},
     "output_type": "display_data"
    },
    {
     "data": {
      "text/html": [
       "<style>\n",
       "    table.wandb td:nth-child(1) { padding: 0 10px; text-align: left ; width: auto;} td:nth-child(2) {text-align: left ; width: 100%}\n",
       "    .wandb-row { display: flex; flex-direction: row; flex-wrap: wrap; justify-content: flex-start; width: 100% }\n",
       "    .wandb-col { display: flex; flex-direction: column; flex-basis: 100%; flex: 1; padding: 10px; }\n",
       "    </style>\n",
       "<div class=\"wandb-row\"><div class=\"wandb-col\"><h3>Run history:</h3><br/><table class=\"wandb\"><tr><td>epoch</td><td>▁▂▃▅▆▇█</td></tr><tr><td>inference_accuracy</td><td>▁</td></tr><tr><td>inference_loss</td><td>▁</td></tr><tr><td>test_acc</td><td>▁▆█▇███</td></tr><tr><td>test_f1</td><td>▁▆█████</td></tr><tr><td>test_loss</td><td>█▄▂▁▁▁▁</td></tr><tr><td>test_precision</td><td>▁▆█████</td></tr><tr><td>test_recall</td><td>▁▆█████</td></tr><tr><td>train_acc</td><td>▁▆▇████</td></tr><tr><td>train_f1</td><td>▁▆▇████</td></tr><tr><td>train_loss</td><td>█▄▂▂▁▁▁</td></tr><tr><td>train_precision</td><td>▁▆▇████</td></tr><tr><td>train_recall</td><td>▁▆▇████</td></tr></table><br/></div><div class=\"wandb-col\"><h3>Run summary:</h3><br/><table class=\"wandb\"><tr><td>epoch</td><td>7</td></tr><tr><td>inference_accuracy</td><td>0.88472</td></tr><tr><td>inference_loss</td><td>0.72297</td></tr><tr><td>test_acc</td><td>0.90761</td></tr><tr><td>test_f1</td><td>0.90394</td></tr><tr><td>test_loss</td><td>0.71933</td></tr><tr><td>test_precision</td><td>0.91496</td></tr><tr><td>test_recall</td><td>0.90556</td></tr><tr><td>train_acc</td><td>0.88472</td></tr><tr><td>train_f1</td><td>0.88343</td></tr><tr><td>train_loss</td><td>0.72293</td></tr><tr><td>train_precision</td><td>0.88617</td></tr><tr><td>train_recall</td><td>0.88472</td></tr><tr><td>train_time</td><td>00:05:31</td></tr></table><br/></div></div>"
      ],
      "text/plain": [
       "<IPython.core.display.HTML object>"
      ]
     },
     "metadata": {},
     "output_type": "display_data"
    },
    {
     "data": {
      "text/html": [
       " View run <strong style=\"color:#cdcd00\">fresh-sweep-44</strong> at: <a href='https://wandb.ai/andberg9-self/AST_Sweeps/runs/2d6dnwnx' target=\"_blank\">https://wandb.ai/andberg9-self/AST_Sweeps/runs/2d6dnwnx</a><br/> View project at: <a href='https://wandb.ai/andberg9-self/AST_Sweeps' target=\"_blank\">https://wandb.ai/andberg9-self/AST_Sweeps</a><br/>Synced 5 W&B file(s), 0 media file(s), 0 artifact file(s) and 0 other file(s)"
      ],
      "text/plain": [
       "<IPython.core.display.HTML object>"
      ]
     },
     "metadata": {},
     "output_type": "display_data"
    },
    {
     "data": {
      "text/html": [
       "Find logs at: <code>.\\wandb\\run-20240925_150515-2d6dnwnx\\logs</code>"
      ],
      "text/plain": [
       "<IPython.core.display.HTML object>"
      ]
     },
     "metadata": {},
     "output_type": "display_data"
    },
    {
     "name": "stderr",
     "output_type": "stream",
     "text": [
      "wandb: Agent Starting Run: xmfzizcs with config:\n",
      "wandb: \tbatch_size: 32\n",
      "wandb: \tepochs: 7\n",
      "wandb: \tlearning_rate: 0.0009592761216100468\n",
      "wandb: \toptimizer: adamW\n",
      "wandb: \tscheduler: PolynomialLR\n"
     ]
    },
    {
     "data": {
      "text/html": [
       "Tracking run with wandb version 0.18.1"
      ],
      "text/plain": [
       "<IPython.core.display.HTML object>"
      ]
     },
     "metadata": {},
     "output_type": "display_data"
    },
    {
     "data": {
      "text/html": [
       "Run data is saved locally in <code>c:\\Users\\Sidewinders\\Research_notebooks\\Drone_classification\\Research\\notebooks\\wandb\\run-20240925_151111-xmfzizcs</code>"
      ],
      "text/plain": [
       "<IPython.core.display.HTML object>"
      ]
     },
     "metadata": {},
     "output_type": "display_data"
    },
    {
     "data": {
      "text/html": [
       "Syncing run <strong><a href='https://wandb.ai/andberg9-self/AST_Sweeps/runs/xmfzizcs' target=\"_blank\">pretty-sweep-45</a></strong> to <a href='https://wandb.ai/andberg9-self/AST_Sweeps' target=\"_blank\">Weights & Biases</a> (<a href='https://wandb.me/run' target=\"_blank\">docs</a>)<br/>Sweep page: <a href='https://wandb.ai/andberg9-self/AST_Sweeps/sweeps/ange3go8' target=\"_blank\">https://wandb.ai/andberg9-self/AST_Sweeps/sweeps/ange3go8</a>"
      ],
      "text/plain": [
       "<IPython.core.display.HTML object>"
      ]
     },
     "metadata": {},
     "output_type": "display_data"
    },
    {
     "data": {
      "text/html": [
       " View project at <a href='https://wandb.ai/andberg9-self/AST_Sweeps' target=\"_blank\">https://wandb.ai/andberg9-self/AST_Sweeps</a>"
      ],
      "text/plain": [
       "<IPython.core.display.HTML object>"
      ]
     },
     "metadata": {},
     "output_type": "display_data"
    },
    {
     "data": {
      "text/html": [
       " View sweep at <a href='https://wandb.ai/andberg9-self/AST_Sweeps/sweeps/ange3go8' target=\"_blank\">https://wandb.ai/andberg9-self/AST_Sweeps/sweeps/ange3go8</a>"
      ],
      "text/plain": [
       "<IPython.core.display.HTML object>"
      ]
     },
     "metadata": {},
     "output_type": "display_data"
    },
    {
     "data": {
      "text/html": [
       " View run at <a href='https://wandb.ai/andberg9-self/AST_Sweeps/runs/xmfzizcs' target=\"_blank\">https://wandb.ai/andberg9-self/AST_Sweeps/runs/xmfzizcs</a>"
      ],
      "text/plain": [
       "<IPython.core.display.HTML object>"
      ]
     },
     "metadata": {},
     "output_type": "display_data"
    },
    {
     "name": "stdout",
     "output_type": "stream",
     "text": [
      "ASTForAudioClassification(\n",
      "  (audio_spectrogram_transformer): ASTModel(\n",
      "    (embeddings): ASTEmbeddings(\n",
      "      (patch_embeddings): ASTPatchEmbeddings(\n",
      "        (projection): Conv2d(1, 768, kernel_size=(16, 16), stride=(10, 10))\n",
      "      )\n",
      "      (dropout): Dropout(p=0.0, inplace=False)\n",
      "    )\n",
      "    (encoder): ASTEncoder(\n",
      "      (layer): ModuleList(\n",
      "        (0-11): 12 x ASTLayer(\n",
      "          (attention): ASTSdpaAttention(\n",
      "            (attention): ASTSdpaSelfAttention(\n",
      "              (query): Linear(in_features=768, out_features=768, bias=True)\n",
      "              (key): Linear(in_features=768, out_features=768, bias=True)\n",
      "              (value): Linear(in_features=768, out_features=768, bias=True)\n",
      "              (dropout): Dropout(p=0.0, inplace=False)\n",
      "            )\n",
      "            (output): ASTSelfOutput(\n",
      "              (dense): Linear(in_features=768, out_features=768, bias=True)\n",
      "              (dropout): Dropout(p=0.0, inplace=False)\n",
      "            )\n",
      "          )\n",
      "          (intermediate): ASTIntermediate(\n",
      "            (dense): Linear(in_features=768, out_features=3072, bias=True)\n",
      "            (intermediate_act_fn): GELUActivation()\n",
      "          )\n",
      "          (output): ASTOutput(\n",
      "            (dense): Linear(in_features=3072, out_features=768, bias=True)\n",
      "            (dropout): Dropout(p=0.0, inplace=False)\n",
      "          )\n",
      "          (layernorm_before): LayerNorm((768,), eps=1e-12, elementwise_affine=True)\n",
      "          (layernorm_after): LayerNorm((768,), eps=1e-12, elementwise_affine=True)\n",
      "        )\n",
      "      )\n",
      "    )\n",
      "    (layernorm): LayerNorm((768,), eps=1e-12, elementwise_affine=True)\n",
      "  )\n",
      "  (classifier): ASTMLPHead(\n",
      "    (layernorm): LayerNorm((768,), eps=1e-12, elementwise_affine=True)\n",
      "    (dense): Linear(in_features=768, out_features=9, bias=True)\n",
      "  )\n",
      ")\n"
     ]
    },
    {
     "data": {
      "application/vnd.jupyter.widget-view+json": {
       "model_id": "3ee3491826694538ac4edeb1e81b4960",
       "version_major": 2,
       "version_minor": 0
      },
      "text/plain": [
       "  0%|          | 0/7 [00:00<?, ?it/s]"
      ]
     },
     "metadata": {},
     "output_type": "display_data"
    },
    {
     "name": "stdout",
     "output_type": "stream",
     "text": [
      "Epoch 1/7 | Train Loss: 1.8309 | Train Acc: 0.4130 | Train F1: 0.3970 | Test Loss: 1.4615 | Test Acc: 0.5760 | Test F1: 0.5558\n",
      "Epoch 2/7 | Train Loss: 1.2097 | Train Acc: 0.7255 | Train F1: 0.7150 | Test Loss: 1.0401 | Test Acc: 0.8115 | Test F1: 0.8003\n",
      "Epoch 3/7 | Train Loss: 0.8919 | Train Acc: 0.8179 | Train F1: 0.8134 | Test Loss: 0.8287 | Test Acc: 0.8500 | Test F1: 0.8447\n",
      "Epoch 4/7 | Train Loss: 0.7427 | Train Acc: 0.8519 | Train F1: 0.8475 | Test Loss: 0.7473 | Test Acc: 0.8760 | Test F1: 0.8760\n",
      "Epoch 5/7 | Train Loss: 0.6712 | Train Acc: 0.8655 | Train F1: 0.8612 | Test Loss: 0.7023 | Test Acc: 0.8781 | Test F1: 0.8817\n",
      "Epoch 6/7 | Train Loss: 0.6524 | Train Acc: 0.8641 | Train F1: 0.8630 | Test Loss: 0.7027 | Test Acc: 0.8844 | Test F1: 0.8817\n",
      "Epoch 7/7 | Train Loss: 0.6520 | Train Acc: 0.8655 | Train F1: 0.8630 | Test Loss: 0.6984 | Test Acc: 0.8844 | Test F1: 0.8817\n",
      "Train time on cuda: 333.62744659999953\n",
      "Inference Loss: 0.6535, Accuracy: 86.39%\n"
     ]
    },
    {
     "data": {
      "application/vnd.jupyter.widget-view+json": {
       "model_id": "f5df0b2213b6418b91ecb548cedc6d1e",
       "version_major": 2,
       "version_minor": 0
      },
      "text/plain": [
       "VBox(children=(Label(value='0.008 MB of 0.008 MB uploaded\\r'), FloatProgress(value=1.0, max=1.0)))"
      ]
     },
     "metadata": {},
     "output_type": "display_data"
    },
    {
     "data": {
      "text/html": [
       "<style>\n",
       "    table.wandb td:nth-child(1) { padding: 0 10px; text-align: left ; width: auto;} td:nth-child(2) {text-align: left ; width: 100%}\n",
       "    .wandb-row { display: flex; flex-direction: row; flex-wrap: wrap; justify-content: flex-start; width: 100% }\n",
       "    .wandb-col { display: flex; flex-direction: column; flex-basis: 100%; flex: 1; padding: 10px; }\n",
       "    </style>\n",
       "<div class=\"wandb-row\"><div class=\"wandb-col\"><h3>Run history:</h3><br/><table class=\"wandb\"><tr><td>epoch</td><td>▁▂▃▅▆▇█</td></tr><tr><td>inference_accuracy</td><td>▁</td></tr><tr><td>inference_loss</td><td>▁</td></tr><tr><td>test_acc</td><td>▁▆▇████</td></tr><tr><td>test_f1</td><td>▁▆▇████</td></tr><tr><td>test_loss</td><td>█▄▂▁▁▁▁</td></tr><tr><td>test_precision</td><td>▁▆▇████</td></tr><tr><td>test_recall</td><td>▁▆▇████</td></tr><tr><td>train_acc</td><td>▁▆▇████</td></tr><tr><td>train_f1</td><td>▁▆▇████</td></tr><tr><td>train_loss</td><td>█▄▂▂▁▁▁</td></tr><tr><td>train_precision</td><td>▁▆▇████</td></tr><tr><td>train_recall</td><td>▁▆▇████</td></tr></table><br/></div><div class=\"wandb-col\"><h3>Run summary:</h3><br/><table class=\"wandb\"><tr><td>epoch</td><td>7</td></tr><tr><td>inference_accuracy</td><td>0.86389</td></tr><tr><td>inference_loss</td><td>0.65353</td></tr><tr><td>test_acc</td><td>0.88438</td></tr><tr><td>test_f1</td><td>0.88173</td></tr><tr><td>test_loss</td><td>0.6984</td></tr><tr><td>test_precision</td><td>0.89755</td></tr><tr><td>test_recall</td><td>0.88333</td></tr><tr><td>train_acc</td><td>0.86549</td></tr><tr><td>train_f1</td><td>0.863</td></tr><tr><td>train_loss</td><td>0.65198</td></tr><tr><td>train_precision</td><td>0.86757</td></tr><tr><td>train_recall</td><td>0.86389</td></tr><tr><td>train_time</td><td>00:05:33</td></tr></table><br/></div></div>"
      ],
      "text/plain": [
       "<IPython.core.display.HTML object>"
      ]
     },
     "metadata": {},
     "output_type": "display_data"
    },
    {
     "data": {
      "text/html": [
       " View run <strong style=\"color:#cdcd00\">pretty-sweep-45</strong> at: <a href='https://wandb.ai/andberg9-self/AST_Sweeps/runs/xmfzizcs' target=\"_blank\">https://wandb.ai/andberg9-self/AST_Sweeps/runs/xmfzizcs</a><br/> View project at: <a href='https://wandb.ai/andberg9-self/AST_Sweeps' target=\"_blank\">https://wandb.ai/andberg9-self/AST_Sweeps</a><br/>Synced 5 W&B file(s), 0 media file(s), 0 artifact file(s) and 0 other file(s)"
      ],
      "text/plain": [
       "<IPython.core.display.HTML object>"
      ]
     },
     "metadata": {},
     "output_type": "display_data"
    },
    {
     "data": {
      "text/html": [
       "Find logs at: <code>.\\wandb\\run-20240925_151111-xmfzizcs\\logs</code>"
      ],
      "text/plain": [
       "<IPython.core.display.HTML object>"
      ]
     },
     "metadata": {},
     "output_type": "display_data"
    },
    {
     "name": "stderr",
     "output_type": "stream",
     "text": [
      "wandb: Agent Starting Run: yf6mg99a with config:\n",
      "wandb: \tbatch_size: 32\n",
      "wandb: \tepochs: 7\n",
      "wandb: \tlearning_rate: 0.0004215994079033697\n",
      "wandb: \toptimizer: adamW\n",
      "wandb: \tscheduler: PolynomialLR\n"
     ]
    },
    {
     "data": {
      "text/html": [
       "Tracking run with wandb version 0.18.1"
      ],
      "text/plain": [
       "<IPython.core.display.HTML object>"
      ]
     },
     "metadata": {},
     "output_type": "display_data"
    },
    {
     "data": {
      "text/html": [
       "Run data is saved locally in <code>c:\\Users\\Sidewinders\\Research_notebooks\\Drone_classification\\Research\\notebooks\\wandb\\run-20240925_151707-yf6mg99a</code>"
      ],
      "text/plain": [
       "<IPython.core.display.HTML object>"
      ]
     },
     "metadata": {},
     "output_type": "display_data"
    },
    {
     "data": {
      "text/html": [
       "Syncing run <strong><a href='https://wandb.ai/andberg9-self/AST_Sweeps/runs/yf6mg99a' target=\"_blank\">expert-sweep-46</a></strong> to <a href='https://wandb.ai/andberg9-self/AST_Sweeps' target=\"_blank\">Weights & Biases</a> (<a href='https://wandb.me/run' target=\"_blank\">docs</a>)<br/>Sweep page: <a href='https://wandb.ai/andberg9-self/AST_Sweeps/sweeps/ange3go8' target=\"_blank\">https://wandb.ai/andberg9-self/AST_Sweeps/sweeps/ange3go8</a>"
      ],
      "text/plain": [
       "<IPython.core.display.HTML object>"
      ]
     },
     "metadata": {},
     "output_type": "display_data"
    },
    {
     "data": {
      "text/html": [
       " View project at <a href='https://wandb.ai/andberg9-self/AST_Sweeps' target=\"_blank\">https://wandb.ai/andberg9-self/AST_Sweeps</a>"
      ],
      "text/plain": [
       "<IPython.core.display.HTML object>"
      ]
     },
     "metadata": {},
     "output_type": "display_data"
    },
    {
     "data": {
      "text/html": [
       " View sweep at <a href='https://wandb.ai/andberg9-self/AST_Sweeps/sweeps/ange3go8' target=\"_blank\">https://wandb.ai/andberg9-self/AST_Sweeps/sweeps/ange3go8</a>"
      ],
      "text/plain": [
       "<IPython.core.display.HTML object>"
      ]
     },
     "metadata": {},
     "output_type": "display_data"
    },
    {
     "data": {
      "text/html": [
       " View run at <a href='https://wandb.ai/andberg9-self/AST_Sweeps/runs/yf6mg99a' target=\"_blank\">https://wandb.ai/andberg9-self/AST_Sweeps/runs/yf6mg99a</a>"
      ],
      "text/plain": [
       "<IPython.core.display.HTML object>"
      ]
     },
     "metadata": {},
     "output_type": "display_data"
    },
    {
     "name": "stdout",
     "output_type": "stream",
     "text": [
      "ASTForAudioClassification(\n",
      "  (audio_spectrogram_transformer): ASTModel(\n",
      "    (embeddings): ASTEmbeddings(\n",
      "      (patch_embeddings): ASTPatchEmbeddings(\n",
      "        (projection): Conv2d(1, 768, kernel_size=(16, 16), stride=(10, 10))\n",
      "      )\n",
      "      (dropout): Dropout(p=0.0, inplace=False)\n",
      "    )\n",
      "    (encoder): ASTEncoder(\n",
      "      (layer): ModuleList(\n",
      "        (0-11): 12 x ASTLayer(\n",
      "          (attention): ASTSdpaAttention(\n",
      "            (attention): ASTSdpaSelfAttention(\n",
      "              (query): Linear(in_features=768, out_features=768, bias=True)\n",
      "              (key): Linear(in_features=768, out_features=768, bias=True)\n",
      "              (value): Linear(in_features=768, out_features=768, bias=True)\n",
      "              (dropout): Dropout(p=0.0, inplace=False)\n",
      "            )\n",
      "            (output): ASTSelfOutput(\n",
      "              (dense): Linear(in_features=768, out_features=768, bias=True)\n",
      "              (dropout): Dropout(p=0.0, inplace=False)\n",
      "            )\n",
      "          )\n",
      "          (intermediate): ASTIntermediate(\n",
      "            (dense): Linear(in_features=768, out_features=3072, bias=True)\n",
      "            (intermediate_act_fn): GELUActivation()\n",
      "          )\n",
      "          (output): ASTOutput(\n",
      "            (dense): Linear(in_features=3072, out_features=768, bias=True)\n",
      "            (dropout): Dropout(p=0.0, inplace=False)\n",
      "          )\n",
      "          (layernorm_before): LayerNorm((768,), eps=1e-12, elementwise_affine=True)\n",
      "          (layernorm_after): LayerNorm((768,), eps=1e-12, elementwise_affine=True)\n",
      "        )\n",
      "      )\n",
      "    )\n",
      "    (layernorm): LayerNorm((768,), eps=1e-12, elementwise_affine=True)\n",
      "  )\n",
      "  (classifier): ASTMLPHead(\n",
      "    (layernorm): LayerNorm((768,), eps=1e-12, elementwise_affine=True)\n",
      "    (dense): Linear(in_features=768, out_features=9, bias=True)\n",
      "  )\n",
      ")\n"
     ]
    },
    {
     "data": {
      "application/vnd.jupyter.widget-view+json": {
       "model_id": "1b7a45b146704e7baf137fd6e5292c03",
       "version_major": 2,
       "version_minor": 0
      },
      "text/plain": [
       "  0%|          | 0/7 [00:00<?, ?it/s]"
      ]
     },
     "metadata": {},
     "output_type": "display_data"
    },
    {
     "name": "stdout",
     "output_type": "stream",
     "text": [
      "Epoch 1/7 | Train Loss: 1.9894 | Train Acc: 0.3247 | Train F1: 0.3163 | Test Loss: 1.7973 | Test Acc: 0.4604 | Test F1: 0.4491\n",
      "Epoch 2/7 | Train Loss: 1.6356 | Train Acc: 0.5788 | Train F1: 0.5600 | Test Loss: 1.5356 | Test Acc: 0.6177 | Test F1: 0.6186\n",
      "Epoch 3/7 | Train Loss: 1.4052 | Train Acc: 0.7188 | Train F1: 0.7106 | Test Loss: 1.3548 | Test Acc: 0.7406 | Test F1: 0.7473\n",
      "Epoch 4/7 | Train Loss: 1.2595 | Train Acc: 0.7826 | Train F1: 0.7755 | Test Loss: 1.2491 | Test Acc: 0.7948 | Test F1: 0.7905\n",
      "Epoch 5/7 | Train Loss: 1.1821 | Train Acc: 0.8084 | Train F1: 0.8044 | Test Loss: 1.1929 | Test Acc: 0.8063 | Test F1: 0.7960\n",
      "Epoch 6/7 | Train Loss: 1.1639 | Train Acc: 0.8152 | Train F1: 0.8164 | Test Loss: 1.1965 | Test Acc: 0.8063 | Test F1: 0.7960\n",
      "Epoch 7/7 | Train Loss: 1.1611 | Train Acc: 0.8207 | Train F1: 0.8164 | Test Loss: 1.2149 | Test Acc: 0.7844 | Test F1: 0.7960\n",
      "Train time on cuda: 339.4405071000001\n",
      "Inference Loss: 1.1610, Accuracy: 81.81%\n"
     ]
    },
    {
     "data": {
      "application/vnd.jupyter.widget-view+json": {
       "model_id": "6528398f2ca74a64b8a7d3bd4999910b",
       "version_major": 2,
       "version_minor": 0
      },
      "text/plain": [
       "VBox(children=(Label(value='0.008 MB of 0.008 MB uploaded\\r'), FloatProgress(value=1.0, max=1.0)))"
      ]
     },
     "metadata": {},
     "output_type": "display_data"
    },
    {
     "data": {
      "text/html": [
       "<style>\n",
       "    table.wandb td:nth-child(1) { padding: 0 10px; text-align: left ; width: auto;} td:nth-child(2) {text-align: left ; width: 100%}\n",
       "    .wandb-row { display: flex; flex-direction: row; flex-wrap: wrap; justify-content: flex-start; width: 100% }\n",
       "    .wandb-col { display: flex; flex-direction: column; flex-basis: 100%; flex: 1; padding: 10px; }\n",
       "    </style>\n",
       "<div class=\"wandb-row\"><div class=\"wandb-col\"><h3>Run history:</h3><br/><table class=\"wandb\"><tr><td>epoch</td><td>▁▂▃▅▆▇█</td></tr><tr><td>inference_accuracy</td><td>▁</td></tr><tr><td>inference_loss</td><td>▁</td></tr><tr><td>test_acc</td><td>▁▄▇████</td></tr><tr><td>test_f1</td><td>▁▄▇████</td></tr><tr><td>test_loss</td><td>█▅▃▂▁▁▁</td></tr><tr><td>test_precision</td><td>▁▅▇████</td></tr><tr><td>test_recall</td><td>▁▄▇████</td></tr><tr><td>train_acc</td><td>▁▅▇▇███</td></tr><tr><td>train_f1</td><td>▁▄▇▇███</td></tr><tr><td>train_loss</td><td>█▅▃▂▁▁▁</td></tr><tr><td>train_precision</td><td>▁▅▇▇███</td></tr><tr><td>train_recall</td><td>▁▅▇▇███</td></tr></table><br/></div><div class=\"wandb-col\"><h3>Run summary:</h3><br/><table class=\"wandb\"><tr><td>epoch</td><td>7</td></tr><tr><td>inference_accuracy</td><td>0.81806</td></tr><tr><td>inference_loss</td><td>1.16104</td></tr><tr><td>test_acc</td><td>0.78437</td></tr><tr><td>test_f1</td><td>0.79602</td></tr><tr><td>test_loss</td><td>1.21492</td></tr><tr><td>test_precision</td><td>0.79924</td></tr><tr><td>test_recall</td><td>0.8</td></tr><tr><td>train_acc</td><td>0.82065</td></tr><tr><td>train_f1</td><td>0.81639</td></tr><tr><td>train_loss</td><td>1.16111</td></tr><tr><td>train_precision</td><td>0.81801</td></tr><tr><td>train_recall</td><td>0.81806</td></tr><tr><td>train_time</td><td>00:05:39</td></tr></table><br/></div></div>"
      ],
      "text/plain": [
       "<IPython.core.display.HTML object>"
      ]
     },
     "metadata": {},
     "output_type": "display_data"
    },
    {
     "data": {
      "text/html": [
       " View run <strong style=\"color:#cdcd00\">expert-sweep-46</strong> at: <a href='https://wandb.ai/andberg9-self/AST_Sweeps/runs/yf6mg99a' target=\"_blank\">https://wandb.ai/andberg9-self/AST_Sweeps/runs/yf6mg99a</a><br/> View project at: <a href='https://wandb.ai/andberg9-self/AST_Sweeps' target=\"_blank\">https://wandb.ai/andberg9-self/AST_Sweeps</a><br/>Synced 5 W&B file(s), 0 media file(s), 0 artifact file(s) and 0 other file(s)"
      ],
      "text/plain": [
       "<IPython.core.display.HTML object>"
      ]
     },
     "metadata": {},
     "output_type": "display_data"
    },
    {
     "data": {
      "text/html": [
       "Find logs at: <code>.\\wandb\\run-20240925_151707-yf6mg99a\\logs</code>"
      ],
      "text/plain": [
       "<IPython.core.display.HTML object>"
      ]
     },
     "metadata": {},
     "output_type": "display_data"
    },
    {
     "name": "stderr",
     "output_type": "stream",
     "text": [
      "wandb: Agent Starting Run: 1ibop3xu with config:\n",
      "wandb: \tbatch_size: 4\n",
      "wandb: \tepochs: 7\n",
      "wandb: \tlearning_rate: 0.00012118202481831978\n",
      "wandb: \toptimizer: adamW\n",
      "wandb: \tscheduler: PolynomialLR\n"
     ]
    },
    {
     "data": {
      "text/html": [
       "Tracking run with wandb version 0.18.1"
      ],
      "text/plain": [
       "<IPython.core.display.HTML object>"
      ]
     },
     "metadata": {},
     "output_type": "display_data"
    },
    {
     "data": {
      "text/html": [
       "Run data is saved locally in <code>c:\\Users\\Sidewinders\\Research_notebooks\\Drone_classification\\Research\\notebooks\\wandb\\run-20240925_152308-1ibop3xu</code>"
      ],
      "text/plain": [
       "<IPython.core.display.HTML object>"
      ]
     },
     "metadata": {},
     "output_type": "display_data"
    },
    {
     "data": {
      "text/html": [
       "Syncing run <strong><a href='https://wandb.ai/andberg9-self/AST_Sweeps/runs/1ibop3xu' target=\"_blank\">icy-sweep-47</a></strong> to <a href='https://wandb.ai/andberg9-self/AST_Sweeps' target=\"_blank\">Weights & Biases</a> (<a href='https://wandb.me/run' target=\"_blank\">docs</a>)<br/>Sweep page: <a href='https://wandb.ai/andberg9-self/AST_Sweeps/sweeps/ange3go8' target=\"_blank\">https://wandb.ai/andberg9-self/AST_Sweeps/sweeps/ange3go8</a>"
      ],
      "text/plain": [
       "<IPython.core.display.HTML object>"
      ]
     },
     "metadata": {},
     "output_type": "display_data"
    },
    {
     "data": {
      "text/html": [
       " View project at <a href='https://wandb.ai/andberg9-self/AST_Sweeps' target=\"_blank\">https://wandb.ai/andberg9-self/AST_Sweeps</a>"
      ],
      "text/plain": [
       "<IPython.core.display.HTML object>"
      ]
     },
     "metadata": {},
     "output_type": "display_data"
    },
    {
     "data": {
      "text/html": [
       " View sweep at <a href='https://wandb.ai/andberg9-self/AST_Sweeps/sweeps/ange3go8' target=\"_blank\">https://wandb.ai/andberg9-self/AST_Sweeps/sweeps/ange3go8</a>"
      ],
      "text/plain": [
       "<IPython.core.display.HTML object>"
      ]
     },
     "metadata": {},
     "output_type": "display_data"
    },
    {
     "data": {
      "text/html": [
       " View run at <a href='https://wandb.ai/andberg9-self/AST_Sweeps/runs/1ibop3xu' target=\"_blank\">https://wandb.ai/andberg9-self/AST_Sweeps/runs/1ibop3xu</a>"
      ],
      "text/plain": [
       "<IPython.core.display.HTML object>"
      ]
     },
     "metadata": {},
     "output_type": "display_data"
    },
    {
     "name": "stdout",
     "output_type": "stream",
     "text": [
      "ASTForAudioClassification(\n",
      "  (audio_spectrogram_transformer): ASTModel(\n",
      "    (embeddings): ASTEmbeddings(\n",
      "      (patch_embeddings): ASTPatchEmbeddings(\n",
      "        (projection): Conv2d(1, 768, kernel_size=(16, 16), stride=(10, 10))\n",
      "      )\n",
      "      (dropout): Dropout(p=0.0, inplace=False)\n",
      "    )\n",
      "    (encoder): ASTEncoder(\n",
      "      (layer): ModuleList(\n",
      "        (0-11): 12 x ASTLayer(\n",
      "          (attention): ASTSdpaAttention(\n",
      "            (attention): ASTSdpaSelfAttention(\n",
      "              (query): Linear(in_features=768, out_features=768, bias=True)\n",
      "              (key): Linear(in_features=768, out_features=768, bias=True)\n",
      "              (value): Linear(in_features=768, out_features=768, bias=True)\n",
      "              (dropout): Dropout(p=0.0, inplace=False)\n",
      "            )\n",
      "            (output): ASTSelfOutput(\n",
      "              (dense): Linear(in_features=768, out_features=768, bias=True)\n",
      "              (dropout): Dropout(p=0.0, inplace=False)\n",
      "            )\n",
      "          )\n",
      "          (intermediate): ASTIntermediate(\n",
      "            (dense): Linear(in_features=768, out_features=3072, bias=True)\n",
      "            (intermediate_act_fn): GELUActivation()\n",
      "          )\n",
      "          (output): ASTOutput(\n",
      "            (dense): Linear(in_features=3072, out_features=768, bias=True)\n",
      "            (dropout): Dropout(p=0.0, inplace=False)\n",
      "          )\n",
      "          (layernorm_before): LayerNorm((768,), eps=1e-12, elementwise_affine=True)\n",
      "          (layernorm_after): LayerNorm((768,), eps=1e-12, elementwise_affine=True)\n",
      "        )\n",
      "      )\n",
      "    )\n",
      "    (layernorm): LayerNorm((768,), eps=1e-12, elementwise_affine=True)\n",
      "  )\n",
      "  (classifier): ASTMLPHead(\n",
      "    (layernorm): LayerNorm((768,), eps=1e-12, elementwise_affine=True)\n",
      "    (dense): Linear(in_features=768, out_features=9, bias=True)\n",
      "  )\n",
      ")\n"
     ]
    },
    {
     "data": {
      "application/vnd.jupyter.widget-view+json": {
       "model_id": "7c4fb13778414320ad134606b19e9bc0",
       "version_major": 2,
       "version_minor": 0
      },
      "text/plain": [
       "  0%|          | 0/7 [00:00<?, ?it/s]"
      ]
     },
     "metadata": {},
     "output_type": "display_data"
    },
    {
     "name": "stdout",
     "output_type": "stream",
     "text": [
      "Epoch 1/7 | Train Loss: 2.1135 | Train Acc: 0.2722 | Train F1: 0.2408 | Test Loss: 1.7237 | Test Acc: 0.4556 | Test F1: 0.4030\n",
      "Epoch 2/7 | Train Loss: 1.5481 | Train Acc: 0.5806 | Train F1: 0.5566 | Test Loss: 1.3505 | Test Acc: 0.7278 | Test F1: 0.7212\n",
      "Epoch 3/7 | Train Loss: 1.2538 | Train Acc: 0.7069 | Train F1: 0.6896 | Test Loss: 1.1461 | Test Acc: 0.8167 | Test F1: 0.8183\n",
      "Epoch 4/7 | Train Loss: 1.0973 | Train Acc: 0.7569 | Train F1: 0.7449 | Test Loss: 1.0398 | Test Acc: 0.8333 | Test F1: 0.8318\n",
      "Epoch 5/7 | Train Loss: 1.0158 | Train Acc: 0.7944 | Train F1: 0.7865 | Test Loss: 0.9903 | Test Acc: 0.8444 | Test F1: 0.8444\n",
      "Epoch 6/7 | Train Loss: 0.9895 | Train Acc: 0.8056 | Train F1: 0.8001 | Test Loss: 0.9903 | Test Acc: 0.8444 | Test F1: 0.8444\n",
      "Epoch 7/7 | Train Loss: 0.9895 | Train Acc: 0.8056 | Train F1: 0.8001 | Test Loss: 0.9903 | Test Acc: 0.8444 | Test F1: 0.8444\n",
      "Train time on cuda: 337.94926750000013\n",
      "Inference Loss: 0.9895, Accuracy: 80.56%\n"
     ]
    },
    {
     "data": {
      "application/vnd.jupyter.widget-view+json": {
       "model_id": "cc33ab50eeb54685a4f0579b6f1782bf",
       "version_major": 2,
       "version_minor": 0
      },
      "text/plain": [
       "VBox(children=(Label(value='0.004 MB of 0.004 MB uploaded\\r'), FloatProgress(value=1.0, max=1.0)))"
      ]
     },
     "metadata": {},
     "output_type": "display_data"
    },
    {
     "data": {
      "text/html": [
       "<style>\n",
       "    table.wandb td:nth-child(1) { padding: 0 10px; text-align: left ; width: auto;} td:nth-child(2) {text-align: left ; width: 100%}\n",
       "    .wandb-row { display: flex; flex-direction: row; flex-wrap: wrap; justify-content: flex-start; width: 100% }\n",
       "    .wandb-col { display: flex; flex-direction: column; flex-basis: 100%; flex: 1; padding: 10px; }\n",
       "    </style>\n",
       "<div class=\"wandb-row\"><div class=\"wandb-col\"><h3>Run history:</h3><br/><table class=\"wandb\"><tr><td>epoch</td><td>▁▂▃▅▆▇█</td></tr><tr><td>inference_accuracy</td><td>▁</td></tr><tr><td>inference_loss</td><td>▁</td></tr><tr><td>test_acc</td><td>▁▆▇████</td></tr><tr><td>test_f1</td><td>▁▆█████</td></tr><tr><td>test_loss</td><td>█▄▂▁▁▁▁</td></tr><tr><td>test_precision</td><td>▁▆█████</td></tr><tr><td>test_recall</td><td>▁▆█████</td></tr><tr><td>train_acc</td><td>▁▅▇▇███</td></tr><tr><td>train_f1</td><td>▁▅▇▇███</td></tr><tr><td>train_loss</td><td>█▄▃▂▁▁▁</td></tr><tr><td>train_precision</td><td>▁▅▇▇███</td></tr><tr><td>train_recall</td><td>▁▅▇▇███</td></tr></table><br/></div><div class=\"wandb-col\"><h3>Run summary:</h3><br/><table class=\"wandb\"><tr><td>epoch</td><td>7</td></tr><tr><td>inference_accuracy</td><td>0.80556</td></tr><tr><td>inference_loss</td><td>0.9895</td></tr><tr><td>test_acc</td><td>0.84444</td></tr><tr><td>test_f1</td><td>0.84435</td></tr><tr><td>test_loss</td><td>0.99028</td></tr><tr><td>test_precision</td><td>0.86643</td></tr><tr><td>test_recall</td><td>0.84444</td></tr><tr><td>train_acc</td><td>0.80556</td></tr><tr><td>train_f1</td><td>0.80014</td></tr><tr><td>train_loss</td><td>0.9895</td></tr><tr><td>train_precision</td><td>0.80151</td></tr><tr><td>train_recall</td><td>0.80556</td></tr><tr><td>train_time</td><td>00:05:37</td></tr></table><br/></div></div>"
      ],
      "text/plain": [
       "<IPython.core.display.HTML object>"
      ]
     },
     "metadata": {},
     "output_type": "display_data"
    },
    {
     "data": {
      "text/html": [
       " View run <strong style=\"color:#cdcd00\">icy-sweep-47</strong> at: <a href='https://wandb.ai/andberg9-self/AST_Sweeps/runs/1ibop3xu' target=\"_blank\">https://wandb.ai/andberg9-self/AST_Sweeps/runs/1ibop3xu</a><br/> View project at: <a href='https://wandb.ai/andberg9-self/AST_Sweeps' target=\"_blank\">https://wandb.ai/andberg9-self/AST_Sweeps</a><br/>Synced 5 W&B file(s), 0 media file(s), 0 artifact file(s) and 0 other file(s)"
      ],
      "text/plain": [
       "<IPython.core.display.HTML object>"
      ]
     },
     "metadata": {},
     "output_type": "display_data"
    },
    {
     "data": {
      "text/html": [
       "Find logs at: <code>.\\wandb\\run-20240925_152308-1ibop3xu\\logs</code>"
      ],
      "text/plain": [
       "<IPython.core.display.HTML object>"
      ]
     },
     "metadata": {},
     "output_type": "display_data"
    },
    {
     "name": "stderr",
     "output_type": "stream",
     "text": [
      "wandb: Agent Starting Run: woortx1s with config:\n",
      "wandb: \tbatch_size: 8\n",
      "wandb: \tepochs: 7\n",
      "wandb: \tlearning_rate: 0.000979720296279491\n",
      "wandb: \toptimizer: adamW\n",
      "wandb: \tscheduler: PolynomialLR\n"
     ]
    },
    {
     "data": {
      "text/html": [
       "Tracking run with wandb version 0.18.1"
      ],
      "text/plain": [
       "<IPython.core.display.HTML object>"
      ]
     },
     "metadata": {},
     "output_type": "display_data"
    },
    {
     "data": {
      "text/html": [
       "Run data is saved locally in <code>c:\\Users\\Sidewinders\\Research_notebooks\\Drone_classification\\Research\\notebooks\\wandb\\run-20240925_152913-woortx1s</code>"
      ],
      "text/plain": [
       "<IPython.core.display.HTML object>"
      ]
     },
     "metadata": {},
     "output_type": "display_data"
    },
    {
     "data": {
      "text/html": [
       "Syncing run <strong><a href='https://wandb.ai/andberg9-self/AST_Sweeps/runs/woortx1s' target=\"_blank\">copper-sweep-48</a></strong> to <a href='https://wandb.ai/andberg9-self/AST_Sweeps' target=\"_blank\">Weights & Biases</a> (<a href='https://wandb.me/run' target=\"_blank\">docs</a>)<br/>Sweep page: <a href='https://wandb.ai/andberg9-self/AST_Sweeps/sweeps/ange3go8' target=\"_blank\">https://wandb.ai/andberg9-self/AST_Sweeps/sweeps/ange3go8</a>"
      ],
      "text/plain": [
       "<IPython.core.display.HTML object>"
      ]
     },
     "metadata": {},
     "output_type": "display_data"
    },
    {
     "data": {
      "text/html": [
       " View project at <a href='https://wandb.ai/andberg9-self/AST_Sweeps' target=\"_blank\">https://wandb.ai/andberg9-self/AST_Sweeps</a>"
      ],
      "text/plain": [
       "<IPython.core.display.HTML object>"
      ]
     },
     "metadata": {},
     "output_type": "display_data"
    },
    {
     "data": {
      "text/html": [
       " View sweep at <a href='https://wandb.ai/andberg9-self/AST_Sweeps/sweeps/ange3go8' target=\"_blank\">https://wandb.ai/andberg9-self/AST_Sweeps/sweeps/ange3go8</a>"
      ],
      "text/plain": [
       "<IPython.core.display.HTML object>"
      ]
     },
     "metadata": {},
     "output_type": "display_data"
    },
    {
     "data": {
      "text/html": [
       " View run at <a href='https://wandb.ai/andberg9-self/AST_Sweeps/runs/woortx1s' target=\"_blank\">https://wandb.ai/andberg9-self/AST_Sweeps/runs/woortx1s</a>"
      ],
      "text/plain": [
       "<IPython.core.display.HTML object>"
      ]
     },
     "metadata": {},
     "output_type": "display_data"
    },
    {
     "name": "stdout",
     "output_type": "stream",
     "text": [
      "ASTForAudioClassification(\n",
      "  (audio_spectrogram_transformer): ASTModel(\n",
      "    (embeddings): ASTEmbeddings(\n",
      "      (patch_embeddings): ASTPatchEmbeddings(\n",
      "        (projection): Conv2d(1, 768, kernel_size=(16, 16), stride=(10, 10))\n",
      "      )\n",
      "      (dropout): Dropout(p=0.0, inplace=False)\n",
      "    )\n",
      "    (encoder): ASTEncoder(\n",
      "      (layer): ModuleList(\n",
      "        (0-11): 12 x ASTLayer(\n",
      "          (attention): ASTSdpaAttention(\n",
      "            (attention): ASTSdpaSelfAttention(\n",
      "              (query): Linear(in_features=768, out_features=768, bias=True)\n",
      "              (key): Linear(in_features=768, out_features=768, bias=True)\n",
      "              (value): Linear(in_features=768, out_features=768, bias=True)\n",
      "              (dropout): Dropout(p=0.0, inplace=False)\n",
      "            )\n",
      "            (output): ASTSelfOutput(\n",
      "              (dense): Linear(in_features=768, out_features=768, bias=True)\n",
      "              (dropout): Dropout(p=0.0, inplace=False)\n",
      "            )\n",
      "          )\n",
      "          (intermediate): ASTIntermediate(\n",
      "            (dense): Linear(in_features=768, out_features=3072, bias=True)\n",
      "            (intermediate_act_fn): GELUActivation()\n",
      "          )\n",
      "          (output): ASTOutput(\n",
      "            (dense): Linear(in_features=3072, out_features=768, bias=True)\n",
      "            (dropout): Dropout(p=0.0, inplace=False)\n",
      "          )\n",
      "          (layernorm_before): LayerNorm((768,), eps=1e-12, elementwise_affine=True)\n",
      "          (layernorm_after): LayerNorm((768,), eps=1e-12, elementwise_affine=True)\n",
      "        )\n",
      "      )\n",
      "    )\n",
      "    (layernorm): LayerNorm((768,), eps=1e-12, elementwise_affine=True)\n",
      "  )\n",
      "  (classifier): ASTMLPHead(\n",
      "    (layernorm): LayerNorm((768,), eps=1e-12, elementwise_affine=True)\n",
      "    (dense): Linear(in_features=768, out_features=9, bias=True)\n",
      "  )\n",
      ")\n"
     ]
    },
    {
     "data": {
      "application/vnd.jupyter.widget-view+json": {
       "model_id": "8e8d308b51bc43f49704ff5e8a416eb3",
       "version_major": 2,
       "version_minor": 0
      },
      "text/plain": [
       "  0%|          | 0/7 [00:00<?, ?it/s]"
      ]
     },
     "metadata": {},
     "output_type": "display_data"
    },
    {
     "name": "stdout",
     "output_type": "stream",
     "text": [
      "Epoch 1/7 | Train Loss: 1.1598 | Train Acc: 0.6694 | Train F1: 0.6602 | Test Loss: 0.5950 | Test Acc: 0.8696 | Test F1: 0.8667\n",
      "Epoch 2/7 | Train Loss: 0.4781 | Train Acc: 0.8819 | Train F1: 0.8818 | Test Loss: 0.3727 | Test Acc: 0.9348 | Test F1: 0.9338\n",
      "Epoch 3/7 | Train Loss: 0.3470 | Train Acc: 0.9250 | Train F1: 0.9251 | Test Loss: 0.3526 | Test Acc: 0.9293 | Test F1: 0.9312\n",
      "Epoch 4/7 | Train Loss: 0.3036 | Train Acc: 0.9333 | Train F1: 0.9340 | Test Loss: 0.2827 | Test Acc: 0.9565 | Test F1: 0.9555\n",
      "Epoch 5/7 | Train Loss: 0.2659 | Train Acc: 0.9458 | Train F1: 0.9463 | Test Loss: 0.2784 | Test Acc: 0.9674 | Test F1: 0.9670\n",
      "Epoch 6/7 | Train Loss: 0.2549 | Train Acc: 0.9486 | Train F1: 0.9490 | Test Loss: 0.2791 | Test Acc: 0.9620 | Test F1: 0.9670\n",
      "Epoch 7/7 | Train Loss: 0.2549 | Train Acc: 0.9486 | Train F1: 0.9490 | Test Loss: 0.2725 | Test Acc: 0.9674 | Test F1: 0.9670\n",
      "Train time on cuda: 341.3470094999975\n",
      "Inference Loss: 0.2549, Accuracy: 94.86%\n"
     ]
    },
    {
     "data": {
      "application/vnd.jupyter.widget-view+json": {
       "model_id": "5264e883c4e04dfd852ec547d43d4a37",
       "version_major": 2,
       "version_minor": 0
      },
      "text/plain": [
       "VBox(children=(Label(value='0.008 MB of 0.008 MB uploaded\\r'), FloatProgress(value=1.0, max=1.0)))"
      ]
     },
     "metadata": {},
     "output_type": "display_data"
    },
    {
     "data": {
      "text/html": [
       "<style>\n",
       "    table.wandb td:nth-child(1) { padding: 0 10px; text-align: left ; width: auto;} td:nth-child(2) {text-align: left ; width: 100%}\n",
       "    .wandb-row { display: flex; flex-direction: row; flex-wrap: wrap; justify-content: flex-start; width: 100% }\n",
       "    .wandb-col { display: flex; flex-direction: column; flex-basis: 100%; flex: 1; padding: 10px; }\n",
       "    </style>\n",
       "<div class=\"wandb-row\"><div class=\"wandb-col\"><h3>Run history:</h3><br/><table class=\"wandb\"><tr><td>epoch</td><td>▁▂▃▅▆▇█</td></tr><tr><td>inference_accuracy</td><td>▁</td></tr><tr><td>inference_loss</td><td>▁</td></tr><tr><td>test_acc</td><td>▁▆▅▇███</td></tr><tr><td>test_f1</td><td>▁▆▆▇███</td></tr><tr><td>test_loss</td><td>█▃▃▁▁▁▁</td></tr><tr><td>test_precision</td><td>▁▆▆▇███</td></tr><tr><td>test_recall</td><td>▁▆▅▇███</td></tr><tr><td>train_acc</td><td>▁▆▇████</td></tr><tr><td>train_f1</td><td>▁▆▇████</td></tr><tr><td>train_loss</td><td>█▃▂▁▁▁▁</td></tr><tr><td>train_precision</td><td>▁▆▇████</td></tr><tr><td>train_recall</td><td>▁▆▇████</td></tr></table><br/></div><div class=\"wandb-col\"><h3>Run summary:</h3><br/><table class=\"wandb\"><tr><td>epoch</td><td>7</td></tr><tr><td>inference_accuracy</td><td>0.94861</td></tr><tr><td>inference_loss</td><td>0.25489</td></tr><tr><td>test_acc</td><td>0.96739</td></tr><tr><td>test_f1</td><td>0.96702</td></tr><tr><td>test_loss</td><td>0.27248</td></tr><tr><td>test_precision</td><td>0.972</td></tr><tr><td>test_recall</td><td>0.96667</td></tr><tr><td>train_acc</td><td>0.94861</td></tr><tr><td>train_f1</td><td>0.94897</td></tr><tr><td>train_loss</td><td>0.25485</td></tr><tr><td>train_precision</td><td>0.94992</td></tr><tr><td>train_recall</td><td>0.94861</td></tr><tr><td>train_time</td><td>00:05:41</td></tr></table><br/></div></div>"
      ],
      "text/plain": [
       "<IPython.core.display.HTML object>"
      ]
     },
     "metadata": {},
     "output_type": "display_data"
    },
    {
     "data": {
      "text/html": [
       " View run <strong style=\"color:#cdcd00\">copper-sweep-48</strong> at: <a href='https://wandb.ai/andberg9-self/AST_Sweeps/runs/woortx1s' target=\"_blank\">https://wandb.ai/andberg9-self/AST_Sweeps/runs/woortx1s</a><br/> View project at: <a href='https://wandb.ai/andberg9-self/AST_Sweeps' target=\"_blank\">https://wandb.ai/andberg9-self/AST_Sweeps</a><br/>Synced 5 W&B file(s), 0 media file(s), 0 artifact file(s) and 0 other file(s)"
      ],
      "text/plain": [
       "<IPython.core.display.HTML object>"
      ]
     },
     "metadata": {},
     "output_type": "display_data"
    },
    {
     "data": {
      "text/html": [
       "Find logs at: <code>.\\wandb\\run-20240925_152913-woortx1s\\logs</code>"
      ],
      "text/plain": [
       "<IPython.core.display.HTML object>"
      ]
     },
     "metadata": {},
     "output_type": "display_data"
    },
    {
     "name": "stderr",
     "output_type": "stream",
     "text": [
      "wandb: Agent Starting Run: ls6zy1xe with config:\n",
      "wandb: \tbatch_size: 16\n",
      "wandb: \tepochs: 7\n",
      "wandb: \tlearning_rate: 0.0009334948623108728\n",
      "wandb: \toptimizer: adamW\n",
      "wandb: \tscheduler: PolynomialLR\n"
     ]
    },
    {
     "data": {
      "text/html": [
       "Tracking run with wandb version 0.18.1"
      ],
      "text/plain": [
       "<IPython.core.display.HTML object>"
      ]
     },
     "metadata": {},
     "output_type": "display_data"
    },
    {
     "data": {
      "text/html": [
       "Run data is saved locally in <code>c:\\Users\\Sidewinders\\Research_notebooks\\Drone_classification\\Research\\notebooks\\wandb\\run-20240925_153519-ls6zy1xe</code>"
      ],
      "text/plain": [
       "<IPython.core.display.HTML object>"
      ]
     },
     "metadata": {},
     "output_type": "display_data"
    },
    {
     "data": {
      "text/html": [
       "Syncing run <strong><a href='https://wandb.ai/andberg9-self/AST_Sweeps/runs/ls6zy1xe' target=\"_blank\">true-sweep-49</a></strong> to <a href='https://wandb.ai/andberg9-self/AST_Sweeps' target=\"_blank\">Weights & Biases</a> (<a href='https://wandb.me/run' target=\"_blank\">docs</a>)<br/>Sweep page: <a href='https://wandb.ai/andberg9-self/AST_Sweeps/sweeps/ange3go8' target=\"_blank\">https://wandb.ai/andberg9-self/AST_Sweeps/sweeps/ange3go8</a>"
      ],
      "text/plain": [
       "<IPython.core.display.HTML object>"
      ]
     },
     "metadata": {},
     "output_type": "display_data"
    },
    {
     "data": {
      "text/html": [
       " View project at <a href='https://wandb.ai/andberg9-self/AST_Sweeps' target=\"_blank\">https://wandb.ai/andberg9-self/AST_Sweeps</a>"
      ],
      "text/plain": [
       "<IPython.core.display.HTML object>"
      ]
     },
     "metadata": {},
     "output_type": "display_data"
    },
    {
     "data": {
      "text/html": [
       " View sweep at <a href='https://wandb.ai/andberg9-self/AST_Sweeps/sweeps/ange3go8' target=\"_blank\">https://wandb.ai/andberg9-self/AST_Sweeps/sweeps/ange3go8</a>"
      ],
      "text/plain": [
       "<IPython.core.display.HTML object>"
      ]
     },
     "metadata": {},
     "output_type": "display_data"
    },
    {
     "data": {
      "text/html": [
       " View run at <a href='https://wandb.ai/andberg9-self/AST_Sweeps/runs/ls6zy1xe' target=\"_blank\">https://wandb.ai/andberg9-self/AST_Sweeps/runs/ls6zy1xe</a>"
      ],
      "text/plain": [
       "<IPython.core.display.HTML object>"
      ]
     },
     "metadata": {},
     "output_type": "display_data"
    },
    {
     "name": "stdout",
     "output_type": "stream",
     "text": [
      "ASTForAudioClassification(\n",
      "  (audio_spectrogram_transformer): ASTModel(\n",
      "    (embeddings): ASTEmbeddings(\n",
      "      (patch_embeddings): ASTPatchEmbeddings(\n",
      "        (projection): Conv2d(1, 768, kernel_size=(16, 16), stride=(10, 10))\n",
      "      )\n",
      "      (dropout): Dropout(p=0.0, inplace=False)\n",
      "    )\n",
      "    (encoder): ASTEncoder(\n",
      "      (layer): ModuleList(\n",
      "        (0-11): 12 x ASTLayer(\n",
      "          (attention): ASTSdpaAttention(\n",
      "            (attention): ASTSdpaSelfAttention(\n",
      "              (query): Linear(in_features=768, out_features=768, bias=True)\n",
      "              (key): Linear(in_features=768, out_features=768, bias=True)\n",
      "              (value): Linear(in_features=768, out_features=768, bias=True)\n",
      "              (dropout): Dropout(p=0.0, inplace=False)\n",
      "            )\n",
      "            (output): ASTSelfOutput(\n",
      "              (dense): Linear(in_features=768, out_features=768, bias=True)\n",
      "              (dropout): Dropout(p=0.0, inplace=False)\n",
      "            )\n",
      "          )\n",
      "          (intermediate): ASTIntermediate(\n",
      "            (dense): Linear(in_features=768, out_features=3072, bias=True)\n",
      "            (intermediate_act_fn): GELUActivation()\n",
      "          )\n",
      "          (output): ASTOutput(\n",
      "            (dense): Linear(in_features=3072, out_features=768, bias=True)\n",
      "            (dropout): Dropout(p=0.0, inplace=False)\n",
      "          )\n",
      "          (layernorm_before): LayerNorm((768,), eps=1e-12, elementwise_affine=True)\n",
      "          (layernorm_after): LayerNorm((768,), eps=1e-12, elementwise_affine=True)\n",
      "        )\n",
      "      )\n",
      "    )\n",
      "    (layernorm): LayerNorm((768,), eps=1e-12, elementwise_affine=True)\n",
      "  )\n",
      "  (classifier): ASTMLPHead(\n",
      "    (layernorm): LayerNorm((768,), eps=1e-12, elementwise_affine=True)\n",
      "    (dense): Linear(in_features=768, out_features=9, bias=True)\n",
      "  )\n",
      ")\n"
     ]
    },
    {
     "data": {
      "application/vnd.jupyter.widget-view+json": {
       "model_id": "3d546181671a4810a9bea44b5b617e98",
       "version_major": 2,
       "version_minor": 0
      },
      "text/plain": [
       "  0%|          | 0/7 [00:00<?, ?it/s]"
      ]
     },
     "metadata": {},
     "output_type": "display_data"
    },
    {
     "name": "stdout",
     "output_type": "stream",
     "text": [
      "Epoch 1/7 | Train Loss: 1.6650 | Train Acc: 0.5347 | Train F1: 0.5204 | Test Loss: 0.9902 | Test Acc: 0.8073 | Test F1: 0.7863\n",
      "Epoch 2/7 | Train Loss: 0.7810 | Train Acc: 0.8431 | Train F1: 0.8402 | Test Loss: 0.6086 | Test Acc: 0.9062 | Test F1: 0.9034\n",
      "Epoch 3/7 | Train Loss: 0.5405 | Train Acc: 0.8917 | Train F1: 0.8924 | Test Loss: 0.4922 | Test Acc: 0.9167 | Test F1: 0.9112\n",
      "Epoch 4/7 | Train Loss: 0.4504 | Train Acc: 0.9042 | Train F1: 0.9046 | Test Loss: 0.4274 | Test Acc: 0.9375 | Test F1: 0.9338\n",
      "Epoch 5/7 | Train Loss: 0.4132 | Train Acc: 0.9139 | Train F1: 0.9147 | Test Loss: 0.4044 | Test Acc: 0.9479 | Test F1: 0.9449\n",
      "Epoch 6/7 | Train Loss: 0.4001 | Train Acc: 0.9125 | Train F1: 0.9132 | Test Loss: 0.4155 | Test Acc: 0.9479 | Test F1: 0.9449\n",
      "Epoch 7/7 | Train Loss: 0.4001 | Train Acc: 0.9125 | Train F1: 0.9132 | Test Loss: 0.3934 | Test Acc: 0.9479 | Test F1: 0.9449\n",
      "Train time on cuda: 341.15109779999693\n",
      "Inference Loss: 0.4002, Accuracy: 91.25%\n"
     ]
    },
    {
     "data": {
      "application/vnd.jupyter.widget-view+json": {
       "model_id": "615f77a3af784d1cabe167c8705b3467",
       "version_major": 2,
       "version_minor": 0
      },
      "text/plain": [
       "VBox(children=(Label(value='0.005 MB of 0.005 MB uploaded\\r'), FloatProgress(value=1.0, max=1.0)))"
      ]
     },
     "metadata": {},
     "output_type": "display_data"
    },
    {
     "data": {
      "text/html": [
       "<style>\n",
       "    table.wandb td:nth-child(1) { padding: 0 10px; text-align: left ; width: auto;} td:nth-child(2) {text-align: left ; width: 100%}\n",
       "    .wandb-row { display: flex; flex-direction: row; flex-wrap: wrap; justify-content: flex-start; width: 100% }\n",
       "    .wandb-col { display: flex; flex-direction: column; flex-basis: 100%; flex: 1; padding: 10px; }\n",
       "    </style>\n",
       "<div class=\"wandb-row\"><div class=\"wandb-col\"><h3>Run history:</h3><br/><table class=\"wandb\"><tr><td>epoch</td><td>▁▂▃▅▆▇█</td></tr><tr><td>inference_accuracy</td><td>▁</td></tr><tr><td>inference_loss</td><td>▁</td></tr><tr><td>test_acc</td><td>▁▆▆▇███</td></tr><tr><td>test_f1</td><td>▁▆▇████</td></tr><tr><td>test_loss</td><td>█▄▂▁▁▁▁</td></tr><tr><td>test_precision</td><td>▁▇▇▇███</td></tr><tr><td>test_recall</td><td>▁▆▆▇███</td></tr><tr><td>train_acc</td><td>▁▇█████</td></tr><tr><td>train_f1</td><td>▁▇█████</td></tr><tr><td>train_loss</td><td>█▃▂▁▁▁▁</td></tr><tr><td>train_precision</td><td>▁▇█████</td></tr><tr><td>train_recall</td><td>▁▇█████</td></tr></table><br/></div><div class=\"wandb-col\"><h3>Run summary:</h3><br/><table class=\"wandb\"><tr><td>epoch</td><td>7</td></tr><tr><td>inference_accuracy</td><td>0.9125</td></tr><tr><td>inference_loss</td><td>0.40016</td></tr><tr><td>test_acc</td><td>0.94792</td></tr><tr><td>test_f1</td><td>0.94486</td></tr><tr><td>test_loss</td><td>0.39337</td></tr><tr><td>test_precision</td><td>0.95425</td></tr><tr><td>test_recall</td><td>0.94444</td></tr><tr><td>train_acc</td><td>0.9125</td></tr><tr><td>train_f1</td><td>0.91318</td></tr><tr><td>train_loss</td><td>0.40014</td></tr><tr><td>train_precision</td><td>0.91485</td></tr><tr><td>train_recall</td><td>0.9125</td></tr><tr><td>train_time</td><td>00:05:41</td></tr></table><br/></div></div>"
      ],
      "text/plain": [
       "<IPython.core.display.HTML object>"
      ]
     },
     "metadata": {},
     "output_type": "display_data"
    },
    {
     "data": {
      "text/html": [
       " View run <strong style=\"color:#cdcd00\">true-sweep-49</strong> at: <a href='https://wandb.ai/andberg9-self/AST_Sweeps/runs/ls6zy1xe' target=\"_blank\">https://wandb.ai/andberg9-self/AST_Sweeps/runs/ls6zy1xe</a><br/> View project at: <a href='https://wandb.ai/andberg9-self/AST_Sweeps' target=\"_blank\">https://wandb.ai/andberg9-self/AST_Sweeps</a><br/>Synced 5 W&B file(s), 0 media file(s), 0 artifact file(s) and 0 other file(s)"
      ],
      "text/plain": [
       "<IPython.core.display.HTML object>"
      ]
     },
     "metadata": {},
     "output_type": "display_data"
    },
    {
     "data": {
      "text/html": [
       "Find logs at: <code>.\\wandb\\run-20240925_153519-ls6zy1xe\\logs</code>"
      ],
      "text/plain": [
       "<IPython.core.display.HTML object>"
      ]
     },
     "metadata": {},
     "output_type": "display_data"
    },
    {
     "name": "stderr",
     "output_type": "stream",
     "text": [
      "wandb: Agent Starting Run: walgim86 with config:\n",
      "wandb: \tbatch_size: 4\n",
      "wandb: \tepochs: 7\n",
      "wandb: \tlearning_rate: 0.0006756955773029842\n",
      "wandb: \toptimizer: adamW\n",
      "wandb: \tscheduler: PolynomialLR\n"
     ]
    },
    {
     "data": {
      "text/html": [
       "Tracking run with wandb version 0.18.1"
      ],
      "text/plain": [
       "<IPython.core.display.HTML object>"
      ]
     },
     "metadata": {},
     "output_type": "display_data"
    },
    {
     "data": {
      "text/html": [
       "Run data is saved locally in <code>c:\\Users\\Sidewinders\\Research_notebooks\\Drone_classification\\Research\\notebooks\\wandb\\run-20240925_154125-walgim86</code>"
      ],
      "text/plain": [
       "<IPython.core.display.HTML object>"
      ]
     },
     "metadata": {},
     "output_type": "display_data"
    },
    {
     "data": {
      "text/html": [
       "Syncing run <strong><a href='https://wandb.ai/andberg9-self/AST_Sweeps/runs/walgim86' target=\"_blank\">skilled-sweep-50</a></strong> to <a href='https://wandb.ai/andberg9-self/AST_Sweeps' target=\"_blank\">Weights & Biases</a> (<a href='https://wandb.me/run' target=\"_blank\">docs</a>)<br/>Sweep page: <a href='https://wandb.ai/andberg9-self/AST_Sweeps/sweeps/ange3go8' target=\"_blank\">https://wandb.ai/andberg9-self/AST_Sweeps/sweeps/ange3go8</a>"
      ],
      "text/plain": [
       "<IPython.core.display.HTML object>"
      ]
     },
     "metadata": {},
     "output_type": "display_data"
    },
    {
     "data": {
      "text/html": [
       " View project at <a href='https://wandb.ai/andberg9-self/AST_Sweeps' target=\"_blank\">https://wandb.ai/andberg9-self/AST_Sweeps</a>"
      ],
      "text/plain": [
       "<IPython.core.display.HTML object>"
      ]
     },
     "metadata": {},
     "output_type": "display_data"
    },
    {
     "data": {
      "text/html": [
       " View sweep at <a href='https://wandb.ai/andberg9-self/AST_Sweeps/sweeps/ange3go8' target=\"_blank\">https://wandb.ai/andberg9-self/AST_Sweeps/sweeps/ange3go8</a>"
      ],
      "text/plain": [
       "<IPython.core.display.HTML object>"
      ]
     },
     "metadata": {},
     "output_type": "display_data"
    },
    {
     "data": {
      "text/html": [
       " View run at <a href='https://wandb.ai/andberg9-self/AST_Sweeps/runs/walgim86' target=\"_blank\">https://wandb.ai/andberg9-self/AST_Sweeps/runs/walgim86</a>"
      ],
      "text/plain": [
       "<IPython.core.display.HTML object>"
      ]
     },
     "metadata": {},
     "output_type": "display_data"
    },
    {
     "name": "stdout",
     "output_type": "stream",
     "text": [
      "ASTForAudioClassification(\n",
      "  (audio_spectrogram_transformer): ASTModel(\n",
      "    (embeddings): ASTEmbeddings(\n",
      "      (patch_embeddings): ASTPatchEmbeddings(\n",
      "        (projection): Conv2d(1, 768, kernel_size=(16, 16), stride=(10, 10))\n",
      "      )\n",
      "      (dropout): Dropout(p=0.0, inplace=False)\n",
      "    )\n",
      "    (encoder): ASTEncoder(\n",
      "      (layer): ModuleList(\n",
      "        (0-11): 12 x ASTLayer(\n",
      "          (attention): ASTSdpaAttention(\n",
      "            (attention): ASTSdpaSelfAttention(\n",
      "              (query): Linear(in_features=768, out_features=768, bias=True)\n",
      "              (key): Linear(in_features=768, out_features=768, bias=True)\n",
      "              (value): Linear(in_features=768, out_features=768, bias=True)\n",
      "              (dropout): Dropout(p=0.0, inplace=False)\n",
      "            )\n",
      "            (output): ASTSelfOutput(\n",
      "              (dense): Linear(in_features=768, out_features=768, bias=True)\n",
      "              (dropout): Dropout(p=0.0, inplace=False)\n",
      "            )\n",
      "          )\n",
      "          (intermediate): ASTIntermediate(\n",
      "            (dense): Linear(in_features=768, out_features=3072, bias=True)\n",
      "            (intermediate_act_fn): GELUActivation()\n",
      "          )\n",
      "          (output): ASTOutput(\n",
      "            (dense): Linear(in_features=3072, out_features=768, bias=True)\n",
      "            (dropout): Dropout(p=0.0, inplace=False)\n",
      "          )\n",
      "          (layernorm_before): LayerNorm((768,), eps=1e-12, elementwise_affine=True)\n",
      "          (layernorm_after): LayerNorm((768,), eps=1e-12, elementwise_affine=True)\n",
      "        )\n",
      "      )\n",
      "    )\n",
      "    (layernorm): LayerNorm((768,), eps=1e-12, elementwise_affine=True)\n",
      "  )\n",
      "  (classifier): ASTMLPHead(\n",
      "    (layernorm): LayerNorm((768,), eps=1e-12, elementwise_affine=True)\n",
      "    (dense): Linear(in_features=768, out_features=9, bias=True)\n",
      "  )\n",
      ")\n"
     ]
    },
    {
     "data": {
      "application/vnd.jupyter.widget-view+json": {
       "model_id": "33ea2c2b7ba648be9f62b666704411ad",
       "version_major": 2,
       "version_minor": 0
      },
      "text/plain": [
       "  0%|          | 0/7 [00:00<?, ?it/s]"
      ]
     },
     "metadata": {},
     "output_type": "display_data"
    },
    {
     "name": "stdout",
     "output_type": "stream",
     "text": [
      "Epoch 1/7 | Train Loss: 1.1194 | Train Acc: 0.6583 | Train F1: 0.6585 | Test Loss: 0.6105 | Test Acc: 0.8444 | Test F1: 0.8491\n",
      "Epoch 2/7 | Train Loss: 0.4572 | Train Acc: 0.8958 | Train F1: 0.8962 | Test Loss: 0.3877 | Test Acc: 0.9167 | Test F1: 0.9187\n",
      "Epoch 3/7 | Train Loss: 0.3434 | Train Acc: 0.9194 | Train F1: 0.9198 | Test Loss: 0.3292 | Test Acc: 0.9444 | Test F1: 0.9448\n",
      "Epoch 4/7 | Train Loss: 0.2878 | Train Acc: 0.9417 | Train F1: 0.9420 | Test Loss: 0.2952 | Test Acc: 0.9611 | Test F1: 0.9615\n",
      "Epoch 5/7 | Train Loss: 0.2622 | Train Acc: 0.9500 | Train F1: 0.9501 | Test Loss: 0.2791 | Test Acc: 0.9611 | Test F1: 0.9615\n",
      "Epoch 6/7 | Train Loss: 0.2495 | Train Acc: 0.9569 | Train F1: 0.9571 | Test Loss: 0.2791 | Test Acc: 0.9611 | Test F1: 0.9615\n",
      "Epoch 7/7 | Train Loss: 0.2495 | Train Acc: 0.9569 | Train F1: 0.9571 | Test Loss: 0.2791 | Test Acc: 0.9611 | Test F1: 0.9615\n",
      "Train time on cuda: 333.47576270000354\n",
      "Inference Loss: 0.2495, Accuracy: 95.69%\n"
     ]
    },
    {
     "data": {
      "application/vnd.jupyter.widget-view+json": {
       "model_id": "215acfcdffa64c28aec13ecd0bdd1bed",
       "version_major": 2,
       "version_minor": 0
      },
      "text/plain": [
       "VBox(children=(Label(value='0.008 MB of 0.008 MB uploaded\\r'), FloatProgress(value=1.0, max=1.0)))"
      ]
     },
     "metadata": {},
     "output_type": "display_data"
    },
    {
     "data": {
      "text/html": [
       "<style>\n",
       "    table.wandb td:nth-child(1) { padding: 0 10px; text-align: left ; width: auto;} td:nth-child(2) {text-align: left ; width: 100%}\n",
       "    .wandb-row { display: flex; flex-direction: row; flex-wrap: wrap; justify-content: flex-start; width: 100% }\n",
       "    .wandb-col { display: flex; flex-direction: column; flex-basis: 100%; flex: 1; padding: 10px; }\n",
       "    </style>\n",
       "<div class=\"wandb-row\"><div class=\"wandb-col\"><h3>Run history:</h3><br/><table class=\"wandb\"><tr><td>epoch</td><td>▁▂▃▅▆▇█</td></tr><tr><td>inference_accuracy</td><td>▁</td></tr><tr><td>inference_loss</td><td>▁</td></tr><tr><td>test_acc</td><td>▁▅▇████</td></tr><tr><td>test_f1</td><td>▁▅▇████</td></tr><tr><td>test_loss</td><td>█▃▂▁▁▁▁</td></tr><tr><td>test_precision</td><td>▁▄▇████</td></tr><tr><td>test_recall</td><td>▁▅▇████</td></tr><tr><td>train_acc</td><td>▁▇▇████</td></tr><tr><td>train_f1</td><td>▁▇▇████</td></tr><tr><td>train_loss</td><td>█▃▂▁▁▁▁</td></tr><tr><td>train_precision</td><td>▁▇▇████</td></tr><tr><td>train_recall</td><td>▁▇▇████</td></tr></table><br/></div><div class=\"wandb-col\"><h3>Run summary:</h3><br/><table class=\"wandb\"><tr><td>epoch</td><td>7</td></tr><tr><td>inference_accuracy</td><td>0.95694</td></tr><tr><td>inference_loss</td><td>0.24955</td></tr><tr><td>test_acc</td><td>0.96111</td></tr><tr><td>test_f1</td><td>0.96153</td></tr><tr><td>test_loss</td><td>0.2791</td></tr><tr><td>test_precision</td><td>0.96861</td></tr><tr><td>test_recall</td><td>0.96111</td></tr><tr><td>train_acc</td><td>0.95694</td></tr><tr><td>train_f1</td><td>0.95708</td></tr><tr><td>train_loss</td><td>0.24949</td></tr><tr><td>train_precision</td><td>0.9574</td></tr><tr><td>train_recall</td><td>0.95694</td></tr><tr><td>train_time</td><td>00:05:33</td></tr></table><br/></div></div>"
      ],
      "text/plain": [
       "<IPython.core.display.HTML object>"
      ]
     },
     "metadata": {},
     "output_type": "display_data"
    },
    {
     "data": {
      "text/html": [
       " View run <strong style=\"color:#cdcd00\">skilled-sweep-50</strong> at: <a href='https://wandb.ai/andberg9-self/AST_Sweeps/runs/walgim86' target=\"_blank\">https://wandb.ai/andberg9-self/AST_Sweeps/runs/walgim86</a><br/> View project at: <a href='https://wandb.ai/andberg9-self/AST_Sweeps' target=\"_blank\">https://wandb.ai/andberg9-self/AST_Sweeps</a><br/>Synced 5 W&B file(s), 0 media file(s), 0 artifact file(s) and 0 other file(s)"
      ],
      "text/plain": [
       "<IPython.core.display.HTML object>"
      ]
     },
     "metadata": {},
     "output_type": "display_data"
    },
    {
     "data": {
      "text/html": [
       "Find logs at: <code>.\\wandb\\run-20240925_154125-walgim86\\logs</code>"
      ],
      "text/plain": [
       "<IPython.core.display.HTML object>"
      ]
     },
     "metadata": {},
     "output_type": "display_data"
    },
    {
     "name": "stderr",
     "output_type": "stream",
     "text": [
      "wandb: Agent Starting Run: qyvwyr9k with config:\n",
      "wandb: \tbatch_size: 8\n",
      "wandb: \tepochs: 7\n",
      "wandb: \tlearning_rate: 0.0008668945709425641\n",
      "wandb: \toptimizer: adamW\n",
      "wandb: \tscheduler: PolynomialLR\n"
     ]
    },
    {
     "data": {
      "text/html": [
       "Tracking run with wandb version 0.18.1"
      ],
      "text/plain": [
       "<IPython.core.display.HTML object>"
      ]
     },
     "metadata": {},
     "output_type": "display_data"
    },
    {
     "data": {
      "text/html": [
       "Run data is saved locally in <code>c:\\Users\\Sidewinders\\Research_notebooks\\Drone_classification\\Research\\notebooks\\wandb\\run-20240925_154722-qyvwyr9k</code>"
      ],
      "text/plain": [
       "<IPython.core.display.HTML object>"
      ]
     },
     "metadata": {},
     "output_type": "display_data"
    },
    {
     "data": {
      "text/html": [
       "Syncing run <strong><a href='https://wandb.ai/andberg9-self/AST_Sweeps/runs/qyvwyr9k' target=\"_blank\">devoted-sweep-51</a></strong> to <a href='https://wandb.ai/andberg9-self/AST_Sweeps' target=\"_blank\">Weights & Biases</a> (<a href='https://wandb.me/run' target=\"_blank\">docs</a>)<br/>Sweep page: <a href='https://wandb.ai/andberg9-self/AST_Sweeps/sweeps/ange3go8' target=\"_blank\">https://wandb.ai/andberg9-self/AST_Sweeps/sweeps/ange3go8</a>"
      ],
      "text/plain": [
       "<IPython.core.display.HTML object>"
      ]
     },
     "metadata": {},
     "output_type": "display_data"
    },
    {
     "data": {
      "text/html": [
       " View project at <a href='https://wandb.ai/andberg9-self/AST_Sweeps' target=\"_blank\">https://wandb.ai/andberg9-self/AST_Sweeps</a>"
      ],
      "text/plain": [
       "<IPython.core.display.HTML object>"
      ]
     },
     "metadata": {},
     "output_type": "display_data"
    },
    {
     "data": {
      "text/html": [
       " View sweep at <a href='https://wandb.ai/andberg9-self/AST_Sweeps/sweeps/ange3go8' target=\"_blank\">https://wandb.ai/andberg9-self/AST_Sweeps/sweeps/ange3go8</a>"
      ],
      "text/plain": [
       "<IPython.core.display.HTML object>"
      ]
     },
     "metadata": {},
     "output_type": "display_data"
    },
    {
     "data": {
      "text/html": [
       " View run at <a href='https://wandb.ai/andberg9-self/AST_Sweeps/runs/qyvwyr9k' target=\"_blank\">https://wandb.ai/andberg9-self/AST_Sweeps/runs/qyvwyr9k</a>"
      ],
      "text/plain": [
       "<IPython.core.display.HTML object>"
      ]
     },
     "metadata": {},
     "output_type": "display_data"
    },
    {
     "name": "stdout",
     "output_type": "stream",
     "text": [
      "ASTForAudioClassification(\n",
      "  (audio_spectrogram_transformer): ASTModel(\n",
      "    (embeddings): ASTEmbeddings(\n",
      "      (patch_embeddings): ASTPatchEmbeddings(\n",
      "        (projection): Conv2d(1, 768, kernel_size=(16, 16), stride=(10, 10))\n",
      "      )\n",
      "      (dropout): Dropout(p=0.0, inplace=False)\n",
      "    )\n",
      "    (encoder): ASTEncoder(\n",
      "      (layer): ModuleList(\n",
      "        (0-11): 12 x ASTLayer(\n",
      "          (attention): ASTSdpaAttention(\n",
      "            (attention): ASTSdpaSelfAttention(\n",
      "              (query): Linear(in_features=768, out_features=768, bias=True)\n",
      "              (key): Linear(in_features=768, out_features=768, bias=True)\n",
      "              (value): Linear(in_features=768, out_features=768, bias=True)\n",
      "              (dropout): Dropout(p=0.0, inplace=False)\n",
      "            )\n",
      "            (output): ASTSelfOutput(\n",
      "              (dense): Linear(in_features=768, out_features=768, bias=True)\n",
      "              (dropout): Dropout(p=0.0, inplace=False)\n",
      "            )\n",
      "          )\n",
      "          (intermediate): ASTIntermediate(\n",
      "            (dense): Linear(in_features=768, out_features=3072, bias=True)\n",
      "            (intermediate_act_fn): GELUActivation()\n",
      "          )\n",
      "          (output): ASTOutput(\n",
      "            (dense): Linear(in_features=3072, out_features=768, bias=True)\n",
      "            (dropout): Dropout(p=0.0, inplace=False)\n",
      "          )\n",
      "          (layernorm_before): LayerNorm((768,), eps=1e-12, elementwise_affine=True)\n",
      "          (layernorm_after): LayerNorm((768,), eps=1e-12, elementwise_affine=True)\n",
      "        )\n",
      "      )\n",
      "    )\n",
      "    (layernorm): LayerNorm((768,), eps=1e-12, elementwise_affine=True)\n",
      "  )\n",
      "  (classifier): ASTMLPHead(\n",
      "    (layernorm): LayerNorm((768,), eps=1e-12, elementwise_affine=True)\n",
      "    (dense): Linear(in_features=768, out_features=9, bias=True)\n",
      "  )\n",
      ")\n"
     ]
    },
    {
     "data": {
      "application/vnd.jupyter.widget-view+json": {
       "model_id": "2d205369a92a437b9b174dd6b2c940a5",
       "version_major": 2,
       "version_minor": 0
      },
      "text/plain": [
       "  0%|          | 0/7 [00:00<?, ?it/s]"
      ]
     },
     "metadata": {},
     "output_type": "display_data"
    },
    {
     "name": "stdout",
     "output_type": "stream",
     "text": [
      "Epoch 1/7 | Train Loss: 1.3093 | Train Acc: 0.6389 | Train F1: 0.6402 | Test Loss: 0.6804 | Test Acc: 0.8478 | Test F1: 0.8433\n",
      "Epoch 2/7 | Train Loss: 0.5471 | Train Acc: 0.8611 | Train F1: 0.8602 | Test Loss: 0.4443 | Test Acc: 0.9130 | Test F1: 0.9122\n",
      "Epoch 3/7 | Train Loss: 0.3955 | Train Acc: 0.9111 | Train F1: 0.9123 | Test Loss: 0.3542 | Test Acc: 0.9402 | Test F1: 0.9395\n",
      "Epoch 4/7 | Train Loss: 0.3365 | Train Acc: 0.9333 | Train F1: 0.9340 | Test Loss: 0.3332 | Test Acc: 0.9348 | Test F1: 0.9345\n",
      "Epoch 5/7 | Train Loss: 0.3072 | Train Acc: 0.9472 | Train F1: 0.9477 | Test Loss: 0.3099 | Test Acc: 0.9457 | Test F1: 0.9449\n",
      "Epoch 6/7 | Train Loss: 0.2949 | Train Acc: 0.9500 | Train F1: 0.9502 | Test Loss: 0.3188 | Test Acc: 0.9402 | Test F1: 0.9449\n",
      "Epoch 7/7 | Train Loss: 0.2949 | Train Acc: 0.9500 | Train F1: 0.9502 | Test Loss: 0.3267 | Test Acc: 0.9402 | Test F1: 0.9449\n",
      "Train time on cuda: 336.41117160000067\n",
      "Inference Loss: 0.2950, Accuracy: 95.00%\n"
     ]
    },
    {
     "data": {
      "application/vnd.jupyter.widget-view+json": {
       "model_id": "9aba494b775f4bfd966c8e081393f740",
       "version_major": 2,
       "version_minor": 0
      },
      "text/plain": [
       "VBox(children=(Label(value='0.008 MB of 0.008 MB uploaded\\r'), FloatProgress(value=1.0, max=1.0)))"
      ]
     },
     "metadata": {},
     "output_type": "display_data"
    },
    {
     "data": {
      "text/html": [
       "<style>\n",
       "    table.wandb td:nth-child(1) { padding: 0 10px; text-align: left ; width: auto;} td:nth-child(2) {text-align: left ; width: 100%}\n",
       "    .wandb-row { display: flex; flex-direction: row; flex-wrap: wrap; justify-content: flex-start; width: 100% }\n",
       "    .wandb-col { display: flex; flex-direction: column; flex-basis: 100%; flex: 1; padding: 10px; }\n",
       "    </style>\n",
       "<div class=\"wandb-row\"><div class=\"wandb-col\"><h3>Run history:</h3><br/><table class=\"wandb\"><tr><td>epoch</td><td>▁▂▃▅▆▇█</td></tr><tr><td>inference_accuracy</td><td>▁</td></tr><tr><td>inference_loss</td><td>▁</td></tr><tr><td>test_acc</td><td>▁▆█▇███</td></tr><tr><td>test_f1</td><td>▁▆█▇███</td></tr><tr><td>test_loss</td><td>█▄▂▁▁▁▁</td></tr><tr><td>test_precision</td><td>▁▆▇████</td></tr><tr><td>test_recall</td><td>▁▆█▇███</td></tr><tr><td>train_acc</td><td>▁▆▇████</td></tr><tr><td>train_f1</td><td>▁▆▇████</td></tr><tr><td>train_loss</td><td>█▃▂▁▁▁▁</td></tr><tr><td>train_precision</td><td>▁▆▇████</td></tr><tr><td>train_recall</td><td>▁▆▇████</td></tr></table><br/></div><div class=\"wandb-col\"><h3>Run summary:</h3><br/><table class=\"wandb\"><tr><td>epoch</td><td>7</td></tr><tr><td>inference_accuracy</td><td>0.95</td></tr><tr><td>inference_loss</td><td>0.29498</td></tr><tr><td>test_acc</td><td>0.94022</td></tr><tr><td>test_f1</td><td>0.94486</td></tr><tr><td>test_loss</td><td>0.32666</td></tr><tr><td>test_precision</td><td>0.95046</td></tr><tr><td>test_recall</td><td>0.94444</td></tr><tr><td>train_acc</td><td>0.95</td></tr><tr><td>train_f1</td><td>0.95023</td></tr><tr><td>train_loss</td><td>0.29494</td></tr><tr><td>train_precision</td><td>0.95069</td></tr><tr><td>train_recall</td><td>0.95</td></tr><tr><td>train_time</td><td>00:05:36</td></tr></table><br/></div></div>"
      ],
      "text/plain": [
       "<IPython.core.display.HTML object>"
      ]
     },
     "metadata": {},
     "output_type": "display_data"
    },
    {
     "data": {
      "text/html": [
       " View run <strong style=\"color:#cdcd00\">devoted-sweep-51</strong> at: <a href='https://wandb.ai/andberg9-self/AST_Sweeps/runs/qyvwyr9k' target=\"_blank\">https://wandb.ai/andberg9-self/AST_Sweeps/runs/qyvwyr9k</a><br/> View project at: <a href='https://wandb.ai/andberg9-self/AST_Sweeps' target=\"_blank\">https://wandb.ai/andberg9-self/AST_Sweeps</a><br/>Synced 5 W&B file(s), 0 media file(s), 0 artifact file(s) and 0 other file(s)"
      ],
      "text/plain": [
       "<IPython.core.display.HTML object>"
      ]
     },
     "metadata": {},
     "output_type": "display_data"
    },
    {
     "data": {
      "text/html": [
       "Find logs at: <code>.\\wandb\\run-20240925_154722-qyvwyr9k\\logs</code>"
      ],
      "text/plain": [
       "<IPython.core.display.HTML object>"
      ]
     },
     "metadata": {},
     "output_type": "display_data"
    },
    {
     "name": "stderr",
     "output_type": "stream",
     "text": [
      "wandb: Agent Starting Run: eex0tnyv with config:\n",
      "wandb: \tbatch_size: 32\n",
      "wandb: \tepochs: 7\n",
      "wandb: \tlearning_rate: 0.00088616162867119\n",
      "wandb: \toptimizer: adamW\n",
      "wandb: \tscheduler: PolynomialLR\n"
     ]
    },
    {
     "data": {
      "text/html": [
       "Tracking run with wandb version 0.18.1"
      ],
      "text/plain": [
       "<IPython.core.display.HTML object>"
      ]
     },
     "metadata": {},
     "output_type": "display_data"
    },
    {
     "data": {
      "text/html": [
       "Run data is saved locally in <code>c:\\Users\\Sidewinders\\Research_notebooks\\Drone_classification\\Research\\notebooks\\wandb\\run-20240925_155323-eex0tnyv</code>"
      ],
      "text/plain": [
       "<IPython.core.display.HTML object>"
      ]
     },
     "metadata": {},
     "output_type": "display_data"
    },
    {
     "data": {
      "text/html": [
       "Syncing run <strong><a href='https://wandb.ai/andberg9-self/AST_Sweeps/runs/eex0tnyv' target=\"_blank\">lucky-sweep-52</a></strong> to <a href='https://wandb.ai/andberg9-self/AST_Sweeps' target=\"_blank\">Weights & Biases</a> (<a href='https://wandb.me/run' target=\"_blank\">docs</a>)<br/>Sweep page: <a href='https://wandb.ai/andberg9-self/AST_Sweeps/sweeps/ange3go8' target=\"_blank\">https://wandb.ai/andberg9-self/AST_Sweeps/sweeps/ange3go8</a>"
      ],
      "text/plain": [
       "<IPython.core.display.HTML object>"
      ]
     },
     "metadata": {},
     "output_type": "display_data"
    },
    {
     "data": {
      "text/html": [
       " View project at <a href='https://wandb.ai/andberg9-self/AST_Sweeps' target=\"_blank\">https://wandb.ai/andberg9-self/AST_Sweeps</a>"
      ],
      "text/plain": [
       "<IPython.core.display.HTML object>"
      ]
     },
     "metadata": {},
     "output_type": "display_data"
    },
    {
     "data": {
      "text/html": [
       " View sweep at <a href='https://wandb.ai/andberg9-self/AST_Sweeps/sweeps/ange3go8' target=\"_blank\">https://wandb.ai/andberg9-self/AST_Sweeps/sweeps/ange3go8</a>"
      ],
      "text/plain": [
       "<IPython.core.display.HTML object>"
      ]
     },
     "metadata": {},
     "output_type": "display_data"
    },
    {
     "data": {
      "text/html": [
       " View run at <a href='https://wandb.ai/andberg9-self/AST_Sweeps/runs/eex0tnyv' target=\"_blank\">https://wandb.ai/andberg9-self/AST_Sweeps/runs/eex0tnyv</a>"
      ],
      "text/plain": [
       "<IPython.core.display.HTML object>"
      ]
     },
     "metadata": {},
     "output_type": "display_data"
    },
    {
     "name": "stdout",
     "output_type": "stream",
     "text": [
      "ASTForAudioClassification(\n",
      "  (audio_spectrogram_transformer): ASTModel(\n",
      "    (embeddings): ASTEmbeddings(\n",
      "      (patch_embeddings): ASTPatchEmbeddings(\n",
      "        (projection): Conv2d(1, 768, kernel_size=(16, 16), stride=(10, 10))\n",
      "      )\n",
      "      (dropout): Dropout(p=0.0, inplace=False)\n",
      "    )\n",
      "    (encoder): ASTEncoder(\n",
      "      (layer): ModuleList(\n",
      "        (0-11): 12 x ASTLayer(\n",
      "          (attention): ASTSdpaAttention(\n",
      "            (attention): ASTSdpaSelfAttention(\n",
      "              (query): Linear(in_features=768, out_features=768, bias=True)\n",
      "              (key): Linear(in_features=768, out_features=768, bias=True)\n",
      "              (value): Linear(in_features=768, out_features=768, bias=True)\n",
      "              (dropout): Dropout(p=0.0, inplace=False)\n",
      "            )\n",
      "            (output): ASTSelfOutput(\n",
      "              (dense): Linear(in_features=768, out_features=768, bias=True)\n",
      "              (dropout): Dropout(p=0.0, inplace=False)\n",
      "            )\n",
      "          )\n",
      "          (intermediate): ASTIntermediate(\n",
      "            (dense): Linear(in_features=768, out_features=3072, bias=True)\n",
      "            (intermediate_act_fn): GELUActivation()\n",
      "          )\n",
      "          (output): ASTOutput(\n",
      "            (dense): Linear(in_features=3072, out_features=768, bias=True)\n",
      "            (dropout): Dropout(p=0.0, inplace=False)\n",
      "          )\n",
      "          (layernorm_before): LayerNorm((768,), eps=1e-12, elementwise_affine=True)\n",
      "          (layernorm_after): LayerNorm((768,), eps=1e-12, elementwise_affine=True)\n",
      "        )\n",
      "      )\n",
      "    )\n",
      "    (layernorm): LayerNorm((768,), eps=1e-12, elementwise_affine=True)\n",
      "  )\n",
      "  (classifier): ASTMLPHead(\n",
      "    (layernorm): LayerNorm((768,), eps=1e-12, elementwise_affine=True)\n",
      "    (dense): Linear(in_features=768, out_features=9, bias=True)\n",
      "  )\n",
      ")\n"
     ]
    },
    {
     "data": {
      "application/vnd.jupyter.widget-view+json": {
       "model_id": "33f078f1c2514e03819b32a32ccb63fc",
       "version_major": 2,
       "version_minor": 0
      },
      "text/plain": [
       "  0%|          | 0/7 [00:00<?, ?it/s]"
      ]
     },
     "metadata": {},
     "output_type": "display_data"
    },
    {
     "name": "stdout",
     "output_type": "stream",
     "text": [
      "Epoch 1/7 | Train Loss: 1.7830 | Train Acc: 0.4185 | Train F1: 0.4071 | Test Loss: 1.4697 | Test Acc: 0.6417 | Test F1: 0.6339\n",
      "Epoch 2/7 | Train Loss: 1.2009 | Train Acc: 0.7527 | Train F1: 0.7453 | Test Loss: 1.0312 | Test Acc: 0.8208 | Test F1: 0.8191\n",
      "Epoch 3/7 | Train Loss: 0.9007 | Train Acc: 0.8397 | Train F1: 0.8382 | Test Loss: 0.8400 | Test Acc: 0.8240 | Test F1: 0.8206\n",
      "Epoch 4/7 | Train Loss: 0.7591 | Train Acc: 0.8492 | Train F1: 0.8479 | Test Loss: 0.7606 | Test Acc: 0.8490 | Test F1: 0.8555\n",
      "Epoch 5/7 | Train Loss: 0.6977 | Train Acc: 0.8601 | Train F1: 0.8606 | Test Loss: 0.7117 | Test Acc: 0.8521 | Test F1: 0.8557\n",
      "Epoch 6/7 | Train Loss: 0.6769 | Train Acc: 0.8655 | Train F1: 0.8668 | Test Loss: 0.7209 | Test Acc: 0.8521 | Test F1: 0.8557\n",
      "Epoch 7/7 | Train Loss: 0.6714 | Train Acc: 0.8641 | Train F1: 0.8668 | Test Loss: 0.6999 | Test Acc: 0.8583 | Test F1: 0.8557\n",
      "Train time on cuda: 338.5885971000025\n",
      "Inference Loss: 0.6722, Accuracy: 86.67%\n"
     ]
    },
    {
     "data": {
      "application/vnd.jupyter.widget-view+json": {
       "model_id": "49d85746e7da42a784246aee6b0bb2c6",
       "version_major": 2,
       "version_minor": 0
      },
      "text/plain": [
       "VBox(children=(Label(value='0.008 MB of 0.008 MB uploaded\\r'), FloatProgress(value=1.0, max=1.0)))"
      ]
     },
     "metadata": {},
     "output_type": "display_data"
    },
    {
     "data": {
      "text/html": [
       "<style>\n",
       "    table.wandb td:nth-child(1) { padding: 0 10px; text-align: left ; width: auto;} td:nth-child(2) {text-align: left ; width: 100%}\n",
       "    .wandb-row { display: flex; flex-direction: row; flex-wrap: wrap; justify-content: flex-start; width: 100% }\n",
       "    .wandb-col { display: flex; flex-direction: column; flex-basis: 100%; flex: 1; padding: 10px; }\n",
       "    </style>\n",
       "<div class=\"wandb-row\"><div class=\"wandb-col\"><h3>Run history:</h3><br/><table class=\"wandb\"><tr><td>epoch</td><td>▁▂▃▅▆▇█</td></tr><tr><td>inference_accuracy</td><td>▁</td></tr><tr><td>inference_loss</td><td>▁</td></tr><tr><td>test_acc</td><td>▁▇▇████</td></tr><tr><td>test_f1</td><td>▁▇▇████</td></tr><tr><td>test_loss</td><td>█▄▂▂▁▁▁</td></tr><tr><td>test_precision</td><td>▁▇▇████</td></tr><tr><td>test_recall</td><td>▁▇▇████</td></tr><tr><td>train_acc</td><td>▁▆█████</td></tr><tr><td>train_f1</td><td>▁▆█████</td></tr><tr><td>train_loss</td><td>█▄▂▂▁▁▁</td></tr><tr><td>train_precision</td><td>▁▆▇████</td></tr><tr><td>train_recall</td><td>▁▆█████</td></tr></table><br/></div><div class=\"wandb-col\"><h3>Run summary:</h3><br/><table class=\"wandb\"><tr><td>epoch</td><td>7</td></tr><tr><td>inference_accuracy</td><td>0.86667</td></tr><tr><td>inference_loss</td><td>0.67216</td></tr><tr><td>test_acc</td><td>0.85833</td></tr><tr><td>test_f1</td><td>0.85567</td></tr><tr><td>test_loss</td><td>0.69987</td></tr><tr><td>test_precision</td><td>0.8622</td></tr><tr><td>test_recall</td><td>0.85556</td></tr><tr><td>train_acc</td><td>0.86413</td></tr><tr><td>train_f1</td><td>0.86681</td></tr><tr><td>train_loss</td><td>0.67143</td></tr><tr><td>train_precision</td><td>0.87258</td></tr><tr><td>train_recall</td><td>0.86667</td></tr><tr><td>train_time</td><td>00:05:38</td></tr></table><br/></div></div>"
      ],
      "text/plain": [
       "<IPython.core.display.HTML object>"
      ]
     },
     "metadata": {},
     "output_type": "display_data"
    },
    {
     "data": {
      "text/html": [
       " View run <strong style=\"color:#cdcd00\">lucky-sweep-52</strong> at: <a href='https://wandb.ai/andberg9-self/AST_Sweeps/runs/eex0tnyv' target=\"_blank\">https://wandb.ai/andberg9-self/AST_Sweeps/runs/eex0tnyv</a><br/> View project at: <a href='https://wandb.ai/andberg9-self/AST_Sweeps' target=\"_blank\">https://wandb.ai/andberg9-self/AST_Sweeps</a><br/>Synced 5 W&B file(s), 0 media file(s), 0 artifact file(s) and 0 other file(s)"
      ],
      "text/plain": [
       "<IPython.core.display.HTML object>"
      ]
     },
     "metadata": {},
     "output_type": "display_data"
    },
    {
     "data": {
      "text/html": [
       "Find logs at: <code>.\\wandb\\run-20240925_155323-eex0tnyv\\logs</code>"
      ],
      "text/plain": [
       "<IPython.core.display.HTML object>"
      ]
     },
     "metadata": {},
     "output_type": "display_data"
    },
    {
     "name": "stderr",
     "output_type": "stream",
     "text": [
      "wandb: Agent Starting Run: 1765aixf with config:\n",
      "wandb: \tbatch_size: 16\n",
      "wandb: \tepochs: 7\n",
      "wandb: \tlearning_rate: 0.0007674139383756299\n",
      "wandb: \toptimizer: adamW\n",
      "wandb: \tscheduler: PolynomialLR\n"
     ]
    },
    {
     "data": {
      "text/html": [
       "Tracking run with wandb version 0.18.1"
      ],
      "text/plain": [
       "<IPython.core.display.HTML object>"
      ]
     },
     "metadata": {},
     "output_type": "display_data"
    },
    {
     "data": {
      "text/html": [
       "Run data is saved locally in <code>c:\\Users\\Sidewinders\\Research_notebooks\\Drone_classification\\Research\\notebooks\\wandb\\run-20240925_155928-1765aixf</code>"
      ],
      "text/plain": [
       "<IPython.core.display.HTML object>"
      ]
     },
     "metadata": {},
     "output_type": "display_data"
    },
    {
     "data": {
      "text/html": [
       "Syncing run <strong><a href='https://wandb.ai/andberg9-self/AST_Sweeps/runs/1765aixf' target=\"_blank\">fiery-sweep-53</a></strong> to <a href='https://wandb.ai/andberg9-self/AST_Sweeps' target=\"_blank\">Weights & Biases</a> (<a href='https://wandb.me/run' target=\"_blank\">docs</a>)<br/>Sweep page: <a href='https://wandb.ai/andberg9-self/AST_Sweeps/sweeps/ange3go8' target=\"_blank\">https://wandb.ai/andberg9-self/AST_Sweeps/sweeps/ange3go8</a>"
      ],
      "text/plain": [
       "<IPython.core.display.HTML object>"
      ]
     },
     "metadata": {},
     "output_type": "display_data"
    },
    {
     "data": {
      "text/html": [
       " View project at <a href='https://wandb.ai/andberg9-self/AST_Sweeps' target=\"_blank\">https://wandb.ai/andberg9-self/AST_Sweeps</a>"
      ],
      "text/plain": [
       "<IPython.core.display.HTML object>"
      ]
     },
     "metadata": {},
     "output_type": "display_data"
    },
    {
     "data": {
      "text/html": [
       " View sweep at <a href='https://wandb.ai/andberg9-self/AST_Sweeps/sweeps/ange3go8' target=\"_blank\">https://wandb.ai/andberg9-self/AST_Sweeps/sweeps/ange3go8</a>"
      ],
      "text/plain": [
       "<IPython.core.display.HTML object>"
      ]
     },
     "metadata": {},
     "output_type": "display_data"
    },
    {
     "data": {
      "text/html": [
       " View run at <a href='https://wandb.ai/andberg9-self/AST_Sweeps/runs/1765aixf' target=\"_blank\">https://wandb.ai/andberg9-self/AST_Sweeps/runs/1765aixf</a>"
      ],
      "text/plain": [
       "<IPython.core.display.HTML object>"
      ]
     },
     "metadata": {},
     "output_type": "display_data"
    },
    {
     "name": "stdout",
     "output_type": "stream",
     "text": [
      "ASTForAudioClassification(\n",
      "  (audio_spectrogram_transformer): ASTModel(\n",
      "    (embeddings): ASTEmbeddings(\n",
      "      (patch_embeddings): ASTPatchEmbeddings(\n",
      "        (projection): Conv2d(1, 768, kernel_size=(16, 16), stride=(10, 10))\n",
      "      )\n",
      "      (dropout): Dropout(p=0.0, inplace=False)\n",
      "    )\n",
      "    (encoder): ASTEncoder(\n",
      "      (layer): ModuleList(\n",
      "        (0-11): 12 x ASTLayer(\n",
      "          (attention): ASTSdpaAttention(\n",
      "            (attention): ASTSdpaSelfAttention(\n",
      "              (query): Linear(in_features=768, out_features=768, bias=True)\n",
      "              (key): Linear(in_features=768, out_features=768, bias=True)\n",
      "              (value): Linear(in_features=768, out_features=768, bias=True)\n",
      "              (dropout): Dropout(p=0.0, inplace=False)\n",
      "            )\n",
      "            (output): ASTSelfOutput(\n",
      "              (dense): Linear(in_features=768, out_features=768, bias=True)\n",
      "              (dropout): Dropout(p=0.0, inplace=False)\n",
      "            )\n",
      "          )\n",
      "          (intermediate): ASTIntermediate(\n",
      "            (dense): Linear(in_features=768, out_features=3072, bias=True)\n",
      "            (intermediate_act_fn): GELUActivation()\n",
      "          )\n",
      "          (output): ASTOutput(\n",
      "            (dense): Linear(in_features=3072, out_features=768, bias=True)\n",
      "            (dropout): Dropout(p=0.0, inplace=False)\n",
      "          )\n",
      "          (layernorm_before): LayerNorm((768,), eps=1e-12, elementwise_affine=True)\n",
      "          (layernorm_after): LayerNorm((768,), eps=1e-12, elementwise_affine=True)\n",
      "        )\n",
      "      )\n",
      "    )\n",
      "    (layernorm): LayerNorm((768,), eps=1e-12, elementwise_affine=True)\n",
      "  )\n",
      "  (classifier): ASTMLPHead(\n",
      "    (layernorm): LayerNorm((768,), eps=1e-12, elementwise_affine=True)\n",
      "    (dense): Linear(in_features=768, out_features=9, bias=True)\n",
      "  )\n",
      ")\n"
     ]
    },
    {
     "data": {
      "application/vnd.jupyter.widget-view+json": {
       "model_id": "1ffbdc91c10847a9b24148d6ac36ead1",
       "version_major": 2,
       "version_minor": 0
      },
      "text/plain": [
       "  0%|          | 0/7 [00:00<?, ?it/s]"
      ]
     },
     "metadata": {},
     "output_type": "display_data"
    },
    {
     "name": "stdout",
     "output_type": "stream",
     "text": [
      "Epoch 1/7 | Train Loss: 1.7240 | Train Acc: 0.4639 | Train F1: 0.4569 | Test Loss: 1.1581 | Test Acc: 0.7083 | Test F1: 0.7141\n",
      "Epoch 2/7 | Train Loss: 0.9280 | Train Acc: 0.8097 | Train F1: 0.8088 | Test Loss: 0.7682 | Test Acc: 0.8385 | Test F1: 0.8603\n",
      "Epoch 3/7 | Train Loss: 0.6453 | Train Acc: 0.8708 | Train F1: 0.8702 | Test Loss: 0.6052 | Test Acc: 0.8802 | Test F1: 0.8710\n",
      "Epoch 4/7 | Train Loss: 0.5408 | Train Acc: 0.8861 | Train F1: 0.8868 | Test Loss: 0.5173 | Test Acc: 0.9115 | Test F1: 0.9068\n",
      "Epoch 5/7 | Train Loss: 0.4942 | Train Acc: 0.8972 | Train F1: 0.8979 | Test Loss: 0.4772 | Test Acc: 0.9167 | Test F1: 0.9127\n",
      "Epoch 6/7 | Train Loss: 0.4797 | Train Acc: 0.9000 | Train F1: 0.9008 | Test Loss: 0.4799 | Test Acc: 0.9167 | Test F1: 0.9127\n",
      "Epoch 7/7 | Train Loss: 0.4797 | Train Acc: 0.9000 | Train F1: 0.9008 | Test Loss: 0.5002 | Test Acc: 0.9010 | Test F1: 0.9127\n",
      "Train time on cuda: 338.205222200002\n",
      "Inference Loss: 0.4797, Accuracy: 89.86%\n"
     ]
    },
    {
     "data": {
      "application/vnd.jupyter.widget-view+json": {
       "model_id": "7da989ec2df24cc2ab241e9b81196083",
       "version_major": 2,
       "version_minor": 0
      },
      "text/plain": [
       "VBox(children=(Label(value='0.008 MB of 0.008 MB uploaded\\r'), FloatProgress(value=1.0, max=1.0)))"
      ]
     },
     "metadata": {},
     "output_type": "display_data"
    },
    {
     "data": {
      "text/html": [
       "<style>\n",
       "    table.wandb td:nth-child(1) { padding: 0 10px; text-align: left ; width: auto;} td:nth-child(2) {text-align: left ; width: 100%}\n",
       "    .wandb-row { display: flex; flex-direction: row; flex-wrap: wrap; justify-content: flex-start; width: 100% }\n",
       "    .wandb-col { display: flex; flex-direction: column; flex-basis: 100%; flex: 1; padding: 10px; }\n",
       "    </style>\n",
       "<div class=\"wandb-row\"><div class=\"wandb-col\"><h3>Run history:</h3><br/><table class=\"wandb\"><tr><td>epoch</td><td>▁▂▃▅▆▇█</td></tr><tr><td>inference_accuracy</td><td>▁</td></tr><tr><td>inference_loss</td><td>▁</td></tr><tr><td>test_acc</td><td>▁▅▇███▇</td></tr><tr><td>test_f1</td><td>▁▆▇████</td></tr><tr><td>test_loss</td><td>█▄▂▁▁▁▁</td></tr><tr><td>test_precision</td><td>▁▆▆████</td></tr><tr><td>test_recall</td><td>▁▆▇████</td></tr><tr><td>train_acc</td><td>▁▇█████</td></tr><tr><td>train_f1</td><td>▁▇█████</td></tr><tr><td>train_loss</td><td>█▄▂▁▁▁▁</td></tr><tr><td>train_precision</td><td>▁▇▇████</td></tr><tr><td>train_recall</td><td>▁▇█████</td></tr></table><br/></div><div class=\"wandb-col\"><h3>Run summary:</h3><br/><table class=\"wandb\"><tr><td>epoch</td><td>7</td></tr><tr><td>inference_accuracy</td><td>0.89861</td></tr><tr><td>inference_loss</td><td>0.47971</td></tr><tr><td>test_acc</td><td>0.90104</td></tr><tr><td>test_f1</td><td>0.91268</td></tr><tr><td>test_loss</td><td>0.50021</td></tr><tr><td>test_precision</td><td>0.92207</td></tr><tr><td>test_recall</td><td>0.91111</td></tr><tr><td>train_acc</td><td>0.9</td></tr><tr><td>train_f1</td><td>0.90077</td></tr><tr><td>train_loss</td><td>0.47967</td></tr><tr><td>train_precision</td><td>0.90377</td></tr><tr><td>train_recall</td><td>0.9</td></tr><tr><td>train_time</td><td>00:05:38</td></tr></table><br/></div></div>"
      ],
      "text/plain": [
       "<IPython.core.display.HTML object>"
      ]
     },
     "metadata": {},
     "output_type": "display_data"
    },
    {
     "data": {
      "text/html": [
       " View run <strong style=\"color:#cdcd00\">fiery-sweep-53</strong> at: <a href='https://wandb.ai/andberg9-self/AST_Sweeps/runs/1765aixf' target=\"_blank\">https://wandb.ai/andberg9-self/AST_Sweeps/runs/1765aixf</a><br/> View project at: <a href='https://wandb.ai/andberg9-self/AST_Sweeps' target=\"_blank\">https://wandb.ai/andberg9-self/AST_Sweeps</a><br/>Synced 5 W&B file(s), 0 media file(s), 0 artifact file(s) and 0 other file(s)"
      ],
      "text/plain": [
       "<IPython.core.display.HTML object>"
      ]
     },
     "metadata": {},
     "output_type": "display_data"
    },
    {
     "data": {
      "text/html": [
       "Find logs at: <code>.\\wandb\\run-20240925_155928-1765aixf\\logs</code>"
      ],
      "text/plain": [
       "<IPython.core.display.HTML object>"
      ]
     },
     "metadata": {},
     "output_type": "display_data"
    },
    {
     "name": "stderr",
     "output_type": "stream",
     "text": [
      "wandb: Agent Starting Run: 10msftnj with config:\n",
      "wandb: \tbatch_size: 32\n",
      "wandb: \tepochs: 7\n",
      "wandb: \tlearning_rate: 0.0003861431334019646\n",
      "wandb: \toptimizer: adamW\n",
      "wandb: \tscheduler: PolynomialLR\n"
     ]
    },
    {
     "data": {
      "text/html": [
       "Tracking run with wandb version 0.18.1"
      ],
      "text/plain": [
       "<IPython.core.display.HTML object>"
      ]
     },
     "metadata": {},
     "output_type": "display_data"
    },
    {
     "data": {
      "text/html": [
       "Run data is saved locally in <code>c:\\Users\\Sidewinders\\Research_notebooks\\Drone_classification\\Research\\notebooks\\wandb\\run-20240925_160529-10msftnj</code>"
      ],
      "text/plain": [
       "<IPython.core.display.HTML object>"
      ]
     },
     "metadata": {},
     "output_type": "display_data"
    },
    {
     "data": {
      "text/html": [
       "Syncing run <strong><a href='https://wandb.ai/andberg9-self/AST_Sweeps/runs/10msftnj' target=\"_blank\">divine-sweep-54</a></strong> to <a href='https://wandb.ai/andberg9-self/AST_Sweeps' target=\"_blank\">Weights & Biases</a> (<a href='https://wandb.me/run' target=\"_blank\">docs</a>)<br/>Sweep page: <a href='https://wandb.ai/andberg9-self/AST_Sweeps/sweeps/ange3go8' target=\"_blank\">https://wandb.ai/andberg9-self/AST_Sweeps/sweeps/ange3go8</a>"
      ],
      "text/plain": [
       "<IPython.core.display.HTML object>"
      ]
     },
     "metadata": {},
     "output_type": "display_data"
    },
    {
     "data": {
      "text/html": [
       " View project at <a href='https://wandb.ai/andberg9-self/AST_Sweeps' target=\"_blank\">https://wandb.ai/andberg9-self/AST_Sweeps</a>"
      ],
      "text/plain": [
       "<IPython.core.display.HTML object>"
      ]
     },
     "metadata": {},
     "output_type": "display_data"
    },
    {
     "data": {
      "text/html": [
       " View sweep at <a href='https://wandb.ai/andberg9-self/AST_Sweeps/sweeps/ange3go8' target=\"_blank\">https://wandb.ai/andberg9-self/AST_Sweeps/sweeps/ange3go8</a>"
      ],
      "text/plain": [
       "<IPython.core.display.HTML object>"
      ]
     },
     "metadata": {},
     "output_type": "display_data"
    },
    {
     "data": {
      "text/html": [
       " View run at <a href='https://wandb.ai/andberg9-self/AST_Sweeps/runs/10msftnj' target=\"_blank\">https://wandb.ai/andberg9-self/AST_Sweeps/runs/10msftnj</a>"
      ],
      "text/plain": [
       "<IPython.core.display.HTML object>"
      ]
     },
     "metadata": {},
     "output_type": "display_data"
    },
    {
     "name": "stdout",
     "output_type": "stream",
     "text": [
      "ASTForAudioClassification(\n",
      "  (audio_spectrogram_transformer): ASTModel(\n",
      "    (embeddings): ASTEmbeddings(\n",
      "      (patch_embeddings): ASTPatchEmbeddings(\n",
      "        (projection): Conv2d(1, 768, kernel_size=(16, 16), stride=(10, 10))\n",
      "      )\n",
      "      (dropout): Dropout(p=0.0, inplace=False)\n",
      "    )\n",
      "    (encoder): ASTEncoder(\n",
      "      (layer): ModuleList(\n",
      "        (0-11): 12 x ASTLayer(\n",
      "          (attention): ASTSdpaAttention(\n",
      "            (attention): ASTSdpaSelfAttention(\n",
      "              (query): Linear(in_features=768, out_features=768, bias=True)\n",
      "              (key): Linear(in_features=768, out_features=768, bias=True)\n",
      "              (value): Linear(in_features=768, out_features=768, bias=True)\n",
      "              (dropout): Dropout(p=0.0, inplace=False)\n",
      "            )\n",
      "            (output): ASTSelfOutput(\n",
      "              (dense): Linear(in_features=768, out_features=768, bias=True)\n",
      "              (dropout): Dropout(p=0.0, inplace=False)\n",
      "            )\n",
      "          )\n",
      "          (intermediate): ASTIntermediate(\n",
      "            (dense): Linear(in_features=768, out_features=3072, bias=True)\n",
      "            (intermediate_act_fn): GELUActivation()\n",
      "          )\n",
      "          (output): ASTOutput(\n",
      "            (dense): Linear(in_features=3072, out_features=768, bias=True)\n",
      "            (dropout): Dropout(p=0.0, inplace=False)\n",
      "          )\n",
      "          (layernorm_before): LayerNorm((768,), eps=1e-12, elementwise_affine=True)\n",
      "          (layernorm_after): LayerNorm((768,), eps=1e-12, elementwise_affine=True)\n",
      "        )\n",
      "      )\n",
      "    )\n",
      "    (layernorm): LayerNorm((768,), eps=1e-12, elementwise_affine=True)\n",
      "  )\n",
      "  (classifier): ASTMLPHead(\n",
      "    (layernorm): LayerNorm((768,), eps=1e-12, elementwise_affine=True)\n",
      "    (dense): Linear(in_features=768, out_features=9, bias=True)\n",
      "  )\n",
      ")\n"
     ]
    },
    {
     "data": {
      "application/vnd.jupyter.widget-view+json": {
       "model_id": "3af3b1fbe3ce4d5b932d8ed6106ef033",
       "version_major": 2,
       "version_minor": 0
      },
      "text/plain": [
       "  0%|          | 0/7 [00:00<?, ?it/s]"
      ]
     },
     "metadata": {},
     "output_type": "display_data"
    },
    {
     "name": "stdout",
     "output_type": "stream",
     "text": [
      "Epoch 1/7 | Train Loss: 2.0714 | Train Acc: 0.2432 | Train F1: 0.2330 | Test Loss: 1.8172 | Test Acc: 0.4510 | Test F1: 0.3791\n",
      "Epoch 2/7 | Train Loss: 1.7307 | Train Acc: 0.4932 | Train F1: 0.4290 | Test Loss: 1.5868 | Test Acc: 0.5333 | Test F1: 0.4716\n",
      "Epoch 3/7 | Train Loss: 1.5195 | Train Acc: 0.6087 | Train F1: 0.5719 | Test Loss: 1.4187 | Test Acc: 0.6979 | Test F1: 0.6808\n",
      "Epoch 4/7 | Train Loss: 1.3753 | Train Acc: 0.6916 | Train F1: 0.6808 | Test Loss: 1.3374 | Test Acc: 0.7573 | Test F1: 0.7606\n",
      "Epoch 5/7 | Train Loss: 1.2986 | Train Acc: 0.7418 | Train F1: 0.7388 | Test Loss: 1.2851 | Test Acc: 0.7708 | Test F1: 0.7737\n",
      "Epoch 6/7 | Train Loss: 1.2685 | Train Acc: 0.7609 | Train F1: 0.7587 | Test Loss: 1.2802 | Test Acc: 0.7771 | Test F1: 0.7737\n",
      "Epoch 7/7 | Train Loss: 1.2732 | Train Acc: 0.7595 | Train F1: 0.7587 | Test Loss: 1.2850 | Test Acc: 0.7708 | Test F1: 0.7737\n",
      "Train time on cuda: 341.07740000000194\n",
      "Inference Loss: 1.2685, Accuracy: 76.11%\n"
     ]
    },
    {
     "data": {
      "application/vnd.jupyter.widget-view+json": {
       "model_id": "da82c826107d458f8c1fd7cbf511dc16",
       "version_major": 2,
       "version_minor": 0
      },
      "text/plain": [
       "VBox(children=(Label(value='0.008 MB of 0.008 MB uploaded\\r'), FloatProgress(value=1.0, max=1.0)))"
      ]
     },
     "metadata": {},
     "output_type": "display_data"
    },
    {
     "data": {
      "text/html": [
       "<style>\n",
       "    table.wandb td:nth-child(1) { padding: 0 10px; text-align: left ; width: auto;} td:nth-child(2) {text-align: left ; width: 100%}\n",
       "    .wandb-row { display: flex; flex-direction: row; flex-wrap: wrap; justify-content: flex-start; width: 100% }\n",
       "    .wandb-col { display: flex; flex-direction: column; flex-basis: 100%; flex: 1; padding: 10px; }\n",
       "    </style>\n",
       "<div class=\"wandb-row\"><div class=\"wandb-col\"><h3>Run history:</h3><br/><table class=\"wandb\"><tr><td>epoch</td><td>▁▂▃▅▆▇█</td></tr><tr><td>inference_accuracy</td><td>▁</td></tr><tr><td>inference_loss</td><td>▁</td></tr><tr><td>test_acc</td><td>▁▃▆████</td></tr><tr><td>test_f1</td><td>▁▃▆████</td></tr><tr><td>test_loss</td><td>█▅▃▂▁▁▁</td></tr><tr><td>test_precision</td><td>▁▄▇████</td></tr><tr><td>test_recall</td><td>▁▃▆████</td></tr><tr><td>train_acc</td><td>▁▄▆▇███</td></tr><tr><td>train_f1</td><td>▁▄▆▇███</td></tr><tr><td>train_loss</td><td>█▅▃▂▁▁▁</td></tr><tr><td>train_precision</td><td>▁▄▆▇███</td></tr><tr><td>train_recall</td><td>▁▄▆▇███</td></tr></table><br/></div><div class=\"wandb-col\"><h3>Run summary:</h3><br/><table class=\"wandb\"><tr><td>epoch</td><td>7</td></tr><tr><td>inference_accuracy</td><td>0.76111</td></tr><tr><td>inference_loss</td><td>1.26854</td></tr><tr><td>test_acc</td><td>0.77083</td></tr><tr><td>test_f1</td><td>0.77372</td></tr><tr><td>test_loss</td><td>1.28496</td></tr><tr><td>test_precision</td><td>0.79494</td></tr><tr><td>test_recall</td><td>0.77222</td></tr><tr><td>train_acc</td><td>0.75951</td></tr><tr><td>train_f1</td><td>0.7587</td></tr><tr><td>train_loss</td><td>1.27316</td></tr><tr><td>train_precision</td><td>0.77015</td></tr><tr><td>train_recall</td><td>0.76111</td></tr><tr><td>train_time</td><td>00:05:41</td></tr></table><br/></div></div>"
      ],
      "text/plain": [
       "<IPython.core.display.HTML object>"
      ]
     },
     "metadata": {},
     "output_type": "display_data"
    },
    {
     "data": {
      "text/html": [
       " View run <strong style=\"color:#cdcd00\">divine-sweep-54</strong> at: <a href='https://wandb.ai/andberg9-self/AST_Sweeps/runs/10msftnj' target=\"_blank\">https://wandb.ai/andberg9-self/AST_Sweeps/runs/10msftnj</a><br/> View project at: <a href='https://wandb.ai/andberg9-self/AST_Sweeps' target=\"_blank\">https://wandb.ai/andberg9-self/AST_Sweeps</a><br/>Synced 5 W&B file(s), 0 media file(s), 0 artifact file(s) and 0 other file(s)"
      ],
      "text/plain": [
       "<IPython.core.display.HTML object>"
      ]
     },
     "metadata": {},
     "output_type": "display_data"
    },
    {
     "data": {
      "text/html": [
       "Find logs at: <code>.\\wandb\\run-20240925_160529-10msftnj\\logs</code>"
      ],
      "text/plain": [
       "<IPython.core.display.HTML object>"
      ]
     },
     "metadata": {},
     "output_type": "display_data"
    },
    {
     "name": "stderr",
     "output_type": "stream",
     "text": [
      "wandb: Agent Starting Run: upqmsy9n with config:\n",
      "wandb: \tbatch_size: 4\n",
      "wandb: \tepochs: 7\n",
      "wandb: \tlearning_rate: 0.0001830913490921837\n",
      "wandb: \toptimizer: adamW\n",
      "wandb: \tscheduler: PolynomialLR\n"
     ]
    },
    {
     "data": {
      "text/html": [
       "Tracking run with wandb version 0.18.1"
      ],
      "text/plain": [
       "<IPython.core.display.HTML object>"
      ]
     },
     "metadata": {},
     "output_type": "display_data"
    },
    {
     "data": {
      "text/html": [
       "Run data is saved locally in <code>c:\\Users\\Sidewinders\\Research_notebooks\\Drone_classification\\Research\\notebooks\\wandb\\run-20240925_161135-upqmsy9n</code>"
      ],
      "text/plain": [
       "<IPython.core.display.HTML object>"
      ]
     },
     "metadata": {},
     "output_type": "display_data"
    },
    {
     "data": {
      "text/html": [
       "Syncing run <strong><a href='https://wandb.ai/andberg9-self/AST_Sweeps/runs/upqmsy9n' target=\"_blank\">rose-sweep-55</a></strong> to <a href='https://wandb.ai/andberg9-self/AST_Sweeps' target=\"_blank\">Weights & Biases</a> (<a href='https://wandb.me/run' target=\"_blank\">docs</a>)<br/>Sweep page: <a href='https://wandb.ai/andberg9-self/AST_Sweeps/sweeps/ange3go8' target=\"_blank\">https://wandb.ai/andberg9-self/AST_Sweeps/sweeps/ange3go8</a>"
      ],
      "text/plain": [
       "<IPython.core.display.HTML object>"
      ]
     },
     "metadata": {},
     "output_type": "display_data"
    },
    {
     "data": {
      "text/html": [
       " View project at <a href='https://wandb.ai/andberg9-self/AST_Sweeps' target=\"_blank\">https://wandb.ai/andberg9-self/AST_Sweeps</a>"
      ],
      "text/plain": [
       "<IPython.core.display.HTML object>"
      ]
     },
     "metadata": {},
     "output_type": "display_data"
    },
    {
     "data": {
      "text/html": [
       " View sweep at <a href='https://wandb.ai/andberg9-self/AST_Sweeps/sweeps/ange3go8' target=\"_blank\">https://wandb.ai/andberg9-self/AST_Sweeps/sweeps/ange3go8</a>"
      ],
      "text/plain": [
       "<IPython.core.display.HTML object>"
      ]
     },
     "metadata": {},
     "output_type": "display_data"
    },
    {
     "data": {
      "text/html": [
       " View run at <a href='https://wandb.ai/andberg9-self/AST_Sweeps/runs/upqmsy9n' target=\"_blank\">https://wandb.ai/andberg9-self/AST_Sweeps/runs/upqmsy9n</a>"
      ],
      "text/plain": [
       "<IPython.core.display.HTML object>"
      ]
     },
     "metadata": {},
     "output_type": "display_data"
    },
    {
     "name": "stdout",
     "output_type": "stream",
     "text": [
      "ASTForAudioClassification(\n",
      "  (audio_spectrogram_transformer): ASTModel(\n",
      "    (embeddings): ASTEmbeddings(\n",
      "      (patch_embeddings): ASTPatchEmbeddings(\n",
      "        (projection): Conv2d(1, 768, kernel_size=(16, 16), stride=(10, 10))\n",
      "      )\n",
      "      (dropout): Dropout(p=0.0, inplace=False)\n",
      "    )\n",
      "    (encoder): ASTEncoder(\n",
      "      (layer): ModuleList(\n",
      "        (0-11): 12 x ASTLayer(\n",
      "          (attention): ASTSdpaAttention(\n",
      "            (attention): ASTSdpaSelfAttention(\n",
      "              (query): Linear(in_features=768, out_features=768, bias=True)\n",
      "              (key): Linear(in_features=768, out_features=768, bias=True)\n",
      "              (value): Linear(in_features=768, out_features=768, bias=True)\n",
      "              (dropout): Dropout(p=0.0, inplace=False)\n",
      "            )\n",
      "            (output): ASTSelfOutput(\n",
      "              (dense): Linear(in_features=768, out_features=768, bias=True)\n",
      "              (dropout): Dropout(p=0.0, inplace=False)\n",
      "            )\n",
      "          )\n",
      "          (intermediate): ASTIntermediate(\n",
      "            (dense): Linear(in_features=768, out_features=3072, bias=True)\n",
      "            (intermediate_act_fn): GELUActivation()\n",
      "          )\n",
      "          (output): ASTOutput(\n",
      "            (dense): Linear(in_features=3072, out_features=768, bias=True)\n",
      "            (dropout): Dropout(p=0.0, inplace=False)\n",
      "          )\n",
      "          (layernorm_before): LayerNorm((768,), eps=1e-12, elementwise_affine=True)\n",
      "          (layernorm_after): LayerNorm((768,), eps=1e-12, elementwise_affine=True)\n",
      "        )\n",
      "      )\n",
      "    )\n",
      "    (layernorm): LayerNorm((768,), eps=1e-12, elementwise_affine=True)\n",
      "  )\n",
      "  (classifier): ASTMLPHead(\n",
      "    (layernorm): LayerNorm((768,), eps=1e-12, elementwise_affine=True)\n",
      "    (dense): Linear(in_features=768, out_features=9, bias=True)\n",
      "  )\n",
      ")\n"
     ]
    },
    {
     "data": {
      "application/vnd.jupyter.widget-view+json": {
       "model_id": "bef64051456340c996073d6bb3ef45ca",
       "version_major": 2,
       "version_minor": 0
      },
      "text/plain": [
       "  0%|          | 0/7 [00:00<?, ?it/s]"
      ]
     },
     "metadata": {},
     "output_type": "display_data"
    },
    {
     "name": "stdout",
     "output_type": "stream",
     "text": [
      "Epoch 1/7 | Train Loss: 1.8106 | Train Acc: 0.4056 | Train F1: 0.3964 | Test Loss: 1.3846 | Test Acc: 0.7111 | Test F1: 0.6802\n",
      "Epoch 2/7 | Train Loss: 1.1504 | Train Acc: 0.7708 | Train F1: 0.7606 | Test Loss: 0.9968 | Test Acc: 0.8389 | Test F1: 0.8338\n",
      "Epoch 3/7 | Train Loss: 0.8797 | Train Acc: 0.8444 | Train F1: 0.8434 | Test Loss: 0.8275 | Test Acc: 0.8778 | Test F1: 0.8732\n",
      "Epoch 4/7 | Train Loss: 0.7528 | Train Acc: 0.8764 | Train F1: 0.8770 | Test Loss: 0.7428 | Test Acc: 0.8833 | Test F1: 0.8764\n",
      "Epoch 5/7 | Train Loss: 0.6933 | Train Acc: 0.8694 | Train F1: 0.8680 | Test Loss: 0.7037 | Test Acc: 0.8889 | Test F1: 0.8853\n",
      "Epoch 6/7 | Train Loss: 0.6725 | Train Acc: 0.8806 | Train F1: 0.8799 | Test Loss: 0.7037 | Test Acc: 0.8889 | Test F1: 0.8853\n",
      "Epoch 7/7 | Train Loss: 0.6725 | Train Acc: 0.8806 | Train F1: 0.8799 | Test Loss: 0.7037 | Test Acc: 0.8889 | Test F1: 0.8853\n",
      "Train time on cuda: 333.40959060000023\n",
      "Inference Loss: 0.6725, Accuracy: 88.06%\n"
     ]
    },
    {
     "data": {
      "application/vnd.jupyter.widget-view+json": {
       "model_id": "261028786c5e4d06982d246edbe2e4e3",
       "version_major": 2,
       "version_minor": 0
      },
      "text/plain": [
       "VBox(children=(Label(value='0.008 MB of 0.008 MB uploaded\\r'), FloatProgress(value=1.0, max=1.0)))"
      ]
     },
     "metadata": {},
     "output_type": "display_data"
    },
    {
     "data": {
      "text/html": [
       "<style>\n",
       "    table.wandb td:nth-child(1) { padding: 0 10px; text-align: left ; width: auto;} td:nth-child(2) {text-align: left ; width: 100%}\n",
       "    .wandb-row { display: flex; flex-direction: row; flex-wrap: wrap; justify-content: flex-start; width: 100% }\n",
       "    .wandb-col { display: flex; flex-direction: column; flex-basis: 100%; flex: 1; padding: 10px; }\n",
       "    </style>\n",
       "<div class=\"wandb-row\"><div class=\"wandb-col\"><h3>Run history:</h3><br/><table class=\"wandb\"><tr><td>epoch</td><td>▁▂▃▅▆▇█</td></tr><tr><td>inference_accuracy</td><td>▁</td></tr><tr><td>inference_loss</td><td>▁</td></tr><tr><td>test_acc</td><td>▁▆█████</td></tr><tr><td>test_f1</td><td>▁▆█████</td></tr><tr><td>test_loss</td><td>█▄▂▁▁▁▁</td></tr><tr><td>test_precision</td><td>▁▆█████</td></tr><tr><td>test_recall</td><td>▁▆█████</td></tr><tr><td>train_acc</td><td>▁▆▇████</td></tr><tr><td>train_f1</td><td>▁▆▇████</td></tr><tr><td>train_loss</td><td>█▄▂▁▁▁▁</td></tr><tr><td>train_precision</td><td>▁▆▇████</td></tr><tr><td>train_recall</td><td>▁▆▇████</td></tr></table><br/></div><div class=\"wandb-col\"><h3>Run summary:</h3><br/><table class=\"wandb\"><tr><td>epoch</td><td>7</td></tr><tr><td>inference_accuracy</td><td>0.88056</td></tr><tr><td>inference_loss</td><td>0.67254</td></tr><tr><td>test_acc</td><td>0.88889</td></tr><tr><td>test_f1</td><td>0.88529</td></tr><tr><td>test_loss</td><td>0.70369</td></tr><tr><td>test_precision</td><td>0.89531</td></tr><tr><td>test_recall</td><td>0.88889</td></tr><tr><td>train_acc</td><td>0.88056</td></tr><tr><td>train_f1</td><td>0.87985</td></tr><tr><td>train_loss</td><td>0.67248</td></tr><tr><td>train_precision</td><td>0.88344</td></tr><tr><td>train_recall</td><td>0.88056</td></tr><tr><td>train_time</td><td>00:05:33</td></tr></table><br/></div></div>"
      ],
      "text/plain": [
       "<IPython.core.display.HTML object>"
      ]
     },
     "metadata": {},
     "output_type": "display_data"
    },
    {
     "data": {
      "text/html": [
       " View run <strong style=\"color:#cdcd00\">rose-sweep-55</strong> at: <a href='https://wandb.ai/andberg9-self/AST_Sweeps/runs/upqmsy9n' target=\"_blank\">https://wandb.ai/andberg9-self/AST_Sweeps/runs/upqmsy9n</a><br/> View project at: <a href='https://wandb.ai/andberg9-self/AST_Sweeps' target=\"_blank\">https://wandb.ai/andberg9-self/AST_Sweeps</a><br/>Synced 5 W&B file(s), 0 media file(s), 0 artifact file(s) and 0 other file(s)"
      ],
      "text/plain": [
       "<IPython.core.display.HTML object>"
      ]
     },
     "metadata": {},
     "output_type": "display_data"
    },
    {
     "data": {
      "text/html": [
       "Find logs at: <code>.\\wandb\\run-20240925_161135-upqmsy9n\\logs</code>"
      ],
      "text/plain": [
       "<IPython.core.display.HTML object>"
      ]
     },
     "metadata": {},
     "output_type": "display_data"
    },
    {
     "name": "stderr",
     "output_type": "stream",
     "text": [
      "wandb: Agent Starting Run: chia55sl with config:\n",
      "wandb: \tbatch_size: 8\n",
      "wandb: \tepochs: 7\n",
      "wandb: \tlearning_rate: 0.00029423438412206916\n",
      "wandb: \toptimizer: adamW\n",
      "wandb: \tscheduler: PolynomialLR\n"
     ]
    },
    {
     "data": {
      "text/html": [
       "Tracking run with wandb version 0.18.1"
      ],
      "text/plain": [
       "<IPython.core.display.HTML object>"
      ]
     },
     "metadata": {},
     "output_type": "display_data"
    },
    {
     "data": {
      "text/html": [
       "Run data is saved locally in <code>c:\\Users\\Sidewinders\\Research_notebooks\\Drone_classification\\Research\\notebooks\\wandb\\run-20240925_161732-chia55sl</code>"
      ],
      "text/plain": [
       "<IPython.core.display.HTML object>"
      ]
     },
     "metadata": {},
     "output_type": "display_data"
    },
    {
     "data": {
      "text/html": [
       "Syncing run <strong><a href='https://wandb.ai/andberg9-self/AST_Sweeps/runs/chia55sl' target=\"_blank\">playful-sweep-56</a></strong> to <a href='https://wandb.ai/andberg9-self/AST_Sweeps' target=\"_blank\">Weights & Biases</a> (<a href='https://wandb.me/run' target=\"_blank\">docs</a>)<br/>Sweep page: <a href='https://wandb.ai/andberg9-self/AST_Sweeps/sweeps/ange3go8' target=\"_blank\">https://wandb.ai/andberg9-self/AST_Sweeps/sweeps/ange3go8</a>"
      ],
      "text/plain": [
       "<IPython.core.display.HTML object>"
      ]
     },
     "metadata": {},
     "output_type": "display_data"
    },
    {
     "data": {
      "text/html": [
       " View project at <a href='https://wandb.ai/andberg9-self/AST_Sweeps' target=\"_blank\">https://wandb.ai/andberg9-self/AST_Sweeps</a>"
      ],
      "text/plain": [
       "<IPython.core.display.HTML object>"
      ]
     },
     "metadata": {},
     "output_type": "display_data"
    },
    {
     "data": {
      "text/html": [
       " View sweep at <a href='https://wandb.ai/andberg9-self/AST_Sweeps/sweeps/ange3go8' target=\"_blank\">https://wandb.ai/andberg9-self/AST_Sweeps/sweeps/ange3go8</a>"
      ],
      "text/plain": [
       "<IPython.core.display.HTML object>"
      ]
     },
     "metadata": {},
     "output_type": "display_data"
    },
    {
     "data": {
      "text/html": [
       " View run at <a href='https://wandb.ai/andberg9-self/AST_Sweeps/runs/chia55sl' target=\"_blank\">https://wandb.ai/andberg9-self/AST_Sweeps/runs/chia55sl</a>"
      ],
      "text/plain": [
       "<IPython.core.display.HTML object>"
      ]
     },
     "metadata": {},
     "output_type": "display_data"
    },
    {
     "name": "stdout",
     "output_type": "stream",
     "text": [
      "ASTForAudioClassification(\n",
      "  (audio_spectrogram_transformer): ASTModel(\n",
      "    (embeddings): ASTEmbeddings(\n",
      "      (patch_embeddings): ASTPatchEmbeddings(\n",
      "        (projection): Conv2d(1, 768, kernel_size=(16, 16), stride=(10, 10))\n",
      "      )\n",
      "      (dropout): Dropout(p=0.0, inplace=False)\n",
      "    )\n",
      "    (encoder): ASTEncoder(\n",
      "      (layer): ModuleList(\n",
      "        (0-11): 12 x ASTLayer(\n",
      "          (attention): ASTSdpaAttention(\n",
      "            (attention): ASTSdpaSelfAttention(\n",
      "              (query): Linear(in_features=768, out_features=768, bias=True)\n",
      "              (key): Linear(in_features=768, out_features=768, bias=True)\n",
      "              (value): Linear(in_features=768, out_features=768, bias=True)\n",
      "              (dropout): Dropout(p=0.0, inplace=False)\n",
      "            )\n",
      "            (output): ASTSelfOutput(\n",
      "              (dense): Linear(in_features=768, out_features=768, bias=True)\n",
      "              (dropout): Dropout(p=0.0, inplace=False)\n",
      "            )\n",
      "          )\n",
      "          (intermediate): ASTIntermediate(\n",
      "            (dense): Linear(in_features=768, out_features=3072, bias=True)\n",
      "            (intermediate_act_fn): GELUActivation()\n",
      "          )\n",
      "          (output): ASTOutput(\n",
      "            (dense): Linear(in_features=3072, out_features=768, bias=True)\n",
      "            (dropout): Dropout(p=0.0, inplace=False)\n",
      "          )\n",
      "          (layernorm_before): LayerNorm((768,), eps=1e-12, elementwise_affine=True)\n",
      "          (layernorm_after): LayerNorm((768,), eps=1e-12, elementwise_affine=True)\n",
      "        )\n",
      "      )\n",
      "    )\n",
      "    (layernorm): LayerNorm((768,), eps=1e-12, elementwise_affine=True)\n",
      "  )\n",
      "  (classifier): ASTMLPHead(\n",
      "    (layernorm): LayerNorm((768,), eps=1e-12, elementwise_affine=True)\n",
      "    (dense): Linear(in_features=768, out_features=9, bias=True)\n",
      "  )\n",
      ")\n"
     ]
    },
    {
     "data": {
      "application/vnd.jupyter.widget-view+json": {
       "model_id": "1b23344d9cc5424a9b4220a9c359c009",
       "version_major": 2,
       "version_minor": 0
      },
      "text/plain": [
       "  0%|          | 0/7 [00:00<?, ?it/s]"
      ]
     },
     "metadata": {},
     "output_type": "display_data"
    },
    {
     "name": "stdout",
     "output_type": "stream",
     "text": [
      "Epoch 1/7 | Train Loss: 1.8828 | Train Acc: 0.3708 | Train F1: 0.3666 | Test Loss: 1.4186 | Test Acc: 0.7011 | Test F1: 0.6651\n",
      "Epoch 2/7 | Train Loss: 1.1869 | Train Acc: 0.7708 | Train F1: 0.7606 | Test Loss: 1.0138 | Test Acc: 0.8043 | Test F1: 0.7822\n",
      "Epoch 3/7 | Train Loss: 0.9019 | Train Acc: 0.8250 | Train F1: 0.8214 | Test Loss: 0.8310 | Test Acc: 0.8261 | Test F1: 0.8125\n",
      "Epoch 4/7 | Train Loss: 0.7709 | Train Acc: 0.8597 | Train F1: 0.8573 | Test Loss: 0.7478 | Test Acc: 0.8587 | Test F1: 0.8559\n",
      "Epoch 5/7 | Train Loss: 0.7092 | Train Acc: 0.8764 | Train F1: 0.8746 | Test Loss: 0.7152 | Test Acc: 0.8641 | Test F1: 0.8560\n",
      "Epoch 6/7 | Train Loss: 0.6897 | Train Acc: 0.8806 | Train F1: 0.8793 | Test Loss: 0.7133 | Test Acc: 0.8641 | Test F1: 0.8560\n",
      "Epoch 7/7 | Train Loss: 0.6897 | Train Acc: 0.8806 | Train F1: 0.8793 | Test Loss: 0.7121 | Test Acc: 0.8587 | Test F1: 0.8560\n",
      "Train time on cuda: 334.71113360000163\n",
      "Inference Loss: 0.6897, Accuracy: 88.06%\n"
     ]
    },
    {
     "data": {
      "application/vnd.jupyter.widget-view+json": {
       "model_id": "bef71b1b71b849628a274b567f61b534",
       "version_major": 2,
       "version_minor": 0
      },
      "text/plain": [
       "VBox(children=(Label(value='0.008 MB of 0.008 MB uploaded\\r'), FloatProgress(value=1.0, max=1.0)))"
      ]
     },
     "metadata": {},
     "output_type": "display_data"
    },
    {
     "data": {
      "text/html": [
       "<style>\n",
       "    table.wandb td:nth-child(1) { padding: 0 10px; text-align: left ; width: auto;} td:nth-child(2) {text-align: left ; width: 100%}\n",
       "    .wandb-row { display: flex; flex-direction: row; flex-wrap: wrap; justify-content: flex-start; width: 100% }\n",
       "    .wandb-col { display: flex; flex-direction: column; flex-basis: 100%; flex: 1; padding: 10px; }\n",
       "    </style>\n",
       "<div class=\"wandb-row\"><div class=\"wandb-col\"><h3>Run history:</h3><br/><table class=\"wandb\"><tr><td>epoch</td><td>▁▂▃▅▆▇█</td></tr><tr><td>inference_accuracy</td><td>▁</td></tr><tr><td>inference_loss</td><td>▁</td></tr><tr><td>test_acc</td><td>▁▅▆████</td></tr><tr><td>test_f1</td><td>▁▅▆████</td></tr><tr><td>test_loss</td><td>█▄▂▁▁▁▁</td></tr><tr><td>test_precision</td><td>▁▅▆████</td></tr><tr><td>test_recall</td><td>▁▅▆████</td></tr><tr><td>train_acc</td><td>▁▆▇████</td></tr><tr><td>train_f1</td><td>▁▆▇████</td></tr><tr><td>train_loss</td><td>█▄▂▁▁▁▁</td></tr><tr><td>train_precision</td><td>▁▆▇████</td></tr><tr><td>train_recall</td><td>▁▆▇████</td></tr></table><br/></div><div class=\"wandb-col\"><h3>Run summary:</h3><br/><table class=\"wandb\"><tr><td>epoch</td><td>7</td></tr><tr><td>inference_accuracy</td><td>0.88056</td></tr><tr><td>inference_loss</td><td>0.68975</td></tr><tr><td>test_acc</td><td>0.8587</td></tr><tr><td>test_f1</td><td>0.85603</td></tr><tr><td>test_loss</td><td>0.71211</td></tr><tr><td>test_precision</td><td>0.86879</td></tr><tr><td>test_recall</td><td>0.86111</td></tr><tr><td>train_acc</td><td>0.88056</td></tr><tr><td>train_f1</td><td>0.87931</td></tr><tr><td>train_loss</td><td>0.68967</td></tr><tr><td>train_precision</td><td>0.88252</td></tr><tr><td>train_recall</td><td>0.88056</td></tr><tr><td>train_time</td><td>00:05:34</td></tr></table><br/></div></div>"
      ],
      "text/plain": [
       "<IPython.core.display.HTML object>"
      ]
     },
     "metadata": {},
     "output_type": "display_data"
    },
    {
     "data": {
      "text/html": [
       " View run <strong style=\"color:#cdcd00\">playful-sweep-56</strong> at: <a href='https://wandb.ai/andberg9-self/AST_Sweeps/runs/chia55sl' target=\"_blank\">https://wandb.ai/andberg9-self/AST_Sweeps/runs/chia55sl</a><br/> View project at: <a href='https://wandb.ai/andberg9-self/AST_Sweeps' target=\"_blank\">https://wandb.ai/andberg9-self/AST_Sweeps</a><br/>Synced 5 W&B file(s), 0 media file(s), 0 artifact file(s) and 0 other file(s)"
      ],
      "text/plain": [
       "<IPython.core.display.HTML object>"
      ]
     },
     "metadata": {},
     "output_type": "display_data"
    },
    {
     "data": {
      "text/html": [
       "Find logs at: <code>.\\wandb\\run-20240925_161732-chia55sl\\logs</code>"
      ],
      "text/plain": [
       "<IPython.core.display.HTML object>"
      ]
     },
     "metadata": {},
     "output_type": "display_data"
    },
    {
     "name": "stderr",
     "output_type": "stream",
     "text": [
      "wandb: Agent Starting Run: ky230ct1 with config:\n",
      "wandb: \tbatch_size: 8\n",
      "wandb: \tepochs: 7\n",
      "wandb: \tlearning_rate: 0.0007618486480014255\n",
      "wandb: \toptimizer: adamW\n",
      "wandb: \tscheduler: PolynomialLR\n"
     ]
    },
    {
     "data": {
      "text/html": [
       "Tracking run with wandb version 0.18.1"
      ],
      "text/plain": [
       "<IPython.core.display.HTML object>"
      ]
     },
     "metadata": {},
     "output_type": "display_data"
    },
    {
     "data": {
      "text/html": [
       "Run data is saved locally in <code>c:\\Users\\Sidewinders\\Research_notebooks\\Drone_classification\\Research\\notebooks\\wandb\\run-20240925_162331-ky230ct1</code>"
      ],
      "text/plain": [
       "<IPython.core.display.HTML object>"
      ]
     },
     "metadata": {},
     "output_type": "display_data"
    },
    {
     "data": {
      "text/html": [
       "Syncing run <strong><a href='https://wandb.ai/andberg9-self/AST_Sweeps/runs/ky230ct1' target=\"_blank\">confused-sweep-57</a></strong> to <a href='https://wandb.ai/andberg9-self/AST_Sweeps' target=\"_blank\">Weights & Biases</a> (<a href='https://wandb.me/run' target=\"_blank\">docs</a>)<br/>Sweep page: <a href='https://wandb.ai/andberg9-self/AST_Sweeps/sweeps/ange3go8' target=\"_blank\">https://wandb.ai/andberg9-self/AST_Sweeps/sweeps/ange3go8</a>"
      ],
      "text/plain": [
       "<IPython.core.display.HTML object>"
      ]
     },
     "metadata": {},
     "output_type": "display_data"
    },
    {
     "data": {
      "text/html": [
       " View project at <a href='https://wandb.ai/andberg9-self/AST_Sweeps' target=\"_blank\">https://wandb.ai/andberg9-self/AST_Sweeps</a>"
      ],
      "text/plain": [
       "<IPython.core.display.HTML object>"
      ]
     },
     "metadata": {},
     "output_type": "display_data"
    },
    {
     "data": {
      "text/html": [
       " View sweep at <a href='https://wandb.ai/andberg9-self/AST_Sweeps/sweeps/ange3go8' target=\"_blank\">https://wandb.ai/andberg9-self/AST_Sweeps/sweeps/ange3go8</a>"
      ],
      "text/plain": [
       "<IPython.core.display.HTML object>"
      ]
     },
     "metadata": {},
     "output_type": "display_data"
    },
    {
     "data": {
      "text/html": [
       " View run at <a href='https://wandb.ai/andberg9-self/AST_Sweeps/runs/ky230ct1' target=\"_blank\">https://wandb.ai/andberg9-self/AST_Sweeps/runs/ky230ct1</a>"
      ],
      "text/plain": [
       "<IPython.core.display.HTML object>"
      ]
     },
     "metadata": {},
     "output_type": "display_data"
    },
    {
     "name": "stdout",
     "output_type": "stream",
     "text": [
      "ASTForAudioClassification(\n",
      "  (audio_spectrogram_transformer): ASTModel(\n",
      "    (embeddings): ASTEmbeddings(\n",
      "      (patch_embeddings): ASTPatchEmbeddings(\n",
      "        (projection): Conv2d(1, 768, kernel_size=(16, 16), stride=(10, 10))\n",
      "      )\n",
      "      (dropout): Dropout(p=0.0, inplace=False)\n",
      "    )\n",
      "    (encoder): ASTEncoder(\n",
      "      (layer): ModuleList(\n",
      "        (0-11): 12 x ASTLayer(\n",
      "          (attention): ASTSdpaAttention(\n",
      "            (attention): ASTSdpaSelfAttention(\n",
      "              (query): Linear(in_features=768, out_features=768, bias=True)\n",
      "              (key): Linear(in_features=768, out_features=768, bias=True)\n",
      "              (value): Linear(in_features=768, out_features=768, bias=True)\n",
      "              (dropout): Dropout(p=0.0, inplace=False)\n",
      "            )\n",
      "            (output): ASTSelfOutput(\n",
      "              (dense): Linear(in_features=768, out_features=768, bias=True)\n",
      "              (dropout): Dropout(p=0.0, inplace=False)\n",
      "            )\n",
      "          )\n",
      "          (intermediate): ASTIntermediate(\n",
      "            (dense): Linear(in_features=768, out_features=3072, bias=True)\n",
      "            (intermediate_act_fn): GELUActivation()\n",
      "          )\n",
      "          (output): ASTOutput(\n",
      "            (dense): Linear(in_features=3072, out_features=768, bias=True)\n",
      "            (dropout): Dropout(p=0.0, inplace=False)\n",
      "          )\n",
      "          (layernorm_before): LayerNorm((768,), eps=1e-12, elementwise_affine=True)\n",
      "          (layernorm_after): LayerNorm((768,), eps=1e-12, elementwise_affine=True)\n",
      "        )\n",
      "      )\n",
      "    )\n",
      "    (layernorm): LayerNorm((768,), eps=1e-12, elementwise_affine=True)\n",
      "  )\n",
      "  (classifier): ASTMLPHead(\n",
      "    (layernorm): LayerNorm((768,), eps=1e-12, elementwise_affine=True)\n",
      "    (dense): Linear(in_features=768, out_features=9, bias=True)\n",
      "  )\n",
      ")\n"
     ]
    },
    {
     "data": {
      "application/vnd.jupyter.widget-view+json": {
       "model_id": "ac53d1aee40a4a30a27410ccc5db7f9d",
       "version_major": 2,
       "version_minor": 0
      },
      "text/plain": [
       "  0%|          | 0/7 [00:00<?, ?it/s]"
      ]
     },
     "metadata": {},
     "output_type": "display_data"
    },
    {
     "name": "stdout",
     "output_type": "stream",
     "text": [
      "Epoch 1/7 | Train Loss: 1.2562 | Train Acc: 0.6472 | Train F1: 0.6396 | Test Loss: 0.6901 | Test Acc: 0.8478 | Test F1: 0.8380\n",
      "Epoch 2/7 | Train Loss: 0.5578 | Train Acc: 0.8653 | Train F1: 0.8649 | Test Loss: 0.4500 | Test Acc: 0.9076 | Test F1: 0.9068\n",
      "Epoch 3/7 | Train Loss: 0.4192 | Train Acc: 0.9042 | Train F1: 0.9042 | Test Loss: 0.4111 | Test Acc: 0.9239 | Test F1: 0.9348\n",
      "Epoch 4/7 | Train Loss: 0.3573 | Train Acc: 0.9139 | Train F1: 0.9147 | Test Loss: 0.3368 | Test Acc: 0.9511 | Test F1: 0.9500\n",
      "Epoch 5/7 | Train Loss: 0.3274 | Train Acc: 0.9278 | Train F1: 0.9283 | Test Loss: 0.3302 | Test Acc: 0.9511 | Test F1: 0.9505\n",
      "Epoch 6/7 | Train Loss: 0.3171 | Train Acc: 0.9347 | Train F1: 0.9352 | Test Loss: 0.3322 | Test Acc: 0.9511 | Test F1: 0.9505\n",
      "Epoch 7/7 | Train Loss: 0.3171 | Train Acc: 0.9347 | Train F1: 0.9352 | Test Loss: 0.3380 | Test Acc: 0.9457 | Test F1: 0.9505\n",
      "Train time on cuda: 333.09147870000015\n",
      "Inference Loss: 0.3172, Accuracy: 93.47%\n"
     ]
    },
    {
     "data": {
      "application/vnd.jupyter.widget-view+json": {
       "model_id": "ee876fd87e62437988cdf5de51817c8b",
       "version_major": 2,
       "version_minor": 0
      },
      "text/plain": [
       "VBox(children=(Label(value='0.008 MB of 0.008 MB uploaded\\r'), FloatProgress(value=1.0, max=1.0)))"
      ]
     },
     "metadata": {},
     "output_type": "display_data"
    },
    {
     "data": {
      "text/html": [
       "<style>\n",
       "    table.wandb td:nth-child(1) { padding: 0 10px; text-align: left ; width: auto;} td:nth-child(2) {text-align: left ; width: 100%}\n",
       "    .wandb-row { display: flex; flex-direction: row; flex-wrap: wrap; justify-content: flex-start; width: 100% }\n",
       "    .wandb-col { display: flex; flex-direction: column; flex-basis: 100%; flex: 1; padding: 10px; }\n",
       "    </style>\n",
       "<div class=\"wandb-row\"><div class=\"wandb-col\"><h3>Run history:</h3><br/><table class=\"wandb\"><tr><td>epoch</td><td>▁▂▃▅▆▇█</td></tr><tr><td>inference_accuracy</td><td>▁</td></tr><tr><td>inference_loss</td><td>▁</td></tr><tr><td>test_acc</td><td>▁▅▆████</td></tr><tr><td>test_f1</td><td>▁▅▇████</td></tr><tr><td>test_loss</td><td>█▃▃▁▁▁▁</td></tr><tr><td>test_precision</td><td>▁▅▇████</td></tr><tr><td>test_recall</td><td>▁▅▇████</td></tr><tr><td>train_acc</td><td>▁▆▇▇███</td></tr><tr><td>train_f1</td><td>▁▆▇████</td></tr><tr><td>train_loss</td><td>█▃▂▁▁▁▁</td></tr><tr><td>train_precision</td><td>▁▆▇████</td></tr><tr><td>train_recall</td><td>▁▆▇▇███</td></tr></table><br/></div><div class=\"wandb-col\"><h3>Run summary:</h3><br/><table class=\"wandb\"><tr><td>epoch</td><td>7</td></tr><tr><td>inference_accuracy</td><td>0.93472</td></tr><tr><td>inference_loss</td><td>0.31718</td></tr><tr><td>test_acc</td><td>0.94565</td></tr><tr><td>test_f1</td><td>0.95055</td></tr><tr><td>test_loss</td><td>0.33795</td></tr><tr><td>test_precision</td><td>0.95731</td></tr><tr><td>test_recall</td><td>0.95</td></tr><tr><td>train_acc</td><td>0.93472</td></tr><tr><td>train_f1</td><td>0.93524</td></tr><tr><td>train_loss</td><td>0.31713</td></tr><tr><td>train_precision</td><td>0.93637</td></tr><tr><td>train_recall</td><td>0.93472</td></tr><tr><td>train_time</td><td>00:05:33</td></tr></table><br/></div></div>"
      ],
      "text/plain": [
       "<IPython.core.display.HTML object>"
      ]
     },
     "metadata": {},
     "output_type": "display_data"
    },
    {
     "data": {
      "text/html": [
       " View run <strong style=\"color:#cdcd00\">confused-sweep-57</strong> at: <a href='https://wandb.ai/andberg9-self/AST_Sweeps/runs/ky230ct1' target=\"_blank\">https://wandb.ai/andberg9-self/AST_Sweeps/runs/ky230ct1</a><br/> View project at: <a href='https://wandb.ai/andberg9-self/AST_Sweeps' target=\"_blank\">https://wandb.ai/andberg9-self/AST_Sweeps</a><br/>Synced 5 W&B file(s), 0 media file(s), 0 artifact file(s) and 0 other file(s)"
      ],
      "text/plain": [
       "<IPython.core.display.HTML object>"
      ]
     },
     "metadata": {},
     "output_type": "display_data"
    },
    {
     "data": {
      "text/html": [
       "Find logs at: <code>.\\wandb\\run-20240925_162331-ky230ct1\\logs</code>"
      ],
      "text/plain": [
       "<IPython.core.display.HTML object>"
      ]
     },
     "metadata": {},
     "output_type": "display_data"
    },
    {
     "name": "stderr",
     "output_type": "stream",
     "text": [
      "wandb: Agent Starting Run: ofgvu6k6 with config:\n",
      "wandb: \tbatch_size: 32\n",
      "wandb: \tepochs: 7\n",
      "wandb: \tlearning_rate: 0.00031579423438507796\n",
      "wandb: \toptimizer: adamW\n",
      "wandb: \tscheduler: PolynomialLR\n"
     ]
    },
    {
     "data": {
      "text/html": [
       "Tracking run with wandb version 0.18.1"
      ],
      "text/plain": [
       "<IPython.core.display.HTML object>"
      ]
     },
     "metadata": {},
     "output_type": "display_data"
    },
    {
     "data": {
      "text/html": [
       "Run data is saved locally in <code>c:\\Users\\Sidewinders\\Research_notebooks\\Drone_classification\\Research\\notebooks\\wandb\\run-20240925_162925-ofgvu6k6</code>"
      ],
      "text/plain": [
       "<IPython.core.display.HTML object>"
      ]
     },
     "metadata": {},
     "output_type": "display_data"
    },
    {
     "data": {
      "text/html": [
       "Syncing run <strong><a href='https://wandb.ai/andberg9-self/AST_Sweeps/runs/ofgvu6k6' target=\"_blank\">absurd-sweep-58</a></strong> to <a href='https://wandb.ai/andberg9-self/AST_Sweeps' target=\"_blank\">Weights & Biases</a> (<a href='https://wandb.me/run' target=\"_blank\">docs</a>)<br/>Sweep page: <a href='https://wandb.ai/andberg9-self/AST_Sweeps/sweeps/ange3go8' target=\"_blank\">https://wandb.ai/andberg9-self/AST_Sweeps/sweeps/ange3go8</a>"
      ],
      "text/plain": [
       "<IPython.core.display.HTML object>"
      ]
     },
     "metadata": {},
     "output_type": "display_data"
    },
    {
     "data": {
      "text/html": [
       " View project at <a href='https://wandb.ai/andberg9-self/AST_Sweeps' target=\"_blank\">https://wandb.ai/andberg9-self/AST_Sweeps</a>"
      ],
      "text/plain": [
       "<IPython.core.display.HTML object>"
      ]
     },
     "metadata": {},
     "output_type": "display_data"
    },
    {
     "data": {
      "text/html": [
       " View sweep at <a href='https://wandb.ai/andberg9-self/AST_Sweeps/sweeps/ange3go8' target=\"_blank\">https://wandb.ai/andberg9-self/AST_Sweeps/sweeps/ange3go8</a>"
      ],
      "text/plain": [
       "<IPython.core.display.HTML object>"
      ]
     },
     "metadata": {},
     "output_type": "display_data"
    },
    {
     "data": {
      "text/html": [
       " View run at <a href='https://wandb.ai/andberg9-self/AST_Sweeps/runs/ofgvu6k6' target=\"_blank\">https://wandb.ai/andberg9-self/AST_Sweeps/runs/ofgvu6k6</a>"
      ],
      "text/plain": [
       "<IPython.core.display.HTML object>"
      ]
     },
     "metadata": {},
     "output_type": "display_data"
    },
    {
     "name": "stdout",
     "output_type": "stream",
     "text": [
      "ASTForAudioClassification(\n",
      "  (audio_spectrogram_transformer): ASTModel(\n",
      "    (embeddings): ASTEmbeddings(\n",
      "      (patch_embeddings): ASTPatchEmbeddings(\n",
      "        (projection): Conv2d(1, 768, kernel_size=(16, 16), stride=(10, 10))\n",
      "      )\n",
      "      (dropout): Dropout(p=0.0, inplace=False)\n",
      "    )\n",
      "    (encoder): ASTEncoder(\n",
      "      (layer): ModuleList(\n",
      "        (0-11): 12 x ASTLayer(\n",
      "          (attention): ASTSdpaAttention(\n",
      "            (attention): ASTSdpaSelfAttention(\n",
      "              (query): Linear(in_features=768, out_features=768, bias=True)\n",
      "              (key): Linear(in_features=768, out_features=768, bias=True)\n",
      "              (value): Linear(in_features=768, out_features=768, bias=True)\n",
      "              (dropout): Dropout(p=0.0, inplace=False)\n",
      "            )\n",
      "            (output): ASTSelfOutput(\n",
      "              (dense): Linear(in_features=768, out_features=768, bias=True)\n",
      "              (dropout): Dropout(p=0.0, inplace=False)\n",
      "            )\n",
      "          )\n",
      "          (intermediate): ASTIntermediate(\n",
      "            (dense): Linear(in_features=768, out_features=3072, bias=True)\n",
      "            (intermediate_act_fn): GELUActivation()\n",
      "          )\n",
      "          (output): ASTOutput(\n",
      "            (dense): Linear(in_features=3072, out_features=768, bias=True)\n",
      "            (dropout): Dropout(p=0.0, inplace=False)\n",
      "          )\n",
      "          (layernorm_before): LayerNorm((768,), eps=1e-12, elementwise_affine=True)\n",
      "          (layernorm_after): LayerNorm((768,), eps=1e-12, elementwise_affine=True)\n",
      "        )\n",
      "      )\n",
      "    )\n",
      "    (layernorm): LayerNorm((768,), eps=1e-12, elementwise_affine=True)\n",
      "  )\n",
      "  (classifier): ASTMLPHead(\n",
      "    (layernorm): LayerNorm((768,), eps=1e-12, elementwise_affine=True)\n",
      "    (dense): Linear(in_features=768, out_features=9, bias=True)\n",
      "  )\n",
      ")\n"
     ]
    },
    {
     "data": {
      "application/vnd.jupyter.widget-view+json": {
       "model_id": "1e3b06193bd448c5a59ea28a19e95634",
       "version_major": 2,
       "version_minor": 0
      },
      "text/plain": [
       "  0%|          | 0/7 [00:00<?, ?it/s]"
      ]
     },
     "metadata": {},
     "output_type": "display_data"
    },
    {
     "name": "stdout",
     "output_type": "stream",
     "text": [
      "Epoch 1/7 | Train Loss: 2.1509 | Train Acc: 0.1997 | Train F1: 0.1792 | Test Loss: 1.9378 | Test Acc: 0.3656 | Test F1: 0.3377\n",
      "Epoch 2/7 | Train Loss: 1.8603 | Train Acc: 0.3927 | Train F1: 0.3660 | Test Loss: 1.7065 | Test Acc: 0.5427 | Test F1: 0.5328\n",
      "Epoch 3/7 | Train Loss: 1.6622 | Train Acc: 0.5530 | Train F1: 0.5365 | Test Loss: 1.5555 | Test Acc: 0.6448 | Test F1: 0.6366\n",
      "Epoch 4/7 | Train Loss: 1.5404 | Train Acc: 0.6413 | Train F1: 0.6323 | Test Loss: 1.4731 | Test Acc: 0.6708 | Test F1: 0.6649\n",
      "Epoch 5/7 | Train Loss: 1.4686 | Train Acc: 0.6739 | Train F1: 0.6643 | Test Loss: 1.4373 | Test Acc: 0.6823 | Test F1: 0.6867\n",
      "Epoch 6/7 | Train Loss: 1.4442 | Train Acc: 0.6861 | Train F1: 0.6800 | Test Loss: 1.4317 | Test Acc: 0.6917 | Test F1: 0.6867\n",
      "Epoch 7/7 | Train Loss: 1.4452 | Train Acc: 0.6861 | Train F1: 0.6800 | Test Loss: 1.4374 | Test Acc: 0.6854 | Test F1: 0.6867\n",
      "Train time on cuda: 336.08404940000037\n",
      "Inference Loss: 1.4411, Accuracy: 68.89%\n"
     ]
    },
    {
     "data": {
      "application/vnd.jupyter.widget-view+json": {
       "model_id": "131536b949e540b8becb2f98976915df",
       "version_major": 2,
       "version_minor": 0
      },
      "text/plain": [
       "VBox(children=(Label(value='0.008 MB of 0.008 MB uploaded\\r'), FloatProgress(value=1.0, max=1.0)))"
      ]
     },
     "metadata": {},
     "output_type": "display_data"
    },
    {
     "data": {
      "text/html": [
       "<style>\n",
       "    table.wandb td:nth-child(1) { padding: 0 10px; text-align: left ; width: auto;} td:nth-child(2) {text-align: left ; width: 100%}\n",
       "    .wandb-row { display: flex; flex-direction: row; flex-wrap: wrap; justify-content: flex-start; width: 100% }\n",
       "    .wandb-col { display: flex; flex-direction: column; flex-basis: 100%; flex: 1; padding: 10px; }\n",
       "    </style>\n",
       "<div class=\"wandb-row\"><div class=\"wandb-col\"><h3>Run history:</h3><br/><table class=\"wandb\"><tr><td>epoch</td><td>▁▂▃▅▆▇█</td></tr><tr><td>inference_accuracy</td><td>▁</td></tr><tr><td>inference_loss</td><td>▁</td></tr><tr><td>test_acc</td><td>▁▅▇████</td></tr><tr><td>test_f1</td><td>▁▅▇████</td></tr><tr><td>test_loss</td><td>█▅▃▂▁▁▁</td></tr><tr><td>test_precision</td><td>▁▆▇████</td></tr><tr><td>test_recall</td><td>▁▅▇████</td></tr><tr><td>train_acc</td><td>▁▄▆▇███</td></tr><tr><td>train_f1</td><td>▁▄▆▇███</td></tr><tr><td>train_loss</td><td>█▅▃▂▁▁▁</td></tr><tr><td>train_precision</td><td>▁▃▆▇███</td></tr><tr><td>train_recall</td><td>▁▄▆▇███</td></tr></table><br/></div><div class=\"wandb-col\"><h3>Run summary:</h3><br/><table class=\"wandb\"><tr><td>epoch</td><td>7</td></tr><tr><td>inference_accuracy</td><td>0.68889</td></tr><tr><td>inference_loss</td><td>1.4411</td></tr><tr><td>test_acc</td><td>0.68542</td></tr><tr><td>test_f1</td><td>0.68674</td></tr><tr><td>test_loss</td><td>1.43745</td></tr><tr><td>test_precision</td><td>0.69432</td></tr><tr><td>test_recall</td><td>0.69444</td></tr><tr><td>train_acc</td><td>0.68614</td></tr><tr><td>train_f1</td><td>0.68004</td></tr><tr><td>train_loss</td><td>1.44515</td></tr><tr><td>train_precision</td><td>0.67723</td></tr><tr><td>train_recall</td><td>0.68889</td></tr><tr><td>train_time</td><td>00:05:36</td></tr></table><br/></div></div>"
      ],
      "text/plain": [
       "<IPython.core.display.HTML object>"
      ]
     },
     "metadata": {},
     "output_type": "display_data"
    },
    {
     "data": {
      "text/html": [
       " View run <strong style=\"color:#cdcd00\">absurd-sweep-58</strong> at: <a href='https://wandb.ai/andberg9-self/AST_Sweeps/runs/ofgvu6k6' target=\"_blank\">https://wandb.ai/andberg9-self/AST_Sweeps/runs/ofgvu6k6</a><br/> View project at: <a href='https://wandb.ai/andberg9-self/AST_Sweeps' target=\"_blank\">https://wandb.ai/andberg9-self/AST_Sweeps</a><br/>Synced 5 W&B file(s), 0 media file(s), 0 artifact file(s) and 0 other file(s)"
      ],
      "text/plain": [
       "<IPython.core.display.HTML object>"
      ]
     },
     "metadata": {},
     "output_type": "display_data"
    },
    {
     "data": {
      "text/html": [
       "Find logs at: <code>.\\wandb\\run-20240925_162925-ofgvu6k6\\logs</code>"
      ],
      "text/plain": [
       "<IPython.core.display.HTML object>"
      ]
     },
     "metadata": {},
     "output_type": "display_data"
    },
    {
     "name": "stderr",
     "output_type": "stream",
     "text": [
      "wandb: Agent Starting Run: gq3s98df with config:\n",
      "wandb: \tbatch_size: 4\n",
      "wandb: \tepochs: 7\n",
      "wandb: \tlearning_rate: 0.0002845877918874019\n",
      "wandb: \toptimizer: adamW\n",
      "wandb: \tscheduler: PolynomialLR\n"
     ]
    },
    {
     "data": {
      "text/html": [
       "Tracking run with wandb version 0.18.1"
      ],
      "text/plain": [
       "<IPython.core.display.HTML object>"
      ]
     },
     "metadata": {},
     "output_type": "display_data"
    },
    {
     "data": {
      "text/html": [
       "Run data is saved locally in <code>c:\\Users\\Sidewinders\\Research_notebooks\\Drone_classification\\Research\\notebooks\\wandb\\run-20240925_163522-gq3s98df</code>"
      ],
      "text/plain": [
       "<IPython.core.display.HTML object>"
      ]
     },
     "metadata": {},
     "output_type": "display_data"
    },
    {
     "data": {
      "text/html": [
       "Syncing run <strong><a href='https://wandb.ai/andberg9-self/AST_Sweeps/runs/gq3s98df' target=\"_blank\">fallen-sweep-59</a></strong> to <a href='https://wandb.ai/andberg9-self/AST_Sweeps' target=\"_blank\">Weights & Biases</a> (<a href='https://wandb.me/run' target=\"_blank\">docs</a>)<br/>Sweep page: <a href='https://wandb.ai/andberg9-self/AST_Sweeps/sweeps/ange3go8' target=\"_blank\">https://wandb.ai/andberg9-self/AST_Sweeps/sweeps/ange3go8</a>"
      ],
      "text/plain": [
       "<IPython.core.display.HTML object>"
      ]
     },
     "metadata": {},
     "output_type": "display_data"
    },
    {
     "data": {
      "text/html": [
       " View project at <a href='https://wandb.ai/andberg9-self/AST_Sweeps' target=\"_blank\">https://wandb.ai/andberg9-self/AST_Sweeps</a>"
      ],
      "text/plain": [
       "<IPython.core.display.HTML object>"
      ]
     },
     "metadata": {},
     "output_type": "display_data"
    },
    {
     "data": {
      "text/html": [
       " View sweep at <a href='https://wandb.ai/andberg9-self/AST_Sweeps/sweeps/ange3go8' target=\"_blank\">https://wandb.ai/andberg9-self/AST_Sweeps/sweeps/ange3go8</a>"
      ],
      "text/plain": [
       "<IPython.core.display.HTML object>"
      ]
     },
     "metadata": {},
     "output_type": "display_data"
    },
    {
     "data": {
      "text/html": [
       " View run at <a href='https://wandb.ai/andberg9-self/AST_Sweeps/runs/gq3s98df' target=\"_blank\">https://wandb.ai/andberg9-self/AST_Sweeps/runs/gq3s98df</a>"
      ],
      "text/plain": [
       "<IPython.core.display.HTML object>"
      ]
     },
     "metadata": {},
     "output_type": "display_data"
    },
    {
     "name": "stdout",
     "output_type": "stream",
     "text": [
      "ASTForAudioClassification(\n",
      "  (audio_spectrogram_transformer): ASTModel(\n",
      "    (embeddings): ASTEmbeddings(\n",
      "      (patch_embeddings): ASTPatchEmbeddings(\n",
      "        (projection): Conv2d(1, 768, kernel_size=(16, 16), stride=(10, 10))\n",
      "      )\n",
      "      (dropout): Dropout(p=0.0, inplace=False)\n",
      "    )\n",
      "    (encoder): ASTEncoder(\n",
      "      (layer): ModuleList(\n",
      "        (0-11): 12 x ASTLayer(\n",
      "          (attention): ASTSdpaAttention(\n",
      "            (attention): ASTSdpaSelfAttention(\n",
      "              (query): Linear(in_features=768, out_features=768, bias=True)\n",
      "              (key): Linear(in_features=768, out_features=768, bias=True)\n",
      "              (value): Linear(in_features=768, out_features=768, bias=True)\n",
      "              (dropout): Dropout(p=0.0, inplace=False)\n",
      "            )\n",
      "            (output): ASTSelfOutput(\n",
      "              (dense): Linear(in_features=768, out_features=768, bias=True)\n",
      "              (dropout): Dropout(p=0.0, inplace=False)\n",
      "            )\n",
      "          )\n",
      "          (intermediate): ASTIntermediate(\n",
      "            (dense): Linear(in_features=768, out_features=3072, bias=True)\n",
      "            (intermediate_act_fn): GELUActivation()\n",
      "          )\n",
      "          (output): ASTOutput(\n",
      "            (dense): Linear(in_features=3072, out_features=768, bias=True)\n",
      "            (dropout): Dropout(p=0.0, inplace=False)\n",
      "          )\n",
      "          (layernorm_before): LayerNorm((768,), eps=1e-12, elementwise_affine=True)\n",
      "          (layernorm_after): LayerNorm((768,), eps=1e-12, elementwise_affine=True)\n",
      "        )\n",
      "      )\n",
      "    )\n",
      "    (layernorm): LayerNorm((768,), eps=1e-12, elementwise_affine=True)\n",
      "  )\n",
      "  (classifier): ASTMLPHead(\n",
      "    (layernorm): LayerNorm((768,), eps=1e-12, elementwise_affine=True)\n",
      "    (dense): Linear(in_features=768, out_features=9, bias=True)\n",
      "  )\n",
      ")\n"
     ]
    },
    {
     "data": {
      "application/vnd.jupyter.widget-view+json": {
       "model_id": "207c007ef51e4e138ea566aefc039829",
       "version_major": 2,
       "version_minor": 0
      },
      "text/plain": [
       "  0%|          | 0/7 [00:00<?, ?it/s]"
      ]
     },
     "metadata": {},
     "output_type": "display_data"
    },
    {
     "name": "stdout",
     "output_type": "stream",
     "text": [
      "Epoch 1/7 | Train Loss: 1.6225 | Train Acc: 0.5389 | Train F1: 0.5312 | Test Loss: 1.0739 | Test Acc: 0.8222 | Test F1: 0.8135\n",
      "Epoch 2/7 | Train Loss: 0.8731 | Train Acc: 0.8333 | Train F1: 0.8309 | Test Loss: 0.7151 | Test Acc: 0.8833 | Test F1: 0.8807\n",
      "Epoch 3/7 | Train Loss: 0.6447 | Train Acc: 0.8694 | Train F1: 0.8694 | Test Loss: 0.5894 | Test Acc: 0.9111 | Test F1: 0.9130\n",
      "Epoch 4/7 | Train Loss: 0.5503 | Train Acc: 0.8847 | Train F1: 0.8849 | Test Loss: 0.5270 | Test Acc: 0.9278 | Test F1: 0.9290\n",
      "Epoch 5/7 | Train Loss: 0.5069 | Train Acc: 0.8917 | Train F1: 0.8922 | Test Loss: 0.4971 | Test Acc: 0.9278 | Test F1: 0.9290\n",
      "Epoch 6/7 | Train Loss: 0.4900 | Train Acc: 0.8972 | Train F1: 0.8977 | Test Loss: 0.4971 | Test Acc: 0.9278 | Test F1: 0.9290\n",
      "Epoch 7/7 | Train Loss: 0.4900 | Train Acc: 0.8972 | Train F1: 0.8977 | Test Loss: 0.4971 | Test Acc: 0.9278 | Test F1: 0.9290\n",
      "Train time on cuda: 330.7929172000004\n",
      "Inference Loss: 0.4900, Accuracy: 89.58%\n"
     ]
    },
    {
     "data": {
      "application/vnd.jupyter.widget-view+json": {
       "model_id": "c14fb6e88be749bca82f6688010edb21",
       "version_major": 2,
       "version_minor": 0
      },
      "text/plain": [
       "VBox(children=(Label(value='0.008 MB of 0.008 MB uploaded\\r'), FloatProgress(value=1.0, max=1.0)))"
      ]
     },
     "metadata": {},
     "output_type": "display_data"
    },
    {
     "data": {
      "text/html": [
       "<style>\n",
       "    table.wandb td:nth-child(1) { padding: 0 10px; text-align: left ; width: auto;} td:nth-child(2) {text-align: left ; width: 100%}\n",
       "    .wandb-row { display: flex; flex-direction: row; flex-wrap: wrap; justify-content: flex-start; width: 100% }\n",
       "    .wandb-col { display: flex; flex-direction: column; flex-basis: 100%; flex: 1; padding: 10px; }\n",
       "    </style>\n",
       "<div class=\"wandb-row\"><div class=\"wandb-col\"><h3>Run history:</h3><br/><table class=\"wandb\"><tr><td>epoch</td><td>▁▂▃▅▆▇█</td></tr><tr><td>inference_accuracy</td><td>▁</td></tr><tr><td>inference_loss</td><td>▁</td></tr><tr><td>test_acc</td><td>▁▅▇████</td></tr><tr><td>test_f1</td><td>▁▅▇████</td></tr><tr><td>test_loss</td><td>█▄▂▁▁▁▁</td></tr><tr><td>test_precision</td><td>▁▅▇████</td></tr><tr><td>test_recall</td><td>▁▅▇████</td></tr><tr><td>train_acc</td><td>▁▇▇████</td></tr><tr><td>train_f1</td><td>▁▇▇████</td></tr><tr><td>train_loss</td><td>█▃▂▁▁▁▁</td></tr><tr><td>train_precision</td><td>▁▇▇████</td></tr><tr><td>train_recall</td><td>▁▇▇████</td></tr></table><br/></div><div class=\"wandb-col\"><h3>Run summary:</h3><br/><table class=\"wandb\"><tr><td>epoch</td><td>7</td></tr><tr><td>inference_accuracy</td><td>0.89583</td></tr><tr><td>inference_loss</td><td>0.49001</td></tr><tr><td>test_acc</td><td>0.92778</td></tr><tr><td>test_f1</td><td>0.92897</td></tr><tr><td>test_loss</td><td>0.49714</td></tr><tr><td>test_precision</td><td>0.93899</td></tr><tr><td>test_recall</td><td>0.92778</td></tr><tr><td>train_acc</td><td>0.89722</td></tr><tr><td>train_f1</td><td>0.89767</td></tr><tr><td>train_loss</td><td>0.49004</td></tr><tr><td>train_precision</td><td>0.89894</td></tr><tr><td>train_recall</td><td>0.89722</td></tr><tr><td>train_time</td><td>00:05:30</td></tr></table><br/></div></div>"
      ],
      "text/plain": [
       "<IPython.core.display.HTML object>"
      ]
     },
     "metadata": {},
     "output_type": "display_data"
    },
    {
     "data": {
      "text/html": [
       " View run <strong style=\"color:#cdcd00\">fallen-sweep-59</strong> at: <a href='https://wandb.ai/andberg9-self/AST_Sweeps/runs/gq3s98df' target=\"_blank\">https://wandb.ai/andberg9-self/AST_Sweeps/runs/gq3s98df</a><br/> View project at: <a href='https://wandb.ai/andberg9-self/AST_Sweeps' target=\"_blank\">https://wandb.ai/andberg9-self/AST_Sweeps</a><br/>Synced 5 W&B file(s), 0 media file(s), 0 artifact file(s) and 0 other file(s)"
      ],
      "text/plain": [
       "<IPython.core.display.HTML object>"
      ]
     },
     "metadata": {},
     "output_type": "display_data"
    },
    {
     "data": {
      "text/html": [
       "Find logs at: <code>.\\wandb\\run-20240925_163522-gq3s98df\\logs</code>"
      ],
      "text/plain": [
       "<IPython.core.display.HTML object>"
      ]
     },
     "metadata": {},
     "output_type": "display_data"
    },
    {
     "name": "stderr",
     "output_type": "stream",
     "text": [
      "wandb: Agent Starting Run: 1m1uox1g with config:\n",
      "wandb: \tbatch_size: 8\n",
      "wandb: \tepochs: 7\n",
      "wandb: \tlearning_rate: 0.0007858146313717788\n",
      "wandb: \toptimizer: adamW\n",
      "wandb: \tscheduler: PolynomialLR\n"
     ]
    },
    {
     "data": {
      "text/html": [
       "Tracking run with wandb version 0.18.1"
      ],
      "text/plain": [
       "<IPython.core.display.HTML object>"
      ]
     },
     "metadata": {},
     "output_type": "display_data"
    },
    {
     "data": {
      "text/html": [
       "Run data is saved locally in <code>c:\\Users\\Sidewinders\\Research_notebooks\\Drone_classification\\Research\\notebooks\\wandb\\run-20240925_164115-1m1uox1g</code>"
      ],
      "text/plain": [
       "<IPython.core.display.HTML object>"
      ]
     },
     "metadata": {},
     "output_type": "display_data"
    },
    {
     "data": {
      "text/html": [
       "Syncing run <strong><a href='https://wandb.ai/andberg9-self/AST_Sweeps/runs/1m1uox1g' target=\"_blank\">desert-sweep-60</a></strong> to <a href='https://wandb.ai/andberg9-self/AST_Sweeps' target=\"_blank\">Weights & Biases</a> (<a href='https://wandb.me/run' target=\"_blank\">docs</a>)<br/>Sweep page: <a href='https://wandb.ai/andberg9-self/AST_Sweeps/sweeps/ange3go8' target=\"_blank\">https://wandb.ai/andberg9-self/AST_Sweeps/sweeps/ange3go8</a>"
      ],
      "text/plain": [
       "<IPython.core.display.HTML object>"
      ]
     },
     "metadata": {},
     "output_type": "display_data"
    },
    {
     "data": {
      "text/html": [
       " View project at <a href='https://wandb.ai/andberg9-self/AST_Sweeps' target=\"_blank\">https://wandb.ai/andberg9-self/AST_Sweeps</a>"
      ],
      "text/plain": [
       "<IPython.core.display.HTML object>"
      ]
     },
     "metadata": {},
     "output_type": "display_data"
    },
    {
     "data": {
      "text/html": [
       " View sweep at <a href='https://wandb.ai/andberg9-self/AST_Sweeps/sweeps/ange3go8' target=\"_blank\">https://wandb.ai/andberg9-self/AST_Sweeps/sweeps/ange3go8</a>"
      ],
      "text/plain": [
       "<IPython.core.display.HTML object>"
      ]
     },
     "metadata": {},
     "output_type": "display_data"
    },
    {
     "data": {
      "text/html": [
       " View run at <a href='https://wandb.ai/andberg9-self/AST_Sweeps/runs/1m1uox1g' target=\"_blank\">https://wandb.ai/andberg9-self/AST_Sweeps/runs/1m1uox1g</a>"
      ],
      "text/plain": [
       "<IPython.core.display.HTML object>"
      ]
     },
     "metadata": {},
     "output_type": "display_data"
    },
    {
     "name": "stdout",
     "output_type": "stream",
     "text": [
      "ASTForAudioClassification(\n",
      "  (audio_spectrogram_transformer): ASTModel(\n",
      "    (embeddings): ASTEmbeddings(\n",
      "      (patch_embeddings): ASTPatchEmbeddings(\n",
      "        (projection): Conv2d(1, 768, kernel_size=(16, 16), stride=(10, 10))\n",
      "      )\n",
      "      (dropout): Dropout(p=0.0, inplace=False)\n",
      "    )\n",
      "    (encoder): ASTEncoder(\n",
      "      (layer): ModuleList(\n",
      "        (0-11): 12 x ASTLayer(\n",
      "          (attention): ASTSdpaAttention(\n",
      "            (attention): ASTSdpaSelfAttention(\n",
      "              (query): Linear(in_features=768, out_features=768, bias=True)\n",
      "              (key): Linear(in_features=768, out_features=768, bias=True)\n",
      "              (value): Linear(in_features=768, out_features=768, bias=True)\n",
      "              (dropout): Dropout(p=0.0, inplace=False)\n",
      "            )\n",
      "            (output): ASTSelfOutput(\n",
      "              (dense): Linear(in_features=768, out_features=768, bias=True)\n",
      "              (dropout): Dropout(p=0.0, inplace=False)\n",
      "            )\n",
      "          )\n",
      "          (intermediate): ASTIntermediate(\n",
      "            (dense): Linear(in_features=768, out_features=3072, bias=True)\n",
      "            (intermediate_act_fn): GELUActivation()\n",
      "          )\n",
      "          (output): ASTOutput(\n",
      "            (dense): Linear(in_features=3072, out_features=768, bias=True)\n",
      "            (dropout): Dropout(p=0.0, inplace=False)\n",
      "          )\n",
      "          (layernorm_before): LayerNorm((768,), eps=1e-12, elementwise_affine=True)\n",
      "          (layernorm_after): LayerNorm((768,), eps=1e-12, elementwise_affine=True)\n",
      "        )\n",
      "      )\n",
      "    )\n",
      "    (layernorm): LayerNorm((768,), eps=1e-12, elementwise_affine=True)\n",
      "  )\n",
      "  (classifier): ASTMLPHead(\n",
      "    (layernorm): LayerNorm((768,), eps=1e-12, elementwise_affine=True)\n",
      "    (dense): Linear(in_features=768, out_features=9, bias=True)\n",
      "  )\n",
      ")\n"
     ]
    },
    {
     "data": {
      "application/vnd.jupyter.widget-view+json": {
       "model_id": "0fcc4e0b28d543849720ad5c6ce806ec",
       "version_major": 2,
       "version_minor": 0
      },
      "text/plain": [
       "  0%|          | 0/7 [00:00<?, ?it/s]"
      ]
     },
     "metadata": {},
     "output_type": "display_data"
    },
    {
     "name": "stdout",
     "output_type": "stream",
     "text": [
      "Epoch 1/7 | Train Loss: 1.3437 | Train Acc: 0.5903 | Train F1: 0.5769 | Test Loss: 0.7592 | Test Acc: 0.8098 | Test F1: 0.8095\n",
      "Epoch 2/7 | Train Loss: 0.5928 | Train Acc: 0.8472 | Train F1: 0.8472 | Test Loss: 0.4869 | Test Acc: 0.8913 | Test F1: 0.8883\n",
      "Epoch 3/7 | Train Loss: 0.4303 | Train Acc: 0.8931 | Train F1: 0.8935 | Test Loss: 0.4036 | Test Acc: 0.9076 | Test F1: 0.9089\n",
      "Epoch 4/7 | Train Loss: 0.3666 | Train Acc: 0.9181 | Train F1: 0.9185 | Test Loss: 0.3565 | Test Acc: 0.9402 | Test F1: 0.9420\n",
      "Epoch 5/7 | Train Loss: 0.3322 | Train Acc: 0.9292 | Train F1: 0.9296 | Test Loss: 0.3420 | Test Acc: 0.9402 | Test F1: 0.9420\n",
      "Epoch 6/7 | Train Loss: 0.3210 | Train Acc: 0.9319 | Train F1: 0.9324 | Test Loss: 0.3545 | Test Acc: 0.9348 | Test F1: 0.9420\n",
      "Epoch 7/7 | Train Loss: 0.3210 | Train Acc: 0.9319 | Train F1: 0.9324 | Test Loss: 0.3390 | Test Acc: 0.9402 | Test F1: 0.9420\n",
      "Train time on cuda: 333.61773449999964\n",
      "Inference Loss: 0.3210, Accuracy: 93.19%\n"
     ]
    },
    {
     "data": {
      "application/vnd.jupyter.widget-view+json": {
       "model_id": "6918cf775346458cb920fcdeb49cb7c9",
       "version_major": 2,
       "version_minor": 0
      },
      "text/plain": [
       "VBox(children=(Label(value='0.008 MB of 0.008 MB uploaded\\r'), FloatProgress(value=1.0, max=1.0)))"
      ]
     },
     "metadata": {},
     "output_type": "display_data"
    },
    {
     "data": {
      "text/html": [
       "<style>\n",
       "    table.wandb td:nth-child(1) { padding: 0 10px; text-align: left ; width: auto;} td:nth-child(2) {text-align: left ; width: 100%}\n",
       "    .wandb-row { display: flex; flex-direction: row; flex-wrap: wrap; justify-content: flex-start; width: 100% }\n",
       "    .wandb-col { display: flex; flex-direction: column; flex-basis: 100%; flex: 1; padding: 10px; }\n",
       "    </style>\n",
       "<div class=\"wandb-row\"><div class=\"wandb-col\"><h3>Run history:</h3><br/><table class=\"wandb\"><tr><td>epoch</td><td>▁▂▃▅▆▇█</td></tr><tr><td>inference_accuracy</td><td>▁</td></tr><tr><td>inference_loss</td><td>▁</td></tr><tr><td>test_acc</td><td>▁▅▆████</td></tr><tr><td>test_f1</td><td>▁▅▆████</td></tr><tr><td>test_loss</td><td>█▃▂▁▁▁▁</td></tr><tr><td>test_precision</td><td>▁▄▅████</td></tr><tr><td>test_recall</td><td>▁▅▆████</td></tr><tr><td>train_acc</td><td>▁▆▇████</td></tr><tr><td>train_f1</td><td>▁▆▇████</td></tr><tr><td>train_loss</td><td>█▃▂▁▁▁▁</td></tr><tr><td>train_precision</td><td>▁▆▇████</td></tr><tr><td>train_recall</td><td>▁▆▇████</td></tr></table><br/></div><div class=\"wandb-col\"><h3>Run summary:</h3><br/><table class=\"wandb\"><tr><td>epoch</td><td>7</td></tr><tr><td>inference_accuracy</td><td>0.93194</td></tr><tr><td>inference_loss</td><td>0.321</td></tr><tr><td>test_acc</td><td>0.94022</td></tr><tr><td>test_f1</td><td>0.942</td></tr><tr><td>test_loss</td><td>0.33903</td></tr><tr><td>test_precision</td><td>0.95636</td></tr><tr><td>test_recall</td><td>0.93889</td></tr><tr><td>train_acc</td><td>0.93194</td></tr><tr><td>train_f1</td><td>0.93236</td></tr><tr><td>train_loss</td><td>0.32096</td></tr><tr><td>train_precision</td><td>0.93345</td></tr><tr><td>train_recall</td><td>0.93194</td></tr><tr><td>train_time</td><td>00:05:33</td></tr></table><br/></div></div>"
      ],
      "text/plain": [
       "<IPython.core.display.HTML object>"
      ]
     },
     "metadata": {},
     "output_type": "display_data"
    },
    {
     "data": {
      "text/html": [
       " View run <strong style=\"color:#cdcd00\">desert-sweep-60</strong> at: <a href='https://wandb.ai/andberg9-self/AST_Sweeps/runs/1m1uox1g' target=\"_blank\">https://wandb.ai/andberg9-self/AST_Sweeps/runs/1m1uox1g</a><br/> View project at: <a href='https://wandb.ai/andberg9-self/AST_Sweeps' target=\"_blank\">https://wandb.ai/andberg9-self/AST_Sweeps</a><br/>Synced 5 W&B file(s), 0 media file(s), 0 artifact file(s) and 0 other file(s)"
      ],
      "text/plain": [
       "<IPython.core.display.HTML object>"
      ]
     },
     "metadata": {},
     "output_type": "display_data"
    },
    {
     "data": {
      "text/html": [
       "Find logs at: <code>.\\wandb\\run-20240925_164115-1m1uox1g\\logs</code>"
      ],
      "text/plain": [
       "<IPython.core.display.HTML object>"
      ]
     },
     "metadata": {},
     "output_type": "display_data"
    },
    {
     "name": "stderr",
     "output_type": "stream",
     "text": [
      "wandb: Agent Starting Run: cje41arc with config:\n",
      "wandb: \tbatch_size: 32\n",
      "wandb: \tepochs: 7\n",
      "wandb: \tlearning_rate: 0.0007200071469892749\n",
      "wandb: \toptimizer: adamW\n",
      "wandb: \tscheduler: PolynomialLR\n"
     ]
    },
    {
     "data": {
      "text/html": [
       "Tracking run with wandb version 0.18.1"
      ],
      "text/plain": [
       "<IPython.core.display.HTML object>"
      ]
     },
     "metadata": {},
     "output_type": "display_data"
    },
    {
     "data": {
      "text/html": [
       "Run data is saved locally in <code>c:\\Users\\Sidewinders\\Research_notebooks\\Drone_classification\\Research\\notebooks\\wandb\\run-20240925_164712-cje41arc</code>"
      ],
      "text/plain": [
       "<IPython.core.display.HTML object>"
      ]
     },
     "metadata": {},
     "output_type": "display_data"
    },
    {
     "data": {
      "text/html": [
       "Syncing run <strong><a href='https://wandb.ai/andberg9-self/AST_Sweeps/runs/cje41arc' target=\"_blank\">glorious-sweep-61</a></strong> to <a href='https://wandb.ai/andberg9-self/AST_Sweeps' target=\"_blank\">Weights & Biases</a> (<a href='https://wandb.me/run' target=\"_blank\">docs</a>)<br/>Sweep page: <a href='https://wandb.ai/andberg9-self/AST_Sweeps/sweeps/ange3go8' target=\"_blank\">https://wandb.ai/andberg9-self/AST_Sweeps/sweeps/ange3go8</a>"
      ],
      "text/plain": [
       "<IPython.core.display.HTML object>"
      ]
     },
     "metadata": {},
     "output_type": "display_data"
    },
    {
     "data": {
      "text/html": [
       " View project at <a href='https://wandb.ai/andberg9-self/AST_Sweeps' target=\"_blank\">https://wandb.ai/andberg9-self/AST_Sweeps</a>"
      ],
      "text/plain": [
       "<IPython.core.display.HTML object>"
      ]
     },
     "metadata": {},
     "output_type": "display_data"
    },
    {
     "data": {
      "text/html": [
       " View sweep at <a href='https://wandb.ai/andberg9-self/AST_Sweeps/sweeps/ange3go8' target=\"_blank\">https://wandb.ai/andberg9-self/AST_Sweeps/sweeps/ange3go8</a>"
      ],
      "text/plain": [
       "<IPython.core.display.HTML object>"
      ]
     },
     "metadata": {},
     "output_type": "display_data"
    },
    {
     "data": {
      "text/html": [
       " View run at <a href='https://wandb.ai/andberg9-self/AST_Sweeps/runs/cje41arc' target=\"_blank\">https://wandb.ai/andberg9-self/AST_Sweeps/runs/cje41arc</a>"
      ],
      "text/plain": [
       "<IPython.core.display.HTML object>"
      ]
     },
     "metadata": {},
     "output_type": "display_data"
    },
    {
     "name": "stdout",
     "output_type": "stream",
     "text": [
      "ASTForAudioClassification(\n",
      "  (audio_spectrogram_transformer): ASTModel(\n",
      "    (embeddings): ASTEmbeddings(\n",
      "      (patch_embeddings): ASTPatchEmbeddings(\n",
      "        (projection): Conv2d(1, 768, kernel_size=(16, 16), stride=(10, 10))\n",
      "      )\n",
      "      (dropout): Dropout(p=0.0, inplace=False)\n",
      "    )\n",
      "    (encoder): ASTEncoder(\n",
      "      (layer): ModuleList(\n",
      "        (0-11): 12 x ASTLayer(\n",
      "          (attention): ASTSdpaAttention(\n",
      "            (attention): ASTSdpaSelfAttention(\n",
      "              (query): Linear(in_features=768, out_features=768, bias=True)\n",
      "              (key): Linear(in_features=768, out_features=768, bias=True)\n",
      "              (value): Linear(in_features=768, out_features=768, bias=True)\n",
      "              (dropout): Dropout(p=0.0, inplace=False)\n",
      "            )\n",
      "            (output): ASTSelfOutput(\n",
      "              (dense): Linear(in_features=768, out_features=768, bias=True)\n",
      "              (dropout): Dropout(p=0.0, inplace=False)\n",
      "            )\n",
      "          )\n",
      "          (intermediate): ASTIntermediate(\n",
      "            (dense): Linear(in_features=768, out_features=3072, bias=True)\n",
      "            (intermediate_act_fn): GELUActivation()\n",
      "          )\n",
      "          (output): ASTOutput(\n",
      "            (dense): Linear(in_features=3072, out_features=768, bias=True)\n",
      "            (dropout): Dropout(p=0.0, inplace=False)\n",
      "          )\n",
      "          (layernorm_before): LayerNorm((768,), eps=1e-12, elementwise_affine=True)\n",
      "          (layernorm_after): LayerNorm((768,), eps=1e-12, elementwise_affine=True)\n",
      "        )\n",
      "      )\n",
      "    )\n",
      "    (layernorm): LayerNorm((768,), eps=1e-12, elementwise_affine=True)\n",
      "  )\n",
      "  (classifier): ASTMLPHead(\n",
      "    (layernorm): LayerNorm((768,), eps=1e-12, elementwise_affine=True)\n",
      "    (dense): Linear(in_features=768, out_features=9, bias=True)\n",
      "  )\n",
      ")\n"
     ]
    },
    {
     "data": {
      "application/vnd.jupyter.widget-view+json": {
       "model_id": "c4d9031191e847d4ae9f54208250d2f9",
       "version_major": 2,
       "version_minor": 0
      },
      "text/plain": [
       "  0%|          | 0/7 [00:00<?, ?it/s]"
      ]
     },
     "metadata": {},
     "output_type": "display_data"
    },
    {
     "name": "stdout",
     "output_type": "stream",
     "text": [
      "Epoch 1/7 | Train Loss: 1.7988 | Train Acc: 0.4321 | Train F1: 0.4346 | Test Loss: 1.5632 | Test Acc: 0.5687 | Test F1: 0.5143\n",
      "Epoch 2/7 | Train Loss: 1.3419 | Train Acc: 0.6875 | Train F1: 0.6504 | Test Loss: 1.1932 | Test Acc: 0.7219 | Test F1: 0.6726\n",
      "Epoch 3/7 | Train Loss: 1.0609 | Train Acc: 0.7880 | Train F1: 0.7698 | Test Loss: 1.0011 | Test Acc: 0.7823 | Test F1: 0.7666\n",
      "Epoch 4/7 | Train Loss: 0.9120 | Train Acc: 0.8261 | Train F1: 0.8234 | Test Loss: 0.9135 | Test Acc: 0.7885 | Test F1: 0.7845\n",
      "Epoch 5/7 | Train Loss: 0.8481 | Train Acc: 0.8519 | Train F1: 0.8524 | Test Loss: 0.8584 | Test Acc: 0.8052 | Test F1: 0.7961\n",
      "Epoch 6/7 | Train Loss: 0.8186 | Train Acc: 0.8546 | Train F1: 0.8489 | Test Loss: 0.8610 | Test Acc: 0.8115 | Test F1: 0.7961\n",
      "Epoch 7/7 | Train Loss: 0.8205 | Train Acc: 0.8492 | Train F1: 0.8489 | Test Loss: 0.8547 | Test Acc: 0.8083 | Test F1: 0.7961\n",
      "Train time on cuda: 335.81866509999963\n",
      "Inference Loss: 0.8182, Accuracy: 85.14%\n"
     ]
    },
    {
     "data": {
      "application/vnd.jupyter.widget-view+json": {
       "model_id": "87e07c080b0c4df9b51857dc447f9ad0",
       "version_major": 2,
       "version_minor": 0
      },
      "text/plain": [
       "VBox(children=(Label(value='0.008 MB of 0.008 MB uploaded\\r'), FloatProgress(value=1.0, max=1.0)))"
      ]
     },
     "metadata": {},
     "output_type": "display_data"
    },
    {
     "data": {
      "text/html": [
       "<style>\n",
       "    table.wandb td:nth-child(1) { padding: 0 10px; text-align: left ; width: auto;} td:nth-child(2) {text-align: left ; width: 100%}\n",
       "    .wandb-row { display: flex; flex-direction: row; flex-wrap: wrap; justify-content: flex-start; width: 100% }\n",
       "    .wandb-col { display: flex; flex-direction: column; flex-basis: 100%; flex: 1; padding: 10px; }\n",
       "    </style>\n",
       "<div class=\"wandb-row\"><div class=\"wandb-col\"><h3>Run history:</h3><br/><table class=\"wandb\"><tr><td>epoch</td><td>▁▂▃▅▆▇█</td></tr><tr><td>inference_accuracy</td><td>▁</td></tr><tr><td>inference_loss</td><td>▁</td></tr><tr><td>test_acc</td><td>▁▅▇▇███</td></tr><tr><td>test_f1</td><td>▁▅▇████</td></tr><tr><td>test_loss</td><td>█▄▂▂▁▁▁</td></tr><tr><td>test_precision</td><td>▁▄▇████</td></tr><tr><td>test_recall</td><td>▁▅▇████</td></tr><tr><td>train_acc</td><td>▁▅▇████</td></tr><tr><td>train_f1</td><td>▁▅▇████</td></tr><tr><td>train_loss</td><td>█▅▃▂▁▁▁</td></tr><tr><td>train_precision</td><td>▁▅▇▇███</td></tr><tr><td>train_recall</td><td>▁▅▇████</td></tr></table><br/></div><div class=\"wandb-col\"><h3>Run summary:</h3><br/><table class=\"wandb\"><tr><td>epoch</td><td>7</td></tr><tr><td>inference_accuracy</td><td>0.85139</td></tr><tr><td>inference_loss</td><td>0.81821</td></tr><tr><td>test_acc</td><td>0.80833</td></tr><tr><td>test_f1</td><td>0.79606</td></tr><tr><td>test_loss</td><td>0.85469</td></tr><tr><td>test_precision</td><td>0.80834</td></tr><tr><td>test_recall</td><td>0.80556</td></tr><tr><td>train_acc</td><td>0.84918</td></tr><tr><td>train_f1</td><td>0.8489</td></tr><tr><td>train_loss</td><td>0.82051</td></tr><tr><td>train_precision</td><td>0.8506</td></tr><tr><td>train_recall</td><td>0.85139</td></tr><tr><td>train_time</td><td>00:05:35</td></tr></table><br/></div></div>"
      ],
      "text/plain": [
       "<IPython.core.display.HTML object>"
      ]
     },
     "metadata": {},
     "output_type": "display_data"
    },
    {
     "data": {
      "text/html": [
       " View run <strong style=\"color:#cdcd00\">glorious-sweep-61</strong> at: <a href='https://wandb.ai/andberg9-self/AST_Sweeps/runs/cje41arc' target=\"_blank\">https://wandb.ai/andberg9-self/AST_Sweeps/runs/cje41arc</a><br/> View project at: <a href='https://wandb.ai/andberg9-self/AST_Sweeps' target=\"_blank\">https://wandb.ai/andberg9-self/AST_Sweeps</a><br/>Synced 5 W&B file(s), 0 media file(s), 0 artifact file(s) and 0 other file(s)"
      ],
      "text/plain": [
       "<IPython.core.display.HTML object>"
      ]
     },
     "metadata": {},
     "output_type": "display_data"
    },
    {
     "data": {
      "text/html": [
       "Find logs at: <code>.\\wandb\\run-20240925_164712-cje41arc\\logs</code>"
      ],
      "text/plain": [
       "<IPython.core.display.HTML object>"
      ]
     },
     "metadata": {},
     "output_type": "display_data"
    },
    {
     "name": "stderr",
     "output_type": "stream",
     "text": [
      "wandb: Agent Starting Run: 5klty6o3 with config:\n",
      "wandb: \tbatch_size: 8\n",
      "wandb: \tepochs: 7\n",
      "wandb: \tlearning_rate: 0.00019933607119239135\n",
      "wandb: \toptimizer: adamW\n",
      "wandb: \tscheduler: PolynomialLR\n"
     ]
    },
    {
     "data": {
      "text/html": [
       "Tracking run with wandb version 0.18.1"
      ],
      "text/plain": [
       "<IPython.core.display.HTML object>"
      ]
     },
     "metadata": {},
     "output_type": "display_data"
    },
    {
     "data": {
      "text/html": [
       "Run data is saved locally in <code>c:\\Users\\Sidewinders\\Research_notebooks\\Drone_classification\\Research\\notebooks\\wandb\\run-20240925_165313-5klty6o3</code>"
      ],
      "text/plain": [
       "<IPython.core.display.HTML object>"
      ]
     },
     "metadata": {},
     "output_type": "display_data"
    },
    {
     "data": {
      "text/html": [
       "Syncing run <strong><a href='https://wandb.ai/andberg9-self/AST_Sweeps/runs/5klty6o3' target=\"_blank\">bright-sweep-62</a></strong> to <a href='https://wandb.ai/andberg9-self/AST_Sweeps' target=\"_blank\">Weights & Biases</a> (<a href='https://wandb.me/run' target=\"_blank\">docs</a>)<br/>Sweep page: <a href='https://wandb.ai/andberg9-self/AST_Sweeps/sweeps/ange3go8' target=\"_blank\">https://wandb.ai/andberg9-self/AST_Sweeps/sweeps/ange3go8</a>"
      ],
      "text/plain": [
       "<IPython.core.display.HTML object>"
      ]
     },
     "metadata": {},
     "output_type": "display_data"
    },
    {
     "data": {
      "text/html": [
       " View project at <a href='https://wandb.ai/andberg9-self/AST_Sweeps' target=\"_blank\">https://wandb.ai/andberg9-self/AST_Sweeps</a>"
      ],
      "text/plain": [
       "<IPython.core.display.HTML object>"
      ]
     },
     "metadata": {},
     "output_type": "display_data"
    },
    {
     "data": {
      "text/html": [
       " View sweep at <a href='https://wandb.ai/andberg9-self/AST_Sweeps/sweeps/ange3go8' target=\"_blank\">https://wandb.ai/andberg9-self/AST_Sweeps/sweeps/ange3go8</a>"
      ],
      "text/plain": [
       "<IPython.core.display.HTML object>"
      ]
     },
     "metadata": {},
     "output_type": "display_data"
    },
    {
     "data": {
      "text/html": [
       " View run at <a href='https://wandb.ai/andberg9-self/AST_Sweeps/runs/5klty6o3' target=\"_blank\">https://wandb.ai/andberg9-self/AST_Sweeps/runs/5klty6o3</a>"
      ],
      "text/plain": [
       "<IPython.core.display.HTML object>"
      ]
     },
     "metadata": {},
     "output_type": "display_data"
    },
    {
     "name": "stdout",
     "output_type": "stream",
     "text": [
      "ASTForAudioClassification(\n",
      "  (audio_spectrogram_transformer): ASTModel(\n",
      "    (embeddings): ASTEmbeddings(\n",
      "      (patch_embeddings): ASTPatchEmbeddings(\n",
      "        (projection): Conv2d(1, 768, kernel_size=(16, 16), stride=(10, 10))\n",
      "      )\n",
      "      (dropout): Dropout(p=0.0, inplace=False)\n",
      "    )\n",
      "    (encoder): ASTEncoder(\n",
      "      (layer): ModuleList(\n",
      "        (0-11): 12 x ASTLayer(\n",
      "          (attention): ASTSdpaAttention(\n",
      "            (attention): ASTSdpaSelfAttention(\n",
      "              (query): Linear(in_features=768, out_features=768, bias=True)\n",
      "              (key): Linear(in_features=768, out_features=768, bias=True)\n",
      "              (value): Linear(in_features=768, out_features=768, bias=True)\n",
      "              (dropout): Dropout(p=0.0, inplace=False)\n",
      "            )\n",
      "            (output): ASTSelfOutput(\n",
      "              (dense): Linear(in_features=768, out_features=768, bias=True)\n",
      "              (dropout): Dropout(p=0.0, inplace=False)\n",
      "            )\n",
      "          )\n",
      "          (intermediate): ASTIntermediate(\n",
      "            (dense): Linear(in_features=768, out_features=3072, bias=True)\n",
      "            (intermediate_act_fn): GELUActivation()\n",
      "          )\n",
      "          (output): ASTOutput(\n",
      "            (dense): Linear(in_features=3072, out_features=768, bias=True)\n",
      "            (dropout): Dropout(p=0.0, inplace=False)\n",
      "          )\n",
      "          (layernorm_before): LayerNorm((768,), eps=1e-12, elementwise_affine=True)\n",
      "          (layernorm_after): LayerNorm((768,), eps=1e-12, elementwise_affine=True)\n",
      "        )\n",
      "      )\n",
      "    )\n",
      "    (layernorm): LayerNorm((768,), eps=1e-12, elementwise_affine=True)\n",
      "  )\n",
      "  (classifier): ASTMLPHead(\n",
      "    (layernorm): LayerNorm((768,), eps=1e-12, elementwise_affine=True)\n",
      "    (dense): Linear(in_features=768, out_features=9, bias=True)\n",
      "  )\n",
      ")\n"
     ]
    },
    {
     "data": {
      "application/vnd.jupyter.widget-view+json": {
       "model_id": "51dab1fbc8e44173a7b77a22c40f66d2",
       "version_major": 2,
       "version_minor": 0
      },
      "text/plain": [
       "  0%|          | 0/7 [00:00<?, ?it/s]"
      ]
     },
     "metadata": {},
     "output_type": "display_data"
    },
    {
     "name": "stdout",
     "output_type": "stream",
     "text": [
      "Epoch 1/7 | Train Loss: 1.8561 | Train Acc: 0.4319 | Train F1: 0.3981 | Test Loss: 1.5484 | Test Acc: 0.6630 | Test F1: 0.6450\n",
      "Epoch 2/7 | Train Loss: 1.3509 | Train Acc: 0.7278 | Train F1: 0.7222 | Test Loss: 1.1996 | Test Acc: 0.7772 | Test F1: 0.7728\n",
      "Epoch 3/7 | Train Loss: 1.0930 | Train Acc: 0.7986 | Train F1: 0.7917 | Test Loss: 1.0222 | Test Acc: 0.8207 | Test F1: 0.8127\n",
      "Epoch 4/7 | Train Loss: 0.9579 | Train Acc: 0.8250 | Train F1: 0.8189 | Test Loss: 0.9274 | Test Acc: 0.8424 | Test F1: 0.8380\n",
      "Epoch 5/7 | Train Loss: 0.8921 | Train Acc: 0.8347 | Train F1: 0.8302 | Test Loss: 0.8926 | Test Acc: 0.8478 | Test F1: 0.8431\n",
      "Epoch 6/7 | Train Loss: 0.8707 | Train Acc: 0.8403 | Train F1: 0.8369 | Test Loss: 0.8885 | Test Acc: 0.8533 | Test F1: 0.8431\n",
      "Epoch 7/7 | Train Loss: 0.8707 | Train Acc: 0.8403 | Train F1: 0.8369 | Test Loss: 0.8873 | Test Acc: 0.8533 | Test F1: 0.8431\n",
      "Train time on cuda: 333.478225400002\n",
      "Inference Loss: 0.8707, Accuracy: 84.03%\n"
     ]
    },
    {
     "data": {
      "application/vnd.jupyter.widget-view+json": {
       "model_id": "4a68528ec0924d28997428f238e1d8d3",
       "version_major": 2,
       "version_minor": 0
      },
      "text/plain": [
       "VBox(children=(Label(value='0.008 MB of 0.008 MB uploaded\\r'), FloatProgress(value=1.0, max=1.0)))"
      ]
     },
     "metadata": {},
     "output_type": "display_data"
    },
    {
     "data": {
      "text/html": [
       "<style>\n",
       "    table.wandb td:nth-child(1) { padding: 0 10px; text-align: left ; width: auto;} td:nth-child(2) {text-align: left ; width: 100%}\n",
       "    .wandb-row { display: flex; flex-direction: row; flex-wrap: wrap; justify-content: flex-start; width: 100% }\n",
       "    .wandb-col { display: flex; flex-direction: column; flex-basis: 100%; flex: 1; padding: 10px; }\n",
       "    </style>\n",
       "<div class=\"wandb-row\"><div class=\"wandb-col\"><h3>Run history:</h3><br/><table class=\"wandb\"><tr><td>epoch</td><td>▁▂▃▅▆▇█</td></tr><tr><td>inference_accuracy</td><td>▁</td></tr><tr><td>inference_loss</td><td>▁</td></tr><tr><td>test_acc</td><td>▁▅▇████</td></tr><tr><td>test_f1</td><td>▁▆▇████</td></tr><tr><td>test_loss</td><td>█▄▂▁▁▁▁</td></tr><tr><td>test_precision</td><td>▁▆▇████</td></tr><tr><td>test_recall</td><td>▁▅▇████</td></tr><tr><td>train_acc</td><td>▁▆▇████</td></tr><tr><td>train_f1</td><td>▁▆▇████</td></tr><tr><td>train_loss</td><td>█▄▃▂▁▁▁</td></tr><tr><td>train_precision</td><td>▁▆▇████</td></tr><tr><td>train_recall</td><td>▁▆▇████</td></tr></table><br/></div><div class=\"wandb-col\"><h3>Run summary:</h3><br/><table class=\"wandb\"><tr><td>epoch</td><td>7</td></tr><tr><td>inference_accuracy</td><td>0.84028</td></tr><tr><td>inference_loss</td><td>0.87069</td></tr><tr><td>test_acc</td><td>0.85326</td></tr><tr><td>test_f1</td><td>0.84309</td></tr><tr><td>test_loss</td><td>0.88726</td></tr><tr><td>test_precision</td><td>0.86183</td></tr><tr><td>test_recall</td><td>0.85</td></tr><tr><td>train_acc</td><td>0.84028</td></tr><tr><td>train_f1</td><td>0.83688</td></tr><tr><td>train_loss</td><td>0.87065</td></tr><tr><td>train_precision</td><td>0.84083</td></tr><tr><td>train_recall</td><td>0.84028</td></tr><tr><td>train_time</td><td>00:05:33</td></tr></table><br/></div></div>"
      ],
      "text/plain": [
       "<IPython.core.display.HTML object>"
      ]
     },
     "metadata": {},
     "output_type": "display_data"
    },
    {
     "data": {
      "text/html": [
       " View run <strong style=\"color:#cdcd00\">bright-sweep-62</strong> at: <a href='https://wandb.ai/andberg9-self/AST_Sweeps/runs/5klty6o3' target=\"_blank\">https://wandb.ai/andberg9-self/AST_Sweeps/runs/5klty6o3</a><br/> View project at: <a href='https://wandb.ai/andberg9-self/AST_Sweeps' target=\"_blank\">https://wandb.ai/andberg9-self/AST_Sweeps</a><br/>Synced 5 W&B file(s), 0 media file(s), 0 artifact file(s) and 0 other file(s)"
      ],
      "text/plain": [
       "<IPython.core.display.HTML object>"
      ]
     },
     "metadata": {},
     "output_type": "display_data"
    },
    {
     "data": {
      "text/html": [
       "Find logs at: <code>.\\wandb\\run-20240925_165313-5klty6o3\\logs</code>"
      ],
      "text/plain": [
       "<IPython.core.display.HTML object>"
      ]
     },
     "metadata": {},
     "output_type": "display_data"
    },
    {
     "name": "stderr",
     "output_type": "stream",
     "text": [
      "wandb: Agent Starting Run: wlcdsk1b with config:\n",
      "wandb: \tbatch_size: 8\n",
      "wandb: \tepochs: 7\n",
      "wandb: \tlearning_rate: 0.000989043658710982\n",
      "wandb: \toptimizer: adamW\n",
      "wandb: \tscheduler: PolynomialLR\n"
     ]
    },
    {
     "data": {
      "text/html": [
       "Tracking run with wandb version 0.18.1"
      ],
      "text/plain": [
       "<IPython.core.display.HTML object>"
      ]
     },
     "metadata": {},
     "output_type": "display_data"
    },
    {
     "data": {
      "text/html": [
       "Run data is saved locally in <code>c:\\Users\\Sidewinders\\Research_notebooks\\Drone_classification\\Research\\notebooks\\wandb\\run-20240925_165908-wlcdsk1b</code>"
      ],
      "text/plain": [
       "<IPython.core.display.HTML object>"
      ]
     },
     "metadata": {},
     "output_type": "display_data"
    },
    {
     "data": {
      "text/html": [
       "Syncing run <strong><a href='https://wandb.ai/andberg9-self/AST_Sweeps/runs/wlcdsk1b' target=\"_blank\">revived-sweep-63</a></strong> to <a href='https://wandb.ai/andberg9-self/AST_Sweeps' target=\"_blank\">Weights & Biases</a> (<a href='https://wandb.me/run' target=\"_blank\">docs</a>)<br/>Sweep page: <a href='https://wandb.ai/andberg9-self/AST_Sweeps/sweeps/ange3go8' target=\"_blank\">https://wandb.ai/andberg9-self/AST_Sweeps/sweeps/ange3go8</a>"
      ],
      "text/plain": [
       "<IPython.core.display.HTML object>"
      ]
     },
     "metadata": {},
     "output_type": "display_data"
    },
    {
     "data": {
      "text/html": [
       " View project at <a href='https://wandb.ai/andberg9-self/AST_Sweeps' target=\"_blank\">https://wandb.ai/andberg9-self/AST_Sweeps</a>"
      ],
      "text/plain": [
       "<IPython.core.display.HTML object>"
      ]
     },
     "metadata": {},
     "output_type": "display_data"
    },
    {
     "data": {
      "text/html": [
       " View sweep at <a href='https://wandb.ai/andberg9-self/AST_Sweeps/sweeps/ange3go8' target=\"_blank\">https://wandb.ai/andberg9-self/AST_Sweeps/sweeps/ange3go8</a>"
      ],
      "text/plain": [
       "<IPython.core.display.HTML object>"
      ]
     },
     "metadata": {},
     "output_type": "display_data"
    },
    {
     "data": {
      "text/html": [
       " View run at <a href='https://wandb.ai/andberg9-self/AST_Sweeps/runs/wlcdsk1b' target=\"_blank\">https://wandb.ai/andberg9-self/AST_Sweeps/runs/wlcdsk1b</a>"
      ],
      "text/plain": [
       "<IPython.core.display.HTML object>"
      ]
     },
     "metadata": {},
     "output_type": "display_data"
    },
    {
     "name": "stdout",
     "output_type": "stream",
     "text": [
      "ASTForAudioClassification(\n",
      "  (audio_spectrogram_transformer): ASTModel(\n",
      "    (embeddings): ASTEmbeddings(\n",
      "      (patch_embeddings): ASTPatchEmbeddings(\n",
      "        (projection): Conv2d(1, 768, kernel_size=(16, 16), stride=(10, 10))\n",
      "      )\n",
      "      (dropout): Dropout(p=0.0, inplace=False)\n",
      "    )\n",
      "    (encoder): ASTEncoder(\n",
      "      (layer): ModuleList(\n",
      "        (0-11): 12 x ASTLayer(\n",
      "          (attention): ASTSdpaAttention(\n",
      "            (attention): ASTSdpaSelfAttention(\n",
      "              (query): Linear(in_features=768, out_features=768, bias=True)\n",
      "              (key): Linear(in_features=768, out_features=768, bias=True)\n",
      "              (value): Linear(in_features=768, out_features=768, bias=True)\n",
      "              (dropout): Dropout(p=0.0, inplace=False)\n",
      "            )\n",
      "            (output): ASTSelfOutput(\n",
      "              (dense): Linear(in_features=768, out_features=768, bias=True)\n",
      "              (dropout): Dropout(p=0.0, inplace=False)\n",
      "            )\n",
      "          )\n",
      "          (intermediate): ASTIntermediate(\n",
      "            (dense): Linear(in_features=768, out_features=3072, bias=True)\n",
      "            (intermediate_act_fn): GELUActivation()\n",
      "          )\n",
      "          (output): ASTOutput(\n",
      "            (dense): Linear(in_features=3072, out_features=768, bias=True)\n",
      "            (dropout): Dropout(p=0.0, inplace=False)\n",
      "          )\n",
      "          (layernorm_before): LayerNorm((768,), eps=1e-12, elementwise_affine=True)\n",
      "          (layernorm_after): LayerNorm((768,), eps=1e-12, elementwise_affine=True)\n",
      "        )\n",
      "      )\n",
      "    )\n",
      "    (layernorm): LayerNorm((768,), eps=1e-12, elementwise_affine=True)\n",
      "  )\n",
      "  (classifier): ASTMLPHead(\n",
      "    (layernorm): LayerNorm((768,), eps=1e-12, elementwise_affine=True)\n",
      "    (dense): Linear(in_features=768, out_features=9, bias=True)\n",
      "  )\n",
      ")\n"
     ]
    },
    {
     "data": {
      "application/vnd.jupyter.widget-view+json": {
       "model_id": "3f7062cbac62466a824f4e39ef9dacc9",
       "version_major": 2,
       "version_minor": 0
      },
      "text/plain": [
       "  0%|          | 0/7 [00:00<?, ?it/s]"
      ]
     },
     "metadata": {},
     "output_type": "display_data"
    },
    {
     "name": "stdout",
     "output_type": "stream",
     "text": [
      "Epoch 1/7 | Train Loss: 1.2408 | Train Acc: 0.6250 | Train F1: 0.6198 | Test Loss: 0.6199 | Test Acc: 0.8750 | Test F1: 0.8776\n",
      "Epoch 2/7 | Train Loss: 0.5046 | Train Acc: 0.8653 | Train F1: 0.8654 | Test Loss: 0.3820 | Test Acc: 0.9348 | Test F1: 0.9353\n",
      "Epoch 3/7 | Train Loss: 0.3687 | Train Acc: 0.9153 | Train F1: 0.9156 | Test Loss: 0.3151 | Test Acc: 0.9402 | Test F1: 0.9403\n",
      "Epoch 4/7 | Train Loss: 0.3114 | Train Acc: 0.9250 | Train F1: 0.9252 | Test Loss: 0.2872 | Test Acc: 0.9674 | Test F1: 0.9682\n",
      "Epoch 5/7 | Train Loss: 0.2816 | Train Acc: 0.9347 | Train F1: 0.9350 | Test Loss: 0.2809 | Test Acc: 0.9565 | Test F1: 0.9626\n",
      "Epoch 6/7 | Train Loss: 0.2714 | Train Acc: 0.9417 | Train F1: 0.9418 | Test Loss: 0.2734 | Test Acc: 0.9620 | Test F1: 0.9626\n",
      "Epoch 7/7 | Train Loss: 0.2714 | Train Acc: 0.9417 | Train F1: 0.9418 | Test Loss: 0.2708 | Test Acc: 0.9620 | Test F1: 0.9626\n",
      "Train time on cuda: 333.6214375999989\n",
      "Inference Loss: 0.2714, Accuracy: 94.17%\n"
     ]
    },
    {
     "data": {
      "application/vnd.jupyter.widget-view+json": {
       "model_id": "72af1ac68a2d4227b548d604d9c828f0",
       "version_major": 2,
       "version_minor": 0
      },
      "text/plain": [
       "VBox(children=(Label(value='0.008 MB of 0.008 MB uploaded\\r'), FloatProgress(value=1.0, max=1.0)))"
      ]
     },
     "metadata": {},
     "output_type": "display_data"
    },
    {
     "data": {
      "text/html": [
       "<style>\n",
       "    table.wandb td:nth-child(1) { padding: 0 10px; text-align: left ; width: auto;} td:nth-child(2) {text-align: left ; width: 100%}\n",
       "    .wandb-row { display: flex; flex-direction: row; flex-wrap: wrap; justify-content: flex-start; width: 100% }\n",
       "    .wandb-col { display: flex; flex-direction: column; flex-basis: 100%; flex: 1; padding: 10px; }\n",
       "    </style>\n",
       "<div class=\"wandb-row\"><div class=\"wandb-col\"><h3>Run history:</h3><br/><table class=\"wandb\"><tr><td>epoch</td><td>▁▂▃▅▆▇█</td></tr><tr><td>inference_accuracy</td><td>▁</td></tr><tr><td>inference_loss</td><td>▁</td></tr><tr><td>test_acc</td><td>▁▆▆█▇██</td></tr><tr><td>test_f1</td><td>▁▅▆████</td></tr><tr><td>test_loss</td><td>█▃▂▁▁▁▁</td></tr><tr><td>test_precision</td><td>▁▅▅█▇▇▇</td></tr><tr><td>test_recall</td><td>▁▅▆████</td></tr><tr><td>train_acc</td><td>▁▆▇████</td></tr><tr><td>train_f1</td><td>▁▆▇████</td></tr><tr><td>train_loss</td><td>█▃▂▁▁▁▁</td></tr><tr><td>train_precision</td><td>▁▆▇████</td></tr><tr><td>train_recall</td><td>▁▆▇████</td></tr></table><br/></div><div class=\"wandb-col\"><h3>Run summary:</h3><br/><table class=\"wandb\"><tr><td>epoch</td><td>7</td></tr><tr><td>inference_accuracy</td><td>0.94167</td></tr><tr><td>inference_loss</td><td>0.27142</td></tr><tr><td>test_acc</td><td>0.96196</td></tr><tr><td>test_f1</td><td>0.9626</td></tr><tr><td>test_loss</td><td>0.2708</td></tr><tr><td>test_precision</td><td>0.96944</td></tr><tr><td>test_recall</td><td>0.96111</td></tr><tr><td>train_acc</td><td>0.94167</td></tr><tr><td>train_f1</td><td>0.94185</td></tr><tr><td>train_loss</td><td>0.27137</td></tr><tr><td>train_precision</td><td>0.94215</td></tr><tr><td>train_recall</td><td>0.94167</td></tr><tr><td>train_time</td><td>00:05:33</td></tr></table><br/></div></div>"
      ],
      "text/plain": [
       "<IPython.core.display.HTML object>"
      ]
     },
     "metadata": {},
     "output_type": "display_data"
    },
    {
     "data": {
      "text/html": [
       " View run <strong style=\"color:#cdcd00\">revived-sweep-63</strong> at: <a href='https://wandb.ai/andberg9-self/AST_Sweeps/runs/wlcdsk1b' target=\"_blank\">https://wandb.ai/andberg9-self/AST_Sweeps/runs/wlcdsk1b</a><br/> View project at: <a href='https://wandb.ai/andberg9-self/AST_Sweeps' target=\"_blank\">https://wandb.ai/andberg9-self/AST_Sweeps</a><br/>Synced 5 W&B file(s), 0 media file(s), 0 artifact file(s) and 0 other file(s)"
      ],
      "text/plain": [
       "<IPython.core.display.HTML object>"
      ]
     },
     "metadata": {},
     "output_type": "display_data"
    },
    {
     "data": {
      "text/html": [
       "Find logs at: <code>.\\wandb\\run-20240925_165908-wlcdsk1b\\logs</code>"
      ],
      "text/plain": [
       "<IPython.core.display.HTML object>"
      ]
     },
     "metadata": {},
     "output_type": "display_data"
    },
    {
     "name": "stderr",
     "output_type": "stream",
     "text": [
      "wandb: Agent Starting Run: vkh1g2jw with config:\n",
      "wandb: \tbatch_size: 8\n",
      "wandb: \tepochs: 7\n",
      "wandb: \tlearning_rate: 0.0003815161494612449\n",
      "wandb: \toptimizer: adamW\n",
      "wandb: \tscheduler: PolynomialLR\n"
     ]
    },
    {
     "data": {
      "text/html": [
       "Tracking run with wandb version 0.18.1"
      ],
      "text/plain": [
       "<IPython.core.display.HTML object>"
      ]
     },
     "metadata": {},
     "output_type": "display_data"
    },
    {
     "data": {
      "text/html": [
       "Run data is saved locally in <code>c:\\Users\\Sidewinders\\Research_notebooks\\Drone_classification\\Research\\notebooks\\wandb\\run-20240925_170503-vkh1g2jw</code>"
      ],
      "text/plain": [
       "<IPython.core.display.HTML object>"
      ]
     },
     "metadata": {},
     "output_type": "display_data"
    },
    {
     "data": {
      "text/html": [
       "Syncing run <strong><a href='https://wandb.ai/andberg9-self/AST_Sweeps/runs/vkh1g2jw' target=\"_blank\">swept-sweep-64</a></strong> to <a href='https://wandb.ai/andberg9-self/AST_Sweeps' target=\"_blank\">Weights & Biases</a> (<a href='https://wandb.me/run' target=\"_blank\">docs</a>)<br/>Sweep page: <a href='https://wandb.ai/andberg9-self/AST_Sweeps/sweeps/ange3go8' target=\"_blank\">https://wandb.ai/andberg9-self/AST_Sweeps/sweeps/ange3go8</a>"
      ],
      "text/plain": [
       "<IPython.core.display.HTML object>"
      ]
     },
     "metadata": {},
     "output_type": "display_data"
    },
    {
     "data": {
      "text/html": [
       " View project at <a href='https://wandb.ai/andberg9-self/AST_Sweeps' target=\"_blank\">https://wandb.ai/andberg9-self/AST_Sweeps</a>"
      ],
      "text/plain": [
       "<IPython.core.display.HTML object>"
      ]
     },
     "metadata": {},
     "output_type": "display_data"
    },
    {
     "data": {
      "text/html": [
       " View sweep at <a href='https://wandb.ai/andberg9-self/AST_Sweeps/sweeps/ange3go8' target=\"_blank\">https://wandb.ai/andberg9-self/AST_Sweeps/sweeps/ange3go8</a>"
      ],
      "text/plain": [
       "<IPython.core.display.HTML object>"
      ]
     },
     "metadata": {},
     "output_type": "display_data"
    },
    {
     "data": {
      "text/html": [
       " View run at <a href='https://wandb.ai/andberg9-self/AST_Sweeps/runs/vkh1g2jw' target=\"_blank\">https://wandb.ai/andberg9-self/AST_Sweeps/runs/vkh1g2jw</a>"
      ],
      "text/plain": [
       "<IPython.core.display.HTML object>"
      ]
     },
     "metadata": {},
     "output_type": "display_data"
    },
    {
     "name": "stdout",
     "output_type": "stream",
     "text": [
      "ASTForAudioClassification(\n",
      "  (audio_spectrogram_transformer): ASTModel(\n",
      "    (embeddings): ASTEmbeddings(\n",
      "      (patch_embeddings): ASTPatchEmbeddings(\n",
      "        (projection): Conv2d(1, 768, kernel_size=(16, 16), stride=(10, 10))\n",
      "      )\n",
      "      (dropout): Dropout(p=0.0, inplace=False)\n",
      "    )\n",
      "    (encoder): ASTEncoder(\n",
      "      (layer): ModuleList(\n",
      "        (0-11): 12 x ASTLayer(\n",
      "          (attention): ASTSdpaAttention(\n",
      "            (attention): ASTSdpaSelfAttention(\n",
      "              (query): Linear(in_features=768, out_features=768, bias=True)\n",
      "              (key): Linear(in_features=768, out_features=768, bias=True)\n",
      "              (value): Linear(in_features=768, out_features=768, bias=True)\n",
      "              (dropout): Dropout(p=0.0, inplace=False)\n",
      "            )\n",
      "            (output): ASTSelfOutput(\n",
      "              (dense): Linear(in_features=768, out_features=768, bias=True)\n",
      "              (dropout): Dropout(p=0.0, inplace=False)\n",
      "            )\n",
      "          )\n",
      "          (intermediate): ASTIntermediate(\n",
      "            (dense): Linear(in_features=768, out_features=3072, bias=True)\n",
      "            (intermediate_act_fn): GELUActivation()\n",
      "          )\n",
      "          (output): ASTOutput(\n",
      "            (dense): Linear(in_features=3072, out_features=768, bias=True)\n",
      "            (dropout): Dropout(p=0.0, inplace=False)\n",
      "          )\n",
      "          (layernorm_before): LayerNorm((768,), eps=1e-12, elementwise_affine=True)\n",
      "          (layernorm_after): LayerNorm((768,), eps=1e-12, elementwise_affine=True)\n",
      "        )\n",
      "      )\n",
      "    )\n",
      "    (layernorm): LayerNorm((768,), eps=1e-12, elementwise_affine=True)\n",
      "  )\n",
      "  (classifier): ASTMLPHead(\n",
      "    (layernorm): LayerNorm((768,), eps=1e-12, elementwise_affine=True)\n",
      "    (dense): Linear(in_features=768, out_features=9, bias=True)\n",
      "  )\n",
      ")\n"
     ]
    },
    {
     "data": {
      "application/vnd.jupyter.widget-view+json": {
       "model_id": "55d969d562b147e1a35e08220617f119",
       "version_major": 2,
       "version_minor": 0
      },
      "text/plain": [
       "  0%|          | 0/7 [00:00<?, ?it/s]"
      ]
     },
     "metadata": {},
     "output_type": "display_data"
    },
    {
     "name": "stdout",
     "output_type": "stream",
     "text": [
      "Epoch 1/7 | Train Loss: 1.8273 | Train Acc: 0.4222 | Train F1: 0.4305 | Test Loss: 1.3086 | Test Acc: 0.6739 | Test F1: 0.6266\n",
      "Epoch 2/7 | Train Loss: 1.0407 | Train Acc: 0.7875 | Train F1: 0.7746 | Test Loss: 0.8774 | Test Acc: 0.8424 | Test F1: 0.8471\n",
      "Epoch 3/7 | Train Loss: 0.7570 | Train Acc: 0.8736 | Train F1: 0.8741 | Test Loss: 0.6956 | Test Acc: 0.8859 | Test F1: 0.8827\n",
      "Epoch 4/7 | Train Loss: 0.6437 | Train Acc: 0.8792 | Train F1: 0.8785 | Test Loss: 0.6237 | Test Acc: 0.9076 | Test F1: 0.9044\n",
      "Epoch 5/7 | Train Loss: 0.5889 | Train Acc: 0.8972 | Train F1: 0.8975 | Test Loss: 0.5938 | Test Acc: 0.9185 | Test F1: 0.9175\n",
      "Epoch 6/7 | Train Loss: 0.5717 | Train Acc: 0.9014 | Train F1: 0.9018 | Test Loss: 0.6080 | Test Acc: 0.9130 | Test F1: 0.9175\n",
      "Epoch 7/7 | Train Loss: 0.5717 | Train Acc: 0.9014 | Train F1: 0.9018 | Test Loss: 0.6094 | Test Acc: 0.9130 | Test F1: 0.9175\n",
      "Train time on cuda: 333.8924404999998\n",
      "Inference Loss: 0.5718, Accuracy: 90.14%\n"
     ]
    },
    {
     "data": {
      "application/vnd.jupyter.widget-view+json": {
       "model_id": "ff9f4af549a14e43b95080c314d14c7e",
       "version_major": 2,
       "version_minor": 0
      },
      "text/plain": [
       "VBox(children=(Label(value='0.008 MB of 0.008 MB uploaded\\r'), FloatProgress(value=1.0, max=1.0)))"
      ]
     },
     "metadata": {},
     "output_type": "display_data"
    },
    {
     "data": {
      "text/html": [
       "<style>\n",
       "    table.wandb td:nth-child(1) { padding: 0 10px; text-align: left ; width: auto;} td:nth-child(2) {text-align: left ; width: 100%}\n",
       "    .wandb-row { display: flex; flex-direction: row; flex-wrap: wrap; justify-content: flex-start; width: 100% }\n",
       "    .wandb-col { display: flex; flex-direction: column; flex-basis: 100%; flex: 1; padding: 10px; }\n",
       "    </style>\n",
       "<div class=\"wandb-row\"><div class=\"wandb-col\"><h3>Run history:</h3><br/><table class=\"wandb\"><tr><td>epoch</td><td>▁▂▃▅▆▇█</td></tr><tr><td>inference_accuracy</td><td>▁</td></tr><tr><td>inference_loss</td><td>▁</td></tr><tr><td>test_acc</td><td>▁▆▇████</td></tr><tr><td>test_f1</td><td>▁▆▇████</td></tr><tr><td>test_loss</td><td>█▄▂▁▁▁▁</td></tr><tr><td>test_precision</td><td>▁▇▇████</td></tr><tr><td>test_recall</td><td>▁▆▇████</td></tr><tr><td>train_acc</td><td>▁▆█████</td></tr><tr><td>train_f1</td><td>▁▆█████</td></tr><tr><td>train_loss</td><td>█▄▂▁▁▁▁</td></tr><tr><td>train_precision</td><td>▁▆█████</td></tr><tr><td>train_recall</td><td>▁▆█████</td></tr></table><br/></div><div class=\"wandb-col\"><h3>Run summary:</h3><br/><table class=\"wandb\"><tr><td>epoch</td><td>7</td></tr><tr><td>inference_accuracy</td><td>0.90139</td></tr><tr><td>inference_loss</td><td>0.57176</td></tr><tr><td>test_acc</td><td>0.91304</td></tr><tr><td>test_f1</td><td>0.91746</td></tr><tr><td>test_loss</td><td>0.60938</td></tr><tr><td>test_precision</td><td>0.92536</td></tr><tr><td>test_recall</td><td>0.91667</td></tr><tr><td>train_acc</td><td>0.90139</td></tr><tr><td>train_f1</td><td>0.90177</td></tr><tr><td>train_loss</td><td>0.57169</td></tr><tr><td>train_precision</td><td>0.9028</td></tr><tr><td>train_recall</td><td>0.90139</td></tr><tr><td>train_time</td><td>00:05:33</td></tr></table><br/></div></div>"
      ],
      "text/plain": [
       "<IPython.core.display.HTML object>"
      ]
     },
     "metadata": {},
     "output_type": "display_data"
    },
    {
     "data": {
      "text/html": [
       " View run <strong style=\"color:#cdcd00\">swept-sweep-64</strong> at: <a href='https://wandb.ai/andberg9-self/AST_Sweeps/runs/vkh1g2jw' target=\"_blank\">https://wandb.ai/andberg9-self/AST_Sweeps/runs/vkh1g2jw</a><br/> View project at: <a href='https://wandb.ai/andberg9-self/AST_Sweeps' target=\"_blank\">https://wandb.ai/andberg9-self/AST_Sweeps</a><br/>Synced 5 W&B file(s), 0 media file(s), 0 artifact file(s) and 0 other file(s)"
      ],
      "text/plain": [
       "<IPython.core.display.HTML object>"
      ]
     },
     "metadata": {},
     "output_type": "display_data"
    },
    {
     "data": {
      "text/html": [
       "Find logs at: <code>.\\wandb\\run-20240925_170503-vkh1g2jw\\logs</code>"
      ],
      "text/plain": [
       "<IPython.core.display.HTML object>"
      ]
     },
     "metadata": {},
     "output_type": "display_data"
    },
    {
     "name": "stderr",
     "output_type": "stream",
     "text": [
      "wandb: Agent Starting Run: yzdof8x5 with config:\n",
      "wandb: \tbatch_size: 32\n",
      "wandb: \tepochs: 7\n",
      "wandb: \tlearning_rate: 0.0009281918326128488\n",
      "wandb: \toptimizer: adamW\n",
      "wandb: \tscheduler: PolynomialLR\n"
     ]
    },
    {
     "data": {
      "text/html": [
       "Tracking run with wandb version 0.18.1"
      ],
      "text/plain": [
       "<IPython.core.display.HTML object>"
      ]
     },
     "metadata": {},
     "output_type": "display_data"
    },
    {
     "data": {
      "text/html": [
       "Run data is saved locally in <code>c:\\Users\\Sidewinders\\Research_notebooks\\Drone_classification\\Research\\notebooks\\wandb\\run-20240925_171102-yzdof8x5</code>"
      ],
      "text/plain": [
       "<IPython.core.display.HTML object>"
      ]
     },
     "metadata": {},
     "output_type": "display_data"
    },
    {
     "data": {
      "text/html": [
       "Syncing run <strong><a href='https://wandb.ai/andberg9-self/AST_Sweeps/runs/yzdof8x5' target=\"_blank\">absurd-sweep-65</a></strong> to <a href='https://wandb.ai/andberg9-self/AST_Sweeps' target=\"_blank\">Weights & Biases</a> (<a href='https://wandb.me/run' target=\"_blank\">docs</a>)<br/>Sweep page: <a href='https://wandb.ai/andberg9-self/AST_Sweeps/sweeps/ange3go8' target=\"_blank\">https://wandb.ai/andberg9-self/AST_Sweeps/sweeps/ange3go8</a>"
      ],
      "text/plain": [
       "<IPython.core.display.HTML object>"
      ]
     },
     "metadata": {},
     "output_type": "display_data"
    },
    {
     "data": {
      "text/html": [
       " View project at <a href='https://wandb.ai/andberg9-self/AST_Sweeps' target=\"_blank\">https://wandb.ai/andberg9-self/AST_Sweeps</a>"
      ],
      "text/plain": [
       "<IPython.core.display.HTML object>"
      ]
     },
     "metadata": {},
     "output_type": "display_data"
    },
    {
     "data": {
      "text/html": [
       " View sweep at <a href='https://wandb.ai/andberg9-self/AST_Sweeps/sweeps/ange3go8' target=\"_blank\">https://wandb.ai/andberg9-self/AST_Sweeps/sweeps/ange3go8</a>"
      ],
      "text/plain": [
       "<IPython.core.display.HTML object>"
      ]
     },
     "metadata": {},
     "output_type": "display_data"
    },
    {
     "data": {
      "text/html": [
       " View run at <a href='https://wandb.ai/andberg9-self/AST_Sweeps/runs/yzdof8x5' target=\"_blank\">https://wandb.ai/andberg9-self/AST_Sweeps/runs/yzdof8x5</a>"
      ],
      "text/plain": [
       "<IPython.core.display.HTML object>"
      ]
     },
     "metadata": {},
     "output_type": "display_data"
    },
    {
     "name": "stdout",
     "output_type": "stream",
     "text": [
      "ASTForAudioClassification(\n",
      "  (audio_spectrogram_transformer): ASTModel(\n",
      "    (embeddings): ASTEmbeddings(\n",
      "      (patch_embeddings): ASTPatchEmbeddings(\n",
      "        (projection): Conv2d(1, 768, kernel_size=(16, 16), stride=(10, 10))\n",
      "      )\n",
      "      (dropout): Dropout(p=0.0, inplace=False)\n",
      "    )\n",
      "    (encoder): ASTEncoder(\n",
      "      (layer): ModuleList(\n",
      "        (0-11): 12 x ASTLayer(\n",
      "          (attention): ASTSdpaAttention(\n",
      "            (attention): ASTSdpaSelfAttention(\n",
      "              (query): Linear(in_features=768, out_features=768, bias=True)\n",
      "              (key): Linear(in_features=768, out_features=768, bias=True)\n",
      "              (value): Linear(in_features=768, out_features=768, bias=True)\n",
      "              (dropout): Dropout(p=0.0, inplace=False)\n",
      "            )\n",
      "            (output): ASTSelfOutput(\n",
      "              (dense): Linear(in_features=768, out_features=768, bias=True)\n",
      "              (dropout): Dropout(p=0.0, inplace=False)\n",
      "            )\n",
      "          )\n",
      "          (intermediate): ASTIntermediate(\n",
      "            (dense): Linear(in_features=768, out_features=3072, bias=True)\n",
      "            (intermediate_act_fn): GELUActivation()\n",
      "          )\n",
      "          (output): ASTOutput(\n",
      "            (dense): Linear(in_features=3072, out_features=768, bias=True)\n",
      "            (dropout): Dropout(p=0.0, inplace=False)\n",
      "          )\n",
      "          (layernorm_before): LayerNorm((768,), eps=1e-12, elementwise_affine=True)\n",
      "          (layernorm_after): LayerNorm((768,), eps=1e-12, elementwise_affine=True)\n",
      "        )\n",
      "      )\n",
      "    )\n",
      "    (layernorm): LayerNorm((768,), eps=1e-12, elementwise_affine=True)\n",
      "  )\n",
      "  (classifier): ASTMLPHead(\n",
      "    (layernorm): LayerNorm((768,), eps=1e-12, elementwise_affine=True)\n",
      "    (dense): Linear(in_features=768, out_features=9, bias=True)\n",
      "  )\n",
      ")\n"
     ]
    },
    {
     "data": {
      "application/vnd.jupyter.widget-view+json": {
       "model_id": "a897d13f602a402ba4d0e0e1688e2c68",
       "version_major": 2,
       "version_minor": 0
      },
      "text/plain": [
       "  0%|          | 0/7 [00:00<?, ?it/s]"
      ]
     },
     "metadata": {},
     "output_type": "display_data"
    },
    {
     "name": "stdout",
     "output_type": "stream",
     "text": [
      "Epoch 1/7 | Train Loss: 2.0150 | Train Acc: 0.2989 | Train F1: 0.2940 | Test Loss: 1.6250 | Test Acc: 0.5094 | Test F1: 0.4791\n",
      "Epoch 2/7 | Train Loss: 1.3600 | Train Acc: 0.6196 | Train F1: 0.5829 | Test Loss: 1.1503 | Test Acc: 0.7333 | Test F1: 0.7094\n",
      "Epoch 3/7 | Train Loss: 0.9965 | Train Acc: 0.7785 | Train F1: 0.7717 | Test Loss: 0.9282 | Test Acc: 0.8344 | Test F1: 0.8271\n",
      "Epoch 4/7 | Train Loss: 0.8286 | Train Acc: 0.8505 | Train F1: 0.8487 | Test Loss: 0.8059 | Test Acc: 0.8771 | Test F1: 0.8731\n",
      "Epoch 5/7 | Train Loss: 0.7434 | Train Acc: 0.8682 | Train F1: 0.8669 | Test Loss: 0.7512 | Test Acc: 0.8844 | Test F1: 0.8843\n",
      "Epoch 6/7 | Train Loss: 0.7216 | Train Acc: 0.8723 | Train F1: 0.8739 | Test Loss: 0.7702 | Test Acc: 0.8781 | Test F1: 0.8843\n",
      "Epoch 7/7 | Train Loss: 0.7228 | Train Acc: 0.8723 | Train F1: 0.8739 | Test Loss: 0.7503 | Test Acc: 0.8844 | Test F1: 0.8843\n",
      "Train time on cuda: 335.9254715999996\n",
      "Inference Loss: 0.7227, Accuracy: 87.36%\n"
     ]
    },
    {
     "data": {
      "application/vnd.jupyter.widget-view+json": {
       "model_id": "7cc5af77af984e2797117a4a59b6277f",
       "version_major": 2,
       "version_minor": 0
      },
      "text/plain": [
       "VBox(children=(Label(value='0.008 MB of 0.008 MB uploaded\\r'), FloatProgress(value=1.0, max=1.0)))"
      ]
     },
     "metadata": {},
     "output_type": "display_data"
    },
    {
     "data": {
      "text/html": [
       "<style>\n",
       "    table.wandb td:nth-child(1) { padding: 0 10px; text-align: left ; width: auto;} td:nth-child(2) {text-align: left ; width: 100%}\n",
       "    .wandb-row { display: flex; flex-direction: row; flex-wrap: wrap; justify-content: flex-start; width: 100% }\n",
       "    .wandb-col { display: flex; flex-direction: column; flex-basis: 100%; flex: 1; padding: 10px; }\n",
       "    </style>\n",
       "<div class=\"wandb-row\"><div class=\"wandb-col\"><h3>Run history:</h3><br/><table class=\"wandb\"><tr><td>epoch</td><td>▁▂▃▅▆▇█</td></tr><tr><td>inference_accuracy</td><td>▁</td></tr><tr><td>inference_loss</td><td>▁</td></tr><tr><td>test_acc</td><td>▁▅▇████</td></tr><tr><td>test_f1</td><td>▁▅▇████</td></tr><tr><td>test_loss</td><td>█▄▂▁▁▁▁</td></tr><tr><td>test_precision</td><td>▁▆▇████</td></tr><tr><td>test_recall</td><td>▁▅▇████</td></tr><tr><td>train_acc</td><td>▁▅▇████</td></tr><tr><td>train_f1</td><td>▁▄▇████</td></tr><tr><td>train_loss</td><td>█▄▂▂▁▁▁</td></tr><tr><td>train_precision</td><td>▁▅▇████</td></tr><tr><td>train_recall</td><td>▁▅▇████</td></tr></table><br/></div><div class=\"wandb-col\"><h3>Run summary:</h3><br/><table class=\"wandb\"><tr><td>epoch</td><td>7</td></tr><tr><td>inference_accuracy</td><td>0.87361</td></tr><tr><td>inference_loss</td><td>0.72272</td></tr><tr><td>test_acc</td><td>0.88438</td></tr><tr><td>test_f1</td><td>0.88426</td></tr><tr><td>test_loss</td><td>0.75026</td></tr><tr><td>test_precision</td><td>0.8936</td></tr><tr><td>test_recall</td><td>0.88333</td></tr><tr><td>train_acc</td><td>0.87228</td></tr><tr><td>train_f1</td><td>0.87385</td></tr><tr><td>train_loss</td><td>0.72275</td></tr><tr><td>train_precision</td><td>0.87591</td></tr><tr><td>train_recall</td><td>0.87361</td></tr><tr><td>train_time</td><td>00:05:35</td></tr></table><br/></div></div>"
      ],
      "text/plain": [
       "<IPython.core.display.HTML object>"
      ]
     },
     "metadata": {},
     "output_type": "display_data"
    },
    {
     "data": {
      "text/html": [
       " View run <strong style=\"color:#cdcd00\">absurd-sweep-65</strong> at: <a href='https://wandb.ai/andberg9-self/AST_Sweeps/runs/yzdof8x5' target=\"_blank\">https://wandb.ai/andberg9-self/AST_Sweeps/runs/yzdof8x5</a><br/> View project at: <a href='https://wandb.ai/andberg9-self/AST_Sweeps' target=\"_blank\">https://wandb.ai/andberg9-self/AST_Sweeps</a><br/>Synced 5 W&B file(s), 0 media file(s), 0 artifact file(s) and 0 other file(s)"
      ],
      "text/plain": [
       "<IPython.core.display.HTML object>"
      ]
     },
     "metadata": {},
     "output_type": "display_data"
    },
    {
     "data": {
      "text/html": [
       "Find logs at: <code>.\\wandb\\run-20240925_171102-yzdof8x5\\logs</code>"
      ],
      "text/plain": [
       "<IPython.core.display.HTML object>"
      ]
     },
     "metadata": {},
     "output_type": "display_data"
    },
    {
     "name": "stderr",
     "output_type": "stream",
     "text": [
      "wandb: Sweep Agent: Waiting for job.\n",
      "wandb: Job received.\n",
      "wandb: Agent Starting Run: d555gzy2 with config:\n",
      "wandb: \tbatch_size: 16\n",
      "wandb: \tepochs: 7\n",
      "wandb: \tlearning_rate: 0.0009588784535949144\n",
      "wandb: \toptimizer: adamW\n",
      "wandb: \tscheduler: PolynomialLR\n"
     ]
    },
    {
     "data": {
      "text/html": [
       "Tracking run with wandb version 0.18.1"
      ],
      "text/plain": [
       "<IPython.core.display.HTML object>"
      ]
     },
     "metadata": {},
     "output_type": "display_data"
    },
    {
     "data": {
      "text/html": [
       "Run data is saved locally in <code>c:\\Users\\Sidewinders\\Research_notebooks\\Drone_classification\\Research\\notebooks\\wandb\\run-20240925_171708-d555gzy2</code>"
      ],
      "text/plain": [
       "<IPython.core.display.HTML object>"
      ]
     },
     "metadata": {},
     "output_type": "display_data"
    },
    {
     "data": {
      "text/html": [
       "Syncing run <strong><a href='https://wandb.ai/andberg9-self/AST_Sweeps/runs/d555gzy2' target=\"_blank\">wise-sweep-66</a></strong> to <a href='https://wandb.ai/andberg9-self/AST_Sweeps' target=\"_blank\">Weights & Biases</a> (<a href='https://wandb.me/run' target=\"_blank\">docs</a>)<br/>Sweep page: <a href='https://wandb.ai/andberg9-self/AST_Sweeps/sweeps/ange3go8' target=\"_blank\">https://wandb.ai/andberg9-self/AST_Sweeps/sweeps/ange3go8</a>"
      ],
      "text/plain": [
       "<IPython.core.display.HTML object>"
      ]
     },
     "metadata": {},
     "output_type": "display_data"
    },
    {
     "data": {
      "text/html": [
       " View project at <a href='https://wandb.ai/andberg9-self/AST_Sweeps' target=\"_blank\">https://wandb.ai/andberg9-self/AST_Sweeps</a>"
      ],
      "text/plain": [
       "<IPython.core.display.HTML object>"
      ]
     },
     "metadata": {},
     "output_type": "display_data"
    },
    {
     "data": {
      "text/html": [
       " View sweep at <a href='https://wandb.ai/andberg9-self/AST_Sweeps/sweeps/ange3go8' target=\"_blank\">https://wandb.ai/andberg9-self/AST_Sweeps/sweeps/ange3go8</a>"
      ],
      "text/plain": [
       "<IPython.core.display.HTML object>"
      ]
     },
     "metadata": {},
     "output_type": "display_data"
    },
    {
     "data": {
      "text/html": [
       " View run at <a href='https://wandb.ai/andberg9-self/AST_Sweeps/runs/d555gzy2' target=\"_blank\">https://wandb.ai/andberg9-self/AST_Sweeps/runs/d555gzy2</a>"
      ],
      "text/plain": [
       "<IPython.core.display.HTML object>"
      ]
     },
     "metadata": {},
     "output_type": "display_data"
    },
    {
     "name": "stdout",
     "output_type": "stream",
     "text": [
      "ASTForAudioClassification(\n",
      "  (audio_spectrogram_transformer): ASTModel(\n",
      "    (embeddings): ASTEmbeddings(\n",
      "      (patch_embeddings): ASTPatchEmbeddings(\n",
      "        (projection): Conv2d(1, 768, kernel_size=(16, 16), stride=(10, 10))\n",
      "      )\n",
      "      (dropout): Dropout(p=0.0, inplace=False)\n",
      "    )\n",
      "    (encoder): ASTEncoder(\n",
      "      (layer): ModuleList(\n",
      "        (0-11): 12 x ASTLayer(\n",
      "          (attention): ASTSdpaAttention(\n",
      "            (attention): ASTSdpaSelfAttention(\n",
      "              (query): Linear(in_features=768, out_features=768, bias=True)\n",
      "              (key): Linear(in_features=768, out_features=768, bias=True)\n",
      "              (value): Linear(in_features=768, out_features=768, bias=True)\n",
      "              (dropout): Dropout(p=0.0, inplace=False)\n",
      "            )\n",
      "            (output): ASTSelfOutput(\n",
      "              (dense): Linear(in_features=768, out_features=768, bias=True)\n",
      "              (dropout): Dropout(p=0.0, inplace=False)\n",
      "            )\n",
      "          )\n",
      "          (intermediate): ASTIntermediate(\n",
      "            (dense): Linear(in_features=768, out_features=3072, bias=True)\n",
      "            (intermediate_act_fn): GELUActivation()\n",
      "          )\n",
      "          (output): ASTOutput(\n",
      "            (dense): Linear(in_features=3072, out_features=768, bias=True)\n",
      "            (dropout): Dropout(p=0.0, inplace=False)\n",
      "          )\n",
      "          (layernorm_before): LayerNorm((768,), eps=1e-12, elementwise_affine=True)\n",
      "          (layernorm_after): LayerNorm((768,), eps=1e-12, elementwise_affine=True)\n",
      "        )\n",
      "      )\n",
      "    )\n",
      "    (layernorm): LayerNorm((768,), eps=1e-12, elementwise_affine=True)\n",
      "  )\n",
      "  (classifier): ASTMLPHead(\n",
      "    (layernorm): LayerNorm((768,), eps=1e-12, elementwise_affine=True)\n",
      "    (dense): Linear(in_features=768, out_features=9, bias=True)\n",
      "  )\n",
      ")\n"
     ]
    },
    {
     "data": {
      "application/vnd.jupyter.widget-view+json": {
       "model_id": "a3e4b67f26a045dc98b2c995212e2e5f",
       "version_major": 2,
       "version_minor": 0
      },
      "text/plain": [
       "  0%|          | 0/7 [00:00<?, ?it/s]"
      ]
     },
     "metadata": {},
     "output_type": "display_data"
    },
    {
     "name": "stdout",
     "output_type": "stream",
     "text": [
      "Epoch 1/7 | Train Loss: 1.7149 | Train Acc: 0.4347 | Train F1: 0.4363 | Test Loss: 1.1019 | Test Acc: 0.7552 | Test F1: 0.7301\n",
      "Epoch 2/7 | Train Loss: 0.8187 | Train Acc: 0.8097 | Train F1: 0.8032 | Test Loss: 0.6463 | Test Acc: 0.8958 | Test F1: 0.9074\n",
      "Epoch 3/7 | Train Loss: 0.5547 | Train Acc: 0.8764 | Train F1: 0.8762 | Test Loss: 0.4822 | Test Acc: 0.9167 | Test F1: 0.9110\n",
      "Epoch 4/7 | Train Loss: 0.4664 | Train Acc: 0.8917 | Train F1: 0.8920 | Test Loss: 0.4337 | Test Acc: 0.9167 | Test F1: 0.9129\n",
      "Epoch 5/7 | Train Loss: 0.4242 | Train Acc: 0.9056 | Train F1: 0.9063 | Test Loss: 0.4365 | Test Acc: 0.9167 | Test F1: 0.9283\n",
      "Epoch 6/7 | Train Loss: 0.4120 | Train Acc: 0.9097 | Train F1: 0.9105 | Test Loss: 0.4136 | Test Acc: 0.9323 | Test F1: 0.9283\n",
      "Epoch 7/7 | Train Loss: 0.4120 | Train Acc: 0.9097 | Train F1: 0.9105 | Test Loss: 0.4294 | Test Acc: 0.9167 | Test F1: 0.9283\n",
      "Train time on cuda: 334.30387300000075\n",
      "Inference Loss: 0.4120, Accuracy: 90.97%\n"
     ]
    },
    {
     "data": {
      "application/vnd.jupyter.widget-view+json": {
       "model_id": "9dc3b550958a4542842feac8503d007c",
       "version_major": 2,
       "version_minor": 0
      },
      "text/plain": [
       "VBox(children=(Label(value='0.004 MB of 0.004 MB uploaded\\r'), FloatProgress(value=1.0, max=1.0)))"
      ]
     },
     "metadata": {},
     "output_type": "display_data"
    },
    {
     "data": {
      "text/html": [
       "<style>\n",
       "    table.wandb td:nth-child(1) { padding: 0 10px; text-align: left ; width: auto;} td:nth-child(2) {text-align: left ; width: 100%}\n",
       "    .wandb-row { display: flex; flex-direction: row; flex-wrap: wrap; justify-content: flex-start; width: 100% }\n",
       "    .wandb-col { display: flex; flex-direction: column; flex-basis: 100%; flex: 1; padding: 10px; }\n",
       "    </style>\n",
       "<div class=\"wandb-row\"><div class=\"wandb-col\"><h3>Run history:</h3><br/><table class=\"wandb\"><tr><td>epoch</td><td>▁▂▃▅▆▇█</td></tr><tr><td>inference_accuracy</td><td>▁</td></tr><tr><td>inference_loss</td><td>▁</td></tr><tr><td>test_acc</td><td>▁▇▇▇▇█▇</td></tr><tr><td>test_f1</td><td>▁▇▇▇███</td></tr><tr><td>test_loss</td><td>█▃▂▁▁▁▁</td></tr><tr><td>test_precision</td><td>▁▇▇▇███</td></tr><tr><td>test_recall</td><td>▁▇▇▇███</td></tr><tr><td>train_acc</td><td>▁▇█████</td></tr><tr><td>train_f1</td><td>▁▆▇████</td></tr><tr><td>train_loss</td><td>█▃▂▁▁▁▁</td></tr><tr><td>train_precision</td><td>▁▇▇████</td></tr><tr><td>train_recall</td><td>▁▇█████</td></tr></table><br/></div><div class=\"wandb-col\"><h3>Run summary:</h3><br/><table class=\"wandb\"><tr><td>epoch</td><td>7</td></tr><tr><td>inference_accuracy</td><td>0.90972</td></tr><tr><td>inference_loss</td><td>0.41203</td></tr><tr><td>test_acc</td><td>0.91667</td></tr><tr><td>test_f1</td><td>0.9283</td></tr><tr><td>test_loss</td><td>0.42936</td></tr><tr><td>test_precision</td><td>0.93684</td></tr><tr><td>test_recall</td><td>0.92778</td></tr><tr><td>train_acc</td><td>0.90972</td></tr><tr><td>train_f1</td><td>0.91048</td></tr><tr><td>train_loss</td><td>0.41199</td></tr><tr><td>train_precision</td><td>0.91239</td></tr><tr><td>train_recall</td><td>0.90972</td></tr><tr><td>train_time</td><td>00:05:34</td></tr></table><br/></div></div>"
      ],
      "text/plain": [
       "<IPython.core.display.HTML object>"
      ]
     },
     "metadata": {},
     "output_type": "display_data"
    },
    {
     "data": {
      "text/html": [
       " View run <strong style=\"color:#cdcd00\">wise-sweep-66</strong> at: <a href='https://wandb.ai/andberg9-self/AST_Sweeps/runs/d555gzy2' target=\"_blank\">https://wandb.ai/andberg9-self/AST_Sweeps/runs/d555gzy2</a><br/> View project at: <a href='https://wandb.ai/andberg9-self/AST_Sweeps' target=\"_blank\">https://wandb.ai/andberg9-self/AST_Sweeps</a><br/>Synced 5 W&B file(s), 0 media file(s), 0 artifact file(s) and 0 other file(s)"
      ],
      "text/plain": [
       "<IPython.core.display.HTML object>"
      ]
     },
     "metadata": {},
     "output_type": "display_data"
    },
    {
     "data": {
      "text/html": [
       "Find logs at: <code>.\\wandb\\run-20240925_171708-d555gzy2\\logs</code>"
      ],
      "text/plain": [
       "<IPython.core.display.HTML object>"
      ]
     },
     "metadata": {},
     "output_type": "display_data"
    },
    {
     "name": "stderr",
     "output_type": "stream",
     "text": [
      "wandb: Agent Starting Run: 2mr8r028 with config:\n",
      "wandb: \tbatch_size: 4\n",
      "wandb: \tepochs: 7\n",
      "wandb: \tlearning_rate: 0.0004340808295440927\n",
      "wandb: \toptimizer: adamW\n",
      "wandb: \tscheduler: PolynomialLR\n"
     ]
    },
    {
     "data": {
      "text/html": [
       "Tracking run with wandb version 0.18.1"
      ],
      "text/plain": [
       "<IPython.core.display.HTML object>"
      ]
     },
     "metadata": {},
     "output_type": "display_data"
    },
    {
     "data": {
      "text/html": [
       "Run data is saved locally in <code>c:\\Users\\Sidewinders\\Research_notebooks\\Drone_classification\\Research\\notebooks\\wandb\\run-20240925_172309-2mr8r028</code>"
      ],
      "text/plain": [
       "<IPython.core.display.HTML object>"
      ]
     },
     "metadata": {},
     "output_type": "display_data"
    },
    {
     "data": {
      "text/html": [
       "Syncing run <strong><a href='https://wandb.ai/andberg9-self/AST_Sweeps/runs/2mr8r028' target=\"_blank\">vivid-sweep-67</a></strong> to <a href='https://wandb.ai/andberg9-self/AST_Sweeps' target=\"_blank\">Weights & Biases</a> (<a href='https://wandb.me/run' target=\"_blank\">docs</a>)<br/>Sweep page: <a href='https://wandb.ai/andberg9-self/AST_Sweeps/sweeps/ange3go8' target=\"_blank\">https://wandb.ai/andberg9-self/AST_Sweeps/sweeps/ange3go8</a>"
      ],
      "text/plain": [
       "<IPython.core.display.HTML object>"
      ]
     },
     "metadata": {},
     "output_type": "display_data"
    },
    {
     "data": {
      "text/html": [
       " View project at <a href='https://wandb.ai/andberg9-self/AST_Sweeps' target=\"_blank\">https://wandb.ai/andberg9-self/AST_Sweeps</a>"
      ],
      "text/plain": [
       "<IPython.core.display.HTML object>"
      ]
     },
     "metadata": {},
     "output_type": "display_data"
    },
    {
     "data": {
      "text/html": [
       " View sweep at <a href='https://wandb.ai/andberg9-self/AST_Sweeps/sweeps/ange3go8' target=\"_blank\">https://wandb.ai/andberg9-self/AST_Sweeps/sweeps/ange3go8</a>"
      ],
      "text/plain": [
       "<IPython.core.display.HTML object>"
      ]
     },
     "metadata": {},
     "output_type": "display_data"
    },
    {
     "data": {
      "text/html": [
       " View run at <a href='https://wandb.ai/andberg9-self/AST_Sweeps/runs/2mr8r028' target=\"_blank\">https://wandb.ai/andberg9-self/AST_Sweeps/runs/2mr8r028</a>"
      ],
      "text/plain": [
       "<IPython.core.display.HTML object>"
      ]
     },
     "metadata": {},
     "output_type": "display_data"
    },
    {
     "name": "stdout",
     "output_type": "stream",
     "text": [
      "ASTForAudioClassification(\n",
      "  (audio_spectrogram_transformer): ASTModel(\n",
      "    (embeddings): ASTEmbeddings(\n",
      "      (patch_embeddings): ASTPatchEmbeddings(\n",
      "        (projection): Conv2d(1, 768, kernel_size=(16, 16), stride=(10, 10))\n",
      "      )\n",
      "      (dropout): Dropout(p=0.0, inplace=False)\n",
      "    )\n",
      "    (encoder): ASTEncoder(\n",
      "      (layer): ModuleList(\n",
      "        (0-11): 12 x ASTLayer(\n",
      "          (attention): ASTSdpaAttention(\n",
      "            (attention): ASTSdpaSelfAttention(\n",
      "              (query): Linear(in_features=768, out_features=768, bias=True)\n",
      "              (key): Linear(in_features=768, out_features=768, bias=True)\n",
      "              (value): Linear(in_features=768, out_features=768, bias=True)\n",
      "              (dropout): Dropout(p=0.0, inplace=False)\n",
      "            )\n",
      "            (output): ASTSelfOutput(\n",
      "              (dense): Linear(in_features=768, out_features=768, bias=True)\n",
      "              (dropout): Dropout(p=0.0, inplace=False)\n",
      "            )\n",
      "          )\n",
      "          (intermediate): ASTIntermediate(\n",
      "            (dense): Linear(in_features=768, out_features=3072, bias=True)\n",
      "            (intermediate_act_fn): GELUActivation()\n",
      "          )\n",
      "          (output): ASTOutput(\n",
      "            (dense): Linear(in_features=3072, out_features=768, bias=True)\n",
      "            (dropout): Dropout(p=0.0, inplace=False)\n",
      "          )\n",
      "          (layernorm_before): LayerNorm((768,), eps=1e-12, elementwise_affine=True)\n",
      "          (layernorm_after): LayerNorm((768,), eps=1e-12, elementwise_affine=True)\n",
      "        )\n",
      "      )\n",
      "    )\n",
      "    (layernorm): LayerNorm((768,), eps=1e-12, elementwise_affine=True)\n",
      "  )\n",
      "  (classifier): ASTMLPHead(\n",
      "    (layernorm): LayerNorm((768,), eps=1e-12, elementwise_affine=True)\n",
      "    (dense): Linear(in_features=768, out_features=9, bias=True)\n",
      "  )\n",
      ")\n"
     ]
    },
    {
     "data": {
      "application/vnd.jupyter.widget-view+json": {
       "model_id": "cbe54f2f522a4c538b9a5a3eb9a745f8",
       "version_major": 2,
       "version_minor": 0
      },
      "text/plain": [
       "  0%|          | 0/7 [00:00<?, ?it/s]"
      ]
     },
     "metadata": {},
     "output_type": "display_data"
    },
    {
     "name": "stdout",
     "output_type": "stream",
     "text": [
      "Epoch 1/7 | Train Loss: 1.3980 | Train Acc: 0.6153 | Train F1: 0.6068 | Test Loss: 0.7994 | Test Acc: 0.8167 | Test F1: 0.8079\n",
      "Epoch 2/7 | Train Loss: 0.6548 | Train Acc: 0.8556 | Train F1: 0.8536 | Test Loss: 0.5225 | Test Acc: 0.8944 | Test F1: 0.8963\n",
      "Epoch 3/7 | Train Loss: 0.4850 | Train Acc: 0.9056 | Train F1: 0.9060 | Test Loss: 0.4360 | Test Acc: 0.9167 | Test F1: 0.9163\n",
      "Epoch 4/7 | Train Loss: 0.4094 | Train Acc: 0.9208 | Train F1: 0.9210 | Test Loss: 0.3854 | Test Acc: 0.9278 | Test F1: 0.9287\n",
      "Epoch 5/7 | Train Loss: 0.3752 | Train Acc: 0.9250 | Train F1: 0.9249 | Test Loss: 0.3669 | Test Acc: 0.9389 | Test F1: 0.9398\n",
      "Epoch 6/7 | Train Loss: 0.3615 | Train Acc: 0.9278 | Train F1: 0.9277 | Test Loss: 0.3669 | Test Acc: 0.9389 | Test F1: 0.9398\n",
      "Epoch 7/7 | Train Loss: 0.3615 | Train Acc: 0.9278 | Train F1: 0.9277 | Test Loss: 0.3669 | Test Acc: 0.9389 | Test F1: 0.9398\n",
      "Train time on cuda: 330.41485309999916\n",
      "Inference Loss: 0.3616, Accuracy: 92.92%\n"
     ]
    },
    {
     "data": {
      "application/vnd.jupyter.widget-view+json": {
       "model_id": "f06485a2a1b14b608177874fc36dc167",
       "version_major": 2,
       "version_minor": 0
      },
      "text/plain": [
       "VBox(children=(Label(value='0.008 MB of 0.008 MB uploaded\\r'), FloatProgress(value=1.0, max=1.0)))"
      ]
     },
     "metadata": {},
     "output_type": "display_data"
    },
    {
     "data": {
      "text/html": [
       "<style>\n",
       "    table.wandb td:nth-child(1) { padding: 0 10px; text-align: left ; width: auto;} td:nth-child(2) {text-align: left ; width: 100%}\n",
       "    .wandb-row { display: flex; flex-direction: row; flex-wrap: wrap; justify-content: flex-start; width: 100% }\n",
       "    .wandb-col { display: flex; flex-direction: column; flex-basis: 100%; flex: 1; padding: 10px; }\n",
       "    </style>\n",
       "<div class=\"wandb-row\"><div class=\"wandb-col\"><h3>Run history:</h3><br/><table class=\"wandb\"><tr><td>epoch</td><td>▁▂▃▅▆▇█</td></tr><tr><td>inference_accuracy</td><td>▁</td></tr><tr><td>inference_loss</td><td>▁</td></tr><tr><td>test_acc</td><td>▁▅▇▇███</td></tr><tr><td>test_f1</td><td>▁▆▇▇███</td></tr><tr><td>test_loss</td><td>█▄▂▁▁▁▁</td></tr><tr><td>test_precision</td><td>▁▆▇████</td></tr><tr><td>test_recall</td><td>▁▅▇▇███</td></tr><tr><td>train_acc</td><td>▁▆█████</td></tr><tr><td>train_f1</td><td>▁▆█████</td></tr><tr><td>train_loss</td><td>█▃▂▁▁▁▁</td></tr><tr><td>train_precision</td><td>▁▆█████</td></tr><tr><td>train_recall</td><td>▁▆█████</td></tr></table><br/></div><div class=\"wandb-col\"><h3>Run summary:</h3><br/><table class=\"wandb\"><tr><td>epoch</td><td>7</td></tr><tr><td>inference_accuracy</td><td>0.92917</td></tr><tr><td>inference_loss</td><td>0.36155</td></tr><tr><td>test_acc</td><td>0.93889</td></tr><tr><td>test_f1</td><td>0.93977</td></tr><tr><td>test_loss</td><td>0.36692</td></tr><tr><td>test_precision</td><td>0.94642</td></tr><tr><td>test_recall</td><td>0.93889</td></tr><tr><td>train_acc</td><td>0.92778</td></tr><tr><td>train_f1</td><td>0.92766</td></tr><tr><td>train_loss</td><td>0.36152</td></tr><tr><td>train_precision</td><td>0.92835</td></tr><tr><td>train_recall</td><td>0.92778</td></tr><tr><td>train_time</td><td>00:05:30</td></tr></table><br/></div></div>"
      ],
      "text/plain": [
       "<IPython.core.display.HTML object>"
      ]
     },
     "metadata": {},
     "output_type": "display_data"
    },
    {
     "data": {
      "text/html": [
       " View run <strong style=\"color:#cdcd00\">vivid-sweep-67</strong> at: <a href='https://wandb.ai/andberg9-self/AST_Sweeps/runs/2mr8r028' target=\"_blank\">https://wandb.ai/andberg9-self/AST_Sweeps/runs/2mr8r028</a><br/> View project at: <a href='https://wandb.ai/andberg9-self/AST_Sweeps' target=\"_blank\">https://wandb.ai/andberg9-self/AST_Sweeps</a><br/>Synced 5 W&B file(s), 0 media file(s), 0 artifact file(s) and 0 other file(s)"
      ],
      "text/plain": [
       "<IPython.core.display.HTML object>"
      ]
     },
     "metadata": {},
     "output_type": "display_data"
    },
    {
     "data": {
      "text/html": [
       "Find logs at: <code>.\\wandb\\run-20240925_172309-2mr8r028\\logs</code>"
      ],
      "text/plain": [
       "<IPython.core.display.HTML object>"
      ]
     },
     "metadata": {},
     "output_type": "display_data"
    },
    {
     "name": "stderr",
     "output_type": "stream",
     "text": [
      "wandb: Agent Starting Run: 4l2ndbmi with config:\n",
      "wandb: \tbatch_size: 16\n",
      "wandb: \tepochs: 7\n",
      "wandb: \tlearning_rate: 0.0003607705143919802\n",
      "wandb: \toptimizer: adamW\n",
      "wandb: \tscheduler: PolynomialLR\n"
     ]
    },
    {
     "data": {
      "text/html": [
       "Tracking run with wandb version 0.18.1"
      ],
      "text/plain": [
       "<IPython.core.display.HTML object>"
      ]
     },
     "metadata": {},
     "output_type": "display_data"
    },
    {
     "data": {
      "text/html": [
       "Run data is saved locally in <code>c:\\Users\\Sidewinders\\Research_notebooks\\Drone_classification\\Research\\notebooks\\wandb\\run-20240925_172901-4l2ndbmi</code>"
      ],
      "text/plain": [
       "<IPython.core.display.HTML object>"
      ]
     },
     "metadata": {},
     "output_type": "display_data"
    },
    {
     "data": {
      "text/html": [
       "Syncing run <strong><a href='https://wandb.ai/andberg9-self/AST_Sweeps/runs/4l2ndbmi' target=\"_blank\">snowy-sweep-68</a></strong> to <a href='https://wandb.ai/andberg9-self/AST_Sweeps' target=\"_blank\">Weights & Biases</a> (<a href='https://wandb.me/run' target=\"_blank\">docs</a>)<br/>Sweep page: <a href='https://wandb.ai/andberg9-self/AST_Sweeps/sweeps/ange3go8' target=\"_blank\">https://wandb.ai/andberg9-self/AST_Sweeps/sweeps/ange3go8</a>"
      ],
      "text/plain": [
       "<IPython.core.display.HTML object>"
      ]
     },
     "metadata": {},
     "output_type": "display_data"
    },
    {
     "data": {
      "text/html": [
       " View project at <a href='https://wandb.ai/andberg9-self/AST_Sweeps' target=\"_blank\">https://wandb.ai/andberg9-self/AST_Sweeps</a>"
      ],
      "text/plain": [
       "<IPython.core.display.HTML object>"
      ]
     },
     "metadata": {},
     "output_type": "display_data"
    },
    {
     "data": {
      "text/html": [
       " View sweep at <a href='https://wandb.ai/andberg9-self/AST_Sweeps/sweeps/ange3go8' target=\"_blank\">https://wandb.ai/andberg9-self/AST_Sweeps/sweeps/ange3go8</a>"
      ],
      "text/plain": [
       "<IPython.core.display.HTML object>"
      ]
     },
     "metadata": {},
     "output_type": "display_data"
    },
    {
     "data": {
      "text/html": [
       " View run at <a href='https://wandb.ai/andberg9-self/AST_Sweeps/runs/4l2ndbmi' target=\"_blank\">https://wandb.ai/andberg9-self/AST_Sweeps/runs/4l2ndbmi</a>"
      ],
      "text/plain": [
       "<IPython.core.display.HTML object>"
      ]
     },
     "metadata": {},
     "output_type": "display_data"
    },
    {
     "name": "stdout",
     "output_type": "stream",
     "text": [
      "ASTForAudioClassification(\n",
      "  (audio_spectrogram_transformer): ASTModel(\n",
      "    (embeddings): ASTEmbeddings(\n",
      "      (patch_embeddings): ASTPatchEmbeddings(\n",
      "        (projection): Conv2d(1, 768, kernel_size=(16, 16), stride=(10, 10))\n",
      "      )\n",
      "      (dropout): Dropout(p=0.0, inplace=False)\n",
      "    )\n",
      "    (encoder): ASTEncoder(\n",
      "      (layer): ModuleList(\n",
      "        (0-11): 12 x ASTLayer(\n",
      "          (attention): ASTSdpaAttention(\n",
      "            (attention): ASTSdpaSelfAttention(\n",
      "              (query): Linear(in_features=768, out_features=768, bias=True)\n",
      "              (key): Linear(in_features=768, out_features=768, bias=True)\n",
      "              (value): Linear(in_features=768, out_features=768, bias=True)\n",
      "              (dropout): Dropout(p=0.0, inplace=False)\n",
      "            )\n",
      "            (output): ASTSelfOutput(\n",
      "              (dense): Linear(in_features=768, out_features=768, bias=True)\n",
      "              (dropout): Dropout(p=0.0, inplace=False)\n",
      "            )\n",
      "          )\n",
      "          (intermediate): ASTIntermediate(\n",
      "            (dense): Linear(in_features=768, out_features=3072, bias=True)\n",
      "            (intermediate_act_fn): GELUActivation()\n",
      "          )\n",
      "          (output): ASTOutput(\n",
      "            (dense): Linear(in_features=3072, out_features=768, bias=True)\n",
      "            (dropout): Dropout(p=0.0, inplace=False)\n",
      "          )\n",
      "          (layernorm_before): LayerNorm((768,), eps=1e-12, elementwise_affine=True)\n",
      "          (layernorm_after): LayerNorm((768,), eps=1e-12, elementwise_affine=True)\n",
      "        )\n",
      "      )\n",
      "    )\n",
      "    (layernorm): LayerNorm((768,), eps=1e-12, elementwise_affine=True)\n",
      "  )\n",
      "  (classifier): ASTMLPHead(\n",
      "    (layernorm): LayerNorm((768,), eps=1e-12, elementwise_affine=True)\n",
      "    (dense): Linear(in_features=768, out_features=9, bias=True)\n",
      "  )\n",
      ")\n"
     ]
    },
    {
     "data": {
      "application/vnd.jupyter.widget-view+json": {
       "model_id": "c07bdf599b884b4b8862aca1e2124408",
       "version_major": 2,
       "version_minor": 0
      },
      "text/plain": [
       "  0%|          | 0/7 [00:00<?, ?it/s]"
      ]
     },
     "metadata": {},
     "output_type": "display_data"
    },
    {
     "name": "stdout",
     "output_type": "stream",
     "text": [
      "Epoch 1/7 | Train Loss: 1.9835 | Train Acc: 0.3444 | Train F1: 0.3404 | Test Loss: 1.6064 | Test Acc: 0.5781 | Test F1: 0.5555\n",
      "Epoch 2/7 | Train Loss: 1.4236 | Train Acc: 0.6708 | Train F1: 0.6530 | Test Loss: 1.2201 | Test Acc: 0.7500 | Test F1: 0.7651\n",
      "Epoch 3/7 | Train Loss: 1.1258 | Train Acc: 0.7819 | Train F1: 0.7708 | Test Loss: 0.9952 | Test Acc: 0.8333 | Test F1: 0.8185\n",
      "Epoch 4/7 | Train Loss: 0.9687 | Train Acc: 0.8208 | Train F1: 0.8145 | Test Loss: 0.9051 | Test Acc: 0.8594 | Test F1: 0.8490\n",
      "Epoch 5/7 | Train Loss: 0.8914 | Train Acc: 0.8500 | Train F1: 0.8476 | Test Loss: 0.8638 | Test Acc: 0.8281 | Test F1: 0.8490\n",
      "Epoch 6/7 | Train Loss: 0.8681 | Train Acc: 0.8542 | Train F1: 0.8520 | Test Loss: 0.8374 | Test Acc: 0.8594 | Test F1: 0.8490\n",
      "Epoch 7/7 | Train Loss: 0.8681 | Train Acc: 0.8542 | Train F1: 0.8520 | Test Loss: 0.8601 | Test Acc: 0.8594 | Test F1: 0.8490\n",
      "Train time on cuda: 334.42929189999995\n",
      "Inference Loss: 0.8681, Accuracy: 85.42%\n"
     ]
    },
    {
     "data": {
      "application/vnd.jupyter.widget-view+json": {
       "model_id": "b3d2ddedf8c94b2ba74380e364ade0b0",
       "version_major": 2,
       "version_minor": 0
      },
      "text/plain": [
       "VBox(children=(Label(value='0.008 MB of 0.008 MB uploaded\\r'), FloatProgress(value=1.0, max=1.0)))"
      ]
     },
     "metadata": {},
     "output_type": "display_data"
    },
    {
     "data": {
      "text/html": [
       "<style>\n",
       "    table.wandb td:nth-child(1) { padding: 0 10px; text-align: left ; width: auto;} td:nth-child(2) {text-align: left ; width: 100%}\n",
       "    .wandb-row { display: flex; flex-direction: row; flex-wrap: wrap; justify-content: flex-start; width: 100% }\n",
       "    .wandb-col { display: flex; flex-direction: column; flex-basis: 100%; flex: 1; padding: 10px; }\n",
       "    </style>\n",
       "<div class=\"wandb-row\"><div class=\"wandb-col\"><h3>Run history:</h3><br/><table class=\"wandb\"><tr><td>epoch</td><td>▁▂▃▅▆▇█</td></tr><tr><td>inference_accuracy</td><td>▁</td></tr><tr><td>inference_loss</td><td>▁</td></tr><tr><td>test_acc</td><td>▁▅▇█▇██</td></tr><tr><td>test_f1</td><td>▁▆▇████</td></tr><tr><td>test_loss</td><td>█▄▂▂▁▁▁</td></tr><tr><td>test_precision</td><td>▁▆▇████</td></tr><tr><td>test_recall</td><td>▁▆▇████</td></tr><tr><td>train_acc</td><td>▁▅▇████</td></tr><tr><td>train_f1</td><td>▁▅▇▇███</td></tr><tr><td>train_loss</td><td>█▄▃▂▁▁▁</td></tr><tr><td>train_precision</td><td>▁▆▇▇███</td></tr><tr><td>train_recall</td><td>▁▅▇████</td></tr></table><br/></div><div class=\"wandb-col\"><h3>Run summary:</h3><br/><table class=\"wandb\"><tr><td>epoch</td><td>7</td></tr><tr><td>inference_accuracy</td><td>0.85417</td></tr><tr><td>inference_loss</td><td>0.8681</td></tr><tr><td>test_acc</td><td>0.85938</td></tr><tr><td>test_f1</td><td>0.84901</td></tr><tr><td>test_loss</td><td>0.86006</td></tr><tr><td>test_precision</td><td>0.86538</td></tr><tr><td>test_recall</td><td>0.85</td></tr><tr><td>train_acc</td><td>0.85417</td></tr><tr><td>train_f1</td><td>0.85204</td></tr><tr><td>train_loss</td><td>0.86808</td></tr><tr><td>train_precision</td><td>0.85379</td></tr><tr><td>train_recall</td><td>0.85417</td></tr><tr><td>train_time</td><td>00:05:34</td></tr></table><br/></div></div>"
      ],
      "text/plain": [
       "<IPython.core.display.HTML object>"
      ]
     },
     "metadata": {},
     "output_type": "display_data"
    },
    {
     "data": {
      "text/html": [
       " View run <strong style=\"color:#cdcd00\">snowy-sweep-68</strong> at: <a href='https://wandb.ai/andberg9-self/AST_Sweeps/runs/4l2ndbmi' target=\"_blank\">https://wandb.ai/andberg9-self/AST_Sweeps/runs/4l2ndbmi</a><br/> View project at: <a href='https://wandb.ai/andberg9-self/AST_Sweeps' target=\"_blank\">https://wandb.ai/andberg9-self/AST_Sweeps</a><br/>Synced 5 W&B file(s), 0 media file(s), 0 artifact file(s) and 0 other file(s)"
      ],
      "text/plain": [
       "<IPython.core.display.HTML object>"
      ]
     },
     "metadata": {},
     "output_type": "display_data"
    },
    {
     "data": {
      "text/html": [
       "Find logs at: <code>.\\wandb\\run-20240925_172901-4l2ndbmi\\logs</code>"
      ],
      "text/plain": [
       "<IPython.core.display.HTML object>"
      ]
     },
     "metadata": {},
     "output_type": "display_data"
    },
    {
     "name": "stderr",
     "output_type": "stream",
     "text": [
      "wandb: Agent Starting Run: bk4e6til with config:\n",
      "wandb: \tbatch_size: 32\n",
      "wandb: \tepochs: 7\n",
      "wandb: \tlearning_rate: 0.0006469176531128905\n",
      "wandb: \toptimizer: adamW\n",
      "wandb: \tscheduler: PolynomialLR\n"
     ]
    },
    {
     "data": {
      "text/html": [
       "Tracking run with wandb version 0.18.1"
      ],
      "text/plain": [
       "<IPython.core.display.HTML object>"
      ]
     },
     "metadata": {},
     "output_type": "display_data"
    },
    {
     "data": {
      "text/html": [
       "Run data is saved locally in <code>c:\\Users\\Sidewinders\\Research_notebooks\\Drone_classification\\Research\\notebooks\\wandb\\run-20240925_173457-bk4e6til</code>"
      ],
      "text/plain": [
       "<IPython.core.display.HTML object>"
      ]
     },
     "metadata": {},
     "output_type": "display_data"
    },
    {
     "data": {
      "text/html": [
       "Syncing run <strong><a href='https://wandb.ai/andberg9-self/AST_Sweeps/runs/bk4e6til' target=\"_blank\">lemon-sweep-69</a></strong> to <a href='https://wandb.ai/andberg9-self/AST_Sweeps' target=\"_blank\">Weights & Biases</a> (<a href='https://wandb.me/run' target=\"_blank\">docs</a>)<br/>Sweep page: <a href='https://wandb.ai/andberg9-self/AST_Sweeps/sweeps/ange3go8' target=\"_blank\">https://wandb.ai/andberg9-self/AST_Sweeps/sweeps/ange3go8</a>"
      ],
      "text/plain": [
       "<IPython.core.display.HTML object>"
      ]
     },
     "metadata": {},
     "output_type": "display_data"
    },
    {
     "data": {
      "text/html": [
       " View project at <a href='https://wandb.ai/andberg9-self/AST_Sweeps' target=\"_blank\">https://wandb.ai/andberg9-self/AST_Sweeps</a>"
      ],
      "text/plain": [
       "<IPython.core.display.HTML object>"
      ]
     },
     "metadata": {},
     "output_type": "display_data"
    },
    {
     "data": {
      "text/html": [
       " View sweep at <a href='https://wandb.ai/andberg9-self/AST_Sweeps/sweeps/ange3go8' target=\"_blank\">https://wandb.ai/andberg9-self/AST_Sweeps/sweeps/ange3go8</a>"
      ],
      "text/plain": [
       "<IPython.core.display.HTML object>"
      ]
     },
     "metadata": {},
     "output_type": "display_data"
    },
    {
     "data": {
      "text/html": [
       " View run at <a href='https://wandb.ai/andberg9-self/AST_Sweeps/runs/bk4e6til' target=\"_blank\">https://wandb.ai/andberg9-self/AST_Sweeps/runs/bk4e6til</a>"
      ],
      "text/plain": [
       "<IPython.core.display.HTML object>"
      ]
     },
     "metadata": {},
     "output_type": "display_data"
    },
    {
     "name": "stdout",
     "output_type": "stream",
     "text": [
      "ASTForAudioClassification(\n",
      "  (audio_spectrogram_transformer): ASTModel(\n",
      "    (embeddings): ASTEmbeddings(\n",
      "      (patch_embeddings): ASTPatchEmbeddings(\n",
      "        (projection): Conv2d(1, 768, kernel_size=(16, 16), stride=(10, 10))\n",
      "      )\n",
      "      (dropout): Dropout(p=0.0, inplace=False)\n",
      "    )\n",
      "    (encoder): ASTEncoder(\n",
      "      (layer): ModuleList(\n",
      "        (0-11): 12 x ASTLayer(\n",
      "          (attention): ASTSdpaAttention(\n",
      "            (attention): ASTSdpaSelfAttention(\n",
      "              (query): Linear(in_features=768, out_features=768, bias=True)\n",
      "              (key): Linear(in_features=768, out_features=768, bias=True)\n",
      "              (value): Linear(in_features=768, out_features=768, bias=True)\n",
      "              (dropout): Dropout(p=0.0, inplace=False)\n",
      "            )\n",
      "            (output): ASTSelfOutput(\n",
      "              (dense): Linear(in_features=768, out_features=768, bias=True)\n",
      "              (dropout): Dropout(p=0.0, inplace=False)\n",
      "            )\n",
      "          )\n",
      "          (intermediate): ASTIntermediate(\n",
      "            (dense): Linear(in_features=768, out_features=3072, bias=True)\n",
      "            (intermediate_act_fn): GELUActivation()\n",
      "          )\n",
      "          (output): ASTOutput(\n",
      "            (dense): Linear(in_features=3072, out_features=768, bias=True)\n",
      "            (dropout): Dropout(p=0.0, inplace=False)\n",
      "          )\n",
      "          (layernorm_before): LayerNorm((768,), eps=1e-12, elementwise_affine=True)\n",
      "          (layernorm_after): LayerNorm((768,), eps=1e-12, elementwise_affine=True)\n",
      "        )\n",
      "      )\n",
      "    )\n",
      "    (layernorm): LayerNorm((768,), eps=1e-12, elementwise_affine=True)\n",
      "  )\n",
      "  (classifier): ASTMLPHead(\n",
      "    (layernorm): LayerNorm((768,), eps=1e-12, elementwise_affine=True)\n",
      "    (dense): Linear(in_features=768, out_features=9, bias=True)\n",
      "  )\n",
      ")\n"
     ]
    },
    {
     "data": {
      "application/vnd.jupyter.widget-view+json": {
       "model_id": "86b785cbef194a57a594787bf739a976",
       "version_major": 2,
       "version_minor": 0
      },
      "text/plain": [
       "  0%|          | 0/7 [00:00<?, ?it/s]"
      ]
     },
     "metadata": {},
     "output_type": "display_data"
    },
    {
     "name": "stdout",
     "output_type": "stream",
     "text": [
      "Epoch 1/7 | Train Loss: 1.8939 | Train Acc: 0.3492 | Train F1: 0.3286 | Test Loss: 1.6398 | Test Acc: 0.5042 | Test F1: 0.4582\n",
      "Epoch 2/7 | Train Loss: 1.4160 | Train Acc: 0.6753 | Train F1: 0.6641 | Test Loss: 1.2602 | Test Acc: 0.7344 | Test F1: 0.7188\n",
      "Epoch 3/7 | Train Loss: 1.1379 | Train Acc: 0.7812 | Train F1: 0.7752 | Test Loss: 1.0823 | Test Acc: 0.7656 | Test F1: 0.7474\n",
      "Epoch 4/7 | Train Loss: 0.9788 | Train Acc: 0.7908 | Train F1: 0.7848 | Test Loss: 0.9738 | Test Acc: 0.8052 | Test F1: 0.7910\n",
      "Epoch 5/7 | Train Loss: 0.9036 | Train Acc: 0.8084 | Train F1: 0.7992 | Test Loss: 0.9235 | Test Acc: 0.8344 | Test F1: 0.8270\n",
      "Epoch 6/7 | Train Loss: 0.8807 | Train Acc: 0.8125 | Train F1: 0.8065 | Test Loss: 0.9375 | Test Acc: 0.8250 | Test F1: 0.8270\n",
      "Epoch 7/7 | Train Loss: 0.8807 | Train Acc: 0.8139 | Train F1: 0.8065 | Test Loss: 0.9277 | Test Acc: 0.8312 | Test F1: 0.8270\n",
      "Train time on cuda: 335.8245148999995\n",
      "Inference Loss: 0.8782, Accuracy: 81.39%\n"
     ]
    },
    {
     "data": {
      "application/vnd.jupyter.widget-view+json": {
       "model_id": "9383df9306d34d878e8d9677788b207e",
       "version_major": 2,
       "version_minor": 0
      },
      "text/plain": [
       "VBox(children=(Label(value='0.008 MB of 0.008 MB uploaded\\r'), FloatProgress(value=1.0, max=1.0)))"
      ]
     },
     "metadata": {},
     "output_type": "display_data"
    },
    {
     "data": {
      "text/html": [
       "<style>\n",
       "    table.wandb td:nth-child(1) { padding: 0 10px; text-align: left ; width: auto;} td:nth-child(2) {text-align: left ; width: 100%}\n",
       "    .wandb-row { display: flex; flex-direction: row; flex-wrap: wrap; justify-content: flex-start; width: 100% }\n",
       "    .wandb-col { display: flex; flex-direction: column; flex-basis: 100%; flex: 1; padding: 10px; }\n",
       "    </style>\n",
       "<div class=\"wandb-row\"><div class=\"wandb-col\"><h3>Run history:</h3><br/><table class=\"wandb\"><tr><td>epoch</td><td>▁▂▃▅▆▇█</td></tr><tr><td>inference_accuracy</td><td>▁</td></tr><tr><td>inference_loss</td><td>▁</td></tr><tr><td>test_acc</td><td>▁▆▇▇███</td></tr><tr><td>test_f1</td><td>▁▆▆▇███</td></tr><tr><td>test_loss</td><td>█▄▃▁▁▁▁</td></tr><tr><td>test_precision</td><td>▁▆▇▇███</td></tr><tr><td>test_recall</td><td>▁▆▇▇███</td></tr><tr><td>train_acc</td><td>▁▆█████</td></tr><tr><td>train_f1</td><td>▁▆█████</td></tr><tr><td>train_loss</td><td>█▅▃▂▁▁▁</td></tr><tr><td>train_precision</td><td>▁▆▇████</td></tr><tr><td>train_recall</td><td>▁▆█████</td></tr></table><br/></div><div class=\"wandb-col\"><h3>Run summary:</h3><br/><table class=\"wandb\"><tr><td>epoch</td><td>7</td></tr><tr><td>inference_accuracy</td><td>0.81389</td></tr><tr><td>inference_loss</td><td>0.87815</td></tr><tr><td>test_acc</td><td>0.83125</td></tr><tr><td>test_f1</td><td>0.82699</td></tr><tr><td>test_loss</td><td>0.92768</td></tr><tr><td>test_precision</td><td>0.8403</td></tr><tr><td>test_recall</td><td>0.83333</td></tr><tr><td>train_acc</td><td>0.81386</td></tr><tr><td>train_f1</td><td>0.80649</td></tr><tr><td>train_loss</td><td>0.88074</td></tr><tr><td>train_precision</td><td>0.81512</td></tr><tr><td>train_recall</td><td>0.81389</td></tr><tr><td>train_time</td><td>00:05:35</td></tr></table><br/></div></div>"
      ],
      "text/plain": [
       "<IPython.core.display.HTML object>"
      ]
     },
     "metadata": {},
     "output_type": "display_data"
    },
    {
     "data": {
      "text/html": [
       " View run <strong style=\"color:#cdcd00\">lemon-sweep-69</strong> at: <a href='https://wandb.ai/andberg9-self/AST_Sweeps/runs/bk4e6til' target=\"_blank\">https://wandb.ai/andberg9-self/AST_Sweeps/runs/bk4e6til</a><br/> View project at: <a href='https://wandb.ai/andberg9-self/AST_Sweeps' target=\"_blank\">https://wandb.ai/andberg9-self/AST_Sweeps</a><br/>Synced 5 W&B file(s), 0 media file(s), 0 artifact file(s) and 0 other file(s)"
      ],
      "text/plain": [
       "<IPython.core.display.HTML object>"
      ]
     },
     "metadata": {},
     "output_type": "display_data"
    },
    {
     "data": {
      "text/html": [
       "Find logs at: <code>.\\wandb\\run-20240925_173457-bk4e6til\\logs</code>"
      ],
      "text/plain": [
       "<IPython.core.display.HTML object>"
      ]
     },
     "metadata": {},
     "output_type": "display_data"
    },
    {
     "name": "stderr",
     "output_type": "stream",
     "text": [
      "wandb: Agent Starting Run: d3atwevv with config:\n",
      "wandb: \tbatch_size: 8\n",
      "wandb: \tepochs: 7\n",
      "wandb: \tlearning_rate: 0.0006490417239497124\n",
      "wandb: \toptimizer: adamW\n",
      "wandb: \tscheduler: PolynomialLR\n"
     ]
    },
    {
     "data": {
      "text/html": [
       "Tracking run with wandb version 0.18.1"
      ],
      "text/plain": [
       "<IPython.core.display.HTML object>"
      ]
     },
     "metadata": {},
     "output_type": "display_data"
    },
    {
     "data": {
      "text/html": [
       "Run data is saved locally in <code>c:\\Users\\Sidewinders\\Research_notebooks\\Drone_classification\\Research\\notebooks\\wandb\\run-20240925_174057-d3atwevv</code>"
      ],
      "text/plain": [
       "<IPython.core.display.HTML object>"
      ]
     },
     "metadata": {},
     "output_type": "display_data"
    },
    {
     "data": {
      "text/html": [
       "Syncing run <strong><a href='https://wandb.ai/andberg9-self/AST_Sweeps/runs/d3atwevv' target=\"_blank\">fanciful-sweep-70</a></strong> to <a href='https://wandb.ai/andberg9-self/AST_Sweeps' target=\"_blank\">Weights & Biases</a> (<a href='https://wandb.me/run' target=\"_blank\">docs</a>)<br/>Sweep page: <a href='https://wandb.ai/andberg9-self/AST_Sweeps/sweeps/ange3go8' target=\"_blank\">https://wandb.ai/andberg9-self/AST_Sweeps/sweeps/ange3go8</a>"
      ],
      "text/plain": [
       "<IPython.core.display.HTML object>"
      ]
     },
     "metadata": {},
     "output_type": "display_data"
    },
    {
     "data": {
      "text/html": [
       " View project at <a href='https://wandb.ai/andberg9-self/AST_Sweeps' target=\"_blank\">https://wandb.ai/andberg9-self/AST_Sweeps</a>"
      ],
      "text/plain": [
       "<IPython.core.display.HTML object>"
      ]
     },
     "metadata": {},
     "output_type": "display_data"
    },
    {
     "data": {
      "text/html": [
       " View sweep at <a href='https://wandb.ai/andberg9-self/AST_Sweeps/sweeps/ange3go8' target=\"_blank\">https://wandb.ai/andberg9-self/AST_Sweeps/sweeps/ange3go8</a>"
      ],
      "text/plain": [
       "<IPython.core.display.HTML object>"
      ]
     },
     "metadata": {},
     "output_type": "display_data"
    },
    {
     "data": {
      "text/html": [
       " View run at <a href='https://wandb.ai/andberg9-self/AST_Sweeps/runs/d3atwevv' target=\"_blank\">https://wandb.ai/andberg9-self/AST_Sweeps/runs/d3atwevv</a>"
      ],
      "text/plain": [
       "<IPython.core.display.HTML object>"
      ]
     },
     "metadata": {},
     "output_type": "display_data"
    },
    {
     "name": "stdout",
     "output_type": "stream",
     "text": [
      "ASTForAudioClassification(\n",
      "  (audio_spectrogram_transformer): ASTModel(\n",
      "    (embeddings): ASTEmbeddings(\n",
      "      (patch_embeddings): ASTPatchEmbeddings(\n",
      "        (projection): Conv2d(1, 768, kernel_size=(16, 16), stride=(10, 10))\n",
      "      )\n",
      "      (dropout): Dropout(p=0.0, inplace=False)\n",
      "    )\n",
      "    (encoder): ASTEncoder(\n",
      "      (layer): ModuleList(\n",
      "        (0-11): 12 x ASTLayer(\n",
      "          (attention): ASTSdpaAttention(\n",
      "            (attention): ASTSdpaSelfAttention(\n",
      "              (query): Linear(in_features=768, out_features=768, bias=True)\n",
      "              (key): Linear(in_features=768, out_features=768, bias=True)\n",
      "              (value): Linear(in_features=768, out_features=768, bias=True)\n",
      "              (dropout): Dropout(p=0.0, inplace=False)\n",
      "            )\n",
      "            (output): ASTSelfOutput(\n",
      "              (dense): Linear(in_features=768, out_features=768, bias=True)\n",
      "              (dropout): Dropout(p=0.0, inplace=False)\n",
      "            )\n",
      "          )\n",
      "          (intermediate): ASTIntermediate(\n",
      "            (dense): Linear(in_features=768, out_features=3072, bias=True)\n",
      "            (intermediate_act_fn): GELUActivation()\n",
      "          )\n",
      "          (output): ASTOutput(\n",
      "            (dense): Linear(in_features=3072, out_features=768, bias=True)\n",
      "            (dropout): Dropout(p=0.0, inplace=False)\n",
      "          )\n",
      "          (layernorm_before): LayerNorm((768,), eps=1e-12, elementwise_affine=True)\n",
      "          (layernorm_after): LayerNorm((768,), eps=1e-12, elementwise_affine=True)\n",
      "        )\n",
      "      )\n",
      "    )\n",
      "    (layernorm): LayerNorm((768,), eps=1e-12, elementwise_affine=True)\n",
      "  )\n",
      "  (classifier): ASTMLPHead(\n",
      "    (layernorm): LayerNorm((768,), eps=1e-12, elementwise_affine=True)\n",
      "    (dense): Linear(in_features=768, out_features=9, bias=True)\n",
      "  )\n",
      ")\n"
     ]
    },
    {
     "data": {
      "application/vnd.jupyter.widget-view+json": {
       "model_id": "3c8ceaba970f4ca38dfe34d964c934e6",
       "version_major": 2,
       "version_minor": 0
      },
      "text/plain": [
       "  0%|          | 0/7 [00:00<?, ?it/s]"
      ]
     },
     "metadata": {},
     "output_type": "display_data"
    },
    {
     "name": "stdout",
     "output_type": "stream",
     "text": [
      "Epoch 1/7 | Train Loss: 1.5459 | Train Acc: 0.5347 | Train F1: 0.5304 | Test Loss: 0.9989 | Test Acc: 0.7772 | Test F1: 0.7459\n",
      "Epoch 2/7 | Train Loss: 0.7258 | Train Acc: 0.8222 | Train F1: 0.8172 | Test Loss: 0.6120 | Test Acc: 0.8804 | Test F1: 0.8864\n",
      "Epoch 3/7 | Train Loss: 0.5149 | Train Acc: 0.8833 | Train F1: 0.8847 | Test Loss: 0.4766 | Test Acc: 0.9130 | Test F1: 0.9178\n",
      "Epoch 4/7 | Train Loss: 0.4317 | Train Acc: 0.9083 | Train F1: 0.9092 | Test Loss: 0.4321 | Test Acc: 0.9293 | Test F1: 0.9296\n",
      "Epoch 5/7 | Train Loss: 0.3987 | Train Acc: 0.9097 | Train F1: 0.9106 | Test Loss: 0.4294 | Test Acc: 0.9185 | Test F1: 0.9240\n",
      "Epoch 6/7 | Train Loss: 0.3854 | Train Acc: 0.9181 | Train F1: 0.9193 | Test Loss: 0.4342 | Test Acc: 0.9130 | Test F1: 0.9240\n",
      "Epoch 7/7 | Train Loss: 0.3854 | Train Acc: 0.9181 | Train F1: 0.9193 | Test Loss: 0.4282 | Test Acc: 0.9185 | Test F1: 0.9240\n",
      "Train time on cuda: 333.57674419999967\n",
      "Inference Loss: 0.3854, Accuracy: 91.81%\n"
     ]
    },
    {
     "data": {
      "application/vnd.jupyter.widget-view+json": {
       "model_id": "59d56419e8db4eda9a9cb20d188ed22a",
       "version_major": 2,
       "version_minor": 0
      },
      "text/plain": [
       "VBox(children=(Label(value='0.008 MB of 0.008 MB uploaded\\r'), FloatProgress(value=1.0, max=1.0)))"
      ]
     },
     "metadata": {},
     "output_type": "display_data"
    },
    {
     "data": {
      "text/html": [
       "<style>\n",
       "    table.wandb td:nth-child(1) { padding: 0 10px; text-align: left ; width: auto;} td:nth-child(2) {text-align: left ; width: 100%}\n",
       "    .wandb-row { display: flex; flex-direction: row; flex-wrap: wrap; justify-content: flex-start; width: 100% }\n",
       "    .wandb-col { display: flex; flex-direction: column; flex-basis: 100%; flex: 1; padding: 10px; }\n",
       "    </style>\n",
       "<div class=\"wandb-row\"><div class=\"wandb-col\"><h3>Run history:</h3><br/><table class=\"wandb\"><tr><td>epoch</td><td>▁▂▃▅▆▇█</td></tr><tr><td>inference_accuracy</td><td>▁</td></tr><tr><td>inference_loss</td><td>▁</td></tr><tr><td>test_acc</td><td>▁▆▇█▇▇▇</td></tr><tr><td>test_f1</td><td>▁▆█████</td></tr><tr><td>test_loss</td><td>█▃▂▁▁▁▁</td></tr><tr><td>test_precision</td><td>▁▆▇████</td></tr><tr><td>test_recall</td><td>▁▆▇████</td></tr><tr><td>train_acc</td><td>▁▆▇████</td></tr><tr><td>train_f1</td><td>▁▆▇████</td></tr><tr><td>train_loss</td><td>█▃▂▁▁▁▁</td></tr><tr><td>train_precision</td><td>▁▆▇████</td></tr><tr><td>train_recall</td><td>▁▆▇████</td></tr></table><br/></div><div class=\"wandb-col\"><h3>Run summary:</h3><br/><table class=\"wandb\"><tr><td>epoch</td><td>7</td></tr><tr><td>inference_accuracy</td><td>0.91806</td></tr><tr><td>inference_loss</td><td>0.38544</td></tr><tr><td>test_acc</td><td>0.91848</td></tr><tr><td>test_f1</td><td>0.92404</td></tr><tr><td>test_loss</td><td>0.42817</td></tr><tr><td>test_precision</td><td>0.93439</td></tr><tr><td>test_recall</td><td>0.92222</td></tr><tr><td>train_acc</td><td>0.91806</td></tr><tr><td>train_f1</td><td>0.91926</td></tr><tr><td>train_loss</td><td>0.38542</td></tr><tr><td>train_precision</td><td>0.92189</td></tr><tr><td>train_recall</td><td>0.91806</td></tr><tr><td>train_time</td><td>00:05:33</td></tr></table><br/></div></div>"
      ],
      "text/plain": [
       "<IPython.core.display.HTML object>"
      ]
     },
     "metadata": {},
     "output_type": "display_data"
    },
    {
     "data": {
      "text/html": [
       " View run <strong style=\"color:#cdcd00\">fanciful-sweep-70</strong> at: <a href='https://wandb.ai/andberg9-self/AST_Sweeps/runs/d3atwevv' target=\"_blank\">https://wandb.ai/andberg9-self/AST_Sweeps/runs/d3atwevv</a><br/> View project at: <a href='https://wandb.ai/andberg9-self/AST_Sweeps' target=\"_blank\">https://wandb.ai/andberg9-self/AST_Sweeps</a><br/>Synced 5 W&B file(s), 0 media file(s), 0 artifact file(s) and 0 other file(s)"
      ],
      "text/plain": [
       "<IPython.core.display.HTML object>"
      ]
     },
     "metadata": {},
     "output_type": "display_data"
    },
    {
     "data": {
      "text/html": [
       "Find logs at: <code>.\\wandb\\run-20240925_174057-d3atwevv\\logs</code>"
      ],
      "text/plain": [
       "<IPython.core.display.HTML object>"
      ]
     },
     "metadata": {},
     "output_type": "display_data"
    },
    {
     "name": "stderr",
     "output_type": "stream",
     "text": [
      "wandb: Sweep Agent: Waiting for job.\n",
      "wandb: Job received.\n",
      "wandb: Agent Starting Run: ivp2156z with config:\n",
      "wandb: \tbatch_size: 8\n",
      "wandb: \tepochs: 7\n",
      "wandb: \tlearning_rate: 0.0006725051858322345\n",
      "wandb: \toptimizer: adamW\n",
      "wandb: \tscheduler: PolynomialLR\n"
     ]
    },
    {
     "data": {
      "text/html": [
       "Tracking run with wandb version 0.18.1"
      ],
      "text/plain": [
       "<IPython.core.display.HTML object>"
      ]
     },
     "metadata": {},
     "output_type": "display_data"
    },
    {
     "data": {
      "text/html": [
       "Run data is saved locally in <code>c:\\Users\\Sidewinders\\Research_notebooks\\Drone_classification\\Research\\notebooks\\wandb\\run-20240925_174702-ivp2156z</code>"
      ],
      "text/plain": [
       "<IPython.core.display.HTML object>"
      ]
     },
     "metadata": {},
     "output_type": "display_data"
    },
    {
     "data": {
      "text/html": [
       "Syncing run <strong><a href='https://wandb.ai/andberg9-self/AST_Sweeps/runs/ivp2156z' target=\"_blank\">bright-sweep-71</a></strong> to <a href='https://wandb.ai/andberg9-self/AST_Sweeps' target=\"_blank\">Weights & Biases</a> (<a href='https://wandb.me/run' target=\"_blank\">docs</a>)<br/>Sweep page: <a href='https://wandb.ai/andberg9-self/AST_Sweeps/sweeps/ange3go8' target=\"_blank\">https://wandb.ai/andberg9-self/AST_Sweeps/sweeps/ange3go8</a>"
      ],
      "text/plain": [
       "<IPython.core.display.HTML object>"
      ]
     },
     "metadata": {},
     "output_type": "display_data"
    },
    {
     "data": {
      "text/html": [
       " View project at <a href='https://wandb.ai/andberg9-self/AST_Sweeps' target=\"_blank\">https://wandb.ai/andberg9-self/AST_Sweeps</a>"
      ],
      "text/plain": [
       "<IPython.core.display.HTML object>"
      ]
     },
     "metadata": {},
     "output_type": "display_data"
    },
    {
     "data": {
      "text/html": [
       " View sweep at <a href='https://wandb.ai/andberg9-self/AST_Sweeps/sweeps/ange3go8' target=\"_blank\">https://wandb.ai/andberg9-self/AST_Sweeps/sweeps/ange3go8</a>"
      ],
      "text/plain": [
       "<IPython.core.display.HTML object>"
      ]
     },
     "metadata": {},
     "output_type": "display_data"
    },
    {
     "data": {
      "text/html": [
       " View run at <a href='https://wandb.ai/andberg9-self/AST_Sweeps/runs/ivp2156z' target=\"_blank\">https://wandb.ai/andberg9-self/AST_Sweeps/runs/ivp2156z</a>"
      ],
      "text/plain": [
       "<IPython.core.display.HTML object>"
      ]
     },
     "metadata": {},
     "output_type": "display_data"
    },
    {
     "name": "stdout",
     "output_type": "stream",
     "text": [
      "ASTForAudioClassification(\n",
      "  (audio_spectrogram_transformer): ASTModel(\n",
      "    (embeddings): ASTEmbeddings(\n",
      "      (patch_embeddings): ASTPatchEmbeddings(\n",
      "        (projection): Conv2d(1, 768, kernel_size=(16, 16), stride=(10, 10))\n",
      "      )\n",
      "      (dropout): Dropout(p=0.0, inplace=False)\n",
      "    )\n",
      "    (encoder): ASTEncoder(\n",
      "      (layer): ModuleList(\n",
      "        (0-11): 12 x ASTLayer(\n",
      "          (attention): ASTSdpaAttention(\n",
      "            (attention): ASTSdpaSelfAttention(\n",
      "              (query): Linear(in_features=768, out_features=768, bias=True)\n",
      "              (key): Linear(in_features=768, out_features=768, bias=True)\n",
      "              (value): Linear(in_features=768, out_features=768, bias=True)\n",
      "              (dropout): Dropout(p=0.0, inplace=False)\n",
      "            )\n",
      "            (output): ASTSelfOutput(\n",
      "              (dense): Linear(in_features=768, out_features=768, bias=True)\n",
      "              (dropout): Dropout(p=0.0, inplace=False)\n",
      "            )\n",
      "          )\n",
      "          (intermediate): ASTIntermediate(\n",
      "            (dense): Linear(in_features=768, out_features=3072, bias=True)\n",
      "            (intermediate_act_fn): GELUActivation()\n",
      "          )\n",
      "          (output): ASTOutput(\n",
      "            (dense): Linear(in_features=3072, out_features=768, bias=True)\n",
      "            (dropout): Dropout(p=0.0, inplace=False)\n",
      "          )\n",
      "          (layernorm_before): LayerNorm((768,), eps=1e-12, elementwise_affine=True)\n",
      "          (layernorm_after): LayerNorm((768,), eps=1e-12, elementwise_affine=True)\n",
      "        )\n",
      "      )\n",
      "    )\n",
      "    (layernorm): LayerNorm((768,), eps=1e-12, elementwise_affine=True)\n",
      "  )\n",
      "  (classifier): ASTMLPHead(\n",
      "    (layernorm): LayerNorm((768,), eps=1e-12, elementwise_affine=True)\n",
      "    (dense): Linear(in_features=768, out_features=9, bias=True)\n",
      "  )\n",
      ")\n"
     ]
    },
    {
     "data": {
      "application/vnd.jupyter.widget-view+json": {
       "model_id": "0303da1834c64a08b051ad39c9e9c6c3",
       "version_major": 2,
       "version_minor": 0
      },
      "text/plain": [
       "  0%|          | 0/7 [00:00<?, ?it/s]"
      ]
     },
     "metadata": {},
     "output_type": "display_data"
    },
    {
     "name": "stdout",
     "output_type": "stream",
     "text": [
      "Epoch 1/7 | Train Loss: 1.4057 | Train Acc: 0.5861 | Train F1: 0.5889 | Test Loss: 0.8318 | Test Acc: 0.8315 | Test F1: 0.8262\n",
      "Epoch 2/7 | Train Loss: 0.6297 | Train Acc: 0.8708 | Train F1: 0.8702 | Test Loss: 0.5131 | Test Acc: 0.8967 | Test F1: 0.8946\n",
      "Epoch 3/7 | Train Loss: 0.4611 | Train Acc: 0.9097 | Train F1: 0.9101 | Test Loss: 0.4324 | Test Acc: 0.9130 | Test F1: 0.9151\n",
      "Epoch 4/7 | Train Loss: 0.3933 | Train Acc: 0.9222 | Train F1: 0.9233 | Test Loss: 0.3800 | Test Acc: 0.9402 | Test F1: 0.9398\n",
      "Epoch 5/7 | Train Loss: 0.3641 | Train Acc: 0.9236 | Train F1: 0.9241 | Test Loss: 0.3640 | Test Acc: 0.9565 | Test F1: 0.9564\n",
      "Epoch 6/7 | Train Loss: 0.3503 | Train Acc: 0.9333 | Train F1: 0.9339 | Test Loss: 0.3629 | Test Acc: 0.9565 | Test F1: 0.9564\n",
      "Epoch 7/7 | Train Loss: 0.3503 | Train Acc: 0.9333 | Train F1: 0.9339 | Test Loss: 0.3895 | Test Acc: 0.9511 | Test F1: 0.9564\n",
      "Train time on cuda: 333.16038670000125\n",
      "Inference Loss: 0.3503, Accuracy: 93.33%\n"
     ]
    },
    {
     "data": {
      "application/vnd.jupyter.widget-view+json": {
       "model_id": "2e060e99d50845cebcb7855006ecc453",
       "version_major": 2,
       "version_minor": 0
      },
      "text/plain": [
       "VBox(children=(Label(value='0.008 MB of 0.008 MB uploaded\\r'), FloatProgress(value=1.0, max=1.0)))"
      ]
     },
     "metadata": {},
     "output_type": "display_data"
    },
    {
     "data": {
      "text/html": [
       "<style>\n",
       "    table.wandb td:nth-child(1) { padding: 0 10px; text-align: left ; width: auto;} td:nth-child(2) {text-align: left ; width: 100%}\n",
       "    .wandb-row { display: flex; flex-direction: row; flex-wrap: wrap; justify-content: flex-start; width: 100% }\n",
       "    .wandb-col { display: flex; flex-direction: column; flex-basis: 100%; flex: 1; padding: 10px; }\n",
       "    </style>\n",
       "<div class=\"wandb-row\"><div class=\"wandb-col\"><h3>Run history:</h3><br/><table class=\"wandb\"><tr><td>epoch</td><td>▁▂▃▅▆▇█</td></tr><tr><td>inference_accuracy</td><td>▁</td></tr><tr><td>inference_loss</td><td>▁</td></tr><tr><td>test_acc</td><td>▁▅▆▇███</td></tr><tr><td>test_f1</td><td>▁▅▆▇███</td></tr><tr><td>test_loss</td><td>█▃▂▁▁▁▁</td></tr><tr><td>test_precision</td><td>▁▄▆▇███</td></tr><tr><td>test_recall</td><td>▁▅▆▇███</td></tr><tr><td>train_acc</td><td>▁▇█████</td></tr><tr><td>train_f1</td><td>▁▇█████</td></tr><tr><td>train_loss</td><td>█▃▂▁▁▁▁</td></tr><tr><td>train_precision</td><td>▁▇█████</td></tr><tr><td>train_recall</td><td>▁▇█████</td></tr></table><br/></div><div class=\"wandb-col\"><h3>Run summary:</h3><br/><table class=\"wandb\"><tr><td>epoch</td><td>7</td></tr><tr><td>inference_accuracy</td><td>0.93333</td></tr><tr><td>inference_loss</td><td>0.35031</td></tr><tr><td>test_acc</td><td>0.95109</td></tr><tr><td>test_f1</td><td>0.95636</td></tr><tr><td>test_loss</td><td>0.38949</td></tr><tr><td>test_precision</td><td>0.96141</td></tr><tr><td>test_recall</td><td>0.95556</td></tr><tr><td>train_acc</td><td>0.93333</td></tr><tr><td>train_f1</td><td>0.93386</td></tr><tr><td>train_loss</td><td>0.3503</td></tr><tr><td>train_precision</td><td>0.93516</td></tr><tr><td>train_recall</td><td>0.93333</td></tr><tr><td>train_time</td><td>00:05:33</td></tr></table><br/></div></div>"
      ],
      "text/plain": [
       "<IPython.core.display.HTML object>"
      ]
     },
     "metadata": {},
     "output_type": "display_data"
    },
    {
     "data": {
      "text/html": [
       " View run <strong style=\"color:#cdcd00\">bright-sweep-71</strong> at: <a href='https://wandb.ai/andberg9-self/AST_Sweeps/runs/ivp2156z' target=\"_blank\">https://wandb.ai/andberg9-self/AST_Sweeps/runs/ivp2156z</a><br/> View project at: <a href='https://wandb.ai/andberg9-self/AST_Sweeps' target=\"_blank\">https://wandb.ai/andberg9-self/AST_Sweeps</a><br/>Synced 5 W&B file(s), 0 media file(s), 0 artifact file(s) and 0 other file(s)"
      ],
      "text/plain": [
       "<IPython.core.display.HTML object>"
      ]
     },
     "metadata": {},
     "output_type": "display_data"
    },
    {
     "data": {
      "text/html": [
       "Find logs at: <code>.\\wandb\\run-20240925_174702-ivp2156z\\logs</code>"
      ],
      "text/plain": [
       "<IPython.core.display.HTML object>"
      ]
     },
     "metadata": {},
     "output_type": "display_data"
    },
    {
     "name": "stderr",
     "output_type": "stream",
     "text": [
      "wandb: Agent Starting Run: 7zbaz7ro with config:\n",
      "wandb: \tbatch_size: 32\n",
      "wandb: \tepochs: 7\n",
      "wandb: \tlearning_rate: 0.0007158758491460374\n",
      "wandb: \toptimizer: adamW\n",
      "wandb: \tscheduler: PolynomialLR\n"
     ]
    },
    {
     "data": {
      "text/html": [
       "Tracking run with wandb version 0.18.1"
      ],
      "text/plain": [
       "<IPython.core.display.HTML object>"
      ]
     },
     "metadata": {},
     "output_type": "display_data"
    },
    {
     "data": {
      "text/html": [
       "Run data is saved locally in <code>c:\\Users\\Sidewinders\\Research_notebooks\\Drone_classification\\Research\\notebooks\\wandb\\run-20240925_175259-7zbaz7ro</code>"
      ],
      "text/plain": [
       "<IPython.core.display.HTML object>"
      ]
     },
     "metadata": {},
     "output_type": "display_data"
    },
    {
     "data": {
      "text/html": [
       "Syncing run <strong><a href='https://wandb.ai/andberg9-self/AST_Sweeps/runs/7zbaz7ro' target=\"_blank\">earthy-sweep-72</a></strong> to <a href='https://wandb.ai/andberg9-self/AST_Sweeps' target=\"_blank\">Weights & Biases</a> (<a href='https://wandb.me/run' target=\"_blank\">docs</a>)<br/>Sweep page: <a href='https://wandb.ai/andberg9-self/AST_Sweeps/sweeps/ange3go8' target=\"_blank\">https://wandb.ai/andberg9-self/AST_Sweeps/sweeps/ange3go8</a>"
      ],
      "text/plain": [
       "<IPython.core.display.HTML object>"
      ]
     },
     "metadata": {},
     "output_type": "display_data"
    },
    {
     "data": {
      "text/html": [
       " View project at <a href='https://wandb.ai/andberg9-self/AST_Sweeps' target=\"_blank\">https://wandb.ai/andberg9-self/AST_Sweeps</a>"
      ],
      "text/plain": [
       "<IPython.core.display.HTML object>"
      ]
     },
     "metadata": {},
     "output_type": "display_data"
    },
    {
     "data": {
      "text/html": [
       " View sweep at <a href='https://wandb.ai/andberg9-self/AST_Sweeps/sweeps/ange3go8' target=\"_blank\">https://wandb.ai/andberg9-self/AST_Sweeps/sweeps/ange3go8</a>"
      ],
      "text/plain": [
       "<IPython.core.display.HTML object>"
      ]
     },
     "metadata": {},
     "output_type": "display_data"
    },
    {
     "data": {
      "text/html": [
       " View run at <a href='https://wandb.ai/andberg9-self/AST_Sweeps/runs/7zbaz7ro' target=\"_blank\">https://wandb.ai/andberg9-self/AST_Sweeps/runs/7zbaz7ro</a>"
      ],
      "text/plain": [
       "<IPython.core.display.HTML object>"
      ]
     },
     "metadata": {},
     "output_type": "display_data"
    },
    {
     "name": "stdout",
     "output_type": "stream",
     "text": [
      "ASTForAudioClassification(\n",
      "  (audio_spectrogram_transformer): ASTModel(\n",
      "    (embeddings): ASTEmbeddings(\n",
      "      (patch_embeddings): ASTPatchEmbeddings(\n",
      "        (projection): Conv2d(1, 768, kernel_size=(16, 16), stride=(10, 10))\n",
      "      )\n",
      "      (dropout): Dropout(p=0.0, inplace=False)\n",
      "    )\n",
      "    (encoder): ASTEncoder(\n",
      "      (layer): ModuleList(\n",
      "        (0-11): 12 x ASTLayer(\n",
      "          (attention): ASTSdpaAttention(\n",
      "            (attention): ASTSdpaSelfAttention(\n",
      "              (query): Linear(in_features=768, out_features=768, bias=True)\n",
      "              (key): Linear(in_features=768, out_features=768, bias=True)\n",
      "              (value): Linear(in_features=768, out_features=768, bias=True)\n",
      "              (dropout): Dropout(p=0.0, inplace=False)\n",
      "            )\n",
      "            (output): ASTSelfOutput(\n",
      "              (dense): Linear(in_features=768, out_features=768, bias=True)\n",
      "              (dropout): Dropout(p=0.0, inplace=False)\n",
      "            )\n",
      "          )\n",
      "          (intermediate): ASTIntermediate(\n",
      "            (dense): Linear(in_features=768, out_features=3072, bias=True)\n",
      "            (intermediate_act_fn): GELUActivation()\n",
      "          )\n",
      "          (output): ASTOutput(\n",
      "            (dense): Linear(in_features=3072, out_features=768, bias=True)\n",
      "            (dropout): Dropout(p=0.0, inplace=False)\n",
      "          )\n",
      "          (layernorm_before): LayerNorm((768,), eps=1e-12, elementwise_affine=True)\n",
      "          (layernorm_after): LayerNorm((768,), eps=1e-12, elementwise_affine=True)\n",
      "        )\n",
      "      )\n",
      "    )\n",
      "    (layernorm): LayerNorm((768,), eps=1e-12, elementwise_affine=True)\n",
      "  )\n",
      "  (classifier): ASTMLPHead(\n",
      "    (layernorm): LayerNorm((768,), eps=1e-12, elementwise_affine=True)\n",
      "    (dense): Linear(in_features=768, out_features=9, bias=True)\n",
      "  )\n",
      ")\n"
     ]
    },
    {
     "data": {
      "application/vnd.jupyter.widget-view+json": {
       "model_id": "5280733af684433cb8539877c6d23af4",
       "version_major": 2,
       "version_minor": 0
      },
      "text/plain": [
       "  0%|          | 0/7 [00:00<?, ?it/s]"
      ]
     },
     "metadata": {},
     "output_type": "display_data"
    },
    {
     "name": "stdout",
     "output_type": "stream",
     "text": [
      "Epoch 1/7 | Train Loss: 2.1183 | Train Acc: 0.2880 | Train F1: 0.2801 | Test Loss: 1.7542 | Test Acc: 0.4656 | Test F1: 0.4674\n",
      "Epoch 2/7 | Train Loss: 1.5444 | Train Acc: 0.5965 | Train F1: 0.5785 | Test Loss: 1.3627 | Test Acc: 0.7031 | Test F1: 0.6879\n",
      "Epoch 3/7 | Train Loss: 1.2135 | Train Acc: 0.7255 | Train F1: 0.7156 | Test Loss: 1.1267 | Test Acc: 0.8365 | Test F1: 0.8340\n",
      "Epoch 4/7 | Train Loss: 1.0334 | Train Acc: 0.8139 | Train F1: 0.8083 | Test Loss: 1.0053 | Test Acc: 0.8521 | Test F1: 0.8537\n",
      "Epoch 5/7 | Train Loss: 0.9500 | Train Acc: 0.8247 | Train F1: 0.8204 | Test Loss: 0.9461 | Test Acc: 0.8688 | Test F1: 0.8651\n",
      "Epoch 6/7 | Train Loss: 0.9215 | Train Acc: 0.8383 | Train F1: 0.8365 | Test Loss: 0.9635 | Test Acc: 0.8625 | Test F1: 0.8651\n",
      "Epoch 7/7 | Train Loss: 0.9242 | Train Acc: 0.8370 | Train F1: 0.8365 | Test Loss: 0.9505 | Test Acc: 0.8625 | Test F1: 0.8651\n",
      "Train time on cuda: 336.0850611999995\n",
      "Inference Loss: 0.9198, Accuracy: 83.75%\n"
     ]
    },
    {
     "data": {
      "application/vnd.jupyter.widget-view+json": {
       "model_id": "670a3163be99429f927fb6b2821564f2",
       "version_major": 2,
       "version_minor": 0
      },
      "text/plain": [
       "VBox(children=(Label(value='0.008 MB of 0.008 MB uploaded\\r'), FloatProgress(value=1.0, max=1.0)))"
      ]
     },
     "metadata": {},
     "output_type": "display_data"
    },
    {
     "data": {
      "text/html": [
       "<style>\n",
       "    table.wandb td:nth-child(1) { padding: 0 10px; text-align: left ; width: auto;} td:nth-child(2) {text-align: left ; width: 100%}\n",
       "    .wandb-row { display: flex; flex-direction: row; flex-wrap: wrap; justify-content: flex-start; width: 100% }\n",
       "    .wandb-col { display: flex; flex-direction: column; flex-basis: 100%; flex: 1; padding: 10px; }\n",
       "    </style>\n",
       "<div class=\"wandb-row\"><div class=\"wandb-col\"><h3>Run history:</h3><br/><table class=\"wandb\"><tr><td>epoch</td><td>▁▂▃▅▆▇█</td></tr><tr><td>inference_accuracy</td><td>▁</td></tr><tr><td>inference_loss</td><td>▁</td></tr><tr><td>test_acc</td><td>▁▅▇████</td></tr><tr><td>test_f1</td><td>▁▅▇████</td></tr><tr><td>test_loss</td><td>█▅▃▂▁▁▁</td></tr><tr><td>test_precision</td><td>▁▅▇████</td></tr><tr><td>test_recall</td><td>▁▅█████</td></tr><tr><td>train_acc</td><td>▁▅▇████</td></tr><tr><td>train_f1</td><td>▁▅▆████</td></tr><tr><td>train_loss</td><td>█▅▃▂▁▁▁</td></tr><tr><td>train_precision</td><td>▁▅▆████</td></tr><tr><td>train_recall</td><td>▁▅▇████</td></tr></table><br/></div><div class=\"wandb-col\"><h3>Run summary:</h3><br/><table class=\"wandb\"><tr><td>epoch</td><td>7</td></tr><tr><td>inference_accuracy</td><td>0.8375</td></tr><tr><td>inference_loss</td><td>0.91984</td></tr><tr><td>test_acc</td><td>0.8625</td></tr><tr><td>test_f1</td><td>0.86508</td></tr><tr><td>test_loss</td><td>0.9505</td></tr><tr><td>test_precision</td><td>0.86747</td></tr><tr><td>test_recall</td><td>0.86667</td></tr><tr><td>train_acc</td><td>0.83696</td></tr><tr><td>train_f1</td><td>0.83652</td></tr><tr><td>train_loss</td><td>0.92419</td></tr><tr><td>train_precision</td><td>0.8427</td></tr><tr><td>train_recall</td><td>0.8375</td></tr><tr><td>train_time</td><td>00:05:36</td></tr></table><br/></div></div>"
      ],
      "text/plain": [
       "<IPython.core.display.HTML object>"
      ]
     },
     "metadata": {},
     "output_type": "display_data"
    },
    {
     "data": {
      "text/html": [
       " View run <strong style=\"color:#cdcd00\">earthy-sweep-72</strong> at: <a href='https://wandb.ai/andberg9-self/AST_Sweeps/runs/7zbaz7ro' target=\"_blank\">https://wandb.ai/andberg9-self/AST_Sweeps/runs/7zbaz7ro</a><br/> View project at: <a href='https://wandb.ai/andberg9-self/AST_Sweeps' target=\"_blank\">https://wandb.ai/andberg9-self/AST_Sweeps</a><br/>Synced 5 W&B file(s), 0 media file(s), 0 artifact file(s) and 0 other file(s)"
      ],
      "text/plain": [
       "<IPython.core.display.HTML object>"
      ]
     },
     "metadata": {},
     "output_type": "display_data"
    },
    {
     "data": {
      "text/html": [
       "Find logs at: <code>.\\wandb\\run-20240925_175259-7zbaz7ro\\logs</code>"
      ],
      "text/plain": [
       "<IPython.core.display.HTML object>"
      ]
     },
     "metadata": {},
     "output_type": "display_data"
    },
    {
     "name": "stderr",
     "output_type": "stream",
     "text": [
      "wandb: Agent Starting Run: zc1fbkex with config:\n",
      "wandb: \tbatch_size: 16\n",
      "wandb: \tepochs: 7\n",
      "wandb: \tlearning_rate: 0.0008739049866466395\n",
      "wandb: \toptimizer: adamW\n",
      "wandb: \tscheduler: PolynomialLR\n"
     ]
    },
    {
     "data": {
      "text/html": [
       "Tracking run with wandb version 0.18.1"
      ],
      "text/plain": [
       "<IPython.core.display.HTML object>"
      ]
     },
     "metadata": {},
     "output_type": "display_data"
    },
    {
     "data": {
      "text/html": [
       "Run data is saved locally in <code>c:\\Users\\Sidewinders\\Research_notebooks\\Drone_classification\\Research\\notebooks\\wandb\\run-20240925_175900-zc1fbkex</code>"
      ],
      "text/plain": [
       "<IPython.core.display.HTML object>"
      ]
     },
     "metadata": {},
     "output_type": "display_data"
    },
    {
     "data": {
      "text/html": [
       "Syncing run <strong><a href='https://wandb.ai/andberg9-self/AST_Sweeps/runs/zc1fbkex' target=\"_blank\">drawn-sweep-73</a></strong> to <a href='https://wandb.ai/andberg9-self/AST_Sweeps' target=\"_blank\">Weights & Biases</a> (<a href='https://wandb.me/run' target=\"_blank\">docs</a>)<br/>Sweep page: <a href='https://wandb.ai/andberg9-self/AST_Sweeps/sweeps/ange3go8' target=\"_blank\">https://wandb.ai/andberg9-self/AST_Sweeps/sweeps/ange3go8</a>"
      ],
      "text/plain": [
       "<IPython.core.display.HTML object>"
      ]
     },
     "metadata": {},
     "output_type": "display_data"
    },
    {
     "data": {
      "text/html": [
       " View project at <a href='https://wandb.ai/andberg9-self/AST_Sweeps' target=\"_blank\">https://wandb.ai/andberg9-self/AST_Sweeps</a>"
      ],
      "text/plain": [
       "<IPython.core.display.HTML object>"
      ]
     },
     "metadata": {},
     "output_type": "display_data"
    },
    {
     "data": {
      "text/html": [
       " View sweep at <a href='https://wandb.ai/andberg9-self/AST_Sweeps/sweeps/ange3go8' target=\"_blank\">https://wandb.ai/andberg9-self/AST_Sweeps/sweeps/ange3go8</a>"
      ],
      "text/plain": [
       "<IPython.core.display.HTML object>"
      ]
     },
     "metadata": {},
     "output_type": "display_data"
    },
    {
     "data": {
      "text/html": [
       " View run at <a href='https://wandb.ai/andberg9-self/AST_Sweeps/runs/zc1fbkex' target=\"_blank\">https://wandb.ai/andberg9-self/AST_Sweeps/runs/zc1fbkex</a>"
      ],
      "text/plain": [
       "<IPython.core.display.HTML object>"
      ]
     },
     "metadata": {},
     "output_type": "display_data"
    },
    {
     "name": "stdout",
     "output_type": "stream",
     "text": [
      "ASTForAudioClassification(\n",
      "  (audio_spectrogram_transformer): ASTModel(\n",
      "    (embeddings): ASTEmbeddings(\n",
      "      (patch_embeddings): ASTPatchEmbeddings(\n",
      "        (projection): Conv2d(1, 768, kernel_size=(16, 16), stride=(10, 10))\n",
      "      )\n",
      "      (dropout): Dropout(p=0.0, inplace=False)\n",
      "    )\n",
      "    (encoder): ASTEncoder(\n",
      "      (layer): ModuleList(\n",
      "        (0-11): 12 x ASTLayer(\n",
      "          (attention): ASTSdpaAttention(\n",
      "            (attention): ASTSdpaSelfAttention(\n",
      "              (query): Linear(in_features=768, out_features=768, bias=True)\n",
      "              (key): Linear(in_features=768, out_features=768, bias=True)\n",
      "              (value): Linear(in_features=768, out_features=768, bias=True)\n",
      "              (dropout): Dropout(p=0.0, inplace=False)\n",
      "            )\n",
      "            (output): ASTSelfOutput(\n",
      "              (dense): Linear(in_features=768, out_features=768, bias=True)\n",
      "              (dropout): Dropout(p=0.0, inplace=False)\n",
      "            )\n",
      "          )\n",
      "          (intermediate): ASTIntermediate(\n",
      "            (dense): Linear(in_features=768, out_features=3072, bias=True)\n",
      "            (intermediate_act_fn): GELUActivation()\n",
      "          )\n",
      "          (output): ASTOutput(\n",
      "            (dense): Linear(in_features=3072, out_features=768, bias=True)\n",
      "            (dropout): Dropout(p=0.0, inplace=False)\n",
      "          )\n",
      "          (layernorm_before): LayerNorm((768,), eps=1e-12, elementwise_affine=True)\n",
      "          (layernorm_after): LayerNorm((768,), eps=1e-12, elementwise_affine=True)\n",
      "        )\n",
      "      )\n",
      "    )\n",
      "    (layernorm): LayerNorm((768,), eps=1e-12, elementwise_affine=True)\n",
      "  )\n",
      "  (classifier): ASTMLPHead(\n",
      "    (layernorm): LayerNorm((768,), eps=1e-12, elementwise_affine=True)\n",
      "    (dense): Linear(in_features=768, out_features=9, bias=True)\n",
      "  )\n",
      ")\n"
     ]
    },
    {
     "data": {
      "application/vnd.jupyter.widget-view+json": {
       "model_id": "5bed3df585d74a21b7d1aa393647b2b8",
       "version_major": 2,
       "version_minor": 0
      },
      "text/plain": [
       "  0%|          | 0/7 [00:00<?, ?it/s]"
      ]
     },
     "metadata": {},
     "output_type": "display_data"
    },
    {
     "name": "stdout",
     "output_type": "stream",
     "text": [
      "Epoch 1/7 | Train Loss: 1.6181 | Train Acc: 0.4750 | Train F1: 0.4677 | Test Loss: 1.1072 | Test Acc: 0.7188 | Test F1: 0.6907\n",
      "Epoch 2/7 | Train Loss: 0.8112 | Train Acc: 0.8208 | Train F1: 0.8152 | Test Loss: 0.6342 | Test Acc: 0.8906 | Test F1: 0.8855\n",
      "Epoch 3/7 | Train Loss: 0.5614 | Train Acc: 0.8792 | Train F1: 0.8793 | Test Loss: 0.5117 | Test Acc: 0.9219 | Test F1: 0.9180\n",
      "Epoch 4/7 | Train Loss: 0.4733 | Train Acc: 0.9000 | Train F1: 0.9005 | Test Loss: 0.5229 | Test Acc: 0.9010 | Test F1: 0.9292\n",
      "Epoch 5/7 | Train Loss: 0.4342 | Train Acc: 0.9056 | Train F1: 0.9062 | Test Loss: 0.4314 | Test Acc: 0.9323 | Test F1: 0.9292\n",
      "Epoch 6/7 | Train Loss: 0.4225 | Train Acc: 0.9083 | Train F1: 0.9089 | Test Loss: 0.4496 | Test Acc: 0.9167 | Test F1: 0.9292\n",
      "Epoch 7/7 | Train Loss: 0.4225 | Train Acc: 0.9083 | Train F1: 0.9089 | Test Loss: 0.4240 | Test Acc: 0.9323 | Test F1: 0.9292\n",
      "Train time on cuda: 334.7962927999979\n",
      "Inference Loss: 0.4226, Accuracy: 90.83%\n"
     ]
    },
    {
     "data": {
      "application/vnd.jupyter.widget-view+json": {
       "model_id": "89d544631cee42f0825076a7bf791c63",
       "version_major": 2,
       "version_minor": 0
      },
      "text/plain": [
       "VBox(children=(Label(value='0.008 MB of 0.008 MB uploaded\\r'), FloatProgress(value=1.0, max=1.0)))"
      ]
     },
     "metadata": {},
     "output_type": "display_data"
    },
    {
     "data": {
      "text/html": [
       "<style>\n",
       "    table.wandb td:nth-child(1) { padding: 0 10px; text-align: left ; width: auto;} td:nth-child(2) {text-align: left ; width: 100%}\n",
       "    .wandb-row { display: flex; flex-direction: row; flex-wrap: wrap; justify-content: flex-start; width: 100% }\n",
       "    .wandb-col { display: flex; flex-direction: column; flex-basis: 100%; flex: 1; padding: 10px; }\n",
       "    </style>\n",
       "<div class=\"wandb-row\"><div class=\"wandb-col\"><h3>Run history:</h3><br/><table class=\"wandb\"><tr><td>epoch</td><td>▁▂▃▅▆▇█</td></tr><tr><td>inference_accuracy</td><td>▁</td></tr><tr><td>inference_loss</td><td>▁</td></tr><tr><td>test_acc</td><td>▁▇█▇█▇█</td></tr><tr><td>test_f1</td><td>▁▇█████</td></tr><tr><td>test_loss</td><td>█▃▂▂▁▁▁</td></tr><tr><td>test_precision</td><td>▁▅█████</td></tr><tr><td>test_recall</td><td>▁▆█████</td></tr><tr><td>train_acc</td><td>▁▇█████</td></tr><tr><td>train_f1</td><td>▁▇█████</td></tr><tr><td>train_loss</td><td>█▃▂▁▁▁▁</td></tr><tr><td>train_precision</td><td>▁▇█████</td></tr><tr><td>train_recall</td><td>▁▇█████</td></tr></table><br/></div><div class=\"wandb-col\"><h3>Run summary:</h3><br/><table class=\"wandb\"><tr><td>epoch</td><td>7</td></tr><tr><td>inference_accuracy</td><td>0.90833</td></tr><tr><td>inference_loss</td><td>0.4226</td></tr><tr><td>test_acc</td><td>0.93229</td></tr><tr><td>test_f1</td><td>0.92917</td></tr><tr><td>test_loss</td><td>0.42401</td></tr><tr><td>test_precision</td><td>0.9365</td></tr><tr><td>test_recall</td><td>0.92778</td></tr><tr><td>train_acc</td><td>0.90833</td></tr><tr><td>train_f1</td><td>0.90892</td></tr><tr><td>train_loss</td><td>0.42248</td></tr><tr><td>train_precision</td><td>0.91068</td></tr><tr><td>train_recall</td><td>0.90833</td></tr><tr><td>train_time</td><td>00:05:34</td></tr></table><br/></div></div>"
      ],
      "text/plain": [
       "<IPython.core.display.HTML object>"
      ]
     },
     "metadata": {},
     "output_type": "display_data"
    },
    {
     "data": {
      "text/html": [
       " View run <strong style=\"color:#cdcd00\">drawn-sweep-73</strong> at: <a href='https://wandb.ai/andberg9-self/AST_Sweeps/runs/zc1fbkex' target=\"_blank\">https://wandb.ai/andberg9-self/AST_Sweeps/runs/zc1fbkex</a><br/> View project at: <a href='https://wandb.ai/andberg9-self/AST_Sweeps' target=\"_blank\">https://wandb.ai/andberg9-self/AST_Sweeps</a><br/>Synced 5 W&B file(s), 0 media file(s), 0 artifact file(s) and 0 other file(s)"
      ],
      "text/plain": [
       "<IPython.core.display.HTML object>"
      ]
     },
     "metadata": {},
     "output_type": "display_data"
    },
    {
     "data": {
      "text/html": [
       "Find logs at: <code>.\\wandb\\run-20240925_175900-zc1fbkex\\logs</code>"
      ],
      "text/plain": [
       "<IPython.core.display.HTML object>"
      ]
     },
     "metadata": {},
     "output_type": "display_data"
    },
    {
     "name": "stderr",
     "output_type": "stream",
     "text": [
      "wandb: Sweep Agent: Waiting for job.\n",
      "wandb: Job received.\n",
      "wandb: Agent Starting Run: iour4k1w with config:\n",
      "wandb: \tbatch_size: 32\n",
      "wandb: \tepochs: 7\n",
      "wandb: \tlearning_rate: 0.000700349804839871\n",
      "wandb: \toptimizer: adamW\n",
      "wandb: \tscheduler: PolynomialLR\n"
     ]
    },
    {
     "data": {
      "text/html": [
       "Tracking run with wandb version 0.18.1"
      ],
      "text/plain": [
       "<IPython.core.display.HTML object>"
      ]
     },
     "metadata": {},
     "output_type": "display_data"
    },
    {
     "data": {
      "text/html": [
       "Run data is saved locally in <code>c:\\Users\\Sidewinders\\Research_notebooks\\Drone_classification\\Research\\notebooks\\wandb\\run-20240925_180506-iour4k1w</code>"
      ],
      "text/plain": [
       "<IPython.core.display.HTML object>"
      ]
     },
     "metadata": {},
     "output_type": "display_data"
    },
    {
     "data": {
      "text/html": [
       "Syncing run <strong><a href='https://wandb.ai/andberg9-self/AST_Sweeps/runs/iour4k1w' target=\"_blank\">grateful-sweep-74</a></strong> to <a href='https://wandb.ai/andberg9-self/AST_Sweeps' target=\"_blank\">Weights & Biases</a> (<a href='https://wandb.me/run' target=\"_blank\">docs</a>)<br/>Sweep page: <a href='https://wandb.ai/andberg9-self/AST_Sweeps/sweeps/ange3go8' target=\"_blank\">https://wandb.ai/andberg9-self/AST_Sweeps/sweeps/ange3go8</a>"
      ],
      "text/plain": [
       "<IPython.core.display.HTML object>"
      ]
     },
     "metadata": {},
     "output_type": "display_data"
    },
    {
     "data": {
      "text/html": [
       " View project at <a href='https://wandb.ai/andberg9-self/AST_Sweeps' target=\"_blank\">https://wandb.ai/andberg9-self/AST_Sweeps</a>"
      ],
      "text/plain": [
       "<IPython.core.display.HTML object>"
      ]
     },
     "metadata": {},
     "output_type": "display_data"
    },
    {
     "data": {
      "text/html": [
       " View sweep at <a href='https://wandb.ai/andberg9-self/AST_Sweeps/sweeps/ange3go8' target=\"_blank\">https://wandb.ai/andberg9-self/AST_Sweeps/sweeps/ange3go8</a>"
      ],
      "text/plain": [
       "<IPython.core.display.HTML object>"
      ]
     },
     "metadata": {},
     "output_type": "display_data"
    },
    {
     "data": {
      "text/html": [
       " View run at <a href='https://wandb.ai/andberg9-self/AST_Sweeps/runs/iour4k1w' target=\"_blank\">https://wandb.ai/andberg9-self/AST_Sweeps/runs/iour4k1w</a>"
      ],
      "text/plain": [
       "<IPython.core.display.HTML object>"
      ]
     },
     "metadata": {},
     "output_type": "display_data"
    },
    {
     "name": "stdout",
     "output_type": "stream",
     "text": [
      "ASTForAudioClassification(\n",
      "  (audio_spectrogram_transformer): ASTModel(\n",
      "    (embeddings): ASTEmbeddings(\n",
      "      (patch_embeddings): ASTPatchEmbeddings(\n",
      "        (projection): Conv2d(1, 768, kernel_size=(16, 16), stride=(10, 10))\n",
      "      )\n",
      "      (dropout): Dropout(p=0.0, inplace=False)\n",
      "    )\n",
      "    (encoder): ASTEncoder(\n",
      "      (layer): ModuleList(\n",
      "        (0-11): 12 x ASTLayer(\n",
      "          (attention): ASTSdpaAttention(\n",
      "            (attention): ASTSdpaSelfAttention(\n",
      "              (query): Linear(in_features=768, out_features=768, bias=True)\n",
      "              (key): Linear(in_features=768, out_features=768, bias=True)\n",
      "              (value): Linear(in_features=768, out_features=768, bias=True)\n",
      "              (dropout): Dropout(p=0.0, inplace=False)\n",
      "            )\n",
      "            (output): ASTSelfOutput(\n",
      "              (dense): Linear(in_features=768, out_features=768, bias=True)\n",
      "              (dropout): Dropout(p=0.0, inplace=False)\n",
      "            )\n",
      "          )\n",
      "          (intermediate): ASTIntermediate(\n",
      "            (dense): Linear(in_features=768, out_features=3072, bias=True)\n",
      "            (intermediate_act_fn): GELUActivation()\n",
      "          )\n",
      "          (output): ASTOutput(\n",
      "            (dense): Linear(in_features=3072, out_features=768, bias=True)\n",
      "            (dropout): Dropout(p=0.0, inplace=False)\n",
      "          )\n",
      "          (layernorm_before): LayerNorm((768,), eps=1e-12, elementwise_affine=True)\n",
      "          (layernorm_after): LayerNorm((768,), eps=1e-12, elementwise_affine=True)\n",
      "        )\n",
      "      )\n",
      "    )\n",
      "    (layernorm): LayerNorm((768,), eps=1e-12, elementwise_affine=True)\n",
      "  )\n",
      "  (classifier): ASTMLPHead(\n",
      "    (layernorm): LayerNorm((768,), eps=1e-12, elementwise_affine=True)\n",
      "    (dense): Linear(in_features=768, out_features=9, bias=True)\n",
      "  )\n",
      ")\n"
     ]
    },
    {
     "data": {
      "application/vnd.jupyter.widget-view+json": {
       "model_id": "79a2d03777c4412789fe4a8403da2609",
       "version_major": 2,
       "version_minor": 0
      },
      "text/plain": [
       "  0%|          | 0/7 [00:00<?, ?it/s]"
      ]
     },
     "metadata": {},
     "output_type": "display_data"
    },
    {
     "name": "stdout",
     "output_type": "stream",
     "text": [
      "Epoch 1/7 | Train Loss: 1.9870 | Train Acc: 0.3560 | Train F1: 0.3449 | Test Loss: 1.6516 | Test Acc: 0.5833 | Test F1: 0.5434\n",
      "Epoch 2/7 | Train Loss: 1.4298 | Train Acc: 0.6861 | Train F1: 0.6617 | Test Loss: 1.2304 | Test Acc: 0.7865 | Test F1: 0.7789\n",
      "Epoch 3/7 | Train Loss: 1.1249 | Train Acc: 0.7853 | Train F1: 0.7788 | Test Loss: 1.0139 | Test Acc: 0.8240 | Test F1: 0.8143\n",
      "Epoch 4/7 | Train Loss: 0.9611 | Train Acc: 0.8152 | Train F1: 0.8109 | Test Loss: 0.8982 | Test Acc: 0.8635 | Test F1: 0.8551\n",
      "Epoch 5/7 | Train Loss: 0.8786 | Train Acc: 0.8315 | Train F1: 0.8253 | Test Loss: 0.8630 | Test Acc: 0.8646 | Test F1: 0.8658\n",
      "Epoch 6/7 | Train Loss: 0.8561 | Train Acc: 0.8342 | Train F1: 0.8293 | Test Loss: 0.8500 | Test Acc: 0.8708 | Test F1: 0.8658\n",
      "Epoch 7/7 | Train Loss: 0.8557 | Train Acc: 0.8342 | Train F1: 0.8293 | Test Loss: 0.8723 | Test Acc: 0.8646 | Test F1: 0.8658\n",
      "Train time on cuda: 335.6178577000028\n",
      "Inference Loss: 0.8607, Accuracy: 83.47%\n"
     ]
    },
    {
     "data": {
      "application/vnd.jupyter.widget-view+json": {
       "model_id": "39cc527e67d74e138f4de1dc5c210193",
       "version_major": 2,
       "version_minor": 0
      },
      "text/plain": [
       "VBox(children=(Label(value='0.008 MB of 0.008 MB uploaded\\r'), FloatProgress(value=1.0, max=1.0)))"
      ]
     },
     "metadata": {},
     "output_type": "display_data"
    },
    {
     "data": {
      "text/html": [
       "<style>\n",
       "    table.wandb td:nth-child(1) { padding: 0 10px; text-align: left ; width: auto;} td:nth-child(2) {text-align: left ; width: 100%}\n",
       "    .wandb-row { display: flex; flex-direction: row; flex-wrap: wrap; justify-content: flex-start; width: 100% }\n",
       "    .wandb-col { display: flex; flex-direction: column; flex-basis: 100%; flex: 1; padding: 10px; }\n",
       "    </style>\n",
       "<div class=\"wandb-row\"><div class=\"wandb-col\"><h3>Run history:</h3><br/><table class=\"wandb\"><tr><td>epoch</td><td>▁▂▃▅▆▇█</td></tr><tr><td>inference_accuracy</td><td>▁</td></tr><tr><td>inference_loss</td><td>▁</td></tr><tr><td>test_acc</td><td>▁▆▇████</td></tr><tr><td>test_f1</td><td>▁▆▇████</td></tr><tr><td>test_loss</td><td>█▄▂▁▁▁▁</td></tr><tr><td>test_precision</td><td>▁▅▆████</td></tr><tr><td>test_recall</td><td>▁▆▇████</td></tr><tr><td>train_acc</td><td>▁▆▇████</td></tr><tr><td>train_f1</td><td>▁▆▇████</td></tr><tr><td>train_loss</td><td>█▅▃▂▁▁▁</td></tr><tr><td>train_precision</td><td>▁▆▇████</td></tr><tr><td>train_recall</td><td>▁▆▇████</td></tr></table><br/></div><div class=\"wandb-col\"><h3>Run summary:</h3><br/><table class=\"wandb\"><tr><td>epoch</td><td>7</td></tr><tr><td>inference_accuracy</td><td>0.83472</td></tr><tr><td>inference_loss</td><td>0.86071</td></tr><tr><td>test_acc</td><td>0.86458</td></tr><tr><td>test_f1</td><td>0.8658</td></tr><tr><td>test_loss</td><td>0.87231</td></tr><tr><td>test_precision</td><td>0.87657</td></tr><tr><td>test_recall</td><td>0.87222</td></tr><tr><td>train_acc</td><td>0.83424</td></tr><tr><td>train_f1</td><td>0.82932</td></tr><tr><td>train_loss</td><td>0.85575</td></tr><tr><td>train_precision</td><td>0.83181</td></tr><tr><td>train_recall</td><td>0.83333</td></tr><tr><td>train_time</td><td>00:05:35</td></tr></table><br/></div></div>"
      ],
      "text/plain": [
       "<IPython.core.display.HTML object>"
      ]
     },
     "metadata": {},
     "output_type": "display_data"
    },
    {
     "data": {
      "text/html": [
       " View run <strong style=\"color:#cdcd00\">grateful-sweep-74</strong> at: <a href='https://wandb.ai/andberg9-self/AST_Sweeps/runs/iour4k1w' target=\"_blank\">https://wandb.ai/andberg9-self/AST_Sweeps/runs/iour4k1w</a><br/> View project at: <a href='https://wandb.ai/andberg9-self/AST_Sweeps' target=\"_blank\">https://wandb.ai/andberg9-self/AST_Sweeps</a><br/>Synced 5 W&B file(s), 0 media file(s), 0 artifact file(s) and 0 other file(s)"
      ],
      "text/plain": [
       "<IPython.core.display.HTML object>"
      ]
     },
     "metadata": {},
     "output_type": "display_data"
    },
    {
     "data": {
      "text/html": [
       "Find logs at: <code>.\\wandb\\run-20240925_180506-iour4k1w\\logs</code>"
      ],
      "text/plain": [
       "<IPython.core.display.HTML object>"
      ]
     },
     "metadata": {},
     "output_type": "display_data"
    },
    {
     "name": "stderr",
     "output_type": "stream",
     "text": [
      "wandb: Agent Starting Run: 6k8g2gky with config:\n",
      "wandb: \tbatch_size: 32\n",
      "wandb: \tepochs: 7\n",
      "wandb: \tlearning_rate: 0.0001211829966965244\n",
      "wandb: \toptimizer: adamW\n",
      "wandb: \tscheduler: PolynomialLR\n"
     ]
    },
    {
     "data": {
      "text/html": [
       "Tracking run with wandb version 0.18.1"
      ],
      "text/plain": [
       "<IPython.core.display.HTML object>"
      ]
     },
     "metadata": {},
     "output_type": "display_data"
    },
    {
     "data": {
      "text/html": [
       "Run data is saved locally in <code>c:\\Users\\Sidewinders\\Research_notebooks\\Drone_classification\\Research\\notebooks\\wandb\\run-20240925_181102-6k8g2gky</code>"
      ],
      "text/plain": [
       "<IPython.core.display.HTML object>"
      ]
     },
     "metadata": {},
     "output_type": "display_data"
    },
    {
     "data": {
      "text/html": [
       "Syncing run <strong><a href='https://wandb.ai/andberg9-self/AST_Sweeps/runs/6k8g2gky' target=\"_blank\">astral-sweep-75</a></strong> to <a href='https://wandb.ai/andberg9-self/AST_Sweeps' target=\"_blank\">Weights & Biases</a> (<a href='https://wandb.me/run' target=\"_blank\">docs</a>)<br/>Sweep page: <a href='https://wandb.ai/andberg9-self/AST_Sweeps/sweeps/ange3go8' target=\"_blank\">https://wandb.ai/andberg9-self/AST_Sweeps/sweeps/ange3go8</a>"
      ],
      "text/plain": [
       "<IPython.core.display.HTML object>"
      ]
     },
     "metadata": {},
     "output_type": "display_data"
    },
    {
     "data": {
      "text/html": [
       " View project at <a href='https://wandb.ai/andberg9-self/AST_Sweeps' target=\"_blank\">https://wandb.ai/andberg9-self/AST_Sweeps</a>"
      ],
      "text/plain": [
       "<IPython.core.display.HTML object>"
      ]
     },
     "metadata": {},
     "output_type": "display_data"
    },
    {
     "data": {
      "text/html": [
       " View sweep at <a href='https://wandb.ai/andberg9-self/AST_Sweeps/sweeps/ange3go8' target=\"_blank\">https://wandb.ai/andberg9-self/AST_Sweeps/sweeps/ange3go8</a>"
      ],
      "text/plain": [
       "<IPython.core.display.HTML object>"
      ]
     },
     "metadata": {},
     "output_type": "display_data"
    },
    {
     "data": {
      "text/html": [
       " View run at <a href='https://wandb.ai/andberg9-self/AST_Sweeps/runs/6k8g2gky' target=\"_blank\">https://wandb.ai/andberg9-self/AST_Sweeps/runs/6k8g2gky</a>"
      ],
      "text/plain": [
       "<IPython.core.display.HTML object>"
      ]
     },
     "metadata": {},
     "output_type": "display_data"
    },
    {
     "name": "stdout",
     "output_type": "stream",
     "text": [
      "ASTForAudioClassification(\n",
      "  (audio_spectrogram_transformer): ASTModel(\n",
      "    (embeddings): ASTEmbeddings(\n",
      "      (patch_embeddings): ASTPatchEmbeddings(\n",
      "        (projection): Conv2d(1, 768, kernel_size=(16, 16), stride=(10, 10))\n",
      "      )\n",
      "      (dropout): Dropout(p=0.0, inplace=False)\n",
      "    )\n",
      "    (encoder): ASTEncoder(\n",
      "      (layer): ModuleList(\n",
      "        (0-11): 12 x ASTLayer(\n",
      "          (attention): ASTSdpaAttention(\n",
      "            (attention): ASTSdpaSelfAttention(\n",
      "              (query): Linear(in_features=768, out_features=768, bias=True)\n",
      "              (key): Linear(in_features=768, out_features=768, bias=True)\n",
      "              (value): Linear(in_features=768, out_features=768, bias=True)\n",
      "              (dropout): Dropout(p=0.0, inplace=False)\n",
      "            )\n",
      "            (output): ASTSelfOutput(\n",
      "              (dense): Linear(in_features=768, out_features=768, bias=True)\n",
      "              (dropout): Dropout(p=0.0, inplace=False)\n",
      "            )\n",
      "          )\n",
      "          (intermediate): ASTIntermediate(\n",
      "            (dense): Linear(in_features=768, out_features=3072, bias=True)\n",
      "            (intermediate_act_fn): GELUActivation()\n",
      "          )\n",
      "          (output): ASTOutput(\n",
      "            (dense): Linear(in_features=3072, out_features=768, bias=True)\n",
      "            (dropout): Dropout(p=0.0, inplace=False)\n",
      "          )\n",
      "          (layernorm_before): LayerNorm((768,), eps=1e-12, elementwise_affine=True)\n",
      "          (layernorm_after): LayerNorm((768,), eps=1e-12, elementwise_affine=True)\n",
      "        )\n",
      "      )\n",
      "    )\n",
      "    (layernorm): LayerNorm((768,), eps=1e-12, elementwise_affine=True)\n",
      "  )\n",
      "  (classifier): ASTMLPHead(\n",
      "    (layernorm): LayerNorm((768,), eps=1e-12, elementwise_affine=True)\n",
      "    (dense): Linear(in_features=768, out_features=9, bias=True)\n",
      "  )\n",
      ")\n"
     ]
    },
    {
     "data": {
      "application/vnd.jupyter.widget-view+json": {
       "model_id": "fb9cfefa1c31452c820c4a4941ade720",
       "version_major": 2,
       "version_minor": 0
      },
      "text/plain": [
       "  0%|          | 0/7 [00:00<?, ?it/s]"
      ]
     },
     "metadata": {},
     "output_type": "display_data"
    },
    {
     "name": "stdout",
     "output_type": "stream",
     "text": [
      "Epoch 1/7 | Train Loss: 2.2284 | Train Acc: 0.1291 | Train F1: 0.1030 | Test Loss: 2.1582 | Test Acc: 0.1375 | Test F1: 0.1066\n",
      "Epoch 2/7 | Train Loss: 2.1016 | Train Acc: 0.1766 | Train F1: 0.1673 | Test Loss: 2.0622 | Test Acc: 0.1687 | Test F1: 0.1667\n",
      "Epoch 3/7 | Train Loss: 2.0089 | Train Acc: 0.2296 | Train F1: 0.2278 | Test Loss: 1.9902 | Test Acc: 0.2240 | Test F1: 0.2294\n",
      "Epoch 4/7 | Train Loss: 1.9446 | Train Acc: 0.2962 | Train F1: 0.2932 | Test Loss: 1.9480 | Test Acc: 0.2437 | Test F1: 0.2507\n",
      "Epoch 5/7 | Train Loss: 1.9116 | Train Acc: 0.3247 | Train F1: 0.3313 | Test Loss: 1.9267 | Test Acc: 0.2729 | Test F1: 0.2755\n",
      "Epoch 6/7 | Train Loss: 1.8981 | Train Acc: 0.3505 | Train F1: 0.3487 | Test Loss: 1.9288 | Test Acc: 0.2729 | Test F1: 0.2755\n",
      "Epoch 7/7 | Train Loss: 1.9013 | Train Acc: 0.3410 | Train F1: 0.3487 | Test Loss: 1.9300 | Test Acc: 0.2792 | Test F1: 0.2755\n",
      "Train time on cuda: 335.6797214000035\n",
      "Inference Loss: 1.8993, Accuracy: 34.31%\n"
     ]
    },
    {
     "data": {
      "application/vnd.jupyter.widget-view+json": {
       "model_id": "9cbd771aa568491ab318a6ad5682d1fa",
       "version_major": 2,
       "version_minor": 0
      },
      "text/plain": [
       "VBox(children=(Label(value='0.008 MB of 0.008 MB uploaded\\r'), FloatProgress(value=1.0, max=1.0)))"
      ]
     },
     "metadata": {},
     "output_type": "display_data"
    },
    {
     "data": {
      "text/html": [
       "<style>\n",
       "    table.wandb td:nth-child(1) { padding: 0 10px; text-align: left ; width: auto;} td:nth-child(2) {text-align: left ; width: 100%}\n",
       "    .wandb-row { display: flex; flex-direction: row; flex-wrap: wrap; justify-content: flex-start; width: 100% }\n",
       "    .wandb-col { display: flex; flex-direction: column; flex-basis: 100%; flex: 1; padding: 10px; }\n",
       "    </style>\n",
       "<div class=\"wandb-row\"><div class=\"wandb-col\"><h3>Run history:</h3><br/><table class=\"wandb\"><tr><td>epoch</td><td>▁▂▃▅▆▇█</td></tr><tr><td>inference_accuracy</td><td>▁</td></tr><tr><td>inference_loss</td><td>▁</td></tr><tr><td>test_acc</td><td>▁▃▅▆███</td></tr><tr><td>test_f1</td><td>▁▃▆▇███</td></tr><tr><td>test_loss</td><td>█▅▃▂▁▁▁</td></tr><tr><td>test_precision</td><td>▁▅▇▇███</td></tr><tr><td>test_recall</td><td>▁▃▅▇███</td></tr><tr><td>train_acc</td><td>▁▃▄▆▇██</td></tr><tr><td>train_f1</td><td>▁▃▅▆███</td></tr><tr><td>train_loss</td><td>█▅▃▂▁▁▁</td></tr><tr><td>train_precision</td><td>▁▃▅▆███</td></tr><tr><td>train_recall</td><td>▁▃▄▆▇██</td></tr></table><br/></div><div class=\"wandb-col\"><h3>Run summary:</h3><br/><table class=\"wandb\"><tr><td>epoch</td><td>7</td></tr><tr><td>inference_accuracy</td><td>0.34306</td></tr><tr><td>inference_loss</td><td>1.8993</td></tr><tr><td>test_acc</td><td>0.27917</td></tr><tr><td>test_f1</td><td>0.27546</td></tr><tr><td>test_loss</td><td>1.93</td></tr><tr><td>test_precision</td><td>0.30898</td></tr><tr><td>test_recall</td><td>0.27778</td></tr><tr><td>train_acc</td><td>0.34103</td></tr><tr><td>train_f1</td><td>0.34869</td></tr><tr><td>train_loss</td><td>1.90125</td></tr><tr><td>train_precision</td><td>0.36859</td></tr><tr><td>train_recall</td><td>0.34306</td></tr><tr><td>train_time</td><td>00:05:35</td></tr></table><br/></div></div>"
      ],
      "text/plain": [
       "<IPython.core.display.HTML object>"
      ]
     },
     "metadata": {},
     "output_type": "display_data"
    },
    {
     "data": {
      "text/html": [
       " View run <strong style=\"color:#cdcd00\">astral-sweep-75</strong> at: <a href='https://wandb.ai/andberg9-self/AST_Sweeps/runs/6k8g2gky' target=\"_blank\">https://wandb.ai/andberg9-self/AST_Sweeps/runs/6k8g2gky</a><br/> View project at: <a href='https://wandb.ai/andberg9-self/AST_Sweeps' target=\"_blank\">https://wandb.ai/andberg9-self/AST_Sweeps</a><br/>Synced 5 W&B file(s), 0 media file(s), 0 artifact file(s) and 0 other file(s)"
      ],
      "text/plain": [
       "<IPython.core.display.HTML object>"
      ]
     },
     "metadata": {},
     "output_type": "display_data"
    },
    {
     "data": {
      "text/html": [
       "Find logs at: <code>.\\wandb\\run-20240925_181102-6k8g2gky\\logs</code>"
      ],
      "text/plain": [
       "<IPython.core.display.HTML object>"
      ]
     },
     "metadata": {},
     "output_type": "display_data"
    },
    {
     "name": "stderr",
     "output_type": "stream",
     "text": [
      "wandb: Agent Starting Run: w56e4zlv with config:\n",
      "wandb: \tbatch_size: 16\n",
      "wandb: \tepochs: 7\n",
      "wandb: \tlearning_rate: 0.00045794194663201606\n",
      "wandb: \toptimizer: adamW\n",
      "wandb: \tscheduler: PolynomialLR\n"
     ]
    },
    {
     "data": {
      "text/html": [
       "Tracking run with wandb version 0.18.1"
      ],
      "text/plain": [
       "<IPython.core.display.HTML object>"
      ]
     },
     "metadata": {},
     "output_type": "display_data"
    },
    {
     "data": {
      "text/html": [
       "Run data is saved locally in <code>c:\\Users\\Sidewinders\\Research_notebooks\\Drone_classification\\Research\\notebooks\\wandb\\run-20240925_181659-w56e4zlv</code>"
      ],
      "text/plain": [
       "<IPython.core.display.HTML object>"
      ]
     },
     "metadata": {},
     "output_type": "display_data"
    },
    {
     "data": {
      "text/html": [
       "Syncing run <strong><a href='https://wandb.ai/andberg9-self/AST_Sweeps/runs/w56e4zlv' target=\"_blank\">neat-sweep-76</a></strong> to <a href='https://wandb.ai/andberg9-self/AST_Sweeps' target=\"_blank\">Weights & Biases</a> (<a href='https://wandb.me/run' target=\"_blank\">docs</a>)<br/>Sweep page: <a href='https://wandb.ai/andberg9-self/AST_Sweeps/sweeps/ange3go8' target=\"_blank\">https://wandb.ai/andberg9-self/AST_Sweeps/sweeps/ange3go8</a>"
      ],
      "text/plain": [
       "<IPython.core.display.HTML object>"
      ]
     },
     "metadata": {},
     "output_type": "display_data"
    },
    {
     "data": {
      "text/html": [
       " View project at <a href='https://wandb.ai/andberg9-self/AST_Sweeps' target=\"_blank\">https://wandb.ai/andberg9-self/AST_Sweeps</a>"
      ],
      "text/plain": [
       "<IPython.core.display.HTML object>"
      ]
     },
     "metadata": {},
     "output_type": "display_data"
    },
    {
     "data": {
      "text/html": [
       " View sweep at <a href='https://wandb.ai/andberg9-self/AST_Sweeps/sweeps/ange3go8' target=\"_blank\">https://wandb.ai/andberg9-self/AST_Sweeps/sweeps/ange3go8</a>"
      ],
      "text/plain": [
       "<IPython.core.display.HTML object>"
      ]
     },
     "metadata": {},
     "output_type": "display_data"
    },
    {
     "data": {
      "text/html": [
       " View run at <a href='https://wandb.ai/andberg9-self/AST_Sweeps/runs/w56e4zlv' target=\"_blank\">https://wandb.ai/andberg9-self/AST_Sweeps/runs/w56e4zlv</a>"
      ],
      "text/plain": [
       "<IPython.core.display.HTML object>"
      ]
     },
     "metadata": {},
     "output_type": "display_data"
    },
    {
     "name": "stdout",
     "output_type": "stream",
     "text": [
      "ASTForAudioClassification(\n",
      "  (audio_spectrogram_transformer): ASTModel(\n",
      "    (embeddings): ASTEmbeddings(\n",
      "      (patch_embeddings): ASTPatchEmbeddings(\n",
      "        (projection): Conv2d(1, 768, kernel_size=(16, 16), stride=(10, 10))\n",
      "      )\n",
      "      (dropout): Dropout(p=0.0, inplace=False)\n",
      "    )\n",
      "    (encoder): ASTEncoder(\n",
      "      (layer): ModuleList(\n",
      "        (0-11): 12 x ASTLayer(\n",
      "          (attention): ASTSdpaAttention(\n",
      "            (attention): ASTSdpaSelfAttention(\n",
      "              (query): Linear(in_features=768, out_features=768, bias=True)\n",
      "              (key): Linear(in_features=768, out_features=768, bias=True)\n",
      "              (value): Linear(in_features=768, out_features=768, bias=True)\n",
      "              (dropout): Dropout(p=0.0, inplace=False)\n",
      "            )\n",
      "            (output): ASTSelfOutput(\n",
      "              (dense): Linear(in_features=768, out_features=768, bias=True)\n",
      "              (dropout): Dropout(p=0.0, inplace=False)\n",
      "            )\n",
      "          )\n",
      "          (intermediate): ASTIntermediate(\n",
      "            (dense): Linear(in_features=768, out_features=3072, bias=True)\n",
      "            (intermediate_act_fn): GELUActivation()\n",
      "          )\n",
      "          (output): ASTOutput(\n",
      "            (dense): Linear(in_features=3072, out_features=768, bias=True)\n",
      "            (dropout): Dropout(p=0.0, inplace=False)\n",
      "          )\n",
      "          (layernorm_before): LayerNorm((768,), eps=1e-12, elementwise_affine=True)\n",
      "          (layernorm_after): LayerNorm((768,), eps=1e-12, elementwise_affine=True)\n",
      "        )\n",
      "      )\n",
      "    )\n",
      "    (layernorm): LayerNorm((768,), eps=1e-12, elementwise_affine=True)\n",
      "  )\n",
      "  (classifier): ASTMLPHead(\n",
      "    (layernorm): LayerNorm((768,), eps=1e-12, elementwise_affine=True)\n",
      "    (dense): Linear(in_features=768, out_features=9, bias=True)\n",
      "  )\n",
      ")\n"
     ]
    },
    {
     "data": {
      "application/vnd.jupyter.widget-view+json": {
       "model_id": "5c140b06da4a48838688819147302609",
       "version_major": 2,
       "version_minor": 0
      },
      "text/plain": [
       "  0%|          | 0/7 [00:00<?, ?it/s]"
      ]
     },
     "metadata": {},
     "output_type": "display_data"
    },
    {
     "name": "stdout",
     "output_type": "stream",
     "text": [
      "Epoch 1/7 | Train Loss: 1.9391 | Train Acc: 0.3681 | Train F1: 0.3632 | Test Loss: 1.5011 | Test Acc: 0.5781 | Test F1: 0.5461\n",
      "Epoch 2/7 | Train Loss: 1.2846 | Train Acc: 0.7042 | Train F1: 0.6986 | Test Loss: 1.1248 | Test Acc: 0.7448 | Test F1: 0.7362\n",
      "Epoch 3/7 | Train Loss: 0.9787 | Train Acc: 0.7917 | Train F1: 0.7808 | Test Loss: 0.9012 | Test Acc: 0.8385 | Test F1: 0.8373\n",
      "Epoch 4/7 | Train Loss: 0.8306 | Train Acc: 0.8333 | Train F1: 0.8288 | Test Loss: 0.7935 | Test Acc: 0.8646 | Test F1: 0.8532\n",
      "Epoch 5/7 | Train Loss: 0.7646 | Train Acc: 0.8583 | Train F1: 0.8566 | Test Loss: 0.7611 | Test Acc: 0.8854 | Test F1: 0.8765\n",
      "Epoch 6/7 | Train Loss: 0.7424 | Train Acc: 0.8625 | Train F1: 0.8610 | Test Loss: 0.7724 | Test Acc: 0.8698 | Test F1: 0.8765\n",
      "Epoch 7/7 | Train Loss: 0.7424 | Train Acc: 0.8625 | Train F1: 0.8610 | Test Loss: 0.7616 | Test Acc: 0.8698 | Test F1: 0.8765\n",
      "Train time on cuda: 334.8062076000024\n",
      "Inference Loss: 0.7425, Accuracy: 86.25%\n"
     ]
    },
    {
     "data": {
      "application/vnd.jupyter.widget-view+json": {
       "model_id": "8e024fe1fb184414a3a7b3813d0b40e1",
       "version_major": 2,
       "version_minor": 0
      },
      "text/plain": [
       "VBox(children=(Label(value='0.008 MB of 0.008 MB uploaded\\r'), FloatProgress(value=1.0, max=1.0)))"
      ]
     },
     "metadata": {},
     "output_type": "display_data"
    },
    {
     "data": {
      "text/html": [
       "<style>\n",
       "    table.wandb td:nth-child(1) { padding: 0 10px; text-align: left ; width: auto;} td:nth-child(2) {text-align: left ; width: 100%}\n",
       "    .wandb-row { display: flex; flex-direction: row; flex-wrap: wrap; justify-content: flex-start; width: 100% }\n",
       "    .wandb-col { display: flex; flex-direction: column; flex-basis: 100%; flex: 1; padding: 10px; }\n",
       "    </style>\n",
       "<div class=\"wandb-row\"><div class=\"wandb-col\"><h3>Run history:</h3><br/><table class=\"wandb\"><tr><td>epoch</td><td>▁▂▃▅▆▇█</td></tr><tr><td>inference_accuracy</td><td>▁</td></tr><tr><td>inference_loss</td><td>▁</td></tr><tr><td>test_acc</td><td>▁▅▇████</td></tr><tr><td>test_f1</td><td>▁▅▇████</td></tr><tr><td>test_loss</td><td>█▄▂▁▁▁▁</td></tr><tr><td>test_precision</td><td>▁▄▇▇███</td></tr><tr><td>test_recall</td><td>▁▅▇▇███</td></tr><tr><td>train_acc</td><td>▁▆▇████</td></tr><tr><td>train_f1</td><td>▁▆▇████</td></tr><tr><td>train_loss</td><td>█▄▂▂▁▁▁</td></tr><tr><td>train_precision</td><td>▁▆▇████</td></tr><tr><td>train_recall</td><td>▁▆▇████</td></tr></table><br/></div><div class=\"wandb-col\"><h3>Run summary:</h3><br/><table class=\"wandb\"><tr><td>epoch</td><td>7</td></tr><tr><td>inference_accuracy</td><td>0.8625</td></tr><tr><td>inference_loss</td><td>0.74254</td></tr><tr><td>test_acc</td><td>0.86979</td></tr><tr><td>test_f1</td><td>0.87653</td></tr><tr><td>test_loss</td><td>0.76162</td></tr><tr><td>test_precision</td><td>0.88584</td></tr><tr><td>test_recall</td><td>0.87778</td></tr><tr><td>train_acc</td><td>0.8625</td></tr><tr><td>train_f1</td><td>0.861</td></tr><tr><td>train_loss</td><td>0.74243</td></tr><tr><td>train_precision</td><td>0.86207</td></tr><tr><td>train_recall</td><td>0.8625</td></tr><tr><td>train_time</td><td>00:05:34</td></tr></table><br/></div></div>"
      ],
      "text/plain": [
       "<IPython.core.display.HTML object>"
      ]
     },
     "metadata": {},
     "output_type": "display_data"
    },
    {
     "data": {
      "text/html": [
       " View run <strong style=\"color:#cdcd00\">neat-sweep-76</strong> at: <a href='https://wandb.ai/andberg9-self/AST_Sweeps/runs/w56e4zlv' target=\"_blank\">https://wandb.ai/andberg9-self/AST_Sweeps/runs/w56e4zlv</a><br/> View project at: <a href='https://wandb.ai/andberg9-self/AST_Sweeps' target=\"_blank\">https://wandb.ai/andberg9-self/AST_Sweeps</a><br/>Synced 5 W&B file(s), 0 media file(s), 0 artifact file(s) and 0 other file(s)"
      ],
      "text/plain": [
       "<IPython.core.display.HTML object>"
      ]
     },
     "metadata": {},
     "output_type": "display_data"
    },
    {
     "data": {
      "text/html": [
       "Find logs at: <code>.\\wandb\\run-20240925_181659-w56e4zlv\\logs</code>"
      ],
      "text/plain": [
       "<IPython.core.display.HTML object>"
      ]
     },
     "metadata": {},
     "output_type": "display_data"
    },
    {
     "name": "stderr",
     "output_type": "stream",
     "text": [
      "wandb: Agent Starting Run: ao6slgbx with config:\n",
      "wandb: \tbatch_size: 16\n",
      "wandb: \tepochs: 7\n",
      "wandb: \tlearning_rate: 0.0004844083334286455\n",
      "wandb: \toptimizer: adamW\n",
      "wandb: \tscheduler: PolynomialLR\n"
     ]
    },
    {
     "data": {
      "text/html": [
       "Tracking run with wandb version 0.18.1"
      ],
      "text/plain": [
       "<IPython.core.display.HTML object>"
      ]
     },
     "metadata": {},
     "output_type": "display_data"
    },
    {
     "data": {
      "text/html": [
       "Run data is saved locally in <code>c:\\Users\\Sidewinders\\Research_notebooks\\Drone_classification\\Research\\notebooks\\wandb\\run-20240925_182259-ao6slgbx</code>"
      ],
      "text/plain": [
       "<IPython.core.display.HTML object>"
      ]
     },
     "metadata": {},
     "output_type": "display_data"
    },
    {
     "data": {
      "text/html": [
       "Syncing run <strong><a href='https://wandb.ai/andberg9-self/AST_Sweeps/runs/ao6slgbx' target=\"_blank\">daily-sweep-77</a></strong> to <a href='https://wandb.ai/andberg9-self/AST_Sweeps' target=\"_blank\">Weights & Biases</a> (<a href='https://wandb.me/run' target=\"_blank\">docs</a>)<br/>Sweep page: <a href='https://wandb.ai/andberg9-self/AST_Sweeps/sweeps/ange3go8' target=\"_blank\">https://wandb.ai/andberg9-self/AST_Sweeps/sweeps/ange3go8</a>"
      ],
      "text/plain": [
       "<IPython.core.display.HTML object>"
      ]
     },
     "metadata": {},
     "output_type": "display_data"
    },
    {
     "data": {
      "text/html": [
       " View project at <a href='https://wandb.ai/andberg9-self/AST_Sweeps' target=\"_blank\">https://wandb.ai/andberg9-self/AST_Sweeps</a>"
      ],
      "text/plain": [
       "<IPython.core.display.HTML object>"
      ]
     },
     "metadata": {},
     "output_type": "display_data"
    },
    {
     "data": {
      "text/html": [
       " View sweep at <a href='https://wandb.ai/andberg9-self/AST_Sweeps/sweeps/ange3go8' target=\"_blank\">https://wandb.ai/andberg9-self/AST_Sweeps/sweeps/ange3go8</a>"
      ],
      "text/plain": [
       "<IPython.core.display.HTML object>"
      ]
     },
     "metadata": {},
     "output_type": "display_data"
    },
    {
     "data": {
      "text/html": [
       " View run at <a href='https://wandb.ai/andberg9-self/AST_Sweeps/runs/ao6slgbx' target=\"_blank\">https://wandb.ai/andberg9-self/AST_Sweeps/runs/ao6slgbx</a>"
      ],
      "text/plain": [
       "<IPython.core.display.HTML object>"
      ]
     },
     "metadata": {},
     "output_type": "display_data"
    },
    {
     "name": "stdout",
     "output_type": "stream",
     "text": [
      "ASTForAudioClassification(\n",
      "  (audio_spectrogram_transformer): ASTModel(\n",
      "    (embeddings): ASTEmbeddings(\n",
      "      (patch_embeddings): ASTPatchEmbeddings(\n",
      "        (projection): Conv2d(1, 768, kernel_size=(16, 16), stride=(10, 10))\n",
      "      )\n",
      "      (dropout): Dropout(p=0.0, inplace=False)\n",
      "    )\n",
      "    (encoder): ASTEncoder(\n",
      "      (layer): ModuleList(\n",
      "        (0-11): 12 x ASTLayer(\n",
      "          (attention): ASTSdpaAttention(\n",
      "            (attention): ASTSdpaSelfAttention(\n",
      "              (query): Linear(in_features=768, out_features=768, bias=True)\n",
      "              (key): Linear(in_features=768, out_features=768, bias=True)\n",
      "              (value): Linear(in_features=768, out_features=768, bias=True)\n",
      "              (dropout): Dropout(p=0.0, inplace=False)\n",
      "            )\n",
      "            (output): ASTSelfOutput(\n",
      "              (dense): Linear(in_features=768, out_features=768, bias=True)\n",
      "              (dropout): Dropout(p=0.0, inplace=False)\n",
      "            )\n",
      "          )\n",
      "          (intermediate): ASTIntermediate(\n",
      "            (dense): Linear(in_features=768, out_features=3072, bias=True)\n",
      "            (intermediate_act_fn): GELUActivation()\n",
      "          )\n",
      "          (output): ASTOutput(\n",
      "            (dense): Linear(in_features=3072, out_features=768, bias=True)\n",
      "            (dropout): Dropout(p=0.0, inplace=False)\n",
      "          )\n",
      "          (layernorm_before): LayerNorm((768,), eps=1e-12, elementwise_affine=True)\n",
      "          (layernorm_after): LayerNorm((768,), eps=1e-12, elementwise_affine=True)\n",
      "        )\n",
      "      )\n",
      "    )\n",
      "    (layernorm): LayerNorm((768,), eps=1e-12, elementwise_affine=True)\n",
      "  )\n",
      "  (classifier): ASTMLPHead(\n",
      "    (layernorm): LayerNorm((768,), eps=1e-12, elementwise_affine=True)\n",
      "    (dense): Linear(in_features=768, out_features=9, bias=True)\n",
      "  )\n",
      ")\n"
     ]
    },
    {
     "data": {
      "application/vnd.jupyter.widget-view+json": {
       "model_id": "93e1a3ef82af455292b68a374b25827f",
       "version_major": 2,
       "version_minor": 0
      },
      "text/plain": [
       "  0%|          | 0/7 [00:00<?, ?it/s]"
      ]
     },
     "metadata": {},
     "output_type": "display_data"
    },
    {
     "name": "stdout",
     "output_type": "stream",
     "text": [
      "Epoch 1/7 | Train Loss: 2.0275 | Train Acc: 0.2792 | Train F1: 0.2866 | Test Loss: 1.5753 | Test Acc: 0.5156 | Test F1: 0.4880\n",
      "Epoch 2/7 | Train Loss: 1.3460 | Train Acc: 0.6444 | Train F1: 0.6209 | Test Loss: 1.1319 | Test Acc: 0.7708 | Test F1: 0.7642\n",
      "Epoch 3/7 | Train Loss: 1.0141 | Train Acc: 0.7847 | Train F1: 0.7803 | Test Loss: 0.9185 | Test Acc: 0.8542 | Test F1: 0.8397\n",
      "Epoch 4/7 | Train Loss: 0.8518 | Train Acc: 0.8417 | Train F1: 0.8396 | Test Loss: 0.7886 | Test Acc: 0.8750 | Test F1: 0.8642\n",
      "Epoch 5/7 | Train Loss: 0.7780 | Train Acc: 0.8583 | Train F1: 0.8578 | Test Loss: 0.7564 | Test Acc: 0.8750 | Test F1: 0.8642\n",
      "Epoch 6/7 | Train Loss: 0.7544 | Train Acc: 0.8639 | Train F1: 0.8633 | Test Loss: 0.7866 | Test Acc: 0.8594 | Test F1: 0.8642\n",
      "Epoch 7/7 | Train Loss: 0.7544 | Train Acc: 0.8639 | Train F1: 0.8633 | Test Loss: 0.7732 | Test Acc: 0.8750 | Test F1: 0.8642\n",
      "Train time on cuda: 334.8335837000013\n",
      "Inference Loss: 0.7545, Accuracy: 86.39%\n"
     ]
    },
    {
     "data": {
      "application/vnd.jupyter.widget-view+json": {
       "model_id": "a9019b335bb045589a8522456b98fba2",
       "version_major": 2,
       "version_minor": 0
      },
      "text/plain": [
       "VBox(children=(Label(value='0.008 MB of 0.008 MB uploaded\\r'), FloatProgress(value=1.0, max=1.0)))"
      ]
     },
     "metadata": {},
     "output_type": "display_data"
    },
    {
     "data": {
      "text/html": [
       "<style>\n",
       "    table.wandb td:nth-child(1) { padding: 0 10px; text-align: left ; width: auto;} td:nth-child(2) {text-align: left ; width: 100%}\n",
       "    .wandb-row { display: flex; flex-direction: row; flex-wrap: wrap; justify-content: flex-start; width: 100% }\n",
       "    .wandb-col { display: flex; flex-direction: column; flex-basis: 100%; flex: 1; padding: 10px; }\n",
       "    </style>\n",
       "<div class=\"wandb-row\"><div class=\"wandb-col\"><h3>Run history:</h3><br/><table class=\"wandb\"><tr><td>epoch</td><td>▁▂▃▅▆▇█</td></tr><tr><td>inference_accuracy</td><td>▁</td></tr><tr><td>inference_loss</td><td>▁</td></tr><tr><td>test_acc</td><td>▁▆█████</td></tr><tr><td>test_f1</td><td>▁▆█████</td></tr><tr><td>test_loss</td><td>█▄▂▁▁▁▁</td></tr><tr><td>test_precision</td><td>▁▆█████</td></tr><tr><td>test_recall</td><td>▁▆█████</td></tr><tr><td>train_acc</td><td>▁▅▇████</td></tr><tr><td>train_f1</td><td>▁▅▇████</td></tr><tr><td>train_loss</td><td>█▄▂▂▁▁▁</td></tr><tr><td>train_precision</td><td>▁▆▇████</td></tr><tr><td>train_recall</td><td>▁▅▇████</td></tr></table><br/></div><div class=\"wandb-col\"><h3>Run summary:</h3><br/><table class=\"wandb\"><tr><td>epoch</td><td>7</td></tr><tr><td>inference_accuracy</td><td>0.86389</td></tr><tr><td>inference_loss</td><td>0.7545</td></tr><tr><td>test_acc</td><td>0.875</td></tr><tr><td>test_f1</td><td>0.86425</td></tr><tr><td>test_loss</td><td>0.77321</td></tr><tr><td>test_precision</td><td>0.86692</td></tr><tr><td>test_recall</td><td>0.86667</td></tr><tr><td>train_acc</td><td>0.86389</td></tr><tr><td>train_f1</td><td>0.8633</td></tr><tr><td>train_loss</td><td>0.75439</td></tr><tr><td>train_precision</td><td>0.86649</td></tr><tr><td>train_recall</td><td>0.86389</td></tr><tr><td>train_time</td><td>00:05:34</td></tr></table><br/></div></div>"
      ],
      "text/plain": [
       "<IPython.core.display.HTML object>"
      ]
     },
     "metadata": {},
     "output_type": "display_data"
    },
    {
     "data": {
      "text/html": [
       " View run <strong style=\"color:#cdcd00\">daily-sweep-77</strong> at: <a href='https://wandb.ai/andberg9-self/AST_Sweeps/runs/ao6slgbx' target=\"_blank\">https://wandb.ai/andberg9-self/AST_Sweeps/runs/ao6slgbx</a><br/> View project at: <a href='https://wandb.ai/andberg9-self/AST_Sweeps' target=\"_blank\">https://wandb.ai/andberg9-self/AST_Sweeps</a><br/>Synced 5 W&B file(s), 0 media file(s), 0 artifact file(s) and 0 other file(s)"
      ],
      "text/plain": [
       "<IPython.core.display.HTML object>"
      ]
     },
     "metadata": {},
     "output_type": "display_data"
    },
    {
     "data": {
      "text/html": [
       "Find logs at: <code>.\\wandb\\run-20240925_182259-ao6slgbx\\logs</code>"
      ],
      "text/plain": [
       "<IPython.core.display.HTML object>"
      ]
     },
     "metadata": {},
     "output_type": "display_data"
    },
    {
     "name": "stderr",
     "output_type": "stream",
     "text": [
      "wandb: Agent Starting Run: eg3tjpd3 with config:\n",
      "wandb: \tbatch_size: 8\n",
      "wandb: \tepochs: 7\n",
      "wandb: \tlearning_rate: 0.00022279951979117932\n",
      "wandb: \toptimizer: adamW\n",
      "wandb: \tscheduler: PolynomialLR\n"
     ]
    },
    {
     "data": {
      "text/html": [
       "Tracking run with wandb version 0.18.1"
      ],
      "text/plain": [
       "<IPython.core.display.HTML object>"
      ]
     },
     "metadata": {},
     "output_type": "display_data"
    },
    {
     "data": {
      "text/html": [
       "Run data is saved locally in <code>c:\\Users\\Sidewinders\\Research_notebooks\\Drone_classification\\Research\\notebooks\\wandb\\run-20240925_182900-eg3tjpd3</code>"
      ],
      "text/plain": [
       "<IPython.core.display.HTML object>"
      ]
     },
     "metadata": {},
     "output_type": "display_data"
    },
    {
     "data": {
      "text/html": [
       "Syncing run <strong><a href='https://wandb.ai/andberg9-self/AST_Sweeps/runs/eg3tjpd3' target=\"_blank\">vocal-sweep-78</a></strong> to <a href='https://wandb.ai/andberg9-self/AST_Sweeps' target=\"_blank\">Weights & Biases</a> (<a href='https://wandb.me/run' target=\"_blank\">docs</a>)<br/>Sweep page: <a href='https://wandb.ai/andberg9-self/AST_Sweeps/sweeps/ange3go8' target=\"_blank\">https://wandb.ai/andberg9-self/AST_Sweeps/sweeps/ange3go8</a>"
      ],
      "text/plain": [
       "<IPython.core.display.HTML object>"
      ]
     },
     "metadata": {},
     "output_type": "display_data"
    },
    {
     "data": {
      "text/html": [
       " View project at <a href='https://wandb.ai/andberg9-self/AST_Sweeps' target=\"_blank\">https://wandb.ai/andberg9-self/AST_Sweeps</a>"
      ],
      "text/plain": [
       "<IPython.core.display.HTML object>"
      ]
     },
     "metadata": {},
     "output_type": "display_data"
    },
    {
     "data": {
      "text/html": [
       " View sweep at <a href='https://wandb.ai/andberg9-self/AST_Sweeps/sweeps/ange3go8' target=\"_blank\">https://wandb.ai/andberg9-self/AST_Sweeps/sweeps/ange3go8</a>"
      ],
      "text/plain": [
       "<IPython.core.display.HTML object>"
      ]
     },
     "metadata": {},
     "output_type": "display_data"
    },
    {
     "data": {
      "text/html": [
       " View run at <a href='https://wandb.ai/andberg9-self/AST_Sweeps/runs/eg3tjpd3' target=\"_blank\">https://wandb.ai/andberg9-self/AST_Sweeps/runs/eg3tjpd3</a>"
      ],
      "text/plain": [
       "<IPython.core.display.HTML object>"
      ]
     },
     "metadata": {},
     "output_type": "display_data"
    },
    {
     "name": "stdout",
     "output_type": "stream",
     "text": [
      "ASTForAudioClassification(\n",
      "  (audio_spectrogram_transformer): ASTModel(\n",
      "    (embeddings): ASTEmbeddings(\n",
      "      (patch_embeddings): ASTPatchEmbeddings(\n",
      "        (projection): Conv2d(1, 768, kernel_size=(16, 16), stride=(10, 10))\n",
      "      )\n",
      "      (dropout): Dropout(p=0.0, inplace=False)\n",
      "    )\n",
      "    (encoder): ASTEncoder(\n",
      "      (layer): ModuleList(\n",
      "        (0-11): 12 x ASTLayer(\n",
      "          (attention): ASTSdpaAttention(\n",
      "            (attention): ASTSdpaSelfAttention(\n",
      "              (query): Linear(in_features=768, out_features=768, bias=True)\n",
      "              (key): Linear(in_features=768, out_features=768, bias=True)\n",
      "              (value): Linear(in_features=768, out_features=768, bias=True)\n",
      "              (dropout): Dropout(p=0.0, inplace=False)\n",
      "            )\n",
      "            (output): ASTSelfOutput(\n",
      "              (dense): Linear(in_features=768, out_features=768, bias=True)\n",
      "              (dropout): Dropout(p=0.0, inplace=False)\n",
      "            )\n",
      "          )\n",
      "          (intermediate): ASTIntermediate(\n",
      "            (dense): Linear(in_features=768, out_features=3072, bias=True)\n",
      "            (intermediate_act_fn): GELUActivation()\n",
      "          )\n",
      "          (output): ASTOutput(\n",
      "            (dense): Linear(in_features=3072, out_features=768, bias=True)\n",
      "            (dropout): Dropout(p=0.0, inplace=False)\n",
      "          )\n",
      "          (layernorm_before): LayerNorm((768,), eps=1e-12, elementwise_affine=True)\n",
      "          (layernorm_after): LayerNorm((768,), eps=1e-12, elementwise_affine=True)\n",
      "        )\n",
      "      )\n",
      "    )\n",
      "    (layernorm): LayerNorm((768,), eps=1e-12, elementwise_affine=True)\n",
      "  )\n",
      "  (classifier): ASTMLPHead(\n",
      "    (layernorm): LayerNorm((768,), eps=1e-12, elementwise_affine=True)\n",
      "    (dense): Linear(in_features=768, out_features=9, bias=True)\n",
      "  )\n",
      ")\n"
     ]
    },
    {
     "data": {
      "application/vnd.jupyter.widget-view+json": {
       "model_id": "5ab43b6f5ff44a16979c428a4f13ec82",
       "version_major": 2,
       "version_minor": 0
      },
      "text/plain": [
       "  0%|          | 0/7 [00:00<?, ?it/s]"
      ]
     },
     "metadata": {},
     "output_type": "display_data"
    },
    {
     "name": "stdout",
     "output_type": "stream",
     "text": [
      "Epoch 1/7 | Train Loss: 2.0154 | Train Acc: 0.3472 | Train F1: 0.3431 | Test Loss: 1.6403 | Test Acc: 0.5707 | Test F1: 0.5508\n",
      "Epoch 2/7 | Train Loss: 1.4063 | Train Acc: 0.7167 | Train F1: 0.7103 | Test Loss: 1.2166 | Test Acc: 0.7772 | Test F1: 0.7674\n",
      "Epoch 3/7 | Train Loss: 1.1064 | Train Acc: 0.8000 | Train F1: 0.7955 | Test Loss: 1.0238 | Test Acc: 0.8315 | Test F1: 0.8286\n",
      "Epoch 4/7 | Train Loss: 0.9532 | Train Acc: 0.8222 | Train F1: 0.8191 | Test Loss: 0.9347 | Test Acc: 0.8424 | Test F1: 0.8445\n",
      "Epoch 5/7 | Train Loss: 0.8810 | Train Acc: 0.8389 | Train F1: 0.8364 | Test Loss: 0.8874 | Test Acc: 0.8641 | Test F1: 0.8598\n",
      "Epoch 6/7 | Train Loss: 0.8579 | Train Acc: 0.8444 | Train F1: 0.8422 | Test Loss: 0.8760 | Test Acc: 0.8641 | Test F1: 0.8598\n",
      "Epoch 7/7 | Train Loss: 0.8579 | Train Acc: 0.8444 | Train F1: 0.8422 | Test Loss: 0.8777 | Test Acc: 0.8641 | Test F1: 0.8598\n",
      "Train time on cuda: 333.60435359999974\n",
      "Inference Loss: 0.8579, Accuracy: 84.44%\n"
     ]
    },
    {
     "data": {
      "application/vnd.jupyter.widget-view+json": {
       "model_id": "61b2a4d937544b68991c54a2bdfc3c70",
       "version_major": 2,
       "version_minor": 0
      },
      "text/plain": [
       "VBox(children=(Label(value='0.008 MB of 0.008 MB uploaded\\r'), FloatProgress(value=1.0, max=1.0)))"
      ]
     },
     "metadata": {},
     "output_type": "display_data"
    },
    {
     "data": {
      "text/html": [
       "<style>\n",
       "    table.wandb td:nth-child(1) { padding: 0 10px; text-align: left ; width: auto;} td:nth-child(2) {text-align: left ; width: 100%}\n",
       "    .wandb-row { display: flex; flex-direction: row; flex-wrap: wrap; justify-content: flex-start; width: 100% }\n",
       "    .wandb-col { display: flex; flex-direction: column; flex-basis: 100%; flex: 1; padding: 10px; }\n",
       "    </style>\n",
       "<div class=\"wandb-row\"><div class=\"wandb-col\"><h3>Run history:</h3><br/><table class=\"wandb\"><tr><td>epoch</td><td>▁▂▃▅▆▇█</td></tr><tr><td>inference_accuracy</td><td>▁</td></tr><tr><td>inference_loss</td><td>▁</td></tr><tr><td>test_acc</td><td>▁▆▇▇███</td></tr><tr><td>test_f1</td><td>▁▆▇████</td></tr><tr><td>test_loss</td><td>█▄▂▂▁▁▁</td></tr><tr><td>test_precision</td><td>▁▄▇████</td></tr><tr><td>test_recall</td><td>▁▆▇████</td></tr><tr><td>train_acc</td><td>▁▆▇████</td></tr><tr><td>train_f1</td><td>▁▆▇████</td></tr><tr><td>train_loss</td><td>█▄▃▂▁▁▁</td></tr><tr><td>train_precision</td><td>▁▆▇████</td></tr><tr><td>train_recall</td><td>▁▆▇████</td></tr></table><br/></div><div class=\"wandb-col\"><h3>Run summary:</h3><br/><table class=\"wandb\"><tr><td>epoch</td><td>7</td></tr><tr><td>inference_accuracy</td><td>0.84444</td></tr><tr><td>inference_loss</td><td>0.85785</td></tr><tr><td>test_acc</td><td>0.86413</td></tr><tr><td>test_f1</td><td>0.85978</td></tr><tr><td>test_loss</td><td>0.87773</td></tr><tr><td>test_precision</td><td>0.87204</td></tr><tr><td>test_recall</td><td>0.86111</td></tr><tr><td>train_acc</td><td>0.84444</td></tr><tr><td>train_f1</td><td>0.84218</td></tr><tr><td>train_loss</td><td>0.85788</td></tr><tr><td>train_precision</td><td>0.84532</td></tr><tr><td>train_recall</td><td>0.84444</td></tr><tr><td>train_time</td><td>00:05:33</td></tr></table><br/></div></div>"
      ],
      "text/plain": [
       "<IPython.core.display.HTML object>"
      ]
     },
     "metadata": {},
     "output_type": "display_data"
    },
    {
     "data": {
      "text/html": [
       " View run <strong style=\"color:#cdcd00\">vocal-sweep-78</strong> at: <a href='https://wandb.ai/andberg9-self/AST_Sweeps/runs/eg3tjpd3' target=\"_blank\">https://wandb.ai/andberg9-self/AST_Sweeps/runs/eg3tjpd3</a><br/> View project at: <a href='https://wandb.ai/andberg9-self/AST_Sweeps' target=\"_blank\">https://wandb.ai/andberg9-self/AST_Sweeps</a><br/>Synced 5 W&B file(s), 0 media file(s), 0 artifact file(s) and 0 other file(s)"
      ],
      "text/plain": [
       "<IPython.core.display.HTML object>"
      ]
     },
     "metadata": {},
     "output_type": "display_data"
    },
    {
     "data": {
      "text/html": [
       "Find logs at: <code>.\\wandb\\run-20240925_182900-eg3tjpd3\\logs</code>"
      ],
      "text/plain": [
       "<IPython.core.display.HTML object>"
      ]
     },
     "metadata": {},
     "output_type": "display_data"
    },
    {
     "name": "stderr",
     "output_type": "stream",
     "text": [
      "wandb: Agent Starting Run: 4vbro3lj with config:\n",
      "wandb: \tbatch_size: 4\n",
      "wandb: \tepochs: 7\n",
      "wandb: \tlearning_rate: 0.000915153853097595\n",
      "wandb: \toptimizer: adamW\n",
      "wandb: \tscheduler: PolynomialLR\n"
     ]
    },
    {
     "data": {
      "text/html": [
       "Tracking run with wandb version 0.18.1"
      ],
      "text/plain": [
       "<IPython.core.display.HTML object>"
      ]
     },
     "metadata": {},
     "output_type": "display_data"
    },
    {
     "data": {
      "text/html": [
       "Run data is saved locally in <code>c:\\Users\\Sidewinders\\Research_notebooks\\Drone_classification\\Research\\notebooks\\wandb\\run-20240925_183455-4vbro3lj</code>"
      ],
      "text/plain": [
       "<IPython.core.display.HTML object>"
      ]
     },
     "metadata": {},
     "output_type": "display_data"
    },
    {
     "data": {
      "text/html": [
       "Syncing run <strong><a href='https://wandb.ai/andberg9-self/AST_Sweeps/runs/4vbro3lj' target=\"_blank\">silver-sweep-79</a></strong> to <a href='https://wandb.ai/andberg9-self/AST_Sweeps' target=\"_blank\">Weights & Biases</a> (<a href='https://wandb.me/run' target=\"_blank\">docs</a>)<br/>Sweep page: <a href='https://wandb.ai/andberg9-self/AST_Sweeps/sweeps/ange3go8' target=\"_blank\">https://wandb.ai/andberg9-self/AST_Sweeps/sweeps/ange3go8</a>"
      ],
      "text/plain": [
       "<IPython.core.display.HTML object>"
      ]
     },
     "metadata": {},
     "output_type": "display_data"
    },
    {
     "data": {
      "text/html": [
       " View project at <a href='https://wandb.ai/andberg9-self/AST_Sweeps' target=\"_blank\">https://wandb.ai/andberg9-self/AST_Sweeps</a>"
      ],
      "text/plain": [
       "<IPython.core.display.HTML object>"
      ]
     },
     "metadata": {},
     "output_type": "display_data"
    },
    {
     "data": {
      "text/html": [
       " View sweep at <a href='https://wandb.ai/andberg9-self/AST_Sweeps/sweeps/ange3go8' target=\"_blank\">https://wandb.ai/andberg9-self/AST_Sweeps/sweeps/ange3go8</a>"
      ],
      "text/plain": [
       "<IPython.core.display.HTML object>"
      ]
     },
     "metadata": {},
     "output_type": "display_data"
    },
    {
     "data": {
      "text/html": [
       " View run at <a href='https://wandb.ai/andberg9-self/AST_Sweeps/runs/4vbro3lj' target=\"_blank\">https://wandb.ai/andberg9-self/AST_Sweeps/runs/4vbro3lj</a>"
      ],
      "text/plain": [
       "<IPython.core.display.HTML object>"
      ]
     },
     "metadata": {},
     "output_type": "display_data"
    },
    {
     "name": "stdout",
     "output_type": "stream",
     "text": [
      "ASTForAudioClassification(\n",
      "  (audio_spectrogram_transformer): ASTModel(\n",
      "    (embeddings): ASTEmbeddings(\n",
      "      (patch_embeddings): ASTPatchEmbeddings(\n",
      "        (projection): Conv2d(1, 768, kernel_size=(16, 16), stride=(10, 10))\n",
      "      )\n",
      "      (dropout): Dropout(p=0.0, inplace=False)\n",
      "    )\n",
      "    (encoder): ASTEncoder(\n",
      "      (layer): ModuleList(\n",
      "        (0-11): 12 x ASTLayer(\n",
      "          (attention): ASTSdpaAttention(\n",
      "            (attention): ASTSdpaSelfAttention(\n",
      "              (query): Linear(in_features=768, out_features=768, bias=True)\n",
      "              (key): Linear(in_features=768, out_features=768, bias=True)\n",
      "              (value): Linear(in_features=768, out_features=768, bias=True)\n",
      "              (dropout): Dropout(p=0.0, inplace=False)\n",
      "            )\n",
      "            (output): ASTSelfOutput(\n",
      "              (dense): Linear(in_features=768, out_features=768, bias=True)\n",
      "              (dropout): Dropout(p=0.0, inplace=False)\n",
      "            )\n",
      "          )\n",
      "          (intermediate): ASTIntermediate(\n",
      "            (dense): Linear(in_features=768, out_features=3072, bias=True)\n",
      "            (intermediate_act_fn): GELUActivation()\n",
      "          )\n",
      "          (output): ASTOutput(\n",
      "            (dense): Linear(in_features=3072, out_features=768, bias=True)\n",
      "            (dropout): Dropout(p=0.0, inplace=False)\n",
      "          )\n",
      "          (layernorm_before): LayerNorm((768,), eps=1e-12, elementwise_affine=True)\n",
      "          (layernorm_after): LayerNorm((768,), eps=1e-12, elementwise_affine=True)\n",
      "        )\n",
      "      )\n",
      "    )\n",
      "    (layernorm): LayerNorm((768,), eps=1e-12, elementwise_affine=True)\n",
      "  )\n",
      "  (classifier): ASTMLPHead(\n",
      "    (layernorm): LayerNorm((768,), eps=1e-12, elementwise_affine=True)\n",
      "    (dense): Linear(in_features=768, out_features=9, bias=True)\n",
      "  )\n",
      ")\n"
     ]
    },
    {
     "data": {
      "application/vnd.jupyter.widget-view+json": {
       "model_id": "a9689e83145b4c8591ea2c53ce05120c",
       "version_major": 2,
       "version_minor": 0
      },
      "text/plain": [
       "  0%|          | 0/7 [00:00<?, ?it/s]"
      ]
     },
     "metadata": {},
     "output_type": "display_data"
    },
    {
     "name": "stdout",
     "output_type": "stream",
     "text": [
      "Epoch 1/7 | Train Loss: 1.0666 | Train Acc: 0.6653 | Train F1: 0.6647 | Test Loss: 0.4867 | Test Acc: 0.8833 | Test F1: 0.8802\n",
      "Epoch 2/7 | Train Loss: 0.3841 | Train Acc: 0.9042 | Train F1: 0.9041 | Test Loss: 0.3213 | Test Acc: 0.9333 | Test F1: 0.9328\n",
      "Epoch 3/7 | Train Loss: 0.2878 | Train Acc: 0.9306 | Train F1: 0.9311 | Test Loss: 0.2660 | Test Acc: 0.9500 | Test F1: 0.9505\n",
      "Epoch 4/7 | Train Loss: 0.2389 | Train Acc: 0.9486 | Train F1: 0.9485 | Test Loss: 0.2362 | Test Acc: 0.9667 | Test F1: 0.9669\n",
      "Epoch 5/7 | Train Loss: 0.2116 | Train Acc: 0.9583 | Train F1: 0.9583 | Test Loss: 0.2332 | Test Acc: 0.9667 | Test F1: 0.9669\n",
      "Epoch 6/7 | Train Loss: 0.1994 | Train Acc: 0.9639 | Train F1: 0.9640 | Test Loss: 0.2332 | Test Acc: 0.9667 | Test F1: 0.9669\n",
      "Epoch 7/7 | Train Loss: 0.1994 | Train Acc: 0.9639 | Train F1: 0.9640 | Test Loss: 0.2332 | Test Acc: 0.9667 | Test F1: 0.9669\n",
      "Train time on cuda: 330.51596869999776\n",
      "Inference Loss: 0.1994, Accuracy: 96.39%\n"
     ]
    },
    {
     "data": {
      "application/vnd.jupyter.widget-view+json": {
       "model_id": "264c2458a7744bada1b783f8de8b315f",
       "version_major": 2,
       "version_minor": 0
      },
      "text/plain": [
       "VBox(children=(Label(value='0.008 MB of 0.008 MB uploaded\\r'), FloatProgress(value=1.0, max=1.0)))"
      ]
     },
     "metadata": {},
     "output_type": "display_data"
    },
    {
     "data": {
      "text/html": [
       "<style>\n",
       "    table.wandb td:nth-child(1) { padding: 0 10px; text-align: left ; width: auto;} td:nth-child(2) {text-align: left ; width: 100%}\n",
       "    .wandb-row { display: flex; flex-direction: row; flex-wrap: wrap; justify-content: flex-start; width: 100% }\n",
       "    .wandb-col { display: flex; flex-direction: column; flex-basis: 100%; flex: 1; padding: 10px; }\n",
       "    </style>\n",
       "<div class=\"wandb-row\"><div class=\"wandb-col\"><h3>Run history:</h3><br/><table class=\"wandb\"><tr><td>epoch</td><td>▁▂▃▅▆▇█</td></tr><tr><td>inference_accuracy</td><td>▁</td></tr><tr><td>inference_loss</td><td>▁</td></tr><tr><td>test_acc</td><td>▁▅▇████</td></tr><tr><td>test_f1</td><td>▁▅▇████</td></tr><tr><td>test_loss</td><td>█▃▂▁▁▁▁</td></tr><tr><td>test_precision</td><td>▁▅▇████</td></tr><tr><td>test_recall</td><td>▁▅▇████</td></tr><tr><td>train_acc</td><td>▁▇▇████</td></tr><tr><td>train_f1</td><td>▁▇▇████</td></tr><tr><td>train_loss</td><td>█▂▂▁▁▁▁</td></tr><tr><td>train_precision</td><td>▁▇▇████</td></tr><tr><td>train_recall</td><td>▁▇▇████</td></tr></table><br/></div><div class=\"wandb-col\"><h3>Run summary:</h3><br/><table class=\"wandb\"><tr><td>epoch</td><td>7</td></tr><tr><td>inference_accuracy</td><td>0.96389</td></tr><tr><td>inference_loss</td><td>0.19942</td></tr><tr><td>test_acc</td><td>0.96667</td></tr><tr><td>test_f1</td><td>0.96692</td></tr><tr><td>test_loss</td><td>0.23322</td></tr><tr><td>test_precision</td><td>0.97135</td></tr><tr><td>test_recall</td><td>0.96667</td></tr><tr><td>train_acc</td><td>0.96389</td></tr><tr><td>train_f1</td><td>0.96397</td></tr><tr><td>train_loss</td><td>0.19941</td></tr><tr><td>train_precision</td><td>0.96424</td></tr><tr><td>train_recall</td><td>0.96389</td></tr><tr><td>train_time</td><td>00:05:30</td></tr></table><br/></div></div>"
      ],
      "text/plain": [
       "<IPython.core.display.HTML object>"
      ]
     },
     "metadata": {},
     "output_type": "display_data"
    },
    {
     "data": {
      "text/html": [
       " View run <strong style=\"color:#cdcd00\">silver-sweep-79</strong> at: <a href='https://wandb.ai/andberg9-self/AST_Sweeps/runs/4vbro3lj' target=\"_blank\">https://wandb.ai/andberg9-self/AST_Sweeps/runs/4vbro3lj</a><br/> View project at: <a href='https://wandb.ai/andberg9-self/AST_Sweeps' target=\"_blank\">https://wandb.ai/andberg9-self/AST_Sweeps</a><br/>Synced 5 W&B file(s), 0 media file(s), 0 artifact file(s) and 0 other file(s)"
      ],
      "text/plain": [
       "<IPython.core.display.HTML object>"
      ]
     },
     "metadata": {},
     "output_type": "display_data"
    },
    {
     "data": {
      "text/html": [
       "Find logs at: <code>.\\wandb\\run-20240925_183455-4vbro3lj\\logs</code>"
      ],
      "text/plain": [
       "<IPython.core.display.HTML object>"
      ]
     },
     "metadata": {},
     "output_type": "display_data"
    },
    {
     "name": "stderr",
     "output_type": "stream",
     "text": [
      "wandb: Agent Starting Run: f2pe4m6r with config:\n",
      "wandb: \tbatch_size: 4\n",
      "wandb: \tepochs: 7\n",
      "wandb: \tlearning_rate: 0.00017248641280476223\n",
      "wandb: \toptimizer: adamW\n",
      "wandb: \tscheduler: PolynomialLR\n"
     ]
    },
    {
     "data": {
      "text/html": [
       "Tracking run with wandb version 0.18.1"
      ],
      "text/plain": [
       "<IPython.core.display.HTML object>"
      ]
     },
     "metadata": {},
     "output_type": "display_data"
    },
    {
     "data": {
      "text/html": [
       "Run data is saved locally in <code>c:\\Users\\Sidewinders\\Research_notebooks\\Drone_classification\\Research\\notebooks\\wandb\\run-20240925_184051-f2pe4m6r</code>"
      ],
      "text/plain": [
       "<IPython.core.display.HTML object>"
      ]
     },
     "metadata": {},
     "output_type": "display_data"
    },
    {
     "data": {
      "text/html": [
       "Syncing run <strong><a href='https://wandb.ai/andberg9-self/AST_Sweeps/runs/f2pe4m6r' target=\"_blank\">proud-sweep-80</a></strong> to <a href='https://wandb.ai/andberg9-self/AST_Sweeps' target=\"_blank\">Weights & Biases</a> (<a href='https://wandb.me/run' target=\"_blank\">docs</a>)<br/>Sweep page: <a href='https://wandb.ai/andberg9-self/AST_Sweeps/sweeps/ange3go8' target=\"_blank\">https://wandb.ai/andberg9-self/AST_Sweeps/sweeps/ange3go8</a>"
      ],
      "text/plain": [
       "<IPython.core.display.HTML object>"
      ]
     },
     "metadata": {},
     "output_type": "display_data"
    },
    {
     "data": {
      "text/html": [
       " View project at <a href='https://wandb.ai/andberg9-self/AST_Sweeps' target=\"_blank\">https://wandb.ai/andberg9-self/AST_Sweeps</a>"
      ],
      "text/plain": [
       "<IPython.core.display.HTML object>"
      ]
     },
     "metadata": {},
     "output_type": "display_data"
    },
    {
     "data": {
      "text/html": [
       " View sweep at <a href='https://wandb.ai/andberg9-self/AST_Sweeps/sweeps/ange3go8' target=\"_blank\">https://wandb.ai/andberg9-self/AST_Sweeps/sweeps/ange3go8</a>"
      ],
      "text/plain": [
       "<IPython.core.display.HTML object>"
      ]
     },
     "metadata": {},
     "output_type": "display_data"
    },
    {
     "data": {
      "text/html": [
       " View run at <a href='https://wandb.ai/andberg9-self/AST_Sweeps/runs/f2pe4m6r' target=\"_blank\">https://wandb.ai/andberg9-self/AST_Sweeps/runs/f2pe4m6r</a>"
      ],
      "text/plain": [
       "<IPython.core.display.HTML object>"
      ]
     },
     "metadata": {},
     "output_type": "display_data"
    },
    {
     "name": "stdout",
     "output_type": "stream",
     "text": [
      "ASTForAudioClassification(\n",
      "  (audio_spectrogram_transformer): ASTModel(\n",
      "    (embeddings): ASTEmbeddings(\n",
      "      (patch_embeddings): ASTPatchEmbeddings(\n",
      "        (projection): Conv2d(1, 768, kernel_size=(16, 16), stride=(10, 10))\n",
      "      )\n",
      "      (dropout): Dropout(p=0.0, inplace=False)\n",
      "    )\n",
      "    (encoder): ASTEncoder(\n",
      "      (layer): ModuleList(\n",
      "        (0-11): 12 x ASTLayer(\n",
      "          (attention): ASTSdpaAttention(\n",
      "            (attention): ASTSdpaSelfAttention(\n",
      "              (query): Linear(in_features=768, out_features=768, bias=True)\n",
      "              (key): Linear(in_features=768, out_features=768, bias=True)\n",
      "              (value): Linear(in_features=768, out_features=768, bias=True)\n",
      "              (dropout): Dropout(p=0.0, inplace=False)\n",
      "            )\n",
      "            (output): ASTSelfOutput(\n",
      "              (dense): Linear(in_features=768, out_features=768, bias=True)\n",
      "              (dropout): Dropout(p=0.0, inplace=False)\n",
      "            )\n",
      "          )\n",
      "          (intermediate): ASTIntermediate(\n",
      "            (dense): Linear(in_features=768, out_features=3072, bias=True)\n",
      "            (intermediate_act_fn): GELUActivation()\n",
      "          )\n",
      "          (output): ASTOutput(\n",
      "            (dense): Linear(in_features=3072, out_features=768, bias=True)\n",
      "            (dropout): Dropout(p=0.0, inplace=False)\n",
      "          )\n",
      "          (layernorm_before): LayerNorm((768,), eps=1e-12, elementwise_affine=True)\n",
      "          (layernorm_after): LayerNorm((768,), eps=1e-12, elementwise_affine=True)\n",
      "        )\n",
      "      )\n",
      "    )\n",
      "    (layernorm): LayerNorm((768,), eps=1e-12, elementwise_affine=True)\n",
      "  )\n",
      "  (classifier): ASTMLPHead(\n",
      "    (layernorm): LayerNorm((768,), eps=1e-12, elementwise_affine=True)\n",
      "    (dense): Linear(in_features=768, out_features=9, bias=True)\n",
      "  )\n",
      ")\n"
     ]
    },
    {
     "data": {
      "application/vnd.jupyter.widget-view+json": {
       "model_id": "83ca371eb3c044d5a4b413204c4a37c7",
       "version_major": 2,
       "version_minor": 0
      },
      "text/plain": [
       "  0%|          | 0/7 [00:00<?, ?it/s]"
      ]
     },
     "metadata": {},
     "output_type": "display_data"
    },
    {
     "name": "stdout",
     "output_type": "stream",
     "text": [
      "Epoch 1/7 | Train Loss: 1.7276 | Train Acc: 0.4861 | Train F1: 0.4868 | Test Loss: 1.3518 | Test Acc: 0.7444 | Test F1: 0.7390\n",
      "Epoch 2/7 | Train Loss: 1.1193 | Train Acc: 0.7972 | Train F1: 0.7954 | Test Loss: 0.9867 | Test Acc: 0.8278 | Test F1: 0.8258\n",
      "Epoch 3/7 | Train Loss: 0.8715 | Train Acc: 0.8458 | Train F1: 0.8425 | Test Loss: 0.8238 | Test Acc: 0.8500 | Test F1: 0.8512\n",
      "Epoch 4/7 | Train Loss: 0.7546 | Train Acc: 0.8806 | Train F1: 0.8806 | Test Loss: 0.7431 | Test Acc: 0.8722 | Test F1: 0.8721\n",
      "Epoch 5/7 | Train Loss: 0.6956 | Train Acc: 0.8931 | Train F1: 0.8924 | Test Loss: 0.7077 | Test Acc: 0.8722 | Test F1: 0.8730\n",
      "Epoch 6/7 | Train Loss: 0.6756 | Train Acc: 0.9000 | Train F1: 0.8996 | Test Loss: 0.7077 | Test Acc: 0.8722 | Test F1: 0.8730\n",
      "Epoch 7/7 | Train Loss: 0.6756 | Train Acc: 0.9000 | Train F1: 0.8996 | Test Loss: 0.7077 | Test Acc: 0.8722 | Test F1: 0.8730\n",
      "Train time on cuda: 330.74654250000094\n",
      "Inference Loss: 0.6757, Accuracy: 90.00%\n"
     ]
    },
    {
     "data": {
      "application/vnd.jupyter.widget-view+json": {
       "model_id": "b6affce77be6481aa0f635611cb2fe65",
       "version_major": 2,
       "version_minor": 0
      },
      "text/plain": [
       "VBox(children=(Label(value='0.008 MB of 0.008 MB uploaded\\r'), FloatProgress(value=1.0, max=1.0)))"
      ]
     },
     "metadata": {},
     "output_type": "display_data"
    },
    {
     "data": {
      "text/html": [
       "<style>\n",
       "    table.wandb td:nth-child(1) { padding: 0 10px; text-align: left ; width: auto;} td:nth-child(2) {text-align: left ; width: 100%}\n",
       "    .wandb-row { display: flex; flex-direction: row; flex-wrap: wrap; justify-content: flex-start; width: 100% }\n",
       "    .wandb-col { display: flex; flex-direction: column; flex-basis: 100%; flex: 1; padding: 10px; }\n",
       "    </style>\n",
       "<div class=\"wandb-row\"><div class=\"wandb-col\"><h3>Run history:</h3><br/><table class=\"wandb\"><tr><td>epoch</td><td>▁▂▃▅▆▇█</td></tr><tr><td>inference_accuracy</td><td>▁</td></tr><tr><td>inference_loss</td><td>▁</td></tr><tr><td>test_acc</td><td>▁▆▇████</td></tr><tr><td>test_f1</td><td>▁▆▇████</td></tr><tr><td>test_loss</td><td>█▄▂▁▁▁▁</td></tr><tr><td>test_precision</td><td>▁▆▇████</td></tr><tr><td>test_recall</td><td>▁▆▇████</td></tr><tr><td>train_acc</td><td>▁▆▇████</td></tr><tr><td>train_f1</td><td>▁▆▇████</td></tr><tr><td>train_loss</td><td>█▄▂▂▁▁▁</td></tr><tr><td>train_precision</td><td>▁▆▇████</td></tr><tr><td>train_recall</td><td>▁▆▇████</td></tr></table><br/></div><div class=\"wandb-col\"><h3>Run summary:</h3><br/><table class=\"wandb\"><tr><td>epoch</td><td>7</td></tr><tr><td>inference_accuracy</td><td>0.9</td></tr><tr><td>inference_loss</td><td>0.67567</td></tr><tr><td>test_acc</td><td>0.87222</td></tr><tr><td>test_f1</td><td>0.87304</td></tr><tr><td>test_loss</td><td>0.70765</td></tr><tr><td>test_precision</td><td>0.88582</td></tr><tr><td>test_recall</td><td>0.87222</td></tr><tr><td>train_acc</td><td>0.9</td></tr><tr><td>train_f1</td><td>0.89957</td></tr><tr><td>train_loss</td><td>0.6756</td></tr><tr><td>train_precision</td><td>0.9001</td></tr><tr><td>train_recall</td><td>0.9</td></tr><tr><td>train_time</td><td>00:05:30</td></tr></table><br/></div></div>"
      ],
      "text/plain": [
       "<IPython.core.display.HTML object>"
      ]
     },
     "metadata": {},
     "output_type": "display_data"
    },
    {
     "data": {
      "text/html": [
       " View run <strong style=\"color:#cdcd00\">proud-sweep-80</strong> at: <a href='https://wandb.ai/andberg9-self/AST_Sweeps/runs/f2pe4m6r' target=\"_blank\">https://wandb.ai/andberg9-self/AST_Sweeps/runs/f2pe4m6r</a><br/> View project at: <a href='https://wandb.ai/andberg9-self/AST_Sweeps' target=\"_blank\">https://wandb.ai/andberg9-self/AST_Sweeps</a><br/>Synced 5 W&B file(s), 0 media file(s), 0 artifact file(s) and 0 other file(s)"
      ],
      "text/plain": [
       "<IPython.core.display.HTML object>"
      ]
     },
     "metadata": {},
     "output_type": "display_data"
    },
    {
     "data": {
      "text/html": [
       "Find logs at: <code>.\\wandb\\run-20240925_184051-f2pe4m6r\\logs</code>"
      ],
      "text/plain": [
       "<IPython.core.display.HTML object>"
      ]
     },
     "metadata": {},
     "output_type": "display_data"
    },
    {
     "name": "stderr",
     "output_type": "stream",
     "text": [
      "wandb: Agent Starting Run: 9m06gi2c with config:\n",
      "wandb: \tbatch_size: 8\n",
      "wandb: \tepochs: 7\n",
      "wandb: \tlearning_rate: 0.0009174072384702496\n",
      "wandb: \toptimizer: adamW\n",
      "wandb: \tscheduler: PolynomialLR\n"
     ]
    },
    {
     "data": {
      "text/html": [
       "Tracking run with wandb version 0.18.1"
      ],
      "text/plain": [
       "<IPython.core.display.HTML object>"
      ]
     },
     "metadata": {},
     "output_type": "display_data"
    },
    {
     "data": {
      "text/html": [
       "Run data is saved locally in <code>c:\\Users\\Sidewinders\\Research_notebooks\\Drone_classification\\Research\\notebooks\\wandb\\run-20240925_184646-9m06gi2c</code>"
      ],
      "text/plain": [
       "<IPython.core.display.HTML object>"
      ]
     },
     "metadata": {},
     "output_type": "display_data"
    },
    {
     "data": {
      "text/html": [
       "Syncing run <strong><a href='https://wandb.ai/andberg9-self/AST_Sweeps/runs/9m06gi2c' target=\"_blank\">curious-sweep-81</a></strong> to <a href='https://wandb.ai/andberg9-self/AST_Sweeps' target=\"_blank\">Weights & Biases</a> (<a href='https://wandb.me/run' target=\"_blank\">docs</a>)<br/>Sweep page: <a href='https://wandb.ai/andberg9-self/AST_Sweeps/sweeps/ange3go8' target=\"_blank\">https://wandb.ai/andberg9-self/AST_Sweeps/sweeps/ange3go8</a>"
      ],
      "text/plain": [
       "<IPython.core.display.HTML object>"
      ]
     },
     "metadata": {},
     "output_type": "display_data"
    },
    {
     "data": {
      "text/html": [
       " View project at <a href='https://wandb.ai/andberg9-self/AST_Sweeps' target=\"_blank\">https://wandb.ai/andberg9-self/AST_Sweeps</a>"
      ],
      "text/plain": [
       "<IPython.core.display.HTML object>"
      ]
     },
     "metadata": {},
     "output_type": "display_data"
    },
    {
     "data": {
      "text/html": [
       " View sweep at <a href='https://wandb.ai/andberg9-self/AST_Sweeps/sweeps/ange3go8' target=\"_blank\">https://wandb.ai/andberg9-self/AST_Sweeps/sweeps/ange3go8</a>"
      ],
      "text/plain": [
       "<IPython.core.display.HTML object>"
      ]
     },
     "metadata": {},
     "output_type": "display_data"
    },
    {
     "data": {
      "text/html": [
       " View run at <a href='https://wandb.ai/andberg9-self/AST_Sweeps/runs/9m06gi2c' target=\"_blank\">https://wandb.ai/andberg9-self/AST_Sweeps/runs/9m06gi2c</a>"
      ],
      "text/plain": [
       "<IPython.core.display.HTML object>"
      ]
     },
     "metadata": {},
     "output_type": "display_data"
    },
    {
     "name": "stdout",
     "output_type": "stream",
     "text": [
      "ASTForAudioClassification(\n",
      "  (audio_spectrogram_transformer): ASTModel(\n",
      "    (embeddings): ASTEmbeddings(\n",
      "      (patch_embeddings): ASTPatchEmbeddings(\n",
      "        (projection): Conv2d(1, 768, kernel_size=(16, 16), stride=(10, 10))\n",
      "      )\n",
      "      (dropout): Dropout(p=0.0, inplace=False)\n",
      "    )\n",
      "    (encoder): ASTEncoder(\n",
      "      (layer): ModuleList(\n",
      "        (0-11): 12 x ASTLayer(\n",
      "          (attention): ASTSdpaAttention(\n",
      "            (attention): ASTSdpaSelfAttention(\n",
      "              (query): Linear(in_features=768, out_features=768, bias=True)\n",
      "              (key): Linear(in_features=768, out_features=768, bias=True)\n",
      "              (value): Linear(in_features=768, out_features=768, bias=True)\n",
      "              (dropout): Dropout(p=0.0, inplace=False)\n",
      "            )\n",
      "            (output): ASTSelfOutput(\n",
      "              (dense): Linear(in_features=768, out_features=768, bias=True)\n",
      "              (dropout): Dropout(p=0.0, inplace=False)\n",
      "            )\n",
      "          )\n",
      "          (intermediate): ASTIntermediate(\n",
      "            (dense): Linear(in_features=768, out_features=3072, bias=True)\n",
      "            (intermediate_act_fn): GELUActivation()\n",
      "          )\n",
      "          (output): ASTOutput(\n",
      "            (dense): Linear(in_features=3072, out_features=768, bias=True)\n",
      "            (dropout): Dropout(p=0.0, inplace=False)\n",
      "          )\n",
      "          (layernorm_before): LayerNorm((768,), eps=1e-12, elementwise_affine=True)\n",
      "          (layernorm_after): LayerNorm((768,), eps=1e-12, elementwise_affine=True)\n",
      "        )\n",
      "      )\n",
      "    )\n",
      "    (layernorm): LayerNorm((768,), eps=1e-12, elementwise_affine=True)\n",
      "  )\n",
      "  (classifier): ASTMLPHead(\n",
      "    (layernorm): LayerNorm((768,), eps=1e-12, elementwise_affine=True)\n",
      "    (dense): Linear(in_features=768, out_features=9, bias=True)\n",
      "  )\n",
      ")\n"
     ]
    },
    {
     "data": {
      "application/vnd.jupyter.widget-view+json": {
       "model_id": "1c500518fb0a44d6aea4cf19de8883cb",
       "version_major": 2,
       "version_minor": 0
      },
      "text/plain": [
       "  0%|          | 0/7 [00:00<?, ?it/s]"
      ]
     },
     "metadata": {},
     "output_type": "display_data"
    },
    {
     "name": "stdout",
     "output_type": "stream",
     "text": [
      "Epoch 1/7 | Train Loss: 1.3435 | Train Acc: 0.6042 | Train F1: 0.6007 | Test Loss: 0.7032 | Test Acc: 0.8370 | Test F1: 0.8127\n",
      "Epoch 2/7 | Train Loss: 0.5421 | Train Acc: 0.8583 | Train F1: 0.8568 | Test Loss: 0.4502 | Test Acc: 0.8641 | Test F1: 0.8714\n",
      "Epoch 3/7 | Train Loss: 0.3923 | Train Acc: 0.9097 | Train F1: 0.9106 | Test Loss: 0.3399 | Test Acc: 0.9457 | Test F1: 0.9456\n",
      "Epoch 4/7 | Train Loss: 0.3327 | Train Acc: 0.9306 | Train F1: 0.9310 | Test Loss: 0.3038 | Test Acc: 0.9620 | Test F1: 0.9619\n",
      "Epoch 5/7 | Train Loss: 0.3043 | Train Acc: 0.9417 | Train F1: 0.9418 | Test Loss: 0.3012 | Test Acc: 0.9565 | Test F1: 0.9560\n",
      "Epoch 6/7 | Train Loss: 0.2911 | Train Acc: 0.9472 | Train F1: 0.9475 | Test Loss: 0.2985 | Test Acc: 0.9565 | Test F1: 0.9560\n",
      "Epoch 7/7 | Train Loss: 0.2911 | Train Acc: 0.9472 | Train F1: 0.9475 | Test Loss: 0.2972 | Test Acc: 0.9565 | Test F1: 0.9560\n",
      "Train time on cuda: 333.36595859999943\n",
      "Inference Loss: 0.2911, Accuracy: 94.72%\n"
     ]
    },
    {
     "data": {
      "application/vnd.jupyter.widget-view+json": {
       "model_id": "6a9c708756cf416b81c4ec0cd3e82cf3",
       "version_major": 2,
       "version_minor": 0
      },
      "text/plain": [
       "VBox(children=(Label(value='0.008 MB of 0.008 MB uploaded\\r'), FloatProgress(value=1.0, max=1.0)))"
      ]
     },
     "metadata": {},
     "output_type": "display_data"
    },
    {
     "data": {
      "text/html": [
       "<style>\n",
       "    table.wandb td:nth-child(1) { padding: 0 10px; text-align: left ; width: auto;} td:nth-child(2) {text-align: left ; width: 100%}\n",
       "    .wandb-row { display: flex; flex-direction: row; flex-wrap: wrap; justify-content: flex-start; width: 100% }\n",
       "    .wandb-col { display: flex; flex-direction: column; flex-basis: 100%; flex: 1; padding: 10px; }\n",
       "    </style>\n",
       "<div class=\"wandb-row\"><div class=\"wandb-col\"><h3>Run history:</h3><br/><table class=\"wandb\"><tr><td>epoch</td><td>▁▂▃▅▆▇█</td></tr><tr><td>inference_accuracy</td><td>▁</td></tr><tr><td>inference_loss</td><td>▁</td></tr><tr><td>test_acc</td><td>▁▃▇████</td></tr><tr><td>test_f1</td><td>▁▄▇████</td></tr><tr><td>test_loss</td><td>█▄▂▁▁▁▁</td></tr><tr><td>test_precision</td><td>▁▃▇████</td></tr><tr><td>test_recall</td><td>▁▃▇████</td></tr><tr><td>train_acc</td><td>▁▆▇████</td></tr><tr><td>train_f1</td><td>▁▆▇████</td></tr><tr><td>train_loss</td><td>█▃▂▁▁▁▁</td></tr><tr><td>train_precision</td><td>▁▆▇████</td></tr><tr><td>train_recall</td><td>▁▆▇████</td></tr></table><br/></div><div class=\"wandb-col\"><h3>Run summary:</h3><br/><table class=\"wandb\"><tr><td>epoch</td><td>7</td></tr><tr><td>inference_accuracy</td><td>0.94722</td></tr><tr><td>inference_loss</td><td>0.29114</td></tr><tr><td>test_acc</td><td>0.95652</td></tr><tr><td>test_f1</td><td>0.95601</td></tr><tr><td>test_loss</td><td>0.2972</td></tr><tr><td>test_precision</td><td>0.96557</td></tr><tr><td>test_recall</td><td>0.95556</td></tr><tr><td>train_acc</td><td>0.94722</td></tr><tr><td>train_f1</td><td>0.94752</td></tr><tr><td>train_loss</td><td>0.29108</td></tr><tr><td>train_precision</td><td>0.94803</td></tr><tr><td>train_recall</td><td>0.94722</td></tr><tr><td>train_time</td><td>00:05:33</td></tr></table><br/></div></div>"
      ],
      "text/plain": [
       "<IPython.core.display.HTML object>"
      ]
     },
     "metadata": {},
     "output_type": "display_data"
    },
    {
     "data": {
      "text/html": [
       " View run <strong style=\"color:#cdcd00\">curious-sweep-81</strong> at: <a href='https://wandb.ai/andberg9-self/AST_Sweeps/runs/9m06gi2c' target=\"_blank\">https://wandb.ai/andberg9-self/AST_Sweeps/runs/9m06gi2c</a><br/> View project at: <a href='https://wandb.ai/andberg9-self/AST_Sweeps' target=\"_blank\">https://wandb.ai/andberg9-self/AST_Sweeps</a><br/>Synced 5 W&B file(s), 0 media file(s), 0 artifact file(s) and 0 other file(s)"
      ],
      "text/plain": [
       "<IPython.core.display.HTML object>"
      ]
     },
     "metadata": {},
     "output_type": "display_data"
    },
    {
     "data": {
      "text/html": [
       "Find logs at: <code>.\\wandb\\run-20240925_184646-9m06gi2c\\logs</code>"
      ],
      "text/plain": [
       "<IPython.core.display.HTML object>"
      ]
     },
     "metadata": {},
     "output_type": "display_data"
    },
    {
     "name": "stderr",
     "output_type": "stream",
     "text": [
      "wandb: Agent Starting Run: li8vtlxb with config:\n",
      "wandb: \tbatch_size: 8\n",
      "wandb: \tepochs: 7\n",
      "wandb: \tlearning_rate: 0.000287435434823635\n",
      "wandb: \toptimizer: adamW\n",
      "wandb: \tscheduler: PolynomialLR\n"
     ]
    },
    {
     "data": {
      "text/html": [
       "Tracking run with wandb version 0.18.1"
      ],
      "text/plain": [
       "<IPython.core.display.HTML object>"
      ]
     },
     "metadata": {},
     "output_type": "display_data"
    },
    {
     "data": {
      "text/html": [
       "Run data is saved locally in <code>c:\\Users\\Sidewinders\\Research_notebooks\\Drone_classification\\Research\\notebooks\\wandb\\run-20240925_185241-li8vtlxb</code>"
      ],
      "text/plain": [
       "<IPython.core.display.HTML object>"
      ]
     },
     "metadata": {},
     "output_type": "display_data"
    },
    {
     "data": {
      "text/html": [
       "Syncing run <strong><a href='https://wandb.ai/andberg9-self/AST_Sweeps/runs/li8vtlxb' target=\"_blank\">young-sweep-82</a></strong> to <a href='https://wandb.ai/andberg9-self/AST_Sweeps' target=\"_blank\">Weights & Biases</a> (<a href='https://wandb.me/run' target=\"_blank\">docs</a>)<br/>Sweep page: <a href='https://wandb.ai/andberg9-self/AST_Sweeps/sweeps/ange3go8' target=\"_blank\">https://wandb.ai/andberg9-self/AST_Sweeps/sweeps/ange3go8</a>"
      ],
      "text/plain": [
       "<IPython.core.display.HTML object>"
      ]
     },
     "metadata": {},
     "output_type": "display_data"
    },
    {
     "data": {
      "text/html": [
       " View project at <a href='https://wandb.ai/andberg9-self/AST_Sweeps' target=\"_blank\">https://wandb.ai/andberg9-self/AST_Sweeps</a>"
      ],
      "text/plain": [
       "<IPython.core.display.HTML object>"
      ]
     },
     "metadata": {},
     "output_type": "display_data"
    },
    {
     "data": {
      "text/html": [
       " View sweep at <a href='https://wandb.ai/andberg9-self/AST_Sweeps/sweeps/ange3go8' target=\"_blank\">https://wandb.ai/andberg9-self/AST_Sweeps/sweeps/ange3go8</a>"
      ],
      "text/plain": [
       "<IPython.core.display.HTML object>"
      ]
     },
     "metadata": {},
     "output_type": "display_data"
    },
    {
     "data": {
      "text/html": [
       " View run at <a href='https://wandb.ai/andberg9-self/AST_Sweeps/runs/li8vtlxb' target=\"_blank\">https://wandb.ai/andberg9-self/AST_Sweeps/runs/li8vtlxb</a>"
      ],
      "text/plain": [
       "<IPython.core.display.HTML object>"
      ]
     },
     "metadata": {},
     "output_type": "display_data"
    },
    {
     "name": "stdout",
     "output_type": "stream",
     "text": [
      "ASTForAudioClassification(\n",
      "  (audio_spectrogram_transformer): ASTModel(\n",
      "    (embeddings): ASTEmbeddings(\n",
      "      (patch_embeddings): ASTPatchEmbeddings(\n",
      "        (projection): Conv2d(1, 768, kernel_size=(16, 16), stride=(10, 10))\n",
      "      )\n",
      "      (dropout): Dropout(p=0.0, inplace=False)\n",
      "    )\n",
      "    (encoder): ASTEncoder(\n",
      "      (layer): ModuleList(\n",
      "        (0-11): 12 x ASTLayer(\n",
      "          (attention): ASTSdpaAttention(\n",
      "            (attention): ASTSdpaSelfAttention(\n",
      "              (query): Linear(in_features=768, out_features=768, bias=True)\n",
      "              (key): Linear(in_features=768, out_features=768, bias=True)\n",
      "              (value): Linear(in_features=768, out_features=768, bias=True)\n",
      "              (dropout): Dropout(p=0.0, inplace=False)\n",
      "            )\n",
      "            (output): ASTSelfOutput(\n",
      "              (dense): Linear(in_features=768, out_features=768, bias=True)\n",
      "              (dropout): Dropout(p=0.0, inplace=False)\n",
      "            )\n",
      "          )\n",
      "          (intermediate): ASTIntermediate(\n",
      "            (dense): Linear(in_features=768, out_features=3072, bias=True)\n",
      "            (intermediate_act_fn): GELUActivation()\n",
      "          )\n",
      "          (output): ASTOutput(\n",
      "            (dense): Linear(in_features=3072, out_features=768, bias=True)\n",
      "            (dropout): Dropout(p=0.0, inplace=False)\n",
      "          )\n",
      "          (layernorm_before): LayerNorm((768,), eps=1e-12, elementwise_affine=True)\n",
      "          (layernorm_after): LayerNorm((768,), eps=1e-12, elementwise_affine=True)\n",
      "        )\n",
      "      )\n",
      "    )\n",
      "    (layernorm): LayerNorm((768,), eps=1e-12, elementwise_affine=True)\n",
      "  )\n",
      "  (classifier): ASTMLPHead(\n",
      "    (layernorm): LayerNorm((768,), eps=1e-12, elementwise_affine=True)\n",
      "    (dense): Linear(in_features=768, out_features=9, bias=True)\n",
      "  )\n",
      ")\n"
     ]
    },
    {
     "data": {
      "application/vnd.jupyter.widget-view+json": {
       "model_id": "ee5d526ecc544f32a9d23c72054ad7f0",
       "version_major": 2,
       "version_minor": 0
      },
      "text/plain": [
       "  0%|          | 0/7 [00:00<?, ?it/s]"
      ]
     },
     "metadata": {},
     "output_type": "display_data"
    },
    {
     "name": "stdout",
     "output_type": "stream",
     "text": [
      "Epoch 1/7 | Train Loss: 1.7677 | Train Acc: 0.4764 | Train F1: 0.4645 | Test Loss: 1.3767 | Test Acc: 0.6576 | Test F1: 0.6500\n",
      "Epoch 2/7 | Train Loss: 1.1437 | Train Acc: 0.7861 | Train F1: 0.7843 | Test Loss: 1.0075 | Test Acc: 0.7935 | Test F1: 0.7951\n",
      "Epoch 3/7 | Train Loss: 0.8868 | Train Acc: 0.8250 | Train F1: 0.8202 | Test Loss: 0.8284 | Test Acc: 0.8641 | Test F1: 0.8521\n",
      "Epoch 4/7 | Train Loss: 0.7623 | Train Acc: 0.8583 | Train F1: 0.8565 | Test Loss: 0.7495 | Test Acc: 0.8804 | Test F1: 0.8770\n",
      "Epoch 5/7 | Train Loss: 0.7020 | Train Acc: 0.8764 | Train F1: 0.8753 | Test Loss: 0.7117 | Test Acc: 0.8804 | Test F1: 0.8765\n",
      "Epoch 6/7 | Train Loss: 0.6830 | Train Acc: 0.8806 | Train F1: 0.8791 | Test Loss: 0.7160 | Test Acc: 0.8804 | Test F1: 0.8765\n",
      "Epoch 7/7 | Train Loss: 0.6830 | Train Acc: 0.8806 | Train F1: 0.8791 | Test Loss: 0.7130 | Test Acc: 0.8750 | Test F1: 0.8765\n",
      "Train time on cuda: 333.46976949999953\n",
      "Inference Loss: 0.6830, Accuracy: 88.06%\n"
     ]
    },
    {
     "data": {
      "application/vnd.jupyter.widget-view+json": {
       "model_id": "b39f197e1a3e42ab8b0c520563407cf4",
       "version_major": 2,
       "version_minor": 0
      },
      "text/plain": [
       "VBox(children=(Label(value='0.008 MB of 0.008 MB uploaded\\r'), FloatProgress(value=1.0, max=1.0)))"
      ]
     },
     "metadata": {},
     "output_type": "display_data"
    },
    {
     "data": {
      "text/html": [
       "<style>\n",
       "    table.wandb td:nth-child(1) { padding: 0 10px; text-align: left ; width: auto;} td:nth-child(2) {text-align: left ; width: 100%}\n",
       "    .wandb-row { display: flex; flex-direction: row; flex-wrap: wrap; justify-content: flex-start; width: 100% }\n",
       "    .wandb-col { display: flex; flex-direction: column; flex-basis: 100%; flex: 1; padding: 10px; }\n",
       "    </style>\n",
       "<div class=\"wandb-row\"><div class=\"wandb-col\"><h3>Run history:</h3><br/><table class=\"wandb\"><tr><td>epoch</td><td>▁▂▃▅▆▇█</td></tr><tr><td>inference_accuracy</td><td>▁</td></tr><tr><td>inference_loss</td><td>▁</td></tr><tr><td>test_acc</td><td>▁▅▇████</td></tr><tr><td>test_f1</td><td>▁▅▇████</td></tr><tr><td>test_loss</td><td>█▄▂▁▁▁▁</td></tr><tr><td>test_precision</td><td>▁▅▇████</td></tr><tr><td>test_recall</td><td>▁▆▇████</td></tr><tr><td>train_acc</td><td>▁▆▇████</td></tr><tr><td>train_f1</td><td>▁▆▇████</td></tr><tr><td>train_loss</td><td>█▄▂▂▁▁▁</td></tr><tr><td>train_precision</td><td>▁▆▇████</td></tr><tr><td>train_recall</td><td>▁▆▇████</td></tr></table><br/></div><div class=\"wandb-col\"><h3>Run summary:</h3><br/><table class=\"wandb\"><tr><td>epoch</td><td>7</td></tr><tr><td>inference_accuracy</td><td>0.88056</td></tr><tr><td>inference_loss</td><td>0.68303</td></tr><tr><td>test_acc</td><td>0.875</td></tr><tr><td>test_f1</td><td>0.87649</td></tr><tr><td>test_loss</td><td>0.713</td></tr><tr><td>test_precision</td><td>0.88648</td></tr><tr><td>test_recall</td><td>0.87778</td></tr><tr><td>train_acc</td><td>0.88056</td></tr><tr><td>train_f1</td><td>0.87908</td></tr><tr><td>train_loss</td><td>0.68295</td></tr><tr><td>train_precision</td><td>0.88033</td></tr><tr><td>train_recall</td><td>0.88056</td></tr><tr><td>train_time</td><td>00:05:33</td></tr></table><br/></div></div>"
      ],
      "text/plain": [
       "<IPython.core.display.HTML object>"
      ]
     },
     "metadata": {},
     "output_type": "display_data"
    },
    {
     "data": {
      "text/html": [
       " View run <strong style=\"color:#cdcd00\">young-sweep-82</strong> at: <a href='https://wandb.ai/andberg9-self/AST_Sweeps/runs/li8vtlxb' target=\"_blank\">https://wandb.ai/andberg9-self/AST_Sweeps/runs/li8vtlxb</a><br/> View project at: <a href='https://wandb.ai/andberg9-self/AST_Sweeps' target=\"_blank\">https://wandb.ai/andberg9-self/AST_Sweeps</a><br/>Synced 5 W&B file(s), 0 media file(s), 0 artifact file(s) and 0 other file(s)"
      ],
      "text/plain": [
       "<IPython.core.display.HTML object>"
      ]
     },
     "metadata": {},
     "output_type": "display_data"
    },
    {
     "data": {
      "text/html": [
       "Find logs at: <code>.\\wandb\\run-20240925_185241-li8vtlxb\\logs</code>"
      ],
      "text/plain": [
       "<IPython.core.display.HTML object>"
      ]
     },
     "metadata": {},
     "output_type": "display_data"
    },
    {
     "name": "stderr",
     "output_type": "stream",
     "text": [
      "wandb: Agent Starting Run: vgammxy5 with config:\n",
      "wandb: \tbatch_size: 16\n",
      "wandb: \tepochs: 7\n",
      "wandb: \tlearning_rate: 0.0007220659918459098\n",
      "wandb: \toptimizer: adamW\n",
      "wandb: \tscheduler: PolynomialLR\n"
     ]
    },
    {
     "data": {
      "text/html": [
       "Tracking run with wandb version 0.18.1"
      ],
      "text/plain": [
       "<IPython.core.display.HTML object>"
      ]
     },
     "metadata": {},
     "output_type": "display_data"
    },
    {
     "data": {
      "text/html": [
       "Run data is saved locally in <code>c:\\Users\\Sidewinders\\Research_notebooks\\Drone_classification\\Research\\notebooks\\wandb\\run-20240925_185836-vgammxy5</code>"
      ],
      "text/plain": [
       "<IPython.core.display.HTML object>"
      ]
     },
     "metadata": {},
     "output_type": "display_data"
    },
    {
     "data": {
      "text/html": [
       "Syncing run <strong><a href='https://wandb.ai/andberg9-self/AST_Sweeps/runs/vgammxy5' target=\"_blank\">ruby-sweep-83</a></strong> to <a href='https://wandb.ai/andberg9-self/AST_Sweeps' target=\"_blank\">Weights & Biases</a> (<a href='https://wandb.me/run' target=\"_blank\">docs</a>)<br/>Sweep page: <a href='https://wandb.ai/andberg9-self/AST_Sweeps/sweeps/ange3go8' target=\"_blank\">https://wandb.ai/andberg9-self/AST_Sweeps/sweeps/ange3go8</a>"
      ],
      "text/plain": [
       "<IPython.core.display.HTML object>"
      ]
     },
     "metadata": {},
     "output_type": "display_data"
    },
    {
     "data": {
      "text/html": [
       " View project at <a href='https://wandb.ai/andberg9-self/AST_Sweeps' target=\"_blank\">https://wandb.ai/andberg9-self/AST_Sweeps</a>"
      ],
      "text/plain": [
       "<IPython.core.display.HTML object>"
      ]
     },
     "metadata": {},
     "output_type": "display_data"
    },
    {
     "data": {
      "text/html": [
       " View sweep at <a href='https://wandb.ai/andberg9-self/AST_Sweeps/sweeps/ange3go8' target=\"_blank\">https://wandb.ai/andberg9-self/AST_Sweeps/sweeps/ange3go8</a>"
      ],
      "text/plain": [
       "<IPython.core.display.HTML object>"
      ]
     },
     "metadata": {},
     "output_type": "display_data"
    },
    {
     "data": {
      "text/html": [
       " View run at <a href='https://wandb.ai/andberg9-self/AST_Sweeps/runs/vgammxy5' target=\"_blank\">https://wandb.ai/andberg9-self/AST_Sweeps/runs/vgammxy5</a>"
      ],
      "text/plain": [
       "<IPython.core.display.HTML object>"
      ]
     },
     "metadata": {},
     "output_type": "display_data"
    },
    {
     "name": "stdout",
     "output_type": "stream",
     "text": [
      "ASTForAudioClassification(\n",
      "  (audio_spectrogram_transformer): ASTModel(\n",
      "    (embeddings): ASTEmbeddings(\n",
      "      (patch_embeddings): ASTPatchEmbeddings(\n",
      "        (projection): Conv2d(1, 768, kernel_size=(16, 16), stride=(10, 10))\n",
      "      )\n",
      "      (dropout): Dropout(p=0.0, inplace=False)\n",
      "    )\n",
      "    (encoder): ASTEncoder(\n",
      "      (layer): ModuleList(\n",
      "        (0-11): 12 x ASTLayer(\n",
      "          (attention): ASTSdpaAttention(\n",
      "            (attention): ASTSdpaSelfAttention(\n",
      "              (query): Linear(in_features=768, out_features=768, bias=True)\n",
      "              (key): Linear(in_features=768, out_features=768, bias=True)\n",
      "              (value): Linear(in_features=768, out_features=768, bias=True)\n",
      "              (dropout): Dropout(p=0.0, inplace=False)\n",
      "            )\n",
      "            (output): ASTSelfOutput(\n",
      "              (dense): Linear(in_features=768, out_features=768, bias=True)\n",
      "              (dropout): Dropout(p=0.0, inplace=False)\n",
      "            )\n",
      "          )\n",
      "          (intermediate): ASTIntermediate(\n",
      "            (dense): Linear(in_features=768, out_features=3072, bias=True)\n",
      "            (intermediate_act_fn): GELUActivation()\n",
      "          )\n",
      "          (output): ASTOutput(\n",
      "            (dense): Linear(in_features=3072, out_features=768, bias=True)\n",
      "            (dropout): Dropout(p=0.0, inplace=False)\n",
      "          )\n",
      "          (layernorm_before): LayerNorm((768,), eps=1e-12, elementwise_affine=True)\n",
      "          (layernorm_after): LayerNorm((768,), eps=1e-12, elementwise_affine=True)\n",
      "        )\n",
      "      )\n",
      "    )\n",
      "    (layernorm): LayerNorm((768,), eps=1e-12, elementwise_affine=True)\n",
      "  )\n",
      "  (classifier): ASTMLPHead(\n",
      "    (layernorm): LayerNorm((768,), eps=1e-12, elementwise_affine=True)\n",
      "    (dense): Linear(in_features=768, out_features=9, bias=True)\n",
      "  )\n",
      ")\n"
     ]
    },
    {
     "data": {
      "application/vnd.jupyter.widget-view+json": {
       "model_id": "a44106a9b86f4d3a92b097a1f18dfe60",
       "version_major": 2,
       "version_minor": 0
      },
      "text/plain": [
       "  0%|          | 0/7 [00:00<?, ?it/s]"
      ]
     },
     "metadata": {},
     "output_type": "display_data"
    },
    {
     "name": "stdout",
     "output_type": "stream",
     "text": [
      "Epoch 1/7 | Train Loss: 1.6849 | Train Acc: 0.4944 | Train F1: 0.4939 | Test Loss: 1.0931 | Test Acc: 0.7812 | Test F1: 0.7521\n",
      "Epoch 2/7 | Train Loss: 0.9233 | Train Acc: 0.7917 | Train F1: 0.7844 | Test Loss: 0.7448 | Test Acc: 0.8698 | Test F1: 0.8511\n",
      "Epoch 3/7 | Train Loss: 0.6572 | Train Acc: 0.8639 | Train F1: 0.8628 | Test Loss: 0.5999 | Test Acc: 0.9062 | Test F1: 0.8983\n",
      "Epoch 4/7 | Train Loss: 0.5503 | Train Acc: 0.8931 | Train F1: 0.8932 | Test Loss: 0.5191 | Test Acc: 0.9115 | Test F1: 0.9052\n",
      "Epoch 5/7 | Train Loss: 0.5057 | Train Acc: 0.8944 | Train F1: 0.8953 | Test Loss: 0.4905 | Test Acc: 0.9062 | Test F1: 0.9004\n",
      "Epoch 6/7 | Train Loss: 0.4919 | Train Acc: 0.9042 | Train F1: 0.9049 | Test Loss: 0.4928 | Test Acc: 0.9062 | Test F1: 0.9004\n",
      "Epoch 7/7 | Train Loss: 0.4919 | Train Acc: 0.9042 | Train F1: 0.9049 | Test Loss: 0.5259 | Test Acc: 0.8906 | Test F1: 0.9004\n",
      "Train time on cuda: 334.78454729999794\n",
      "Inference Loss: 0.4920, Accuracy: 90.28%\n"
     ]
    },
    {
     "data": {
      "application/vnd.jupyter.widget-view+json": {
       "model_id": "5e738f6dc6734386b346504cc4df2a48",
       "version_major": 2,
       "version_minor": 0
      },
      "text/plain": [
       "VBox(children=(Label(value='0.008 MB of 0.008 MB uploaded\\r'), FloatProgress(value=1.0, max=1.0)))"
      ]
     },
     "metadata": {},
     "output_type": "display_data"
    },
    {
     "data": {
      "text/html": [
       "<style>\n",
       "    table.wandb td:nth-child(1) { padding: 0 10px; text-align: left ; width: auto;} td:nth-child(2) {text-align: left ; width: 100%}\n",
       "    .wandb-row { display: flex; flex-direction: row; flex-wrap: wrap; justify-content: flex-start; width: 100% }\n",
       "    .wandb-col { display: flex; flex-direction: column; flex-basis: 100%; flex: 1; padding: 10px; }\n",
       "    </style>\n",
       "<div class=\"wandb-row\"><div class=\"wandb-col\"><h3>Run history:</h3><br/><table class=\"wandb\"><tr><td>epoch</td><td>▁▂▃▅▆▇█</td></tr><tr><td>inference_accuracy</td><td>▁</td></tr><tr><td>inference_loss</td><td>▁</td></tr><tr><td>test_acc</td><td>▁▆████▇</td></tr><tr><td>test_f1</td><td>▁▆█████</td></tr><tr><td>test_loss</td><td>█▄▂▁▁▁▁</td></tr><tr><td>test_precision</td><td>▁▆▇████</td></tr><tr><td>test_recall</td><td>▁▆█████</td></tr><tr><td>train_acc</td><td>▁▆▇████</td></tr><tr><td>train_f1</td><td>▁▆▇████</td></tr><tr><td>train_loss</td><td>█▄▂▁▁▁▁</td></tr><tr><td>train_precision</td><td>▁▆▇████</td></tr><tr><td>train_recall</td><td>▁▆▇████</td></tr></table><br/></div><div class=\"wandb-col\"><h3>Run summary:</h3><br/><table class=\"wandb\"><tr><td>epoch</td><td>7</td></tr><tr><td>inference_accuracy</td><td>0.90278</td></tr><tr><td>inference_loss</td><td>0.492</td></tr><tr><td>test_acc</td><td>0.89062</td></tr><tr><td>test_f1</td><td>0.90042</td></tr><tr><td>test_loss</td><td>0.52588</td></tr><tr><td>test_precision</td><td>0.91175</td></tr><tr><td>test_recall</td><td>0.9</td></tr><tr><td>train_acc</td><td>0.90417</td></tr><tr><td>train_f1</td><td>0.90489</td></tr><tr><td>train_loss</td><td>0.49195</td></tr><tr><td>train_precision</td><td>0.90735</td></tr><tr><td>train_recall</td><td>0.90417</td></tr><tr><td>train_time</td><td>00:05:34</td></tr></table><br/></div></div>"
      ],
      "text/plain": [
       "<IPython.core.display.HTML object>"
      ]
     },
     "metadata": {},
     "output_type": "display_data"
    },
    {
     "data": {
      "text/html": [
       " View run <strong style=\"color:#cdcd00\">ruby-sweep-83</strong> at: <a href='https://wandb.ai/andberg9-self/AST_Sweeps/runs/vgammxy5' target=\"_blank\">https://wandb.ai/andberg9-self/AST_Sweeps/runs/vgammxy5</a><br/> View project at: <a href='https://wandb.ai/andberg9-self/AST_Sweeps' target=\"_blank\">https://wandb.ai/andberg9-self/AST_Sweeps</a><br/>Synced 5 W&B file(s), 0 media file(s), 0 artifact file(s) and 0 other file(s)"
      ],
      "text/plain": [
       "<IPython.core.display.HTML object>"
      ]
     },
     "metadata": {},
     "output_type": "display_data"
    },
    {
     "data": {
      "text/html": [
       "Find logs at: <code>.\\wandb\\run-20240925_185836-vgammxy5\\logs</code>"
      ],
      "text/plain": [
       "<IPython.core.display.HTML object>"
      ]
     },
     "metadata": {},
     "output_type": "display_data"
    },
    {
     "name": "stderr",
     "output_type": "stream",
     "text": [
      "wandb: Sweep Agent: Waiting for job.\n",
      "wandb: Job received.\n",
      "wandb: Agent Starting Run: 1q5d4oed with config:\n",
      "wandb: \tbatch_size: 4\n",
      "wandb: \tepochs: 7\n",
      "wandb: \tlearning_rate: 0.0002717153052071325\n",
      "wandb: \toptimizer: adamW\n",
      "wandb: \tscheduler: PolynomialLR\n"
     ]
    },
    {
     "data": {
      "text/html": [
       "Tracking run with wandb version 0.18.1"
      ],
      "text/plain": [
       "<IPython.core.display.HTML object>"
      ]
     },
     "metadata": {},
     "output_type": "display_data"
    },
    {
     "data": {
      "text/html": [
       "Run data is saved locally in <code>c:\\Users\\Sidewinders\\Research_notebooks\\Drone_classification\\Research\\notebooks\\wandb\\run-20240925_190442-1q5d4oed</code>"
      ],
      "text/plain": [
       "<IPython.core.display.HTML object>"
      ]
     },
     "metadata": {},
     "output_type": "display_data"
    },
    {
     "data": {
      "text/html": [
       "Syncing run <strong><a href='https://wandb.ai/andberg9-self/AST_Sweeps/runs/1q5d4oed' target=\"_blank\">solar-sweep-84</a></strong> to <a href='https://wandb.ai/andberg9-self/AST_Sweeps' target=\"_blank\">Weights & Biases</a> (<a href='https://wandb.me/run' target=\"_blank\">docs</a>)<br/>Sweep page: <a href='https://wandb.ai/andberg9-self/AST_Sweeps/sweeps/ange3go8' target=\"_blank\">https://wandb.ai/andberg9-self/AST_Sweeps/sweeps/ange3go8</a>"
      ],
      "text/plain": [
       "<IPython.core.display.HTML object>"
      ]
     },
     "metadata": {},
     "output_type": "display_data"
    },
    {
     "data": {
      "text/html": [
       " View project at <a href='https://wandb.ai/andberg9-self/AST_Sweeps' target=\"_blank\">https://wandb.ai/andberg9-self/AST_Sweeps</a>"
      ],
      "text/plain": [
       "<IPython.core.display.HTML object>"
      ]
     },
     "metadata": {},
     "output_type": "display_data"
    },
    {
     "data": {
      "text/html": [
       " View sweep at <a href='https://wandb.ai/andberg9-self/AST_Sweeps/sweeps/ange3go8' target=\"_blank\">https://wandb.ai/andberg9-self/AST_Sweeps/sweeps/ange3go8</a>"
      ],
      "text/plain": [
       "<IPython.core.display.HTML object>"
      ]
     },
     "metadata": {},
     "output_type": "display_data"
    },
    {
     "data": {
      "text/html": [
       " View run at <a href='https://wandb.ai/andberg9-self/AST_Sweeps/runs/1q5d4oed' target=\"_blank\">https://wandb.ai/andberg9-self/AST_Sweeps/runs/1q5d4oed</a>"
      ],
      "text/plain": [
       "<IPython.core.display.HTML object>"
      ]
     },
     "metadata": {},
     "output_type": "display_data"
    },
    {
     "name": "stdout",
     "output_type": "stream",
     "text": [
      "ASTForAudioClassification(\n",
      "  (audio_spectrogram_transformer): ASTModel(\n",
      "    (embeddings): ASTEmbeddings(\n",
      "      (patch_embeddings): ASTPatchEmbeddings(\n",
      "        (projection): Conv2d(1, 768, kernel_size=(16, 16), stride=(10, 10))\n",
      "      )\n",
      "      (dropout): Dropout(p=0.0, inplace=False)\n",
      "    )\n",
      "    (encoder): ASTEncoder(\n",
      "      (layer): ModuleList(\n",
      "        (0-11): 12 x ASTLayer(\n",
      "          (attention): ASTSdpaAttention(\n",
      "            (attention): ASTSdpaSelfAttention(\n",
      "              (query): Linear(in_features=768, out_features=768, bias=True)\n",
      "              (key): Linear(in_features=768, out_features=768, bias=True)\n",
      "              (value): Linear(in_features=768, out_features=768, bias=True)\n",
      "              (dropout): Dropout(p=0.0, inplace=False)\n",
      "            )\n",
      "            (output): ASTSelfOutput(\n",
      "              (dense): Linear(in_features=768, out_features=768, bias=True)\n",
      "              (dropout): Dropout(p=0.0, inplace=False)\n",
      "            )\n",
      "          )\n",
      "          (intermediate): ASTIntermediate(\n",
      "            (dense): Linear(in_features=768, out_features=3072, bias=True)\n",
      "            (intermediate_act_fn): GELUActivation()\n",
      "          )\n",
      "          (output): ASTOutput(\n",
      "            (dense): Linear(in_features=3072, out_features=768, bias=True)\n",
      "            (dropout): Dropout(p=0.0, inplace=False)\n",
      "          )\n",
      "          (layernorm_before): LayerNorm((768,), eps=1e-12, elementwise_affine=True)\n",
      "          (layernorm_after): LayerNorm((768,), eps=1e-12, elementwise_affine=True)\n",
      "        )\n",
      "      )\n",
      "    )\n",
      "    (layernorm): LayerNorm((768,), eps=1e-12, elementwise_affine=True)\n",
      "  )\n",
      "  (classifier): ASTMLPHead(\n",
      "    (layernorm): LayerNorm((768,), eps=1e-12, elementwise_affine=True)\n",
      "    (dense): Linear(in_features=768, out_features=9, bias=True)\n",
      "  )\n",
      ")\n"
     ]
    },
    {
     "data": {
      "application/vnd.jupyter.widget-view+json": {
       "model_id": "0c2506aec98948939dc88c163e900996",
       "version_major": 2,
       "version_minor": 0
      },
      "text/plain": [
       "  0%|          | 0/7 [00:00<?, ?it/s]"
      ]
     },
     "metadata": {},
     "output_type": "display_data"
    },
    {
     "name": "stdout",
     "output_type": "stream",
     "text": [
      "Epoch 1/7 | Train Loss: 1.6457 | Train Acc: 0.5000 | Train F1: 0.4876 | Test Loss: 1.0808 | Test Acc: 0.8222 | Test F1: 0.8205\n",
      "Epoch 2/7 | Train Loss: 0.9001 | Train Acc: 0.8319 | Train F1: 0.8300 | Test Loss: 0.7450 | Test Acc: 0.8556 | Test F1: 0.8560\n",
      "Epoch 3/7 | Train Loss: 0.6710 | Train Acc: 0.8653 | Train F1: 0.8648 | Test Loss: 0.6023 | Test Acc: 0.9111 | Test F1: 0.9106\n",
      "Epoch 4/7 | Train Loss: 0.5766 | Train Acc: 0.8819 | Train F1: 0.8808 | Test Loss: 0.5405 | Test Acc: 0.9056 | Test F1: 0.9073\n",
      "Epoch 5/7 | Train Loss: 0.5264 | Train Acc: 0.9028 | Train F1: 0.9036 | Test Loss: 0.5092 | Test Acc: 0.9111 | Test F1: 0.9127\n",
      "Epoch 6/7 | Train Loss: 0.5091 | Train Acc: 0.9111 | Train F1: 0.9117 | Test Loss: 0.5092 | Test Acc: 0.9111 | Test F1: 0.9127\n",
      "Epoch 7/7 | Train Loss: 0.5091 | Train Acc: 0.9111 | Train F1: 0.9117 | Test Loss: 0.5092 | Test Acc: 0.9111 | Test F1: 0.9127\n",
      "Train time on cuda: 330.581757699998\n",
      "Inference Loss: 0.5091, Accuracy: 91.11%\n"
     ]
    },
    {
     "data": {
      "application/vnd.jupyter.widget-view+json": {
       "model_id": "b4e0e216e42745929e2f8049e1030eb9",
       "version_major": 2,
       "version_minor": 0
      },
      "text/plain": [
       "VBox(children=(Label(value='0.008 MB of 0.008 MB uploaded\\r'), FloatProgress(value=1.0, max=1.0)))"
      ]
     },
     "metadata": {},
     "output_type": "display_data"
    },
    {
     "data": {
      "text/html": [
       "<style>\n",
       "    table.wandb td:nth-child(1) { padding: 0 10px; text-align: left ; width: auto;} td:nth-child(2) {text-align: left ; width: 100%}\n",
       "    .wandb-row { display: flex; flex-direction: row; flex-wrap: wrap; justify-content: flex-start; width: 100% }\n",
       "    .wandb-col { display: flex; flex-direction: column; flex-basis: 100%; flex: 1; padding: 10px; }\n",
       "    </style>\n",
       "<div class=\"wandb-row\"><div class=\"wandb-col\"><h3>Run history:</h3><br/><table class=\"wandb\"><tr><td>epoch</td><td>▁▂▃▅▆▇█</td></tr><tr><td>inference_accuracy</td><td>▁</td></tr><tr><td>inference_loss</td><td>▁</td></tr><tr><td>test_acc</td><td>▁▄█████</td></tr><tr><td>test_f1</td><td>▁▄█████</td></tr><tr><td>test_loss</td><td>█▄▂▁▁▁▁</td></tr><tr><td>test_precision</td><td>▁▅█▇▇▇▇</td></tr><tr><td>test_recall</td><td>▁▄█████</td></tr><tr><td>train_acc</td><td>▁▇▇████</td></tr><tr><td>train_f1</td><td>▁▇▇▇███</td></tr><tr><td>train_loss</td><td>█▃▂▁▁▁▁</td></tr><tr><td>train_precision</td><td>▁▇▇████</td></tr><tr><td>train_recall</td><td>▁▇▇████</td></tr></table><br/></div><div class=\"wandb-col\"><h3>Run summary:</h3><br/><table class=\"wandb\"><tr><td>epoch</td><td>7</td></tr><tr><td>inference_accuracy</td><td>0.91111</td></tr><tr><td>inference_loss</td><td>0.50913</td></tr><tr><td>test_acc</td><td>0.91111</td></tr><tr><td>test_f1</td><td>0.91265</td></tr><tr><td>test_loss</td><td>0.50918</td></tr><tr><td>test_precision</td><td>0.92436</td></tr><tr><td>test_recall</td><td>0.91111</td></tr><tr><td>train_acc</td><td>0.91111</td></tr><tr><td>train_f1</td><td>0.91169</td></tr><tr><td>train_loss</td><td>0.50912</td></tr><tr><td>train_precision</td><td>0.91386</td></tr><tr><td>train_recall</td><td>0.91111</td></tr><tr><td>train_time</td><td>00:05:30</td></tr></table><br/></div></div>"
      ],
      "text/plain": [
       "<IPython.core.display.HTML object>"
      ]
     },
     "metadata": {},
     "output_type": "display_data"
    },
    {
     "data": {
      "text/html": [
       " View run <strong style=\"color:#cdcd00\">solar-sweep-84</strong> at: <a href='https://wandb.ai/andberg9-self/AST_Sweeps/runs/1q5d4oed' target=\"_blank\">https://wandb.ai/andberg9-self/AST_Sweeps/runs/1q5d4oed</a><br/> View project at: <a href='https://wandb.ai/andberg9-self/AST_Sweeps' target=\"_blank\">https://wandb.ai/andberg9-self/AST_Sweeps</a><br/>Synced 5 W&B file(s), 0 media file(s), 0 artifact file(s) and 0 other file(s)"
      ],
      "text/plain": [
       "<IPython.core.display.HTML object>"
      ]
     },
     "metadata": {},
     "output_type": "display_data"
    },
    {
     "data": {
      "text/html": [
       "Find logs at: <code>.\\wandb\\run-20240925_190442-1q5d4oed\\logs</code>"
      ],
      "text/plain": [
       "<IPython.core.display.HTML object>"
      ]
     },
     "metadata": {},
     "output_type": "display_data"
    },
    {
     "name": "stderr",
     "output_type": "stream",
     "text": [
      "wandb: Agent Starting Run: e998iolw with config:\n",
      "wandb: \tbatch_size: 16\n",
      "wandb: \tepochs: 7\n",
      "wandb: \tlearning_rate: 0.0005897828093536084\n",
      "wandb: \toptimizer: adamW\n",
      "wandb: \tscheduler: PolynomialLR\n"
     ]
    },
    {
     "data": {
      "text/html": [
       "Tracking run with wandb version 0.18.1"
      ],
      "text/plain": [
       "<IPython.core.display.HTML object>"
      ]
     },
     "metadata": {},
     "output_type": "display_data"
    },
    {
     "data": {
      "text/html": [
       "Run data is saved locally in <code>c:\\Users\\Sidewinders\\Research_notebooks\\Drone_classification\\Research\\notebooks\\wandb\\run-20240925_191039-e998iolw</code>"
      ],
      "text/plain": [
       "<IPython.core.display.HTML object>"
      ]
     },
     "metadata": {},
     "output_type": "display_data"
    },
    {
     "data": {
      "text/html": [
       "Syncing run <strong><a href='https://wandb.ai/andberg9-self/AST_Sweeps/runs/e998iolw' target=\"_blank\">dashing-sweep-85</a></strong> to <a href='https://wandb.ai/andberg9-self/AST_Sweeps' target=\"_blank\">Weights & Biases</a> (<a href='https://wandb.me/run' target=\"_blank\">docs</a>)<br/>Sweep page: <a href='https://wandb.ai/andberg9-self/AST_Sweeps/sweeps/ange3go8' target=\"_blank\">https://wandb.ai/andberg9-self/AST_Sweeps/sweeps/ange3go8</a>"
      ],
      "text/plain": [
       "<IPython.core.display.HTML object>"
      ]
     },
     "metadata": {},
     "output_type": "display_data"
    },
    {
     "data": {
      "text/html": [
       " View project at <a href='https://wandb.ai/andberg9-self/AST_Sweeps' target=\"_blank\">https://wandb.ai/andberg9-self/AST_Sweeps</a>"
      ],
      "text/plain": [
       "<IPython.core.display.HTML object>"
      ]
     },
     "metadata": {},
     "output_type": "display_data"
    },
    {
     "data": {
      "text/html": [
       " View sweep at <a href='https://wandb.ai/andberg9-self/AST_Sweeps/sweeps/ange3go8' target=\"_blank\">https://wandb.ai/andberg9-self/AST_Sweeps/sweeps/ange3go8</a>"
      ],
      "text/plain": [
       "<IPython.core.display.HTML object>"
      ]
     },
     "metadata": {},
     "output_type": "display_data"
    },
    {
     "data": {
      "text/html": [
       " View run at <a href='https://wandb.ai/andberg9-self/AST_Sweeps/runs/e998iolw' target=\"_blank\">https://wandb.ai/andberg9-self/AST_Sweeps/runs/e998iolw</a>"
      ],
      "text/plain": [
       "<IPython.core.display.HTML object>"
      ]
     },
     "metadata": {},
     "output_type": "display_data"
    },
    {
     "name": "stdout",
     "output_type": "stream",
     "text": [
      "ASTForAudioClassification(\n",
      "  (audio_spectrogram_transformer): ASTModel(\n",
      "    (embeddings): ASTEmbeddings(\n",
      "      (patch_embeddings): ASTPatchEmbeddings(\n",
      "        (projection): Conv2d(1, 768, kernel_size=(16, 16), stride=(10, 10))\n",
      "      )\n",
      "      (dropout): Dropout(p=0.0, inplace=False)\n",
      "    )\n",
      "    (encoder): ASTEncoder(\n",
      "      (layer): ModuleList(\n",
      "        (0-11): 12 x ASTLayer(\n",
      "          (attention): ASTSdpaAttention(\n",
      "            (attention): ASTSdpaSelfAttention(\n",
      "              (query): Linear(in_features=768, out_features=768, bias=True)\n",
      "              (key): Linear(in_features=768, out_features=768, bias=True)\n",
      "              (value): Linear(in_features=768, out_features=768, bias=True)\n",
      "              (dropout): Dropout(p=0.0, inplace=False)\n",
      "            )\n",
      "            (output): ASTSelfOutput(\n",
      "              (dense): Linear(in_features=768, out_features=768, bias=True)\n",
      "              (dropout): Dropout(p=0.0, inplace=False)\n",
      "            )\n",
      "          )\n",
      "          (intermediate): ASTIntermediate(\n",
      "            (dense): Linear(in_features=768, out_features=3072, bias=True)\n",
      "            (intermediate_act_fn): GELUActivation()\n",
      "          )\n",
      "          (output): ASTOutput(\n",
      "            (dense): Linear(in_features=3072, out_features=768, bias=True)\n",
      "            (dropout): Dropout(p=0.0, inplace=False)\n",
      "          )\n",
      "          (layernorm_before): LayerNorm((768,), eps=1e-12, elementwise_affine=True)\n",
      "          (layernorm_after): LayerNorm((768,), eps=1e-12, elementwise_affine=True)\n",
      "        )\n",
      "      )\n",
      "    )\n",
      "    (layernorm): LayerNorm((768,), eps=1e-12, elementwise_affine=True)\n",
      "  )\n",
      "  (classifier): ASTMLPHead(\n",
      "    (layernorm): LayerNorm((768,), eps=1e-12, elementwise_affine=True)\n",
      "    (dense): Linear(in_features=768, out_features=9, bias=True)\n",
      "  )\n",
      ")\n"
     ]
    },
    {
     "data": {
      "application/vnd.jupyter.widget-view+json": {
       "model_id": "6ea7945abfed422f947f33fc44c543dd",
       "version_major": 2,
       "version_minor": 0
      },
      "text/plain": [
       "  0%|          | 0/7 [00:00<?, ?it/s]"
      ]
     },
     "metadata": {},
     "output_type": "display_data"
    },
    {
     "name": "stdout",
     "output_type": "stream",
     "text": [
      "Epoch 1/7 | Train Loss: 1.8969 | Train Acc: 0.4083 | Train F1: 0.3983 | Test Loss: 1.3899 | Test Acc: 0.7188 | Test F1: 0.7267\n",
      "Epoch 2/7 | Train Loss: 1.1106 | Train Acc: 0.7944 | Train F1: 0.7920 | Test Loss: 0.9092 | Test Acc: 0.8542 | Test F1: 0.8592\n",
      "Epoch 3/7 | Train Loss: 0.7934 | Train Acc: 0.8486 | Train F1: 0.8461 | Test Loss: 0.7316 | Test Acc: 0.9167 | Test F1: 0.9104\n",
      "Epoch 4/7 | Train Loss: 0.6602 | Train Acc: 0.8736 | Train F1: 0.8729 | Test Loss: 0.6202 | Test Acc: 0.9219 | Test F1: 0.9167\n",
      "Epoch 5/7 | Train Loss: 0.6039 | Train Acc: 0.8819 | Train F1: 0.8824 | Test Loss: 0.6182 | Test Acc: 0.9167 | Test F1: 0.9286\n",
      "Epoch 6/7 | Train Loss: 0.5858 | Train Acc: 0.8875 | Train F1: 0.8885 | Test Loss: 0.5933 | Test Acc: 0.9323 | Test F1: 0.9286\n",
      "Epoch 7/7 | Train Loss: 0.5858 | Train Acc: 0.8875 | Train F1: 0.8885 | Test Loss: 0.6166 | Test Acc: 0.9167 | Test F1: 0.9286\n",
      "Train time on cuda: 334.45998060000056\n",
      "Inference Loss: 0.5859, Accuracy: 88.75%\n"
     ]
    },
    {
     "data": {
      "application/vnd.jupyter.widget-view+json": {
       "model_id": "6e9995b05320447088bcdac3b110e49c",
       "version_major": 2,
       "version_minor": 0
      },
      "text/plain": [
       "VBox(children=(Label(value='0.008 MB of 0.008 MB uploaded\\r'), FloatProgress(value=1.0, max=1.0)))"
      ]
     },
     "metadata": {},
     "output_type": "display_data"
    },
    {
     "data": {
      "text/html": [
       "<style>\n",
       "    table.wandb td:nth-child(1) { padding: 0 10px; text-align: left ; width: auto;} td:nth-child(2) {text-align: left ; width: 100%}\n",
       "    .wandb-row { display: flex; flex-direction: row; flex-wrap: wrap; justify-content: flex-start; width: 100% }\n",
       "    .wandb-col { display: flex; flex-direction: column; flex-basis: 100%; flex: 1; padding: 10px; }\n",
       "    </style>\n",
       "<div class=\"wandb-row\"><div class=\"wandb-col\"><h3>Run history:</h3><br/><table class=\"wandb\"><tr><td>epoch</td><td>▁▂▃▅▆▇█</td></tr><tr><td>inference_accuracy</td><td>▁</td></tr><tr><td>inference_loss</td><td>▁</td></tr><tr><td>test_acc</td><td>▁▅▇█▇█▇</td></tr><tr><td>test_f1</td><td>▁▆▇████</td></tr><tr><td>test_loss</td><td>█▄▂▁▁▁▁</td></tr><tr><td>test_precision</td><td>▁▅▇▇███</td></tr><tr><td>test_recall</td><td>▁▆▇████</td></tr><tr><td>train_acc</td><td>▁▇▇████</td></tr><tr><td>train_f1</td><td>▁▇▇████</td></tr><tr><td>train_loss</td><td>█▄▂▁▁▁▁</td></tr><tr><td>train_precision</td><td>▁▇▇████</td></tr><tr><td>train_recall</td><td>▁▇▇████</td></tr></table><br/></div><div class=\"wandb-col\"><h3>Run summary:</h3><br/><table class=\"wandb\"><tr><td>epoch</td><td>7</td></tr><tr><td>inference_accuracy</td><td>0.8875</td></tr><tr><td>inference_loss</td><td>0.58588</td></tr><tr><td>test_acc</td><td>0.91667</td></tr><tr><td>test_f1</td><td>0.92859</td></tr><tr><td>test_loss</td><td>0.61661</td></tr><tr><td>test_precision</td><td>0.93628</td></tr><tr><td>test_recall</td><td>0.92778</td></tr><tr><td>train_acc</td><td>0.8875</td></tr><tr><td>train_f1</td><td>0.8885</td></tr><tr><td>train_loss</td><td>0.58584</td></tr><tr><td>train_precision</td><td>0.89129</td></tr><tr><td>train_recall</td><td>0.8875</td></tr><tr><td>train_time</td><td>00:05:34</td></tr></table><br/></div></div>"
      ],
      "text/plain": [
       "<IPython.core.display.HTML object>"
      ]
     },
     "metadata": {},
     "output_type": "display_data"
    },
    {
     "data": {
      "text/html": [
       " View run <strong style=\"color:#cdcd00\">dashing-sweep-85</strong> at: <a href='https://wandb.ai/andberg9-self/AST_Sweeps/runs/e998iolw' target=\"_blank\">https://wandb.ai/andberg9-self/AST_Sweeps/runs/e998iolw</a><br/> View project at: <a href='https://wandb.ai/andberg9-self/AST_Sweeps' target=\"_blank\">https://wandb.ai/andberg9-self/AST_Sweeps</a><br/>Synced 5 W&B file(s), 0 media file(s), 0 artifact file(s) and 0 other file(s)"
      ],
      "text/plain": [
       "<IPython.core.display.HTML object>"
      ]
     },
     "metadata": {},
     "output_type": "display_data"
    },
    {
     "data": {
      "text/html": [
       "Find logs at: <code>.\\wandb\\run-20240925_191039-e998iolw\\logs</code>"
      ],
      "text/plain": [
       "<IPython.core.display.HTML object>"
      ]
     },
     "metadata": {},
     "output_type": "display_data"
    },
    {
     "name": "stderr",
     "output_type": "stream",
     "text": [
      "wandb: Sweep Agent: Waiting for job.\n",
      "wandb: Job received.\n",
      "wandb: Agent Starting Run: savyawid with config:\n",
      "wandb: \tbatch_size: 8\n",
      "wandb: \tepochs: 7\n",
      "wandb: \tlearning_rate: 0.0009396424068982048\n",
      "wandb: \toptimizer: adamW\n",
      "wandb: \tscheduler: PolynomialLR\n"
     ]
    },
    {
     "data": {
      "text/html": [
       "Tracking run with wandb version 0.18.1"
      ],
      "text/plain": [
       "<IPython.core.display.HTML object>"
      ]
     },
     "metadata": {},
     "output_type": "display_data"
    },
    {
     "data": {
      "text/html": [
       "Run data is saved locally in <code>c:\\Users\\Sidewinders\\Research_notebooks\\Drone_classification\\Research\\notebooks\\wandb\\run-20240925_191644-savyawid</code>"
      ],
      "text/plain": [
       "<IPython.core.display.HTML object>"
      ]
     },
     "metadata": {},
     "output_type": "display_data"
    },
    {
     "data": {
      "text/html": [
       "Syncing run <strong><a href='https://wandb.ai/andberg9-self/AST_Sweeps/runs/savyawid' target=\"_blank\">lyric-sweep-86</a></strong> to <a href='https://wandb.ai/andberg9-self/AST_Sweeps' target=\"_blank\">Weights & Biases</a> (<a href='https://wandb.me/run' target=\"_blank\">docs</a>)<br/>Sweep page: <a href='https://wandb.ai/andberg9-self/AST_Sweeps/sweeps/ange3go8' target=\"_blank\">https://wandb.ai/andberg9-self/AST_Sweeps/sweeps/ange3go8</a>"
      ],
      "text/plain": [
       "<IPython.core.display.HTML object>"
      ]
     },
     "metadata": {},
     "output_type": "display_data"
    },
    {
     "data": {
      "text/html": [
       " View project at <a href='https://wandb.ai/andberg9-self/AST_Sweeps' target=\"_blank\">https://wandb.ai/andberg9-self/AST_Sweeps</a>"
      ],
      "text/plain": [
       "<IPython.core.display.HTML object>"
      ]
     },
     "metadata": {},
     "output_type": "display_data"
    },
    {
     "data": {
      "text/html": [
       " View sweep at <a href='https://wandb.ai/andberg9-self/AST_Sweeps/sweeps/ange3go8' target=\"_blank\">https://wandb.ai/andberg9-self/AST_Sweeps/sweeps/ange3go8</a>"
      ],
      "text/plain": [
       "<IPython.core.display.HTML object>"
      ]
     },
     "metadata": {},
     "output_type": "display_data"
    },
    {
     "data": {
      "text/html": [
       " View run at <a href='https://wandb.ai/andberg9-self/AST_Sweeps/runs/savyawid' target=\"_blank\">https://wandb.ai/andberg9-self/AST_Sweeps/runs/savyawid</a>"
      ],
      "text/plain": [
       "<IPython.core.display.HTML object>"
      ]
     },
     "metadata": {},
     "output_type": "display_data"
    },
    {
     "name": "stdout",
     "output_type": "stream",
     "text": [
      "ASTForAudioClassification(\n",
      "  (audio_spectrogram_transformer): ASTModel(\n",
      "    (embeddings): ASTEmbeddings(\n",
      "      (patch_embeddings): ASTPatchEmbeddings(\n",
      "        (projection): Conv2d(1, 768, kernel_size=(16, 16), stride=(10, 10))\n",
      "      )\n",
      "      (dropout): Dropout(p=0.0, inplace=False)\n",
      "    )\n",
      "    (encoder): ASTEncoder(\n",
      "      (layer): ModuleList(\n",
      "        (0-11): 12 x ASTLayer(\n",
      "          (attention): ASTSdpaAttention(\n",
      "            (attention): ASTSdpaSelfAttention(\n",
      "              (query): Linear(in_features=768, out_features=768, bias=True)\n",
      "              (key): Linear(in_features=768, out_features=768, bias=True)\n",
      "              (value): Linear(in_features=768, out_features=768, bias=True)\n",
      "              (dropout): Dropout(p=0.0, inplace=False)\n",
      "            )\n",
      "            (output): ASTSelfOutput(\n",
      "              (dense): Linear(in_features=768, out_features=768, bias=True)\n",
      "              (dropout): Dropout(p=0.0, inplace=False)\n",
      "            )\n",
      "          )\n",
      "          (intermediate): ASTIntermediate(\n",
      "            (dense): Linear(in_features=768, out_features=3072, bias=True)\n",
      "            (intermediate_act_fn): GELUActivation()\n",
      "          )\n",
      "          (output): ASTOutput(\n",
      "            (dense): Linear(in_features=3072, out_features=768, bias=True)\n",
      "            (dropout): Dropout(p=0.0, inplace=False)\n",
      "          )\n",
      "          (layernorm_before): LayerNorm((768,), eps=1e-12, elementwise_affine=True)\n",
      "          (layernorm_after): LayerNorm((768,), eps=1e-12, elementwise_affine=True)\n",
      "        )\n",
      "      )\n",
      "    )\n",
      "    (layernorm): LayerNorm((768,), eps=1e-12, elementwise_affine=True)\n",
      "  )\n",
      "  (classifier): ASTMLPHead(\n",
      "    (layernorm): LayerNorm((768,), eps=1e-12, elementwise_affine=True)\n",
      "    (dense): Linear(in_features=768, out_features=9, bias=True)\n",
      "  )\n",
      ")\n"
     ]
    },
    {
     "data": {
      "application/vnd.jupyter.widget-view+json": {
       "model_id": "2dfe93a2acb248f08710628d4d42501e",
       "version_major": 2,
       "version_minor": 0
      },
      "text/plain": [
       "  0%|          | 0/7 [00:00<?, ?it/s]"
      ]
     },
     "metadata": {},
     "output_type": "display_data"
    },
    {
     "name": "stdout",
     "output_type": "stream",
     "text": [
      "Epoch 1/7 | Train Loss: 1.2148 | Train Acc: 0.6444 | Train F1: 0.6384 | Test Loss: 0.6283 | Test Acc: 0.8913 | Test F1: 0.8879\n",
      "Epoch 2/7 | Train Loss: 0.4931 | Train Acc: 0.8806 | Train F1: 0.8799 | Test Loss: 0.3927 | Test Acc: 0.8967 | Test F1: 0.8937\n",
      "Epoch 3/7 | Train Loss: 0.3574 | Train Acc: 0.9139 | Train F1: 0.9142 | Test Loss: 0.3321 | Test Acc: 0.9511 | Test F1: 0.9515\n",
      "Epoch 4/7 | Train Loss: 0.3049 | Train Acc: 0.9389 | Train F1: 0.9392 | Test Loss: 0.2912 | Test Acc: 0.9457 | Test F1: 0.9456\n",
      "Epoch 5/7 | Train Loss: 0.2777 | Train Acc: 0.9444 | Train F1: 0.9449 | Test Loss: 0.2937 | Test Acc: 0.9402 | Test F1: 0.9456\n",
      "Epoch 6/7 | Train Loss: 0.2676 | Train Acc: 0.9500 | Train F1: 0.9504 | Test Loss: 0.2807 | Test Acc: 0.9457 | Test F1: 0.9456\n",
      "Epoch 7/7 | Train Loss: 0.2676 | Train Acc: 0.9500 | Train F1: 0.9504 | Test Loss: 0.2879 | Test Acc: 0.9457 | Test F1: 0.9456\n",
      "Train time on cuda: 333.0815440000006\n",
      "Inference Loss: 0.2676, Accuracy: 95.00%\n"
     ]
    },
    {
     "data": {
      "application/vnd.jupyter.widget-view+json": {
       "model_id": "8985fc42443c441db64c5a7e69469ac1",
       "version_major": 2,
       "version_minor": 0
      },
      "text/plain": [
       "VBox(children=(Label(value='0.008 MB of 0.008 MB uploaded\\r'), FloatProgress(value=1.0, max=1.0)))"
      ]
     },
     "metadata": {},
     "output_type": "display_data"
    },
    {
     "data": {
      "text/html": [
       "<style>\n",
       "    table.wandb td:nth-child(1) { padding: 0 10px; text-align: left ; width: auto;} td:nth-child(2) {text-align: left ; width: 100%}\n",
       "    .wandb-row { display: flex; flex-direction: row; flex-wrap: wrap; justify-content: flex-start; width: 100% }\n",
       "    .wandb-col { display: flex; flex-direction: column; flex-basis: 100%; flex: 1; padding: 10px; }\n",
       "    </style>\n",
       "<div class=\"wandb-row\"><div class=\"wandb-col\"><h3>Run history:</h3><br/><table class=\"wandb\"><tr><td>epoch</td><td>▁▂▃▅▆▇█</td></tr><tr><td>inference_accuracy</td><td>▁</td></tr><tr><td>inference_loss</td><td>▁</td></tr><tr><td>test_acc</td><td>▁▂█▇▇▇▇</td></tr><tr><td>test_f1</td><td>▁▂█▇▇▇▇</td></tr><tr><td>test_loss</td><td>█▃▂▁▁▁▁</td></tr><tr><td>test_precision</td><td>▂▁█▇▇▇▇</td></tr><tr><td>test_recall</td><td>▁▂█▇▇▇▇</td></tr><tr><td>train_acc</td><td>▁▆▇████</td></tr><tr><td>train_f1</td><td>▁▆▇████</td></tr><tr><td>train_loss</td><td>█▃▂▁▁▁▁</td></tr><tr><td>train_precision</td><td>▁▆▇████</td></tr><tr><td>train_recall</td><td>▁▆▇████</td></tr></table><br/></div><div class=\"wandb-col\"><h3>Run summary:</h3><br/><table class=\"wandb\"><tr><td>epoch</td><td>7</td></tr><tr><td>inference_accuracy</td><td>0.95</td></tr><tr><td>inference_loss</td><td>0.26759</td></tr><tr><td>test_acc</td><td>0.94565</td></tr><tr><td>test_f1</td><td>0.94563</td></tr><tr><td>test_loss</td><td>0.28789</td></tr><tr><td>test_precision</td><td>0.9533</td></tr><tr><td>test_recall</td><td>0.94444</td></tr><tr><td>train_acc</td><td>0.95</td></tr><tr><td>train_f1</td><td>0.95037</td></tr><tr><td>train_loss</td><td>0.26755</td></tr><tr><td>train_precision</td><td>0.95118</td></tr><tr><td>train_recall</td><td>0.95</td></tr><tr><td>train_time</td><td>00:05:33</td></tr></table><br/></div></div>"
      ],
      "text/plain": [
       "<IPython.core.display.HTML object>"
      ]
     },
     "metadata": {},
     "output_type": "display_data"
    },
    {
     "data": {
      "text/html": [
       " View run <strong style=\"color:#cdcd00\">lyric-sweep-86</strong> at: <a href='https://wandb.ai/andberg9-self/AST_Sweeps/runs/savyawid' target=\"_blank\">https://wandb.ai/andberg9-self/AST_Sweeps/runs/savyawid</a><br/> View project at: <a href='https://wandb.ai/andberg9-self/AST_Sweeps' target=\"_blank\">https://wandb.ai/andberg9-self/AST_Sweeps</a><br/>Synced 5 W&B file(s), 0 media file(s), 0 artifact file(s) and 0 other file(s)"
      ],
      "text/plain": [
       "<IPython.core.display.HTML object>"
      ]
     },
     "metadata": {},
     "output_type": "display_data"
    },
    {
     "data": {
      "text/html": [
       "Find logs at: <code>.\\wandb\\run-20240925_191644-savyawid\\logs</code>"
      ],
      "text/plain": [
       "<IPython.core.display.HTML object>"
      ]
     },
     "metadata": {},
     "output_type": "display_data"
    },
    {
     "name": "stderr",
     "output_type": "stream",
     "text": [
      "wandb: Agent Starting Run: qyzbhm45 with config:\n",
      "wandb: \tbatch_size: 8\n",
      "wandb: \tepochs: 7\n",
      "wandb: \tlearning_rate: 0.000529553947011024\n",
      "wandb: \toptimizer: adamW\n",
      "wandb: \tscheduler: PolynomialLR\n"
     ]
    },
    {
     "data": {
      "text/html": [
       "Tracking run with wandb version 0.18.1"
      ],
      "text/plain": [
       "<IPython.core.display.HTML object>"
      ]
     },
     "metadata": {},
     "output_type": "display_data"
    },
    {
     "data": {
      "text/html": [
       "Run data is saved locally in <code>c:\\Users\\Sidewinders\\Research_notebooks\\Drone_classification\\Research\\notebooks\\wandb\\run-20240925_192242-qyzbhm45</code>"
      ],
      "text/plain": [
       "<IPython.core.display.HTML object>"
      ]
     },
     "metadata": {},
     "output_type": "display_data"
    },
    {
     "data": {
      "text/html": [
       "Syncing run <strong><a href='https://wandb.ai/andberg9-self/AST_Sweeps/runs/qyzbhm45' target=\"_blank\">vivid-sweep-87</a></strong> to <a href='https://wandb.ai/andberg9-self/AST_Sweeps' target=\"_blank\">Weights & Biases</a> (<a href='https://wandb.me/run' target=\"_blank\">docs</a>)<br/>Sweep page: <a href='https://wandb.ai/andberg9-self/AST_Sweeps/sweeps/ange3go8' target=\"_blank\">https://wandb.ai/andberg9-self/AST_Sweeps/sweeps/ange3go8</a>"
      ],
      "text/plain": [
       "<IPython.core.display.HTML object>"
      ]
     },
     "metadata": {},
     "output_type": "display_data"
    },
    {
     "data": {
      "text/html": [
       " View project at <a href='https://wandb.ai/andberg9-self/AST_Sweeps' target=\"_blank\">https://wandb.ai/andberg9-self/AST_Sweeps</a>"
      ],
      "text/plain": [
       "<IPython.core.display.HTML object>"
      ]
     },
     "metadata": {},
     "output_type": "display_data"
    },
    {
     "data": {
      "text/html": [
       " View sweep at <a href='https://wandb.ai/andberg9-self/AST_Sweeps/sweeps/ange3go8' target=\"_blank\">https://wandb.ai/andberg9-self/AST_Sweeps/sweeps/ange3go8</a>"
      ],
      "text/plain": [
       "<IPython.core.display.HTML object>"
      ]
     },
     "metadata": {},
     "output_type": "display_data"
    },
    {
     "data": {
      "text/html": [
       " View run at <a href='https://wandb.ai/andberg9-self/AST_Sweeps/runs/qyzbhm45' target=\"_blank\">https://wandb.ai/andberg9-self/AST_Sweeps/runs/qyzbhm45</a>"
      ],
      "text/plain": [
       "<IPython.core.display.HTML object>"
      ]
     },
     "metadata": {},
     "output_type": "display_data"
    },
    {
     "name": "stdout",
     "output_type": "stream",
     "text": [
      "ASTForAudioClassification(\n",
      "  (audio_spectrogram_transformer): ASTModel(\n",
      "    (embeddings): ASTEmbeddings(\n",
      "      (patch_embeddings): ASTPatchEmbeddings(\n",
      "        (projection): Conv2d(1, 768, kernel_size=(16, 16), stride=(10, 10))\n",
      "      )\n",
      "      (dropout): Dropout(p=0.0, inplace=False)\n",
      "    )\n",
      "    (encoder): ASTEncoder(\n",
      "      (layer): ModuleList(\n",
      "        (0-11): 12 x ASTLayer(\n",
      "          (attention): ASTSdpaAttention(\n",
      "            (attention): ASTSdpaSelfAttention(\n",
      "              (query): Linear(in_features=768, out_features=768, bias=True)\n",
      "              (key): Linear(in_features=768, out_features=768, bias=True)\n",
      "              (value): Linear(in_features=768, out_features=768, bias=True)\n",
      "              (dropout): Dropout(p=0.0, inplace=False)\n",
      "            )\n",
      "            (output): ASTSelfOutput(\n",
      "              (dense): Linear(in_features=768, out_features=768, bias=True)\n",
      "              (dropout): Dropout(p=0.0, inplace=False)\n",
      "            )\n",
      "          )\n",
      "          (intermediate): ASTIntermediate(\n",
      "            (dense): Linear(in_features=768, out_features=3072, bias=True)\n",
      "            (intermediate_act_fn): GELUActivation()\n",
      "          )\n",
      "          (output): ASTOutput(\n",
      "            (dense): Linear(in_features=3072, out_features=768, bias=True)\n",
      "            (dropout): Dropout(p=0.0, inplace=False)\n",
      "          )\n",
      "          (layernorm_before): LayerNorm((768,), eps=1e-12, elementwise_affine=True)\n",
      "          (layernorm_after): LayerNorm((768,), eps=1e-12, elementwise_affine=True)\n",
      "        )\n",
      "      )\n",
      "    )\n",
      "    (layernorm): LayerNorm((768,), eps=1e-12, elementwise_affine=True)\n",
      "  )\n",
      "  (classifier): ASTMLPHead(\n",
      "    (layernorm): LayerNorm((768,), eps=1e-12, elementwise_affine=True)\n",
      "    (dense): Linear(in_features=768, out_features=9, bias=True)\n",
      "  )\n",
      ")\n"
     ]
    },
    {
     "data": {
      "application/vnd.jupyter.widget-view+json": {
       "model_id": "2da25dd24f034ddca74fee5750ea7572",
       "version_major": 2,
       "version_minor": 0
      },
      "text/plain": [
       "  0%|          | 0/7 [00:00<?, ?it/s]"
      ]
     },
     "metadata": {},
     "output_type": "display_data"
    },
    {
     "name": "stdout",
     "output_type": "stream",
     "text": [
      "Epoch 1/7 | Train Loss: 1.5614 | Train Acc: 0.5444 | Train F1: 0.5553 | Test Loss: 1.0212 | Test Acc: 0.7717 | Test F1: 0.7361\n",
      "Epoch 2/7 | Train Loss: 0.7759 | Train Acc: 0.8319 | Train F1: 0.8247 | Test Loss: 0.6226 | Test Acc: 0.8696 | Test F1: 0.8727\n",
      "Epoch 3/7 | Train Loss: 0.5626 | Train Acc: 0.8861 | Train F1: 0.8858 | Test Loss: 0.5165 | Test Acc: 0.9076 | Test F1: 0.9069\n",
      "Epoch 4/7 | Train Loss: 0.4809 | Train Acc: 0.9028 | Train F1: 0.9032 | Test Loss: 0.4683 | Test Acc: 0.9185 | Test F1: 0.9238\n",
      "Epoch 5/7 | Train Loss: 0.4424 | Train Acc: 0.9111 | Train F1: 0.9115 | Test Loss: 0.4370 | Test Acc: 0.9293 | Test F1: 0.9290\n",
      "Epoch 6/7 | Train Loss: 0.4294 | Train Acc: 0.9139 | Train F1: 0.9144 | Test Loss: 0.4435 | Test Acc: 0.9239 | Test F1: 0.9290\n",
      "Epoch 7/7 | Train Loss: 0.4294 | Train Acc: 0.9139 | Train F1: 0.9144 | Test Loss: 0.4344 | Test Acc: 0.9293 | Test F1: 0.9290\n",
      "Train time on cuda: 335.0206175000021\n",
      "Inference Loss: 0.4295, Accuracy: 91.39%\n"
     ]
    },
    {
     "data": {
      "application/vnd.jupyter.widget-view+json": {
       "model_id": "269cd63552ca4f0da04d13dbcb02efdc",
       "version_major": 2,
       "version_minor": 0
      },
      "text/plain": [
       "VBox(children=(Label(value='0.008 MB of 0.008 MB uploaded\\r'), FloatProgress(value=1.0, max=1.0)))"
      ]
     },
     "metadata": {},
     "output_type": "display_data"
    },
    {
     "data": {
      "text/html": [
       "<style>\n",
       "    table.wandb td:nth-child(1) { padding: 0 10px; text-align: left ; width: auto;} td:nth-child(2) {text-align: left ; width: 100%}\n",
       "    .wandb-row { display: flex; flex-direction: row; flex-wrap: wrap; justify-content: flex-start; width: 100% }\n",
       "    .wandb-col { display: flex; flex-direction: column; flex-basis: 100%; flex: 1; padding: 10px; }\n",
       "    </style>\n",
       "<div class=\"wandb-row\"><div class=\"wandb-col\"><h3>Run history:</h3><br/><table class=\"wandb\"><tr><td>epoch</td><td>▁▂▃▅▆▇█</td></tr><tr><td>inference_accuracy</td><td>▁</td></tr><tr><td>inference_loss</td><td>▁</td></tr><tr><td>test_acc</td><td>▁▅▇████</td></tr><tr><td>test_f1</td><td>▁▆▇████</td></tr><tr><td>test_loss</td><td>█▃▂▁▁▁▁</td></tr><tr><td>test_precision</td><td>▁▅▇████</td></tr><tr><td>test_recall</td><td>▁▅▇████</td></tr><tr><td>train_acc</td><td>▁▆▇████</td></tr><tr><td>train_f1</td><td>▁▆▇████</td></tr><tr><td>train_loss</td><td>█▃▂▁▁▁▁</td></tr><tr><td>train_precision</td><td>▁▆▇████</td></tr><tr><td>train_recall</td><td>▁▆▇████</td></tr></table><br/></div><div class=\"wandb-col\"><h3>Run summary:</h3><br/><table class=\"wandb\"><tr><td>epoch</td><td>7</td></tr><tr><td>inference_accuracy</td><td>0.91389</td></tr><tr><td>inference_loss</td><td>0.42949</td></tr><tr><td>test_acc</td><td>0.92935</td></tr><tr><td>test_f1</td><td>0.92896</td></tr><tr><td>test_loss</td><td>0.43442</td></tr><tr><td>test_precision</td><td>0.94031</td></tr><tr><td>test_recall</td><td>0.92778</td></tr><tr><td>train_acc</td><td>0.91389</td></tr><tr><td>train_f1</td><td>0.9144</td></tr><tr><td>train_loss</td><td>0.42942</td></tr><tr><td>train_precision</td><td>0.91583</td></tr><tr><td>train_recall</td><td>0.91389</td></tr><tr><td>train_time</td><td>00:05:35</td></tr></table><br/></div></div>"
      ],
      "text/plain": [
       "<IPython.core.display.HTML object>"
      ]
     },
     "metadata": {},
     "output_type": "display_data"
    },
    {
     "data": {
      "text/html": [
       " View run <strong style=\"color:#cdcd00\">vivid-sweep-87</strong> at: <a href='https://wandb.ai/andberg9-self/AST_Sweeps/runs/qyzbhm45' target=\"_blank\">https://wandb.ai/andberg9-self/AST_Sweeps/runs/qyzbhm45</a><br/> View project at: <a href='https://wandb.ai/andberg9-self/AST_Sweeps' target=\"_blank\">https://wandb.ai/andberg9-self/AST_Sweeps</a><br/>Synced 5 W&B file(s), 0 media file(s), 0 artifact file(s) and 0 other file(s)"
      ],
      "text/plain": [
       "<IPython.core.display.HTML object>"
      ]
     },
     "metadata": {},
     "output_type": "display_data"
    },
    {
     "data": {
      "text/html": [
       "Find logs at: <code>.\\wandb\\run-20240925_192242-qyzbhm45\\logs</code>"
      ],
      "text/plain": [
       "<IPython.core.display.HTML object>"
      ]
     },
     "metadata": {},
     "output_type": "display_data"
    },
    {
     "name": "stderr",
     "output_type": "stream",
     "text": [
      "wandb: Agent Starting Run: 0hjt9w2a with config:\n",
      "wandb: \tbatch_size: 4\n",
      "wandb: \tepochs: 7\n",
      "wandb: \tlearning_rate: 0.00014325958257280553\n",
      "wandb: \toptimizer: adamW\n",
      "wandb: \tscheduler: PolynomialLR\n"
     ]
    },
    {
     "data": {
      "text/html": [
       "Tracking run with wandb version 0.18.1"
      ],
      "text/plain": [
       "<IPython.core.display.HTML object>"
      ]
     },
     "metadata": {},
     "output_type": "display_data"
    },
    {
     "data": {
      "text/html": [
       "Run data is saved locally in <code>c:\\Users\\Sidewinders\\Research_notebooks\\Drone_classification\\Research\\notebooks\\wandb\\run-20240925_192839-0hjt9w2a</code>"
      ],
      "text/plain": [
       "<IPython.core.display.HTML object>"
      ]
     },
     "metadata": {},
     "output_type": "display_data"
    },
    {
     "data": {
      "text/html": [
       "Syncing run <strong><a href='https://wandb.ai/andberg9-self/AST_Sweeps/runs/0hjt9w2a' target=\"_blank\">playful-sweep-88</a></strong> to <a href='https://wandb.ai/andberg9-self/AST_Sweeps' target=\"_blank\">Weights & Biases</a> (<a href='https://wandb.me/run' target=\"_blank\">docs</a>)<br/>Sweep page: <a href='https://wandb.ai/andberg9-self/AST_Sweeps/sweeps/ange3go8' target=\"_blank\">https://wandb.ai/andberg9-self/AST_Sweeps/sweeps/ange3go8</a>"
      ],
      "text/plain": [
       "<IPython.core.display.HTML object>"
      ]
     },
     "metadata": {},
     "output_type": "display_data"
    },
    {
     "data": {
      "text/html": [
       " View project at <a href='https://wandb.ai/andberg9-self/AST_Sweeps' target=\"_blank\">https://wandb.ai/andberg9-self/AST_Sweeps</a>"
      ],
      "text/plain": [
       "<IPython.core.display.HTML object>"
      ]
     },
     "metadata": {},
     "output_type": "display_data"
    },
    {
     "data": {
      "text/html": [
       " View sweep at <a href='https://wandb.ai/andberg9-self/AST_Sweeps/sweeps/ange3go8' target=\"_blank\">https://wandb.ai/andberg9-self/AST_Sweeps/sweeps/ange3go8</a>"
      ],
      "text/plain": [
       "<IPython.core.display.HTML object>"
      ]
     },
     "metadata": {},
     "output_type": "display_data"
    },
    {
     "data": {
      "text/html": [
       " View run at <a href='https://wandb.ai/andberg9-self/AST_Sweeps/runs/0hjt9w2a' target=\"_blank\">https://wandb.ai/andberg9-self/AST_Sweeps/runs/0hjt9w2a</a>"
      ],
      "text/plain": [
       "<IPython.core.display.HTML object>"
      ]
     },
     "metadata": {},
     "output_type": "display_data"
    },
    {
     "name": "stdout",
     "output_type": "stream",
     "text": [
      "ASTForAudioClassification(\n",
      "  (audio_spectrogram_transformer): ASTModel(\n",
      "    (embeddings): ASTEmbeddings(\n",
      "      (patch_embeddings): ASTPatchEmbeddings(\n",
      "        (projection): Conv2d(1, 768, kernel_size=(16, 16), stride=(10, 10))\n",
      "      )\n",
      "      (dropout): Dropout(p=0.0, inplace=False)\n",
      "    )\n",
      "    (encoder): ASTEncoder(\n",
      "      (layer): ModuleList(\n",
      "        (0-11): 12 x ASTLayer(\n",
      "          (attention): ASTSdpaAttention(\n",
      "            (attention): ASTSdpaSelfAttention(\n",
      "              (query): Linear(in_features=768, out_features=768, bias=True)\n",
      "              (key): Linear(in_features=768, out_features=768, bias=True)\n",
      "              (value): Linear(in_features=768, out_features=768, bias=True)\n",
      "              (dropout): Dropout(p=0.0, inplace=False)\n",
      "            )\n",
      "            (output): ASTSelfOutput(\n",
      "              (dense): Linear(in_features=768, out_features=768, bias=True)\n",
      "              (dropout): Dropout(p=0.0, inplace=False)\n",
      "            )\n",
      "          )\n",
      "          (intermediate): ASTIntermediate(\n",
      "            (dense): Linear(in_features=768, out_features=3072, bias=True)\n",
      "            (intermediate_act_fn): GELUActivation()\n",
      "          )\n",
      "          (output): ASTOutput(\n",
      "            (dense): Linear(in_features=3072, out_features=768, bias=True)\n",
      "            (dropout): Dropout(p=0.0, inplace=False)\n",
      "          )\n",
      "          (layernorm_before): LayerNorm((768,), eps=1e-12, elementwise_affine=True)\n",
      "          (layernorm_after): LayerNorm((768,), eps=1e-12, elementwise_affine=True)\n",
      "        )\n",
      "      )\n",
      "    )\n",
      "    (layernorm): LayerNorm((768,), eps=1e-12, elementwise_affine=True)\n",
      "  )\n",
      "  (classifier): ASTMLPHead(\n",
      "    (layernorm): LayerNorm((768,), eps=1e-12, elementwise_affine=True)\n",
      "    (dense): Linear(in_features=768, out_features=9, bias=True)\n",
      "  )\n",
      ")\n"
     ]
    },
    {
     "data": {
      "application/vnd.jupyter.widget-view+json": {
       "model_id": "06652eb628134ff8aecaaad40bede9e6",
       "version_major": 2,
       "version_minor": 0
      },
      "text/plain": [
       "  0%|          | 0/7 [00:00<?, ?it/s]"
      ]
     },
     "metadata": {},
     "output_type": "display_data"
    },
    {
     "name": "stdout",
     "output_type": "stream",
     "text": [
      "Epoch 1/7 | Train Loss: 2.0149 | Train Acc: 0.2819 | Train F1: 0.2945 | Test Loss: 1.5977 | Test Acc: 0.6000 | Test F1: 0.5746\n",
      "Epoch 2/7 | Train Loss: 1.3760 | Train Acc: 0.7167 | Train F1: 0.7125 | Test Loss: 1.1718 | Test Acc: 0.8389 | Test F1: 0.8372\n",
      "Epoch 3/7 | Train Loss: 1.0700 | Train Acc: 0.8278 | Train F1: 0.8279 | Test Loss: 0.9805 | Test Acc: 0.8556 | Test F1: 0.8521\n",
      "Epoch 4/7 | Train Loss: 0.9213 | Train Acc: 0.8431 | Train F1: 0.8412 | Test Loss: 0.8800 | Test Acc: 0.8556 | Test F1: 0.8535\n",
      "Epoch 5/7 | Train Loss: 0.8496 | Train Acc: 0.8542 | Train F1: 0.8539 | Test Loss: 0.8376 | Test Acc: 0.8667 | Test F1: 0.8664\n",
      "Epoch 6/7 | Train Loss: 0.8251 | Train Acc: 0.8556 | Train F1: 0.8553 | Test Loss: 0.8376 | Test Acc: 0.8667 | Test F1: 0.8664\n",
      "Epoch 7/7 | Train Loss: 0.8251 | Train Acc: 0.8556 | Train F1: 0.8553 | Test Loss: 0.8376 | Test Acc: 0.8667 | Test F1: 0.8664\n",
      "Train time on cuda: 330.9667788000006\n",
      "Inference Loss: 0.8251, Accuracy: 85.56%\n"
     ]
    },
    {
     "data": {
      "application/vnd.jupyter.widget-view+json": {
       "model_id": "fb312a85903848a4958cc0d138ed465e",
       "version_major": 2,
       "version_minor": 0
      },
      "text/plain": [
       "VBox(children=(Label(value='0.008 MB of 0.008 MB uploaded\\r'), FloatProgress(value=1.0, max=1.0)))"
      ]
     },
     "metadata": {},
     "output_type": "display_data"
    },
    {
     "data": {
      "text/html": [
       "<style>\n",
       "    table.wandb td:nth-child(1) { padding: 0 10px; text-align: left ; width: auto;} td:nth-child(2) {text-align: left ; width: 100%}\n",
       "    .wandb-row { display: flex; flex-direction: row; flex-wrap: wrap; justify-content: flex-start; width: 100% }\n",
       "    .wandb-col { display: flex; flex-direction: column; flex-basis: 100%; flex: 1; padding: 10px; }\n",
       "    </style>\n",
       "<div class=\"wandb-row\"><div class=\"wandb-col\"><h3>Run history:</h3><br/><table class=\"wandb\"><tr><td>epoch</td><td>▁▂▃▅▆▇█</td></tr><tr><td>inference_accuracy</td><td>▁</td></tr><tr><td>inference_loss</td><td>▁</td></tr><tr><td>test_acc</td><td>▁▇█████</td></tr><tr><td>test_f1</td><td>▁▇█████</td></tr><tr><td>test_loss</td><td>█▄▂▁▁▁▁</td></tr><tr><td>test_precision</td><td>▁▇█████</td></tr><tr><td>test_recall</td><td>▁▇█████</td></tr><tr><td>train_acc</td><td>▁▆█████</td></tr><tr><td>train_f1</td><td>▁▆█████</td></tr><tr><td>train_loss</td><td>█▄▂▂▁▁▁</td></tr><tr><td>train_precision</td><td>▁▆█████</td></tr><tr><td>train_recall</td><td>▁▆█████</td></tr></table><br/></div><div class=\"wandb-col\"><h3>Run summary:</h3><br/><table class=\"wandb\"><tr><td>epoch</td><td>7</td></tr><tr><td>inference_accuracy</td><td>0.85556</td></tr><tr><td>inference_loss</td><td>0.82515</td></tr><tr><td>test_acc</td><td>0.86667</td></tr><tr><td>test_f1</td><td>0.86637</td></tr><tr><td>test_loss</td><td>0.83759</td></tr><tr><td>test_precision</td><td>0.88191</td></tr><tr><td>test_recall</td><td>0.86667</td></tr><tr><td>train_acc</td><td>0.85556</td></tr><tr><td>train_f1</td><td>0.8553</td></tr><tr><td>train_loss</td><td>0.82512</td></tr><tr><td>train_precision</td><td>0.85923</td></tr><tr><td>train_recall</td><td>0.85556</td></tr><tr><td>train_time</td><td>00:05:30</td></tr></table><br/></div></div>"
      ],
      "text/plain": [
       "<IPython.core.display.HTML object>"
      ]
     },
     "metadata": {},
     "output_type": "display_data"
    },
    {
     "data": {
      "text/html": [
       " View run <strong style=\"color:#cdcd00\">playful-sweep-88</strong> at: <a href='https://wandb.ai/andberg9-self/AST_Sweeps/runs/0hjt9w2a' target=\"_blank\">https://wandb.ai/andberg9-self/AST_Sweeps/runs/0hjt9w2a</a><br/> View project at: <a href='https://wandb.ai/andberg9-self/AST_Sweeps' target=\"_blank\">https://wandb.ai/andberg9-self/AST_Sweeps</a><br/>Synced 5 W&B file(s), 0 media file(s), 0 artifact file(s) and 0 other file(s)"
      ],
      "text/plain": [
       "<IPython.core.display.HTML object>"
      ]
     },
     "metadata": {},
     "output_type": "display_data"
    },
    {
     "data": {
      "text/html": [
       "Find logs at: <code>.\\wandb\\run-20240925_192839-0hjt9w2a\\logs</code>"
      ],
      "text/plain": [
       "<IPython.core.display.HTML object>"
      ]
     },
     "metadata": {},
     "output_type": "display_data"
    },
    {
     "name": "stderr",
     "output_type": "stream",
     "text": [
      "wandb: Agent Starting Run: mcqo3ddw with config:\n",
      "wandb: \tbatch_size: 16\n",
      "wandb: \tepochs: 7\n",
      "wandb: \tlearning_rate: 0.00015944708176620826\n",
      "wandb: \toptimizer: adamW\n",
      "wandb: \tscheduler: PolynomialLR\n"
     ]
    },
    {
     "data": {
      "text/html": [
       "Tracking run with wandb version 0.18.1"
      ],
      "text/plain": [
       "<IPython.core.display.HTML object>"
      ]
     },
     "metadata": {},
     "output_type": "display_data"
    },
    {
     "data": {
      "text/html": [
       "Run data is saved locally in <code>c:\\Users\\Sidewinders\\Research_notebooks\\Drone_classification\\Research\\notebooks\\wandb\\run-20240925_193433-mcqo3ddw</code>"
      ],
      "text/plain": [
       "<IPython.core.display.HTML object>"
      ]
     },
     "metadata": {},
     "output_type": "display_data"
    },
    {
     "data": {
      "text/html": [
       "Syncing run <strong><a href='https://wandb.ai/andberg9-self/AST_Sweeps/runs/mcqo3ddw' target=\"_blank\">leafy-sweep-89</a></strong> to <a href='https://wandb.ai/andberg9-self/AST_Sweeps' target=\"_blank\">Weights & Biases</a> (<a href='https://wandb.me/run' target=\"_blank\">docs</a>)<br/>Sweep page: <a href='https://wandb.ai/andberg9-self/AST_Sweeps/sweeps/ange3go8' target=\"_blank\">https://wandb.ai/andberg9-self/AST_Sweeps/sweeps/ange3go8</a>"
      ],
      "text/plain": [
       "<IPython.core.display.HTML object>"
      ]
     },
     "metadata": {},
     "output_type": "display_data"
    },
    {
     "data": {
      "text/html": [
       " View project at <a href='https://wandb.ai/andberg9-self/AST_Sweeps' target=\"_blank\">https://wandb.ai/andberg9-self/AST_Sweeps</a>"
      ],
      "text/plain": [
       "<IPython.core.display.HTML object>"
      ]
     },
     "metadata": {},
     "output_type": "display_data"
    },
    {
     "data": {
      "text/html": [
       " View sweep at <a href='https://wandb.ai/andberg9-self/AST_Sweeps/sweeps/ange3go8' target=\"_blank\">https://wandb.ai/andberg9-self/AST_Sweeps/sweeps/ange3go8</a>"
      ],
      "text/plain": [
       "<IPython.core.display.HTML object>"
      ]
     },
     "metadata": {},
     "output_type": "display_data"
    },
    {
     "data": {
      "text/html": [
       " View run at <a href='https://wandb.ai/andberg9-self/AST_Sweeps/runs/mcqo3ddw' target=\"_blank\">https://wandb.ai/andberg9-self/AST_Sweeps/runs/mcqo3ddw</a>"
      ],
      "text/plain": [
       "<IPython.core.display.HTML object>"
      ]
     },
     "metadata": {},
     "output_type": "display_data"
    },
    {
     "name": "stdout",
     "output_type": "stream",
     "text": [
      "ASTForAudioClassification(\n",
      "  (audio_spectrogram_transformer): ASTModel(\n",
      "    (embeddings): ASTEmbeddings(\n",
      "      (patch_embeddings): ASTPatchEmbeddings(\n",
      "        (projection): Conv2d(1, 768, kernel_size=(16, 16), stride=(10, 10))\n",
      "      )\n",
      "      (dropout): Dropout(p=0.0, inplace=False)\n",
      "    )\n",
      "    (encoder): ASTEncoder(\n",
      "      (layer): ModuleList(\n",
      "        (0-11): 12 x ASTLayer(\n",
      "          (attention): ASTSdpaAttention(\n",
      "            (attention): ASTSdpaSelfAttention(\n",
      "              (query): Linear(in_features=768, out_features=768, bias=True)\n",
      "              (key): Linear(in_features=768, out_features=768, bias=True)\n",
      "              (value): Linear(in_features=768, out_features=768, bias=True)\n",
      "              (dropout): Dropout(p=0.0, inplace=False)\n",
      "            )\n",
      "            (output): ASTSelfOutput(\n",
      "              (dense): Linear(in_features=768, out_features=768, bias=True)\n",
      "              (dropout): Dropout(p=0.0, inplace=False)\n",
      "            )\n",
      "          )\n",
      "          (intermediate): ASTIntermediate(\n",
      "            (dense): Linear(in_features=768, out_features=3072, bias=True)\n",
      "            (intermediate_act_fn): GELUActivation()\n",
      "          )\n",
      "          (output): ASTOutput(\n",
      "            (dense): Linear(in_features=3072, out_features=768, bias=True)\n",
      "            (dropout): Dropout(p=0.0, inplace=False)\n",
      "          )\n",
      "          (layernorm_before): LayerNorm((768,), eps=1e-12, elementwise_affine=True)\n",
      "          (layernorm_after): LayerNorm((768,), eps=1e-12, elementwise_affine=True)\n",
      "        )\n",
      "      )\n",
      "    )\n",
      "    (layernorm): LayerNorm((768,), eps=1e-12, elementwise_affine=True)\n",
      "  )\n",
      "  (classifier): ASTMLPHead(\n",
      "    (layernorm): LayerNorm((768,), eps=1e-12, elementwise_affine=True)\n",
      "    (dense): Linear(in_features=768, out_features=9, bias=True)\n",
      "  )\n",
      ")\n"
     ]
    },
    {
     "data": {
      "application/vnd.jupyter.widget-view+json": {
       "model_id": "88a1ebf0835a4cb3ab660a0af8ac7cc3",
       "version_major": 2,
       "version_minor": 0
      },
      "text/plain": [
       "  0%|          | 0/7 [00:00<?, ?it/s]"
      ]
     },
     "metadata": {},
     "output_type": "display_data"
    },
    {
     "name": "stdout",
     "output_type": "stream",
     "text": [
      "Epoch 1/7 | Train Loss: 2.0829 | Train Acc: 0.2153 | Train F1: 0.1894 | Test Loss: 1.9075 | Test Acc: 0.3229 | Test F1: 0.2887\n",
      "Epoch 2/7 | Train Loss: 1.7616 | Train Acc: 0.4722 | Train F1: 0.4371 | Test Loss: 1.7237 | Test Acc: 0.4948 | Test F1: 0.4784\n",
      "Epoch 3/7 | Train Loss: 1.5785 | Train Acc: 0.5819 | Train F1: 0.5464 | Test Loss: 1.5404 | Test Acc: 0.6198 | Test F1: 0.5843\n",
      "Epoch 4/7 | Train Loss: 1.4576 | Train Acc: 0.6458 | Train F1: 0.6227 | Test Loss: 1.4395 | Test Acc: 0.6562 | Test F1: 0.6293\n",
      "Epoch 5/7 | Train Loss: 1.3905 | Train Acc: 0.6750 | Train F1: 0.6582 | Test Loss: 1.4297 | Test Acc: 0.6250 | Test F1: 0.6298\n",
      "Epoch 6/7 | Train Loss: 1.3680 | Train Acc: 0.6861 | Train F1: 0.6711 | Test Loss: 1.4056 | Test Acc: 0.6562 | Test F1: 0.6298\n",
      "Epoch 7/7 | Train Loss: 1.3680 | Train Acc: 0.6861 | Train F1: 0.6711 | Test Loss: 1.4033 | Test Acc: 0.6406 | Test F1: 0.6298\n",
      "Train time on cuda: 334.8881515999965\n",
      "Inference Loss: 1.3680, Accuracy: 68.61%\n"
     ]
    },
    {
     "data": {
      "application/vnd.jupyter.widget-view+json": {
       "model_id": "8783382802f54a5db55bb7db6601198c",
       "version_major": 2,
       "version_minor": 0
      },
      "text/plain": [
       "VBox(children=(Label(value='0.008 MB of 0.008 MB uploaded\\r'), FloatProgress(value=1.0, max=1.0)))"
      ]
     },
     "metadata": {},
     "output_type": "display_data"
    },
    {
     "data": {
      "text/html": [
       "<style>\n",
       "    table.wandb td:nth-child(1) { padding: 0 10px; text-align: left ; width: auto;} td:nth-child(2) {text-align: left ; width: 100%}\n",
       "    .wandb-row { display: flex; flex-direction: row; flex-wrap: wrap; justify-content: flex-start; width: 100% }\n",
       "    .wandb-col { display: flex; flex-direction: column; flex-basis: 100%; flex: 1; padding: 10px; }\n",
       "    </style>\n",
       "<div class=\"wandb-row\"><div class=\"wandb-col\"><h3>Run history:</h3><br/><table class=\"wandb\"><tr><td>epoch</td><td>▁▂▃▅▆▇█</td></tr><tr><td>inference_accuracy</td><td>▁</td></tr><tr><td>inference_loss</td><td>▁</td></tr><tr><td>test_acc</td><td>▁▅▇█▇██</td></tr><tr><td>test_f1</td><td>▁▅▇████</td></tr><tr><td>test_loss</td><td>█▅▃▂▁▁▁</td></tr><tr><td>test_precision</td><td>▁▅▇████</td></tr><tr><td>test_recall</td><td>▁▅▇████</td></tr><tr><td>train_acc</td><td>▁▅▆▇███</td></tr><tr><td>train_f1</td><td>▁▅▆▇███</td></tr><tr><td>train_loss</td><td>█▅▃▂▁▁▁</td></tr><tr><td>train_precision</td><td>▁▄▆▇███</td></tr><tr><td>train_recall</td><td>▁▅▆▇███</td></tr></table><br/></div><div class=\"wandb-col\"><h3>Run summary:</h3><br/><table class=\"wandb\"><tr><td>epoch</td><td>7</td></tr><tr><td>inference_accuracy</td><td>0.68611</td></tr><tr><td>inference_loss</td><td>1.36804</td></tr><tr><td>test_acc</td><td>0.64062</td></tr><tr><td>test_f1</td><td>0.62982</td></tr><tr><td>test_loss</td><td>1.40333</td></tr><tr><td>test_precision</td><td>0.63789</td></tr><tr><td>test_recall</td><td>0.65</td></tr><tr><td>train_acc</td><td>0.68611</td></tr><tr><td>train_f1</td><td>0.67111</td></tr><tr><td>train_loss</td><td>1.36796</td></tr><tr><td>train_precision</td><td>0.66944</td></tr><tr><td>train_recall</td><td>0.68611</td></tr><tr><td>train_time</td><td>00:05:34</td></tr></table><br/></div></div>"
      ],
      "text/plain": [
       "<IPython.core.display.HTML object>"
      ]
     },
     "metadata": {},
     "output_type": "display_data"
    },
    {
     "data": {
      "text/html": [
       " View run <strong style=\"color:#cdcd00\">leafy-sweep-89</strong> at: <a href='https://wandb.ai/andberg9-self/AST_Sweeps/runs/mcqo3ddw' target=\"_blank\">https://wandb.ai/andberg9-self/AST_Sweeps/runs/mcqo3ddw</a><br/> View project at: <a href='https://wandb.ai/andberg9-self/AST_Sweeps' target=\"_blank\">https://wandb.ai/andberg9-self/AST_Sweeps</a><br/>Synced 5 W&B file(s), 0 media file(s), 0 artifact file(s) and 0 other file(s)"
      ],
      "text/plain": [
       "<IPython.core.display.HTML object>"
      ]
     },
     "metadata": {},
     "output_type": "display_data"
    },
    {
     "data": {
      "text/html": [
       "Find logs at: <code>.\\wandb\\run-20240925_193433-mcqo3ddw\\logs</code>"
      ],
      "text/plain": [
       "<IPython.core.display.HTML object>"
      ]
     },
     "metadata": {},
     "output_type": "display_data"
    },
    {
     "name": "stderr",
     "output_type": "stream",
     "text": [
      "wandb: Agent Starting Run: 8kij1q0b with config:\n",
      "wandb: \tbatch_size: 4\n",
      "wandb: \tepochs: 7\n",
      "wandb: \tlearning_rate: 0.000554367158385364\n",
      "wandb: \toptimizer: adamW\n",
      "wandb: \tscheduler: PolynomialLR\n"
     ]
    },
    {
     "data": {
      "text/html": [
       "Tracking run with wandb version 0.18.1"
      ],
      "text/plain": [
       "<IPython.core.display.HTML object>"
      ]
     },
     "metadata": {},
     "output_type": "display_data"
    },
    {
     "data": {
      "text/html": [
       "Run data is saved locally in <code>c:\\Users\\Sidewinders\\Research_notebooks\\Drone_classification\\Research\\notebooks\\wandb\\run-20240925_194034-8kij1q0b</code>"
      ],
      "text/plain": [
       "<IPython.core.display.HTML object>"
      ]
     },
     "metadata": {},
     "output_type": "display_data"
    },
    {
     "data": {
      "text/html": [
       "Syncing run <strong><a href='https://wandb.ai/andberg9-self/AST_Sweeps/runs/8kij1q0b' target=\"_blank\">fluent-sweep-90</a></strong> to <a href='https://wandb.ai/andberg9-self/AST_Sweeps' target=\"_blank\">Weights & Biases</a> (<a href='https://wandb.me/run' target=\"_blank\">docs</a>)<br/>Sweep page: <a href='https://wandb.ai/andberg9-self/AST_Sweeps/sweeps/ange3go8' target=\"_blank\">https://wandb.ai/andberg9-self/AST_Sweeps/sweeps/ange3go8</a>"
      ],
      "text/plain": [
       "<IPython.core.display.HTML object>"
      ]
     },
     "metadata": {},
     "output_type": "display_data"
    },
    {
     "data": {
      "text/html": [
       " View project at <a href='https://wandb.ai/andberg9-self/AST_Sweeps' target=\"_blank\">https://wandb.ai/andberg9-self/AST_Sweeps</a>"
      ],
      "text/plain": [
       "<IPython.core.display.HTML object>"
      ]
     },
     "metadata": {},
     "output_type": "display_data"
    },
    {
     "data": {
      "text/html": [
       " View sweep at <a href='https://wandb.ai/andberg9-self/AST_Sweeps/sweeps/ange3go8' target=\"_blank\">https://wandb.ai/andberg9-self/AST_Sweeps/sweeps/ange3go8</a>"
      ],
      "text/plain": [
       "<IPython.core.display.HTML object>"
      ]
     },
     "metadata": {},
     "output_type": "display_data"
    },
    {
     "data": {
      "text/html": [
       " View run at <a href='https://wandb.ai/andberg9-self/AST_Sweeps/runs/8kij1q0b' target=\"_blank\">https://wandb.ai/andberg9-self/AST_Sweeps/runs/8kij1q0b</a>"
      ],
      "text/plain": [
       "<IPython.core.display.HTML object>"
      ]
     },
     "metadata": {},
     "output_type": "display_data"
    },
    {
     "name": "stdout",
     "output_type": "stream",
     "text": [
      "ASTForAudioClassification(\n",
      "  (audio_spectrogram_transformer): ASTModel(\n",
      "    (embeddings): ASTEmbeddings(\n",
      "      (patch_embeddings): ASTPatchEmbeddings(\n",
      "        (projection): Conv2d(1, 768, kernel_size=(16, 16), stride=(10, 10))\n",
      "      )\n",
      "      (dropout): Dropout(p=0.0, inplace=False)\n",
      "    )\n",
      "    (encoder): ASTEncoder(\n",
      "      (layer): ModuleList(\n",
      "        (0-11): 12 x ASTLayer(\n",
      "          (attention): ASTSdpaAttention(\n",
      "            (attention): ASTSdpaSelfAttention(\n",
      "              (query): Linear(in_features=768, out_features=768, bias=True)\n",
      "              (key): Linear(in_features=768, out_features=768, bias=True)\n",
      "              (value): Linear(in_features=768, out_features=768, bias=True)\n",
      "              (dropout): Dropout(p=0.0, inplace=False)\n",
      "            )\n",
      "            (output): ASTSelfOutput(\n",
      "              (dense): Linear(in_features=768, out_features=768, bias=True)\n",
      "              (dropout): Dropout(p=0.0, inplace=False)\n",
      "            )\n",
      "          )\n",
      "          (intermediate): ASTIntermediate(\n",
      "            (dense): Linear(in_features=768, out_features=3072, bias=True)\n",
      "            (intermediate_act_fn): GELUActivation()\n",
      "          )\n",
      "          (output): ASTOutput(\n",
      "            (dense): Linear(in_features=3072, out_features=768, bias=True)\n",
      "            (dropout): Dropout(p=0.0, inplace=False)\n",
      "          )\n",
      "          (layernorm_before): LayerNorm((768,), eps=1e-12, elementwise_affine=True)\n",
      "          (layernorm_after): LayerNorm((768,), eps=1e-12, elementwise_affine=True)\n",
      "        )\n",
      "      )\n",
      "    )\n",
      "    (layernorm): LayerNorm((768,), eps=1e-12, elementwise_affine=True)\n",
      "  )\n",
      "  (classifier): ASTMLPHead(\n",
      "    (layernorm): LayerNorm((768,), eps=1e-12, elementwise_affine=True)\n",
      "    (dense): Linear(in_features=768, out_features=9, bias=True)\n",
      "  )\n",
      ")\n"
     ]
    },
    {
     "data": {
      "application/vnd.jupyter.widget-view+json": {
       "model_id": "66a881af46a349a4bda1d69739f92a0f",
       "version_major": 2,
       "version_minor": 0
      },
      "text/plain": [
       "  0%|          | 0/7 [00:00<?, ?it/s]"
      ]
     },
     "metadata": {},
     "output_type": "display_data"
    },
    {
     "name": "stdout",
     "output_type": "stream",
     "text": [
      "Epoch 1/7 | Train Loss: 1.3871 | Train Acc: 0.5792 | Train F1: 0.5804 | Test Loss: 0.6902 | Test Acc: 0.8778 | Test F1: 0.8796\n",
      "Epoch 2/7 | Train Loss: 0.5585 | Train Acc: 0.8764 | Train F1: 0.8765 | Test Loss: 0.4360 | Test Acc: 0.9222 | Test F1: 0.9227\n",
      "Epoch 3/7 | Train Loss: 0.4157 | Train Acc: 0.9236 | Train F1: 0.9242 | Test Loss: 0.3566 | Test Acc: 0.9444 | Test F1: 0.9454\n",
      "Epoch 4/7 | Train Loss: 0.3468 | Train Acc: 0.9319 | Train F1: 0.9326 | Test Loss: 0.3257 | Test Acc: 0.9611 | Test F1: 0.9619\n",
      "Epoch 5/7 | Train Loss: 0.3159 | Train Acc: 0.9389 | Train F1: 0.9392 | Test Loss: 0.3111 | Test Acc: 0.9611 | Test F1: 0.9619\n",
      "Epoch 6/7 | Train Loss: 0.3026 | Train Acc: 0.9431 | Train F1: 0.9434 | Test Loss: 0.3111 | Test Acc: 0.9611 | Test F1: 0.9619\n",
      "Epoch 7/7 | Train Loss: 0.3026 | Train Acc: 0.9431 | Train F1: 0.9434 | Test Loss: 0.3111 | Test Acc: 0.9611 | Test F1: 0.9619\n",
      "Train time on cuda: 330.80358319999505\n",
      "Inference Loss: 0.3027, Accuracy: 94.31%\n"
     ]
    },
    {
     "data": {
      "application/vnd.jupyter.widget-view+json": {
       "model_id": "12404b30a0b941ce894032ad4911d640",
       "version_major": 2,
       "version_minor": 0
      },
      "text/plain": [
       "VBox(children=(Label(value='0.008 MB of 0.008 MB uploaded\\r'), FloatProgress(value=1.0, max=1.0)))"
      ]
     },
     "metadata": {},
     "output_type": "display_data"
    },
    {
     "data": {
      "text/html": [
       "<style>\n",
       "    table.wandb td:nth-child(1) { padding: 0 10px; text-align: left ; width: auto;} td:nth-child(2) {text-align: left ; width: 100%}\n",
       "    .wandb-row { display: flex; flex-direction: row; flex-wrap: wrap; justify-content: flex-start; width: 100% }\n",
       "    .wandb-col { display: flex; flex-direction: column; flex-basis: 100%; flex: 1; padding: 10px; }\n",
       "    </style>\n",
       "<div class=\"wandb-row\"><div class=\"wandb-col\"><h3>Run history:</h3><br/><table class=\"wandb\"><tr><td>epoch</td><td>▁▂▃▅▆▇█</td></tr><tr><td>inference_accuracy</td><td>▁</td></tr><tr><td>inference_loss</td><td>▁</td></tr><tr><td>test_acc</td><td>▁▅▇████</td></tr><tr><td>test_f1</td><td>▁▅▇████</td></tr><tr><td>test_loss</td><td>█▃▂▁▁▁▁</td></tr><tr><td>test_precision</td><td>▁▃▆████</td></tr><tr><td>test_recall</td><td>▁▅▇████</td></tr><tr><td>train_acc</td><td>▁▇█████</td></tr><tr><td>train_f1</td><td>▁▇█████</td></tr><tr><td>train_loss</td><td>█▃▂▁▁▁▁</td></tr><tr><td>train_precision</td><td>▁▇█████</td></tr><tr><td>train_recall</td><td>▁▇█████</td></tr></table><br/></div><div class=\"wandb-col\"><h3>Run summary:</h3><br/><table class=\"wandb\"><tr><td>epoch</td><td>7</td></tr><tr><td>inference_accuracy</td><td>0.94306</td></tr><tr><td>inference_loss</td><td>0.30268</td></tr><tr><td>test_acc</td><td>0.96111</td></tr><tr><td>test_f1</td><td>0.96191</td></tr><tr><td>test_loss</td><td>0.31113</td></tr><tr><td>test_precision</td><td>0.96861</td></tr><tr><td>test_recall</td><td>0.96111</td></tr><tr><td>train_acc</td><td>0.94306</td></tr><tr><td>train_f1</td><td>0.94338</td></tr><tr><td>train_loss</td><td>0.30264</td></tr><tr><td>train_precision</td><td>0.94411</td></tr><tr><td>train_recall</td><td>0.94306</td></tr><tr><td>train_time</td><td>00:05:30</td></tr></table><br/></div></div>"
      ],
      "text/plain": [
       "<IPython.core.display.HTML object>"
      ]
     },
     "metadata": {},
     "output_type": "display_data"
    },
    {
     "data": {
      "text/html": [
       " View run <strong style=\"color:#cdcd00\">fluent-sweep-90</strong> at: <a href='https://wandb.ai/andberg9-self/AST_Sweeps/runs/8kij1q0b' target=\"_blank\">https://wandb.ai/andberg9-self/AST_Sweeps/runs/8kij1q0b</a><br/> View project at: <a href='https://wandb.ai/andberg9-self/AST_Sweeps' target=\"_blank\">https://wandb.ai/andberg9-self/AST_Sweeps</a><br/>Synced 5 W&B file(s), 0 media file(s), 0 artifact file(s) and 0 other file(s)"
      ],
      "text/plain": [
       "<IPython.core.display.HTML object>"
      ]
     },
     "metadata": {},
     "output_type": "display_data"
    },
    {
     "data": {
      "text/html": [
       "Find logs at: <code>.\\wandb\\run-20240925_194034-8kij1q0b\\logs</code>"
      ],
      "text/plain": [
       "<IPython.core.display.HTML object>"
      ]
     },
     "metadata": {},
     "output_type": "display_data"
    },
    {
     "name": "stderr",
     "output_type": "stream",
     "text": [
      "wandb: Agent Starting Run: 81a16oai with config:\n",
      "wandb: \tbatch_size: 4\n",
      "wandb: \tepochs: 7\n",
      "wandb: \tlearning_rate: 0.0003497894037364741\n",
      "wandb: \toptimizer: adamW\n",
      "wandb: \tscheduler: PolynomialLR\n"
     ]
    },
    {
     "data": {
      "text/html": [
       "Tracking run with wandb version 0.18.1"
      ],
      "text/plain": [
       "<IPython.core.display.HTML object>"
      ]
     },
     "metadata": {},
     "output_type": "display_data"
    },
    {
     "data": {
      "text/html": [
       "Run data is saved locally in <code>c:\\Users\\Sidewinders\\Research_notebooks\\Drone_classification\\Research\\notebooks\\wandb\\run-20240925_194629-81a16oai</code>"
      ],
      "text/plain": [
       "<IPython.core.display.HTML object>"
      ]
     },
     "metadata": {},
     "output_type": "display_data"
    },
    {
     "data": {
      "text/html": [
       "Syncing run <strong><a href='https://wandb.ai/andberg9-self/AST_Sweeps/runs/81a16oai' target=\"_blank\">skilled-sweep-91</a></strong> to <a href='https://wandb.ai/andberg9-self/AST_Sweeps' target=\"_blank\">Weights & Biases</a> (<a href='https://wandb.me/run' target=\"_blank\">docs</a>)<br/>Sweep page: <a href='https://wandb.ai/andberg9-self/AST_Sweeps/sweeps/ange3go8' target=\"_blank\">https://wandb.ai/andberg9-self/AST_Sweeps/sweeps/ange3go8</a>"
      ],
      "text/plain": [
       "<IPython.core.display.HTML object>"
      ]
     },
     "metadata": {},
     "output_type": "display_data"
    },
    {
     "data": {
      "text/html": [
       " View project at <a href='https://wandb.ai/andberg9-self/AST_Sweeps' target=\"_blank\">https://wandb.ai/andberg9-self/AST_Sweeps</a>"
      ],
      "text/plain": [
       "<IPython.core.display.HTML object>"
      ]
     },
     "metadata": {},
     "output_type": "display_data"
    },
    {
     "data": {
      "text/html": [
       " View sweep at <a href='https://wandb.ai/andberg9-self/AST_Sweeps/sweeps/ange3go8' target=\"_blank\">https://wandb.ai/andberg9-self/AST_Sweeps/sweeps/ange3go8</a>"
      ],
      "text/plain": [
       "<IPython.core.display.HTML object>"
      ]
     },
     "metadata": {},
     "output_type": "display_data"
    },
    {
     "data": {
      "text/html": [
       " View run at <a href='https://wandb.ai/andberg9-self/AST_Sweeps/runs/81a16oai' target=\"_blank\">https://wandb.ai/andberg9-self/AST_Sweeps/runs/81a16oai</a>"
      ],
      "text/plain": [
       "<IPython.core.display.HTML object>"
      ]
     },
     "metadata": {},
     "output_type": "display_data"
    },
    {
     "name": "stdout",
     "output_type": "stream",
     "text": [
      "ASTForAudioClassification(\n",
      "  (audio_spectrogram_transformer): ASTModel(\n",
      "    (embeddings): ASTEmbeddings(\n",
      "      (patch_embeddings): ASTPatchEmbeddings(\n",
      "        (projection): Conv2d(1, 768, kernel_size=(16, 16), stride=(10, 10))\n",
      "      )\n",
      "      (dropout): Dropout(p=0.0, inplace=False)\n",
      "    )\n",
      "    (encoder): ASTEncoder(\n",
      "      (layer): ModuleList(\n",
      "        (0-11): 12 x ASTLayer(\n",
      "          (attention): ASTSdpaAttention(\n",
      "            (attention): ASTSdpaSelfAttention(\n",
      "              (query): Linear(in_features=768, out_features=768, bias=True)\n",
      "              (key): Linear(in_features=768, out_features=768, bias=True)\n",
      "              (value): Linear(in_features=768, out_features=768, bias=True)\n",
      "              (dropout): Dropout(p=0.0, inplace=False)\n",
      "            )\n",
      "            (output): ASTSelfOutput(\n",
      "              (dense): Linear(in_features=768, out_features=768, bias=True)\n",
      "              (dropout): Dropout(p=0.0, inplace=False)\n",
      "            )\n",
      "          )\n",
      "          (intermediate): ASTIntermediate(\n",
      "            (dense): Linear(in_features=768, out_features=3072, bias=True)\n",
      "            (intermediate_act_fn): GELUActivation()\n",
      "          )\n",
      "          (output): ASTOutput(\n",
      "            (dense): Linear(in_features=3072, out_features=768, bias=True)\n",
      "            (dropout): Dropout(p=0.0, inplace=False)\n",
      "          )\n",
      "          (layernorm_before): LayerNorm((768,), eps=1e-12, elementwise_affine=True)\n",
      "          (layernorm_after): LayerNorm((768,), eps=1e-12, elementwise_affine=True)\n",
      "        )\n",
      "      )\n",
      "    )\n",
      "    (layernorm): LayerNorm((768,), eps=1e-12, elementwise_affine=True)\n",
      "  )\n",
      "  (classifier): ASTMLPHead(\n",
      "    (layernorm): LayerNorm((768,), eps=1e-12, elementwise_affine=True)\n",
      "    (dense): Linear(in_features=768, out_features=9, bias=True)\n",
      "  )\n",
      ")\n"
     ]
    },
    {
     "data": {
      "application/vnd.jupyter.widget-view+json": {
       "model_id": "bd43b6dafea94dbea7b0911e1ecf835d",
       "version_major": 2,
       "version_minor": 0
      },
      "text/plain": [
       "  0%|          | 0/7 [00:00<?, ?it/s]"
      ]
     },
     "metadata": {},
     "output_type": "display_data"
    },
    {
     "name": "stdout",
     "output_type": "stream",
     "text": [
      "Epoch 1/7 | Train Loss: 1.6657 | Train Acc: 0.4903 | Train F1: 0.4823 | Test Loss: 1.0349 | Test Acc: 0.8222 | Test F1: 0.8198\n",
      "Epoch 2/7 | Train Loss: 0.8179 | Train Acc: 0.8181 | Train F1: 0.8103 | Test Loss: 0.6667 | Test Acc: 0.8944 | Test F1: 0.8969\n",
      "Epoch 3/7 | Train Loss: 0.5898 | Train Acc: 0.8792 | Train F1: 0.8793 | Test Loss: 0.5450 | Test Acc: 0.9056 | Test F1: 0.9034\n",
      "Epoch 4/7 | Train Loss: 0.5020 | Train Acc: 0.8917 | Train F1: 0.8923 | Test Loss: 0.4722 | Test Acc: 0.9389 | Test F1: 0.9404\n",
      "Epoch 5/7 | Train Loss: 0.4580 | Train Acc: 0.9125 | Train F1: 0.9125 | Test Loss: 0.4510 | Test Acc: 0.9389 | Test F1: 0.9404\n",
      "Epoch 6/7 | Train Loss: 0.4417 | Train Acc: 0.9167 | Train F1: 0.9167 | Test Loss: 0.4510 | Test Acc: 0.9389 | Test F1: 0.9404\n",
      "Epoch 7/7 | Train Loss: 0.4417 | Train Acc: 0.9167 | Train F1: 0.9167 | Test Loss: 0.4510 | Test Acc: 0.9389 | Test F1: 0.9404\n",
      "Train time on cuda: 330.78122019999864\n",
      "Inference Loss: 0.4418, Accuracy: 91.53%\n"
     ]
    },
    {
     "data": {
      "application/vnd.jupyter.widget-view+json": {
       "model_id": "2e154e096a464ec4b2c173cd8b0a1c79",
       "version_major": 2,
       "version_minor": 0
      },
      "text/plain": [
       "VBox(children=(Label(value='0.008 MB of 0.008 MB uploaded\\r'), FloatProgress(value=1.0, max=1.0)))"
      ]
     },
     "metadata": {},
     "output_type": "display_data"
    },
    {
     "data": {
      "text/html": [
       "<style>\n",
       "    table.wandb td:nth-child(1) { padding: 0 10px; text-align: left ; width: auto;} td:nth-child(2) {text-align: left ; width: 100%}\n",
       "    .wandb-row { display: flex; flex-direction: row; flex-wrap: wrap; justify-content: flex-start; width: 100% }\n",
       "    .wandb-col { display: flex; flex-direction: column; flex-basis: 100%; flex: 1; padding: 10px; }\n",
       "    </style>\n",
       "<div class=\"wandb-row\"><div class=\"wandb-col\"><h3>Run history:</h3><br/><table class=\"wandb\"><tr><td>epoch</td><td>▁▂▃▅▆▇█</td></tr><tr><td>inference_accuracy</td><td>▁</td></tr><tr><td>inference_loss</td><td>▁</td></tr><tr><td>test_acc</td><td>▁▅▆████</td></tr><tr><td>test_f1</td><td>▁▅▆████</td></tr><tr><td>test_loss</td><td>█▄▂▁▁▁▁</td></tr><tr><td>test_precision</td><td>▁▅▆████</td></tr><tr><td>test_recall</td><td>▁▅▆████</td></tr><tr><td>train_acc</td><td>▁▆▇████</td></tr><tr><td>train_f1</td><td>▁▆▇████</td></tr><tr><td>train_loss</td><td>█▃▂▁▁▁▁</td></tr><tr><td>train_precision</td><td>▁▆▇████</td></tr><tr><td>train_recall</td><td>▁▆▇████</td></tr></table><br/></div><div class=\"wandb-col\"><h3>Run summary:</h3><br/><table class=\"wandb\"><tr><td>epoch</td><td>7</td></tr><tr><td>inference_accuracy</td><td>0.91528</td></tr><tr><td>inference_loss</td><td>0.44179</td></tr><tr><td>test_acc</td><td>0.93889</td></tr><tr><td>test_f1</td><td>0.94036</td></tr><tr><td>test_loss</td><td>0.45097</td></tr><tr><td>test_precision</td><td>0.94678</td></tr><tr><td>test_recall</td><td>0.93889</td></tr><tr><td>train_acc</td><td>0.91667</td></tr><tr><td>train_f1</td><td>0.91672</td></tr><tr><td>train_loss</td><td>0.44174</td></tr><tr><td>train_precision</td><td>0.91767</td></tr><tr><td>train_recall</td><td>0.91667</td></tr><tr><td>train_time</td><td>00:05:30</td></tr></table><br/></div></div>"
      ],
      "text/plain": [
       "<IPython.core.display.HTML object>"
      ]
     },
     "metadata": {},
     "output_type": "display_data"
    },
    {
     "data": {
      "text/html": [
       " View run <strong style=\"color:#cdcd00\">skilled-sweep-91</strong> at: <a href='https://wandb.ai/andberg9-self/AST_Sweeps/runs/81a16oai' target=\"_blank\">https://wandb.ai/andberg9-self/AST_Sweeps/runs/81a16oai</a><br/> View project at: <a href='https://wandb.ai/andberg9-self/AST_Sweeps' target=\"_blank\">https://wandb.ai/andberg9-self/AST_Sweeps</a><br/>Synced 5 W&B file(s), 0 media file(s), 0 artifact file(s) and 0 other file(s)"
      ],
      "text/plain": [
       "<IPython.core.display.HTML object>"
      ]
     },
     "metadata": {},
     "output_type": "display_data"
    },
    {
     "data": {
      "text/html": [
       "Find logs at: <code>.\\wandb\\run-20240925_194629-81a16oai\\logs</code>"
      ],
      "text/plain": [
       "<IPython.core.display.HTML object>"
      ]
     },
     "metadata": {},
     "output_type": "display_data"
    },
    {
     "name": "stderr",
     "output_type": "stream",
     "text": [
      "wandb: Sweep Agent: Waiting for job.\n",
      "wandb: Job received.\n",
      "wandb: Agent Starting Run: 14pj0vht with config:\n",
      "wandb: \tbatch_size: 16\n",
      "wandb: \tepochs: 7\n",
      "wandb: \tlearning_rate: 0.0009199528939676042\n",
      "wandb: \toptimizer: adamW\n",
      "wandb: \tscheduler: PolynomialLR\n"
     ]
    },
    {
     "data": {
      "text/html": [
       "Tracking run with wandb version 0.18.1"
      ],
      "text/plain": [
       "<IPython.core.display.HTML object>"
      ]
     },
     "metadata": {},
     "output_type": "display_data"
    },
    {
     "data": {
      "text/html": [
       "Run data is saved locally in <code>c:\\Users\\Sidewinders\\Research_notebooks\\Drone_classification\\Research\\notebooks\\wandb\\run-20240925_195231-14pj0vht</code>"
      ],
      "text/plain": [
       "<IPython.core.display.HTML object>"
      ]
     },
     "metadata": {},
     "output_type": "display_data"
    },
    {
     "data": {
      "text/html": [
       "Syncing run <strong><a href='https://wandb.ai/andberg9-self/AST_Sweeps/runs/14pj0vht' target=\"_blank\">olive-sweep-92</a></strong> to <a href='https://wandb.ai/andberg9-self/AST_Sweeps' target=\"_blank\">Weights & Biases</a> (<a href='https://wandb.me/run' target=\"_blank\">docs</a>)<br/>Sweep page: <a href='https://wandb.ai/andberg9-self/AST_Sweeps/sweeps/ange3go8' target=\"_blank\">https://wandb.ai/andberg9-self/AST_Sweeps/sweeps/ange3go8</a>"
      ],
      "text/plain": [
       "<IPython.core.display.HTML object>"
      ]
     },
     "metadata": {},
     "output_type": "display_data"
    },
    {
     "data": {
      "text/html": [
       " View project at <a href='https://wandb.ai/andberg9-self/AST_Sweeps' target=\"_blank\">https://wandb.ai/andberg9-self/AST_Sweeps</a>"
      ],
      "text/plain": [
       "<IPython.core.display.HTML object>"
      ]
     },
     "metadata": {},
     "output_type": "display_data"
    },
    {
     "data": {
      "text/html": [
       " View sweep at <a href='https://wandb.ai/andberg9-self/AST_Sweeps/sweeps/ange3go8' target=\"_blank\">https://wandb.ai/andberg9-self/AST_Sweeps/sweeps/ange3go8</a>"
      ],
      "text/plain": [
       "<IPython.core.display.HTML object>"
      ]
     },
     "metadata": {},
     "output_type": "display_data"
    },
    {
     "data": {
      "text/html": [
       " View run at <a href='https://wandb.ai/andberg9-self/AST_Sweeps/runs/14pj0vht' target=\"_blank\">https://wandb.ai/andberg9-self/AST_Sweeps/runs/14pj0vht</a>"
      ],
      "text/plain": [
       "<IPython.core.display.HTML object>"
      ]
     },
     "metadata": {},
     "output_type": "display_data"
    },
    {
     "name": "stdout",
     "output_type": "stream",
     "text": [
      "ASTForAudioClassification(\n",
      "  (audio_spectrogram_transformer): ASTModel(\n",
      "    (embeddings): ASTEmbeddings(\n",
      "      (patch_embeddings): ASTPatchEmbeddings(\n",
      "        (projection): Conv2d(1, 768, kernel_size=(16, 16), stride=(10, 10))\n",
      "      )\n",
      "      (dropout): Dropout(p=0.0, inplace=False)\n",
      "    )\n",
      "    (encoder): ASTEncoder(\n",
      "      (layer): ModuleList(\n",
      "        (0-11): 12 x ASTLayer(\n",
      "          (attention): ASTSdpaAttention(\n",
      "            (attention): ASTSdpaSelfAttention(\n",
      "              (query): Linear(in_features=768, out_features=768, bias=True)\n",
      "              (key): Linear(in_features=768, out_features=768, bias=True)\n",
      "              (value): Linear(in_features=768, out_features=768, bias=True)\n",
      "              (dropout): Dropout(p=0.0, inplace=False)\n",
      "            )\n",
      "            (output): ASTSelfOutput(\n",
      "              (dense): Linear(in_features=768, out_features=768, bias=True)\n",
      "              (dropout): Dropout(p=0.0, inplace=False)\n",
      "            )\n",
      "          )\n",
      "          (intermediate): ASTIntermediate(\n",
      "            (dense): Linear(in_features=768, out_features=3072, bias=True)\n",
      "            (intermediate_act_fn): GELUActivation()\n",
      "          )\n",
      "          (output): ASTOutput(\n",
      "            (dense): Linear(in_features=3072, out_features=768, bias=True)\n",
      "            (dropout): Dropout(p=0.0, inplace=False)\n",
      "          )\n",
      "          (layernorm_before): LayerNorm((768,), eps=1e-12, elementwise_affine=True)\n",
      "          (layernorm_after): LayerNorm((768,), eps=1e-12, elementwise_affine=True)\n",
      "        )\n",
      "      )\n",
      "    )\n",
      "    (layernorm): LayerNorm((768,), eps=1e-12, elementwise_affine=True)\n",
      "  )\n",
      "  (classifier): ASTMLPHead(\n",
      "    (layernorm): LayerNorm((768,), eps=1e-12, elementwise_affine=True)\n",
      "    (dense): Linear(in_features=768, out_features=9, bias=True)\n",
      "  )\n",
      ")\n"
     ]
    },
    {
     "data": {
      "application/vnd.jupyter.widget-view+json": {
       "model_id": "4035033be33e4fe0859041eb66742b89",
       "version_major": 2,
       "version_minor": 0
      },
      "text/plain": [
       "  0%|          | 0/7 [00:00<?, ?it/s]"
      ]
     },
     "metadata": {},
     "output_type": "display_data"
    },
    {
     "name": "stdout",
     "output_type": "stream",
     "text": [
      "Epoch 1/7 | Train Loss: 1.7230 | Train Acc: 0.4250 | Train F1: 0.4330 | Test Loss: 1.0526 | Test Acc: 0.7240 | Test F1: 0.7061\n",
      "Epoch 2/7 | Train Loss: 0.8274 | Train Acc: 0.8042 | Train F1: 0.7958 | Test Loss: 0.6323 | Test Acc: 0.8594 | Test F1: 0.8649\n",
      "Epoch 3/7 | Train Loss: 0.5689 | Train Acc: 0.8764 | Train F1: 0.8768 | Test Loss: 0.4956 | Test Acc: 0.8802 | Test F1: 0.8905\n",
      "Epoch 4/7 | Train Loss: 0.4787 | Train Acc: 0.8972 | Train F1: 0.8978 | Test Loss: 0.4707 | Test Acc: 0.8750 | Test F1: 0.9012\n",
      "Epoch 5/7 | Train Loss: 0.4371 | Train Acc: 0.9083 | Train F1: 0.9090 | Test Loss: 0.4313 | Test Acc: 0.8958 | Test F1: 0.9074\n",
      "Epoch 6/7 | Train Loss: 0.4248 | Train Acc: 0.9181 | Train F1: 0.9188 | Test Loss: 0.4189 | Test Acc: 0.8958 | Test F1: 0.9074\n",
      "Epoch 7/7 | Train Loss: 0.4248 | Train Acc: 0.9181 | Train F1: 0.9188 | Test Loss: 0.4297 | Test Acc: 0.8958 | Test F1: 0.9074\n",
      "Train time on cuda: 334.6500118999975\n",
      "Inference Loss: 0.4248, Accuracy: 91.81%\n"
     ]
    },
    {
     "data": {
      "application/vnd.jupyter.widget-view+json": {
       "model_id": "1be116d5abc3499782b05dcc52984ab5",
       "version_major": 2,
       "version_minor": 0
      },
      "text/plain": [
       "VBox(children=(Label(value='0.008 MB of 0.008 MB uploaded\\r'), FloatProgress(value=1.0, max=1.0)))"
      ]
     },
     "metadata": {},
     "output_type": "display_data"
    },
    {
     "data": {
      "text/html": [
       "<style>\n",
       "    table.wandb td:nth-child(1) { padding: 0 10px; text-align: left ; width: auto;} td:nth-child(2) {text-align: left ; width: 100%}\n",
       "    .wandb-row { display: flex; flex-direction: row; flex-wrap: wrap; justify-content: flex-start; width: 100% }\n",
       "    .wandb-col { display: flex; flex-direction: column; flex-basis: 100%; flex: 1; padding: 10px; }\n",
       "    </style>\n",
       "<div class=\"wandb-row\"><div class=\"wandb-col\"><h3>Run history:</h3><br/><table class=\"wandb\"><tr><td>epoch</td><td>▁▂▃▅▆▇█</td></tr><tr><td>inference_accuracy</td><td>▁</td></tr><tr><td>inference_loss</td><td>▁</td></tr><tr><td>test_acc</td><td>▁▇▇▇███</td></tr><tr><td>test_f1</td><td>▁▇▇████</td></tr><tr><td>test_loss</td><td>█▃▂▂▁▁▁</td></tr><tr><td>test_precision</td><td>▁▇▇████</td></tr><tr><td>test_recall</td><td>▁▆▇████</td></tr><tr><td>train_acc</td><td>▁▆▇████</td></tr><tr><td>train_f1</td><td>▁▆▇████</td></tr><tr><td>train_loss</td><td>█▃▂▁▁▁▁</td></tr><tr><td>train_precision</td><td>▁▆▇████</td></tr><tr><td>train_recall</td><td>▁▆▇████</td></tr></table><br/></div><div class=\"wandb-col\"><h3>Run summary:</h3><br/><table class=\"wandb\"><tr><td>epoch</td><td>7</td></tr><tr><td>inference_accuracy</td><td>0.91806</td></tr><tr><td>inference_loss</td><td>0.42478</td></tr><tr><td>test_acc</td><td>0.89583</td></tr><tr><td>test_f1</td><td>0.90738</td></tr><tr><td>test_loss</td><td>0.42971</td></tr><tr><td>test_precision</td><td>0.91978</td></tr><tr><td>test_recall</td><td>0.90556</td></tr><tr><td>train_acc</td><td>0.91806</td></tr><tr><td>train_f1</td><td>0.91879</td></tr><tr><td>train_loss</td><td>0.42477</td></tr><tr><td>train_precision</td><td>0.92057</td></tr><tr><td>train_recall</td><td>0.91806</td></tr><tr><td>train_time</td><td>00:05:34</td></tr></table><br/></div></div>"
      ],
      "text/plain": [
       "<IPython.core.display.HTML object>"
      ]
     },
     "metadata": {},
     "output_type": "display_data"
    },
    {
     "data": {
      "text/html": [
       " View run <strong style=\"color:#cdcd00\">olive-sweep-92</strong> at: <a href='https://wandb.ai/andberg9-self/AST_Sweeps/runs/14pj0vht' target=\"_blank\">https://wandb.ai/andberg9-self/AST_Sweeps/runs/14pj0vht</a><br/> View project at: <a href='https://wandb.ai/andberg9-self/AST_Sweeps' target=\"_blank\">https://wandb.ai/andberg9-self/AST_Sweeps</a><br/>Synced 5 W&B file(s), 0 media file(s), 0 artifact file(s) and 0 other file(s)"
      ],
      "text/plain": [
       "<IPython.core.display.HTML object>"
      ]
     },
     "metadata": {},
     "output_type": "display_data"
    },
    {
     "data": {
      "text/html": [
       "Find logs at: <code>.\\wandb\\run-20240925_195231-14pj0vht\\logs</code>"
      ],
      "text/plain": [
       "<IPython.core.display.HTML object>"
      ]
     },
     "metadata": {},
     "output_type": "display_data"
    },
    {
     "name": "stderr",
     "output_type": "stream",
     "text": [
      "wandb: Agent Starting Run: 06xo6ywo with config:\n",
      "wandb: \tbatch_size: 8\n",
      "wandb: \tepochs: 7\n",
      "wandb: \tlearning_rate: 0.000543701601379045\n",
      "wandb: \toptimizer: adamW\n",
      "wandb: \tscheduler: PolynomialLR\n"
     ]
    },
    {
     "data": {
      "text/html": [
       "Tracking run with wandb version 0.18.1"
      ],
      "text/plain": [
       "<IPython.core.display.HTML object>"
      ]
     },
     "metadata": {},
     "output_type": "display_data"
    },
    {
     "data": {
      "text/html": [
       "Run data is saved locally in <code>c:\\Users\\Sidewinders\\Research_notebooks\\Drone_classification\\Research\\notebooks\\wandb\\run-20240925_195828-06xo6ywo</code>"
      ],
      "text/plain": [
       "<IPython.core.display.HTML object>"
      ]
     },
     "metadata": {},
     "output_type": "display_data"
    },
    {
     "data": {
      "text/html": [
       "Syncing run <strong><a href='https://wandb.ai/andberg9-self/AST_Sweeps/runs/06xo6ywo' target=\"_blank\">dainty-sweep-93</a></strong> to <a href='https://wandb.ai/andberg9-self/AST_Sweeps' target=\"_blank\">Weights & Biases</a> (<a href='https://wandb.me/run' target=\"_blank\">docs</a>)<br/>Sweep page: <a href='https://wandb.ai/andberg9-self/AST_Sweeps/sweeps/ange3go8' target=\"_blank\">https://wandb.ai/andberg9-self/AST_Sweeps/sweeps/ange3go8</a>"
      ],
      "text/plain": [
       "<IPython.core.display.HTML object>"
      ]
     },
     "metadata": {},
     "output_type": "display_data"
    },
    {
     "data": {
      "text/html": [
       " View project at <a href='https://wandb.ai/andberg9-self/AST_Sweeps' target=\"_blank\">https://wandb.ai/andberg9-self/AST_Sweeps</a>"
      ],
      "text/plain": [
       "<IPython.core.display.HTML object>"
      ]
     },
     "metadata": {},
     "output_type": "display_data"
    },
    {
     "data": {
      "text/html": [
       " View sweep at <a href='https://wandb.ai/andberg9-self/AST_Sweeps/sweeps/ange3go8' target=\"_blank\">https://wandb.ai/andberg9-self/AST_Sweeps/sweeps/ange3go8</a>"
      ],
      "text/plain": [
       "<IPython.core.display.HTML object>"
      ]
     },
     "metadata": {},
     "output_type": "display_data"
    },
    {
     "data": {
      "text/html": [
       " View run at <a href='https://wandb.ai/andberg9-self/AST_Sweeps/runs/06xo6ywo' target=\"_blank\">https://wandb.ai/andberg9-self/AST_Sweeps/runs/06xo6ywo</a>"
      ],
      "text/plain": [
       "<IPython.core.display.HTML object>"
      ]
     },
     "metadata": {},
     "output_type": "display_data"
    },
    {
     "name": "stdout",
     "output_type": "stream",
     "text": [
      "ASTForAudioClassification(\n",
      "  (audio_spectrogram_transformer): ASTModel(\n",
      "    (embeddings): ASTEmbeddings(\n",
      "      (patch_embeddings): ASTPatchEmbeddings(\n",
      "        (projection): Conv2d(1, 768, kernel_size=(16, 16), stride=(10, 10))\n",
      "      )\n",
      "      (dropout): Dropout(p=0.0, inplace=False)\n",
      "    )\n",
      "    (encoder): ASTEncoder(\n",
      "      (layer): ModuleList(\n",
      "        (0-11): 12 x ASTLayer(\n",
      "          (attention): ASTSdpaAttention(\n",
      "            (attention): ASTSdpaSelfAttention(\n",
      "              (query): Linear(in_features=768, out_features=768, bias=True)\n",
      "              (key): Linear(in_features=768, out_features=768, bias=True)\n",
      "              (value): Linear(in_features=768, out_features=768, bias=True)\n",
      "              (dropout): Dropout(p=0.0, inplace=False)\n",
      "            )\n",
      "            (output): ASTSelfOutput(\n",
      "              (dense): Linear(in_features=768, out_features=768, bias=True)\n",
      "              (dropout): Dropout(p=0.0, inplace=False)\n",
      "            )\n",
      "          )\n",
      "          (intermediate): ASTIntermediate(\n",
      "            (dense): Linear(in_features=768, out_features=3072, bias=True)\n",
      "            (intermediate_act_fn): GELUActivation()\n",
      "          )\n",
      "          (output): ASTOutput(\n",
      "            (dense): Linear(in_features=3072, out_features=768, bias=True)\n",
      "            (dropout): Dropout(p=0.0, inplace=False)\n",
      "          )\n",
      "          (layernorm_before): LayerNorm((768,), eps=1e-12, elementwise_affine=True)\n",
      "          (layernorm_after): LayerNorm((768,), eps=1e-12, elementwise_affine=True)\n",
      "        )\n",
      "      )\n",
      "    )\n",
      "    (layernorm): LayerNorm((768,), eps=1e-12, elementwise_affine=True)\n",
      "  )\n",
      "  (classifier): ASTMLPHead(\n",
      "    (layernorm): LayerNorm((768,), eps=1e-12, elementwise_affine=True)\n",
      "    (dense): Linear(in_features=768, out_features=9, bias=True)\n",
      "  )\n",
      ")\n"
     ]
    },
    {
     "data": {
      "application/vnd.jupyter.widget-view+json": {
       "model_id": "d03a62abe1d74905b9798d1b1a4a7be5",
       "version_major": 2,
       "version_minor": 0
      },
      "text/plain": [
       "  0%|          | 0/7 [00:00<?, ?it/s]"
      ]
     },
     "metadata": {},
     "output_type": "display_data"
    },
    {
     "name": "stdout",
     "output_type": "stream",
     "text": [
      "Epoch 1/7 | Train Loss: 1.6234 | Train Acc: 0.5014 | Train F1: 0.5042 | Test Loss: 1.0088 | Test Acc: 0.7772 | Test F1: 0.7643\n",
      "Epoch 2/7 | Train Loss: 0.8059 | Train Acc: 0.8111 | Train F1: 0.8097 | Test Loss: 0.6560 | Test Acc: 0.8587 | Test F1: 0.8492\n",
      "Epoch 3/7 | Train Loss: 0.5851 | Train Acc: 0.8694 | Train F1: 0.8674 | Test Loss: 0.5366 | Test Acc: 0.9130 | Test F1: 0.9139\n",
      "Epoch 4/7 | Train Loss: 0.4969 | Train Acc: 0.9000 | Train F1: 0.9010 | Test Loss: 0.4719 | Test Acc: 0.9293 | Test F1: 0.9300\n",
      "Epoch 5/7 | Train Loss: 0.4567 | Train Acc: 0.8972 | Train F1: 0.8978 | Test Loss: 0.4523 | Test Acc: 0.9402 | Test F1: 0.9398\n",
      "Epoch 6/7 | Train Loss: 0.4433 | Train Acc: 0.9014 | Train F1: 0.9021 | Test Loss: 0.4537 | Test Acc: 0.9402 | Test F1: 0.9398\n",
      "Epoch 7/7 | Train Loss: 0.4433 | Train Acc: 0.9014 | Train F1: 0.9021 | Test Loss: 0.4484 | Test Acc: 0.9402 | Test F1: 0.9398\n",
      "Train time on cuda: 333.32329749999917\n",
      "Inference Loss: 0.4435, Accuracy: 90.14%\n"
     ]
    },
    {
     "data": {
      "application/vnd.jupyter.widget-view+json": {
       "model_id": "1d28659a7f5b463c8ba9dc68082000c7",
       "version_major": 2,
       "version_minor": 0
      },
      "text/plain": [
       "VBox(children=(Label(value='0.008 MB of 0.008 MB uploaded\\r'), FloatProgress(value=1.0, max=1.0)))"
      ]
     },
     "metadata": {},
     "output_type": "display_data"
    },
    {
     "data": {
      "text/html": [
       "<style>\n",
       "    table.wandb td:nth-child(1) { padding: 0 10px; text-align: left ; width: auto;} td:nth-child(2) {text-align: left ; width: 100%}\n",
       "    .wandb-row { display: flex; flex-direction: row; flex-wrap: wrap; justify-content: flex-start; width: 100% }\n",
       "    .wandb-col { display: flex; flex-direction: column; flex-basis: 100%; flex: 1; padding: 10px; }\n",
       "    </style>\n",
       "<div class=\"wandb-row\"><div class=\"wandb-col\"><h3>Run history:</h3><br/><table class=\"wandb\"><tr><td>epoch</td><td>▁▂▃▅▆▇█</td></tr><tr><td>inference_accuracy</td><td>▁</td></tr><tr><td>inference_loss</td><td>▁</td></tr><tr><td>test_acc</td><td>▁▄▇████</td></tr><tr><td>test_f1</td><td>▁▄▇████</td></tr><tr><td>test_loss</td><td>█▄▂▁▁▁▁</td></tr><tr><td>test_precision</td><td>▁▅▇████</td></tr><tr><td>test_recall</td><td>▁▅▇████</td></tr><tr><td>train_acc</td><td>▁▆▇████</td></tr><tr><td>train_f1</td><td>▁▆▇████</td></tr><tr><td>train_loss</td><td>█▃▂▁▁▁▁</td></tr><tr><td>train_precision</td><td>▁▆▇████</td></tr><tr><td>train_recall</td><td>▁▆▇████</td></tr></table><br/></div><div class=\"wandb-col\"><h3>Run summary:</h3><br/><table class=\"wandb\"><tr><td>epoch</td><td>7</td></tr><tr><td>inference_accuracy</td><td>0.90139</td></tr><tr><td>inference_loss</td><td>0.44345</td></tr><tr><td>test_acc</td><td>0.94022</td></tr><tr><td>test_f1</td><td>0.93984</td></tr><tr><td>test_loss</td><td>0.44836</td></tr><tr><td>test_precision</td><td>0.94881</td></tr><tr><td>test_recall</td><td>0.93889</td></tr><tr><td>train_acc</td><td>0.90139</td></tr><tr><td>train_f1</td><td>0.90211</td></tr><tr><td>train_loss</td><td>0.44335</td></tr><tr><td>train_precision</td><td>0.9043</td></tr><tr><td>train_recall</td><td>0.90139</td></tr><tr><td>train_time</td><td>00:05:33</td></tr></table><br/></div></div>"
      ],
      "text/plain": [
       "<IPython.core.display.HTML object>"
      ]
     },
     "metadata": {},
     "output_type": "display_data"
    },
    {
     "data": {
      "text/html": [
       " View run <strong style=\"color:#cdcd00\">dainty-sweep-93</strong> at: <a href='https://wandb.ai/andberg9-self/AST_Sweeps/runs/06xo6ywo' target=\"_blank\">https://wandb.ai/andberg9-self/AST_Sweeps/runs/06xo6ywo</a><br/> View project at: <a href='https://wandb.ai/andberg9-self/AST_Sweeps' target=\"_blank\">https://wandb.ai/andberg9-self/AST_Sweeps</a><br/>Synced 5 W&B file(s), 0 media file(s), 0 artifact file(s) and 0 other file(s)"
      ],
      "text/plain": [
       "<IPython.core.display.HTML object>"
      ]
     },
     "metadata": {},
     "output_type": "display_data"
    },
    {
     "data": {
      "text/html": [
       "Find logs at: <code>.\\wandb\\run-20240925_195828-06xo6ywo\\logs</code>"
      ],
      "text/plain": [
       "<IPython.core.display.HTML object>"
      ]
     },
     "metadata": {},
     "output_type": "display_data"
    },
    {
     "name": "stderr",
     "output_type": "stream",
     "text": [
      "wandb: Agent Starting Run: 4rsxei3k with config:\n",
      "wandb: \tbatch_size: 4\n",
      "wandb: \tepochs: 7\n",
      "wandb: \tlearning_rate: 0.000609949013323087\n",
      "wandb: \toptimizer: adamW\n",
      "wandb: \tscheduler: PolynomialLR\n"
     ]
    },
    {
     "data": {
      "text/html": [
       "Tracking run with wandb version 0.18.1"
      ],
      "text/plain": [
       "<IPython.core.display.HTML object>"
      ]
     },
     "metadata": {},
     "output_type": "display_data"
    },
    {
     "data": {
      "text/html": [
       "Run data is saved locally in <code>c:\\Users\\Sidewinders\\Research_notebooks\\Drone_classification\\Research\\notebooks\\wandb\\run-20240925_200424-4rsxei3k</code>"
      ],
      "text/plain": [
       "<IPython.core.display.HTML object>"
      ]
     },
     "metadata": {},
     "output_type": "display_data"
    },
    {
     "data": {
      "text/html": [
       "Syncing run <strong><a href='https://wandb.ai/andberg9-self/AST_Sweeps/runs/4rsxei3k' target=\"_blank\">northern-sweep-94</a></strong> to <a href='https://wandb.ai/andberg9-self/AST_Sweeps' target=\"_blank\">Weights & Biases</a> (<a href='https://wandb.me/run' target=\"_blank\">docs</a>)<br/>Sweep page: <a href='https://wandb.ai/andberg9-self/AST_Sweeps/sweeps/ange3go8' target=\"_blank\">https://wandb.ai/andberg9-self/AST_Sweeps/sweeps/ange3go8</a>"
      ],
      "text/plain": [
       "<IPython.core.display.HTML object>"
      ]
     },
     "metadata": {},
     "output_type": "display_data"
    },
    {
     "data": {
      "text/html": [
       " View project at <a href='https://wandb.ai/andberg9-self/AST_Sweeps' target=\"_blank\">https://wandb.ai/andberg9-self/AST_Sweeps</a>"
      ],
      "text/plain": [
       "<IPython.core.display.HTML object>"
      ]
     },
     "metadata": {},
     "output_type": "display_data"
    },
    {
     "data": {
      "text/html": [
       " View sweep at <a href='https://wandb.ai/andberg9-self/AST_Sweeps/sweeps/ange3go8' target=\"_blank\">https://wandb.ai/andberg9-self/AST_Sweeps/sweeps/ange3go8</a>"
      ],
      "text/plain": [
       "<IPython.core.display.HTML object>"
      ]
     },
     "metadata": {},
     "output_type": "display_data"
    },
    {
     "data": {
      "text/html": [
       " View run at <a href='https://wandb.ai/andberg9-self/AST_Sweeps/runs/4rsxei3k' target=\"_blank\">https://wandb.ai/andberg9-self/AST_Sweeps/runs/4rsxei3k</a>"
      ],
      "text/plain": [
       "<IPython.core.display.HTML object>"
      ]
     },
     "metadata": {},
     "output_type": "display_data"
    },
    {
     "name": "stdout",
     "output_type": "stream",
     "text": [
      "ASTForAudioClassification(\n",
      "  (audio_spectrogram_transformer): ASTModel(\n",
      "    (embeddings): ASTEmbeddings(\n",
      "      (patch_embeddings): ASTPatchEmbeddings(\n",
      "        (projection): Conv2d(1, 768, kernel_size=(16, 16), stride=(10, 10))\n",
      "      )\n",
      "      (dropout): Dropout(p=0.0, inplace=False)\n",
      "    )\n",
      "    (encoder): ASTEncoder(\n",
      "      (layer): ModuleList(\n",
      "        (0-11): 12 x ASTLayer(\n",
      "          (attention): ASTSdpaAttention(\n",
      "            (attention): ASTSdpaSelfAttention(\n",
      "              (query): Linear(in_features=768, out_features=768, bias=True)\n",
      "              (key): Linear(in_features=768, out_features=768, bias=True)\n",
      "              (value): Linear(in_features=768, out_features=768, bias=True)\n",
      "              (dropout): Dropout(p=0.0, inplace=False)\n",
      "            )\n",
      "            (output): ASTSelfOutput(\n",
      "              (dense): Linear(in_features=768, out_features=768, bias=True)\n",
      "              (dropout): Dropout(p=0.0, inplace=False)\n",
      "            )\n",
      "          )\n",
      "          (intermediate): ASTIntermediate(\n",
      "            (dense): Linear(in_features=768, out_features=3072, bias=True)\n",
      "            (intermediate_act_fn): GELUActivation()\n",
      "          )\n",
      "          (output): ASTOutput(\n",
      "            (dense): Linear(in_features=3072, out_features=768, bias=True)\n",
      "            (dropout): Dropout(p=0.0, inplace=False)\n",
      "          )\n",
      "          (layernorm_before): LayerNorm((768,), eps=1e-12, elementwise_affine=True)\n",
      "          (layernorm_after): LayerNorm((768,), eps=1e-12, elementwise_affine=True)\n",
      "        )\n",
      "      )\n",
      "    )\n",
      "    (layernorm): LayerNorm((768,), eps=1e-12, elementwise_affine=True)\n",
      "  )\n",
      "  (classifier): ASTMLPHead(\n",
      "    (layernorm): LayerNorm((768,), eps=1e-12, elementwise_affine=True)\n",
      "    (dense): Linear(in_features=768, out_features=9, bias=True)\n",
      "  )\n",
      ")\n"
     ]
    },
    {
     "data": {
      "application/vnd.jupyter.widget-view+json": {
       "model_id": "12a1705658914e4fa4a2959275696d38",
       "version_major": 2,
       "version_minor": 0
      },
      "text/plain": [
       "  0%|          | 0/7 [00:00<?, ?it/s]"
      ]
     },
     "metadata": {},
     "output_type": "display_data"
    },
    {
     "name": "stdout",
     "output_type": "stream",
     "text": [
      "Epoch 1/7 | Train Loss: 1.1574 | Train Acc: 0.6819 | Train F1: 0.6819 | Test Loss: 0.5820 | Test Acc: 0.8778 | Test F1: 0.8698\n",
      "Epoch 2/7 | Train Loss: 0.4908 | Train Acc: 0.8931 | Train F1: 0.8933 | Test Loss: 0.3805 | Test Acc: 0.9389 | Test F1: 0.9401\n",
      "Epoch 3/7 | Train Loss: 0.3681 | Train Acc: 0.9181 | Train F1: 0.9183 | Test Loss: 0.3227 | Test Acc: 0.9444 | Test F1: 0.9453\n",
      "Epoch 4/7 | Train Loss: 0.3149 | Train Acc: 0.9333 | Train F1: 0.9335 | Test Loss: 0.3107 | Test Acc: 0.9222 | Test F1: 0.9212\n",
      "Epoch 5/7 | Train Loss: 0.2823 | Train Acc: 0.9472 | Train F1: 0.9472 | Test Loss: 0.2802 | Test Acc: 0.9611 | Test F1: 0.9618\n",
      "Epoch 6/7 | Train Loss: 0.2699 | Train Acc: 0.9528 | Train F1: 0.9529 | Test Loss: 0.2802 | Test Acc: 0.9611 | Test F1: 0.9618\n",
      "Epoch 7/7 | Train Loss: 0.2699 | Train Acc: 0.9528 | Train F1: 0.9529 | Test Loss: 0.2802 | Test Acc: 0.9611 | Test F1: 0.9618\n",
      "Train time on cuda: 330.64611850000074\n",
      "Inference Loss: 0.2699, Accuracy: 95.28%\n"
     ]
    },
    {
     "data": {
      "application/vnd.jupyter.widget-view+json": {
       "model_id": "ed40ca7c35c74d158a2d7486d95baa8c",
       "version_major": 2,
       "version_minor": 0
      },
      "text/plain": [
       "VBox(children=(Label(value='0.008 MB of 0.008 MB uploaded\\r'), FloatProgress(value=1.0, max=1.0)))"
      ]
     },
     "metadata": {},
     "output_type": "display_data"
    },
    {
     "data": {
      "text/html": [
       "<style>\n",
       "    table.wandb td:nth-child(1) { padding: 0 10px; text-align: left ; width: auto;} td:nth-child(2) {text-align: left ; width: 100%}\n",
       "    .wandb-row { display: flex; flex-direction: row; flex-wrap: wrap; justify-content: flex-start; width: 100% }\n",
       "    .wandb-col { display: flex; flex-direction: column; flex-basis: 100%; flex: 1; padding: 10px; }\n",
       "    </style>\n",
       "<div class=\"wandb-row\"><div class=\"wandb-col\"><h3>Run history:</h3><br/><table class=\"wandb\"><tr><td>epoch</td><td>▁▂▃▅▆▇█</td></tr><tr><td>inference_accuracy</td><td>▁</td></tr><tr><td>inference_loss</td><td>▁</td></tr><tr><td>test_acc</td><td>▁▆▇▅███</td></tr><tr><td>test_f1</td><td>▁▆▇▅███</td></tr><tr><td>test_loss</td><td>█▃▂▂▁▁▁</td></tr><tr><td>test_precision</td><td>▁▆▆▄███</td></tr><tr><td>test_recall</td><td>▁▆▇▅███</td></tr><tr><td>train_acc</td><td>▁▆▇▇███</td></tr><tr><td>train_f1</td><td>▁▆▇████</td></tr><tr><td>train_loss</td><td>█▃▂▁▁▁▁</td></tr><tr><td>train_precision</td><td>▁▆▇████</td></tr><tr><td>train_recall</td><td>▁▆▇▇███</td></tr></table><br/></div><div class=\"wandb-col\"><h3>Run summary:</h3><br/><table class=\"wandb\"><tr><td>epoch</td><td>7</td></tr><tr><td>inference_accuracy</td><td>0.95278</td></tr><tr><td>inference_loss</td><td>0.26992</td></tr><tr><td>test_acc</td><td>0.96111</td></tr><tr><td>test_f1</td><td>0.96183</td></tr><tr><td>test_loss</td><td>0.28025</td></tr><tr><td>test_precision</td><td>0.96721</td></tr><tr><td>test_recall</td><td>0.96111</td></tr><tr><td>train_acc</td><td>0.95278</td></tr><tr><td>train_f1</td><td>0.95285</td></tr><tr><td>train_loss</td><td>0.2699</td></tr><tr><td>train_precision</td><td>0.95308</td></tr><tr><td>train_recall</td><td>0.95278</td></tr><tr><td>train_time</td><td>00:05:30</td></tr></table><br/></div></div>"
      ],
      "text/plain": [
       "<IPython.core.display.HTML object>"
      ]
     },
     "metadata": {},
     "output_type": "display_data"
    },
    {
     "data": {
      "text/html": [
       " View run <strong style=\"color:#cdcd00\">northern-sweep-94</strong> at: <a href='https://wandb.ai/andberg9-self/AST_Sweeps/runs/4rsxei3k' target=\"_blank\">https://wandb.ai/andberg9-self/AST_Sweeps/runs/4rsxei3k</a><br/> View project at: <a href='https://wandb.ai/andberg9-self/AST_Sweeps' target=\"_blank\">https://wandb.ai/andberg9-self/AST_Sweeps</a><br/>Synced 5 W&B file(s), 0 media file(s), 0 artifact file(s) and 0 other file(s)"
      ],
      "text/plain": [
       "<IPython.core.display.HTML object>"
      ]
     },
     "metadata": {},
     "output_type": "display_data"
    },
    {
     "data": {
      "text/html": [
       "Find logs at: <code>.\\wandb\\run-20240925_200424-4rsxei3k\\logs</code>"
      ],
      "text/plain": [
       "<IPython.core.display.HTML object>"
      ]
     },
     "metadata": {},
     "output_type": "display_data"
    },
    {
     "name": "stderr",
     "output_type": "stream",
     "text": [
      "wandb: Agent Starting Run: xqkl47gv with config:\n",
      "wandb: \tbatch_size: 4\n",
      "wandb: \tepochs: 7\n",
      "wandb: \tlearning_rate: 0.0005650421735069941\n",
      "wandb: \toptimizer: adamW\n",
      "wandb: \tscheduler: PolynomialLR\n"
     ]
    },
    {
     "data": {
      "text/html": [
       "Tracking run with wandb version 0.18.1"
      ],
      "text/plain": [
       "<IPython.core.display.HTML object>"
      ]
     },
     "metadata": {},
     "output_type": "display_data"
    },
    {
     "data": {
      "text/html": [
       "Run data is saved locally in <code>c:\\Users\\Sidewinders\\Research_notebooks\\Drone_classification\\Research\\notebooks\\wandb\\run-20240925_201019-xqkl47gv</code>"
      ],
      "text/plain": [
       "<IPython.core.display.HTML object>"
      ]
     },
     "metadata": {},
     "output_type": "display_data"
    },
    {
     "data": {
      "text/html": [
       "Syncing run <strong><a href='https://wandb.ai/andberg9-self/AST_Sweeps/runs/xqkl47gv' target=\"_blank\">spring-sweep-95</a></strong> to <a href='https://wandb.ai/andberg9-self/AST_Sweeps' target=\"_blank\">Weights & Biases</a> (<a href='https://wandb.me/run' target=\"_blank\">docs</a>)<br/>Sweep page: <a href='https://wandb.ai/andberg9-self/AST_Sweeps/sweeps/ange3go8' target=\"_blank\">https://wandb.ai/andberg9-self/AST_Sweeps/sweeps/ange3go8</a>"
      ],
      "text/plain": [
       "<IPython.core.display.HTML object>"
      ]
     },
     "metadata": {},
     "output_type": "display_data"
    },
    {
     "data": {
      "text/html": [
       " View project at <a href='https://wandb.ai/andberg9-self/AST_Sweeps' target=\"_blank\">https://wandb.ai/andberg9-self/AST_Sweeps</a>"
      ],
      "text/plain": [
       "<IPython.core.display.HTML object>"
      ]
     },
     "metadata": {},
     "output_type": "display_data"
    },
    {
     "data": {
      "text/html": [
       " View sweep at <a href='https://wandb.ai/andberg9-self/AST_Sweeps/sweeps/ange3go8' target=\"_blank\">https://wandb.ai/andberg9-self/AST_Sweeps/sweeps/ange3go8</a>"
      ],
      "text/plain": [
       "<IPython.core.display.HTML object>"
      ]
     },
     "metadata": {},
     "output_type": "display_data"
    },
    {
     "data": {
      "text/html": [
       " View run at <a href='https://wandb.ai/andberg9-self/AST_Sweeps/runs/xqkl47gv' target=\"_blank\">https://wandb.ai/andberg9-self/AST_Sweeps/runs/xqkl47gv</a>"
      ],
      "text/plain": [
       "<IPython.core.display.HTML object>"
      ]
     },
     "metadata": {},
     "output_type": "display_data"
    },
    {
     "name": "stdout",
     "output_type": "stream",
     "text": [
      "ASTForAudioClassification(\n",
      "  (audio_spectrogram_transformer): ASTModel(\n",
      "    (embeddings): ASTEmbeddings(\n",
      "      (patch_embeddings): ASTPatchEmbeddings(\n",
      "        (projection): Conv2d(1, 768, kernel_size=(16, 16), stride=(10, 10))\n",
      "      )\n",
      "      (dropout): Dropout(p=0.0, inplace=False)\n",
      "    )\n",
      "    (encoder): ASTEncoder(\n",
      "      (layer): ModuleList(\n",
      "        (0-11): 12 x ASTLayer(\n",
      "          (attention): ASTSdpaAttention(\n",
      "            (attention): ASTSdpaSelfAttention(\n",
      "              (query): Linear(in_features=768, out_features=768, bias=True)\n",
      "              (key): Linear(in_features=768, out_features=768, bias=True)\n",
      "              (value): Linear(in_features=768, out_features=768, bias=True)\n",
      "              (dropout): Dropout(p=0.0, inplace=False)\n",
      "            )\n",
      "            (output): ASTSelfOutput(\n",
      "              (dense): Linear(in_features=768, out_features=768, bias=True)\n",
      "              (dropout): Dropout(p=0.0, inplace=False)\n",
      "            )\n",
      "          )\n",
      "          (intermediate): ASTIntermediate(\n",
      "            (dense): Linear(in_features=768, out_features=3072, bias=True)\n",
      "            (intermediate_act_fn): GELUActivation()\n",
      "          )\n",
      "          (output): ASTOutput(\n",
      "            (dense): Linear(in_features=3072, out_features=768, bias=True)\n",
      "            (dropout): Dropout(p=0.0, inplace=False)\n",
      "          )\n",
      "          (layernorm_before): LayerNorm((768,), eps=1e-12, elementwise_affine=True)\n",
      "          (layernorm_after): LayerNorm((768,), eps=1e-12, elementwise_affine=True)\n",
      "        )\n",
      "      )\n",
      "    )\n",
      "    (layernorm): LayerNorm((768,), eps=1e-12, elementwise_affine=True)\n",
      "  )\n",
      "  (classifier): ASTMLPHead(\n",
      "    (layernorm): LayerNorm((768,), eps=1e-12, elementwise_affine=True)\n",
      "    (dense): Linear(in_features=768, out_features=9, bias=True)\n",
      "  )\n",
      ")\n"
     ]
    },
    {
     "data": {
      "application/vnd.jupyter.widget-view+json": {
       "model_id": "cf5be8a9aa9d4a3686cfcb0666d1362a",
       "version_major": 2,
       "version_minor": 0
      },
      "text/plain": [
       "  0%|          | 0/7 [00:00<?, ?it/s]"
      ]
     },
     "metadata": {},
     "output_type": "display_data"
    },
    {
     "name": "stdout",
     "output_type": "stream",
     "text": [
      "Epoch 1/7 | Train Loss: 1.2972 | Train Acc: 0.6097 | Train F1: 0.6119 | Test Loss: 0.6827 | Test Acc: 0.8778 | Test F1: 0.8762\n",
      "Epoch 2/7 | Train Loss: 0.5364 | Train Acc: 0.8736 | Train F1: 0.8744 | Test Loss: 0.4663 | Test Acc: 0.8944 | Test F1: 0.8932\n",
      "Epoch 3/7 | Train Loss: 0.3994 | Train Acc: 0.9139 | Train F1: 0.9146 | Test Loss: 0.3959 | Test Acc: 0.9278 | Test F1: 0.9304\n",
      "Epoch 4/7 | Train Loss: 0.3344 | Train Acc: 0.9306 | Train F1: 0.9310 | Test Loss: 0.3243 | Test Acc: 0.9556 | Test F1: 0.9570\n",
      "Epoch 5/7 | Train Loss: 0.3059 | Train Acc: 0.9431 | Train F1: 0.9433 | Test Loss: 0.3087 | Test Acc: 0.9556 | Test F1: 0.9570\n",
      "Epoch 6/7 | Train Loss: 0.2925 | Train Acc: 0.9431 | Train F1: 0.9431 | Test Loss: 0.3087 | Test Acc: 0.9556 | Test F1: 0.9570\n",
      "Epoch 7/7 | Train Loss: 0.2925 | Train Acc: 0.9431 | Train F1: 0.9431 | Test Loss: 0.3087 | Test Acc: 0.9556 | Test F1: 0.9570\n",
      "Train time on cuda: 331.256587099997\n",
      "Inference Loss: 0.2926, Accuracy: 94.31%\n"
     ]
    },
    {
     "data": {
      "application/vnd.jupyter.widget-view+json": {
       "model_id": "517394cd21b1484aa4efe42c34cf4711",
       "version_major": 2,
       "version_minor": 0
      },
      "text/plain": [
       "VBox(children=(Label(value='0.008 MB of 0.008 MB uploaded\\r'), FloatProgress(value=1.0, max=1.0)))"
      ]
     },
     "metadata": {},
     "output_type": "display_data"
    },
    {
     "data": {
      "text/html": [
       "<style>\n",
       "    table.wandb td:nth-child(1) { padding: 0 10px; text-align: left ; width: auto;} td:nth-child(2) {text-align: left ; width: 100%}\n",
       "    .wandb-row { display: flex; flex-direction: row; flex-wrap: wrap; justify-content: flex-start; width: 100% }\n",
       "    .wandb-col { display: flex; flex-direction: column; flex-basis: 100%; flex: 1; padding: 10px; }\n",
       "    </style>\n",
       "<div class=\"wandb-row\"><div class=\"wandb-col\"><h3>Run history:</h3><br/><table class=\"wandb\"><tr><td>epoch</td><td>▁▂▃▅▆▇█</td></tr><tr><td>inference_accuracy</td><td>▁</td></tr><tr><td>inference_loss</td><td>▁</td></tr><tr><td>test_acc</td><td>▁▃▅████</td></tr><tr><td>test_f1</td><td>▁▂▆████</td></tr><tr><td>test_loss</td><td>█▄▃▁▁▁▁</td></tr><tr><td>test_precision</td><td>▁▂▇████</td></tr><tr><td>test_recall</td><td>▁▂▅████</td></tr><tr><td>train_acc</td><td>▁▇▇████</td></tr><tr><td>train_f1</td><td>▁▇▇████</td></tr><tr><td>train_loss</td><td>█▃▂▁▁▁▁</td></tr><tr><td>train_precision</td><td>▁▇▇████</td></tr><tr><td>train_recall</td><td>▁▇▇████</td></tr></table><br/></div><div class=\"wandb-col\"><h3>Run summary:</h3><br/><table class=\"wandb\"><tr><td>epoch</td><td>7</td></tr><tr><td>inference_accuracy</td><td>0.94306</td></tr><tr><td>inference_loss</td><td>0.29255</td></tr><tr><td>test_acc</td><td>0.95556</td></tr><tr><td>test_f1</td><td>0.95697</td></tr><tr><td>test_loss</td><td>0.30871</td></tr><tr><td>test_precision</td><td>0.96389</td></tr><tr><td>test_recall</td><td>0.95556</td></tr><tr><td>train_acc</td><td>0.94306</td></tr><tr><td>train_f1</td><td>0.9431</td></tr><tr><td>train_loss</td><td>0.29249</td></tr><tr><td>train_precision</td><td>0.94449</td></tr><tr><td>train_recall</td><td>0.94306</td></tr><tr><td>train_time</td><td>00:05:31</td></tr></table><br/></div></div>"
      ],
      "text/plain": [
       "<IPython.core.display.HTML object>"
      ]
     },
     "metadata": {},
     "output_type": "display_data"
    },
    {
     "data": {
      "text/html": [
       " View run <strong style=\"color:#cdcd00\">spring-sweep-95</strong> at: <a href='https://wandb.ai/andberg9-self/AST_Sweeps/runs/xqkl47gv' target=\"_blank\">https://wandb.ai/andberg9-self/AST_Sweeps/runs/xqkl47gv</a><br/> View project at: <a href='https://wandb.ai/andberg9-self/AST_Sweeps' target=\"_blank\">https://wandb.ai/andberg9-self/AST_Sweeps</a><br/>Synced 5 W&B file(s), 0 media file(s), 0 artifact file(s) and 0 other file(s)"
      ],
      "text/plain": [
       "<IPython.core.display.HTML object>"
      ]
     },
     "metadata": {},
     "output_type": "display_data"
    },
    {
     "data": {
      "text/html": [
       "Find logs at: <code>.\\wandb\\run-20240925_201019-xqkl47gv\\logs</code>"
      ],
      "text/plain": [
       "<IPython.core.display.HTML object>"
      ]
     },
     "metadata": {},
     "output_type": "display_data"
    },
    {
     "name": "stderr",
     "output_type": "stream",
     "text": [
      "wandb: Agent Starting Run: nwsj597m with config:\n",
      "wandb: \tbatch_size: 8\n",
      "wandb: \tepochs: 7\n",
      "wandb: \tlearning_rate: 0.0004496835276717262\n",
      "wandb: \toptimizer: adamW\n",
      "wandb: \tscheduler: PolynomialLR\n"
     ]
    },
    {
     "data": {
      "text/html": [
       "Tracking run with wandb version 0.18.1"
      ],
      "text/plain": [
       "<IPython.core.display.HTML object>"
      ]
     },
     "metadata": {},
     "output_type": "display_data"
    },
    {
     "data": {
      "text/html": [
       "Run data is saved locally in <code>c:\\Users\\Sidewinders\\Research_notebooks\\Drone_classification\\Research\\notebooks\\wandb\\run-20240925_201615-nwsj597m</code>"
      ],
      "text/plain": [
       "<IPython.core.display.HTML object>"
      ]
     },
     "metadata": {},
     "output_type": "display_data"
    },
    {
     "data": {
      "text/html": [
       "Syncing run <strong><a href='https://wandb.ai/andberg9-self/AST_Sweeps/runs/nwsj597m' target=\"_blank\">youthful-sweep-96</a></strong> to <a href='https://wandb.ai/andberg9-self/AST_Sweeps' target=\"_blank\">Weights & Biases</a> (<a href='https://wandb.me/run' target=\"_blank\">docs</a>)<br/>Sweep page: <a href='https://wandb.ai/andberg9-self/AST_Sweeps/sweeps/ange3go8' target=\"_blank\">https://wandb.ai/andberg9-self/AST_Sweeps/sweeps/ange3go8</a>"
      ],
      "text/plain": [
       "<IPython.core.display.HTML object>"
      ]
     },
     "metadata": {},
     "output_type": "display_data"
    },
    {
     "data": {
      "text/html": [
       " View project at <a href='https://wandb.ai/andberg9-self/AST_Sweeps' target=\"_blank\">https://wandb.ai/andberg9-self/AST_Sweeps</a>"
      ],
      "text/plain": [
       "<IPython.core.display.HTML object>"
      ]
     },
     "metadata": {},
     "output_type": "display_data"
    },
    {
     "data": {
      "text/html": [
       " View sweep at <a href='https://wandb.ai/andberg9-self/AST_Sweeps/sweeps/ange3go8' target=\"_blank\">https://wandb.ai/andberg9-self/AST_Sweeps/sweeps/ange3go8</a>"
      ],
      "text/plain": [
       "<IPython.core.display.HTML object>"
      ]
     },
     "metadata": {},
     "output_type": "display_data"
    },
    {
     "data": {
      "text/html": [
       " View run at <a href='https://wandb.ai/andberg9-self/AST_Sweeps/runs/nwsj597m' target=\"_blank\">https://wandb.ai/andberg9-self/AST_Sweeps/runs/nwsj597m</a>"
      ],
      "text/plain": [
       "<IPython.core.display.HTML object>"
      ]
     },
     "metadata": {},
     "output_type": "display_data"
    },
    {
     "name": "stdout",
     "output_type": "stream",
     "text": [
      "ASTForAudioClassification(\n",
      "  (audio_spectrogram_transformer): ASTModel(\n",
      "    (embeddings): ASTEmbeddings(\n",
      "      (patch_embeddings): ASTPatchEmbeddings(\n",
      "        (projection): Conv2d(1, 768, kernel_size=(16, 16), stride=(10, 10))\n",
      "      )\n",
      "      (dropout): Dropout(p=0.0, inplace=False)\n",
      "    )\n",
      "    (encoder): ASTEncoder(\n",
      "      (layer): ModuleList(\n",
      "        (0-11): 12 x ASTLayer(\n",
      "          (attention): ASTSdpaAttention(\n",
      "            (attention): ASTSdpaSelfAttention(\n",
      "              (query): Linear(in_features=768, out_features=768, bias=True)\n",
      "              (key): Linear(in_features=768, out_features=768, bias=True)\n",
      "              (value): Linear(in_features=768, out_features=768, bias=True)\n",
      "              (dropout): Dropout(p=0.0, inplace=False)\n",
      "            )\n",
      "            (output): ASTSelfOutput(\n",
      "              (dense): Linear(in_features=768, out_features=768, bias=True)\n",
      "              (dropout): Dropout(p=0.0, inplace=False)\n",
      "            )\n",
      "          )\n",
      "          (intermediate): ASTIntermediate(\n",
      "            (dense): Linear(in_features=768, out_features=3072, bias=True)\n",
      "            (intermediate_act_fn): GELUActivation()\n",
      "          )\n",
      "          (output): ASTOutput(\n",
      "            (dense): Linear(in_features=3072, out_features=768, bias=True)\n",
      "            (dropout): Dropout(p=0.0, inplace=False)\n",
      "          )\n",
      "          (layernorm_before): LayerNorm((768,), eps=1e-12, elementwise_affine=True)\n",
      "          (layernorm_after): LayerNorm((768,), eps=1e-12, elementwise_affine=True)\n",
      "        )\n",
      "      )\n",
      "    )\n",
      "    (layernorm): LayerNorm((768,), eps=1e-12, elementwise_affine=True)\n",
      "  )\n",
      "  (classifier): ASTMLPHead(\n",
      "    (layernorm): LayerNorm((768,), eps=1e-12, elementwise_affine=True)\n",
      "    (dense): Linear(in_features=768, out_features=9, bias=True)\n",
      "  )\n",
      ")\n"
     ]
    },
    {
     "data": {
      "application/vnd.jupyter.widget-view+json": {
       "model_id": "f06c0b8b0e1a48fe806763e8ef4c2f24",
       "version_major": 2,
       "version_minor": 0
      },
      "text/plain": [
       "  0%|          | 0/7 [00:00<?, ?it/s]"
      ]
     },
     "metadata": {},
     "output_type": "display_data"
    },
    {
     "name": "stdout",
     "output_type": "stream",
     "text": [
      "Epoch 1/7 | Train Loss: 1.6664 | Train Acc: 0.5028 | Train F1: 0.4885 | Test Loss: 1.1481 | Test Acc: 0.7337 | Test F1: 0.7071\n",
      "Epoch 2/7 | Train Loss: 0.9034 | Train Acc: 0.8292 | Train F1: 0.8253 | Test Loss: 0.7688 | Test Acc: 0.8315 | Test F1: 0.8222\n",
      "Epoch 3/7 | Train Loss: 0.6616 | Train Acc: 0.8639 | Train F1: 0.8623 | Test Loss: 0.6097 | Test Acc: 0.8804 | Test F1: 0.8751\n",
      "Epoch 4/7 | Train Loss: 0.5625 | Train Acc: 0.8861 | Train F1: 0.8856 | Test Loss: 0.5516 | Test Acc: 0.8804 | Test F1: 0.8804\n",
      "Epoch 5/7 | Train Loss: 0.5170 | Train Acc: 0.8944 | Train F1: 0.8943 | Test Loss: 0.5170 | Test Acc: 0.8967 | Test F1: 0.8937\n",
      "Epoch 6/7 | Train Loss: 0.5003 | Train Acc: 0.9014 | Train F1: 0.9020 | Test Loss: 0.5169 | Test Acc: 0.8967 | Test F1: 0.8937\n",
      "Epoch 7/7 | Train Loss: 0.5003 | Train Acc: 0.9014 | Train F1: 0.9020 | Test Loss: 0.5243 | Test Acc: 0.8859 | Test F1: 0.8937\n",
      "Train time on cuda: 333.3131334999998\n",
      "Inference Loss: 0.5003, Accuracy: 90.14%\n"
     ]
    },
    {
     "data": {
      "application/vnd.jupyter.widget-view+json": {
       "model_id": "7f874d91db184e1f9e6e6b901c7b1cfd",
       "version_major": 2,
       "version_minor": 0
      },
      "text/plain": [
       "VBox(children=(Label(value='0.008 MB of 0.008 MB uploaded\\r'), FloatProgress(value=1.0, max=1.0)))"
      ]
     },
     "metadata": {},
     "output_type": "display_data"
    },
    {
     "data": {
      "text/html": [
       "<style>\n",
       "    table.wandb td:nth-child(1) { padding: 0 10px; text-align: left ; width: auto;} td:nth-child(2) {text-align: left ; width: 100%}\n",
       "    .wandb-row { display: flex; flex-direction: row; flex-wrap: wrap; justify-content: flex-start; width: 100% }\n",
       "    .wandb-col { display: flex; flex-direction: column; flex-basis: 100%; flex: 1; padding: 10px; }\n",
       "    </style>\n",
       "<div class=\"wandb-row\"><div class=\"wandb-col\"><h3>Run history:</h3><br/><table class=\"wandb\"><tr><td>epoch</td><td>▁▂▃▅▆▇█</td></tr><tr><td>inference_accuracy</td><td>▁</td></tr><tr><td>inference_loss</td><td>▁</td></tr><tr><td>test_acc</td><td>▁▅▇▇███</td></tr><tr><td>test_f1</td><td>▁▅▇████</td></tr><tr><td>test_loss</td><td>█▄▂▁▁▁▁</td></tr><tr><td>test_precision</td><td>▁▆▇████</td></tr><tr><td>test_recall</td><td>▁▅▇████</td></tr><tr><td>train_acc</td><td>▁▇▇████</td></tr><tr><td>train_f1</td><td>▁▇▇████</td></tr><tr><td>train_loss</td><td>█▃▂▁▁▁▁</td></tr><tr><td>train_precision</td><td>▁▇▇████</td></tr><tr><td>train_recall</td><td>▁▇▇████</td></tr></table><br/></div><div class=\"wandb-col\"><h3>Run summary:</h3><br/><table class=\"wandb\"><tr><td>epoch</td><td>7</td></tr><tr><td>inference_accuracy</td><td>0.90139</td></tr><tr><td>inference_loss</td><td>0.50034</td></tr><tr><td>test_acc</td><td>0.88587</td></tr><tr><td>test_f1</td><td>0.89368</td></tr><tr><td>test_loss</td><td>0.52427</td></tr><tr><td>test_precision</td><td>0.90518</td></tr><tr><td>test_recall</td><td>0.89444</td></tr><tr><td>train_acc</td><td>0.90139</td></tr><tr><td>train_f1</td><td>0.90203</td></tr><tr><td>train_loss</td><td>0.50026</td></tr><tr><td>train_precision</td><td>0.90375</td></tr><tr><td>train_recall</td><td>0.90139</td></tr><tr><td>train_time</td><td>00:05:33</td></tr></table><br/></div></div>"
      ],
      "text/plain": [
       "<IPython.core.display.HTML object>"
      ]
     },
     "metadata": {},
     "output_type": "display_data"
    },
    {
     "data": {
      "text/html": [
       " View run <strong style=\"color:#cdcd00\">youthful-sweep-96</strong> at: <a href='https://wandb.ai/andberg9-self/AST_Sweeps/runs/nwsj597m' target=\"_blank\">https://wandb.ai/andberg9-self/AST_Sweeps/runs/nwsj597m</a><br/> View project at: <a href='https://wandb.ai/andberg9-self/AST_Sweeps' target=\"_blank\">https://wandb.ai/andberg9-self/AST_Sweeps</a><br/>Synced 5 W&B file(s), 0 media file(s), 0 artifact file(s) and 0 other file(s)"
      ],
      "text/plain": [
       "<IPython.core.display.HTML object>"
      ]
     },
     "metadata": {},
     "output_type": "display_data"
    },
    {
     "data": {
      "text/html": [
       "Find logs at: <code>.\\wandb\\run-20240925_201615-nwsj597m\\logs</code>"
      ],
      "text/plain": [
       "<IPython.core.display.HTML object>"
      ]
     },
     "metadata": {},
     "output_type": "display_data"
    },
    {
     "name": "stderr",
     "output_type": "stream",
     "text": [
      "wandb: Agent Starting Run: d2dhr5qm with config:\n",
      "wandb: \tbatch_size: 8\n",
      "wandb: \tepochs: 7\n",
      "wandb: \tlearning_rate: 0.0005874947011749158\n",
      "wandb: \toptimizer: adamW\n",
      "wandb: \tscheduler: PolynomialLR\n"
     ]
    },
    {
     "data": {
      "text/html": [
       "Tracking run with wandb version 0.18.1"
      ],
      "text/plain": [
       "<IPython.core.display.HTML object>"
      ]
     },
     "metadata": {},
     "output_type": "display_data"
    },
    {
     "data": {
      "text/html": [
       "Run data is saved locally in <code>c:\\Users\\Sidewinders\\Research_notebooks\\Drone_classification\\Research\\notebooks\\wandb\\run-20240925_202211-d2dhr5qm</code>"
      ],
      "text/plain": [
       "<IPython.core.display.HTML object>"
      ]
     },
     "metadata": {},
     "output_type": "display_data"
    },
    {
     "data": {
      "text/html": [
       "Syncing run <strong><a href='https://wandb.ai/andberg9-self/AST_Sweeps/runs/d2dhr5qm' target=\"_blank\">grateful-sweep-97</a></strong> to <a href='https://wandb.ai/andberg9-self/AST_Sweeps' target=\"_blank\">Weights & Biases</a> (<a href='https://wandb.me/run' target=\"_blank\">docs</a>)<br/>Sweep page: <a href='https://wandb.ai/andberg9-self/AST_Sweeps/sweeps/ange3go8' target=\"_blank\">https://wandb.ai/andberg9-self/AST_Sweeps/sweeps/ange3go8</a>"
      ],
      "text/plain": [
       "<IPython.core.display.HTML object>"
      ]
     },
     "metadata": {},
     "output_type": "display_data"
    },
    {
     "data": {
      "text/html": [
       " View project at <a href='https://wandb.ai/andberg9-self/AST_Sweeps' target=\"_blank\">https://wandb.ai/andberg9-self/AST_Sweeps</a>"
      ],
      "text/plain": [
       "<IPython.core.display.HTML object>"
      ]
     },
     "metadata": {},
     "output_type": "display_data"
    },
    {
     "data": {
      "text/html": [
       " View sweep at <a href='https://wandb.ai/andberg9-self/AST_Sweeps/sweeps/ange3go8' target=\"_blank\">https://wandb.ai/andberg9-self/AST_Sweeps/sweeps/ange3go8</a>"
      ],
      "text/plain": [
       "<IPython.core.display.HTML object>"
      ]
     },
     "metadata": {},
     "output_type": "display_data"
    },
    {
     "data": {
      "text/html": [
       " View run at <a href='https://wandb.ai/andberg9-self/AST_Sweeps/runs/d2dhr5qm' target=\"_blank\">https://wandb.ai/andberg9-self/AST_Sweeps/runs/d2dhr5qm</a>"
      ],
      "text/plain": [
       "<IPython.core.display.HTML object>"
      ]
     },
     "metadata": {},
     "output_type": "display_data"
    },
    {
     "name": "stdout",
     "output_type": "stream",
     "text": [
      "ASTForAudioClassification(\n",
      "  (audio_spectrogram_transformer): ASTModel(\n",
      "    (embeddings): ASTEmbeddings(\n",
      "      (patch_embeddings): ASTPatchEmbeddings(\n",
      "        (projection): Conv2d(1, 768, kernel_size=(16, 16), stride=(10, 10))\n",
      "      )\n",
      "      (dropout): Dropout(p=0.0, inplace=False)\n",
      "    )\n",
      "    (encoder): ASTEncoder(\n",
      "      (layer): ModuleList(\n",
      "        (0-11): 12 x ASTLayer(\n",
      "          (attention): ASTSdpaAttention(\n",
      "            (attention): ASTSdpaSelfAttention(\n",
      "              (query): Linear(in_features=768, out_features=768, bias=True)\n",
      "              (key): Linear(in_features=768, out_features=768, bias=True)\n",
      "              (value): Linear(in_features=768, out_features=768, bias=True)\n",
      "              (dropout): Dropout(p=0.0, inplace=False)\n",
      "            )\n",
      "            (output): ASTSelfOutput(\n",
      "              (dense): Linear(in_features=768, out_features=768, bias=True)\n",
      "              (dropout): Dropout(p=0.0, inplace=False)\n",
      "            )\n",
      "          )\n",
      "          (intermediate): ASTIntermediate(\n",
      "            (dense): Linear(in_features=768, out_features=3072, bias=True)\n",
      "            (intermediate_act_fn): GELUActivation()\n",
      "          )\n",
      "          (output): ASTOutput(\n",
      "            (dense): Linear(in_features=3072, out_features=768, bias=True)\n",
      "            (dropout): Dropout(p=0.0, inplace=False)\n",
      "          )\n",
      "          (layernorm_before): LayerNorm((768,), eps=1e-12, elementwise_affine=True)\n",
      "          (layernorm_after): LayerNorm((768,), eps=1e-12, elementwise_affine=True)\n",
      "        )\n",
      "      )\n",
      "    )\n",
      "    (layernorm): LayerNorm((768,), eps=1e-12, elementwise_affine=True)\n",
      "  )\n",
      "  (classifier): ASTMLPHead(\n",
      "    (layernorm): LayerNorm((768,), eps=1e-12, elementwise_affine=True)\n",
      "    (dense): Linear(in_features=768, out_features=9, bias=True)\n",
      "  )\n",
      ")\n"
     ]
    },
    {
     "data": {
      "application/vnd.jupyter.widget-view+json": {
       "model_id": "216d91a9e7b1434fa4d0c5db35b43d80",
       "version_major": 2,
       "version_minor": 0
      },
      "text/plain": [
       "  0%|          | 0/7 [00:00<?, ?it/s]"
      ]
     },
     "metadata": {},
     "output_type": "display_data"
    },
    {
     "name": "stdout",
     "output_type": "stream",
     "text": [
      "Epoch 1/7 | Train Loss: 1.6124 | Train Acc: 0.5000 | Train F1: 0.4983 | Test Loss: 1.0056 | Test Acc: 0.7609 | Test F1: 0.7562\n",
      "Epoch 2/7 | Train Loss: 0.7676 | Train Acc: 0.8667 | Train F1: 0.8664 | Test Loss: 0.6086 | Test Acc: 0.9130 | Test F1: 0.9068\n",
      "Epoch 3/7 | Train Loss: 0.5423 | Train Acc: 0.8972 | Train F1: 0.8962 | Test Loss: 0.4936 | Test Acc: 0.9402 | Test F1: 0.9455\n",
      "Epoch 4/7 | Train Loss: 0.4590 | Train Acc: 0.9111 | Train F1: 0.9122 | Test Loss: 0.4373 | Test Acc: 0.9457 | Test F1: 0.9452\n",
      "Epoch 5/7 | Train Loss: 0.4201 | Train Acc: 0.9306 | Train F1: 0.9311 | Test Loss: 0.4142 | Test Acc: 0.9457 | Test F1: 0.9452\n",
      "Epoch 6/7 | Train Loss: 0.4071 | Train Acc: 0.9319 | Train F1: 0.9325 | Test Loss: 0.4122 | Test Acc: 0.9457 | Test F1: 0.9452\n",
      "Epoch 7/7 | Train Loss: 0.4071 | Train Acc: 0.9319 | Train F1: 0.9325 | Test Loss: 0.4099 | Test Acc: 0.9457 | Test F1: 0.9452\n",
      "Train time on cuda: 333.29068859999825\n",
      "Inference Loss: 0.4071, Accuracy: 93.19%\n"
     ]
    },
    {
     "data": {
      "application/vnd.jupyter.widget-view+json": {
       "model_id": "b16220459ee047709ecf1969e94a02a9",
       "version_major": 2,
       "version_minor": 0
      },
      "text/plain": [
       "VBox(children=(Label(value='0.008 MB of 0.008 MB uploaded\\r'), FloatProgress(value=1.0, max=1.0)))"
      ]
     },
     "metadata": {},
     "output_type": "display_data"
    },
    {
     "data": {
      "text/html": [
       "<style>\n",
       "    table.wandb td:nth-child(1) { padding: 0 10px; text-align: left ; width: auto;} td:nth-child(2) {text-align: left ; width: 100%}\n",
       "    .wandb-row { display: flex; flex-direction: row; flex-wrap: wrap; justify-content: flex-start; width: 100% }\n",
       "    .wandb-col { display: flex; flex-direction: column; flex-basis: 100%; flex: 1; padding: 10px; }\n",
       "    </style>\n",
       "<div class=\"wandb-row\"><div class=\"wandb-col\"><h3>Run history:</h3><br/><table class=\"wandb\"><tr><td>epoch</td><td>▁▂▃▅▆▇█</td></tr><tr><td>inference_accuracy</td><td>▁</td></tr><tr><td>inference_loss</td><td>▁</td></tr><tr><td>test_acc</td><td>▁▇█████</td></tr><tr><td>test_f1</td><td>▁▇█████</td></tr><tr><td>test_loss</td><td>█▃▂▁▁▁▁</td></tr><tr><td>test_precision</td><td>▁▆█████</td></tr><tr><td>test_recall</td><td>▁▇█████</td></tr><tr><td>train_acc</td><td>▁▇▇████</td></tr><tr><td>train_f1</td><td>▁▇▇████</td></tr><tr><td>train_loss</td><td>█▃▂▁▁▁▁</td></tr><tr><td>train_precision</td><td>▁▇▇████</td></tr><tr><td>train_recall</td><td>▁▇▇████</td></tr></table><br/></div><div class=\"wandb-col\"><h3>Run summary:</h3><br/><table class=\"wandb\"><tr><td>epoch</td><td>7</td></tr><tr><td>inference_accuracy</td><td>0.93194</td></tr><tr><td>inference_loss</td><td>0.40709</td></tr><tr><td>test_acc</td><td>0.94565</td></tr><tr><td>test_f1</td><td>0.94524</td></tr><tr><td>test_loss</td><td>0.4099</td></tr><tr><td>test_precision</td><td>0.95226</td></tr><tr><td>test_recall</td><td>0.94444</td></tr><tr><td>train_acc</td><td>0.93194</td></tr><tr><td>train_f1</td><td>0.93246</td></tr><tr><td>train_loss</td><td>0.40706</td></tr><tr><td>train_precision</td><td>0.93353</td></tr><tr><td>train_recall</td><td>0.93194</td></tr><tr><td>train_time</td><td>00:05:33</td></tr></table><br/></div></div>"
      ],
      "text/plain": [
       "<IPython.core.display.HTML object>"
      ]
     },
     "metadata": {},
     "output_type": "display_data"
    },
    {
     "data": {
      "text/html": [
       " View run <strong style=\"color:#cdcd00\">grateful-sweep-97</strong> at: <a href='https://wandb.ai/andberg9-self/AST_Sweeps/runs/d2dhr5qm' target=\"_blank\">https://wandb.ai/andberg9-self/AST_Sweeps/runs/d2dhr5qm</a><br/> View project at: <a href='https://wandb.ai/andberg9-self/AST_Sweeps' target=\"_blank\">https://wandb.ai/andberg9-self/AST_Sweeps</a><br/>Synced 5 W&B file(s), 0 media file(s), 0 artifact file(s) and 0 other file(s)"
      ],
      "text/plain": [
       "<IPython.core.display.HTML object>"
      ]
     },
     "metadata": {},
     "output_type": "display_data"
    },
    {
     "data": {
      "text/html": [
       "Find logs at: <code>.\\wandb\\run-20240925_202211-d2dhr5qm\\logs</code>"
      ],
      "text/plain": [
       "<IPython.core.display.HTML object>"
      ]
     },
     "metadata": {},
     "output_type": "display_data"
    },
    {
     "name": "stderr",
     "output_type": "stream",
     "text": [
      "wandb: Agent Starting Run: 5yfit20x with config:\n",
      "wandb: \tbatch_size: 32\n",
      "wandb: \tepochs: 7\n",
      "wandb: \tlearning_rate: 0.00035763366071402423\n",
      "wandb: \toptimizer: adamW\n",
      "wandb: \tscheduler: PolynomialLR\n"
     ]
    },
    {
     "data": {
      "text/html": [
       "Tracking run with wandb version 0.18.1"
      ],
      "text/plain": [
       "<IPython.core.display.HTML object>"
      ]
     },
     "metadata": {},
     "output_type": "display_data"
    },
    {
     "data": {
      "text/html": [
       "Run data is saved locally in <code>c:\\Users\\Sidewinders\\Research_notebooks\\Drone_classification\\Research\\notebooks\\wandb\\run-20240925_202807-5yfit20x</code>"
      ],
      "text/plain": [
       "<IPython.core.display.HTML object>"
      ]
     },
     "metadata": {},
     "output_type": "display_data"
    },
    {
     "data": {
      "text/html": [
       "Syncing run <strong><a href='https://wandb.ai/andberg9-self/AST_Sweeps/runs/5yfit20x' target=\"_blank\">ethereal-sweep-98</a></strong> to <a href='https://wandb.ai/andberg9-self/AST_Sweeps' target=\"_blank\">Weights & Biases</a> (<a href='https://wandb.me/run' target=\"_blank\">docs</a>)<br/>Sweep page: <a href='https://wandb.ai/andberg9-self/AST_Sweeps/sweeps/ange3go8' target=\"_blank\">https://wandb.ai/andberg9-self/AST_Sweeps/sweeps/ange3go8</a>"
      ],
      "text/plain": [
       "<IPython.core.display.HTML object>"
      ]
     },
     "metadata": {},
     "output_type": "display_data"
    },
    {
     "data": {
      "text/html": [
       " View project at <a href='https://wandb.ai/andberg9-self/AST_Sweeps' target=\"_blank\">https://wandb.ai/andberg9-self/AST_Sweeps</a>"
      ],
      "text/plain": [
       "<IPython.core.display.HTML object>"
      ]
     },
     "metadata": {},
     "output_type": "display_data"
    },
    {
     "data": {
      "text/html": [
       " View sweep at <a href='https://wandb.ai/andberg9-self/AST_Sweeps/sweeps/ange3go8' target=\"_blank\">https://wandb.ai/andberg9-self/AST_Sweeps/sweeps/ange3go8</a>"
      ],
      "text/plain": [
       "<IPython.core.display.HTML object>"
      ]
     },
     "metadata": {},
     "output_type": "display_data"
    },
    {
     "data": {
      "text/html": [
       " View run at <a href='https://wandb.ai/andberg9-self/AST_Sweeps/runs/5yfit20x' target=\"_blank\">https://wandb.ai/andberg9-self/AST_Sweeps/runs/5yfit20x</a>"
      ],
      "text/plain": [
       "<IPython.core.display.HTML object>"
      ]
     },
     "metadata": {},
     "output_type": "display_data"
    },
    {
     "name": "stdout",
     "output_type": "stream",
     "text": [
      "ASTForAudioClassification(\n",
      "  (audio_spectrogram_transformer): ASTModel(\n",
      "    (embeddings): ASTEmbeddings(\n",
      "      (patch_embeddings): ASTPatchEmbeddings(\n",
      "        (projection): Conv2d(1, 768, kernel_size=(16, 16), stride=(10, 10))\n",
      "      )\n",
      "      (dropout): Dropout(p=0.0, inplace=False)\n",
      "    )\n",
      "    (encoder): ASTEncoder(\n",
      "      (layer): ModuleList(\n",
      "        (0-11): 12 x ASTLayer(\n",
      "          (attention): ASTSdpaAttention(\n",
      "            (attention): ASTSdpaSelfAttention(\n",
      "              (query): Linear(in_features=768, out_features=768, bias=True)\n",
      "              (key): Linear(in_features=768, out_features=768, bias=True)\n",
      "              (value): Linear(in_features=768, out_features=768, bias=True)\n",
      "              (dropout): Dropout(p=0.0, inplace=False)\n",
      "            )\n",
      "            (output): ASTSelfOutput(\n",
      "              (dense): Linear(in_features=768, out_features=768, bias=True)\n",
      "              (dropout): Dropout(p=0.0, inplace=False)\n",
      "            )\n",
      "          )\n",
      "          (intermediate): ASTIntermediate(\n",
      "            (dense): Linear(in_features=768, out_features=3072, bias=True)\n",
      "            (intermediate_act_fn): GELUActivation()\n",
      "          )\n",
      "          (output): ASTOutput(\n",
      "            (dense): Linear(in_features=3072, out_features=768, bias=True)\n",
      "            (dropout): Dropout(p=0.0, inplace=False)\n",
      "          )\n",
      "          (layernorm_before): LayerNorm((768,), eps=1e-12, elementwise_affine=True)\n",
      "          (layernorm_after): LayerNorm((768,), eps=1e-12, elementwise_affine=True)\n",
      "        )\n",
      "      )\n",
      "    )\n",
      "    (layernorm): LayerNorm((768,), eps=1e-12, elementwise_affine=True)\n",
      "  )\n",
      "  (classifier): ASTMLPHead(\n",
      "    (layernorm): LayerNorm((768,), eps=1e-12, elementwise_affine=True)\n",
      "    (dense): Linear(in_features=768, out_features=9, bias=True)\n",
      "  )\n",
      ")\n"
     ]
    },
    {
     "data": {
      "application/vnd.jupyter.widget-view+json": {
       "model_id": "f861f726c110445da650225bc7089aa9",
       "version_major": 2,
       "version_minor": 0
      },
      "text/plain": [
       "  0%|          | 0/7 [00:00<?, ?it/s]"
      ]
     },
     "metadata": {},
     "output_type": "display_data"
    },
    {
     "name": "stdout",
     "output_type": "stream",
     "text": [
      "Epoch 1/7 | Train Loss: 2.1611 | Train Acc: 0.2255 | Train F1: 0.1935 | Test Loss: 1.9975 | Test Acc: 0.3104 | Test F1: 0.2852\n",
      "Epoch 2/7 | Train Loss: 1.8211 | Train Acc: 0.4226 | Train F1: 0.3906 | Test Loss: 1.7358 | Test Acc: 0.4990 | Test F1: 0.4886\n",
      "Epoch 3/7 | Train Loss: 1.6031 | Train Acc: 0.6046 | Train F1: 0.5883 | Test Loss: 1.5457 | Test Acc: 0.6156 | Test F1: 0.6016\n",
      "Epoch 4/7 | Train Loss: 1.4582 | Train Acc: 0.6957 | Train F1: 0.6840 | Test Loss: 1.4454 | Test Acc: 0.6958 | Test F1: 0.6960\n",
      "Epoch 5/7 | Train Loss: 1.3871 | Train Acc: 0.7337 | Train F1: 0.7289 | Test Loss: 1.4000 | Test Acc: 0.7177 | Test F1: 0.7149\n",
      "Epoch 6/7 | Train Loss: 1.3594 | Train Acc: 0.7514 | Train F1: 0.7447 | Test Loss: 1.3884 | Test Acc: 0.7365 | Test F1: 0.7149\n",
      "Epoch 7/7 | Train Loss: 1.3551 | Train Acc: 0.7527 | Train F1: 0.7447 | Test Loss: 1.3888 | Test Acc: 0.7240 | Test F1: 0.7149\n",
      "Train time on cuda: 335.8239262999996\n",
      "Inference Loss: 1.3578, Accuracy: 75.28%\n"
     ]
    },
    {
     "data": {
      "application/vnd.jupyter.widget-view+json": {
       "model_id": "637b98e29f04455b9b82abb26fa13af8",
       "version_major": 2,
       "version_minor": 0
      },
      "text/plain": [
       "VBox(children=(Label(value='0.008 MB of 0.008 MB uploaded\\r'), FloatProgress(value=1.0, max=1.0)))"
      ]
     },
     "metadata": {},
     "output_type": "display_data"
    },
    {
     "data": {
      "text/html": [
       "<style>\n",
       "    table.wandb td:nth-child(1) { padding: 0 10px; text-align: left ; width: auto;} td:nth-child(2) {text-align: left ; width: 100%}\n",
       "    .wandb-row { display: flex; flex-direction: row; flex-wrap: wrap; justify-content: flex-start; width: 100% }\n",
       "    .wandb-col { display: flex; flex-direction: column; flex-basis: 100%; flex: 1; padding: 10px; }\n",
       "    </style>\n",
       "<div class=\"wandb-row\"><div class=\"wandb-col\"><h3>Run history:</h3><br/><table class=\"wandb\"><tr><td>epoch</td><td>▁▂▃▅▆▇█</td></tr><tr><td>inference_accuracy</td><td>▁</td></tr><tr><td>inference_loss</td><td>▁</td></tr><tr><td>test_acc</td><td>▁▄▆▇███</td></tr><tr><td>test_f1</td><td>▁▄▆████</td></tr><tr><td>test_loss</td><td>█▅▃▂▁▁▁</td></tr><tr><td>test_precision</td><td>▁▅▆████</td></tr><tr><td>test_recall</td><td>▁▄▆████</td></tr><tr><td>train_acc</td><td>▁▄▆▇███</td></tr><tr><td>train_f1</td><td>▁▄▆▇███</td></tr><tr><td>train_loss</td><td>█▅▃▂▁▁▁</td></tr><tr><td>train_precision</td><td>▁▄▆▇███</td></tr><tr><td>train_recall</td><td>▁▄▆▇███</td></tr></table><br/></div><div class=\"wandb-col\"><h3>Run summary:</h3><br/><table class=\"wandb\"><tr><td>epoch</td><td>7</td></tr><tr><td>inference_accuracy</td><td>0.75278</td></tr><tr><td>inference_loss</td><td>1.35782</td></tr><tr><td>test_acc</td><td>0.72396</td></tr><tr><td>test_f1</td><td>0.71491</td></tr><tr><td>test_loss</td><td>1.38884</td></tr><tr><td>test_precision</td><td>0.71756</td></tr><tr><td>test_recall</td><td>0.72222</td></tr><tr><td>train_acc</td><td>0.75272</td></tr><tr><td>train_f1</td><td>0.7447</td></tr><tr><td>train_loss</td><td>1.35513</td></tr><tr><td>train_precision</td><td>0.74916</td></tr><tr><td>train_recall</td><td>0.75139</td></tr><tr><td>train_time</td><td>00:05:35</td></tr></table><br/></div></div>"
      ],
      "text/plain": [
       "<IPython.core.display.HTML object>"
      ]
     },
     "metadata": {},
     "output_type": "display_data"
    },
    {
     "data": {
      "text/html": [
       " View run <strong style=\"color:#cdcd00\">ethereal-sweep-98</strong> at: <a href='https://wandb.ai/andberg9-self/AST_Sweeps/runs/5yfit20x' target=\"_blank\">https://wandb.ai/andberg9-self/AST_Sweeps/runs/5yfit20x</a><br/> View project at: <a href='https://wandb.ai/andberg9-self/AST_Sweeps' target=\"_blank\">https://wandb.ai/andberg9-self/AST_Sweeps</a><br/>Synced 5 W&B file(s), 0 media file(s), 0 artifact file(s) and 0 other file(s)"
      ],
      "text/plain": [
       "<IPython.core.display.HTML object>"
      ]
     },
     "metadata": {},
     "output_type": "display_data"
    },
    {
     "data": {
      "text/html": [
       "Find logs at: <code>.\\wandb\\run-20240925_202807-5yfit20x\\logs</code>"
      ],
      "text/plain": [
       "<IPython.core.display.HTML object>"
      ]
     },
     "metadata": {},
     "output_type": "display_data"
    },
    {
     "name": "stderr",
     "output_type": "stream",
     "text": [
      "wandb: Agent Starting Run: utorwvrq with config:\n",
      "wandb: \tbatch_size: 8\n",
      "wandb: \tepochs: 7\n",
      "wandb: \tlearning_rate: 0.00046981054752811706\n",
      "wandb: \toptimizer: adamW\n",
      "wandb: \tscheduler: PolynomialLR\n"
     ]
    },
    {
     "data": {
      "text/html": [
       "Tracking run with wandb version 0.18.1"
      ],
      "text/plain": [
       "<IPython.core.display.HTML object>"
      ]
     },
     "metadata": {},
     "output_type": "display_data"
    },
    {
     "data": {
      "text/html": [
       "Run data is saved locally in <code>c:\\Users\\Sidewinders\\Research_notebooks\\Drone_classification\\Research\\notebooks\\wandb\\run-20240925_203406-utorwvrq</code>"
      ],
      "text/plain": [
       "<IPython.core.display.HTML object>"
      ]
     },
     "metadata": {},
     "output_type": "display_data"
    },
    {
     "data": {
      "text/html": [
       "Syncing run <strong><a href='https://wandb.ai/andberg9-self/AST_Sweeps/runs/utorwvrq' target=\"_blank\">wobbly-sweep-99</a></strong> to <a href='https://wandb.ai/andberg9-self/AST_Sweeps' target=\"_blank\">Weights & Biases</a> (<a href='https://wandb.me/run' target=\"_blank\">docs</a>)<br/>Sweep page: <a href='https://wandb.ai/andberg9-self/AST_Sweeps/sweeps/ange3go8' target=\"_blank\">https://wandb.ai/andberg9-self/AST_Sweeps/sweeps/ange3go8</a>"
      ],
      "text/plain": [
       "<IPython.core.display.HTML object>"
      ]
     },
     "metadata": {},
     "output_type": "display_data"
    },
    {
     "data": {
      "text/html": [
       " View project at <a href='https://wandb.ai/andberg9-self/AST_Sweeps' target=\"_blank\">https://wandb.ai/andberg9-self/AST_Sweeps</a>"
      ],
      "text/plain": [
       "<IPython.core.display.HTML object>"
      ]
     },
     "metadata": {},
     "output_type": "display_data"
    },
    {
     "data": {
      "text/html": [
       " View sweep at <a href='https://wandb.ai/andberg9-self/AST_Sweeps/sweeps/ange3go8' target=\"_blank\">https://wandb.ai/andberg9-self/AST_Sweeps/sweeps/ange3go8</a>"
      ],
      "text/plain": [
       "<IPython.core.display.HTML object>"
      ]
     },
     "metadata": {},
     "output_type": "display_data"
    },
    {
     "data": {
      "text/html": [
       " View run at <a href='https://wandb.ai/andberg9-self/AST_Sweeps/runs/utorwvrq' target=\"_blank\">https://wandb.ai/andberg9-self/AST_Sweeps/runs/utorwvrq</a>"
      ],
      "text/plain": [
       "<IPython.core.display.HTML object>"
      ]
     },
     "metadata": {},
     "output_type": "display_data"
    },
    {
     "name": "stdout",
     "output_type": "stream",
     "text": [
      "ASTForAudioClassification(\n",
      "  (audio_spectrogram_transformer): ASTModel(\n",
      "    (embeddings): ASTEmbeddings(\n",
      "      (patch_embeddings): ASTPatchEmbeddings(\n",
      "        (projection): Conv2d(1, 768, kernel_size=(16, 16), stride=(10, 10))\n",
      "      )\n",
      "      (dropout): Dropout(p=0.0, inplace=False)\n",
      "    )\n",
      "    (encoder): ASTEncoder(\n",
      "      (layer): ModuleList(\n",
      "        (0-11): 12 x ASTLayer(\n",
      "          (attention): ASTSdpaAttention(\n",
      "            (attention): ASTSdpaSelfAttention(\n",
      "              (query): Linear(in_features=768, out_features=768, bias=True)\n",
      "              (key): Linear(in_features=768, out_features=768, bias=True)\n",
      "              (value): Linear(in_features=768, out_features=768, bias=True)\n",
      "              (dropout): Dropout(p=0.0, inplace=False)\n",
      "            )\n",
      "            (output): ASTSelfOutput(\n",
      "              (dense): Linear(in_features=768, out_features=768, bias=True)\n",
      "              (dropout): Dropout(p=0.0, inplace=False)\n",
      "            )\n",
      "          )\n",
      "          (intermediate): ASTIntermediate(\n",
      "            (dense): Linear(in_features=768, out_features=3072, bias=True)\n",
      "            (intermediate_act_fn): GELUActivation()\n",
      "          )\n",
      "          (output): ASTOutput(\n",
      "            (dense): Linear(in_features=3072, out_features=768, bias=True)\n",
      "            (dropout): Dropout(p=0.0, inplace=False)\n",
      "          )\n",
      "          (layernorm_before): LayerNorm((768,), eps=1e-12, elementwise_affine=True)\n",
      "          (layernorm_after): LayerNorm((768,), eps=1e-12, elementwise_affine=True)\n",
      "        )\n",
      "      )\n",
      "    )\n",
      "    (layernorm): LayerNorm((768,), eps=1e-12, elementwise_affine=True)\n",
      "  )\n",
      "  (classifier): ASTMLPHead(\n",
      "    (layernorm): LayerNorm((768,), eps=1e-12, elementwise_affine=True)\n",
      "    (dense): Linear(in_features=768, out_features=9, bias=True)\n",
      "  )\n",
      ")\n"
     ]
    },
    {
     "data": {
      "application/vnd.jupyter.widget-view+json": {
       "model_id": "095c1865ed0b4a90a2fefce06a0821b1",
       "version_major": 2,
       "version_minor": 0
      },
      "text/plain": [
       "  0%|          | 0/7 [00:00<?, ?it/s]"
      ]
     },
     "metadata": {},
     "output_type": "display_data"
    },
    {
     "name": "stdout",
     "output_type": "stream",
     "text": [
      "Epoch 1/7 | Train Loss: 1.6167 | Train Acc: 0.5153 | Train F1: 0.5149 | Test Loss: 1.0917 | Test Acc: 0.7663 | Test F1: 0.7223\n",
      "Epoch 2/7 | Train Loss: 0.8422 | Train Acc: 0.8444 | Train F1: 0.8427 | Test Loss: 0.7013 | Test Acc: 0.8859 | Test F1: 0.8857\n",
      "Epoch 3/7 | Train Loss: 0.6152 | Train Acc: 0.8736 | Train F1: 0.8720 | Test Loss: 0.5622 | Test Acc: 0.9022 | Test F1: 0.8991\n",
      "Epoch 4/7 | Train Loss: 0.5239 | Train Acc: 0.8958 | Train F1: 0.8954 | Test Loss: 0.5084 | Test Acc: 0.9130 | Test F1: 0.9149\n",
      "Epoch 5/7 | Train Loss: 0.4804 | Train Acc: 0.9069 | Train F1: 0.9076 | Test Loss: 0.4912 | Test Acc: 0.9076 | Test F1: 0.9159\n",
      "Epoch 6/7 | Train Loss: 0.4661 | Train Acc: 0.9139 | Train F1: 0.9144 | Test Loss: 0.4869 | Test Acc: 0.9130 | Test F1: 0.9159\n",
      "Epoch 7/7 | Train Loss: 0.4661 | Train Acc: 0.9139 | Train F1: 0.9144 | Test Loss: 0.4753 | Test Acc: 0.9185 | Test F1: 0.9159\n",
      "Train time on cuda: 333.2827094000022\n",
      "Inference Loss: 0.4662, Accuracy: 91.39%\n"
     ]
    },
    {
     "data": {
      "application/vnd.jupyter.widget-view+json": {
       "model_id": "838605655f3c45d1a0b55e96743f035b",
       "version_major": 2,
       "version_minor": 0
      },
      "text/plain": [
       "VBox(children=(Label(value='0.008 MB of 0.008 MB uploaded\\r'), FloatProgress(value=1.0, max=1.0)))"
      ]
     },
     "metadata": {},
     "output_type": "display_data"
    },
    {
     "data": {
      "text/html": [
       "<style>\n",
       "    table.wandb td:nth-child(1) { padding: 0 10px; text-align: left ; width: auto;} td:nth-child(2) {text-align: left ; width: 100%}\n",
       "    .wandb-row { display: flex; flex-direction: row; flex-wrap: wrap; justify-content: flex-start; width: 100% }\n",
       "    .wandb-col { display: flex; flex-direction: column; flex-basis: 100%; flex: 1; padding: 10px; }\n",
       "    </style>\n",
       "<div class=\"wandb-row\"><div class=\"wandb-col\"><h3>Run history:</h3><br/><table class=\"wandb\"><tr><td>epoch</td><td>▁▂▃▅▆▇█</td></tr><tr><td>inference_accuracy</td><td>▁</td></tr><tr><td>inference_loss</td><td>▁</td></tr><tr><td>test_acc</td><td>▁▇▇█▇██</td></tr><tr><td>test_f1</td><td>▁▇▇████</td></tr><tr><td>test_loss</td><td>█▄▂▁▁▁▁</td></tr><tr><td>test_precision</td><td>▁▇▇████</td></tr><tr><td>test_recall</td><td>▁▇▇████</td></tr><tr><td>train_acc</td><td>▁▇▇████</td></tr><tr><td>train_f1</td><td>▁▇▇████</td></tr><tr><td>train_loss</td><td>█▃▂▁▁▁▁</td></tr><tr><td>train_precision</td><td>▁▇▇████</td></tr><tr><td>train_recall</td><td>▁▇▇████</td></tr></table><br/></div><div class=\"wandb-col\"><h3>Run summary:</h3><br/><table class=\"wandb\"><tr><td>epoch</td><td>7</td></tr><tr><td>inference_accuracy</td><td>0.91389</td></tr><tr><td>inference_loss</td><td>0.46619</td></tr><tr><td>test_acc</td><td>0.91848</td></tr><tr><td>test_f1</td><td>0.91593</td></tr><tr><td>test_loss</td><td>0.47529</td></tr><tr><td>test_precision</td><td>0.91754</td></tr><tr><td>test_recall</td><td>0.91667</td></tr><tr><td>train_acc</td><td>0.91389</td></tr><tr><td>train_f1</td><td>0.91439</td></tr><tr><td>train_loss</td><td>0.46614</td></tr><tr><td>train_precision</td><td>0.91691</td></tr><tr><td>train_recall</td><td>0.91389</td></tr><tr><td>train_time</td><td>00:05:33</td></tr></table><br/></div></div>"
      ],
      "text/plain": [
       "<IPython.core.display.HTML object>"
      ]
     },
     "metadata": {},
     "output_type": "display_data"
    },
    {
     "data": {
      "text/html": [
       " View run <strong style=\"color:#cdcd00\">wobbly-sweep-99</strong> at: <a href='https://wandb.ai/andberg9-self/AST_Sweeps/runs/utorwvrq' target=\"_blank\">https://wandb.ai/andberg9-self/AST_Sweeps/runs/utorwvrq</a><br/> View project at: <a href='https://wandb.ai/andberg9-self/AST_Sweeps' target=\"_blank\">https://wandb.ai/andberg9-self/AST_Sweeps</a><br/>Synced 5 W&B file(s), 0 media file(s), 0 artifact file(s) and 0 other file(s)"
      ],
      "text/plain": [
       "<IPython.core.display.HTML object>"
      ]
     },
     "metadata": {},
     "output_type": "display_data"
    },
    {
     "data": {
      "text/html": [
       "Find logs at: <code>.\\wandb\\run-20240925_203406-utorwvrq\\logs</code>"
      ],
      "text/plain": [
       "<IPython.core.display.HTML object>"
      ]
     },
     "metadata": {},
     "output_type": "display_data"
    },
    {
     "name": "stderr",
     "output_type": "stream",
     "text": [
      "wandb: Agent Starting Run: 1lrf7jgi with config:\n",
      "wandb: \tbatch_size: 16\n",
      "wandb: \tepochs: 7\n",
      "wandb: \tlearning_rate: 0.0007086596902234274\n",
      "wandb: \toptimizer: adamW\n",
      "wandb: \tscheduler: PolynomialLR\n"
     ]
    },
    {
     "data": {
      "text/html": [
       "Tracking run with wandb version 0.18.1"
      ],
      "text/plain": [
       "<IPython.core.display.HTML object>"
      ]
     },
     "metadata": {},
     "output_type": "display_data"
    },
    {
     "data": {
      "text/html": [
       "Run data is saved locally in <code>c:\\Users\\Sidewinders\\Research_notebooks\\Drone_classification\\Research\\notebooks\\wandb\\run-20240925_204001-1lrf7jgi</code>"
      ],
      "text/plain": [
       "<IPython.core.display.HTML object>"
      ]
     },
     "metadata": {},
     "output_type": "display_data"
    },
    {
     "data": {
      "text/html": [
       "Syncing run <strong><a href='https://wandb.ai/andberg9-self/AST_Sweeps/runs/1lrf7jgi' target=\"_blank\">rosy-sweep-100</a></strong> to <a href='https://wandb.ai/andberg9-self/AST_Sweeps' target=\"_blank\">Weights & Biases</a> (<a href='https://wandb.me/run' target=\"_blank\">docs</a>)<br/>Sweep page: <a href='https://wandb.ai/andberg9-self/AST_Sweeps/sweeps/ange3go8' target=\"_blank\">https://wandb.ai/andberg9-self/AST_Sweeps/sweeps/ange3go8</a>"
      ],
      "text/plain": [
       "<IPython.core.display.HTML object>"
      ]
     },
     "metadata": {},
     "output_type": "display_data"
    },
    {
     "data": {
      "text/html": [
       " View project at <a href='https://wandb.ai/andberg9-self/AST_Sweeps' target=\"_blank\">https://wandb.ai/andberg9-self/AST_Sweeps</a>"
      ],
      "text/plain": [
       "<IPython.core.display.HTML object>"
      ]
     },
     "metadata": {},
     "output_type": "display_data"
    },
    {
     "data": {
      "text/html": [
       " View sweep at <a href='https://wandb.ai/andberg9-self/AST_Sweeps/sweeps/ange3go8' target=\"_blank\">https://wandb.ai/andberg9-self/AST_Sweeps/sweeps/ange3go8</a>"
      ],
      "text/plain": [
       "<IPython.core.display.HTML object>"
      ]
     },
     "metadata": {},
     "output_type": "display_data"
    },
    {
     "data": {
      "text/html": [
       " View run at <a href='https://wandb.ai/andberg9-self/AST_Sweeps/runs/1lrf7jgi' target=\"_blank\">https://wandb.ai/andberg9-self/AST_Sweeps/runs/1lrf7jgi</a>"
      ],
      "text/plain": [
       "<IPython.core.display.HTML object>"
      ]
     },
     "metadata": {},
     "output_type": "display_data"
    },
    {
     "name": "stdout",
     "output_type": "stream",
     "text": [
      "ASTForAudioClassification(\n",
      "  (audio_spectrogram_transformer): ASTModel(\n",
      "    (embeddings): ASTEmbeddings(\n",
      "      (patch_embeddings): ASTPatchEmbeddings(\n",
      "        (projection): Conv2d(1, 768, kernel_size=(16, 16), stride=(10, 10))\n",
      "      )\n",
      "      (dropout): Dropout(p=0.0, inplace=False)\n",
      "    )\n",
      "    (encoder): ASTEncoder(\n",
      "      (layer): ModuleList(\n",
      "        (0-11): 12 x ASTLayer(\n",
      "          (attention): ASTSdpaAttention(\n",
      "            (attention): ASTSdpaSelfAttention(\n",
      "              (query): Linear(in_features=768, out_features=768, bias=True)\n",
      "              (key): Linear(in_features=768, out_features=768, bias=True)\n",
      "              (value): Linear(in_features=768, out_features=768, bias=True)\n",
      "              (dropout): Dropout(p=0.0, inplace=False)\n",
      "            )\n",
      "            (output): ASTSelfOutput(\n",
      "              (dense): Linear(in_features=768, out_features=768, bias=True)\n",
      "              (dropout): Dropout(p=0.0, inplace=False)\n",
      "            )\n",
      "          )\n",
      "          (intermediate): ASTIntermediate(\n",
      "            (dense): Linear(in_features=768, out_features=3072, bias=True)\n",
      "            (intermediate_act_fn): GELUActivation()\n",
      "          )\n",
      "          (output): ASTOutput(\n",
      "            (dense): Linear(in_features=3072, out_features=768, bias=True)\n",
      "            (dropout): Dropout(p=0.0, inplace=False)\n",
      "          )\n",
      "          (layernorm_before): LayerNorm((768,), eps=1e-12, elementwise_affine=True)\n",
      "          (layernorm_after): LayerNorm((768,), eps=1e-12, elementwise_affine=True)\n",
      "        )\n",
      "      )\n",
      "    )\n",
      "    (layernorm): LayerNorm((768,), eps=1e-12, elementwise_affine=True)\n",
      "  )\n",
      "  (classifier): ASTMLPHead(\n",
      "    (layernorm): LayerNorm((768,), eps=1e-12, elementwise_affine=True)\n",
      "    (dense): Linear(in_features=768, out_features=9, bias=True)\n",
      "  )\n",
      ")\n"
     ]
    },
    {
     "data": {
      "application/vnd.jupyter.widget-view+json": {
       "model_id": "1dce5d4f38374048978864ce7a9466b2",
       "version_major": 2,
       "version_minor": 0
      },
      "text/plain": [
       "  0%|          | 0/7 [00:00<?, ?it/s]"
      ]
     },
     "metadata": {},
     "output_type": "display_data"
    },
    {
     "name": "stdout",
     "output_type": "stream",
     "text": [
      "Epoch 1/7 | Train Loss: 1.7158 | Train Acc: 0.4625 | Train F1: 0.4613 | Test Loss: 1.1552 | Test Acc: 0.7448 | Test F1: 0.7258\n",
      "Epoch 2/7 | Train Loss: 0.9615 | Train Acc: 0.7847 | Train F1: 0.7756 | Test Loss: 0.7968 | Test Acc: 0.8333 | Test F1: 0.8335\n",
      "Epoch 3/7 | Train Loss: 0.6915 | Train Acc: 0.8431 | Train F1: 0.8411 | Test Loss: 0.6362 | Test Acc: 0.8646 | Test F1: 0.8699\n",
      "Epoch 4/7 | Train Loss: 0.5846 | Train Acc: 0.8681 | Train F1: 0.8670 | Test Loss: 0.5556 | Test Acc: 0.8906 | Test F1: 0.8981\n",
      "Epoch 5/7 | Train Loss: 0.5351 | Train Acc: 0.8861 | Train F1: 0.8866 | Test Loss: 0.5135 | Test Acc: 0.9010 | Test F1: 0.8933\n",
      "Epoch 6/7 | Train Loss: 0.5186 | Train Acc: 0.8972 | Train F1: 0.8983 | Test Loss: 0.5470 | Test Acc: 0.8698 | Test F1: 0.8933\n",
      "Epoch 7/7 | Train Loss: 0.5186 | Train Acc: 0.8972 | Train F1: 0.8983 | Test Loss: 0.5264 | Test Acc: 0.9010 | Test F1: 0.8933\n",
      "Train time on cuda: 334.74230759999773\n",
      "Inference Loss: 0.5186, Accuracy: 89.72%\n"
     ]
    },
    {
     "data": {
      "application/vnd.jupyter.widget-view+json": {
       "model_id": "e0831dc397264bc994e11f12ecedef18",
       "version_major": 2,
       "version_minor": 0
      },
      "text/plain": [
       "VBox(children=(Label(value='0.008 MB of 0.008 MB uploaded\\r'), FloatProgress(value=1.0, max=1.0)))"
      ]
     },
     "metadata": {},
     "output_type": "display_data"
    },
    {
     "data": {
      "text/html": [
       "<style>\n",
       "    table.wandb td:nth-child(1) { padding: 0 10px; text-align: left ; width: auto;} td:nth-child(2) {text-align: left ; width: 100%}\n",
       "    .wandb-row { display: flex; flex-direction: row; flex-wrap: wrap; justify-content: flex-start; width: 100% }\n",
       "    .wandb-col { display: flex; flex-direction: column; flex-basis: 100%; flex: 1; padding: 10px; }\n",
       "    </style>\n",
       "<div class=\"wandb-row\"><div class=\"wandb-col\"><h3>Run history:</h3><br/><table class=\"wandb\"><tr><td>epoch</td><td>▁▂▃▅▆▇█</td></tr><tr><td>inference_accuracy</td><td>▁</td></tr><tr><td>inference_loss</td><td>▁</td></tr><tr><td>test_acc</td><td>▁▅▆██▇█</td></tr><tr><td>test_f1</td><td>▁▅▇████</td></tr><tr><td>test_loss</td><td>█▄▂▁▁▁▁</td></tr><tr><td>test_precision</td><td>▁▅▆████</td></tr><tr><td>test_recall</td><td>▁▅▇████</td></tr><tr><td>train_acc</td><td>▁▆▇████</td></tr><tr><td>train_f1</td><td>▁▆▇▇███</td></tr><tr><td>train_loss</td><td>█▄▂▁▁▁▁</td></tr><tr><td>train_precision</td><td>▁▆▇▇███</td></tr><tr><td>train_recall</td><td>▁▆▇████</td></tr></table><br/></div><div class=\"wandb-col\"><h3>Run summary:</h3><br/><table class=\"wandb\"><tr><td>epoch</td><td>7</td></tr><tr><td>inference_accuracy</td><td>0.89722</td></tr><tr><td>inference_loss</td><td>0.51858</td></tr><tr><td>test_acc</td><td>0.90104</td></tr><tr><td>test_f1</td><td>0.89329</td></tr><tr><td>test_loss</td><td>0.52637</td></tr><tr><td>test_precision</td><td>0.90506</td></tr><tr><td>test_recall</td><td>0.89444</td></tr><tr><td>train_acc</td><td>0.89722</td></tr><tr><td>train_f1</td><td>0.89828</td></tr><tr><td>train_loss</td><td>0.51855</td></tr><tr><td>train_precision</td><td>0.90133</td></tr><tr><td>train_recall</td><td>0.89722</td></tr><tr><td>train_time</td><td>00:05:34</td></tr></table><br/></div></div>"
      ],
      "text/plain": [
       "<IPython.core.display.HTML object>"
      ]
     },
     "metadata": {},
     "output_type": "display_data"
    },
    {
     "data": {
      "text/html": [
       " View run <strong style=\"color:#cdcd00\">rosy-sweep-100</strong> at: <a href='https://wandb.ai/andberg9-self/AST_Sweeps/runs/1lrf7jgi' target=\"_blank\">https://wandb.ai/andberg9-self/AST_Sweeps/runs/1lrf7jgi</a><br/> View project at: <a href='https://wandb.ai/andberg9-self/AST_Sweeps' target=\"_blank\">https://wandb.ai/andberg9-self/AST_Sweeps</a><br/>Synced 5 W&B file(s), 0 media file(s), 0 artifact file(s) and 0 other file(s)"
      ],
      "text/plain": [
       "<IPython.core.display.HTML object>"
      ]
     },
     "metadata": {},
     "output_type": "display_data"
    },
    {
     "data": {
      "text/html": [
       "Find logs at: <code>.\\wandb\\run-20240925_204001-1lrf7jgi\\logs</code>"
      ],
      "text/plain": [
       "<IPython.core.display.HTML object>"
      ]
     },
     "metadata": {},
     "output_type": "display_data"
    }
   ],
   "source": [
    "# model,result = model_pipeline(config)\n",
    "wandb.agent(sweep_id, model_pipeline, count=sweep_count)"
   ]
  },
  {
   "cell_type": "code",
   "execution_count": 8,
   "metadata": {},
   "outputs": [],
   "source": [
    "# inference_loop(model=model,\n",
    "#                device=device,\n",
    "#                loss_fn=loss_fn,\n",
    "#                inference_loader= inference_dataloader_custom)\n",
    "\n",
    "\n",
    "\n",
    "# if not multiple_runs and wandb_init:\n",
    "#     wandb.finish()"
   ]
  },
  {
   "cell_type": "code",
   "execution_count": 9,
   "metadata": {},
   "outputs": [],
   "source": [
    "# if SAVE_MODEL:\n",
    "#     save_model(model=model,\n",
    "#             target_dir=\"saved_models\",\n",
    "#             model_name=\"AST_classifier_true.pt\")"
   ]
  }
 ],
 "metadata": {
  "kernelspec": {
   "display_name": "Research",
   "language": "python",
   "name": "python3"
  },
  "language_info": {
   "codemirror_mode": {
    "name": "ipython",
    "version": 3
   },
   "file_extension": ".py",
   "mimetype": "text/x-python",
   "name": "python",
   "nbconvert_exporter": "python",
   "pygments_lexer": "ipython3",
   "version": "3.11.9"
  }
 },
 "nbformat": 4,
 "nbformat_minor": 2
}
