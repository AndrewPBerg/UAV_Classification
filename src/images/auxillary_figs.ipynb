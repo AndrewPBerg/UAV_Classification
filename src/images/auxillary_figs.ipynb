{
 "cells": [
  {
   "cell_type": "code",
   "execution_count": null,
   "id": "c1a4ab98",
   "metadata": {},
   "outputs": [],
   "source": [
    "# run models and plot results on conf matrices, ROC curves, and AUC curves"
   ]
  }
 ],
 "metadata": {
  "kernelspec": {
   "display_name": "srcnew",
   "language": "python",
   "name": "python3"
  },
  "language_info": {
   "name": "python",
   "version": "3.13.3"
  }
 },
 "nbformat": 4,
 "nbformat_minor": 5
}
